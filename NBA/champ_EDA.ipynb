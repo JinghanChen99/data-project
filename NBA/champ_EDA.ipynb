{
 "cells": [
  {
   "cell_type": "code",
   "metadata": {
    "tags": [],
    "cell_id": "00000-9bb86a43-7424-4fcd-8bc9-eb2474793e94",
    "deepnote_to_be_reexecuted": false,
    "source_hash": "c76c7c51",
    "execution_start": 1622940990050,
    "execution_millis": 2,
    "deepnote_cell_type": "code"
   },
   "source": "import pandas as pd\nimport numpy as np",
   "outputs": [],
   "execution_count": null
  },
  {
   "cell_type": "code",
   "source": "seasons = pd.read_csv('nba_seasons.csv')\nseasons.head()",
   "metadata": {
    "tags": [],
    "cell_id": "00001-064c028a-4fd3-4d35-8d65-d6f868dcb98e",
    "deepnote_to_be_reexecuted": false,
    "source_hash": "48235428",
    "execution_start": 1622940990058,
    "execution_millis": 215,
    "deepnote_cell_type": "code"
   },
   "outputs": [
    {
     "output_type": "execute_result",
     "execution_count": 2,
     "data": {
      "application/vnd.deepnote.dataframe.v2+json": {
       "row_count": 5,
       "column_count": 50,
       "columns": [
        {
         "name": "Rk_team",
         "dtype": "float64",
         "stats": {
          "unique_count": 5,
          "nan_count": 0,
          "min": "1.0",
          "max": "5.0",
          "histogram": [
           {
            "bin_start": 1,
            "bin_end": 1.4,
            "count": 1
           },
           {
            "bin_start": 1.4,
            "bin_end": 1.8,
            "count": 0
           },
           {
            "bin_start": 1.8,
            "bin_end": 2.2,
            "count": 1
           },
           {
            "bin_start": 2.2,
            "bin_end": 2.6,
            "count": 0
           },
           {
            "bin_start": 2.6,
            "bin_end": 3,
            "count": 0
           },
           {
            "bin_start": 3,
            "bin_end": 3.4000000000000004,
            "count": 1
           },
           {
            "bin_start": 3.4000000000000004,
            "bin_end": 3.8000000000000003,
            "count": 0
           },
           {
            "bin_start": 3.8000000000000003,
            "bin_end": 4.2,
            "count": 1
           },
           {
            "bin_start": 4.2,
            "bin_end": 4.6,
            "count": 0
           },
           {
            "bin_start": 4.6,
            "bin_end": 5,
            "count": 1
           }
          ]
         }
        },
        {
         "name": "Team",
         "dtype": "object",
         "stats": {
          "unique_count": 5,
          "nan_count": 0,
          "categories": [
           {
            "name": "San Antonio Spurs",
            "count": 1
           },
           {
            "name": "Los Angeles Lakers",
            "count": 1
           },
           {
            "name": "3 others",
            "count": 3
           }
          ]
         }
        },
        {
         "name": "G_team",
         "dtype": "int64",
         "stats": {
          "unique_count": 1,
          "nan_count": 0,
          "min": "82",
          "max": "82",
          "histogram": [
           {
            "bin_start": 81.5,
            "bin_end": 81.6,
            "count": 0
           },
           {
            "bin_start": 81.6,
            "bin_end": 81.7,
            "count": 0
           },
           {
            "bin_start": 81.7,
            "bin_end": 81.8,
            "count": 0
           },
           {
            "bin_start": 81.8,
            "bin_end": 81.9,
            "count": 0
           },
           {
            "bin_start": 81.9,
            "bin_end": 82,
            "count": 0
           },
           {
            "bin_start": 82,
            "bin_end": 82.1,
            "count": 5
           },
           {
            "bin_start": 82.1,
            "bin_end": 82.2,
            "count": 0
           },
           {
            "bin_start": 82.2,
            "bin_end": 82.3,
            "count": 0
           },
           {
            "bin_start": 82.3,
            "bin_end": 82.4,
            "count": 0
           },
           {
            "bin_start": 82.4,
            "bin_end": 82.5,
            "count": 0
           }
          ]
         }
        },
        {
         "name": "MP",
         "dtype": "float64",
         "stats": {
          "unique_count": 4,
          "nan_count": 0,
          "min": "240.9",
          "max": "243.0",
          "histogram": [
           {
            "bin_start": 240.9,
            "bin_end": 241.11,
            "count": 1
           },
           {
            "bin_start": 241.11,
            "bin_end": 241.32,
            "count": 1
           },
           {
            "bin_start": 241.32,
            "bin_end": 241.53,
            "count": 0
           },
           {
            "bin_start": 241.53,
            "bin_end": 241.74,
            "count": 0
           },
           {
            "bin_start": 241.74,
            "bin_end": 241.95,
            "count": 0
           },
           {
            "bin_start": 241.95,
            "bin_end": 242.16,
            "count": 0
           },
           {
            "bin_start": 242.16,
            "bin_end": 242.37,
            "count": 0
           },
           {
            "bin_start": 242.37,
            "bin_end": 242.58,
            "count": 2
           },
           {
            "bin_start": 242.58,
            "bin_end": 242.79,
            "count": 0
           },
           {
            "bin_start": 242.79,
            "bin_end": 243,
            "count": 1
           }
          ]
         }
        },
        {
         "name": "FG_team",
         "dtype": "float64",
         "stats": {
          "unique_count": 5,
          "nan_count": 0,
          "min": "44.1",
          "max": "47.5",
          "histogram": [
           {
            "bin_start": 44.1,
            "bin_end": 44.44,
            "count": 1
           },
           {
            "bin_start": 44.44,
            "bin_end": 44.78,
            "count": 0
           },
           {
            "bin_start": 44.78,
            "bin_end": 45.120000000000005,
            "count": 0
           },
           {
            "bin_start": 45.120000000000005,
            "bin_end": 45.46,
            "count": 0
           },
           {
            "bin_start": 45.46,
            "bin_end": 45.8,
            "count": 0
           },
           {
            "bin_start": 45.8,
            "bin_end": 46.14,
            "count": 0
           },
           {
            "bin_start": 46.14,
            "bin_end": 46.480000000000004,
            "count": 1
           },
           {
            "bin_start": 46.480000000000004,
            "bin_end": 46.82,
            "count": 1
           },
           {
            "bin_start": 46.82,
            "bin_end": 47.16,
            "count": 1
           },
           {
            "bin_start": 47.16,
            "bin_end": 47.5,
            "count": 1
           }
          ]
         }
        },
        {
         "name": "FGA_team",
         "dtype": "float64",
         "stats": {
          "unique_count": 5,
          "nan_count": 0,
          "min": "89.9",
          "max": "98.1",
          "histogram": [
           {
            "bin_start": 89.9,
            "bin_end": 90.72,
            "count": 2
           },
           {
            "bin_start": 90.72,
            "bin_end": 91.54,
            "count": 0
           },
           {
            "bin_start": 91.54,
            "bin_end": 92.36,
            "count": 0
           },
           {
            "bin_start": 92.36,
            "bin_end": 93.18,
            "count": 0
           },
           {
            "bin_start": 93.18,
            "bin_end": 94,
            "count": 1
           },
           {
            "bin_start": 94,
            "bin_end": 94.82,
            "count": 1
           },
           {
            "bin_start": 94.82,
            "bin_end": 95.64,
            "count": 0
           },
           {
            "bin_start": 95.64,
            "bin_end": 96.46,
            "count": 0
           },
           {
            "bin_start": 96.46,
            "bin_end": 97.28,
            "count": 0
           },
           {
            "bin_start": 97.28,
            "bin_end": 98.1,
            "count": 1
           }
          ]
         }
        },
        {
         "name": "FG%_team",
         "dtype": "float64",
         "stats": {
          "unique_count": 5,
          "nan_count": 0,
          "min": "0.474",
          "max": "0.529",
          "histogram": [
           {
            "bin_start": 0.474,
            "bin_end": 0.4795,
            "count": 1
           },
           {
            "bin_start": 0.4795,
            "bin_end": 0.485,
            "count": 0
           },
           {
            "bin_start": 0.485,
            "bin_end": 0.4905,
            "count": 1
           },
           {
            "bin_start": 0.4905,
            "bin_end": 0.496,
            "count": 0
           },
           {
            "bin_start": 0.496,
            "bin_end": 0.5015000000000001,
            "count": 2
           },
           {
            "bin_start": 0.5015000000000001,
            "bin_end": 0.507,
            "count": 0
           },
           {
            "bin_start": 0.507,
            "bin_end": 0.5125,
            "count": 0
           },
           {
            "bin_start": 0.5125,
            "bin_end": 0.518,
            "count": 0
           },
           {
            "bin_start": 0.518,
            "bin_end": 0.5235000000000001,
            "count": 0
           },
           {
            "bin_start": 0.5235000000000001,
            "bin_end": 0.529,
            "count": 1
           }
          ]
         }
        },
        {
         "name": "3P_team",
         "dtype": "float64",
         "stats": {
          "unique_count": 5,
          "nan_count": 0,
          "min": "0.2",
          "max": "2.0",
          "histogram": [
           {
            "bin_start": 0.2,
            "bin_end": 0.38,
            "count": 1
           },
           {
            "bin_start": 0.38,
            "bin_end": 0.56,
            "count": 2
           },
           {
            "bin_start": 0.56,
            "bin_end": 0.74,
            "count": 1
           },
           {
            "bin_start": 0.74,
            "bin_end": 0.9199999999999999,
            "count": 0
           },
           {
            "bin_start": 0.9199999999999999,
            "bin_end": 1.0999999999999999,
            "count": 0
           },
           {
            "bin_start": 1.0999999999999999,
            "bin_end": 1.28,
            "count": 0
           },
           {
            "bin_start": 1.28,
            "bin_end": 1.46,
            "count": 0
           },
           {
            "bin_start": 1.46,
            "bin_end": 1.64,
            "count": 0
           },
           {
            "bin_start": 1.64,
            "bin_end": 1.8199999999999998,
            "count": 0
           },
           {
            "bin_start": 1.8199999999999998,
            "bin_end": 2,
            "count": 1
           }
          ]
         }
        },
        {
         "name": "3PA_team",
         "dtype": "float64",
         "stats": {
          "unique_count": 4,
          "nan_count": 0,
          "min": "1.2",
          "max": "5.1",
          "histogram": [
           {
            "bin_start": 1.2,
            "bin_end": 1.5899999999999999,
            "count": 1
           },
           {
            "bin_start": 1.5899999999999999,
            "bin_end": 1.98,
            "count": 0
           },
           {
            "bin_start": 1.98,
            "bin_end": 2.37,
            "count": 2
           },
           {
            "bin_start": 2.37,
            "bin_end": 2.76,
            "count": 1
           },
           {
            "bin_start": 2.76,
            "bin_end": 3.1499999999999995,
            "count": 0
           },
           {
            "bin_start": 3.1499999999999995,
            "bin_end": 3.54,
            "count": 0
           },
           {
            "bin_start": 3.54,
            "bin_end": 3.9299999999999997,
            "count": 0
           },
           {
            "bin_start": 3.9299999999999997,
            "bin_end": 4.319999999999999,
            "count": 0
           },
           {
            "bin_start": 4.319999999999999,
            "bin_end": 4.71,
            "count": 0
           },
           {
            "bin_start": 4.71,
            "bin_end": 5.1,
            "count": 1
           }
          ]
         }
        },
        {
         "name": "3P%_team",
         "dtype": "float64",
         "stats": {
          "unique_count": 5,
          "nan_count": 0,
          "min": "0.193",
          "max": "0.384",
          "histogram": [
           {
            "bin_start": 0.193,
            "bin_end": 0.2121,
            "count": 2
           },
           {
            "bin_start": 0.2121,
            "bin_end": 0.23120000000000002,
            "count": 1
           },
           {
            "bin_start": 0.23120000000000002,
            "bin_end": 0.2503,
            "count": 0
           },
           {
            "bin_start": 0.2503,
            "bin_end": 0.2694,
            "count": 1
           },
           {
            "bin_start": 0.2694,
            "bin_end": 0.2885,
            "count": 0
           },
           {
            "bin_start": 0.2885,
            "bin_end": 0.3076,
            "count": 0
           },
           {
            "bin_start": 0.3076,
            "bin_end": 0.3267,
            "count": 0
           },
           {
            "bin_start": 0.3267,
            "bin_end": 0.3458,
            "count": 0
           },
           {
            "bin_start": 0.3458,
            "bin_end": 0.3649,
            "count": 0
           },
           {
            "bin_start": 0.3649,
            "bin_end": 0.384,
            "count": 1
           }
          ]
         }
        },
        {
         "name": "2P_team",
         "dtype": "float64",
         "stats": {
          "unique_count": 5,
          "nan_count": 0,
          "min": "42.1",
          "max": "47.3",
          "histogram": [
           {
            "bin_start": 42.1,
            "bin_end": 42.620000000000005,
            "count": 1
           },
           {
            "bin_start": 42.620000000000005,
            "bin_end": 43.14,
            "count": 0
           },
           {
            "bin_start": 43.14,
            "bin_end": 43.66,
            "count": 0
           },
           {
            "bin_start": 43.66,
            "bin_end": 44.18,
            "count": 0
           },
           {
            "bin_start": 44.18,
            "bin_end": 44.7,
            "count": 0
           },
           {
            "bin_start": 44.7,
            "bin_end": 45.22,
            "count": 0
           },
           {
            "bin_start": 45.22,
            "bin_end": 45.739999999999995,
            "count": 0
           },
           {
            "bin_start": 45.739999999999995,
            "bin_end": 46.26,
            "count": 2
           },
           {
            "bin_start": 46.26,
            "bin_end": 46.78,
            "count": 1
           },
           {
            "bin_start": 46.78,
            "bin_end": 47.3,
            "count": 1
           }
          ]
         }
        },
        {
         "name": "2PA_team",
         "dtype": "float64",
         "stats": {
          "unique_count": 5,
          "nan_count": 0,
          "min": "84.9",
          "max": "95.8",
          "histogram": [
           {
            "bin_start": 84.9,
            "bin_end": 85.99000000000001,
            "count": 1
           },
           {
            "bin_start": 85.99000000000001,
            "bin_end": 87.08,
            "count": 0
           },
           {
            "bin_start": 87.08,
            "bin_end": 88.17,
            "count": 0
           },
           {
            "bin_start": 88.17,
            "bin_end": 89.26,
            "count": 1
           },
           {
            "bin_start": 89.26,
            "bin_end": 90.35,
            "count": 0
           },
           {
            "bin_start": 90.35,
            "bin_end": 91.44,
            "count": 1
           },
           {
            "bin_start": 91.44,
            "bin_end": 92.53,
            "count": 1
           },
           {
            "bin_start": 92.53,
            "bin_end": 93.62,
            "count": 0
           },
           {
            "bin_start": 93.62,
            "bin_end": 94.71,
            "count": 0
           },
           {
            "bin_start": 94.71,
            "bin_end": 95.8,
            "count": 1
           }
          ]
         }
        },
        {
         "name": "2P%_team",
         "dtype": "float64",
         "stats": {
          "unique_count": 5,
          "nan_count": 0,
          "min": "0.481",
          "max": "0.534",
          "histogram": [
           {
            "bin_start": 0.481,
            "bin_end": 0.4863,
            "count": 1
           },
           {
            "bin_start": 0.4863,
            "bin_end": 0.4916,
            "count": 0
           },
           {
            "bin_start": 0.4916,
            "bin_end": 0.4969,
            "count": 1
           },
           {
            "bin_start": 0.4969,
            "bin_end": 0.5022,
            "count": 0
           },
           {
            "bin_start": 0.5022,
            "bin_end": 0.5075000000000001,
            "count": 2
           },
           {
            "bin_start": 0.5075000000000001,
            "bin_end": 0.5128,
            "count": 0
           },
           {
            "bin_start": 0.5128,
            "bin_end": 0.5181,
            "count": 0
           },
           {
            "bin_start": 0.5181,
            "bin_end": 0.5234,
            "count": 0
           },
           {
            "bin_start": 0.5234,
            "bin_end": 0.5287000000000001,
            "count": 0
           },
           {
            "bin_start": 0.5287000000000001,
            "bin_end": 0.534,
            "count": 1
           }
          ]
         }
        },
        {
         "name": "FT_team",
         "dtype": "float64",
         "stats": {
          "unique_count": 5,
          "nan_count": 0,
          "min": "19.8",
          "max": "24.7",
          "histogram": [
           {
            "bin_start": 19.8,
            "bin_end": 20.29,
            "count": 1
           },
           {
            "bin_start": 20.29,
            "bin_end": 20.78,
            "count": 1
           },
           {
            "bin_start": 20.78,
            "bin_end": 21.27,
            "count": 1
           },
           {
            "bin_start": 21.27,
            "bin_end": 21.76,
            "count": 0
           },
           {
            "bin_start": 21.76,
            "bin_end": 22.25,
            "count": 0
           },
           {
            "bin_start": 22.25,
            "bin_end": 22.740000000000002,
            "count": 0
           },
           {
            "bin_start": 22.740000000000002,
            "bin_end": 23.23,
            "count": 0
           },
           {
            "bin_start": 23.23,
            "bin_end": 23.72,
            "count": 1
           },
           {
            "bin_start": 23.72,
            "bin_end": 24.21,
            "count": 0
           },
           {
            "bin_start": 24.21,
            "bin_end": 24.7,
            "count": 1
           }
          ]
         }
        },
        {
         "name": "FTA_team",
         "dtype": "float64",
         "stats": {
          "unique_count": 5,
          "nan_count": 0,
          "min": "25.5",
          "max": "30.8",
          "histogram": [
           {
            "bin_start": 25.5,
            "bin_end": 26.03,
            "count": 1
           },
           {
            "bin_start": 26.03,
            "bin_end": 26.56,
            "count": 0
           },
           {
            "bin_start": 26.56,
            "bin_end": 27.09,
            "count": 1
           },
           {
            "bin_start": 27.09,
            "bin_end": 27.62,
            "count": 0
           },
           {
            "bin_start": 27.62,
            "bin_end": 28.15,
            "count": 1
           },
           {
            "bin_start": 28.15,
            "bin_end": 28.68,
            "count": 0
           },
           {
            "bin_start": 28.68,
            "bin_end": 29.21,
            "count": 0
           },
           {
            "bin_start": 29.21,
            "bin_end": 29.740000000000002,
            "count": 0
           },
           {
            "bin_start": 29.740000000000002,
            "bin_end": 30.27,
            "count": 1
           },
           {
            "bin_start": 30.27,
            "bin_end": 30.8,
            "count": 1
           }
          ]
         }
        },
        {
         "name": "FT%_team",
         "dtype": "float64",
         "stats": {
          "unique_count": 5,
          "nan_count": 0,
          "min": "0.747",
          "max": "0.8009999999999999",
          "histogram": [
           {
            "bin_start": 0.747,
            "bin_end": 0.7524,
            "count": 1
           },
           {
            "bin_start": 0.7524,
            "bin_end": 0.7578,
            "count": 0
           },
           {
            "bin_start": 0.7578,
            "bin_end": 0.7632,
            "count": 0
           },
           {
            "bin_start": 0.7632,
            "bin_end": 0.7686,
            "count": 0
           },
           {
            "bin_start": 0.7686,
            "bin_end": 0.774,
            "count": 1
           },
           {
            "bin_start": 0.774,
            "bin_end": 0.7794,
            "count": 2
           },
           {
            "bin_start": 0.7794,
            "bin_end": 0.7847999999999999,
            "count": 0
           },
           {
            "bin_start": 0.7847999999999999,
            "bin_end": 0.7901999999999999,
            "count": 0
           },
           {
            "bin_start": 0.7901999999999999,
            "bin_end": 0.7956,
            "count": 0
           },
           {
            "bin_start": 0.7956,
            "bin_end": 0.8009999999999999,
            "count": 1
           }
          ]
         }
        },
        {
         "name": "ORB_team",
         "dtype": "float64",
         "stats": {
          "unique_count": 5,
          "nan_count": 0,
          "min": "13.2",
          "max": "15.9",
          "histogram": [
           {
            "bin_start": 13.2,
            "bin_end": 13.469999999999999,
            "count": 1
           },
           {
            "bin_start": 13.469999999999999,
            "bin_end": 13.74,
            "count": 0
           },
           {
            "bin_start": 13.74,
            "bin_end": 14.01,
            "count": 0
           },
           {
            "bin_start": 14.01,
            "bin_end": 14.28,
            "count": 1
           },
           {
            "bin_start": 14.28,
            "bin_end": 14.55,
            "count": 0
           },
           {
            "bin_start": 14.55,
            "bin_end": 14.82,
            "count": 0
           },
           {
            "bin_start": 14.82,
            "bin_end": 15.09,
            "count": 1
           },
           {
            "bin_start": 15.09,
            "bin_end": 15.36,
            "count": 1
           },
           {
            "bin_start": 15.36,
            "bin_end": 15.63,
            "count": 0
           },
           {
            "bin_start": 15.63,
            "bin_end": 15.9,
            "count": 1
           }
          ]
         }
        },
        {
         "name": "DRB_team",
         "dtype": "float64",
         "stats": {
          "unique_count": 5,
          "nan_count": 0,
          "min": "28.1",
          "max": "32.4",
          "histogram": [
           {
            "bin_start": 28.1,
            "bin_end": 28.53,
            "count": 1
           },
           {
            "bin_start": 28.53,
            "bin_end": 28.96,
            "count": 0
           },
           {
            "bin_start": 28.96,
            "bin_end": 29.39,
            "count": 1
           },
           {
            "bin_start": 29.39,
            "bin_end": 29.82,
            "count": 0
           },
           {
            "bin_start": 29.82,
            "bin_end": 30.25,
            "count": 1
           },
           {
            "bin_start": 30.25,
            "bin_end": 30.68,
            "count": 0
           },
           {
            "bin_start": 30.68,
            "bin_end": 31.11,
            "count": 1
           },
           {
            "bin_start": 31.11,
            "bin_end": 31.54,
            "count": 0
           },
           {
            "bin_start": 31.54,
            "bin_end": 31.97,
            "count": 0
           },
           {
            "bin_start": 31.97,
            "bin_end": 32.4,
            "count": 1
           }
          ]
         }
        },
        {
         "name": "TRB_team",
         "dtype": "float64",
         "stats": {
          "unique_count": 5,
          "nan_count": 0,
          "min": "43.2",
          "max": "45.6",
          "histogram": [
           {
            "bin_start": 43.2,
            "bin_end": 43.440000000000005,
            "count": 1
           },
           {
            "bin_start": 43.440000000000005,
            "bin_end": 43.68,
            "count": 0
           },
           {
            "bin_start": 43.68,
            "bin_end": 43.92,
            "count": 0
           },
           {
            "bin_start": 43.92,
            "bin_end": 44.160000000000004,
            "count": 0
           },
           {
            "bin_start": 44.160000000000004,
            "bin_end": 44.400000000000006,
            "count": 0
           },
           {
            "bin_start": 44.400000000000006,
            "bin_end": 44.64,
            "count": 0
           },
           {
            "bin_start": 44.64,
            "bin_end": 44.88,
            "count": 1
           },
           {
            "bin_start": 44.88,
            "bin_end": 45.120000000000005,
            "count": 2
           },
           {
            "bin_start": 45.120000000000005,
            "bin_end": 45.36,
            "count": 0
           },
           {
            "bin_start": 45.36,
            "bin_end": 45.6,
            "count": 1
           }
          ]
         }
        },
        {
         "name": "AST_team",
         "dtype": "float64",
         "stats": {
          "unique_count": 5,
          "nan_count": 0,
          "min": "25.7",
          "max": "29.4",
          "histogram": [
           {
            "bin_start": 25.7,
            "bin_end": 26.07,
            "count": 1
           },
           {
            "bin_start": 26.07,
            "bin_end": 26.439999999999998,
            "count": 0
           },
           {
            "bin_start": 26.439999999999998,
            "bin_end": 26.81,
            "count": 1
           },
           {
            "bin_start": 26.81,
            "bin_end": 27.18,
            "count": 0
           },
           {
            "bin_start": 27.18,
            "bin_end": 27.549999999999997,
            "count": 0
           },
           {
            "bin_start": 27.549999999999997,
            "bin_end": 27.919999999999998,
            "count": 1
           },
           {
            "bin_start": 27.919999999999998,
            "bin_end": 28.29,
            "count": 0
           },
           {
            "bin_start": 28.29,
            "bin_end": 28.66,
            "count": 1
           },
           {
            "bin_start": 28.66,
            "bin_end": 29.029999999999998,
            "count": 0
           },
           {
            "bin_start": 29.029999999999998,
            "bin_end": 29.4,
            "count": 1
           }
          ]
         }
        },
        {
         "name": "STL_team",
         "dtype": "float64",
         "stats": {
          "unique_count": 4,
          "nan_count": 0,
          "min": "9.3",
          "max": "10.7",
          "histogram": [
           {
            "bin_start": 9.3,
            "bin_end": 9.440000000000001,
            "count": 3
           },
           {
            "bin_start": 9.440000000000001,
            "bin_end": 9.58,
            "count": 0
           },
           {
            "bin_start": 9.58,
            "bin_end": 9.72,
            "count": 0
           },
           {
            "bin_start": 9.72,
            "bin_end": 9.86,
            "count": 0
           },
           {
            "bin_start": 9.86,
            "bin_end": 10,
            "count": 1
           },
           {
            "bin_start": 10,
            "bin_end": 10.14,
            "count": 0
           },
           {
            "bin_start": 10.14,
            "bin_end": 10.28,
            "count": 0
           },
           {
            "bin_start": 10.28,
            "bin_end": 10.42,
            "count": 0
           },
           {
            "bin_start": 10.42,
            "bin_end": 10.559999999999999,
            "count": 0
           },
           {
            "bin_start": 10.559999999999999,
            "bin_end": 10.7,
            "count": 1
           }
          ]
         }
        },
        {
         "name": "BLK_team",
         "dtype": "float64",
         "stats": {
          "unique_count": 5,
          "nan_count": 0,
          "min": "3.8",
          "max": "6.7",
          "histogram": [
           {
            "bin_start": 3.8,
            "bin_end": 4.09,
            "count": 1
           },
           {
            "bin_start": 4.09,
            "bin_end": 4.38,
            "count": 2
           },
           {
            "bin_start": 4.38,
            "bin_end": 4.67,
            "count": 0
           },
           {
            "bin_start": 4.67,
            "bin_end": 4.96,
            "count": 0
           },
           {
            "bin_start": 4.96,
            "bin_end": 5.25,
            "count": 0
           },
           {
            "bin_start": 5.25,
            "bin_end": 5.54,
            "count": 0
           },
           {
            "bin_start": 5.54,
            "bin_end": 5.83,
            "count": 1
           },
           {
            "bin_start": 5.83,
            "bin_end": 6.12,
            "count": 0
           },
           {
            "bin_start": 6.12,
            "bin_end": 6.41,
            "count": 0
           },
           {
            "bin_start": 6.41,
            "bin_end": 6.7,
            "count": 1
           }
          ]
         }
        },
        {
         "name": "TOV_team",
         "dtype": "float64",
         "stats": {
          "unique_count": 5,
          "nan_count": 0,
          "min": "16.7",
          "max": "20.0",
          "histogram": [
           {
            "bin_start": 16.7,
            "bin_end": 17.03,
            "count": 1
           },
           {
            "bin_start": 17.03,
            "bin_end": 17.36,
            "count": 0
           },
           {
            "bin_start": 17.36,
            "bin_end": 17.689999999999998,
            "count": 0
           },
           {
            "bin_start": 17.689999999999998,
            "bin_end": 18.02,
            "count": 0
           },
           {
            "bin_start": 18.02,
            "bin_end": 18.35,
            "count": 0
           },
           {
            "bin_start": 18.35,
            "bin_end": 18.68,
            "count": 0
           },
           {
            "bin_start": 18.68,
            "bin_end": 19.009999999999998,
            "count": 1
           },
           {
            "bin_start": 19.009999999999998,
            "bin_end": 19.34,
            "count": 0
           },
           {
            "bin_start": 19.34,
            "bin_end": 19.67,
            "count": 1
           },
           {
            "bin_start": 19.67,
            "bin_end": 20,
            "count": 2
           }
          ]
         }
        },
        {
         "name": "PF_team",
         "dtype": "float64",
         "stats": {
          "unique_count": 5,
          "nan_count": 0,
          "min": "21.8",
          "max": "26.4",
          "histogram": [
           {
            "bin_start": 21.8,
            "bin_end": 22.26,
            "count": 1
           },
           {
            "bin_start": 22.26,
            "bin_end": 22.72,
            "count": 0
           },
           {
            "bin_start": 22.72,
            "bin_end": 23.18,
            "count": 0
           },
           {
            "bin_start": 23.18,
            "bin_end": 23.64,
            "count": 1
           },
           {
            "bin_start": 23.64,
            "bin_end": 24.1,
            "count": 0
           },
           {
            "bin_start": 24.1,
            "bin_end": 24.56,
            "count": 1
           },
           {
            "bin_start": 24.56,
            "bin_end": 25.02,
            "count": 0
           },
           {
            "bin_start": 25.02,
            "bin_end": 25.48,
            "count": 0
           },
           {
            "bin_start": 25.48,
            "bin_end": 25.939999999999998,
            "count": 1
           },
           {
            "bin_start": 25.939999999999998,
            "bin_end": 26.4,
            "count": 1
           }
          ]
         }
        },
        {
         "name": "PTS_team",
         "dtype": "float64",
         "stats": {
          "unique_count": 5,
          "nan_count": 0,
          "min": "113.5",
          "max": "119.4",
          "histogram": [
           {
            "bin_start": 113.5,
            "bin_end": 114.09,
            "count": 2
           },
           {
            "bin_start": 114.09,
            "bin_end": 114.68,
            "count": 1
           },
           {
            "bin_start": 114.68,
            "bin_end": 115.27,
            "count": 1
           },
           {
            "bin_start": 115.27,
            "bin_end": 115.86,
            "count": 0
           },
           {
            "bin_start": 115.86,
            "bin_end": 116.45,
            "count": 0
           },
           {
            "bin_start": 116.45,
            "bin_end": 117.04,
            "count": 0
           },
           {
            "bin_start": 117.04,
            "bin_end": 117.63000000000001,
            "count": 0
           },
           {
            "bin_start": 117.63000000000001,
            "bin_end": 118.22,
            "count": 0
           },
           {
            "bin_start": 118.22,
            "bin_end": 118.81,
            "count": 0
           },
           {
            "bin_start": 118.81,
            "bin_end": 119.4,
            "count": 1
           }
          ]
         }
        },
        {
         "name": "Rk_opponent",
         "dtype": "float64",
         "stats": {
          "unique_count": 5,
          "nan_count": 0,
          "min": "6.0",
          "max": "22.0",
          "histogram": [
           {
            "bin_start": 6,
            "bin_end": 7.6,
            "count": 1
           },
           {
            "bin_start": 7.6,
            "bin_end": 9.2,
            "count": 0
           },
           {
            "bin_start": 9.2,
            "bin_end": 10.8,
            "count": 0
           },
           {
            "bin_start": 10.8,
            "bin_end": 12.4,
            "count": 1
           },
           {
            "bin_start": 12.4,
            "bin_end": 14,
            "count": 0
           },
           {
            "bin_start": 14,
            "bin_end": 15.600000000000001,
            "count": 0
           },
           {
            "bin_start": 15.600000000000001,
            "bin_end": 17.200000000000003,
            "count": 0
           },
           {
            "bin_start": 17.200000000000003,
            "bin_end": 18.8,
            "count": 0
           },
           {
            "bin_start": 18.8,
            "bin_end": 20.4,
            "count": 2
           },
           {
            "bin_start": 20.4,
            "bin_end": 22,
            "count": 1
           }
          ]
         }
        },
        {
         "name": "G_opponent",
         "dtype": "int64",
         "stats": {
          "unique_count": 1,
          "nan_count": 0,
          "min": "82",
          "max": "82",
          "histogram": [
           {
            "bin_start": 81.5,
            "bin_end": 81.6,
            "count": 0
           },
           {
            "bin_start": 81.6,
            "bin_end": 81.7,
            "count": 0
           },
           {
            "bin_start": 81.7,
            "bin_end": 81.8,
            "count": 0
           },
           {
            "bin_start": 81.8,
            "bin_end": 81.9,
            "count": 0
           },
           {
            "bin_start": 81.9,
            "bin_end": 82,
            "count": 0
           },
           {
            "bin_start": 82,
            "bin_end": 82.1,
            "count": 5
           },
           {
            "bin_start": 82.1,
            "bin_end": 82.2,
            "count": 0
           },
           {
            "bin_start": 82.2,
            "bin_end": 82.3,
            "count": 0
           },
           {
            "bin_start": 82.3,
            "bin_end": 82.4,
            "count": 0
           },
           {
            "bin_start": 82.4,
            "bin_end": 82.5,
            "count": 0
           }
          ]
         }
        },
        {
         "name": "FG_opponent",
         "dtype": "float64",
         "stats": {
          "unique_count": 5,
          "nan_count": 0,
          "min": "41.9",
          "max": "48.8",
          "histogram": [
           {
            "bin_start": 41.9,
            "bin_end": 42.589999999999996,
            "count": 1
           },
           {
            "bin_start": 42.589999999999996,
            "bin_end": 43.28,
            "count": 0
           },
           {
            "bin_start": 43.28,
            "bin_end": 43.97,
            "count": 0
           },
           {
            "bin_start": 43.97,
            "bin_end": 44.66,
            "count": 0
           },
           {
            "bin_start": 44.66,
            "bin_end": 45.349999999999994,
            "count": 1
           },
           {
            "bin_start": 45.349999999999994,
            "bin_end": 46.04,
            "count": 1
           },
           {
            "bin_start": 46.04,
            "bin_end": 46.73,
            "count": 1
           },
           {
            "bin_start": 46.73,
            "bin_end": 47.419999999999995,
            "count": 0
           },
           {
            "bin_start": 47.419999999999995,
            "bin_end": 48.11,
            "count": 0
           },
           {
            "bin_start": 48.11,
            "bin_end": 48.8,
            "count": 1
           }
          ]
         }
        },
        {
         "name": "FGA_opponent",
         "dtype": "float64",
         "stats": {
          "unique_count": 5,
          "nan_count": 0,
          "min": "89.2",
          "max": "97.5",
          "histogram": [
           {
            "bin_start": 89.2,
            "bin_end": 90.03,
            "count": 1
           },
           {
            "bin_start": 90.03,
            "bin_end": 90.86,
            "count": 0
           },
           {
            "bin_start": 90.86,
            "bin_end": 91.69,
            "count": 1
           },
           {
            "bin_start": 91.69,
            "bin_end": 92.52,
            "count": 0
           },
           {
            "bin_start": 92.52,
            "bin_end": 93.35,
            "count": 1
           },
           {
            "bin_start": 93.35,
            "bin_end": 94.18,
            "count": 0
           },
           {
            "bin_start": 94.18,
            "bin_end": 95.01,
            "count": 0
           },
           {
            "bin_start": 95.01,
            "bin_end": 95.84,
            "count": 0
           },
           {
            "bin_start": 95.84,
            "bin_end": 96.67,
            "count": 1
           },
           {
            "bin_start": 96.67,
            "bin_end": 97.5,
            "count": 1
           }
          ]
         }
        },
        {
         "name": "FG%_opponent",
         "dtype": "float64",
         "stats": {
          "unique_count": 4,
          "nan_count": 0,
          "min": "0.47",
          "max": "0.501",
          "histogram": [
           {
            "bin_start": 0.47,
            "bin_end": 0.47309999999999997,
            "count": 2
           },
           {
            "bin_start": 0.47309999999999997,
            "bin_end": 0.47619999999999996,
            "count": 0
           },
           {
            "bin_start": 0.47619999999999996,
            "bin_end": 0.4793,
            "count": 0
           },
           {
            "bin_start": 0.4793,
            "bin_end": 0.4824,
            "count": 0
           },
           {
            "bin_start": 0.4824,
            "bin_end": 0.4855,
            "count": 0
           },
           {
            "bin_start": 0.4855,
            "bin_end": 0.4886,
            "count": 0
           },
           {
            "bin_start": 0.4886,
            "bin_end": 0.49169999999999997,
            "count": 0
           },
           {
            "bin_start": 0.49169999999999997,
            "bin_end": 0.4948,
            "count": 0
           },
           {
            "bin_start": 0.4948,
            "bin_end": 0.4979,
            "count": 1
           },
           {
            "bin_start": 0.4979,
            "bin_end": 0.501,
            "count": 2
           }
          ]
         }
        },
        {
         "name": "3P_opponent",
         "dtype": "float64",
         "stats": {
          "unique_count": 5,
          "nan_count": 0,
          "min": "0.7",
          "max": "1.1",
          "histogram": [
           {
            "bin_start": 0.7,
            "bin_end": 0.74,
            "count": 1
           },
           {
            "bin_start": 0.74,
            "bin_end": 0.78,
            "count": 0
           },
           {
            "bin_start": 0.78,
            "bin_end": 0.8200000000000001,
            "count": 1
           },
           {
            "bin_start": 0.8200000000000001,
            "bin_end": 0.86,
            "count": 0
           },
           {
            "bin_start": 0.86,
            "bin_end": 0.9,
            "count": 0
           },
           {
            "bin_start": 0.9,
            "bin_end": 0.9400000000000001,
            "count": 1
           },
           {
            "bin_start": 0.9400000000000001,
            "bin_end": 0.98,
            "count": 0
           },
           {
            "bin_start": 0.98,
            "bin_end": 1.02,
            "count": 1
           },
           {
            "bin_start": 1.02,
            "bin_end": 1.06,
            "count": 0
           },
           {
            "bin_start": 1.06,
            "bin_end": 1.1,
            "count": 1
           }
          ]
         }
        },
        {
         "name": "3PA_opponent",
         "dtype": "float64",
         "stats": {
          "unique_count": 5,
          "nan_count": 0,
          "min": "2.4",
          "max": "3.5",
          "histogram": [
           {
            "bin_start": 2.4,
            "bin_end": 2.51,
            "count": 1
           },
           {
            "bin_start": 2.51,
            "bin_end": 2.62,
            "count": 0
           },
           {
            "bin_start": 2.62,
            "bin_end": 2.73,
            "count": 1
           },
           {
            "bin_start": 2.73,
            "bin_end": 2.84,
            "count": 0
           },
           {
            "bin_start": 2.84,
            "bin_end": 2.95,
            "count": 0
           },
           {
            "bin_start": 2.95,
            "bin_end": 3.06,
            "count": 0
           },
           {
            "bin_start": 3.06,
            "bin_end": 3.17,
            "count": 0
           },
           {
            "bin_start": 3.17,
            "bin_end": 3.2800000000000002,
            "count": 1
           },
           {
            "bin_start": 3.2800000000000002,
            "bin_end": 3.39,
            "count": 1
           },
           {
            "bin_start": 3.39,
            "bin_end": 3.5,
            "count": 1
           }
          ]
         }
        },
        {
         "name": "3P%_opponent",
         "dtype": "float64",
         "stats": {
          "unique_count": 5,
          "nan_count": 0,
          "min": "0.278",
          "max": "0.306",
          "histogram": [
           {
            "bin_start": 0.278,
            "bin_end": 0.28080000000000005,
            "count": 1
           },
           {
            "bin_start": 0.28080000000000005,
            "bin_end": 0.2836,
            "count": 0
           },
           {
            "bin_start": 0.2836,
            "bin_end": 0.2864,
            "count": 2
           },
           {
            "bin_start": 0.2864,
            "bin_end": 0.2892,
            "count": 0
           },
           {
            "bin_start": 0.2892,
            "bin_end": 0.29200000000000004,
            "count": 1
           },
           {
            "bin_start": 0.29200000000000004,
            "bin_end": 0.2948,
            "count": 0
           },
           {
            "bin_start": 0.2948,
            "bin_end": 0.2976,
            "count": 0
           },
           {
            "bin_start": 0.2976,
            "bin_end": 0.3004,
            "count": 0
           },
           {
            "bin_start": 0.3004,
            "bin_end": 0.3032,
            "count": 0
           },
           {
            "bin_start": 0.3032,
            "bin_end": 0.306,
            "count": 1
           }
          ]
         }
        },
        {
         "name": "2P_opponent",
         "dtype": "float64",
         "stats": {
          "unique_count": 4,
          "nan_count": 0,
          "min": "41.0",
          "max": "47.7",
          "histogram": [
           {
            "bin_start": 41,
            "bin_end": 41.67,
            "count": 1
           },
           {
            "bin_start": 41.67,
            "bin_end": 42.34,
            "count": 0
           },
           {
            "bin_start": 42.34,
            "bin_end": 43.01,
            "count": 0
           },
           {
            "bin_start": 43.01,
            "bin_end": 43.68,
            "count": 0
           },
           {
            "bin_start": 43.68,
            "bin_end": 44.35,
            "count": 0
           },
           {
            "bin_start": 44.35,
            "bin_end": 45.02,
            "count": 2
           },
           {
            "bin_start": 45.02,
            "bin_end": 45.690000000000005,
            "count": 0
           },
           {
            "bin_start": 45.690000000000005,
            "bin_end": 46.36,
            "count": 1
           },
           {
            "bin_start": 46.36,
            "bin_end": 47.03,
            "count": 0
           },
           {
            "bin_start": 47.03,
            "bin_end": 47.7,
            "count": 1
           }
          ]
         }
        },
        {
         "name": "2PA_opponent",
         "dtype": "float64",
         "stats": {
          "unique_count": 5,
          "nan_count": 0,
          "min": "86.0",
          "max": "94.0",
          "histogram": [
           {
            "bin_start": 86,
            "bin_end": 86.8,
            "count": 1
           },
           {
            "bin_start": 86.8,
            "bin_end": 87.6,
            "count": 0
           },
           {
            "bin_start": 87.6,
            "bin_end": 88.4,
            "count": 0
           },
           {
            "bin_start": 88.4,
            "bin_end": 89.2,
            "count": 1
           },
           {
            "bin_start": 89.2,
            "bin_end": 90,
            "count": 0
           },
           {
            "bin_start": 90,
            "bin_end": 90.8,
            "count": 1
           },
           {
            "bin_start": 90.8,
            "bin_end": 91.6,
            "count": 0
           },
           {
            "bin_start": 91.6,
            "bin_end": 92.4,
            "count": 0
           },
           {
            "bin_start": 92.4,
            "bin_end": 93.2,
            "count": 0
           },
           {
            "bin_start": 93.2,
            "bin_end": 94,
            "count": 2
           }
          ]
         }
        },
        {
         "name": "2P%_opponent",
         "dtype": "float64",
         "stats": {
          "unique_count": 3,
          "nan_count": 0,
          "min": "0.477",
          "max": "0.507",
          "histogram": [
           {
            "bin_start": 0.477,
            "bin_end": 0.48,
            "count": 2
           },
           {
            "bin_start": 0.48,
            "bin_end": 0.483,
            "count": 0
           },
           {
            "bin_start": 0.483,
            "bin_end": 0.486,
            "count": 0
           },
           {
            "bin_start": 0.486,
            "bin_end": 0.489,
            "count": 0
           },
           {
            "bin_start": 0.489,
            "bin_end": 0.492,
            "count": 0
           },
           {
            "bin_start": 0.492,
            "bin_end": 0.495,
            "count": 0
           },
           {
            "bin_start": 0.495,
            "bin_end": 0.498,
            "count": 0
           },
           {
            "bin_start": 0.498,
            "bin_end": 0.501,
            "count": 0
           },
           {
            "bin_start": 0.501,
            "bin_end": 0.504,
            "count": 1
           },
           {
            "bin_start": 0.504,
            "bin_end": 0.507,
            "count": 2
           }
          ]
         }
        },
        {
         "name": "FT_opponent",
         "dtype": "float64",
         "stats": {
          "unique_count": 5,
          "nan_count": 0,
          "min": "17.4",
          "max": "24.0",
          "histogram": [
           {
            "bin_start": 17.4,
            "bin_end": 18.06,
            "count": 1
           },
           {
            "bin_start": 18.06,
            "bin_end": 18.72,
            "count": 0
           },
           {
            "bin_start": 18.72,
            "bin_end": 19.38,
            "count": 0
           },
           {
            "bin_start": 19.38,
            "bin_end": 20.04,
            "count": 0
           },
           {
            "bin_start": 20.04,
            "bin_end": 20.7,
            "count": 1
           },
           {
            "bin_start": 20.7,
            "bin_end": 21.36,
            "count": 2
           },
           {
            "bin_start": 21.36,
            "bin_end": 22.02,
            "count": 0
           },
           {
            "bin_start": 22.02,
            "bin_end": 22.68,
            "count": 0
           },
           {
            "bin_start": 22.68,
            "bin_end": 23.34,
            "count": 0
           },
           {
            "bin_start": 23.34,
            "bin_end": 24,
            "count": 1
           }
          ]
         }
        },
        {
         "name": "FTA_opponent",
         "dtype": "float64",
         "stats": {
          "unique_count": 5,
          "nan_count": 0,
          "min": "23.0",
          "max": "31.2",
          "histogram": [
           {
            "bin_start": 23,
            "bin_end": 23.82,
            "count": 1
           },
           {
            "bin_start": 23.82,
            "bin_end": 24.64,
            "count": 0
           },
           {
            "bin_start": 24.64,
            "bin_end": 25.46,
            "count": 0
           },
           {
            "bin_start": 25.46,
            "bin_end": 26.28,
            "count": 1
           },
           {
            "bin_start": 26.28,
            "bin_end": 27.1,
            "count": 0
           },
           {
            "bin_start": 27.1,
            "bin_end": 27.92,
            "count": 2
           },
           {
            "bin_start": 27.92,
            "bin_end": 28.74,
            "count": 0
           },
           {
            "bin_start": 28.74,
            "bin_end": 29.56,
            "count": 0
           },
           {
            "bin_start": 29.56,
            "bin_end": 30.38,
            "count": 0
           },
           {
            "bin_start": 30.38,
            "bin_end": 31.2,
            "count": 1
           }
          ]
         }
        },
        {
         "name": "FT%_opponent",
         "dtype": "float64",
         "stats": {
          "unique_count": 4,
          "nan_count": 0,
          "min": "0.758",
          "max": "0.77",
          "histogram": [
           {
            "bin_start": 0.758,
            "bin_end": 0.7592,
            "count": 2
           },
           {
            "bin_start": 0.7592,
            "bin_end": 0.7604,
            "count": 0
           },
           {
            "bin_start": 0.7604,
            "bin_end": 0.7616,
            "count": 0
           },
           {
            "bin_start": 0.7616,
            "bin_end": 0.7628,
            "count": 0
           },
           {
            "bin_start": 0.7628,
            "bin_end": 0.764,
            "count": 0
           },
           {
            "bin_start": 0.764,
            "bin_end": 0.7652,
            "count": 1
           },
           {
            "bin_start": 0.7652,
            "bin_end": 0.7664,
            "count": 0
           },
           {
            "bin_start": 0.7664,
            "bin_end": 0.7676000000000001,
            "count": 0
           },
           {
            "bin_start": 0.7676000000000001,
            "bin_end": 0.7688,
            "count": 0
           },
           {
            "bin_start": 0.7688,
            "bin_end": 0.77,
            "count": 2
           }
          ]
         }
        },
        {
         "name": "ORB_opponent",
         "dtype": "float64",
         "stats": {
          "unique_count": 5,
          "nan_count": 0,
          "min": "14.2",
          "max": "16.0",
          "histogram": [
           {
            "bin_start": 14.2,
            "bin_end": 14.379999999999999,
            "count": 1
           },
           {
            "bin_start": 14.379999999999999,
            "bin_end": 14.559999999999999,
            "count": 0
           },
           {
            "bin_start": 14.559999999999999,
            "bin_end": 14.74,
            "count": 0
           },
           {
            "bin_start": 14.74,
            "bin_end": 14.92,
            "count": 0
           },
           {
            "bin_start": 14.92,
            "bin_end": 15.1,
            "count": 1
           },
           {
            "bin_start": 15.1,
            "bin_end": 15.28,
            "count": 1
           },
           {
            "bin_start": 15.28,
            "bin_end": 15.459999999999999,
            "count": 0
           },
           {
            "bin_start": 15.459999999999999,
            "bin_end": 15.64,
            "count": 0
           },
           {
            "bin_start": 15.64,
            "bin_end": 15.82,
            "count": 1
           },
           {
            "bin_start": 15.82,
            "bin_end": 16,
            "count": 1
           }
          ]
         }
        },
        {
         "name": "DRB_opponent",
         "dtype": "float64",
         "stats": {
          "unique_count": 5,
          "nan_count": 0,
          "min": "27.3",
          "max": "32.2",
          "histogram": [
           {
            "bin_start": 27.3,
            "bin_end": 27.79,
            "count": 1
           },
           {
            "bin_start": 27.79,
            "bin_end": 28.28,
            "count": 1
           },
           {
            "bin_start": 28.28,
            "bin_end": 28.770000000000003,
            "count": 0
           },
           {
            "bin_start": 28.770000000000003,
            "bin_end": 29.26,
            "count": 0
           },
           {
            "bin_start": 29.26,
            "bin_end": 29.75,
            "count": 1
           },
           {
            "bin_start": 29.75,
            "bin_end": 30.240000000000002,
            "count": 1
           },
           {
            "bin_start": 30.240000000000002,
            "bin_end": 30.730000000000004,
            "count": 0
           },
           {
            "bin_start": 30.730000000000004,
            "bin_end": 31.220000000000002,
            "count": 0
           },
           {
            "bin_start": 31.220000000000002,
            "bin_end": 31.71,
            "count": 0
           },
           {
            "bin_start": 31.71,
            "bin_end": 32.2,
            "count": 1
           }
          ]
         }
        },
        {
         "name": "TRB_opponent",
         "dtype": "float64",
         "stats": {
          "unique_count": 4,
          "nan_count": 0,
          "min": "42.2",
          "max": "47.2",
          "histogram": [
           {
            "bin_start": 42.2,
            "bin_end": 42.7,
            "count": 1
           },
           {
            "bin_start": 42.7,
            "bin_end": 43.2,
            "count": 0
           },
           {
            "bin_start": 43.2,
            "bin_end": 43.7,
            "count": 1
           },
           {
            "bin_start": 43.7,
            "bin_end": 44.2,
            "count": 0
           },
           {
            "bin_start": 44.2,
            "bin_end": 44.7,
            "count": 0
           },
           {
            "bin_start": 44.7,
            "bin_end": 45.2,
            "count": 0
           },
           {
            "bin_start": 45.2,
            "bin_end": 45.7,
            "count": 2
           },
           {
            "bin_start": 45.7,
            "bin_end": 46.2,
            "count": 0
           },
           {
            "bin_start": 46.2,
            "bin_end": 46.7,
            "count": 0
           },
           {
            "bin_start": 46.7,
            "bin_end": 47.2,
            "count": 1
           }
          ]
         }
        },
        {
         "name": "AST_opponent",
         "dtype": "float64",
         "stats": {
          "unique_count": 5,
          "nan_count": 0,
          "min": "22.8",
          "max": "30.9",
          "histogram": [
           {
            "bin_start": 22.8,
            "bin_end": 23.61,
            "count": 1
           },
           {
            "bin_start": 23.61,
            "bin_end": 24.42,
            "count": 0
           },
           {
            "bin_start": 24.42,
            "bin_end": 25.23,
            "count": 0
           },
           {
            "bin_start": 25.23,
            "bin_end": 26.04,
            "count": 0
           },
           {
            "bin_start": 26.04,
            "bin_end": 26.85,
            "count": 1
           },
           {
            "bin_start": 26.85,
            "bin_end": 27.66,
            "count": 1
           },
           {
            "bin_start": 27.66,
            "bin_end": 28.47,
            "count": 1
           },
           {
            "bin_start": 28.47,
            "bin_end": 29.28,
            "count": 0
           },
           {
            "bin_start": 29.28,
            "bin_end": 30.09,
            "count": 0
           },
           {
            "bin_start": 30.09,
            "bin_end": 30.9,
            "count": 1
           }
          ]
         }
        },
        {
         "name": "STL_opponent",
         "dtype": "float64",
         "stats": {
          "unique_count": 5,
          "nan_count": 0,
          "min": "8.4",
          "max": "10.1",
          "histogram": [
           {
            "bin_start": 8.4,
            "bin_end": 8.57,
            "count": 1
           },
           {
            "bin_start": 8.57,
            "bin_end": 8.74,
            "count": 1
           },
           {
            "bin_start": 8.74,
            "bin_end": 8.91,
            "count": 0
           },
           {
            "bin_start": 8.91,
            "bin_end": 9.08,
            "count": 0
           },
           {
            "bin_start": 9.08,
            "bin_end": 9.25,
            "count": 0
           },
           {
            "bin_start": 9.25,
            "bin_end": 9.42,
            "count": 0
           },
           {
            "bin_start": 9.42,
            "bin_end": 9.59,
            "count": 0
           },
           {
            "bin_start": 9.59,
            "bin_end": 9.76,
            "count": 1
           },
           {
            "bin_start": 9.76,
            "bin_end": 9.93,
            "count": 1
           },
           {
            "bin_start": 9.93,
            "bin_end": 10.1,
            "count": 1
           }
          ]
         }
        },
        {
         "name": "BLK_opponent",
         "dtype": "float64",
         "stats": {
          "unique_count": 5,
          "nan_count": 0,
          "min": "4.7",
          "max": "6.0",
          "histogram": [
           {
            "bin_start": 4.7,
            "bin_end": 4.83,
            "count": 2
           },
           {
            "bin_start": 4.83,
            "bin_end": 4.96,
            "count": 0
           },
           {
            "bin_start": 4.96,
            "bin_end": 5.09,
            "count": 0
           },
           {
            "bin_start": 5.09,
            "bin_end": 5.22,
            "count": 1
           },
           {
            "bin_start": 5.22,
            "bin_end": 5.35,
            "count": 0
           },
           {
            "bin_start": 5.35,
            "bin_end": 5.48,
            "count": 0
           },
           {
            "bin_start": 5.48,
            "bin_end": 5.61,
            "count": 1
           },
           {
            "bin_start": 5.61,
            "bin_end": 5.74,
            "count": 0
           },
           {
            "bin_start": 5.74,
            "bin_end": 5.87,
            "count": 0
           },
           {
            "bin_start": 5.87,
            "bin_end": 6,
            "count": 1
           }
          ]
         }
        },
        {
         "name": "TOV_opponent",
         "dtype": "float64",
         "stats": {
          "unique_count": 5,
          "nan_count": 0,
          "min": "17.3",
          "max": "20.7",
          "histogram": [
           {
            "bin_start": 17.3,
            "bin_end": 17.64,
            "count": 1
           },
           {
            "bin_start": 17.64,
            "bin_end": 17.98,
            "count": 0
           },
           {
            "bin_start": 17.98,
            "bin_end": 18.32,
            "count": 0
           },
           {
            "bin_start": 18.32,
            "bin_end": 18.66,
            "count": 1
           },
           {
            "bin_start": 18.66,
            "bin_end": 19,
            "count": 0
           },
           {
            "bin_start": 19,
            "bin_end": 19.34,
            "count": 0
           },
           {
            "bin_start": 19.34,
            "bin_end": 19.68,
            "count": 0
           },
           {
            "bin_start": 19.68,
            "bin_end": 20.02,
            "count": 1
           },
           {
            "bin_start": 20.02,
            "bin_end": 20.36,
            "count": 1
           },
           {
            "bin_start": 20.36,
            "bin_end": 20.7,
            "count": 1
           }
          ]
         }
        },
        {
         "name": "PF_opponent",
         "dtype": "float64",
         "stats": {
          "unique_count": 5,
          "nan_count": 0,
          "min": "22.7",
          "max": "26.7",
          "histogram": [
           {
            "bin_start": 22.7,
            "bin_end": 23.099999999999998,
            "count": 1
           },
           {
            "bin_start": 23.099999999999998,
            "bin_end": 23.5,
            "count": 0
           },
           {
            "bin_start": 23.5,
            "bin_end": 23.9,
            "count": 0
           },
           {
            "bin_start": 23.9,
            "bin_end": 24.3,
            "count": 0
           },
           {
            "bin_start": 24.3,
            "bin_end": 24.7,
            "count": 0
           },
           {
            "bin_start": 24.7,
            "bin_end": 25.1,
            "count": 2
           },
           {
            "bin_start": 25.1,
            "bin_end": 25.5,
            "count": 1
           },
           {
            "bin_start": 25.5,
            "bin_end": 25.9,
            "count": 0
           },
           {
            "bin_start": 25.9,
            "bin_end": 26.3,
            "count": 0
           },
           {
            "bin_start": 26.3,
            "bin_end": 26.7,
            "count": 1
           }
          ]
         }
        },
        {
         "name": "PTS_opponent",
         "dtype": "float64",
         "stats": {
          "unique_count": 5,
          "nan_count": 0,
          "min": "105.7",
          "max": "119.7",
          "histogram": [
           {
            "bin_start": 105.7,
            "bin_end": 107.10000000000001,
            "count": 1
           },
           {
            "bin_start": 107.10000000000001,
            "bin_end": 108.5,
            "count": 0
           },
           {
            "bin_start": 108.5,
            "bin_end": 109.9,
            "count": 1
           },
           {
            "bin_start": 109.9,
            "bin_end": 111.3,
            "count": 0
           },
           {
            "bin_start": 111.3,
            "bin_end": 112.7,
            "count": 0
           },
           {
            "bin_start": 112.7,
            "bin_end": 114.1,
            "count": 1
           },
           {
            "bin_start": 114.1,
            "bin_end": 115.5,
            "count": 1
           },
           {
            "bin_start": 115.5,
            "bin_end": 116.9,
            "count": 0
           },
           {
            "bin_start": 116.9,
            "bin_end": 118.3,
            "count": 0
           },
           {
            "bin_start": 118.3,
            "bin_end": 119.7,
            "count": 1
           }
          ]
         }
        },
        {
         "name": "champion",
         "dtype": "int64",
         "stats": {
          "unique_count": 2,
          "nan_count": 0,
          "min": "0",
          "max": "1",
          "histogram": [
           {
            "bin_start": 0,
            "bin_end": 0.1,
            "count": 4
           },
           {
            "bin_start": 0.1,
            "bin_end": 0.2,
            "count": 0
           },
           {
            "bin_start": 0.2,
            "bin_end": 0.30000000000000004,
            "count": 0
           },
           {
            "bin_start": 0.30000000000000004,
            "bin_end": 0.4,
            "count": 0
           },
           {
            "bin_start": 0.4,
            "bin_end": 0.5,
            "count": 0
           },
           {
            "bin_start": 0.5,
            "bin_end": 0.6000000000000001,
            "count": 0
           },
           {
            "bin_start": 0.6000000000000001,
            "bin_end": 0.7000000000000001,
            "count": 0
           },
           {
            "bin_start": 0.7000000000000001,
            "bin_end": 0.8,
            "count": 0
           },
           {
            "bin_start": 0.8,
            "bin_end": 0.9,
            "count": 0
           },
           {
            "bin_start": 0.9,
            "bin_end": 1,
            "count": 1
           }
          ]
         }
        },
        {
         "name": "season",
         "dtype": "object",
         "stats": {
          "unique_count": 1,
          "nan_count": 0,
          "categories": [
           {
            "name": "1979-80",
            "count": 5
           }
          ]
         }
        },
        {
         "name": "_deepnote_index_column",
         "dtype": "int64"
        }
       ],
       "rows_top": [
        {
         "Rk_team": 1,
         "Team": "San Antonio Spurs",
         "G_team": 82,
         "MP": 240.9,
         "FG_team": 47,
         "FGA_team": 94.4,
         "FG%_team": 0.498,
         "3P_team": 0.6,
         "3PA_team": 2.5,
         "3P%_team": 0.252,
         "2P_team": 46.4,
         "2PA_team": 91.9,
         "2P%_team": 0.505,
         "FT_team": 24.7,
         "FTA_team": 30.8,
         "FT%_team": 0.8009999999999999,
         "ORB_team": 14.1,
         "DRB_team": 30.7,
         "TRB_team": 44.7,
         "AST_team": 28.4,
         "STL_team": 9.4,
         "BLK_team": 4.1,
         "TOV_team": 19.4,
         "PF_team": 25.6,
         "PTS_team": 119.4,
         "Rk_opponent": 22,
         "G_opponent": 82,
         "FG_opponent": 48.8,
         "FGA_opponent": 97.5,
         "FG%_opponent": 0.5,
         "3P_opponent": 1.1,
         "3PA_opponent": 3.5,
         "3P%_opponent": 0.306,
         "2P_opponent": 47.7,
         "2PA_opponent": 94,
         "2P%_opponent": 0.507,
         "FT_opponent": 21.1,
         "FTA_opponent": 27.8,
         "FT%_opponent": 0.758,
         "ORB_opponent": 15.2,
         "DRB_opponent": 30.1,
         "TRB_opponent": 45.4,
         "AST_opponent": 30.9,
         "STL_opponent": 10.1,
         "BLK_opponent": 5.6,
         "TOV_opponent": 18.5,
         "PF_opponent": 26.7,
         "PTS_opponent": 119.7,
         "champion": 0,
         "season": "1979-80",
         "_deepnote_index_column": 0
        },
        {
         "Rk_team": 2,
         "Team": "Los Angeles Lakers",
         "G_team": 82,
         "MP": 242.4,
         "FG_team": 47.5,
         "FGA_team": 89.9,
         "FG%_team": 0.529,
         "3P_team": 0.2,
         "3PA_team": 1.2,
         "3P%_team": 0.2,
         "2P_team": 47.3,
         "2PA_team": 88.6,
         "2P%_team": 0.534,
         "FT_team": 19.8,
         "FTA_team": 25.5,
         "FT%_team": 0.775,
         "ORB_team": 13.2,
         "DRB_team": 32.4,
         "TRB_team": 45.6,
         "AST_team": 29.4,
         "STL_team": 9.4,
         "BLK_team": 6.7,
         "TOV_team": 20,
         "PF_team": 21.8,
         "PTS_team": 115.1,
         "Rk_opponent": 11,
         "G_opponent": 82,
         "FG_opponent": 45.4,
         "FGA_opponent": 96.6,
         "FG%_opponent": 0.47,
         "3P_opponent": 1,
         "3PA_opponent": 3.3,
         "3P%_opponent": 0.285,
         "2P_opponent": 44.5,
         "2PA_opponent": 93.3,
         "2P%_opponent": 0.477,
         "FT_opponent": 17.4,
         "FTA_opponent": 23,
         "FT%_opponent": 0.759,
         "ORB_opponent": 16,
         "DRB_opponent": 27.3,
         "TRB_opponent": 43.3,
         "AST_opponent": 28.3,
         "STL_opponent": 9.7,
         "BLK_opponent": 4.7,
         "TOV_opponent": 17.3,
         "PF_opponent": 22.7,
         "PTS_opponent": 109.2,
         "champion": 1,
         "season": "1979-80",
         "_deepnote_index_column": 1
        },
        {
         "Rk_team": 3,
         "Team": "Cleveland Cavaliers",
         "G_team": 82,
         "MP": 243,
         "FG_team": 46.5,
         "FGA_team": 98.1,
         "FG%_team": 0.474,
         "3P_team": 0.4,
         "3PA_team": 2.3,
         "3P%_team": 0.193,
         "2P_team": 46,
         "2PA_team": 95.8,
         "2P%_team": 0.481,
         "FT_team": 20.8,
         "FTA_team": 26.9,
         "FT%_team": 0.772,
         "ORB_team": 15.9,
         "DRB_team": 29,
         "TRB_team": 45,
         "AST_team": 25.7,
         "STL_team": 9.3,
         "BLK_team": 4.2,
         "TOV_team": 16.7,
         "PF_team": 23.6,
         "PTS_team": 114.1,
         "Rk_opponent": 19,
         "G_opponent": 82,
         "FG_opponent": 46.5,
         "FGA_opponent": 92.8,
         "FG%_opponent": 0.501,
         "3P_opponent": 0.8,
         "3PA_opponent": 2.7,
         "3P%_opponent": 0.291,
         "2P_opponent": 45.7,
         "2PA_opponent": 90.1,
         "2P%_opponent": 0.507,
         "FT_opponent": 20.1,
         "FTA_opponent": 26.2,
         "FT%_opponent": 0.765,
         "ORB_opponent": 15,
         "DRB_opponent": 32.2,
         "TRB_opponent": 47.2,
         "AST_opponent": 26.9,
         "STL_opponent": 8.6,
         "BLK_opponent": 6,
         "TOV_opponent": 20.3,
         "PF_opponent": 24.8,
         "PTS_opponent": 113.8,
         "champion": 0,
         "season": "1979-80",
         "_deepnote_index_column": 2
        },
        {
         "Rk_team": 4,
         "Team": "New York Knicks",
         "G_team": 82,
         "MP": 241.2,
         "FG_team": 46.4,
         "FGA_team": 93.6,
         "FG%_team": 0.496,
         "3P_team": 0.5,
         "3PA_team": 2.3,
         "3P%_team": 0.22,
         "2P_team": 45.9,
         "2PA_team": 91.2,
         "2P%_team": 0.503,
         "FT_team": 20.7,
         "FTA_team": 27.7,
         "FT%_team": 0.747,
         "ORB_team": 15.1,
         "DRB_team": 28.1,
         "TRB_team": 43.2,
         "AST_team": 27.6,
         "STL_team": 10.7,
         "BLK_team": 5.6,
         "TOV_team": 19.7,
         "PF_team": 26.4,
         "PTS_team": 114,
         "Rk_opponent": 20,
         "G_opponent": 82,
         "FG_opponent": 45.2,
         "FGA_opponent": 91.4,
         "FG%_opponent": 0.495,
         "3P_opponent": 0.7,
         "3PA_opponent": 2.4,
         "3P%_opponent": 0.278,
         "2P_opponent": 44.5,
         "2PA_opponent": 89,
         "2P%_opponent": 0.501,
         "FT_opponent": 24,
         "FTA_opponent": 31.2,
         "FT%_opponent": 0.77,
         "ORB_opponent": 15.8,
         "DRB_opponent": 29.7,
         "TRB_opponent": 45.4,
         "AST_opponent": 26.1,
         "STL_opponent": 9.9,
         "BLK_opponent": 4.8,
         "TOV_opponent": 20.7,
         "PF_opponent": 24.9,
         "PTS_opponent": 115.1,
         "champion": 0,
         "season": "1979-80",
         "_deepnote_index_column": 3
        },
        {
         "Rk_team": 5,
         "Team": "Boston Celtics",
         "G_team": 82,
         "MP": 242.4,
         "FG_team": 44.1,
         "FGA_team": 90.1,
         "FG%_team": 0.49,
         "3P_team": 2,
         "3PA_team": 5.1,
         "3P%_team": 0.384,
         "2P_team": 42.1,
         "2PA_team": 84.9,
         "2P%_team": 0.496,
         "FT_team": 23.3,
         "FTA_team": 29.9,
         "FT%_team": 0.779,
         "ORB_team": 15,
         "DRB_team": 30,
         "TRB_team": 44.9,
         "AST_team": 26.8,
         "STL_team": 9.9,
         "BLK_team": 3.8,
         "TOV_team": 18.8,
         "PF_team": 24.1,
         "PTS_team": 113.5,
         "Rk_opponent": 6,
         "G_opponent": 82,
         "FG_opponent": 41.9,
         "FGA_opponent": 89.2,
         "FG%_opponent": 0.47,
         "3P_opponent": 0.9,
         "3PA_opponent": 3.2,
         "3P%_opponent": 0.286,
         "2P_opponent": 41,
         "2PA_opponent": 86,
         "2P%_opponent": 0.477,
         "FT_opponent": 20.9,
         "FTA_opponent": 27.1,
         "FT%_opponent": 0.77,
         "ORB_opponent": 14.2,
         "DRB_opponent": 28,
         "TRB_opponent": 42.2,
         "AST_opponent": 22.8,
         "STL_opponent": 8.4,
         "BLK_opponent": 5.1,
         "TOV_opponent": 19.9,
         "PF_opponent": 25.1,
         "PTS_opponent": 105.7,
         "champion": 0,
         "season": "1979-80",
         "_deepnote_index_column": 4
        }
       ],
       "rows_bottom": null
      },
      "text/plain": "   Rk_team                 Team  G_team     MP  FG_team  FGA_team  FG%_team  \\\n0      1.0    San Antonio Spurs      82  240.9     47.0      94.4     0.498   \n1      2.0   Los Angeles Lakers      82  242.4     47.5      89.9     0.529   \n2      3.0  Cleveland Cavaliers      82  243.0     46.5      98.1     0.474   \n3      4.0      New York Knicks      82  241.2     46.4      93.6     0.496   \n4      5.0       Boston Celtics      82  242.4     44.1      90.1     0.490   \n\n   3P_team  3PA_team  3P%_team  ...  DRB_opponent  TRB_opponent  AST_opponent  \\\n0      0.6       2.5     0.252  ...          30.1          45.4          30.9   \n1      0.2       1.2     0.200  ...          27.3          43.3          28.3   \n2      0.4       2.3     0.193  ...          32.2          47.2          26.9   \n3      0.5       2.3     0.220  ...          29.7          45.4          26.1   \n4      2.0       5.1     0.384  ...          28.0          42.2          22.8   \n\n   STL_opponent  BLK_opponent  TOV_opponent  PF_opponent  PTS_opponent  \\\n0          10.1           5.6          18.5         26.7         119.7   \n1           9.7           4.7          17.3         22.7         109.2   \n2           8.6           6.0          20.3         24.8         113.8   \n3           9.9           4.8          20.7         24.9         115.1   \n4           8.4           5.1          19.9         25.1         105.7   \n\n   champion   season  \n0         0  1979-80  \n1         1  1979-80  \n2         0  1979-80  \n3         0  1979-80  \n4         0  1979-80  \n\n[5 rows x 50 columns]",
      "text/html": "<div>\n<style scoped>\n    .dataframe tbody tr th:only-of-type {\n        vertical-align: middle;\n    }\n\n    .dataframe tbody tr th {\n        vertical-align: top;\n    }\n\n    .dataframe thead th {\n        text-align: right;\n    }\n</style>\n<table border=\"1\" class=\"dataframe\">\n  <thead>\n    <tr style=\"text-align: right;\">\n      <th></th>\n      <th>Rk_team</th>\n      <th>Team</th>\n      <th>G_team</th>\n      <th>MP</th>\n      <th>FG_team</th>\n      <th>FGA_team</th>\n      <th>FG%_team</th>\n      <th>3P_team</th>\n      <th>3PA_team</th>\n      <th>3P%_team</th>\n      <th>...</th>\n      <th>DRB_opponent</th>\n      <th>TRB_opponent</th>\n      <th>AST_opponent</th>\n      <th>STL_opponent</th>\n      <th>BLK_opponent</th>\n      <th>TOV_opponent</th>\n      <th>PF_opponent</th>\n      <th>PTS_opponent</th>\n      <th>champion</th>\n      <th>season</th>\n    </tr>\n  </thead>\n  <tbody>\n    <tr>\n      <th>0</th>\n      <td>1.0</td>\n      <td>San Antonio Spurs</td>\n      <td>82</td>\n      <td>240.9</td>\n      <td>47.0</td>\n      <td>94.4</td>\n      <td>0.498</td>\n      <td>0.6</td>\n      <td>2.5</td>\n      <td>0.252</td>\n      <td>...</td>\n      <td>30.1</td>\n      <td>45.4</td>\n      <td>30.9</td>\n      <td>10.1</td>\n      <td>5.6</td>\n      <td>18.5</td>\n      <td>26.7</td>\n      <td>119.7</td>\n      <td>0</td>\n      <td>1979-80</td>\n    </tr>\n    <tr>\n      <th>1</th>\n      <td>2.0</td>\n      <td>Los Angeles Lakers</td>\n      <td>82</td>\n      <td>242.4</td>\n      <td>47.5</td>\n      <td>89.9</td>\n      <td>0.529</td>\n      <td>0.2</td>\n      <td>1.2</td>\n      <td>0.200</td>\n      <td>...</td>\n      <td>27.3</td>\n      <td>43.3</td>\n      <td>28.3</td>\n      <td>9.7</td>\n      <td>4.7</td>\n      <td>17.3</td>\n      <td>22.7</td>\n      <td>109.2</td>\n      <td>1</td>\n      <td>1979-80</td>\n    </tr>\n    <tr>\n      <th>2</th>\n      <td>3.0</td>\n      <td>Cleveland Cavaliers</td>\n      <td>82</td>\n      <td>243.0</td>\n      <td>46.5</td>\n      <td>98.1</td>\n      <td>0.474</td>\n      <td>0.4</td>\n      <td>2.3</td>\n      <td>0.193</td>\n      <td>...</td>\n      <td>32.2</td>\n      <td>47.2</td>\n      <td>26.9</td>\n      <td>8.6</td>\n      <td>6.0</td>\n      <td>20.3</td>\n      <td>24.8</td>\n      <td>113.8</td>\n      <td>0</td>\n      <td>1979-80</td>\n    </tr>\n    <tr>\n      <th>3</th>\n      <td>4.0</td>\n      <td>New York Knicks</td>\n      <td>82</td>\n      <td>241.2</td>\n      <td>46.4</td>\n      <td>93.6</td>\n      <td>0.496</td>\n      <td>0.5</td>\n      <td>2.3</td>\n      <td>0.220</td>\n      <td>...</td>\n      <td>29.7</td>\n      <td>45.4</td>\n      <td>26.1</td>\n      <td>9.9</td>\n      <td>4.8</td>\n      <td>20.7</td>\n      <td>24.9</td>\n      <td>115.1</td>\n      <td>0</td>\n      <td>1979-80</td>\n    </tr>\n    <tr>\n      <th>4</th>\n      <td>5.0</td>\n      <td>Boston Celtics</td>\n      <td>82</td>\n      <td>242.4</td>\n      <td>44.1</td>\n      <td>90.1</td>\n      <td>0.490</td>\n      <td>2.0</td>\n      <td>5.1</td>\n      <td>0.384</td>\n      <td>...</td>\n      <td>28.0</td>\n      <td>42.2</td>\n      <td>22.8</td>\n      <td>8.4</td>\n      <td>5.1</td>\n      <td>19.9</td>\n      <td>25.1</td>\n      <td>105.7</td>\n      <td>0</td>\n      <td>1979-80</td>\n    </tr>\n  </tbody>\n</table>\n<p>5 rows × 50 columns</p>\n</div>"
     },
     "metadata": {}
    }
   ],
   "execution_count": null
  },
  {
   "cell_type": "markdown",
   "source": "Drop rows with League average stats",
   "metadata": {
    "tags": [],
    "cell_id": "00006-e1a927a1-6d6c-47b8-a931-0c0c46063e01",
    "deepnote_cell_type": "markdown"
   }
  },
  {
   "cell_type": "code",
   "source": "idx = seasons.index.isin(seasons[~seasons.isna().any(axis=1)].index)\nseasons = seasons.iloc[idx, :]",
   "metadata": {
    "tags": [],
    "cell_id": "00004-cee99787-3f98-4b89-af81-a628ac10f33f",
    "deepnote_to_be_reexecuted": false,
    "source_hash": "6eeffd98",
    "execution_start": 1622940990273,
    "execution_millis": 1,
    "deepnote_cell_type": "code"
   },
   "outputs": [],
   "execution_count": null
  },
  {
   "cell_type": "code",
   "source": "seasons.season.value_counts().sort_index()",
   "metadata": {
    "tags": [],
    "cell_id": "00010-74e8ba68-10cb-4320-b4ea-3af05eba266b",
    "deepnote_to_be_reexecuted": false,
    "source_hash": "c969d8a0",
    "execution_start": 1622940990280,
    "execution_millis": 28,
    "deepnote_cell_type": "code"
   },
   "outputs": [
    {
     "output_type": "execute_result",
     "execution_count": 4,
     "data": {
      "text/plain": "1979-80    22\n1980-81    23\n1981-82    23\n1982-83    23\n1983-84    23\n1984-85    23\n1985-86    23\n1986-87    23\n1987-88    23\n1988-89    25\n1989-90    27\n1990-91    27\n1991-92    27\n1992-93    27\n1993-94    27\n1994-95    27\n1995-96    29\n1996-97    29\n1997-98    29\n1998-99    29\n1999-00    29\n2000-01    29\n2001-02    29\n2002-03    29\n2003-04    29\n2004-05    30\n2005-06    30\n2006-07    30\n2007-08    30\n2008-09    30\n2009-10    30\n2010-11    30\n2011-12    30\n2012-13    30\n2013-14    30\n2014-15    30\n2015-16    30\n2016-17    30\n2017-18    30\n2018-19    30\n2019-20    30\nName: season, dtype: int64"
     },
     "metadata": {}
    }
   ],
   "execution_count": null
  },
  {
   "cell_type": "markdown",
   "source": "https://en.wikipedia.org/wiki/Expansion_of_the_National_Basketball_Association",
   "metadata": {
    "tags": [],
    "cell_id": "00007-c519da9d-40b5-4c8e-ab23-25bf6115802a",
    "deepnote_cell_type": "markdown"
   }
  },
  {
   "cell_type": "code",
   "source": "len(seasons.Team.unique())",
   "metadata": {
    "tags": [],
    "cell_id": "00008-8b1f53bc-ea7a-40c7-a077-d43520e55aae",
    "deepnote_to_be_reexecuted": false,
    "source_hash": "4ed1f7a2",
    "execution_start": 1622940990309,
    "execution_millis": 80372,
    "deepnote_cell_type": "code"
   },
   "outputs": [
    {
     "output_type": "execute_result",
     "execution_count": 5,
     "data": {
      "text/plain": "39"
     },
     "metadata": {}
    }
   ],
   "execution_count": null
  },
  {
   "cell_type": "code",
   "source": "seasons[seasons['season'] == '1996-97']['Rk_team']",
   "metadata": {
    "tags": [],
    "cell_id": "00007-3d878bff-95e3-4b08-b537-c946dec77753",
    "deepnote_to_be_reexecuted": false,
    "source_hash": "ec5d5150",
    "execution_start": 1622940990358,
    "execution_millis": 3,
    "deepnote_cell_type": "code"
   },
   "outputs": [],
   "execution_count": null
  },
  {
   "cell_type": "code",
   "source": "",
   "metadata": {
    "tags": [],
    "cell_id": "00008-6270e77e-edea-4edc-ba42-a8c37f9c3873",
    "deepnote_to_be_reexecuted": false,
    "source_hash": "b623e53d",
    "execution_start": 1622940990359,
    "execution_millis": 5,
    "deepnote_cell_type": "code"
   },
   "outputs": [],
   "execution_count": null
  },
  {
   "cell_type": "markdown",
   "source": "<a style='text-decoration:none;line-height:16px;display:flex;color:#5B5B62;padding:10px;justify-content:end;' href='https://deepnote.com?utm_source=created-in-deepnote-cell&projectId=c2780114-11d8-40ce-bce1-9fb9050ad918' target=\"_blank\">\n<img alt='Created in deepnote.com' style='display:inline;max-height:16px;margin:0px;margin-right:7.5px;' src='data:image/svg+xml;base64,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' > </img>\nCreated in <span style='font-weight:600;margin-left:4px;'>Deepnote</span></a>",
   "metadata": {
    "tags": [],
    "created_in_deepnote_cell": true,
    "deepnote_cell_type": "markdown"
   }
  }
 ],
 "nbformat": 4,
 "nbformat_minor": 2,
 "metadata": {
  "orig_nbformat": 2,
  "deepnote": {
   "is_reactive": false
  },
  "deepnote_notebook_id": "31a835e9-b096-4722-a225-3ad61e4715df",
  "deepnote_execution_queue": []
 }
}