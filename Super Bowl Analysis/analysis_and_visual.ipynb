{
 "cells": [
  {
   "cell_type": "code",
   "execution_count": 63,
   "metadata": {},
   "outputs": [],
   "source": [
    "import pandas as pd\n",
    "import numpy as np\n",
    "import matplotlib.pyplot as plt\n",
    "import seaborn as sns"
   ]
  },
  {
   "cell_type": "code",
   "execution_count": 64,
   "metadata": {
    "scrolled": true
   },
   "outputs": [
    {
     "data": {
      "text/html": [
       "<div>\n",
       "<style scoped>\n",
       "    .dataframe tbody tr th:only-of-type {\n",
       "        vertical-align: middle;\n",
       "    }\n",
       "\n",
       "    .dataframe tbody tr th {\n",
       "        vertical-align: top;\n",
       "    }\n",
       "\n",
       "    .dataframe thead th {\n",
       "        text-align: right;\n",
       "    }\n",
       "</style>\n",
       "<table border=\"1\" class=\"dataframe\">\n",
       "  <thead>\n",
       "    <tr style=\"text-align: right;\">\n",
       "      <th></th>\n",
       "      <th>SB</th>\n",
       "      <th>Date</th>\n",
       "      <th>Attendance</th>\n",
       "      <th>QB  Winner</th>\n",
       "      <th>Coach Winner</th>\n",
       "      <th>Winner</th>\n",
       "      <th>Winning Pts</th>\n",
       "      <th>QB Loser</th>\n",
       "      <th>Coach Loser</th>\n",
       "      <th>Loser</th>\n",
       "      <th>...</th>\n",
       "      <th>winnor_season_point_allow</th>\n",
       "      <th>winnor_end_streak</th>\n",
       "      <th>Winning_streak</th>\n",
       "      <th>Losing_streak</th>\n",
       "      <th>loser_season_winning_pct</th>\n",
       "      <th>loser_season_point_score</th>\n",
       "      <th>loser_season_point_allow</th>\n",
       "      <th>loser_end_streak</th>\n",
       "      <th>Winning_streak.1</th>\n",
       "      <th>Losing_streak.1</th>\n",
       "    </tr>\n",
       "  </thead>\n",
       "  <tbody>\n",
       "    <tr>\n",
       "      <td>0</td>\n",
       "      <td>I</td>\n",
       "      <td>15-Jan-67</td>\n",
       "      <td>61946</td>\n",
       "      <td>Bart Starr</td>\n",
       "      <td>Vince Lombardi</td>\n",
       "      <td>Green Bay Packers</td>\n",
       "      <td>35</td>\n",
       "      <td>Len Dawson</td>\n",
       "      <td>Hank Stram</td>\n",
       "      <td>Kansas City Chiefs</td>\n",
       "      <td>...</td>\n",
       "      <td>163</td>\n",
       "      <td>W5</td>\n",
       "      <td>5</td>\n",
       "      <td>0</td>\n",
       "      <td>0.846</td>\n",
       "      <td>448</td>\n",
       "      <td>276</td>\n",
       "      <td>W3</td>\n",
       "      <td>3</td>\n",
       "      <td>0</td>\n",
       "    </tr>\n",
       "    <tr>\n",
       "      <td>1</td>\n",
       "      <td>II</td>\n",
       "      <td>14-Jan-68</td>\n",
       "      <td>75546</td>\n",
       "      <td>Bart Starr</td>\n",
       "      <td>Vince Lombardi</td>\n",
       "      <td>Green Bay Packers</td>\n",
       "      <td>33</td>\n",
       "      <td>Daryle Lamonica</td>\n",
       "      <td>John Rauch</td>\n",
       "      <td>Oakland Raiders</td>\n",
       "      <td>...</td>\n",
       "      <td>209</td>\n",
       "      <td>L2</td>\n",
       "      <td>0</td>\n",
       "      <td>2</td>\n",
       "      <td>0.929</td>\n",
       "      <td>468</td>\n",
       "      <td>233</td>\n",
       "      <td>W10</td>\n",
       "      <td>10</td>\n",
       "      <td>0</td>\n",
       "    </tr>\n",
       "    <tr>\n",
       "      <td>2</td>\n",
       "      <td>III</td>\n",
       "      <td>12-Jan-69</td>\n",
       "      <td>75389</td>\n",
       "      <td>Joe Namath</td>\n",
       "      <td>Weeb Ewbank</td>\n",
       "      <td>New York Jets</td>\n",
       "      <td>16</td>\n",
       "      <td>Earl Morrall, Johnny Unitas</td>\n",
       "      <td>Don Shula</td>\n",
       "      <td>Baltimore Colts</td>\n",
       "      <td>...</td>\n",
       "      <td>280</td>\n",
       "      <td>W4</td>\n",
       "      <td>4</td>\n",
       "      <td>0</td>\n",
       "      <td>0.929</td>\n",
       "      <td>402</td>\n",
       "      <td>144</td>\n",
       "      <td>W8</td>\n",
       "      <td>8</td>\n",
       "      <td>0</td>\n",
       "    </tr>\n",
       "    <tr>\n",
       "      <td>3</td>\n",
       "      <td>IV</td>\n",
       "      <td>11-Jan-70</td>\n",
       "      <td>80562</td>\n",
       "      <td>Len Dawson, Mike Livingston</td>\n",
       "      <td>Hank Stram</td>\n",
       "      <td>Kansas City Chiefs</td>\n",
       "      <td>23</td>\n",
       "      <td>Joe Kapp</td>\n",
       "      <td>Bud Grant</td>\n",
       "      <td>Minnesota Vikings</td>\n",
       "      <td>...</td>\n",
       "      <td>177</td>\n",
       "      <td>L1</td>\n",
       "      <td>0</td>\n",
       "      <td>1</td>\n",
       "      <td>0.857</td>\n",
       "      <td>379</td>\n",
       "      <td>133</td>\n",
       "      <td>L1</td>\n",
       "      <td>0</td>\n",
       "      <td>1</td>\n",
       "    </tr>\n",
       "    <tr>\n",
       "      <td>4</td>\n",
       "      <td>V</td>\n",
       "      <td>17-Jan-71</td>\n",
       "      <td>79204</td>\n",
       "      <td>Earl Morrall , Johnny Unitas</td>\n",
       "      <td>Don McCafferty</td>\n",
       "      <td>Baltimore Colts</td>\n",
       "      <td>16</td>\n",
       "      <td>Craig Morton</td>\n",
       "      <td>Tom Landry</td>\n",
       "      <td>Dallas Cowboys</td>\n",
       "      <td>...</td>\n",
       "      <td>234</td>\n",
       "      <td>W4</td>\n",
       "      <td>4</td>\n",
       "      <td>0</td>\n",
       "      <td>0.714</td>\n",
       "      <td>299</td>\n",
       "      <td>221</td>\n",
       "      <td>W5</td>\n",
       "      <td>5</td>\n",
       "      <td>0</td>\n",
       "    </tr>\n",
       "  </tbody>\n",
       "</table>\n",
       "<p>5 rows × 36 columns</p>\n",
       "</div>"
      ],
      "text/plain": [
       "    SB       Date  Attendance                    QB  Winner    Coach Winner  \\\n",
       "0    I  15-Jan-67       61946                    Bart Starr  Vince Lombardi   \n",
       "1   II  14-Jan-68       75546                    Bart Starr  Vince Lombardi   \n",
       "2  III  12-Jan-69       75389                    Joe Namath     Weeb Ewbank   \n",
       "3   IV  11-Jan-70       80562   Len Dawson, Mike Livingston      Hank Stram   \n",
       "4    V  17-Jan-71       79204  Earl Morrall , Johnny Unitas  Don McCafferty   \n",
       "\n",
       "               Winner  Winning Pts                     QB Loser Coach Loser  \\\n",
       "0   Green Bay Packers           35                   Len Dawson  Hank Stram   \n",
       "1   Green Bay Packers           33             Daryle Lamonica   John Rauch   \n",
       "2       New York Jets           16  Earl Morrall, Johnny Unitas   Don Shula   \n",
       "3  Kansas City Chiefs           23                     Joe Kapp   Bud Grant   \n",
       "4     Baltimore Colts           16                 Craig Morton  Tom Landry   \n",
       "\n",
       "                Loser  ...  winnor_season_point_allow winnor_end_streak  \\\n",
       "0  Kansas City Chiefs  ...                        163                W5   \n",
       "1     Oakland Raiders  ...                        209                L2   \n",
       "2     Baltimore Colts  ...                        280                W4   \n",
       "3   Minnesota Vikings  ...                        177                L1   \n",
       "4      Dallas Cowboys  ...                        234                W4   \n",
       "\n",
       "  Winning_streak Losing_streak loser_season_winning_pct  \\\n",
       "0              5             0                    0.846   \n",
       "1              0             2                    0.929   \n",
       "2              4             0                    0.929   \n",
       "3              0             1                    0.857   \n",
       "4              4             0                    0.714   \n",
       "\n",
       "   loser_season_point_score  loser_season_point_allow loser_end_streak  \\\n",
       "0                       448                       276               W3   \n",
       "1                       468                       233              W10   \n",
       "2                       402                       144               W8   \n",
       "3                       379                       133               L1   \n",
       "4                       299                       221               W5   \n",
       "\n",
       "   Winning_streak.1  Losing_streak.1  \n",
       "0                 3                0  \n",
       "1                10                0  \n",
       "2                 8                0  \n",
       "3                 0                1  \n",
       "4                 5                0  \n",
       "\n",
       "[5 rows x 36 columns]"
      ]
     },
     "execution_count": 64,
     "metadata": {},
     "output_type": "execute_result"
    }
   ],
   "source": [
    "df = pd.read_csv('final_dataset.csv')\n",
    "df.head()"
   ]
  },
  {
   "cell_type": "code",
   "execution_count": 65,
   "metadata": {},
   "outputs": [
    {
     "data": {
      "text/plain": [
       "(54, 36)"
      ]
     },
     "execution_count": 65,
     "metadata": {},
     "output_type": "execute_result"
    }
   ],
   "source": [
    "df.shape"
   ]
  },
  {
   "cell_type": "code",
   "execution_count": 66,
   "metadata": {
    "scrolled": true
   },
   "outputs": [
    {
     "data": {
      "text/plain": [
       "Index(['SB', 'Date', 'Attendance', 'QB  Winner', 'Coach Winner', 'Winner',\n",
       "       'Winning Pts', 'QB Loser', 'Coach Loser', 'Loser', 'Losing Pts', 'MVP',\n",
       "       'Stadium', 'City', 'State', 'Point Difference', 'temperature',\n",
       "       'in/ out', 'Average Viewers', 'Total Viewers', 'TV_rating', 'TV_share',\n",
       "       '30-sec Ads cost', 'competitive_score', 'winnor_season_winning_pct',\n",
       "       'winnor_season_point_score', 'winnor_season_point_allow',\n",
       "       'winnor_end_streak', 'Winning_streak', 'Losing_streak',\n",
       "       'loser_season_winning_pct', 'loser_season_point_score',\n",
       "       'loser_season_point_allow', 'loser_end_streak', 'Winning_streak.1',\n",
       "       'Losing_streak.1'],\n",
       "      dtype='object')"
      ]
     },
     "execution_count": 66,
     "metadata": {},
     "output_type": "execute_result"
    }
   ],
   "source": [
    "df.columns"
   ]
  },
  {
   "cell_type": "code",
   "execution_count": 67,
   "metadata": {},
   "outputs": [],
   "source": [
    "\"\"\"\n",
    "Q1: General information about the history of Super Bowls.\n",
    "\"\"\"\n",
    "df1 = df[['SB', 'Attendance', 'QB  Winner', 'Coach Winner', 'Winner', 'Loser', 'MVP', 'Stadium', 'City', \\\n",
    "          'State', 'Point Difference']]"
   ]
  },
  {
   "cell_type": "code",
   "execution_count": 68,
   "metadata": {
    "scrolled": true
   },
   "outputs": [
    {
     "data": {
      "text/html": [
       "<div>\n",
       "<style scoped>\n",
       "    .dataframe tbody tr th:only-of-type {\n",
       "        vertical-align: middle;\n",
       "    }\n",
       "\n",
       "    .dataframe tbody tr th {\n",
       "        vertical-align: top;\n",
       "    }\n",
       "\n",
       "    .dataframe thead th {\n",
       "        text-align: right;\n",
       "    }\n",
       "</style>\n",
       "<table border=\"1\" class=\"dataframe\">\n",
       "  <thead>\n",
       "    <tr style=\"text-align: right;\">\n",
       "      <th></th>\n",
       "      <th></th>\n",
       "      <th></th>\n",
       "      <th>Number of SB hosted</th>\n",
       "      <th>Average Point Difference</th>\n",
       "    </tr>\n",
       "    <tr>\n",
       "      <th>Stadium</th>\n",
       "      <th>City</th>\n",
       "      <th>State</th>\n",
       "      <th></th>\n",
       "      <th></th>\n",
       "    </tr>\n",
       "  </thead>\n",
       "  <tbody>\n",
       "    <tr>\n",
       "      <td>Louisiana Superdome</td>\n",
       "      <td>New Orleans</td>\n",
       "      <td>Louisiana</td>\n",
       "      <td>5</td>\n",
       "      <td>23.000000</td>\n",
       "    </tr>\n",
       "    <tr>\n",
       "      <td>Orange Bowl</td>\n",
       "      <td>Miami</td>\n",
       "      <td>Florida</td>\n",
       "      <td>5</td>\n",
       "      <td>7.800000</td>\n",
       "    </tr>\n",
       "    <tr>\n",
       "      <td>Rose Bowl</td>\n",
       "      <td>Pasadena</td>\n",
       "      <td>California</td>\n",
       "      <td>5</td>\n",
       "      <td>18.800000</td>\n",
       "    </tr>\n",
       "    <tr>\n",
       "      <td>Tulane Stadium</td>\n",
       "      <td>New Orleans</td>\n",
       "      <td>Louisiana</td>\n",
       "      <td>3</td>\n",
       "      <td>15.666667</td>\n",
       "    </tr>\n",
       "    <tr>\n",
       "      <td>Joe Robbie Stadium</td>\n",
       "      <td>Miami Gardens</td>\n",
       "      <td>Florida</td>\n",
       "      <td>2</td>\n",
       "      <td>13.500000</td>\n",
       "    </tr>\n",
       "  </tbody>\n",
       "</table>\n",
       "</div>"
      ],
      "text/plain": [
       "                                              Number of SB hosted  \\\n",
       "Stadium             City          State                             \n",
       "Louisiana Superdome New Orleans   Louisiana                     5   \n",
       "Orange Bowl         Miami         Florida                       5   \n",
       "Rose Bowl           Pasadena      California                    5   \n",
       "Tulane Stadium      New Orleans   Louisiana                     3   \n",
       "Joe Robbie Stadium  Miami Gardens Florida                       2   \n",
       "\n",
       "                                              Average Point Difference  \n",
       "Stadium             City          State                                 \n",
       "Louisiana Superdome New Orleans   Louisiana                  23.000000  \n",
       "Orange Bowl         Miami         Florida                     7.800000  \n",
       "Rose Bowl           Pasadena      California                 18.800000  \n",
       "Tulane Stadium      New Orleans   Louisiana                  15.666667  \n",
       "Joe Robbie Stadium  Miami Gardens Florida                    13.500000  "
      ]
     },
     "execution_count": 68,
     "metadata": {},
     "output_type": "execute_result"
    }
   ],
   "source": [
    "\"\"\"\n",
    "What are the top five stadiums that hosted the most number of Super Bowls? \n",
    "And what was the average point difference for these top five stadiums?\n",
    "\"\"\"\n",
    "new_df1 = df1.groupby(['Stadium', 'City', 'State'])['Point Difference'].agg(['count', 'mean']).sort_values(by='count', \\\n",
    "                                                                                                 ascending=False).head()\n",
    "new_df1.columns = ['Number of SB hosted', 'Average Point Difference']\n",
    "new_df1"
   ]
  },
  {
   "cell_type": "code",
   "execution_count": 69,
   "metadata": {},
   "outputs": [
    {
     "data": {
      "text/html": [
       "<div>\n",
       "<style scoped>\n",
       "    .dataframe tbody tr th:only-of-type {\n",
       "        vertical-align: middle;\n",
       "    }\n",
       "\n",
       "    .dataframe tbody tr th {\n",
       "        vertical-align: top;\n",
       "    }\n",
       "\n",
       "    .dataframe thead th {\n",
       "        text-align: right;\n",
       "    }\n",
       "</style>\n",
       "<table border=\"1\" class=\"dataframe\">\n",
       "  <thead>\n",
       "    <tr style=\"text-align: right;\">\n",
       "      <th></th>\n",
       "      <th>Number of SB wins</th>\n",
       "      <th>Average Point Difference</th>\n",
       "    </tr>\n",
       "    <tr>\n",
       "      <th>QB  Winner</th>\n",
       "      <th></th>\n",
       "      <th></th>\n",
       "    </tr>\n",
       "  </thead>\n",
       "  <tbody>\n",
       "    <tr>\n",
       "      <td>Tom Brady</td>\n",
       "      <td>6</td>\n",
       "      <td>4.833333</td>\n",
       "    </tr>\n",
       "    <tr>\n",
       "      <td>Terry Bradshaw</td>\n",
       "      <td>4</td>\n",
       "      <td>7.500000</td>\n",
       "    </tr>\n",
       "    <tr>\n",
       "      <td>Troy Aikman</td>\n",
       "      <td>3</td>\n",
       "      <td>20.666667</td>\n",
       "    </tr>\n",
       "    <tr>\n",
       "      <td>Joe Montana</td>\n",
       "      <td>3</td>\n",
       "      <td>18.000000</td>\n",
       "    </tr>\n",
       "    <tr>\n",
       "      <td>Eli Manning</td>\n",
       "      <td>2</td>\n",
       "      <td>3.500000</td>\n",
       "    </tr>\n",
       "  </tbody>\n",
       "</table>\n",
       "</div>"
      ],
      "text/plain": [
       "                Number of SB wins  Average Point Difference\n",
       "QB  Winner                                                 \n",
       "Tom Brady                       6                  4.833333\n",
       "Terry Bradshaw                  4                  7.500000\n",
       "Troy Aikman                     3                 20.666667\n",
       "Joe Montana                     3                 18.000000\n",
       "Eli Manning                     2                  3.500000"
      ]
     },
     "execution_count": 69,
     "metadata": {},
     "output_type": "execute_result"
    }
   ],
   "source": [
    "\"\"\"\n",
    "Who are the top 5 QBs that have won the most super bowls? \n",
    "And what was the average point difference for their wins?\n",
    "\"\"\"\n",
    "new_df1_ = df1.groupby('QB  Winner')['Point Difference'].agg(['count', 'mean']).sort_values(by='count', ascending=False).head()\n",
    "new_df1_.columns = ['Number of SB wins','Average Point Difference']\n",
    "new_df1_"
   ]
  },
  {
   "cell_type": "code",
   "execution_count": 70,
   "metadata": {},
   "outputs": [
    {
     "data": {
      "text/html": [
       "<div>\n",
       "<style scoped>\n",
       "    .dataframe tbody tr th:only-of-type {\n",
       "        vertical-align: middle;\n",
       "    }\n",
       "\n",
       "    .dataframe tbody tr th {\n",
       "        vertical-align: top;\n",
       "    }\n",
       "\n",
       "    .dataframe thead th {\n",
       "        text-align: right;\n",
       "    }\n",
       "</style>\n",
       "<table border=\"1\" class=\"dataframe\">\n",
       "  <thead>\n",
       "    <tr style=\"text-align: right;\">\n",
       "      <th></th>\n",
       "      <th>Coach Winner</th>\n",
       "      <th>Loser</th>\n",
       "      <th>MVP</th>\n",
       "      <th>Stadium</th>\n",
       "      <th>City</th>\n",
       "      <th>State</th>\n",
       "    </tr>\n",
       "    <tr>\n",
       "      <th>SB</th>\n",
       "      <th></th>\n",
       "      <th></th>\n",
       "      <th></th>\n",
       "      <th></th>\n",
       "      <th></th>\n",
       "      <th></th>\n",
       "    </tr>\n",
       "  </thead>\n",
       "  <tbody>\n",
       "    <tr>\n",
       "      <td>XXXVI</td>\n",
       "      <td>Bill Belichick</td>\n",
       "      <td>St. Louis Rams</td>\n",
       "      <td>Tom Brady</td>\n",
       "      <td>Louisiana Superdome</td>\n",
       "      <td>New Orleans</td>\n",
       "      <td>Louisiana</td>\n",
       "    </tr>\n",
       "    <tr>\n",
       "      <td>XXXVIII</td>\n",
       "      <td>Bill Belichick</td>\n",
       "      <td>Carolina Panthers</td>\n",
       "      <td>Tom Brady</td>\n",
       "      <td>Reliant Stadium</td>\n",
       "      <td>Houston</td>\n",
       "      <td>Texas</td>\n",
       "    </tr>\n",
       "    <tr>\n",
       "      <td>XXXIX</td>\n",
       "      <td>Bill Belichick</td>\n",
       "      <td>Philadelphia Eagles</td>\n",
       "      <td>Deion Branch</td>\n",
       "      <td>Alltel Stadium</td>\n",
       "      <td>Jacksonville</td>\n",
       "      <td>Florida</td>\n",
       "    </tr>\n",
       "    <tr>\n",
       "      <td>XLIX</td>\n",
       "      <td>Bill Belichick</td>\n",
       "      <td>Seattle Seahawks</td>\n",
       "      <td>Tom Brady</td>\n",
       "      <td>University of Phoenix Stadium</td>\n",
       "      <td>Glendale</td>\n",
       "      <td>Arizona</td>\n",
       "    </tr>\n",
       "    <tr>\n",
       "      <td>LI</td>\n",
       "      <td>Bill Belichick</td>\n",
       "      <td>Atlanta Falcons</td>\n",
       "      <td>Tom Brady</td>\n",
       "      <td>NRG Stadium</td>\n",
       "      <td>Houston</td>\n",
       "      <td>Texas</td>\n",
       "    </tr>\n",
       "    <tr>\n",
       "      <td>LIII</td>\n",
       "      <td>Bill Belichick</td>\n",
       "      <td>Los Angeles Rams</td>\n",
       "      <td>Julian Edelman</td>\n",
       "      <td>Mercedes-Benz Stadium</td>\n",
       "      <td>Atlanta</td>\n",
       "      <td>Georgia</td>\n",
       "    </tr>\n",
       "  </tbody>\n",
       "</table>\n",
       "</div>"
      ],
      "text/plain": [
       "           Coach Winner                Loser             MVP  \\\n",
       "SB                                                             \n",
       "XXXVI    Bill Belichick       St. Louis Rams       Tom Brady   \n",
       "XXXVIII  Bill Belichick    Carolina Panthers       Tom Brady   \n",
       "XXXIX    Bill Belichick  Philadelphia Eagles    Deion Branch   \n",
       "XLIX     Bill Belichick     Seattle Seahawks       Tom Brady   \n",
       "LI       Bill Belichick      Atlanta Falcons       Tom Brady   \n",
       "LIII     Bill Belichick     Los Angeles Rams  Julian Edelman   \n",
       "\n",
       "                               Stadium          City      State  \n",
       "SB                                                               \n",
       "XXXVI              Louisiana Superdome   New Orleans  Louisiana  \n",
       "XXXVIII                Reliant Stadium       Houston      Texas  \n",
       "XXXIX                   Alltel Stadium  Jacksonville    Florida  \n",
       "XLIX     University of Phoenix Stadium      Glendale    Arizona  \n",
       "LI                         NRG Stadium       Houston      Texas  \n",
       "LIII             Mercedes-Benz Stadium       Atlanta    Georgia  "
      ]
     },
     "execution_count": 70,
     "metadata": {},
     "output_type": "execute_result"
    }
   ],
   "source": [
    "\"\"\"\n",
    "Who did the most Super Bowl winning QB played against? \n",
    "Who is the MVP in those Super Bowls? \n",
    "And where did he won those Super Bowls?\n",
    "\"\"\"\n",
    "df1[df1['QB  Winner']=='Tom Brady'][['SB','Coach Winner','Loser','MVP','Stadium','City','State']].set_index('SB')"
   ]
  },
  {
   "cell_type": "code",
   "execution_count": 71,
   "metadata": {
    "scrolled": false
   },
   "outputs": [
    {
     "data": {
      "text/html": [
       "<div>\n",
       "<style scoped>\n",
       "    .dataframe tbody tr th:only-of-type {\n",
       "        vertical-align: middle;\n",
       "    }\n",
       "\n",
       "    .dataframe tbody tr th {\n",
       "        vertical-align: top;\n",
       "    }\n",
       "\n",
       "    .dataframe thead th {\n",
       "        text-align: right;\n",
       "    }\n",
       "</style>\n",
       "<table border=\"1\" class=\"dataframe\">\n",
       "  <thead>\n",
       "    <tr style=\"text-align: right;\">\n",
       "      <th></th>\n",
       "      <th>Attendance</th>\n",
       "      <th>Point Difference</th>\n",
       "      <th>temperature</th>\n",
       "      <th>in/ out</th>\n",
       "    </tr>\n",
       "    <tr>\n",
       "      <th>SB</th>\n",
       "      <th></th>\n",
       "      <th></th>\n",
       "      <th></th>\n",
       "      <th></th>\n",
       "    </tr>\n",
       "  </thead>\n",
       "  <tbody>\n",
       "    <tr>\n",
       "      <td>I</td>\n",
       "      <td>61946</td>\n",
       "      <td>25</td>\n",
       "      <td>72</td>\n",
       "      <td>outdoors</td>\n",
       "    </tr>\n",
       "    <tr>\n",
       "      <td>II</td>\n",
       "      <td>75546</td>\n",
       "      <td>19</td>\n",
       "      <td>68</td>\n",
       "      <td>outdoors</td>\n",
       "    </tr>\n",
       "    <tr>\n",
       "      <td>III</td>\n",
       "      <td>75389</td>\n",
       "      <td>9</td>\n",
       "      <td>73</td>\n",
       "      <td>outdoors</td>\n",
       "    </tr>\n",
       "    <tr>\n",
       "      <td>IV</td>\n",
       "      <td>80562</td>\n",
       "      <td>16</td>\n",
       "      <td>61</td>\n",
       "      <td>outdoors</td>\n",
       "    </tr>\n",
       "    <tr>\n",
       "      <td>V</td>\n",
       "      <td>79204</td>\n",
       "      <td>3</td>\n",
       "      <td>70</td>\n",
       "      <td>outdoors</td>\n",
       "    </tr>\n",
       "  </tbody>\n",
       "</table>\n",
       "</div>"
      ],
      "text/plain": [
       "     Attendance  Point Difference  temperature   in/ out\n",
       "SB                                                      \n",
       "I         61946                25           72  outdoors\n",
       "II        75546                19           68  outdoors\n",
       "III       75389                 9           73  outdoors\n",
       "IV        80562                16           61  outdoors\n",
       "V         79204                 3           70  outdoors"
      ]
     },
     "execution_count": 71,
     "metadata": {},
     "output_type": "execute_result"
    }
   ],
   "source": [
    "\"\"\"\n",
    "Q2:Investigate whether indoor or outdoor has an influence on \n",
    "the point difference or the number of attendees and whether temperature has some impact on the point \n",
    "difference or the number of attendees.\n",
    "\"\"\"\n",
    "df2 = df[['SB', 'Attendance', 'Point Difference', 'temperature',\n",
    "       'in/ out']]\n",
    "df2.set_index('SB').head()"
   ]
  },
  {
   "cell_type": "code",
   "execution_count": 72,
   "metadata": {},
   "outputs": [
    {
     "data": {
      "image/png": "[encoded data removed]",
      "text/plain": [
       "<Figure size 453.625x360 with 1 Axes>"
      ]
     },
     "metadata": {
      "needs_background": "light"
     },
     "output_type": "display_data"
    }
   ],
   "source": [
    "\"\"\"\n",
    "Trying to find patterns for the influence of the environment on attendance and point difference\n",
    "\"\"\"\n",
    "sns_plot1 = sns.relplot(x=\"temperature\",y=\"Point Difference\",data=df2, kind=\"scatter\",size=\"Attendance\", hue='in/ out')\n",
    "sns_plot1.savefig('envir1.png')"
   ]
  },
  {
   "cell_type": "code",
   "execution_count": 73,
   "metadata": {
    "scrolled": true
   },
   "outputs": [
    {
     "data": {
      "image/png": "[encoded data removed]",
      "text/plain": [
       "<Figure size 432x288 with 1 Axes>"
      ]
     },
     "metadata": {
      "needs_background": "light"
     },
     "output_type": "display_data"
    }
   ],
   "source": [
    "\"\"\"\n",
    "Does indoor or outdoor have influence on the number of attendance?\n",
    "Indoor stadiums can contain wide range of audience with several outliers.\n",
    "\"\"\"\n",
    "fig, ax = plt.subplots()\n",
    "sns.boxplot(x=df2['in/ out'],y=df2['Attendance'], ax=ax)\n",
    "plt.savefig('envir2.png')"
   ]
  },
  {
   "cell_type": "code",
   "execution_count": 74,
   "metadata": {
    "scrolled": false
   },
   "outputs": [
    {
     "data": {
      "text/plain": [
       "<matplotlib.axes._subplots.AxesSubplot at 0x7fd0c8b52890>"
      ]
     },
     "execution_count": 74,
     "metadata": {},
     "output_type": "execute_result"
    },
    {
     "data": {
      "image/png": "[encoded data removed]",
      "text/plain": [
       "<Figure size 432x288 with 1 Axes>"
      ]
     },
     "metadata": {
      "needs_background": "light"
     },
     "output_type": "display_data"
    }
   ],
   "source": [
    "# plot the histogram of the temperature in order to find proper range for each bin\n",
    "sns.distplot(df2.temperature)"
   ]
  },
  {
   "cell_type": "code",
   "execution_count": 75,
   "metadata": {
    "scrolled": true
   },
   "outputs": [
    {
     "name": "stderr",
     "output_type": "stream",
     "text": [
      "/opt/anaconda3/lib/python3.7/site-packages/ipykernel_launcher.py:3: SettingWithCopyWarning: \n",
      "A value is trying to be set on a copy of a slice from a DataFrame.\n",
      "Try using .loc[row_indexer,col_indexer] = value instead\n",
      "\n",
      "See the caveats in the documentation: http://pandas.pydata.org/pandas-docs/stable/user_guide/indexing.html#returning-a-view-versus-a-copy\n",
      "  This is separate from the ipykernel package so we can avoid doing imports until\n"
     ]
    }
   ],
   "source": [
    "df2['Temp_group'] = pd.cut(df2.temperature,\n",
    "                     bins=[0, 50, 65, 75, 85],\n",
    "                     labels=[\"Freezing\", \"Cold\", \"Comfortable\", \"Hot\"])"
   ]
  },
  {
   "cell_type": "code",
   "execution_count": 76,
   "metadata": {},
   "outputs": [
    {
     "data": {
      "text/html": [
       "<div>\n",
       "<style scoped>\n",
       "    .dataframe tbody tr th:only-of-type {\n",
       "        vertical-align: middle;\n",
       "    }\n",
       "\n",
       "    .dataframe tbody tr th {\n",
       "        vertical-align: top;\n",
       "    }\n",
       "\n",
       "    .dataframe thead th {\n",
       "        text-align: right;\n",
       "    }\n",
       "</style>\n",
       "<table border=\"1\" class=\"dataframe\">\n",
       "  <thead>\n",
       "    <tr style=\"text-align: right;\">\n",
       "      <th></th>\n",
       "      <th>SB</th>\n",
       "      <th>Attendance</th>\n",
       "      <th>Point Difference</th>\n",
       "      <th>temperature</th>\n",
       "      <th>in/ out</th>\n",
       "      <th>Temp_group</th>\n",
       "    </tr>\n",
       "  </thead>\n",
       "  <tbody>\n",
       "    <tr>\n",
       "      <td>0</td>\n",
       "      <td>I</td>\n",
       "      <td>61946</td>\n",
       "      <td>25</td>\n",
       "      <td>72</td>\n",
       "      <td>outdoors</td>\n",
       "      <td>Comfortable</td>\n",
       "    </tr>\n",
       "    <tr>\n",
       "      <td>1</td>\n",
       "      <td>II</td>\n",
       "      <td>75546</td>\n",
       "      <td>19</td>\n",
       "      <td>68</td>\n",
       "      <td>outdoors</td>\n",
       "      <td>Comfortable</td>\n",
       "    </tr>\n",
       "    <tr>\n",
       "      <td>2</td>\n",
       "      <td>III</td>\n",
       "      <td>75389</td>\n",
       "      <td>9</td>\n",
       "      <td>73</td>\n",
       "      <td>outdoors</td>\n",
       "      <td>Comfortable</td>\n",
       "    </tr>\n",
       "    <tr>\n",
       "      <td>3</td>\n",
       "      <td>IV</td>\n",
       "      <td>80562</td>\n",
       "      <td>16</td>\n",
       "      <td>61</td>\n",
       "      <td>outdoors</td>\n",
       "      <td>Cold</td>\n",
       "    </tr>\n",
       "    <tr>\n",
       "      <td>4</td>\n",
       "      <td>V</td>\n",
       "      <td>79204</td>\n",
       "      <td>3</td>\n",
       "      <td>70</td>\n",
       "      <td>outdoors</td>\n",
       "      <td>Comfortable</td>\n",
       "    </tr>\n",
       "  </tbody>\n",
       "</table>\n",
       "</div>"
      ],
      "text/plain": [
       "    SB  Attendance  Point Difference  temperature   in/ out   Temp_group\n",
       "0    I       61946                25           72  outdoors  Comfortable\n",
       "1   II       75546                19           68  outdoors  Comfortable\n",
       "2  III       75389                 9           73  outdoors  Comfortable\n",
       "3   IV       80562                16           61  outdoors         Cold\n",
       "4    V       79204                 3           70  outdoors  Comfortable"
      ]
     },
     "execution_count": 76,
     "metadata": {},
     "output_type": "execute_result"
    }
   ],
   "source": [
    "df2.head()"
   ]
  },
  {
   "cell_type": "code",
   "execution_count": 77,
   "metadata": {},
   "outputs": [
    {
     "data": {
      "image/png": "[encoded data removed]",
      "text/plain": [
       "<Figure size 432x288 with 1 Axes>"
      ]
     },
     "metadata": {
      "needs_background": "light"
     },
     "output_type": "display_data"
    }
   ],
   "source": [
    "\"\"\"\n",
    "Does temperature have influence on the number of attendance?\n",
    "Temperature doesn't seem to have huge influence on the number of attendance.\n",
    "\"\"\"\n",
    "fig, ax = plt.subplots()\n",
    "sns.boxplot(x=df2['Temp_group'],y=df2['Attendance'], ax=ax)\n",
    "plt.savefig('envir3.png')"
   ]
  },
  {
   "cell_type": "code",
   "execution_count": 78,
   "metadata": {},
   "outputs": [
    {
     "data": {
      "image/png": "[encoded data removed]",
      "text/plain": [
       "<Figure size 432x288 with 1 Axes>"
      ]
     },
     "metadata": {
      "needs_background": "light"
     },
     "output_type": "display_data"
    }
   ],
   "source": [
    "\"\"\"\n",
    "Does temperature have influence on Point Difference?\n",
    "Temperature seems to have some influence on the point difference. Comfortable temperature environment are more competitive\n",
    "\"\"\"\n",
    "fig, ax = plt.subplots()\n",
    "sns.boxplot(x=df2['Temp_group'],y=df2['Point Difference'], ax=ax)\n",
    "plt.savefig('envir4.png')"
   ]
  },
  {
   "cell_type": "code",
   "execution_count": 79,
   "metadata": {},
   "outputs": [],
   "source": [
    "envir_vs_performance=df2.groupby(['in/ out','Temp_group'])[['Attendance', 'Point Difference']].mean()"
   ]
  },
  {
   "cell_type": "code",
   "execution_count": 80,
   "metadata": {
    "scrolled": true
   },
   "outputs": [
    {
     "data": {
      "text/html": [
       "<div>\n",
       "<style scoped>\n",
       "    .dataframe tbody tr th:only-of-type {\n",
       "        vertical-align: middle;\n",
       "    }\n",
       "\n",
       "    .dataframe tbody tr th {\n",
       "        vertical-align: top;\n",
       "    }\n",
       "\n",
       "    .dataframe thead th {\n",
       "        text-align: right;\n",
       "    }\n",
       "</style>\n",
       "<table border=\"1\" class=\"dataframe\">\n",
       "  <thead>\n",
       "    <tr style=\"text-align: right;\">\n",
       "      <th></th>\n",
       "      <th></th>\n",
       "      <th>Attendance</th>\n",
       "      <th>Point Difference</th>\n",
       "    </tr>\n",
       "    <tr>\n",
       "      <th>in/ out</th>\n",
       "      <th>Temp_group</th>\n",
       "      <th></th>\n",
       "      <th></th>\n",
       "    </tr>\n",
       "  </thead>\n",
       "  <tbody>\n",
       "    <tr>\n",
       "      <td rowspan=\"4\" valign=\"top\">indoors</td>\n",
       "      <td>Freezing</td>\n",
       "      <td>No data in this category</td>\n",
       "      <td>No data in this category</td>\n",
       "    </tr>\n",
       "    <tr>\n",
       "      <td>Cold</td>\n",
       "      <td>No data in this category</td>\n",
       "      <td>No data in this category</td>\n",
       "    </tr>\n",
       "    <tr>\n",
       "      <td>Comfortable</td>\n",
       "      <td>72849.4</td>\n",
       "      <td>15.8182</td>\n",
       "    </tr>\n",
       "    <tr>\n",
       "      <td>Hot</td>\n",
       "      <td>No data in this category</td>\n",
       "      <td>No data in this category</td>\n",
       "    </tr>\n",
       "    <tr>\n",
       "      <td rowspan=\"4\" valign=\"top\">outdoors</td>\n",
       "      <td>Freezing</td>\n",
       "      <td>77017.8</td>\n",
       "      <td>17.4</td>\n",
       "    </tr>\n",
       "    <tr>\n",
       "      <td>Cold</td>\n",
       "      <td>82495.4</td>\n",
       "      <td>15.0714</td>\n",
       "    </tr>\n",
       "    <tr>\n",
       "      <td>Comfortable</td>\n",
       "      <td>74638.8</td>\n",
       "      <td>10.5294</td>\n",
       "    </tr>\n",
       "    <tr>\n",
       "      <td>Hot</td>\n",
       "      <td>78568.4</td>\n",
       "      <td>14.2857</td>\n",
       "    </tr>\n",
       "  </tbody>\n",
       "</table>\n",
       "</div>"
      ],
      "text/plain": [
       "                                    Attendance          Point Difference\n",
       "in/ out  Temp_group                                                     \n",
       "indoors  Freezing     No data in this category  No data in this category\n",
       "         Cold         No data in this category  No data in this category\n",
       "         Comfortable                   72849.4                   15.8182\n",
       "         Hot          No data in this category  No data in this category\n",
       "outdoors Freezing                      77017.8                      17.4\n",
       "         Cold                          82495.4                   15.0714\n",
       "         Comfortable                   74638.8                   10.5294\n",
       "         Hot                           78568.4                   14.2857"
      ]
     },
     "execution_count": 80,
     "metadata": {},
     "output_type": "execute_result"
    }
   ],
   "source": [
    "envir_vs_performance.fillna(\"No data in this category\")"
   ]
  },
  {
   "cell_type": "code",
   "execution_count": 81,
   "metadata": {},
   "outputs": [
    {
     "data": {
      "text/plain": [
       "<seaborn.axisgrid.FacetGrid at 0x7fd0c90c6110>"
      ]
     },
     "execution_count": 81,
     "metadata": {},
     "output_type": "execute_result"
    },
    {
     "data": {
      "image/png": "[encoded data removed]",
      "text/plain": [
       "<Figure size 1440x720 with 8 Axes>"
      ]
     },
     "metadata": {
      "needs_background": "light"
     },
     "output_type": "display_data"
    }
   ],
   "source": [
    "\"\"\"\n",
    "Trying to find patterns for the influence of the environment on attendance and point difference\n",
    "\"\"\"\n",
    "sns.relplot(x=\"Point Difference\", y=\"Attendance\",\n",
    "                col=\"Temp_group\", row=\"in/ out\", data=df2)"
   ]
  },
  {
   "cell_type": "code",
   "execution_count": 82,
   "metadata": {},
   "outputs": [
    {
     "data": {
      "text/html": [
       "<div>\n",
       "<style scoped>\n",
       "    .dataframe tbody tr th:only-of-type {\n",
       "        vertical-align: middle;\n",
       "    }\n",
       "\n",
       "    .dataframe tbody tr th {\n",
       "        vertical-align: top;\n",
       "    }\n",
       "\n",
       "    .dataframe thead th {\n",
       "        text-align: right;\n",
       "    }\n",
       "</style>\n",
       "<table border=\"1\" class=\"dataframe\">\n",
       "  <thead>\n",
       "    <tr style=\"text-align: right;\">\n",
       "      <th></th>\n",
       "      <th>Point Difference</th>\n",
       "      <th>Average Viewers</th>\n",
       "      <th>Total Viewers</th>\n",
       "      <th>TV_rating</th>\n",
       "      <th>TV_share</th>\n",
       "      <th>competitive_score</th>\n",
       "    </tr>\n",
       "    <tr>\n",
       "      <th>SB</th>\n",
       "      <th></th>\n",
       "      <th></th>\n",
       "      <th></th>\n",
       "      <th></th>\n",
       "      <th></th>\n",
       "      <th></th>\n",
       "    </tr>\n",
       "  </thead>\n",
       "  <tbody>\n",
       "    <tr>\n",
       "      <td>I</td>\n",
       "      <td>25</td>\n",
       "      <td>25590000</td>\n",
       "      <td>37750000</td>\n",
       "      <td>33.0</td>\n",
       "      <td>40</td>\n",
       "      <td>7.75</td>\n",
       "    </tr>\n",
       "    <tr>\n",
       "      <td>II</td>\n",
       "      <td>19</td>\n",
       "      <td>39120000</td>\n",
       "      <td>51300000</td>\n",
       "      <td>36.8</td>\n",
       "      <td>68</td>\n",
       "      <td>4.75</td>\n",
       "    </tr>\n",
       "    <tr>\n",
       "      <td>III</td>\n",
       "      <td>9</td>\n",
       "      <td>41660000</td>\n",
       "      <td>54500000</td>\n",
       "      <td>36.0</td>\n",
       "      <td>70</td>\n",
       "      <td>4.25</td>\n",
       "    </tr>\n",
       "    <tr>\n",
       "      <td>IV</td>\n",
       "      <td>16</td>\n",
       "      <td>44270000</td>\n",
       "      <td>59200000</td>\n",
       "      <td>39.4</td>\n",
       "      <td>69</td>\n",
       "      <td>4.00</td>\n",
       "    </tr>\n",
       "    <tr>\n",
       "      <td>V</td>\n",
       "      <td>3</td>\n",
       "      <td>46040000</td>\n",
       "      <td>58500000</td>\n",
       "      <td>39.9</td>\n",
       "      <td>75</td>\n",
       "      <td>4.25</td>\n",
       "    </tr>\n",
       "  </tbody>\n",
       "</table>\n",
       "</div>"
      ],
      "text/plain": [
       "     Point Difference  Average Viewers  Total Viewers  TV_rating  TV_share  \\\n",
       "SB                                                                           \n",
       "I                  25         25590000       37750000       33.0        40   \n",
       "II                 19         39120000       51300000       36.8        68   \n",
       "III                 9         41660000       54500000       36.0        70   \n",
       "IV                 16         44270000       59200000       39.4        69   \n",
       "V                   3         46040000       58500000       39.9        75   \n",
       "\n",
       "     competitive_score  \n",
       "SB                      \n",
       "I                 7.75  \n",
       "II                4.75  \n",
       "III               4.25  \n",
       "IV                4.00  \n",
       "V                 4.25  "
      ]
     },
     "execution_count": 82,
     "metadata": {},
     "output_type": "execute_result"
    }
   ],
   "source": [
    "\"\"\"\n",
    "Q3:Investigate whether the competitiveness of the game (calculated by the \n",
    "average point difference for every quarter) has the influence on the television ratings. \n",
    "competitive_score was converted to a categorical variable. \n",
    "Data for 'Average Viewers', 'Total Viewers', 'TV_rating', 'TV_share' were scraped from the web.\n",
    "\"\"\"\n",
    "df3 = df[['SB', 'Point Difference', 'Average Viewers', 'Total Viewers', 'TV_rating', 'TV_share','competitive_score']]\n",
    "# df3.dtypes\n",
    "df3.set_index('SB').head()"
   ]
  },
  {
   "cell_type": "code",
   "execution_count": 83,
   "metadata": {},
   "outputs": [
    {
     "data": {
      "text/plain": [
       "<matplotlib.axes._subplots.AxesSubplot at 0x7fd0c7bc3790>"
      ]
     },
     "execution_count": 83,
     "metadata": {},
     "output_type": "execute_result"
    },
    {
     "data": {
      "image/png": "[encoded data removed]",
      "text/plain": [
       "<Figure size 432x288 with 1 Axes>"
      ]
     },
     "metadata": {
      "needs_background": "light"
     },
     "output_type": "display_data"
    }
   ],
   "source": [
    "sns.distplot(df3.competitive_score)"
   ]
  },
  {
   "cell_type": "code",
   "execution_count": 84,
   "metadata": {},
   "outputs": [
    {
     "name": "stderr",
     "output_type": "stream",
     "text": [
      "/opt/anaconda3/lib/python3.7/site-packages/ipykernel_launcher.py:3: SettingWithCopyWarning: \n",
      "A value is trying to be set on a copy of a slice from a DataFrame.\n",
      "Try using .loc[row_indexer,col_indexer] = value instead\n",
      "\n",
      "See the caveats in the documentation: http://pandas.pydata.org/pandas-docs/stable/user_guide/indexing.html#returning-a-view-versus-a-copy\n",
      "  This is separate from the ipykernel package so we can avoid doing imports until\n"
     ]
    }
   ],
   "source": [
    "df3['comp_group'] = pd.cut(df3.competitive_score,\n",
    "                     bins=[0, 4.5, 6, 10, 13],\n",
    "                     labels=[\"Highly Competitive\", \"Comopetitive\", \" Not Comopetitive\", \"No match\"])"
   ]
  },
  {
   "cell_type": "code",
   "execution_count": 85,
   "metadata": {},
   "outputs": [
    {
     "data": {
      "text/html": [
       "<div>\n",
       "<style scoped>\n",
       "    .dataframe tbody tr th:only-of-type {\n",
       "        vertical-align: middle;\n",
       "    }\n",
       "\n",
       "    .dataframe tbody tr th {\n",
       "        vertical-align: top;\n",
       "    }\n",
       "\n",
       "    .dataframe thead th {\n",
       "        text-align: right;\n",
       "    }\n",
       "</style>\n",
       "<table border=\"1\" class=\"dataframe\">\n",
       "  <thead>\n",
       "    <tr style=\"text-align: right;\">\n",
       "      <th></th>\n",
       "      <th>SB</th>\n",
       "      <th>Point Difference</th>\n",
       "      <th>Average Viewers</th>\n",
       "      <th>Total Viewers</th>\n",
       "      <th>TV_rating</th>\n",
       "      <th>TV_share</th>\n",
       "      <th>competitive_score</th>\n",
       "      <th>comp_group</th>\n",
       "    </tr>\n",
       "  </thead>\n",
       "  <tbody>\n",
       "    <tr>\n",
       "      <td>0</td>\n",
       "      <td>I</td>\n",
       "      <td>25</td>\n",
       "      <td>25590000</td>\n",
       "      <td>37750000</td>\n",
       "      <td>33.0</td>\n",
       "      <td>40</td>\n",
       "      <td>7.75</td>\n",
       "      <td>Not Comopetitive</td>\n",
       "    </tr>\n",
       "    <tr>\n",
       "      <td>1</td>\n",
       "      <td>II</td>\n",
       "      <td>19</td>\n",
       "      <td>39120000</td>\n",
       "      <td>51300000</td>\n",
       "      <td>36.8</td>\n",
       "      <td>68</td>\n",
       "      <td>4.75</td>\n",
       "      <td>Comopetitive</td>\n",
       "    </tr>\n",
       "    <tr>\n",
       "      <td>2</td>\n",
       "      <td>III</td>\n",
       "      <td>9</td>\n",
       "      <td>41660000</td>\n",
       "      <td>54500000</td>\n",
       "      <td>36.0</td>\n",
       "      <td>70</td>\n",
       "      <td>4.25</td>\n",
       "      <td>Highly Competitive</td>\n",
       "    </tr>\n",
       "    <tr>\n",
       "      <td>3</td>\n",
       "      <td>IV</td>\n",
       "      <td>16</td>\n",
       "      <td>44270000</td>\n",
       "      <td>59200000</td>\n",
       "      <td>39.4</td>\n",
       "      <td>69</td>\n",
       "      <td>4.00</td>\n",
       "      <td>Highly Competitive</td>\n",
       "    </tr>\n",
       "    <tr>\n",
       "      <td>4</td>\n",
       "      <td>V</td>\n",
       "      <td>3</td>\n",
       "      <td>46040000</td>\n",
       "      <td>58500000</td>\n",
       "      <td>39.9</td>\n",
       "      <td>75</td>\n",
       "      <td>4.25</td>\n",
       "      <td>Highly Competitive</td>\n",
       "    </tr>\n",
       "  </tbody>\n",
       "</table>\n",
       "</div>"
      ],
      "text/plain": [
       "    SB  Point Difference  Average Viewers  Total Viewers  TV_rating  TV_share  \\\n",
       "0    I                25         25590000       37750000       33.0        40   \n",
       "1   II                19         39120000       51300000       36.8        68   \n",
       "2  III                 9         41660000       54500000       36.0        70   \n",
       "3   IV                16         44270000       59200000       39.4        69   \n",
       "4    V                 3         46040000       58500000       39.9        75   \n",
       "\n",
       "   competitive_score          comp_group  \n",
       "0               7.75    Not Comopetitive  \n",
       "1               4.75        Comopetitive  \n",
       "2               4.25  Highly Competitive  \n",
       "3               4.00  Highly Competitive  \n",
       "4               4.25  Highly Competitive  "
      ]
     },
     "execution_count": 85,
     "metadata": {},
     "output_type": "execute_result"
    }
   ],
   "source": [
    "df3.head()"
   ]
  },
  {
   "cell_type": "code",
   "execution_count": 86,
   "metadata": {},
   "outputs": [
    {
     "data": {
      "text/html": [
       "<div>\n",
       "<style scoped>\n",
       "    .dataframe tbody tr th:only-of-type {\n",
       "        vertical-align: middle;\n",
       "    }\n",
       "\n",
       "    .dataframe tbody tr th {\n",
       "        vertical-align: top;\n",
       "    }\n",
       "\n",
       "    .dataframe thead th {\n",
       "        text-align: right;\n",
       "    }\n",
       "</style>\n",
       "<table border=\"1\" class=\"dataframe\">\n",
       "  <thead>\n",
       "    <tr style=\"text-align: right;\">\n",
       "      <th></th>\n",
       "      <th>TV_rating</th>\n",
       "      <th>TV_share</th>\n",
       "    </tr>\n",
       "    <tr>\n",
       "      <th>comp_group</th>\n",
       "      <th></th>\n",
       "      <th></th>\n",
       "    </tr>\n",
       "  </thead>\n",
       "  <tbody>\n",
       "    <tr>\n",
       "      <td>Highly Competitive</td>\n",
       "      <td>41.686667</td>\n",
       "      <td>67.400000</td>\n",
       "    </tr>\n",
       "    <tr>\n",
       "      <td>Comopetitive</td>\n",
       "      <td>44.446154</td>\n",
       "      <td>68.692308</td>\n",
       "    </tr>\n",
       "    <tr>\n",
       "      <td>Not Comopetitive</td>\n",
       "      <td>43.650000</td>\n",
       "      <td>65.590909</td>\n",
       "    </tr>\n",
       "    <tr>\n",
       "      <td>No match</td>\n",
       "      <td>43.575000</td>\n",
       "      <td>65.250000</td>\n",
       "    </tr>\n",
       "  </tbody>\n",
       "</table>\n",
       "</div>"
      ],
      "text/plain": [
       "                    TV_rating   TV_share\n",
       "comp_group                              \n",
       "Highly Competitive  41.686667  67.400000\n",
       "Comopetitive        44.446154  68.692308\n",
       " Not Comopetitive   43.650000  65.590909\n",
       "No match            43.575000  65.250000"
      ]
     },
     "execution_count": 86,
     "metadata": {},
     "output_type": "execute_result"
    }
   ],
   "source": [
    "df3.groupby('comp_group')[['TV_rating','TV_share']].mean()"
   ]
  },
  {
   "cell_type": "code",
   "execution_count": 87,
   "metadata": {},
   "outputs": [
    {
     "data": {
      "image/png": "[encoded data removed]",
      "text/plain": [
       "<Figure size 432x288 with 2 Axes>"
      ]
     },
     "metadata": {
      "needs_background": "light"
     },
     "output_type": "display_data"
    }
   ],
   "source": [
    "\"\"\"\n",
    "Plot viewers against competitiveness of the game\n",
    "\"\"\"\n",
    "fig, ax1 = plt.subplots()\n",
    "\n",
    "color = 'tab:red'\n",
    "ax1.set_xlabel('Super Bowls')\n",
    "ax1.set_ylabel('Average Viewers', color=color)\n",
    "ax1.plot(df3['Average Viewers'], color=color)\n",
    "ax1.tick_params(axis='y', labelcolor=color)\n",
    "\n",
    "ax2 = ax1.twinx()  # instantiate a second axes that shares the same x-axis\n",
    "\n",
    "color = 'tab:blue'\n",
    "ax2.set_ylabel('competitive_score', color=color)  # already handled the x-label with ax1\n",
    "ax2.plot(df3['competitive_score'], color=color)\n",
    "ax2.tick_params(axis='y', labelcolor=color)\n",
    "\n",
    "fig.tight_layout()  # otherwise the right y-label is slightly clipped\n",
    "plt.title(\"Average viewers and competitiveness score over 54 Super Bowls\")\n",
    "ax2.annotate('Cowboys vs Bills',\n",
    "            xy=(28, 13), xycoords='data',\n",
    "            xytext=(1, 0.9), textcoords='axes fraction',\n",
    "            arrowprops=dict(facecolor='black', shrink=0.05),\n",
    "            horizontalalignment='right', verticalalignment='top')\n",
    "plt.show()"
   ]
  },
  {
   "cell_type": "code",
   "execution_count": 88,
   "metadata": {
    "scrolled": true
   },
   "outputs": [
    {
     "data": {
      "text/plain": [
       "<matplotlib.legend.Legend at 0x7fd0c61ff9d0>"
      ]
     },
     "execution_count": 88,
     "metadata": {},
     "output_type": "execute_result"
    },
    {
     "data": {
      "image/png": "[encoded data removed]",
      "text/plain": [
       "<Figure size 432x288 with 1 Axes>"
      ]
     },
     "metadata": {
      "needs_background": "light"
     },
     "output_type": "display_data"
    }
   ],
   "source": [
    "\"\"\"\n",
    "plot the trend of tv ratings over the years\n",
    "\"\"\"\n",
    "df3['TV_share'].plot()\n",
    "df3['TV_rating'].plot()\n",
    "\n",
    "plt.xlabel('Super Bowls')\n",
    "plt.ylabel('TV_ratings(Percentage)')\n",
    "plt.title(\"TV ratings over 54 Super Bowls\")\n",
    "plt.legend(loc=\"upper right\")\n",
    "# plt.savefig('tv_rating.png')"
   ]
  },
  {
   "cell_type": "code",
   "execution_count": 89,
   "metadata": {
    "scrolled": false
   },
   "outputs": [
    {
     "data": {
      "text/html": [
       "<div>\n",
       "<style scoped>\n",
       "    .dataframe tbody tr th:only-of-type {\n",
       "        vertical-align: middle;\n",
       "    }\n",
       "\n",
       "    .dataframe tbody tr th {\n",
       "        vertical-align: top;\n",
       "    }\n",
       "\n",
       "    .dataframe thead th {\n",
       "        text-align: right;\n",
       "    }\n",
       "</style>\n",
       "<table border=\"1\" class=\"dataframe\">\n",
       "  <thead>\n",
       "    <tr style=\"text-align: right;\">\n",
       "      <th></th>\n",
       "      <th>Average Viewers</th>\n",
       "      <th>Total Viewers</th>\n",
       "      <th>TV_rating</th>\n",
       "      <th>TV_share</th>\n",
       "      <th>30-sec Ads cost</th>\n",
       "    </tr>\n",
       "    <tr>\n",
       "      <th>SB</th>\n",
       "      <th></th>\n",
       "      <th></th>\n",
       "      <th></th>\n",
       "      <th></th>\n",
       "      <th></th>\n",
       "    </tr>\n",
       "  </thead>\n",
       "  <tbody>\n",
       "    <tr>\n",
       "      <td>I</td>\n",
       "      <td>25590000</td>\n",
       "      <td>37750000</td>\n",
       "      <td>33.0</td>\n",
       "      <td>40</td>\n",
       "      <td>40000</td>\n",
       "    </tr>\n",
       "    <tr>\n",
       "      <td>II</td>\n",
       "      <td>39120000</td>\n",
       "      <td>51300000</td>\n",
       "      <td>36.8</td>\n",
       "      <td>68</td>\n",
       "      <td>54500</td>\n",
       "    </tr>\n",
       "    <tr>\n",
       "      <td>III</td>\n",
       "      <td>41660000</td>\n",
       "      <td>54500000</td>\n",
       "      <td>36.0</td>\n",
       "      <td>70</td>\n",
       "      <td>55000</td>\n",
       "    </tr>\n",
       "    <tr>\n",
       "      <td>IV</td>\n",
       "      <td>44270000</td>\n",
       "      <td>59200000</td>\n",
       "      <td>39.4</td>\n",
       "      <td>69</td>\n",
       "      <td>78200</td>\n",
       "    </tr>\n",
       "    <tr>\n",
       "      <td>V</td>\n",
       "      <td>46040000</td>\n",
       "      <td>58500000</td>\n",
       "      <td>39.9</td>\n",
       "      <td>75</td>\n",
       "      <td>72500</td>\n",
       "    </tr>\n",
       "  </tbody>\n",
       "</table>\n",
       "</div>"
      ],
      "text/plain": [
       "     Average Viewers  Total Viewers  TV_rating  TV_share  30-sec Ads cost\n",
       "SB                                                                       \n",
       "I           25590000       37750000       33.0        40            40000\n",
       "II          39120000       51300000       36.8        68            54500\n",
       "III         41660000       54500000       36.0        70            55000\n",
       "IV          44270000       59200000       39.4        69            78200\n",
       "V           46040000       58500000       39.9        75            72500"
      ]
     },
     "execution_count": 89,
     "metadata": {},
     "output_type": "execute_result"
    }
   ],
   "source": [
    "\"\"\"\n",
    "Q4:Investigate the strength of the correlation between TV ratings ('Average Viewers', 'Total Viewers', 'TV_rating', \n",
    "'TV_share') and '30-sec Ads cost'. Data for 'Average Viewers', 'Total Viewers', 'TV_rating', 'TV_share', \n",
    "'30-sec Ads cost' were scraped from the web.\n",
    "\"\"\"\n",
    "df4 = df[['SB', 'Average Viewers', 'Total Viewers', 'TV_rating', 'TV_share',\n",
    "       '30-sec Ads cost']]\n",
    "df4.set_index('SB').head()\n",
    "# df4.dtypes"
   ]
  },
  {
   "cell_type": "code",
   "execution_count": 90,
   "metadata": {},
   "outputs": [
    {
     "data": {
      "text/plain": [
       "('30-sec Ads cost and Average Viewers', 0.7130287810732319)"
      ]
     },
     "execution_count": 90,
     "metadata": {},
     "output_type": "execute_result"
    }
   ],
   "source": [
    "aList = []\n",
    "for item in list(df4)[1:-1]:\n",
    "    aList.append([\"30-sec Ads cost and \" + item, df4['30-sec Ads cost'].corr(df4[item])])\n",
    "corr = 0\n",
    "variable = ''\n",
    "for member in aList:\n",
    "    if member[1] > corr:\n",
    "        corr = member[1]\n",
    "        variable = member[0]\n",
    "variable, corr"
   ]
  },
  {
   "cell_type": "code",
   "execution_count": 91,
   "metadata": {},
   "outputs": [
    {
     "data": {
      "text/plain": [
       "[['30-sec Ads cost and Average Viewers', 0.7130287810732319],\n",
       " ['30-sec Ads cost and Total Viewers', 0.4336572753982563],\n",
       " ['30-sec Ads cost and TV_rating', 0.14107053592582847],\n",
       " ['30-sec Ads cost and TV_share', 0.0005375190453214912]]"
      ]
     },
     "execution_count": 91,
     "metadata": {},
     "output_type": "execute_result"
    }
   ],
   "source": [
    "aList"
   ]
  },
  {
   "cell_type": "code",
   "execution_count": 92,
   "metadata": {},
   "outputs": [
    {
     "data": {
      "text/plain": [
       "<matplotlib.axes._subplots.AxesSubplot at 0x7fd0c9bb3850>"
      ]
     },
     "execution_count": 92,
     "metadata": {},
     "output_type": "execute_result"
    },
    {
     "data": {
      "image/png": "[encoded data removed]",
      "text/plain": [
       "<Figure size 432x288 with 1 Axes>"
      ]
     },
     "metadata": {
      "needs_background": "light"
     },
     "output_type": "display_data"
    }
   ],
   "source": [
    "\"\"\"\n",
    "There is a correlation between the average viewers and the cost of 30-second ads.\n",
    "Confirms that marketers spent money in the right place to reach more customers\n",
    "\"\"\"\n",
    "sns.scatterplot(x=\"30-sec Ads cost\", y=\"Average Viewers\", data=df4)"
   ]
  },
  {
   "cell_type": "code",
   "execution_count": 93,
   "metadata": {
    "scrolled": false
   },
   "outputs": [
    {
     "data": {
      "text/html": [
       "<div>\n",
       "<style scoped>\n",
       "    .dataframe tbody tr th:only-of-type {\n",
       "        vertical-align: middle;\n",
       "    }\n",
       "\n",
       "    .dataframe tbody tr th {\n",
       "        vertical-align: top;\n",
       "    }\n",
       "\n",
       "    .dataframe thead th {\n",
       "        text-align: right;\n",
       "    }\n",
       "</style>\n",
       "<table border=\"1\" class=\"dataframe\">\n",
       "  <thead>\n",
       "    <tr style=\"text-align: right;\">\n",
       "      <th></th>\n",
       "      <th>winnor_season_winning_pct</th>\n",
       "      <th>winnor_season_point_score</th>\n",
       "      <th>winnor_season_point_allow</th>\n",
       "      <th>Winning_streak</th>\n",
       "      <th>Losing_streak</th>\n",
       "      <th>loser_season_winning_pct</th>\n",
       "      <th>loser_season_point_score</th>\n",
       "      <th>loser_season_point_allow</th>\n",
       "      <th>Winning_streak.1</th>\n",
       "      <th>Losing_streak.1</th>\n",
       "    </tr>\n",
       "    <tr>\n",
       "      <th>SB</th>\n",
       "      <th></th>\n",
       "      <th></th>\n",
       "      <th></th>\n",
       "      <th></th>\n",
       "      <th></th>\n",
       "      <th></th>\n",
       "      <th></th>\n",
       "      <th></th>\n",
       "      <th></th>\n",
       "      <th></th>\n",
       "    </tr>\n",
       "  </thead>\n",
       "  <tbody>\n",
       "    <tr>\n",
       "      <td>I</td>\n",
       "      <td>0.857</td>\n",
       "      <td>335</td>\n",
       "      <td>163</td>\n",
       "      <td>5</td>\n",
       "      <td>0</td>\n",
       "      <td>0.846</td>\n",
       "      <td>448</td>\n",
       "      <td>276</td>\n",
       "      <td>3</td>\n",
       "      <td>0</td>\n",
       "    </tr>\n",
       "    <tr>\n",
       "      <td>II</td>\n",
       "      <td>0.692</td>\n",
       "      <td>332</td>\n",
       "      <td>209</td>\n",
       "      <td>0</td>\n",
       "      <td>2</td>\n",
       "      <td>0.929</td>\n",
       "      <td>468</td>\n",
       "      <td>233</td>\n",
       "      <td>10</td>\n",
       "      <td>0</td>\n",
       "    </tr>\n",
       "    <tr>\n",
       "      <td>III</td>\n",
       "      <td>0.786</td>\n",
       "      <td>419</td>\n",
       "      <td>280</td>\n",
       "      <td>4</td>\n",
       "      <td>0</td>\n",
       "      <td>0.929</td>\n",
       "      <td>402</td>\n",
       "      <td>144</td>\n",
       "      <td>8</td>\n",
       "      <td>0</td>\n",
       "    </tr>\n",
       "    <tr>\n",
       "      <td>IV</td>\n",
       "      <td>0.786</td>\n",
       "      <td>359</td>\n",
       "      <td>177</td>\n",
       "      <td>0</td>\n",
       "      <td>1</td>\n",
       "      <td>0.857</td>\n",
       "      <td>379</td>\n",
       "      <td>133</td>\n",
       "      <td>0</td>\n",
       "      <td>1</td>\n",
       "    </tr>\n",
       "    <tr>\n",
       "      <td>V</td>\n",
       "      <td>0.846</td>\n",
       "      <td>321</td>\n",
       "      <td>234</td>\n",
       "      <td>4</td>\n",
       "      <td>0</td>\n",
       "      <td>0.714</td>\n",
       "      <td>299</td>\n",
       "      <td>221</td>\n",
       "      <td>5</td>\n",
       "      <td>0</td>\n",
       "    </tr>\n",
       "  </tbody>\n",
       "</table>\n",
       "</div>"
      ],
      "text/plain": [
       "     winnor_season_winning_pct  winnor_season_point_score  \\\n",
       "SB                                                          \n",
       "I                        0.857                        335   \n",
       "II                       0.692                        332   \n",
       "III                      0.786                        419   \n",
       "IV                       0.786                        359   \n",
       "V                        0.846                        321   \n",
       "\n",
       "     winnor_season_point_allow  Winning_streak  Losing_streak  \\\n",
       "SB                                                              \n",
       "I                          163               5              0   \n",
       "II                         209               0              2   \n",
       "III                        280               4              0   \n",
       "IV                         177               0              1   \n",
       "V                          234               4              0   \n",
       "\n",
       "     loser_season_winning_pct  loser_season_point_score  \\\n",
       "SB                                                        \n",
       "I                       0.846                       448   \n",
       "II                      0.929                       468   \n",
       "III                     0.929                       402   \n",
       "IV                      0.857                       379   \n",
       "V                       0.714                       299   \n",
       "\n",
       "     loser_season_point_allow  Winning_streak.1  Losing_streak.1  \n",
       "SB                                                                \n",
       "I                         276                 3                0  \n",
       "II                        233                10                0  \n",
       "III                       144                 8                0  \n",
       "IV                        133                 0                1  \n",
       "V                         221                 5                0  "
      ]
     },
     "execution_count": 93,
     "metadata": {},
     "output_type": "execute_result"
    }
   ],
   "source": [
    "\"\"\"\n",
    "Q5:Investigate the difference between the the winning team’s season performance and the losing team's season performance. \n",
    "I selected season winning percentage, end of the season streak, points scored, and points against to be the parameters \n",
    "for this analysis.  \n",
    "\"\"\"\n",
    "df5 = df[['SB', 'winnor_season_winning_pct',\n",
    "       'winnor_season_point_score', 'winnor_season_point_allow',\n",
    "       'Winning_streak', 'Losing_streak',\n",
    "       'loser_season_winning_pct', 'loser_season_point_score',\n",
    "       'loser_season_point_allow', 'Winning_streak.1',\n",
    "       'Losing_streak.1']]\n",
    "df5.set_index('SB').head()"
   ]
  },
  {
   "cell_type": "code",
   "execution_count": 94,
   "metadata": {
    "scrolled": true
   },
   "outputs": [
    {
     "data": {
      "text/plain": [
       "SB                            object\n",
       "winnor_season_winning_pct    float64\n",
       "winnor_season_point_score      int64\n",
       "winnor_season_point_allow      int64\n",
       "Winning_streak                 int64\n",
       "Losing_streak                  int64\n",
       "loser_season_winning_pct     float64\n",
       "loser_season_point_score       int64\n",
       "loser_season_point_allow       int64\n",
       "Winning_streak.1               int64\n",
       "Losing_streak.1                int64\n",
       "dtype: object"
      ]
     },
     "execution_count": 94,
     "metadata": {},
     "output_type": "execute_result"
    }
   ],
   "source": [
    "df5.dtypes"
   ]
  },
  {
   "cell_type": "code",
   "execution_count": 95,
   "metadata": {},
   "outputs": [
    {
     "data": {
      "image/png": "[encoded data removed]",
      "text/plain": [
       "<Figure size 432x288 with 2 Axes>"
      ]
     },
     "metadata": {
      "needs_background": "light"
     },
     "output_type": "display_data"
    }
   ],
   "source": [
    "\"\"\"\n",
    "Plot the trend of season winning percentage for both winning and losing teams\n",
    "\"\"\"\n",
    "fig, axs = plt.subplots(2)\n",
    "fig.suptitle('Winner season winning pct vs Loser season winning pct')\n",
    "\n",
    "color = 'tab:red'\n",
    "axs[0].set_xlabel('Super Bowls')\n",
    "axs[0].set_ylabel('winner_season_winning_pct', color=color)\n",
    "axs[0].plot(df5['winnor_season_winning_pct'], color=color)\n",
    "axs[0].tick_params(axis='y', labelcolor=color)\n",
    "\n",
    "ax2 = ax1.twinx()  # instantiate a second axes that shares the same x-axis\n",
    "\n",
    "color = 'tab:blue'\n",
    "axs[1].set_ylabel('loser_season_winning_pct', color=color)  # already handled the x-label with ax1\n",
    "axs[1].plot(df5['loser_season_winning_pct'], color=color)\n",
    "axs[1].tick_params(axis='y', labelcolor=color)\n",
    "\n",
    "fig.tight_layout()  # otherwise the right y-label is slightly clipped\n",
    "plt.show()"
   ]
  },
  {
   "cell_type": "code",
   "execution_count": 96,
   "metadata": {},
   "outputs": [],
   "source": [
    "# df5.winnor_season_winning_pct.mean(), df5.loser_season_winning_pct.mean()\n",
    "# df5.winnor_season_point_score.mean(), df5.loser_season_point_score.mean()\n",
    "# df5.winnor_season_point_allow.mean(), df5.loser_season_point_allow.mean()\n",
    "# df5.Winning_streak.mean(), df5['Winning_streak.1'].mean()\n",
    "# df5.Losing_streak.mean(), df5['Losing_streak.1'].mean()"
   ]
  },
  {
   "cell_type": "code",
   "execution_count": 97,
   "metadata": {},
   "outputs": [
    {
     "data": {
      "text/plain": [
       "['SB',\n",
       " 'winnor_season_winning_pct',\n",
       " 'winnor_season_point_score',\n",
       " 'winnor_season_point_allow',\n",
       " 'Winning_streak',\n",
       " 'Losing_streak',\n",
       " 'loser_season_winning_pct',\n",
       " 'loser_season_point_score',\n",
       " 'loser_season_point_allow',\n",
       " 'Winning_streak.1',\n",
       " 'Losing_streak.1']"
      ]
     },
     "execution_count": 97,
     "metadata": {},
     "output_type": "execute_result"
    }
   ],
   "source": [
    "list(df5)"
   ]
  },
  {
   "cell_type": "code",
   "execution_count": 98,
   "metadata": {},
   "outputs": [
    {
     "name": "stderr",
     "output_type": "stream",
     "text": [
      "/opt/anaconda3/lib/python3.7/site-packages/pandas/core/indexing.py:205: SettingWithCopyWarning: \n",
      "A value is trying to be set on a copy of a slice from a DataFrame\n",
      "\n",
      "See the caveats in the documentation: http://pandas.pydata.org/pandas-docs/stable/user_guide/indexing.html#returning-a-view-versus-a-copy\n",
      "  self._setitem_with_indexer(indexer, value)\n"
     ]
    }
   ],
   "source": [
    "df5.loc['Average'] = [np.nan, df5['winnor_season_winning_pct'].mean(),df5['winnor_season_point_score'].mean(),\\\n",
    "                    df5['winnor_season_point_allow'].mean(),\\\n",
    "                    df5['Winning_streak'].mean(),df5['Losing_streak'].mean(),df5['loser_season_winning_pct'].mean(),\\\n",
    "                    df5['loser_season_point_score'].mean(),\\\n",
    "                     df5['loser_season_point_allow'].mean(),\\\n",
    "                    df5['Winning_streak.1'].mean(), df5['Losing_streak.1'].mean()]"
   ]
  },
  {
   "cell_type": "code",
   "execution_count": 99,
   "metadata": {},
   "outputs": [
    {
     "data": {
      "text/html": [
       "<div>\n",
       "<style scoped>\n",
       "    .dataframe tbody tr th:only-of-type {\n",
       "        vertical-align: middle;\n",
       "    }\n",
       "\n",
       "    .dataframe tbody tr th {\n",
       "        vertical-align: top;\n",
       "    }\n",
       "\n",
       "    .dataframe thead th {\n",
       "        text-align: right;\n",
       "    }\n",
       "</style>\n",
       "<table border=\"1\" class=\"dataframe\">\n",
       "  <thead>\n",
       "    <tr style=\"text-align: right;\">\n",
       "      <th></th>\n",
       "      <th>Average</th>\n",
       "    </tr>\n",
       "  </thead>\n",
       "  <tbody>\n",
       "    <tr>\n",
       "      <td>SB</td>\n",
       "      <td>NaN</td>\n",
       "    </tr>\n",
       "    <tr>\n",
       "      <td>winnor_season_winning_pct</td>\n",
       "      <td>0.790315</td>\n",
       "    </tr>\n",
       "    <tr>\n",
       "      <td>winnor_season_point_score</td>\n",
       "      <td>397.704</td>\n",
       "    </tr>\n",
       "    <tr>\n",
       "      <td>winnor_season_point_allow</td>\n",
       "      <td>251.593</td>\n",
       "    </tr>\n",
       "    <tr>\n",
       "      <td>Winning_streak</td>\n",
       "      <td>3.14815</td>\n",
       "    </tr>\n",
       "    <tr>\n",
       "      <td>Losing_streak</td>\n",
       "      <td>0.277778</td>\n",
       "    </tr>\n",
       "    <tr>\n",
       "      <td>loser_season_winning_pct</td>\n",
       "      <td>0.777056</td>\n",
       "    </tr>\n",
       "    <tr>\n",
       "      <td>loser_season_point_score</td>\n",
       "      <td>402.574</td>\n",
       "    </tr>\n",
       "    <tr>\n",
       "      <td>loser_season_point_allow</td>\n",
       "      <td>269.685</td>\n",
       "    </tr>\n",
       "    <tr>\n",
       "      <td>Winning_streak.1</td>\n",
       "      <td>2.83333</td>\n",
       "    </tr>\n",
       "    <tr>\n",
       "      <td>Losing_streak.1</td>\n",
       "      <td>0.333333</td>\n",
       "    </tr>\n",
       "  </tbody>\n",
       "</table>\n",
       "</div>"
      ],
      "text/plain": [
       "                            Average\n",
       "SB                              NaN\n",
       "winnor_season_winning_pct  0.790315\n",
       "winnor_season_point_score   397.704\n",
       "winnor_season_point_allow   251.593\n",
       "Winning_streak              3.14815\n",
       "Losing_streak              0.277778\n",
       "loser_season_winning_pct   0.777056\n",
       "loser_season_point_score    402.574\n",
       "loser_season_point_allow    269.685\n",
       "Winning_streak.1            2.83333\n",
       "Losing_streak.1            0.333333"
      ]
     },
     "execution_count": 99,
     "metadata": {},
     "output_type": "execute_result"
    }
   ],
   "source": [
    "df5.tail(1).transpose()"
   ]
  },
  {
   "cell_type": "code",
   "execution_count": 100,
   "metadata": {
    "scrolled": true
   },
   "outputs": [],
   "source": [
    "winner_season_stats = df5.tail(1).transpose().iloc[1:6,:]\n",
    "winner_season_stats.reset_index(inplace=True)"
   ]
  },
  {
   "cell_type": "code",
   "execution_count": 101,
   "metadata": {},
   "outputs": [],
   "source": [
    "loser_season_stats = df5.tail(1).transpose().iloc[6:,:]\n",
    "loser_season_stats.reset_index(inplace=True)"
   ]
  },
  {
   "cell_type": "code",
   "execution_count": 102,
   "metadata": {
    "scrolled": true
   },
   "outputs": [
    {
     "data": {
      "text/html": [
       "<div>\n",
       "<style scoped>\n",
       "    .dataframe tbody tr th:only-of-type {\n",
       "        vertical-align: middle;\n",
       "    }\n",
       "\n",
       "    .dataframe tbody tr th {\n",
       "        vertical-align: top;\n",
       "    }\n",
       "\n",
       "    .dataframe thead th {\n",
       "        text-align: right;\n",
       "    }\n",
       "</style>\n",
       "<table border=\"1\" class=\"dataframe\">\n",
       "  <thead>\n",
       "    <tr style=\"text-align: right;\">\n",
       "      <th></th>\n",
       "      <th>index</th>\n",
       "      <th>Average</th>\n",
       "      <th>index</th>\n",
       "      <th>Average</th>\n",
       "    </tr>\n",
       "  </thead>\n",
       "  <tbody>\n",
       "    <tr>\n",
       "      <td>0</td>\n",
       "      <td>winnor_season_winning_pct</td>\n",
       "      <td>0.790315</td>\n",
       "      <td>loser_season_winning_pct</td>\n",
       "      <td>0.777056</td>\n",
       "    </tr>\n",
       "    <tr>\n",
       "      <td>1</td>\n",
       "      <td>winnor_season_point_score</td>\n",
       "      <td>397.704</td>\n",
       "      <td>loser_season_point_score</td>\n",
       "      <td>402.574</td>\n",
       "    </tr>\n",
       "    <tr>\n",
       "      <td>2</td>\n",
       "      <td>winnor_season_point_allow</td>\n",
       "      <td>251.593</td>\n",
       "      <td>loser_season_point_allow</td>\n",
       "      <td>269.685</td>\n",
       "    </tr>\n",
       "    <tr>\n",
       "      <td>3</td>\n",
       "      <td>Winning_streak</td>\n",
       "      <td>3.14815</td>\n",
       "      <td>Winning_streak.1</td>\n",
       "      <td>2.83333</td>\n",
       "    </tr>\n",
       "    <tr>\n",
       "      <td>4</td>\n",
       "      <td>Losing_streak</td>\n",
       "      <td>0.277778</td>\n",
       "      <td>Losing_streak.1</td>\n",
       "      <td>0.333333</td>\n",
       "    </tr>\n",
       "  </tbody>\n",
       "</table>\n",
       "</div>"
      ],
      "text/plain": [
       "                       index   Average                     index   Average\n",
       "0  winnor_season_winning_pct  0.790315  loser_season_winning_pct  0.777056\n",
       "1  winnor_season_point_score   397.704  loser_season_point_score   402.574\n",
       "2  winnor_season_point_allow   251.593  loser_season_point_allow   269.685\n",
       "3             Winning_streak   3.14815          Winning_streak.1   2.83333\n",
       "4              Losing_streak  0.277778           Losing_streak.1  0.333333"
      ]
     },
     "execution_count": 102,
     "metadata": {},
     "output_type": "execute_result"
    }
   ],
   "source": [
    "df6=pd.concat([winner_season_stats, loser_season_stats],axis=1)\n",
    "df6"
   ]
  },
  {
   "cell_type": "code",
   "execution_count": 103,
   "metadata": {
    "scrolled": true
   },
   "outputs": [
    {
     "data": {
      "text/html": [
       "<div>\n",
       "<style scoped>\n",
       "    .dataframe tbody tr th:only-of-type {\n",
       "        vertical-align: middle;\n",
       "    }\n",
       "\n",
       "    .dataframe tbody tr th {\n",
       "        vertical-align: top;\n",
       "    }\n",
       "\n",
       "    .dataframe thead th {\n",
       "        text-align: right;\n",
       "    }\n",
       "</style>\n",
       "<table border=\"1\" class=\"dataframe\">\n",
       "  <thead>\n",
       "    <tr style=\"text-align: right;\">\n",
       "      <th></th>\n",
       "      <th>index</th>\n",
       "      <th>Average</th>\n",
       "      <th>index</th>\n",
       "      <th>Average</th>\n",
       "    </tr>\n",
       "  </thead>\n",
       "  <tbody>\n",
       "    <tr>\n",
       "      <td>Winning pct</td>\n",
       "      <td>winnor_season_winning_pct</td>\n",
       "      <td>0.790315</td>\n",
       "      <td>loser_season_winning_pct</td>\n",
       "      <td>0.777056</td>\n",
       "    </tr>\n",
       "    <tr>\n",
       "      <td>Point Score</td>\n",
       "      <td>winnor_season_point_score</td>\n",
       "      <td>397.704</td>\n",
       "      <td>loser_season_point_score</td>\n",
       "      <td>402.574</td>\n",
       "    </tr>\n",
       "    <tr>\n",
       "      <td>Point Allow</td>\n",
       "      <td>winnor_season_point_allow</td>\n",
       "      <td>251.593</td>\n",
       "      <td>loser_season_point_allow</td>\n",
       "      <td>269.685</td>\n",
       "    </tr>\n",
       "    <tr>\n",
       "      <td>Winning Streak</td>\n",
       "      <td>Winning_streak</td>\n",
       "      <td>3.14815</td>\n",
       "      <td>Winning_streak.1</td>\n",
       "      <td>2.83333</td>\n",
       "    </tr>\n",
       "    <tr>\n",
       "      <td>Losing Streak</td>\n",
       "      <td>Losing_streak</td>\n",
       "      <td>0.277778</td>\n",
       "      <td>Losing_streak.1</td>\n",
       "      <td>0.333333</td>\n",
       "    </tr>\n",
       "  </tbody>\n",
       "</table>\n",
       "</div>"
      ],
      "text/plain": [
       "                                    index   Average                     index  \\\n",
       "Winning pct     winnor_season_winning_pct  0.790315  loser_season_winning_pct   \n",
       "Point Score     winnor_season_point_score   397.704  loser_season_point_score   \n",
       "Point Allow     winnor_season_point_allow   251.593  loser_season_point_allow   \n",
       "Winning Streak             Winning_streak   3.14815          Winning_streak.1   \n",
       "Losing Streak               Losing_streak  0.277778           Losing_streak.1   \n",
       "\n",
       "                 Average  \n",
       "Winning pct     0.777056  \n",
       "Point Score      402.574  \n",
       "Point Allow      269.685  \n",
       "Winning Streak   2.83333  \n",
       "Losing Streak   0.333333  "
      ]
     },
     "execution_count": 103,
     "metadata": {},
     "output_type": "execute_result"
    }
   ],
   "source": [
    "df6.set_index(pd.Index(['Winning pct','Point Score','Point Allow', 'Winning Streak','Losing Streak']), inplace=True)\n",
    "df6"
   ]
  },
  {
   "cell_type": "code",
   "execution_count": 104,
   "metadata": {},
   "outputs": [
    {
     "data": {
      "text/html": [
       "<div>\n",
       "<style scoped>\n",
       "    .dataframe tbody tr th:only-of-type {\n",
       "        vertical-align: middle;\n",
       "    }\n",
       "\n",
       "    .dataframe tbody tr th {\n",
       "        vertical-align: top;\n",
       "    }\n",
       "\n",
       "    .dataframe thead th {\n",
       "        text-align: right;\n",
       "    }\n",
       "</style>\n",
       "<table border=\"1\" class=\"dataframe\">\n",
       "  <thead>\n",
       "    <tr style=\"text-align: right;\">\n",
       "      <th></th>\n",
       "      <th>Average</th>\n",
       "      <th>Average</th>\n",
       "    </tr>\n",
       "  </thead>\n",
       "  <tbody>\n",
       "    <tr>\n",
       "      <td>Winning pct</td>\n",
       "      <td>0.790315</td>\n",
       "      <td>0.777056</td>\n",
       "    </tr>\n",
       "    <tr>\n",
       "      <td>Point Score</td>\n",
       "      <td>397.704</td>\n",
       "      <td>402.574</td>\n",
       "    </tr>\n",
       "    <tr>\n",
       "      <td>Point Allow</td>\n",
       "      <td>251.593</td>\n",
       "      <td>269.685</td>\n",
       "    </tr>\n",
       "    <tr>\n",
       "      <td>Winning Streak</td>\n",
       "      <td>3.14815</td>\n",
       "      <td>2.83333</td>\n",
       "    </tr>\n",
       "    <tr>\n",
       "      <td>Losing Streak</td>\n",
       "      <td>0.277778</td>\n",
       "      <td>0.333333</td>\n",
       "    </tr>\n",
       "  </tbody>\n",
       "</table>\n",
       "</div>"
      ],
      "text/plain": [
       "                 Average   Average\n",
       "Winning pct     0.790315  0.777056\n",
       "Point Score      397.704   402.574\n",
       "Point Allow      251.593   269.685\n",
       "Winning Streak   3.14815   2.83333\n",
       "Losing Streak   0.277778  0.333333"
      ]
     },
     "execution_count": 104,
     "metadata": {},
     "output_type": "execute_result"
    }
   ],
   "source": [
    "df7 = df6.loc[:, 'Average']\n",
    "df7"
   ]
  },
  {
   "cell_type": "code",
   "execution_count": 105,
   "metadata": {},
   "outputs": [],
   "source": [
    "df7.columns = ['Winner','Loser']"
   ]
  },
  {
   "cell_type": "code",
   "execution_count": 106,
   "metadata": {},
   "outputs": [
    {
     "data": {
      "text/html": [
       "<div>\n",
       "<style scoped>\n",
       "    .dataframe tbody tr th:only-of-type {\n",
       "        vertical-align: middle;\n",
       "    }\n",
       "\n",
       "    .dataframe tbody tr th {\n",
       "        vertical-align: top;\n",
       "    }\n",
       "\n",
       "    .dataframe thead th {\n",
       "        text-align: right;\n",
       "    }\n",
       "</style>\n",
       "<table border=\"1\" class=\"dataframe\">\n",
       "  <thead>\n",
       "    <tr style=\"text-align: right;\">\n",
       "      <th></th>\n",
       "      <th>Winner</th>\n",
       "      <th>Loser</th>\n",
       "    </tr>\n",
       "  </thead>\n",
       "  <tbody>\n",
       "    <tr>\n",
       "      <td>Winning pct</td>\n",
       "      <td>0.790315</td>\n",
       "      <td>0.777056</td>\n",
       "    </tr>\n",
       "    <tr>\n",
       "      <td>Point Score</td>\n",
       "      <td>397.704</td>\n",
       "      <td>402.574</td>\n",
       "    </tr>\n",
       "    <tr>\n",
       "      <td>Point Allow</td>\n",
       "      <td>251.593</td>\n",
       "      <td>269.685</td>\n",
       "    </tr>\n",
       "    <tr>\n",
       "      <td>Winning Streak</td>\n",
       "      <td>3.14815</td>\n",
       "      <td>2.83333</td>\n",
       "    </tr>\n",
       "    <tr>\n",
       "      <td>Losing Streak</td>\n",
       "      <td>0.277778</td>\n",
       "      <td>0.333333</td>\n",
       "    </tr>\n",
       "  </tbody>\n",
       "</table>\n",
       "</div>"
      ],
      "text/plain": [
       "                  Winner     Loser\n",
       "Winning pct     0.790315  0.777056\n",
       "Point Score      397.704   402.574\n",
       "Point Allow      251.593   269.685\n",
       "Winning Streak   3.14815   2.83333\n",
       "Losing Streak   0.277778  0.333333"
      ]
     },
     "execution_count": 106,
     "metadata": {},
     "output_type": "execute_result"
    }
   ],
   "source": [
    "df7"
   ]
  },
  {
   "cell_type": "code",
   "execution_count": null,
   "metadata": {},
   "outputs": [],
   "source": []
  }
 ],
 "metadata": {
  "kernelspec": {
   "display_name": "Python 3",
   "language": "python",
   "name": "python3"
  },
  "language_info": {
   "codemirror_mode": {
    "name": "ipython",
    "version": 3
   },
   "file_extension": ".py",
   "mimetype": "text/x-python",
   "name": "python",
   "nbconvert_exporter": "python",
   "pygments_lexer": "ipython3",
   "version": "3.7.4"
  }
 },
 "nbformat": 4,
 "nbformat_minor": 2
}
