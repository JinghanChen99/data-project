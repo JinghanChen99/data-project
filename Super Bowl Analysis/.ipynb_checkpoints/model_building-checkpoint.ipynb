{
 "cells": [
  {
   "cell_type": "code",
   "execution_count": 29,
   "metadata": {},
   "outputs": [],
   "source": [
    "import pandas as pd\n",
    "import numpy as np\n",
    "\n",
    "import statsmodels.api as sm\n",
    "from sklearn.linear_model import LogisticRegression"
   ]
  },
  {
   "cell_type": "code",
   "execution_count": 2,
   "metadata": {},
   "outputs": [],
   "source": [
    "superBowl = pd.read_csv('simp_dataset.csv')\n",
    "superBowl.set_index('SB', inplace=True)"
   ]
  },
  {
   "cell_type": "code",
   "execution_count": 3,
   "metadata": {},
   "outputs": [
    {
     "data": {
      "text/plain": [
       "Index(['Date', 'Attendance', 'QB  Winner', 'Coach Winner', 'Winner',\n",
       "       'Winning Pts', 'QB Loser', 'Coach Loser', 'Loser', 'Losing Pts', 'MVP',\n",
       "       'Stadium', 'City', 'State', 'Point Difference', 'temperature',\n",
       "       'in/ out', 'Average Viewers', 'Total Viewers', 'TV_rating', 'TV_share',\n",
       "       '30-sec Ads cost', 'competitive_score', 'winner_season_winning_pct',\n",
       "       'winner_season_point_score', 'winner_season_point_allow',\n",
       "       'winner_end_streak', 'winner_winning_streak', 'winner_losing_streak',\n",
       "       'loser_season_winning_pct', 'loser_season_point_score',\n",
       "       'loser_season_point_allow', 'loser_end_streak', 'loser_winning_streak',\n",
       "       'loser_losing_streak'],\n",
       "      dtype='object')"
      ]
     },
     "execution_count": 3,
     "metadata": {},
     "output_type": "execute_result"
    }
   ],
   "source": [
    "superBowl.columns"
   ]
  },
  {
   "cell_type": "code",
   "execution_count": 4,
   "metadata": {},
   "outputs": [
    {
     "data": {
      "text/html": [
       "<div>\n",
       "<style scoped>\n",
       "    .dataframe tbody tr th:only-of-type {\n",
       "        vertical-align: middle;\n",
       "    }\n",
       "\n",
       "    .dataframe tbody tr th {\n",
       "        vertical-align: top;\n",
       "    }\n",
       "\n",
       "    .dataframe thead th {\n",
       "        text-align: right;\n",
       "    }\n",
       "</style>\n",
       "<table border=\"1\" class=\"dataframe\">\n",
       "  <thead>\n",
       "    <tr style=\"text-align: right;\">\n",
       "      <th></th>\n",
       "      <th>Attendance</th>\n",
       "      <th>QB  Winner</th>\n",
       "      <th>Coach Winner</th>\n",
       "      <th>Winner</th>\n",
       "      <th>Winning Pts</th>\n",
       "      <th>QB Loser</th>\n",
       "      <th>Coach Loser</th>\n",
       "      <th>Loser</th>\n",
       "      <th>Losing Pts</th>\n",
       "      <th>MVP</th>\n",
       "      <th>...</th>\n",
       "      <th>winner_season_point_allow</th>\n",
       "      <th>winner_end_streak</th>\n",
       "      <th>winner_winning_streak</th>\n",
       "      <th>winner_losing_streak</th>\n",
       "      <th>loser_season_winning_pct</th>\n",
       "      <th>loser_season_point_score</th>\n",
       "      <th>loser_season_point_allow</th>\n",
       "      <th>loser_end_streak</th>\n",
       "      <th>loser_winning_streak</th>\n",
       "      <th>loser_losing_streak</th>\n",
       "    </tr>\n",
       "    <tr>\n",
       "      <th>SB</th>\n",
       "      <th></th>\n",
       "      <th></th>\n",
       "      <th></th>\n",
       "      <th></th>\n",
       "      <th></th>\n",
       "      <th></th>\n",
       "      <th></th>\n",
       "      <th></th>\n",
       "      <th></th>\n",
       "      <th></th>\n",
       "      <th></th>\n",
       "      <th></th>\n",
       "      <th></th>\n",
       "      <th></th>\n",
       "      <th></th>\n",
       "      <th></th>\n",
       "      <th></th>\n",
       "      <th></th>\n",
       "      <th></th>\n",
       "      <th></th>\n",
       "      <th></th>\n",
       "    </tr>\n",
       "  </thead>\n",
       "  <tbody>\n",
       "    <tr>\n",
       "      <td>I</td>\n",
       "      <td>61946</td>\n",
       "      <td>Bart Starr</td>\n",
       "      <td>Vince Lombardi</td>\n",
       "      <td>Green Bay Packers</td>\n",
       "      <td>35</td>\n",
       "      <td>Len Dawson</td>\n",
       "      <td>Hank Stram</td>\n",
       "      <td>Kansas City Chiefs</td>\n",
       "      <td>10</td>\n",
       "      <td>Bart Starr</td>\n",
       "      <td>...</td>\n",
       "      <td>163</td>\n",
       "      <td>W5</td>\n",
       "      <td>5</td>\n",
       "      <td>0</td>\n",
       "      <td>0.846</td>\n",
       "      <td>448</td>\n",
       "      <td>276</td>\n",
       "      <td>W3</td>\n",
       "      <td>3</td>\n",
       "      <td>0</td>\n",
       "    </tr>\n",
       "    <tr>\n",
       "      <td>II</td>\n",
       "      <td>75546</td>\n",
       "      <td>Bart Starr</td>\n",
       "      <td>Vince Lombardi</td>\n",
       "      <td>Green Bay Packers</td>\n",
       "      <td>33</td>\n",
       "      <td>Daryle Lamonica</td>\n",
       "      <td>John Rauch</td>\n",
       "      <td>Oakland Raiders</td>\n",
       "      <td>14</td>\n",
       "      <td>Bart Starr</td>\n",
       "      <td>...</td>\n",
       "      <td>209</td>\n",
       "      <td>L2</td>\n",
       "      <td>0</td>\n",
       "      <td>2</td>\n",
       "      <td>0.929</td>\n",
       "      <td>468</td>\n",
       "      <td>233</td>\n",
       "      <td>W10</td>\n",
       "      <td>10</td>\n",
       "      <td>0</td>\n",
       "    </tr>\n",
       "    <tr>\n",
       "      <td>III</td>\n",
       "      <td>75389</td>\n",
       "      <td>Joe Namath</td>\n",
       "      <td>Weeb Ewbank</td>\n",
       "      <td>New York Jets</td>\n",
       "      <td>16</td>\n",
       "      <td>Earl Morrall, Johnny Unitas</td>\n",
       "      <td>Don Shula</td>\n",
       "      <td>Baltimore Colts</td>\n",
       "      <td>7</td>\n",
       "      <td>Joe Namath</td>\n",
       "      <td>...</td>\n",
       "      <td>280</td>\n",
       "      <td>W4</td>\n",
       "      <td>4</td>\n",
       "      <td>0</td>\n",
       "      <td>0.929</td>\n",
       "      <td>402</td>\n",
       "      <td>144</td>\n",
       "      <td>W8</td>\n",
       "      <td>8</td>\n",
       "      <td>0</td>\n",
       "    </tr>\n",
       "    <tr>\n",
       "      <td>IV</td>\n",
       "      <td>80562</td>\n",
       "      <td>Len Dawson, Mike Livingston</td>\n",
       "      <td>Hank Stram</td>\n",
       "      <td>Kansas City Chiefs</td>\n",
       "      <td>23</td>\n",
       "      <td>Joe Kapp</td>\n",
       "      <td>Bud Grant</td>\n",
       "      <td>Minnesota Vikings</td>\n",
       "      <td>7</td>\n",
       "      <td>Len Dawson</td>\n",
       "      <td>...</td>\n",
       "      <td>177</td>\n",
       "      <td>L1</td>\n",
       "      <td>0</td>\n",
       "      <td>1</td>\n",
       "      <td>0.857</td>\n",
       "      <td>379</td>\n",
       "      <td>133</td>\n",
       "      <td>L1</td>\n",
       "      <td>0</td>\n",
       "      <td>1</td>\n",
       "    </tr>\n",
       "    <tr>\n",
       "      <td>V</td>\n",
       "      <td>79204</td>\n",
       "      <td>Earl Morrall , Johnny Unitas</td>\n",
       "      <td>Don McCafferty</td>\n",
       "      <td>Baltimore Colts</td>\n",
       "      <td>16</td>\n",
       "      <td>Craig Morton</td>\n",
       "      <td>Tom Landry</td>\n",
       "      <td>Dallas Cowboys</td>\n",
       "      <td>13</td>\n",
       "      <td>Chuck Howley</td>\n",
       "      <td>...</td>\n",
       "      <td>234</td>\n",
       "      <td>W4</td>\n",
       "      <td>4</td>\n",
       "      <td>0</td>\n",
       "      <td>0.714</td>\n",
       "      <td>299</td>\n",
       "      <td>221</td>\n",
       "      <td>W5</td>\n",
       "      <td>5</td>\n",
       "      <td>0</td>\n",
       "    </tr>\n",
       "  </tbody>\n",
       "</table>\n",
       "<p>5 rows × 34 columns</p>\n",
       "</div>"
      ],
      "text/plain": [
       "     Attendance                    QB  Winner    Coach Winner  \\\n",
       "SB                                                              \n",
       "I         61946                    Bart Starr  Vince Lombardi   \n",
       "II        75546                    Bart Starr  Vince Lombardi   \n",
       "III       75389                    Joe Namath     Weeb Ewbank   \n",
       "IV        80562   Len Dawson, Mike Livingston      Hank Stram   \n",
       "V         79204  Earl Morrall , Johnny Unitas  Don McCafferty   \n",
       "\n",
       "                 Winner  Winning Pts                     QB Loser Coach Loser  \\\n",
       "SB                                                                              \n",
       "I     Green Bay Packers           35                   Len Dawson  Hank Stram   \n",
       "II    Green Bay Packers           33             Daryle Lamonica   John Rauch   \n",
       "III       New York Jets           16  Earl Morrall, Johnny Unitas   Don Shula   \n",
       "IV   Kansas City Chiefs           23                     Joe Kapp   Bud Grant   \n",
       "V       Baltimore Colts           16                 Craig Morton  Tom Landry   \n",
       "\n",
       "                  Loser  Losing Pts           MVP  ...  \\\n",
       "SB                                                 ...   \n",
       "I    Kansas City Chiefs          10    Bart Starr  ...   \n",
       "II      Oakland Raiders          14    Bart Starr  ...   \n",
       "III     Baltimore Colts           7    Joe Namath  ...   \n",
       "IV    Minnesota Vikings           7    Len Dawson  ...   \n",
       "V        Dallas Cowboys          13  Chuck Howley  ...   \n",
       "\n",
       "    winner_season_point_allow winner_end_streak winner_winning_streak  \\\n",
       "SB                                                                      \n",
       "I                         163                W5                     5   \n",
       "II                        209                L2                     0   \n",
       "III                       280                W4                     4   \n",
       "IV                        177                L1                     0   \n",
       "V                         234                W4                     4   \n",
       "\n",
       "     winner_losing_streak  loser_season_winning_pct loser_season_point_score  \\\n",
       "SB                                                                             \n",
       "I                       0                     0.846                      448   \n",
       "II                      2                     0.929                      468   \n",
       "III                     0                     0.929                      402   \n",
       "IV                      1                     0.857                      379   \n",
       "V                       0                     0.714                      299   \n",
       "\n",
       "     loser_season_point_allow  loser_end_streak  loser_winning_streak  \\\n",
       "SB                                                                      \n",
       "I                         276                W3                     3   \n",
       "II                        233               W10                    10   \n",
       "III                       144                W8                     8   \n",
       "IV                        133                L1                     0   \n",
       "V                         221                W5                     5   \n",
       "\n",
       "     loser_losing_streak  \n",
       "SB                        \n",
       "I                      0  \n",
       "II                     0  \n",
       "III                    0  \n",
       "IV                     1  \n",
       "V                      0  \n",
       "\n",
       "[5 rows x 34 columns]"
      ]
     },
     "execution_count": 4,
     "metadata": {},
     "output_type": "execute_result"
    }
   ],
   "source": [
    "simp = superBowl.loc[:,\"Attendance\":\"loser_losing_streak\"]\n",
    "simp.head()"
   ]
  },
  {
   "cell_type": "code",
   "execution_count": 5,
   "metadata": {},
   "outputs": [],
   "source": [
    "simp.drop(columns = ['winner_end_streak','loser_end_streak'], inplace=True)"
   ]
  },
  {
   "cell_type": "code",
   "execution_count": 6,
   "metadata": {},
   "outputs": [],
   "source": [
    "winner = simp[[i for i in simp.columns if 'winner' in i]]\n",
    "loser = simp[[i for i in simp.columns if 'loser' in i]]"
   ]
  },
  {
   "cell_type": "code",
   "execution_count": 7,
   "metadata": {},
   "outputs": [
    {
     "name": "stderr",
     "output_type": "stream",
     "text": [
      "/opt/anaconda3/lib/python3.7/site-packages/pandas/core/frame.py:4223: SettingWithCopyWarning: \n",
      "A value is trying to be set on a copy of a slice from a DataFrame\n",
      "\n",
      "See the caveats in the documentation: http://pandas.pydata.org/pandas-docs/stable/user_guide/indexing.html#returning-a-view-versus-a-copy\n",
      "  return super().rename(**kwargs)\n"
     ]
    }
   ],
   "source": [
    "winner.rename(columns=lambda x: x[7:], inplace=True)\n",
    "loser.rename(columns=lambda x: x[6:], inplace=True)"
   ]
  },
  {
   "cell_type": "code",
   "execution_count": 8,
   "metadata": {},
   "outputs": [
    {
     "name": "stderr",
     "output_type": "stream",
     "text": [
      "/opt/anaconda3/lib/python3.7/site-packages/ipykernel_launcher.py:1: SettingWithCopyWarning: \n",
      "A value is trying to be set on a copy of a slice from a DataFrame.\n",
      "Try using .loc[row_indexer,col_indexer] = value instead\n",
      "\n",
      "See the caveats in the documentation: http://pandas.pydata.org/pandas-docs/stable/user_guide/indexing.html#returning-a-view-versus-a-copy\n",
      "  \"\"\"Entry point for launching an IPython kernel.\n",
      "/opt/anaconda3/lib/python3.7/site-packages/ipykernel_launcher.py:2: SettingWithCopyWarning: \n",
      "A value is trying to be set on a copy of a slice from a DataFrame.\n",
      "Try using .loc[row_indexer,col_indexer] = value instead\n",
      "\n",
      "See the caveats in the documentation: http://pandas.pydata.org/pandas-docs/stable/user_guide/indexing.html#returning-a-view-versus-a-copy\n",
      "  \n"
     ]
    }
   ],
   "source": [
    "winner['result'] = 1\n",
    "loser['result'] = 0"
   ]
  },
  {
   "cell_type": "code",
   "execution_count": 9,
   "metadata": {},
   "outputs": [],
   "source": [
    "# winner\n",
    "# loser"
   ]
  },
  {
   "cell_type": "code",
   "execution_count": 11,
   "metadata": {},
   "outputs": [],
   "source": [
    "df = winner.append(loser)"
   ]
  },
  {
   "cell_type": "code",
   "execution_count": 12,
   "metadata": {},
   "outputs": [
    {
     "data": {
      "text/html": [
       "<div>\n",
       "<style scoped>\n",
       "    .dataframe tbody tr th:only-of-type {\n",
       "        vertical-align: middle;\n",
       "    }\n",
       "\n",
       "    .dataframe tbody tr th {\n",
       "        vertical-align: top;\n",
       "    }\n",
       "\n",
       "    .dataframe thead th {\n",
       "        text-align: right;\n",
       "    }\n",
       "</style>\n",
       "<table border=\"1\" class=\"dataframe\">\n",
       "  <thead>\n",
       "    <tr style=\"text-align: right;\">\n",
       "      <th></th>\n",
       "      <th>season_winning_pct</th>\n",
       "      <th>season_point_score</th>\n",
       "      <th>season_point_allow</th>\n",
       "      <th>winning_streak</th>\n",
       "      <th>losing_streak</th>\n",
       "      <th>result</th>\n",
       "    </tr>\n",
       "    <tr>\n",
       "      <th>SB</th>\n",
       "      <th></th>\n",
       "      <th></th>\n",
       "      <th></th>\n",
       "      <th></th>\n",
       "      <th></th>\n",
       "      <th></th>\n",
       "    </tr>\n",
       "  </thead>\n",
       "  <tbody>\n",
       "    <tr>\n",
       "      <td>I</td>\n",
       "      <td>0.857</td>\n",
       "      <td>335</td>\n",
       "      <td>163</td>\n",
       "      <td>5</td>\n",
       "      <td>0</td>\n",
       "      <td>1</td>\n",
       "    </tr>\n",
       "    <tr>\n",
       "      <td>II</td>\n",
       "      <td>0.692</td>\n",
       "      <td>332</td>\n",
       "      <td>209</td>\n",
       "      <td>0</td>\n",
       "      <td>2</td>\n",
       "      <td>1</td>\n",
       "    </tr>\n",
       "    <tr>\n",
       "      <td>III</td>\n",
       "      <td>0.786</td>\n",
       "      <td>419</td>\n",
       "      <td>280</td>\n",
       "      <td>4</td>\n",
       "      <td>0</td>\n",
       "      <td>1</td>\n",
       "    </tr>\n",
       "    <tr>\n",
       "      <td>IV</td>\n",
       "      <td>0.786</td>\n",
       "      <td>359</td>\n",
       "      <td>177</td>\n",
       "      <td>0</td>\n",
       "      <td>1</td>\n",
       "      <td>1</td>\n",
       "    </tr>\n",
       "    <tr>\n",
       "      <td>V</td>\n",
       "      <td>0.846</td>\n",
       "      <td>321</td>\n",
       "      <td>234</td>\n",
       "      <td>4</td>\n",
       "      <td>0</td>\n",
       "      <td>1</td>\n",
       "    </tr>\n",
       "    <tr>\n",
       "      <td>...</td>\n",
       "      <td>...</td>\n",
       "      <td>...</td>\n",
       "      <td>...</td>\n",
       "      <td>...</td>\n",
       "      <td>...</td>\n",
       "      <td>...</td>\n",
       "    </tr>\n",
       "    <tr>\n",
       "      <td>L</td>\n",
       "      <td>0.938</td>\n",
       "      <td>500</td>\n",
       "      <td>308</td>\n",
       "      <td>1</td>\n",
       "      <td>0</td>\n",
       "      <td>0</td>\n",
       "    </tr>\n",
       "    <tr>\n",
       "      <td>LI</td>\n",
       "      <td>0.688</td>\n",
       "      <td>540</td>\n",
       "      <td>406</td>\n",
       "      <td>4</td>\n",
       "      <td>0</td>\n",
       "      <td>0</td>\n",
       "    </tr>\n",
       "    <tr>\n",
       "      <td>LII</td>\n",
       "      <td>0.813</td>\n",
       "      <td>458</td>\n",
       "      <td>296</td>\n",
       "      <td>3</td>\n",
       "      <td>0</td>\n",
       "      <td>0</td>\n",
       "    </tr>\n",
       "    <tr>\n",
       "      <td>LIII</td>\n",
       "      <td>0.813</td>\n",
       "      <td>527</td>\n",
       "      <td>384</td>\n",
       "      <td>2</td>\n",
       "      <td>0</td>\n",
       "      <td>0</td>\n",
       "    </tr>\n",
       "    <tr>\n",
       "      <td>LIV</td>\n",
       "      <td>0.813</td>\n",
       "      <td>479</td>\n",
       "      <td>310</td>\n",
       "      <td>2</td>\n",
       "      <td>0</td>\n",
       "      <td>0</td>\n",
       "    </tr>\n",
       "  </tbody>\n",
       "</table>\n",
       "<p>108 rows × 6 columns</p>\n",
       "</div>"
      ],
      "text/plain": [
       "      season_winning_pct  season_point_score  season_point_allow  \\\n",
       "SB                                                                 \n",
       "I                  0.857                 335                 163   \n",
       "II                 0.692                 332                 209   \n",
       "III                0.786                 419                 280   \n",
       "IV                 0.786                 359                 177   \n",
       "V                  0.846                 321                 234   \n",
       "...                  ...                 ...                 ...   \n",
       "L                  0.938                 500                 308   \n",
       "LI                 0.688                 540                 406   \n",
       "LII                0.813                 458                 296   \n",
       "LIII               0.813                 527                 384   \n",
       "LIV                0.813                 479                 310   \n",
       "\n",
       "      winning_streak  losing_streak  result  \n",
       "SB                                           \n",
       "I                  5              0       1  \n",
       "II                 0              2       1  \n",
       "III                4              0       1  \n",
       "IV                 0              1       1  \n",
       "V                  4              0       1  \n",
       "...              ...            ...     ...  \n",
       "L                  1              0       0  \n",
       "LI                 4              0       0  \n",
       "LII                3              0       0  \n",
       "LIII               2              0       0  \n",
       "LIV                2              0       0  \n",
       "\n",
       "[108 rows x 6 columns]"
      ]
     },
     "execution_count": 12,
     "metadata": {},
     "output_type": "execute_result"
    }
   ],
   "source": [
    "df"
   ]
  },
  {
   "cell_type": "code",
   "execution_count": 103,
   "metadata": {},
   "outputs": [],
   "source": [
    "# train = df[(df.index !='LIV') & (df.index != 'LIII')]\n",
    "# test = df[(df.index=='LIV') | (df.index == 'LIII')]\n",
    "train = df[df.index !='LIV']\n",
    "test = df[df.index =='LIV']"
   ]
  },
  {
   "cell_type": "code",
   "execution_count": 104,
   "metadata": {},
   "outputs": [],
   "source": [
    "X_train = train.iloc[:,:-1]\n",
    "y_train = train.iloc[:,-1]\n",
    "X_test = test.iloc[:,:-1]\n",
    "y_test = test.iloc[:,-1]"
   ]
  },
  {
   "cell_type": "code",
   "execution_count": 105,
   "metadata": {},
   "outputs": [
    {
     "name": "stderr",
     "output_type": "stream",
     "text": [
      "/opt/anaconda3/lib/python3.7/site-packages/numpy/core/fromnumeric.py:2608: FutureWarning: Method .ptp is deprecated and will be removed in a future version. Use numpy.ptp instead.\n",
      "  return ptp(axis=axis, out=out, **kwargs)\n"
     ]
    }
   ],
   "source": [
    "X_train = sm.add_constant(X_train)\n",
    "logit = LogisticRegression()\n",
    "model = logit.fit(X_train, y_train)"
   ]
  },
  {
   "cell_type": "code",
   "execution_count": 106,
   "metadata": {},
   "outputs": [
    {
     "data": {
      "text/plain": [
       "array([0.79519778])"
      ]
     },
     "execution_count": 106,
     "metadata": {},
     "output_type": "execute_result"
    }
   ],
   "source": [
    "logit.intercept_"
   ]
  },
  {
   "cell_type": "code",
   "execution_count": 107,
   "metadata": {},
   "outputs": [
    {
     "data": {
      "text/plain": [
       "array([[ 0.07520982, -0.12396192,  0.00275043, -0.00677934, -0.01872408,\n",
       "        -0.178482  ]])"
      ]
     },
     "execution_count": 107,
     "metadata": {},
     "output_type": "execute_result"
    }
   ],
   "source": [
    "logit.coef_"
   ]
  },
  {
   "cell_type": "code",
   "execution_count": 108,
   "metadata": {},
   "outputs": [
    {
     "data": {
      "text/html": [
       "<div>\n",
       "<style scoped>\n",
       "    .dataframe tbody tr th:only-of-type {\n",
       "        vertical-align: middle;\n",
       "    }\n",
       "\n",
       "    .dataframe tbody tr th {\n",
       "        vertical-align: top;\n",
       "    }\n",
       "\n",
       "    .dataframe thead th {\n",
       "        text-align: right;\n",
       "    }\n",
       "</style>\n",
       "<table border=\"1\" class=\"dataframe\">\n",
       "  <thead>\n",
       "    <tr style=\"text-align: right;\">\n",
       "      <th></th>\n",
       "      <th>season_winning_pct</th>\n",
       "      <th>season_point_score</th>\n",
       "      <th>season_point_allow</th>\n",
       "      <th>winning_streak</th>\n",
       "      <th>losing_streak</th>\n",
       "    </tr>\n",
       "    <tr>\n",
       "      <th>SB</th>\n",
       "      <th></th>\n",
       "      <th></th>\n",
       "      <th></th>\n",
       "      <th></th>\n",
       "      <th></th>\n",
       "    </tr>\n",
       "  </thead>\n",
       "  <tbody>\n",
       "    <tr>\n",
       "      <td>LIV</td>\n",
       "      <td>0.750</td>\n",
       "      <td>451</td>\n",
       "      <td>308</td>\n",
       "      <td>6</td>\n",
       "      <td>0</td>\n",
       "    </tr>\n",
       "    <tr>\n",
       "      <td>LIV</td>\n",
       "      <td>0.813</td>\n",
       "      <td>479</td>\n",
       "      <td>310</td>\n",
       "      <td>2</td>\n",
       "      <td>0</td>\n",
       "    </tr>\n",
       "  </tbody>\n",
       "</table>\n",
       "</div>"
      ],
      "text/plain": [
       "     season_winning_pct  season_point_score  season_point_allow  \\\n",
       "SB                                                                \n",
       "LIV               0.750                 451                 308   \n",
       "LIV               0.813                 479                 310   \n",
       "\n",
       "     winning_streak  losing_streak  \n",
       "SB                                  \n",
       "LIV               6              0  \n",
       "LIV               2              0  "
      ]
     },
     "execution_count": 108,
     "metadata": {},
     "output_type": "execute_result"
    }
   ],
   "source": [
    "X_test"
   ]
  },
  {
   "cell_type": "code",
   "execution_count": 110,
   "metadata": {},
   "outputs": [
    {
     "data": {
      "text/plain": [
       "SB\n",
       "LIV    1\n",
       "LIV    0\n",
       "Name: result, dtype: int64"
      ]
     },
     "execution_count": 110,
     "metadata": {},
     "output_type": "execute_result"
    }
   ],
   "source": [
    "y_test"
   ]
  },
  {
   "cell_type": "code",
   "execution_count": 109,
   "metadata": {},
   "outputs": [
    {
     "name": "stderr",
     "output_type": "stream",
     "text": [
      "/opt/anaconda3/lib/python3.7/site-packages/numpy/core/fromnumeric.py:2608: FutureWarning: Method .ptp is deprecated and will be removed in a future version. Use numpy.ptp instead.\n",
      "  return ptp(axis=axis, out=out, **kwargs)\n"
     ]
    },
    {
     "data": {
      "text/plain": [
       "array([[0.54549878, 0.45450122],\n",
       "       [0.51298703, 0.48701297]])"
      ]
     },
     "execution_count": 109,
     "metadata": {},
     "output_type": "execute_result"
    }
   ],
   "source": [
    "X_test = sm.add_constant(X_test)\n",
    "logit.predict_proba(X_test)"
   ]
  },
  {
   "cell_type": "code",
   "execution_count": 98,
   "metadata": {},
   "outputs": [
    {
     "name": "stdout",
     "output_type": "stream",
     "text": [
      "Optimization terminated successfully.\n",
      "         Current function value: 0.678316\n",
      "         Iterations 4\n"
     ]
    },
    {
     "name": "stderr",
     "output_type": "stream",
     "text": [
      "/opt/anaconda3/lib/python3.7/site-packages/numpy/core/fromnumeric.py:2608: FutureWarning: Method .ptp is deprecated and will be removed in a future version. Use numpy.ptp instead.\n",
      "  return ptp(axis=axis, out=out, **kwargs)\n"
     ]
    }
   ],
   "source": [
    "X_train = sm.add_constant(X_train)\n",
    "log_reg = sm.Logit(y_train, X_train).fit()"
   ]
  },
  {
   "cell_type": "code",
   "execution_count": 99,
   "metadata": {},
   "outputs": [
    {
     "data": {
      "text/html": [
       "<table class=\"simpletable\">\n",
       "<caption>Logit Regression Results</caption>\n",
       "<tr>\n",
       "  <th>Dep. Variable:</th>        <td>result</td>      <th>  No. Observations:  </th>  <td>   106</td> \n",
       "</tr>\n",
       "<tr>\n",
       "  <th>Model:</th>                 <td>Logit</td>      <th>  Df Residuals:      </th>  <td>   100</td> \n",
       "</tr>\n",
       "<tr>\n",
       "  <th>Method:</th>                 <td>MLE</td>       <th>  Df Model:          </th>  <td>     5</td> \n",
       "</tr>\n",
       "<tr>\n",
       "  <th>Date:</th>            <td>Sat, 03 Jul 2021</td> <th>  Pseudo R-squ.:     </th>  <td>0.02140</td>\n",
       "</tr>\n",
       "<tr>\n",
       "  <th>Time:</th>                <td>17:36:36</td>     <th>  Log-Likelihood:    </th> <td> -71.902</td>\n",
       "</tr>\n",
       "<tr>\n",
       "  <th>converged:</th>             <td>True</td>       <th>  LL-Null:           </th> <td> -73.474</td>\n",
       "</tr>\n",
       "<tr>\n",
       "  <th>Covariance Type:</th>     <td>nonrobust</td>    <th>  LLR p-value:       </th>  <td>0.6778</td> \n",
       "</tr>\n",
       "</table>\n",
       "<table class=\"simpletable\">\n",
       "<tr>\n",
       "           <td></td>             <th>coef</th>     <th>std err</th>      <th>z</th>      <th>P>|z|</th>  <th>[0.025</th>    <th>0.975]</th>  \n",
       "</tr>\n",
       "<tr>\n",
       "  <th>const</th>              <td>    1.4497</td> <td>    2.799</td> <td>    0.518</td> <td> 0.605</td> <td>   -4.037</td> <td>    6.936</td>\n",
       "</tr>\n",
       "<tr>\n",
       "  <th>season_winning_pct</th> <td>   -0.8938</td> <td>    3.557</td> <td>   -0.251</td> <td> 0.802</td> <td>   -7.864</td> <td>    6.077</td>\n",
       "</tr>\n",
       "<tr>\n",
       "  <th>season_point_score</th> <td>    0.0034</td> <td>    0.005</td> <td>    0.729</td> <td> 0.466</td> <td>   -0.006</td> <td>    0.012</td>\n",
       "</tr>\n",
       "<tr>\n",
       "  <th>season_point_allow</th> <td>   -0.0076</td> <td>    0.006</td> <td>   -1.369</td> <td> 0.171</td> <td>   -0.019</td> <td>    0.003</td>\n",
       "</tr>\n",
       "<tr>\n",
       "  <th>winning_streak</th>     <td>   -0.0143</td> <td>    0.081</td> <td>   -0.176</td> <td> 0.860</td> <td>   -0.174</td> <td>    0.145</td>\n",
       "</tr>\n",
       "<tr>\n",
       "  <th>losing_streak</th>      <td>   -0.1972</td> <td>    0.397</td> <td>   -0.496</td> <td> 0.620</td> <td>   -0.976</td> <td>    0.581</td>\n",
       "</tr>\n",
       "</table>"
      ],
      "text/plain": [
       "<class 'statsmodels.iolib.summary.Summary'>\n",
       "\"\"\"\n",
       "                           Logit Regression Results                           \n",
       "==============================================================================\n",
       "Dep. Variable:                 result   No. Observations:                  106\n",
       "Model:                          Logit   Df Residuals:                      100\n",
       "Method:                           MLE   Df Model:                            5\n",
       "Date:                Sat, 03 Jul 2021   Pseudo R-squ.:                 0.02140\n",
       "Time:                        17:36:36   Log-Likelihood:                -71.902\n",
       "converged:                       True   LL-Null:                       -73.474\n",
       "Covariance Type:            nonrobust   LLR p-value:                    0.6778\n",
       "======================================================================================\n",
       "                         coef    std err          z      P>|z|      [0.025      0.975]\n",
       "--------------------------------------------------------------------------------------\n",
       "const                  1.4497      2.799      0.518      0.605      -4.037       6.936\n",
       "season_winning_pct    -0.8938      3.557     -0.251      0.802      -7.864       6.077\n",
       "season_point_score     0.0034      0.005      0.729      0.466      -0.006       0.012\n",
       "season_point_allow    -0.0076      0.006     -1.369      0.171      -0.019       0.003\n",
       "winning_streak        -0.0143      0.081     -0.176      0.860      -0.174       0.145\n",
       "losing_streak         -0.1972      0.397     -0.496      0.620      -0.976       0.581\n",
       "======================================================================================\n",
       "\"\"\""
      ]
     },
     "execution_count": 99,
     "metadata": {},
     "output_type": "execute_result"
    }
   ],
   "source": [
    "log_reg.summary()"
   ]
  },
  {
   "cell_type": "code",
   "execution_count": 100,
   "metadata": {},
   "outputs": [
    {
     "ename": "ValueError",
     "evalue": "shapes (2,5) and (6,) not aligned: 5 (dim 1) != 6 (dim 0)",
     "output_type": "error",
     "traceback": [
      "\u001b[0;31m---------------------------------------------------------------------------\u001b[0m",
      "\u001b[0;31mValueError\u001b[0m                                Traceback (most recent call last)",
      "\u001b[0;32m<ipython-input-100-d2b4d3b15c70>\u001b[0m in \u001b[0;36m<module>\u001b[0;34m\u001b[0m\n\u001b[0;32m----> 1\u001b[0;31m \u001b[0mlog_reg\u001b[0m\u001b[0;34m.\u001b[0m\u001b[0mpredict\u001b[0m\u001b[0;34m(\u001b[0m\u001b[0mX_test\u001b[0m\u001b[0;34m.\u001b[0m\u001b[0miloc\u001b[0m\u001b[0;34m[\u001b[0m\u001b[0;34m:\u001b[0m\u001b[0;34m,\u001b[0m\u001b[0;36m1\u001b[0m\u001b[0;34m:\u001b[0m\u001b[0;34m]\u001b[0m\u001b[0;34m)\u001b[0m\u001b[0;34m\u001b[0m\u001b[0;34m\u001b[0m\u001b[0m\n\u001b[0m",
      "\u001b[0;32m/opt/anaconda3/lib/python3.7/site-packages/statsmodels/base/model.py\u001b[0m in \u001b[0;36mpredict\u001b[0;34m(self, exog, transform, *args, **kwargs)\u001b[0m\n\u001b[1;32m   1098\u001b[0m \u001b[0;34m\u001b[0m\u001b[0m\n\u001b[1;32m   1099\u001b[0m         predict_results = self.model.predict(self.params, exog, *args,\n\u001b[0;32m-> 1100\u001b[0;31m                                              **kwargs)\n\u001b[0m\u001b[1;32m   1101\u001b[0m \u001b[0;34m\u001b[0m\u001b[0m\n\u001b[1;32m   1102\u001b[0m         if exog_index is not None and not hasattr(predict_results,\n",
      "\u001b[0;32m/opt/anaconda3/lib/python3.7/site-packages/statsmodels/discrete/discrete_model.py\u001b[0m in \u001b[0;36mpredict\u001b[0;34m(self, params, exog, linear)\u001b[0m\n\u001b[1;32m    488\u001b[0m             \u001b[0mexog\u001b[0m \u001b[0;34m=\u001b[0m \u001b[0mself\u001b[0m\u001b[0;34m.\u001b[0m\u001b[0mexog\u001b[0m\u001b[0;34m\u001b[0m\u001b[0;34m\u001b[0m\u001b[0m\n\u001b[1;32m    489\u001b[0m         \u001b[0;32mif\u001b[0m \u001b[0;32mnot\u001b[0m \u001b[0mlinear\u001b[0m\u001b[0;34m:\u001b[0m\u001b[0;34m\u001b[0m\u001b[0;34m\u001b[0m\u001b[0m\n\u001b[0;32m--> 490\u001b[0;31m             \u001b[0;32mreturn\u001b[0m \u001b[0mself\u001b[0m\u001b[0;34m.\u001b[0m\u001b[0mcdf\u001b[0m\u001b[0;34m(\u001b[0m\u001b[0mnp\u001b[0m\u001b[0;34m.\u001b[0m\u001b[0mdot\u001b[0m\u001b[0;34m(\u001b[0m\u001b[0mexog\u001b[0m\u001b[0;34m,\u001b[0m \u001b[0mparams\u001b[0m\u001b[0;34m)\u001b[0m\u001b[0;34m)\u001b[0m\u001b[0;34m\u001b[0m\u001b[0;34m\u001b[0m\u001b[0m\n\u001b[0m\u001b[1;32m    491\u001b[0m         \u001b[0;32melse\u001b[0m\u001b[0;34m:\u001b[0m\u001b[0;34m\u001b[0m\u001b[0;34m\u001b[0m\u001b[0m\n\u001b[1;32m    492\u001b[0m             \u001b[0;32mreturn\u001b[0m \u001b[0mnp\u001b[0m\u001b[0;34m.\u001b[0m\u001b[0mdot\u001b[0m\u001b[0;34m(\u001b[0m\u001b[0mexog\u001b[0m\u001b[0;34m,\u001b[0m \u001b[0mparams\u001b[0m\u001b[0;34m)\u001b[0m\u001b[0;34m\u001b[0m\u001b[0;34m\u001b[0m\u001b[0m\n",
      "\u001b[0;32m<__array_function__ internals>\u001b[0m in \u001b[0;36mdot\u001b[0;34m(*args, **kwargs)\u001b[0m\n",
      "\u001b[0;31mValueError\u001b[0m: shapes (2,5) and (6,) not aligned: 5 (dim 1) != 6 (dim 0)"
     ]
    }
   ],
   "source": [
    "log_reg.predict(X_test.iloc[:,1:])"
   ]
  },
  {
   "cell_type": "code",
   "execution_count": null,
   "metadata": {},
   "outputs": [],
   "source": []
  },
  {
   "cell_type": "code",
   "execution_count": null,
   "metadata": {},
   "outputs": [],
   "source": []
  }
 ],
 "metadata": {
  "kernelspec": {
   "display_name": "Python 3",
   "language": "python",
   "name": "python3"
  },
  "language_info": {
   "codemirror_mode": {
    "name": "ipython",
    "version": 3
   },
   "file_extension": ".py",
   "mimetype": "text/x-python",
   "name": "python",
   "nbconvert_exporter": "python",
   "pygments_lexer": "ipython3",
   "version": "3.7.4"
  }
 },
 "nbformat": 4,
 "nbformat_minor": 2
}
