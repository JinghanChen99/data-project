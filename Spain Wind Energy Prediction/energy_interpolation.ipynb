{
 "cells": [
  {
   "cell_type": "markdown",
   "source": "## Spain Energy Analysis \nTo make the successful transition to renewable energy, forecasting is commonly used in the energy markets to understand energy demand as well as energy generation under certain weather or seasonal trend. The use of machine learning on time series datasets is highly leveraged to understand these dynamics. \n\nThis analysis aims to practice data preprocessing, implement algorithms on time-series datasets, and evaluate models using different metrics. This notebook prepares the dataset for further analysis. It presents the process of exploring the energy dataset and interpolates possible missing values. ",
   "metadata": {
    "tags": [],
    "cell_id": "00000-aa502e0b-dba4-4204-8662-a75974bbbba5",
    "deepnote_cell_type": "markdown"
   }
  },
  {
   "cell_type": "code",
   "metadata": {
    "tags": [],
    "deepnote_to_be_reexecuted": false,
    "source_hash": "35b119c6",
    "execution_millis": 700,
    "execution_start": 1621522006222,
    "cell_id": "00001-b8e3c892-497d-49ea-88e5-6b6c377d474d",
    "deepnote_cell_type": "code"
   },
   "source": "# data analysis, wrangling and preprocessing\nimport numpy as np \nimport pandas as pd\nimport datetime\n\n# data visualization\nimport matplotlib.pyplot as plt\nimport seaborn as sns\nplt.style.use('fivethirtyeight') # change the style of the plot\n\n# missing data interpolation\nfrom scipy.interpolate import CubicSpline",
   "execution_count": 1,
   "outputs": []
  },
  {
   "cell_type": "markdown",
   "source": "### Loading data \nWe start by loading the dataset into Pandas DataFrames.",
   "metadata": {
    "tags": [],
    "cell_id": "00002-a3032d3b-1895-41cc-be95-09fa35f49c16",
    "deepnote_cell_type": "markdown"
   }
  },
  {
   "cell_type": "code",
   "metadata": {
    "tags": [],
    "deepnote_to_be_reexecuted": false,
    "source_hash": "e598c2a7",
    "execution_millis": 192,
    "execution_start": 1621522006926,
    "cell_id": "00003-36d578fe-9d8f-4c55-8939-5a21f6df8ee1",
    "deepnote_cell_type": "code"
   },
   "source": "energy = pd.read_csv('energy_dataset.csv')\nenergy.head()",
   "execution_count": 2,
   "outputs": [
    {
     "output_type": "execute_result",
     "execution_count": 2,
     "data": {
      "application/vnd.deepnote.dataframe.v2+json": {
       "row_count": 5,
       "column_count": 29,
       "columns": [
        {
         "name": "time",
         "dtype": "object",
         "stats": {
          "unique_count": 5,
          "nan_count": 0,
          "categories": [
           {
            "name": "2015-01-01 00:00:00+01:00",
            "count": 1
           },
           {
            "name": "2015-01-01 01:00:00+01:00",
            "count": 1
           },
           {
            "name": "3 others",
            "count": 3
           }
          ]
         }
        },
        {
         "name": "generation biomass",
         "dtype": "float64",
         "stats": {
          "unique_count": 5,
          "nan_count": 0,
          "min": "428.0",
          "max": "449.0",
          "histogram": [
           {
            "bin_start": 428,
            "bin_end": 430.1,
            "count": 1
           },
           {
            "bin_start": 430.1,
            "bin_end": 432.2,
            "count": 0
           },
           {
            "bin_start": 432.2,
            "bin_end": 434.3,
            "count": 0
           },
           {
            "bin_start": 434.3,
            "bin_end": 436.4,
            "count": 0
           },
           {
            "bin_start": 436.4,
            "bin_end": 438.5,
            "count": 1
           },
           {
            "bin_start": 438.5,
            "bin_end": 440.6,
            "count": 0
           },
           {
            "bin_start": 440.6,
            "bin_end": 442.7,
            "count": 0
           },
           {
            "bin_start": 442.7,
            "bin_end": 444.8,
            "count": 0
           },
           {
            "bin_start": 444.8,
            "bin_end": 446.9,
            "count": 0
           },
           {
            "bin_start": 446.9,
            "bin_end": 449,
            "count": 3
           }
          ]
         }
        },
        {
         "name": "generation fossil brown coal/lignite",
         "dtype": "float64",
         "stats": {
          "unique_count": 5,
          "nan_count": 0,
          "min": "187.0",
          "max": "329.0",
          "histogram": [
           {
            "bin_start": 187,
            "bin_end": 201.2,
            "count": 1
           },
           {
            "bin_start": 201.2,
            "bin_end": 215.4,
            "count": 0
           },
           {
            "bin_start": 215.4,
            "bin_end": 229.6,
            "count": 0
           },
           {
            "bin_start": 229.6,
            "bin_end": 243.8,
            "count": 0
           },
           {
            "bin_start": 243.8,
            "bin_end": 258,
            "count": 1
           },
           {
            "bin_start": 258,
            "bin_end": 272.2,
            "count": 0
           },
           {
            "bin_start": 272.2,
            "bin_end": 286.4,
            "count": 0
           },
           {
            "bin_start": 286.4,
            "bin_end": 300.6,
            "count": 0
           },
           {
            "bin_start": 300.6,
            "bin_end": 314.8,
            "count": 0
           },
           {
            "bin_start": 314.8,
            "bin_end": 329,
            "count": 3
           }
          ]
         }
        },
        {
         "name": "generation fossil coal-derived gas",
         "dtype": "float64",
         "stats": {
          "unique_count": 1,
          "nan_count": 0,
          "min": "0.0",
          "max": "0.0",
          "histogram": [
           {
            "bin_start": -0.5,
            "bin_end": -0.4,
            "count": 0
           },
           {
            "bin_start": -0.4,
            "bin_end": -0.3,
            "count": 0
           },
           {
            "bin_start": -0.3,
            "bin_end": -0.19999999999999996,
            "count": 0
           },
           {
            "bin_start": -0.19999999999999996,
            "bin_end": -0.09999999999999998,
            "count": 0
           },
           {
            "bin_start": -0.09999999999999998,
            "bin_end": 0,
            "count": 0
           },
           {
            "bin_start": 0,
            "bin_end": 0.10000000000000009,
            "count": 5
           },
           {
            "bin_start": 0.10000000000000009,
            "bin_end": 0.20000000000000007,
            "count": 0
           },
           {
            "bin_start": 0.20000000000000007,
            "bin_end": 0.30000000000000004,
            "count": 0
           },
           {
            "bin_start": 0.30000000000000004,
            "bin_end": 0.4,
            "count": 0
           },
           {
            "bin_start": 0.4,
            "bin_end": 0.5,
            "count": 0
           }
          ]
         }
        },
        {
         "name": "generation fossil gas",
         "dtype": "float64",
         "stats": {
          "unique_count": 5,
          "nan_count": 0,
          "min": "4130.0",
          "max": "5196.0",
          "histogram": [
           {
            "bin_start": 4130,
            "bin_end": 4236.6,
            "count": 1
           },
           {
            "bin_start": 4236.6,
            "bin_end": 4343.2,
            "count": 1
           },
           {
            "bin_start": 4343.2,
            "bin_end": 4449.8,
            "count": 0
           },
           {
            "bin_start": 4449.8,
            "bin_end": 4556.4,
            "count": 0
           },
           {
            "bin_start": 4556.4,
            "bin_end": 4663,
            "count": 0
           },
           {
            "bin_start": 4663,
            "bin_end": 4769.6,
            "count": 0
           },
           {
            "bin_start": 4769.6,
            "bin_end": 4876.2,
            "count": 2
           },
           {
            "bin_start": 4876.2,
            "bin_end": 4982.8,
            "count": 0
           },
           {
            "bin_start": 4982.8,
            "bin_end": 5089.4,
            "count": 0
           },
           {
            "bin_start": 5089.4,
            "bin_end": 5196,
            "count": 1
           }
          ]
         }
        },
        {
         "name": "generation fossil hard coal",
         "dtype": "float64",
         "stats": {
          "unique_count": 5,
          "nan_count": 0,
          "min": "3840.0",
          "max": "4821.0",
          "histogram": [
           {
            "bin_start": 3840,
            "bin_end": 3938.1,
            "count": 1
           },
           {
            "bin_start": 3938.1,
            "bin_end": 4036.2,
            "count": 0
           },
           {
            "bin_start": 4036.2,
            "bin_end": 4134.3,
            "count": 1
           },
           {
            "bin_start": 4134.3,
            "bin_end": 4232.4,
            "count": 0
           },
           {
            "bin_start": 4232.4,
            "bin_end": 4330.5,
            "count": 0
           },
           {
            "bin_start": 4330.5,
            "bin_end": 4428.6,
            "count": 0
           },
           {
            "bin_start": 4428.6,
            "bin_end": 4526.7,
            "count": 0
           },
           {
            "bin_start": 4526.7,
            "bin_end": 4624.8,
            "count": 1
           },
           {
            "bin_start": 4624.8,
            "bin_end": 4722.9,
            "count": 0
           },
           {
            "bin_start": 4722.9,
            "bin_end": 4821,
            "count": 2
           }
          ]
         }
        },
        {
         "name": "generation fossil oil",
         "dtype": "float64",
         "stats": {
          "unique_count": 5,
          "nan_count": 0,
          "min": "156.0",
          "max": "162.0",
          "histogram": [
           {
            "bin_start": 156,
            "bin_end": 156.6,
            "count": 1
           },
           {
            "bin_start": 156.6,
            "bin_end": 157.2,
            "count": 1
           },
           {
            "bin_start": 157.2,
            "bin_end": 157.8,
            "count": 0
           },
           {
            "bin_start": 157.8,
            "bin_end": 158.4,
            "count": 1
           },
           {
            "bin_start": 158.4,
            "bin_end": 159,
            "count": 0
           },
           {
            "bin_start": 159,
            "bin_end": 159.6,
            "count": 0
           },
           {
            "bin_start": 159.6,
            "bin_end": 160.2,
            "count": 1
           },
           {
            "bin_start": 160.2,
            "bin_end": 160.8,
            "count": 0
           },
           {
            "bin_start": 160.8,
            "bin_end": 161.4,
            "count": 0
           },
           {
            "bin_start": 161.4,
            "bin_end": 162,
            "count": 1
           }
          ]
         }
        },
        {
         "name": "generation fossil oil shale",
         "dtype": "float64",
         "stats": {
          "unique_count": 1,
          "nan_count": 0,
          "min": "0.0",
          "max": "0.0",
          "histogram": [
           {
            "bin_start": -0.5,
            "bin_end": -0.4,
            "count": 0
           },
           {
            "bin_start": -0.4,
            "bin_end": -0.3,
            "count": 0
           },
           {
            "bin_start": -0.3,
            "bin_end": -0.19999999999999996,
            "count": 0
           },
           {
            "bin_start": -0.19999999999999996,
            "bin_end": -0.09999999999999998,
            "count": 0
           },
           {
            "bin_start": -0.09999999999999998,
            "bin_end": 0,
            "count": 0
           },
           {
            "bin_start": 0,
            "bin_end": 0.10000000000000009,
            "count": 5
           },
           {
            "bin_start": 0.10000000000000009,
            "bin_end": 0.20000000000000007,
            "count": 0
           },
           {
            "bin_start": 0.20000000000000007,
            "bin_end": 0.30000000000000004,
            "count": 0
           },
           {
            "bin_start": 0.30000000000000004,
            "bin_end": 0.4,
            "count": 0
           },
           {
            "bin_start": 0.4,
            "bin_end": 0.5,
            "count": 0
           }
          ]
         }
        },
        {
         "name": "generation fossil peat",
         "dtype": "float64",
         "stats": {
          "unique_count": 1,
          "nan_count": 0,
          "min": "0.0",
          "max": "0.0",
          "histogram": [
           {
            "bin_start": -0.5,
            "bin_end": -0.4,
            "count": 0
           },
           {
            "bin_start": -0.4,
            "bin_end": -0.3,
            "count": 0
           },
           {
            "bin_start": -0.3,
            "bin_end": -0.19999999999999996,
            "count": 0
           },
           {
            "bin_start": -0.19999999999999996,
            "bin_end": -0.09999999999999998,
            "count": 0
           },
           {
            "bin_start": -0.09999999999999998,
            "bin_end": 0,
            "count": 0
           },
           {
            "bin_start": 0,
            "bin_end": 0.10000000000000009,
            "count": 5
           },
           {
            "bin_start": 0.10000000000000009,
            "bin_end": 0.20000000000000007,
            "count": 0
           },
           {
            "bin_start": 0.20000000000000007,
            "bin_end": 0.30000000000000004,
            "count": 0
           },
           {
            "bin_start": 0.30000000000000004,
            "bin_end": 0.4,
            "count": 0
           },
           {
            "bin_start": 0.4,
            "bin_end": 0.5,
            "count": 0
           }
          ]
         }
        },
        {
         "name": "generation geothermal",
         "dtype": "float64",
         "stats": {
          "unique_count": 1,
          "nan_count": 0,
          "min": "0.0",
          "max": "0.0",
          "histogram": [
           {
            "bin_start": -0.5,
            "bin_end": -0.4,
            "count": 0
           },
           {
            "bin_start": -0.4,
            "bin_end": -0.3,
            "count": 0
           },
           {
            "bin_start": -0.3,
            "bin_end": -0.19999999999999996,
            "count": 0
           },
           {
            "bin_start": -0.19999999999999996,
            "bin_end": -0.09999999999999998,
            "count": 0
           },
           {
            "bin_start": -0.09999999999999998,
            "bin_end": 0,
            "count": 0
           },
           {
            "bin_start": 0,
            "bin_end": 0.10000000000000009,
            "count": 5
           },
           {
            "bin_start": 0.10000000000000009,
            "bin_end": 0.20000000000000007,
            "count": 0
           },
           {
            "bin_start": 0.20000000000000007,
            "bin_end": 0.30000000000000004,
            "count": 0
           },
           {
            "bin_start": 0.30000000000000004,
            "bin_end": 0.4,
            "count": 0
           },
           {
            "bin_start": 0.4,
            "bin_end": 0.5,
            "count": 0
           }
          ]
         }
        },
        {
         "name": "generation hydro pumped storage aggregated",
         "dtype": "float64",
         "stats": {
          "unique_count": 0,
          "nan_count": 5,
          "min": null,
          "max": null,
          "histogram": [
           {
            "bin_start": 0,
            "bin_end": 0.1,
            "count": 0
           },
           {
            "bin_start": 0.1,
            "bin_end": 0.2,
            "count": 0
           },
           {
            "bin_start": 0.2,
            "bin_end": 0.30000000000000004,
            "count": 0
           },
           {
            "bin_start": 0.30000000000000004,
            "bin_end": 0.4,
            "count": 0
           },
           {
            "bin_start": 0.4,
            "bin_end": 0.5,
            "count": 0
           },
           {
            "bin_start": 0.5,
            "bin_end": 0.6000000000000001,
            "count": 0
           },
           {
            "bin_start": 0.6000000000000001,
            "bin_end": 0.7000000000000001,
            "count": 0
           },
           {
            "bin_start": 0.7000000000000001,
            "bin_end": 0.8,
            "count": 0
           },
           {
            "bin_start": 0.8,
            "bin_end": 0.9,
            "count": 0
           },
           {
            "bin_start": 0.9,
            "bin_end": 1,
            "count": 0
           }
          ]
         }
        },
        {
         "name": "generation hydro pumped storage consumption",
         "dtype": "float64",
         "stats": {
          "unique_count": 5,
          "nan_count": 0,
          "min": "863.0",
          "max": "1826.0",
          "histogram": [
           {
            "bin_start": 863,
            "bin_end": 959.3,
            "count": 2
           },
           {
            "bin_start": 959.3,
            "bin_end": 1055.6,
            "count": 0
           },
           {
            "bin_start": 1055.6,
            "bin_end": 1151.9,
            "count": 0
           },
           {
            "bin_start": 1151.9,
            "bin_end": 1248.2,
            "count": 1
           },
           {
            "bin_start": 1248.2,
            "bin_end": 1344.5,
            "count": 0
           },
           {
            "bin_start": 1344.5,
            "bin_end": 1440.8,
            "count": 0
           },
           {
            "bin_start": 1440.8,
            "bin_end": 1537.1,
            "count": 1
           },
           {
            "bin_start": 1537.1,
            "bin_end": 1633.4,
            "count": 0
           },
           {
            "bin_start": 1633.4,
            "bin_end": 1729.6999999999998,
            "count": 0
           },
           {
            "bin_start": 1729.6999999999998,
            "bin_end": 1826,
            "count": 1
           }
          ]
         }
        },
        {
         "name": "generation hydro run-of-river and poundage",
         "dtype": "float64",
         "stats": {
          "unique_count": 5,
          "nan_count": 0,
          "min": "949.0",
          "max": "1051.0",
          "histogram": [
           {
            "bin_start": 949,
            "bin_end": 959.2,
            "count": 2
           },
           {
            "bin_start": 959.2,
            "bin_end": 969.4,
            "count": 0
           },
           {
            "bin_start": 969.4,
            "bin_end": 979.6,
            "count": 1
           },
           {
            "bin_start": 979.6,
            "bin_end": 989.8,
            "count": 0
           },
           {
            "bin_start": 989.8,
            "bin_end": 1000,
            "count": 0
           },
           {
            "bin_start": 1000,
            "bin_end": 1010.2,
            "count": 1
           },
           {
            "bin_start": 1010.2,
            "bin_end": 1020.4,
            "count": 0
           },
           {
            "bin_start": 1020.4,
            "bin_end": 1030.6,
            "count": 0
           },
           {
            "bin_start": 1030.6,
            "bin_end": 1040.8,
            "count": 0
           },
           {
            "bin_start": 1040.8,
            "bin_end": 1051,
            "count": 1
           }
          ]
         }
        },
        {
         "name": "generation hydro water reservoir",
         "dtype": "float64",
         "stats": {
          "unique_count": 5,
          "nan_count": 0,
          "min": "720.0",
          "max": "1899.0",
          "histogram": [
           {
            "bin_start": 720,
            "bin_end": 837.9,
            "count": 2
           },
           {
            "bin_start": 837.9,
            "bin_end": 955.8,
            "count": 0
           },
           {
            "bin_start": 955.8,
            "bin_end": 1073.7,
            "count": 0
           },
           {
            "bin_start": 1073.7,
            "bin_end": 1191.6,
            "count": 0
           },
           {
            "bin_start": 1191.6,
            "bin_end": 1309.5,
            "count": 0
           },
           {
            "bin_start": 1309.5,
            "bin_end": 1427.4,
            "count": 1
           },
           {
            "bin_start": 1427.4,
            "bin_end": 1545.3000000000002,
            "count": 0
           },
           {
            "bin_start": 1545.3000000000002,
            "bin_end": 1663.2,
            "count": 1
           },
           {
            "bin_start": 1663.2,
            "bin_end": 1781.1000000000001,
            "count": 0
           },
           {
            "bin_start": 1781.1000000000001,
            "bin_end": 1899,
            "count": 1
           }
          ]
         }
        },
        {
         "name": "generation marine",
         "dtype": "float64",
         "stats": {
          "unique_count": 1,
          "nan_count": 0,
          "min": "0.0",
          "max": "0.0",
          "histogram": [
           {
            "bin_start": -0.5,
            "bin_end": -0.4,
            "count": 0
           },
           {
            "bin_start": -0.4,
            "bin_end": -0.3,
            "count": 0
           },
           {
            "bin_start": -0.3,
            "bin_end": -0.19999999999999996,
            "count": 0
           },
           {
            "bin_start": -0.19999999999999996,
            "bin_end": -0.09999999999999998,
            "count": 0
           },
           {
            "bin_start": -0.09999999999999998,
            "bin_end": 0,
            "count": 0
           },
           {
            "bin_start": 0,
            "bin_end": 0.10000000000000009,
            "count": 5
           },
           {
            "bin_start": 0.10000000000000009,
            "bin_end": 0.20000000000000007,
            "count": 0
           },
           {
            "bin_start": 0.20000000000000007,
            "bin_end": 0.30000000000000004,
            "count": 0
           },
           {
            "bin_start": 0.30000000000000004,
            "bin_end": 0.4,
            "count": 0
           },
           {
            "bin_start": 0.4,
            "bin_end": 0.5,
            "count": 0
           }
          ]
         }
        },
        {
         "name": "generation nuclear",
         "dtype": "float64",
         "stats": {
          "unique_count": 4,
          "nan_count": 0,
          "min": "7096.0",
          "max": "7099.0",
          "histogram": [
           {
            "bin_start": 7096,
            "bin_end": 7096.3,
            "count": 2
           },
           {
            "bin_start": 7096.3,
            "bin_end": 7096.6,
            "count": 0
           },
           {
            "bin_start": 7096.6,
            "bin_end": 7096.9,
            "count": 0
           },
           {
            "bin_start": 7096.9,
            "bin_end": 7097.2,
            "count": 1
           },
           {
            "bin_start": 7097.2,
            "bin_end": 7097.5,
            "count": 0
           },
           {
            "bin_start": 7097.5,
            "bin_end": 7097.8,
            "count": 0
           },
           {
            "bin_start": 7097.8,
            "bin_end": 7098.1,
            "count": 1
           },
           {
            "bin_start": 7098.1,
            "bin_end": 7098.4,
            "count": 0
           },
           {
            "bin_start": 7098.4,
            "bin_end": 7098.7,
            "count": 0
           },
           {
            "bin_start": 7098.7,
            "bin_end": 7099,
            "count": 1
           }
          ]
         }
        },
        {
         "name": "generation other",
         "dtype": "float64",
         "stats": {
          "unique_count": 1,
          "nan_count": 0,
          "min": "43.0",
          "max": "43.0",
          "histogram": [
           {
            "bin_start": 42.5,
            "bin_end": 42.6,
            "count": 0
           },
           {
            "bin_start": 42.6,
            "bin_end": 42.7,
            "count": 0
           },
           {
            "bin_start": 42.7,
            "bin_end": 42.8,
            "count": 0
           },
           {
            "bin_start": 42.8,
            "bin_end": 42.9,
            "count": 0
           },
           {
            "bin_start": 42.9,
            "bin_end": 43,
            "count": 0
           },
           {
            "bin_start": 43,
            "bin_end": 43.1,
            "count": 5
           },
           {
            "bin_start": 43.1,
            "bin_end": 43.2,
            "count": 0
           },
           {
            "bin_start": 43.2,
            "bin_end": 43.3,
            "count": 0
           },
           {
            "bin_start": 43.3,
            "bin_end": 43.4,
            "count": 0
           },
           {
            "bin_start": 43.4,
            "bin_end": 43.5,
            "count": 0
           }
          ]
         }
        },
        {
         "name": "generation other renewable",
         "dtype": "float64",
         "stats": {
          "unique_count": 4,
          "nan_count": 0,
          "min": "71.0",
          "max": "75.0",
          "histogram": [
           {
            "bin_start": 71,
            "bin_end": 71.4,
            "count": 1
           },
           {
            "bin_start": 71.4,
            "bin_end": 71.8,
            "count": 0
           },
           {
            "bin_start": 71.8,
            "bin_end": 72.2,
            "count": 0
           },
           {
            "bin_start": 72.2,
            "bin_end": 72.6,
            "count": 0
           },
           {
            "bin_start": 72.6,
            "bin_end": 73,
            "count": 0
           },
           {
            "bin_start": 73,
            "bin_end": 73.4,
            "count": 2
           },
           {
            "bin_start": 73.4,
            "bin_end": 73.8,
            "count": 0
           },
           {
            "bin_start": 73.8,
            "bin_end": 74.2,
            "count": 1
           },
           {
            "bin_start": 74.2,
            "bin_end": 74.6,
            "count": 0
           },
           {
            "bin_start": 74.6,
            "bin_end": 75,
            "count": 1
           }
          ]
         }
        },
        {
         "name": "generation solar",
         "dtype": "float64",
         "stats": {
          "unique_count": 3,
          "nan_count": 0,
          "min": "42.0",
          "max": "50.0",
          "histogram": [
           {
            "bin_start": 42,
            "bin_end": 42.8,
            "count": 1
           },
           {
            "bin_start": 42.8,
            "bin_end": 43.6,
            "count": 0
           },
           {
            "bin_start": 43.6,
            "bin_end": 44.4,
            "count": 0
           },
           {
            "bin_start": 44.4,
            "bin_end": 45.2,
            "count": 0
           },
           {
            "bin_start": 45.2,
            "bin_end": 46,
            "count": 0
           },
           {
            "bin_start": 46,
            "bin_end": 46.8,
            "count": 0
           },
           {
            "bin_start": 46.8,
            "bin_end": 47.6,
            "count": 0
           },
           {
            "bin_start": 47.6,
            "bin_end": 48.4,
            "count": 0
           },
           {
            "bin_start": 48.4,
            "bin_end": 49.2,
            "count": 1
           },
           {
            "bin_start": 49.2,
            "bin_end": 50,
            "count": 3
           }
          ]
         }
        },
        {
         "name": "generation waste",
         "dtype": "float64",
         "stats": {
          "unique_count": 4,
          "nan_count": 0,
          "min": "189.0",
          "max": "196.0",
          "histogram": [
           {
            "bin_start": 189,
            "bin_end": 189.7,
            "count": 1
           },
           {
            "bin_start": 189.7,
            "bin_end": 190.4,
            "count": 0
           },
           {
            "bin_start": 190.4,
            "bin_end": 191.1,
            "count": 1
           },
           {
            "bin_start": 191.1,
            "bin_end": 191.8,
            "count": 0
           },
           {
            "bin_start": 191.8,
            "bin_end": 192.5,
            "count": 0
           },
           {
            "bin_start": 192.5,
            "bin_end": 193.2,
            "count": 0
           },
           {
            "bin_start": 193.2,
            "bin_end": 193.9,
            "count": 0
           },
           {
            "bin_start": 193.9,
            "bin_end": 194.6,
            "count": 0
           },
           {
            "bin_start": 194.6,
            "bin_end": 195.3,
            "count": 1
           },
           {
            "bin_start": 195.3,
            "bin_end": 196,
            "count": 2
           }
          ]
         }
        },
        {
         "name": "generation wind offshore",
         "dtype": "float64",
         "stats": {
          "unique_count": 1,
          "nan_count": 0,
          "min": "0.0",
          "max": "0.0",
          "histogram": [
           {
            "bin_start": -0.5,
            "bin_end": -0.4,
            "count": 0
           },
           {
            "bin_start": -0.4,
            "bin_end": -0.3,
            "count": 0
           },
           {
            "bin_start": -0.3,
            "bin_end": -0.19999999999999996,
            "count": 0
           },
           {
            "bin_start": -0.19999999999999996,
            "bin_end": -0.09999999999999998,
            "count": 0
           },
           {
            "bin_start": -0.09999999999999998,
            "bin_end": 0,
            "count": 0
           },
           {
            "bin_start": 0,
            "bin_end": 0.10000000000000009,
            "count": 5
           },
           {
            "bin_start": 0.10000000000000009,
            "bin_end": 0.20000000000000007,
            "count": 0
           },
           {
            "bin_start": 0.20000000000000007,
            "bin_end": 0.30000000000000004,
            "count": 0
           },
           {
            "bin_start": 0.30000000000000004,
            "bin_end": 0.4,
            "count": 0
           },
           {
            "bin_start": 0.4,
            "bin_end": 0.5,
            "count": 0
           }
          ]
         }
        },
        {
         "name": "generation wind onshore",
         "dtype": "float64",
         "stats": {
          "unique_count": 5,
          "nan_count": 0,
          "min": "4935.0",
          "max": "6378.0",
          "histogram": [
           {
            "bin_start": 4935,
            "bin_end": 5079.3,
            "count": 1
           },
           {
            "bin_start": 5079.3,
            "bin_end": 5223.6,
            "count": 0
           },
           {
            "bin_start": 5223.6,
            "bin_end": 5367.9,
            "count": 1
           },
           {
            "bin_start": 5367.9,
            "bin_end": 5512.2,
            "count": 1
           },
           {
            "bin_start": 5512.2,
            "bin_end": 5656.5,
            "count": 0
           },
           {
            "bin_start": 5656.5,
            "bin_end": 5800.8,
            "count": 0
           },
           {
            "bin_start": 5800.8,
            "bin_end": 5945.1,
            "count": 1
           },
           {
            "bin_start": 5945.1,
            "bin_end": 6089.4,
            "count": 0
           },
           {
            "bin_start": 6089.4,
            "bin_end": 6233.7,
            "count": 0
           },
           {
            "bin_start": 6233.7,
            "bin_end": 6378,
            "count": 1
           }
          ]
         }
        },
        {
         "name": "forecast solar day ahead",
         "dtype": "float64",
         "stats": {
          "unique_count": 5,
          "nan_count": 0,
          "min": "2.0",
          "max": "17.0",
          "histogram": [
           {
            "bin_start": 2,
            "bin_end": 3.5,
            "count": 1
           },
           {
            "bin_start": 3.5,
            "bin_end": 5,
            "count": 0
           },
           {
            "bin_start": 5,
            "bin_end": 6.5,
            "count": 0
           },
           {
            "bin_start": 6.5,
            "bin_end": 8,
            "count": 0
           },
           {
            "bin_start": 8,
            "bin_end": 9.5,
            "count": 2
           },
           {
            "bin_start": 9.5,
            "bin_end": 11,
            "count": 0
           },
           {
            "bin_start": 11,
            "bin_end": 12.5,
            "count": 0
           },
           {
            "bin_start": 12.5,
            "bin_end": 14,
            "count": 0
           },
           {
            "bin_start": 14,
            "bin_end": 15.5,
            "count": 0
           },
           {
            "bin_start": 15.5,
            "bin_end": 17,
            "count": 2
           }
          ]
         }
        },
        {
         "name": "forecast wind offshore eday ahead",
         "dtype": "float64",
         "stats": {
          "unique_count": 0,
          "nan_count": 5,
          "min": null,
          "max": null,
          "histogram": [
           {
            "bin_start": 0,
            "bin_end": 0.1,
            "count": 0
           },
           {
            "bin_start": 0.1,
            "bin_end": 0.2,
            "count": 0
           },
           {
            "bin_start": 0.2,
            "bin_end": 0.30000000000000004,
            "count": 0
           },
           {
            "bin_start": 0.30000000000000004,
            "bin_end": 0.4,
            "count": 0
           },
           {
            "bin_start": 0.4,
            "bin_end": 0.5,
            "count": 0
           },
           {
            "bin_start": 0.5,
            "bin_end": 0.6000000000000001,
            "count": 0
           },
           {
            "bin_start": 0.6000000000000001,
            "bin_end": 0.7000000000000001,
            "count": 0
           },
           {
            "bin_start": 0.7000000000000001,
            "bin_end": 0.8,
            "count": 0
           },
           {
            "bin_start": 0.8,
            "bin_end": 0.9,
            "count": 0
           },
           {
            "bin_start": 0.9,
            "bin_end": 1,
            "count": 0
           }
          ]
         }
        },
        {
         "name": "forecast wind onshore day ahead",
         "dtype": "float64",
         "stats": {
          "unique_count": 5,
          "nan_count": 0,
          "min": "4861.0",
          "max": "6436.0",
          "histogram": [
           {
            "bin_start": 4861,
            "bin_end": 5018.5,
            "count": 1
           },
           {
            "bin_start": 5018.5,
            "bin_end": 5176,
            "count": 1
           },
           {
            "bin_start": 5176,
            "bin_end": 5333.5,
            "count": 0
           },
           {
            "bin_start": 5333.5,
            "bin_end": 5491,
            "count": 1
           },
           {
            "bin_start": 5491,
            "bin_end": 5648.5,
            "count": 0
           },
           {
            "bin_start": 5648.5,
            "bin_end": 5806,
            "count": 0
           },
           {
            "bin_start": 5806,
            "bin_end": 5963.5,
            "count": 1
           },
           {
            "bin_start": 5963.5,
            "bin_end": 6121,
            "count": 0
           },
           {
            "bin_start": 6121,
            "bin_end": 6278.5,
            "count": 0
           },
           {
            "bin_start": 6278.5,
            "bin_end": 6436,
            "count": 1
           }
          ]
         }
        },
        {
         "name": "total load forecast",
         "dtype": "float64",
         "stats": {
          "unique_count": 5,
          "nan_count": 0,
          "min": "21785.0",
          "max": "26118.0",
          "histogram": [
           {
            "bin_start": 21785,
            "bin_end": 22218.3,
            "count": 1
           },
           {
            "bin_start": 22218.3,
            "bin_end": 22651.6,
            "count": 1
           },
           {
            "bin_start": 22651.6,
            "bin_end": 23084.9,
            "count": 0
           },
           {
            "bin_start": 23084.9,
            "bin_end": 23518.2,
            "count": 1
           },
           {
            "bin_start": 23518.2,
            "bin_end": 23951.5,
            "count": 0
           },
           {
            "bin_start": 23951.5,
            "bin_end": 24384.8,
            "count": 0
           },
           {
            "bin_start": 24384.8,
            "bin_end": 24818.1,
            "count": 0
           },
           {
            "bin_start": 24818.1,
            "bin_end": 25251.4,
            "count": 1
           },
           {
            "bin_start": 25251.4,
            "bin_end": 25684.7,
            "count": 0
           },
           {
            "bin_start": 25684.7,
            "bin_end": 26118,
            "count": 1
           }
          ]
         }
        },
        {
         "name": "total load actual",
         "dtype": "float64",
         "stats": {
          "unique_count": 5,
          "nan_count": 0,
          "min": "20264.0",
          "max": "25385.0",
          "histogram": [
           {
            "bin_start": 20264,
            "bin_end": 20776.1,
            "count": 1
           },
           {
            "bin_start": 20776.1,
            "bin_end": 21288.2,
            "count": 1
           },
           {
            "bin_start": 21288.2,
            "bin_end": 21800.3,
            "count": 0
           },
           {
            "bin_start": 21800.3,
            "bin_end": 22312.4,
            "count": 0
           },
           {
            "bin_start": 22312.4,
            "bin_end": 22824.5,
            "count": 1
           },
           {
            "bin_start": 22824.5,
            "bin_end": 23336.6,
            "count": 0
           },
           {
            "bin_start": 23336.6,
            "bin_end": 23848.7,
            "count": 0
           },
           {
            "bin_start": 23848.7,
            "bin_end": 24360.8,
            "count": 0
           },
           {
            "bin_start": 24360.8,
            "bin_end": 24872.9,
            "count": 1
           },
           {
            "bin_start": 24872.9,
            "bin_end": 25385,
            "count": 1
           }
          ]
         }
        },
        {
         "name": "price day ahead",
         "dtype": "float64",
         "stats": {
          "unique_count": 5,
          "nan_count": 0,
          "min": "38.41",
          "max": "50.1",
          "histogram": [
           {
            "bin_start": 38.41,
            "bin_end": 39.57899999999999,
            "count": 1
           },
           {
            "bin_start": 39.57899999999999,
            "bin_end": 40.748,
            "count": 0
           },
           {
            "bin_start": 40.748,
            "bin_end": 41.917,
            "count": 0
           },
           {
            "bin_start": 41.917,
            "bin_end": 43.086,
            "count": 1
           },
           {
            "bin_start": 43.086,
            "bin_end": 44.254999999999995,
            "count": 0
           },
           {
            "bin_start": 44.254999999999995,
            "bin_end": 45.424,
            "count": 0
           },
           {
            "bin_start": 45.424,
            "bin_end": 46.593,
            "count": 0
           },
           {
            "bin_start": 46.593,
            "bin_end": 47.762,
            "count": 1
           },
           {
            "bin_start": 47.762,
            "bin_end": 48.931,
            "count": 1
           },
           {
            "bin_start": 48.931,
            "bin_end": 50.1,
            "count": 1
           }
          ]
         }
        },
        {
         "name": "price actual",
         "dtype": "float64",
         "stats": {
          "unique_count": 5,
          "nan_count": 0,
          "min": "56.04",
          "max": "65.41",
          "histogram": [
           {
            "bin_start": 56.04,
            "bin_end": 56.977,
            "count": 1
           },
           {
            "bin_start": 56.977,
            "bin_end": 57.914,
            "count": 0
           },
           {
            "bin_start": 57.914,
            "bin_end": 58.851,
            "count": 0
           },
           {
            "bin_start": 58.851,
            "bin_end": 59.788,
            "count": 1
           },
           {
            "bin_start": 59.788,
            "bin_end": 60.724999999999994,
            "count": 0
           },
           {
            "bin_start": 60.724999999999994,
            "bin_end": 61.662,
            "count": 0
           },
           {
            "bin_start": 61.662,
            "bin_end": 62.599,
            "count": 0
           },
           {
            "bin_start": 62.599,
            "bin_end": 63.535999999999994,
            "count": 0
           },
           {
            "bin_start": 63.535999999999994,
            "bin_end": 64.473,
            "count": 0
           },
           {
            "bin_start": 64.473,
            "bin_end": 65.41,
            "count": 3
           }
          ]
         }
        },
        {
         "name": "_deepnote_index_column",
         "dtype": "int64"
        }
       ],
       "rows_top": [
        {
         "time": "2015-01-01 00:00:00+01:00",
         "generation biomass": 447,
         "generation fossil brown coal/lignite": 329,
         "generation fossil coal-derived gas": 0,
         "generation fossil gas": 4844,
         "generation fossil hard coal": 4821,
         "generation fossil oil": 162,
         "generation fossil oil shale": 0,
         "generation fossil peat": 0,
         "generation geothermal": 0,
         "generation hydro pumped storage aggregated": "nan",
         "generation hydro pumped storage consumption": 863,
         "generation hydro run-of-river and poundage": 1051,
         "generation hydro water reservoir": 1899,
         "generation marine": 0,
         "generation nuclear": 7096,
         "generation other": 43,
         "generation other renewable": 73,
         "generation solar": 49,
         "generation waste": 196,
         "generation wind offshore": 0,
         "generation wind onshore": 6378,
         "forecast solar day ahead": 17,
         "forecast wind offshore eday ahead": "nan",
         "forecast wind onshore day ahead": 6436,
         "total load forecast": 26118,
         "total load actual": 25385,
         "price day ahead": 50.1,
         "price actual": 65.41,
         "_deepnote_index_column": 0
        },
        {
         "time": "2015-01-01 01:00:00+01:00",
         "generation biomass": 449,
         "generation fossil brown coal/lignite": 328,
         "generation fossil coal-derived gas": 0,
         "generation fossil gas": 5196,
         "generation fossil hard coal": 4755,
         "generation fossil oil": 158,
         "generation fossil oil shale": 0,
         "generation fossil peat": 0,
         "generation geothermal": 0,
         "generation hydro pumped storage aggregated": "nan",
         "generation hydro pumped storage consumption": 920,
         "generation hydro run-of-river and poundage": 1009,
         "generation hydro water reservoir": 1658,
         "generation marine": 0,
         "generation nuclear": 7096,
         "generation other": 43,
         "generation other renewable": 71,
         "generation solar": 50,
         "generation waste": 195,
         "generation wind offshore": 0,
         "generation wind onshore": 5890,
         "forecast solar day ahead": 16,
         "forecast wind offshore eday ahead": "nan",
         "forecast wind onshore day ahead": 5856,
         "total load forecast": 24934,
         "total load actual": 24382,
         "price day ahead": 48.1,
         "price actual": 64.92,
         "_deepnote_index_column": 1
        },
        {
         "time": "2015-01-01 02:00:00+01:00",
         "generation biomass": 448,
         "generation fossil brown coal/lignite": 323,
         "generation fossil coal-derived gas": 0,
         "generation fossil gas": 4857,
         "generation fossil hard coal": 4581,
         "generation fossil oil": 157,
         "generation fossil oil shale": 0,
         "generation fossil peat": 0,
         "generation geothermal": 0,
         "generation hydro pumped storage aggregated": "nan",
         "generation hydro pumped storage consumption": 1164,
         "generation hydro run-of-river and poundage": 973,
         "generation hydro water reservoir": 1371,
         "generation marine": 0,
         "generation nuclear": 7099,
         "generation other": 43,
         "generation other renewable": 73,
         "generation solar": 50,
         "generation waste": 196,
         "generation wind offshore": 0,
         "generation wind onshore": 5461,
         "forecast solar day ahead": 8,
         "forecast wind offshore eday ahead": "nan",
         "forecast wind onshore day ahead": 5454,
         "total load forecast": 23515,
         "total load actual": 22734,
         "price day ahead": 47.33,
         "price actual": 64.48,
         "_deepnote_index_column": 2
        },
        {
         "time": "2015-01-01 03:00:00+01:00",
         "generation biomass": 438,
         "generation fossil brown coal/lignite": 254,
         "generation fossil coal-derived gas": 0,
         "generation fossil gas": 4314,
         "generation fossil hard coal": 4131,
         "generation fossil oil": 160,
         "generation fossil oil shale": 0,
         "generation fossil peat": 0,
         "generation geothermal": 0,
         "generation hydro pumped storage aggregated": "nan",
         "generation hydro pumped storage consumption": 1503,
         "generation hydro run-of-river and poundage": 949,
         "generation hydro water reservoir": 779,
         "generation marine": 0,
         "generation nuclear": 7098,
         "generation other": 43,
         "generation other renewable": 75,
         "generation solar": 50,
         "generation waste": 191,
         "generation wind offshore": 0,
         "generation wind onshore": 5238,
         "forecast solar day ahead": 2,
         "forecast wind offshore eday ahead": "nan",
         "forecast wind onshore day ahead": 5151,
         "total load forecast": 22642,
         "total load actual": 21286,
         "price day ahead": 42.27,
         "price actual": 59.32,
         "_deepnote_index_column": 3
        },
        {
         "time": "2015-01-01 04:00:00+01:00",
         "generation biomass": 428,
         "generation fossil brown coal/lignite": 187,
         "generation fossil coal-derived gas": 0,
         "generation fossil gas": 4130,
         "generation fossil hard coal": 3840,
         "generation fossil oil": 156,
         "generation fossil oil shale": 0,
         "generation fossil peat": 0,
         "generation geothermal": 0,
         "generation hydro pumped storage aggregated": "nan",
         "generation hydro pumped storage consumption": 1826,
         "generation hydro run-of-river and poundage": 953,
         "generation hydro water reservoir": 720,
         "generation marine": 0,
         "generation nuclear": 7097,
         "generation other": 43,
         "generation other renewable": 74,
         "generation solar": 42,
         "generation waste": 189,
         "generation wind offshore": 0,
         "generation wind onshore": 4935,
         "forecast solar day ahead": 9,
         "forecast wind offshore eday ahead": "nan",
         "forecast wind onshore day ahead": 4861,
         "total load forecast": 21785,
         "total load actual": 20264,
         "price day ahead": 38.41,
         "price actual": 56.04,
         "_deepnote_index_column": 4
        }
       ],
       "rows_bottom": null
      },
      "text/plain": "                        time  generation biomass  \\\n0  2015-01-01 00:00:00+01:00               447.0   \n1  2015-01-01 01:00:00+01:00               449.0   \n2  2015-01-01 02:00:00+01:00               448.0   \n3  2015-01-01 03:00:00+01:00               438.0   \n4  2015-01-01 04:00:00+01:00               428.0   \n\n   generation fossil brown coal/lignite  generation fossil coal-derived gas  \\\n0                                 329.0                                 0.0   \n1                                 328.0                                 0.0   \n2                                 323.0                                 0.0   \n3                                 254.0                                 0.0   \n4                                 187.0                                 0.0   \n\n   generation fossil gas  generation fossil hard coal  generation fossil oil  \\\n0                 4844.0                       4821.0                  162.0   \n1                 5196.0                       4755.0                  158.0   \n2                 4857.0                       4581.0                  157.0   \n3                 4314.0                       4131.0                  160.0   \n4                 4130.0                       3840.0                  156.0   \n\n   generation fossil oil shale  generation fossil peat  generation geothermal  \\\n0                          0.0                     0.0                    0.0   \n1                          0.0                     0.0                    0.0   \n2                          0.0                     0.0                    0.0   \n3                          0.0                     0.0                    0.0   \n4                          0.0                     0.0                    0.0   \n\n   ...  generation waste  generation wind offshore  generation wind onshore  \\\n0  ...             196.0                       0.0                   6378.0   \n1  ...             195.0                       0.0                   5890.0   \n2  ...             196.0                       0.0                   5461.0   \n3  ...             191.0                       0.0                   5238.0   \n4  ...             189.0                       0.0                   4935.0   \n\n   forecast solar day ahead  forecast wind offshore eday ahead  \\\n0                      17.0                                NaN   \n1                      16.0                                NaN   \n2                       8.0                                NaN   \n3                       2.0                                NaN   \n4                       9.0                                NaN   \n\n   forecast wind onshore day ahead  total load forecast  total load actual  \\\n0                           6436.0              26118.0            25385.0   \n1                           5856.0              24934.0            24382.0   \n2                           5454.0              23515.0            22734.0   \n3                           5151.0              22642.0            21286.0   \n4                           4861.0              21785.0            20264.0   \n\n   price day ahead  price actual  \n0            50.10         65.41  \n1            48.10         64.92  \n2            47.33         64.48  \n3            42.27         59.32  \n4            38.41         56.04  \n\n[5 rows x 29 columns]",
      "text/html": "<div>\n<style scoped>\n    .dataframe tbody tr th:only-of-type {\n        vertical-align: middle;\n    }\n\n    .dataframe tbody tr th {\n        vertical-align: top;\n    }\n\n    .dataframe thead th {\n        text-align: right;\n    }\n</style>\n<table border=\"1\" class=\"dataframe\">\n  <thead>\n    <tr style=\"text-align: right;\">\n      <th></th>\n      <th>time</th>\n      <th>generation biomass</th>\n      <th>generation fossil brown coal/lignite</th>\n      <th>generation fossil coal-derived gas</th>\n      <th>generation fossil gas</th>\n      <th>generation fossil hard coal</th>\n      <th>generation fossil oil</th>\n      <th>generation fossil oil shale</th>\n      <th>generation fossil peat</th>\n      <th>generation geothermal</th>\n      <th>...</th>\n      <th>generation waste</th>\n      <th>generation wind offshore</th>\n      <th>generation wind onshore</th>\n      <th>forecast solar day ahead</th>\n      <th>forecast wind offshore eday ahead</th>\n      <th>forecast wind onshore day ahead</th>\n      <th>total load forecast</th>\n      <th>total load actual</th>\n      <th>price day ahead</th>\n      <th>price actual</th>\n    </tr>\n  </thead>\n  <tbody>\n    <tr>\n      <th>0</th>\n      <td>2015-01-01 00:00:00+01:00</td>\n      <td>447.0</td>\n      <td>329.0</td>\n      <td>0.0</td>\n      <td>4844.0</td>\n      <td>4821.0</td>\n      <td>162.0</td>\n      <td>0.0</td>\n      <td>0.0</td>\n      <td>0.0</td>\n      <td>...</td>\n      <td>196.0</td>\n      <td>0.0</td>\n      <td>6378.0</td>\n      <td>17.0</td>\n      <td>NaN</td>\n      <td>6436.0</td>\n      <td>26118.0</td>\n      <td>25385.0</td>\n      <td>50.10</td>\n      <td>65.41</td>\n    </tr>\n    <tr>\n      <th>1</th>\n      <td>2015-01-01 01:00:00+01:00</td>\n      <td>449.0</td>\n      <td>328.0</td>\n      <td>0.0</td>\n      <td>5196.0</td>\n      <td>4755.0</td>\n      <td>158.0</td>\n      <td>0.0</td>\n      <td>0.0</td>\n      <td>0.0</td>\n      <td>...</td>\n      <td>195.0</td>\n      <td>0.0</td>\n      <td>5890.0</td>\n      <td>16.0</td>\n      <td>NaN</td>\n      <td>5856.0</td>\n      <td>24934.0</td>\n      <td>24382.0</td>\n      <td>48.10</td>\n      <td>64.92</td>\n    </tr>\n    <tr>\n      <th>2</th>\n      <td>2015-01-01 02:00:00+01:00</td>\n      <td>448.0</td>\n      <td>323.0</td>\n      <td>0.0</td>\n      <td>4857.0</td>\n      <td>4581.0</td>\n      <td>157.0</td>\n      <td>0.0</td>\n      <td>0.0</td>\n      <td>0.0</td>\n      <td>...</td>\n      <td>196.0</td>\n      <td>0.0</td>\n      <td>5461.0</td>\n      <td>8.0</td>\n      <td>NaN</td>\n      <td>5454.0</td>\n      <td>23515.0</td>\n      <td>22734.0</td>\n      <td>47.33</td>\n      <td>64.48</td>\n    </tr>\n    <tr>\n      <th>3</th>\n      <td>2015-01-01 03:00:00+01:00</td>\n      <td>438.0</td>\n      <td>254.0</td>\n      <td>0.0</td>\n      <td>4314.0</td>\n      <td>4131.0</td>\n      <td>160.0</td>\n      <td>0.0</td>\n      <td>0.0</td>\n      <td>0.0</td>\n      <td>...</td>\n      <td>191.0</td>\n      <td>0.0</td>\n      <td>5238.0</td>\n      <td>2.0</td>\n      <td>NaN</td>\n      <td>5151.0</td>\n      <td>22642.0</td>\n      <td>21286.0</td>\n      <td>42.27</td>\n      <td>59.32</td>\n    </tr>\n    <tr>\n      <th>4</th>\n      <td>2015-01-01 04:00:00+01:00</td>\n      <td>428.0</td>\n      <td>187.0</td>\n      <td>0.0</td>\n      <td>4130.0</td>\n      <td>3840.0</td>\n      <td>156.0</td>\n      <td>0.0</td>\n      <td>0.0</td>\n      <td>0.0</td>\n      <td>...</td>\n      <td>189.0</td>\n      <td>0.0</td>\n      <td>4935.0</td>\n      <td>9.0</td>\n      <td>NaN</td>\n      <td>4861.0</td>\n      <td>21785.0</td>\n      <td>20264.0</td>\n      <td>38.41</td>\n      <td>56.04</td>\n    </tr>\n  </tbody>\n</table>\n<p>5 rows × 29 columns</p>\n</div>"
     },
     "metadata": {}
    }
   ]
  },
  {
   "cell_type": "markdown",
   "source": "Using the `info` function to check if there are any missing values in this dataset and the data type for each column.",
   "metadata": {
    "tags": [],
    "cell_id": "00005-830a51db-97bb-4a65-82a6-1b689cee595d",
    "deepnote_cell_type": "markdown"
   }
  },
  {
   "cell_type": "code",
   "metadata": {
    "tags": [],
    "deepnote_to_be_reexecuted": false,
    "source_hash": "fb7f792f",
    "execution_millis": 21,
    "execution_start": 1621522007119,
    "cell_id": "00006-b23bd192-2ee0-487e-ac43-a52a6358f1e7",
    "deepnote_cell_type": "code"
   },
   "source": "energy.info()",
   "execution_count": 3,
   "outputs": [
    {
     "name": "stdout",
     "text": "<class 'pandas.core.frame.DataFrame'>\nRangeIndex: 35064 entries, 0 to 35063\nData columns (total 29 columns):\n #   Column                                       Non-Null Count  Dtype  \n---  ------                                       --------------  -----  \n 0   time                                         35064 non-null  object \n 1   generation biomass                           35045 non-null  float64\n 2   generation fossil brown coal/lignite         35046 non-null  float64\n 3   generation fossil coal-derived gas           35046 non-null  float64\n 4   generation fossil gas                        35046 non-null  float64\n 5   generation fossil hard coal                  35046 non-null  float64\n 6   generation fossil oil                        35045 non-null  float64\n 7   generation fossil oil shale                  35046 non-null  float64\n 8   generation fossil peat                       35046 non-null  float64\n 9   generation geothermal                        35046 non-null  float64\n 10  generation hydro pumped storage aggregated   0 non-null      float64\n 11  generation hydro pumped storage consumption  35045 non-null  float64\n 12  generation hydro run-of-river and poundage   35045 non-null  float64\n 13  generation hydro water reservoir             35046 non-null  float64\n 14  generation marine                            35045 non-null  float64\n 15  generation nuclear                           35047 non-null  float64\n 16  generation other                             35046 non-null  float64\n 17  generation other renewable                   35046 non-null  float64\n 18  generation solar                             35046 non-null  float64\n 19  generation waste                             35045 non-null  float64\n 20  generation wind offshore                     35046 non-null  float64\n 21  generation wind onshore                      35046 non-null  float64\n 22  forecast solar day ahead                     35064 non-null  float64\n 23  forecast wind offshore eday ahead            0 non-null      float64\n 24  forecast wind onshore day ahead              35064 non-null  float64\n 25  total load forecast                          35064 non-null  float64\n 26  total load actual                            35028 non-null  float64\n 27  price day ahead                              35064 non-null  float64\n 28  price actual                                 35064 non-null  float64\ndtypes: float64(28), object(1)\nmemory usage: 7.8+ MB\n",
     "output_type": "stream"
    }
   ]
  },
  {
   "cell_type": "markdown",
   "source": "Some takeaways from the output above:\n* There are two columns (`generation hydro pumped storage aggregated', 'forecast wind offshore day ahead'`) that don't have any values in them. We will drop these two columns. We will also drop the columns that are not useful to our analysis (`total load forecast`, `forecast solar day ahead`, `forecast wind onshore day ahead`, `price day ahead`).\n* There might be some missing values for some of the columns. We will try to check the missing rate and decide how to deal with them.\n* We will rename the column names because the names of the columns are long and not necessary.",
   "metadata": {
    "tags": [],
    "cell_id": "00007-38652306-9a9b-49c6-a018-858f44d367b4",
    "deepnote_cell_type": "markdown"
   }
  },
  {
   "cell_type": "markdown",
   "source": "Drop columns that are uninformative for the analysis",
   "metadata": {
    "tags": [],
    "cell_id": "00008-c7a6c9fb-f404-4916-8649-77c485a07f2e",
    "deepnote_cell_type": "markdown"
   }
  },
  {
   "cell_type": "code",
   "metadata": {
    "tags": [],
    "deepnote_to_be_reexecuted": false,
    "source_hash": "93cc10c7",
    "execution_millis": 6,
    "execution_start": 1621522007136,
    "cell_id": "00009-d3feed97-4be3-43c8-9f7d-ac2ddd2e623e",
    "deepnote_cell_type": "code"
   },
   "source": "dropList = ['generation hydro pumped storage aggregated', 'forecast wind offshore eday ahead',\n'total load forecast','forecast solar day ahead','forecast wind onshore day ahead',\n'price day ahead']\nenergy.drop(dropList, axis=1, inplace=True)",
   "execution_count": 4,
   "outputs": []
  },
  {
   "cell_type": "markdown",
   "source": "Find the missing rate for each column",
   "metadata": {
    "tags": [],
    "cell_id": "00010-769646f3-6cd2-4555-aefe-d960134cd52e",
    "deepnote_cell_type": "markdown"
   }
  },
  {
   "cell_type": "code",
   "metadata": {
    "tags": [],
    "deepnote_to_be_reexecuted": false,
    "source_hash": "1b75e19",
    "execution_millis": 37,
    "execution_start": 1621522007145,
    "cell_id": "00011-59a6c201-4c50-45eb-82db-b95dc87a3684",
    "deepnote_cell_type": "code"
   },
   "source": "energy.isnull().mean()",
   "execution_count": 5,
   "outputs": [
    {
     "output_type": "execute_result",
     "execution_count": 5,
     "data": {
      "text/plain": "time                                           0.000000\ngeneration biomass                             0.000542\ngeneration fossil brown coal/lignite           0.000513\ngeneration fossil coal-derived gas             0.000513\ngeneration fossil gas                          0.000513\ngeneration fossil hard coal                    0.000513\ngeneration fossil oil                          0.000542\ngeneration fossil oil shale                    0.000513\ngeneration fossil peat                         0.000513\ngeneration geothermal                          0.000513\ngeneration hydro pumped storage consumption    0.000542\ngeneration hydro run-of-river and poundage     0.000542\ngeneration hydro water reservoir               0.000513\ngeneration marine                              0.000542\ngeneration nuclear                             0.000485\ngeneration other                               0.000513\ngeneration other renewable                     0.000513\ngeneration solar                               0.000513\ngeneration waste                               0.000542\ngeneration wind offshore                       0.000513\ngeneration wind onshore                        0.000513\ntotal load actual                              0.001027\nprice actual                                   0.000000\ndtype: float64"
     },
     "metadata": {}
    }
   ]
  },
  {
   "cell_type": "markdown",
   "source": "All of the columns that have missing data have a missing rate of less than 1%. We will conduct a missingness analysis to see if those missing values are coming from a specific period of time. ",
   "metadata": {
    "tags": [],
    "cell_id": "00012-d923783b-c17d-4bfa-bf60-90e3347cb942",
    "deepnote_cell_type": "markdown"
   }
  },
  {
   "cell_type": "markdown",
   "source": "#### Rename columns\nWe drop the unnecessary text in the column names and rename `total load actual` to `energy demand`.",
   "metadata": {
    "tags": [],
    "cell_id": "00013-46d9524d-5bed-414f-b51a-da18c17f7d28",
    "deepnote_cell_type": "markdown"
   }
  },
  {
   "cell_type": "code",
   "metadata": {
    "tags": [],
    "deepnote_to_be_reexecuted": false,
    "source_hash": "92eec22c",
    "execution_millis": 4,
    "execution_start": 1621522007180,
    "cell_id": "00014-dad723aa-eac0-4149-b531-beb130b07a93",
    "deepnote_cell_type": "code"
   },
   "source": "energy.rename(columns=lambda x: x[11:] if 'generation' in x else x, inplace=True)\nenergy.rename(columns={'total load actual':'energy demand'}, inplace=True)",
   "execution_count": 6,
   "outputs": []
  },
  {
   "cell_type": "markdown",
   "source": "#### Create different time granularity\nTo explore the dataset further, we create a `Year-Month` column for later aggregation purposes.",
   "metadata": {
    "tags": [],
    "cell_id": "00015-d2b9da62-a720-4df0-b5d3-327fbb5a068f",
    "deepnote_cell_type": "markdown"
   }
  },
  {
   "cell_type": "code",
   "metadata": {
    "tags": [],
    "deepnote_to_be_reexecuted": false,
    "source_hash": "28593711",
    "execution_millis": 569,
    "execution_start": 1621522007229,
    "cell_id": "00016-8f26a2ae-8b16-4b1c-b6a6-661a012c9a1e",
    "deepnote_cell_type": "code"
   },
   "source": "energy['time'] = pd.to_datetime(energy['time'], utc=True)\nenergy['Year-Month'] = pd.to_datetime(energy['time'].dt.strftime('%Y-%m-01')).dt.date",
   "execution_count": 7,
   "outputs": []
  },
  {
   "cell_type": "markdown",
   "source": "### Missingness analysis\nEven though the missing rate is less than 1% of the time, we still want to see if they all come from a specific period.",
   "metadata": {
    "tags": [],
    "cell_id": "00022-ee3ba655-a943-48b5-911a-4b06e84a8f85",
    "deepnote_cell_type": "markdown"
   }
  },
  {
   "cell_type": "code",
   "metadata": {
    "tags": [],
    "deepnote_to_be_reexecuted": false,
    "source_hash": "f59db279",
    "execution_millis": 238,
    "execution_start": 1621522007809,
    "cell_id": "00023-080a4c02-27a9-48d5-968e-e68e53adbced",
    "deepnote_cell_type": "code"
   },
   "source": "energy[energy.isna().any(axis=1)]",
   "execution_count": 8,
   "outputs": [
    {
     "output_type": "execute_result",
     "execution_count": 8,
     "data": {
      "application/vnd.deepnote.dataframe.v2+json": {
       "row_count": 47,
       "column_count": 24,
       "columns": [
        {
         "name": "time",
         "dtype": "datetime64[ns, UTC]",
         "stats": {
          "unique_count": 47,
          "nan_count": 0,
          "min": "2015-01-05 02:00:00+00:00",
          "max": "2018-07-11 07:00:00+00:00",
          "histogram": [
           {
            "bin_start": 1420423200000000000,
            "bin_end": 1431510120000000000,
            "count": 27
           },
           {
            "bin_start": 1431510120000000000,
            "bin_end": 1442597040000000000,
            "count": 2
           },
           {
            "bin_start": 1442597040000000000,
            "bin_end": 1453683960000000000,
            "count": 3
           },
           {
            "bin_start": 1453683960000000000,
            "bin_end": 1464770880000000000,
            "count": 4
           },
           {
            "bin_start": 1464770880000000000,
            "bin_end": 1475857800000000000,
            "count": 4
           },
           {
            "bin_start": 1475857800000000000,
            "bin_end": 1486944720000000000,
            "count": 3
           },
           {
            "bin_start": 1486944720000000000,
            "bin_end": 1498031640000000000,
            "count": 0
           },
           {
            "bin_start": 1498031640000000000,
            "bin_end": 1509118560000000000,
            "count": 0
           },
           {
            "bin_start": 1509118560000000000,
            "bin_end": 1520205480000000000,
            "count": 2
           },
           {
            "bin_start": 1520205480000000000,
            "bin_end": 1531292400000000000,
            "count": 2
           }
          ]
         }
        },
        {
         "name": "biomass",
         "dtype": "float64",
         "stats": {
          "unique_count": 27,
          "nan_count": 19,
          "min": "0.0",
          "max": "569.0",
          "histogram": [
           {
            "bin_start": 0,
            "bin_end": 56.9,
            "count": 2
           },
           {
            "bin_start": 56.9,
            "bin_end": 113.8,
            "count": 0
           },
           {
            "bin_start": 113.8,
            "bin_end": 170.7,
            "count": 0
           },
           {
            "bin_start": 170.7,
            "bin_end": 227.6,
            "count": 3
           },
           {
            "bin_start": 227.6,
            "bin_end": 284.5,
            "count": 0
           },
           {
            "bin_start": 284.5,
            "bin_end": 341.4,
            "count": 1
           },
           {
            "bin_start": 341.4,
            "bin_end": 398.3,
            "count": 8
           },
           {
            "bin_start": 398.3,
            "bin_end": 455.2,
            "count": 8
           },
           {
            "bin_start": 455.2,
            "bin_end": 512.1,
            "count": 5
           },
           {
            "bin_start": 512.1,
            "bin_end": 569,
            "count": 1
           }
          ]
         }
        },
        {
         "name": "fossil brown coal/lignite",
         "dtype": "float64",
         "stats": {
          "unique_count": 17,
          "nan_count": 18,
          "min": "0.0",
          "max": "961.0",
          "histogram": [
           {
            "bin_start": 0,
            "bin_end": 96.1,
            "count": 7
           },
           {
            "bin_start": 96.1,
            "bin_end": 192.2,
            "count": 0
           },
           {
            "bin_start": 192.2,
            "bin_end": 288.29999999999995,
            "count": 0
           },
           {
            "bin_start": 288.29999999999995,
            "bin_end": 384.4,
            "count": 11
           },
           {
            "bin_start": 384.4,
            "bin_end": 480.5,
            "count": 0
           },
           {
            "bin_start": 480.5,
            "bin_end": 576.5999999999999,
            "count": 2
           },
           {
            "bin_start": 576.5999999999999,
            "bin_end": 672.6999999999999,
            "count": 4
           },
           {
            "bin_start": 672.6999999999999,
            "bin_end": 768.8,
            "count": 1
           },
           {
            "bin_start": 768.8,
            "bin_end": 864.9,
            "count": 0
           },
           {
            "bin_start": 864.9,
            "bin_end": 961,
            "count": 4
           }
          ]
         }
        },
        {
         "name": "fossil coal-derived gas",
         "dtype": "float64",
         "stats": {
          "unique_count": 1,
          "nan_count": 18,
          "min": "0.0",
          "max": "0.0",
          "histogram": [
           {
            "bin_start": -0.5,
            "bin_end": -0.4,
            "count": 0
           },
           {
            "bin_start": -0.4,
            "bin_end": -0.3,
            "count": 0
           },
           {
            "bin_start": -0.3,
            "bin_end": -0.19999999999999996,
            "count": 0
           },
           {
            "bin_start": -0.19999999999999996,
            "bin_end": -0.09999999999999998,
            "count": 0
           },
           {
            "bin_start": -0.09999999999999998,
            "bin_end": 0,
            "count": 0
           },
           {
            "bin_start": 0,
            "bin_end": 0.10000000000000009,
            "count": 29
           },
           {
            "bin_start": 0.10000000000000009,
            "bin_end": 0.20000000000000007,
            "count": 0
           },
           {
            "bin_start": 0.20000000000000007,
            "bin_end": 0.30000000000000004,
            "count": 0
           },
           {
            "bin_start": 0.30000000000000004,
            "bin_end": 0.4,
            "count": 0
           },
           {
            "bin_start": 0.4,
            "bin_end": 0.5,
            "count": 0
           }
          ]
         }
        },
        {
         "name": "fossil gas",
         "dtype": "float64",
         "stats": {
          "unique_count": 29,
          "nan_count": 18,
          "min": "2969.0",
          "max": "12336.0",
          "histogram": [
           {
            "bin_start": 2969,
            "bin_end": 3905.7,
            "count": 3
           },
           {
            "bin_start": 3905.7,
            "bin_end": 4842.4,
            "count": 3
           },
           {
            "bin_start": 4842.4,
            "bin_end": 5779.1,
            "count": 12
           },
           {
            "bin_start": 5779.1,
            "bin_end": 6715.8,
            "count": 3
           },
           {
            "bin_start": 6715.8,
            "bin_end": 7652.5,
            "count": 4
           },
           {
            "bin_start": 7652.5,
            "bin_end": 8589.2,
            "count": 2
           },
           {
            "bin_start": 8589.2,
            "bin_end": 9525.900000000001,
            "count": 0
           },
           {
            "bin_start": 9525.900000000001,
            "bin_end": 10462.6,
            "count": 1
           },
           {
            "bin_start": 10462.6,
            "bin_end": 11399.300000000001,
            "count": 0
           },
           {
            "bin_start": 11399.300000000001,
            "bin_end": 12336,
            "count": 1
           }
          ]
         }
        },
        {
         "name": "fossil hard coal",
         "dtype": "float64",
         "stats": {
          "unique_count": 28,
          "nan_count": 18,
          "min": "0.0",
          "max": "8250.0",
          "histogram": [
           {
            "bin_start": 0,
            "bin_end": 825,
            "count": 2
           },
           {
            "bin_start": 825,
            "bin_end": 1650,
            "count": 3
           },
           {
            "bin_start": 1650,
            "bin_end": 2475,
            "count": 0
           },
           {
            "bin_start": 2475,
            "bin_end": 3300,
            "count": 1
           },
           {
            "bin_start": 3300,
            "bin_end": 4125,
            "count": 0
           },
           {
            "bin_start": 4125,
            "bin_end": 4950,
            "count": 2
           },
           {
            "bin_start": 4950,
            "bin_end": 5775,
            "count": 7
           },
           {
            "bin_start": 5775,
            "bin_end": 6600,
            "count": 13
           },
           {
            "bin_start": 6600,
            "bin_end": 7425,
            "count": 0
           },
           {
            "bin_start": 7425,
            "bin_end": 8250,
            "count": 1
           }
          ]
         }
        },
        {
         "name": "fossil oil",
         "dtype": "float64",
         "stats": {
          "unique_count": 25,
          "nan_count": 19,
          "min": "0.0",
          "max": "385.0",
          "histogram": [
           {
            "bin_start": 0,
            "bin_end": 38.5,
            "count": 2
           },
           {
            "bin_start": 38.5,
            "bin_end": 77,
            "count": 0
           },
           {
            "bin_start": 77,
            "bin_end": 115.5,
            "count": 0
           },
           {
            "bin_start": 115.5,
            "bin_end": 154,
            "count": 1
           },
           {
            "bin_start": 154,
            "bin_end": 192.5,
            "count": 1
           },
           {
            "bin_start": 192.5,
            "bin_end": 231,
            "count": 1
           },
           {
            "bin_start": 231,
            "bin_end": 269.5,
            "count": 3
           },
           {
            "bin_start": 269.5,
            "bin_end": 308,
            "count": 7
           },
           {
            "bin_start": 308,
            "bin_end": 346.5,
            "count": 9
           },
           {
            "bin_start": 346.5,
            "bin_end": 385,
            "count": 4
           }
          ]
         }
        },
        {
         "name": "fossil oil shale",
         "dtype": "float64",
         "stats": {
          "unique_count": 1,
          "nan_count": 18,
          "min": "0.0",
          "max": "0.0",
          "histogram": [
           {
            "bin_start": -0.5,
            "bin_end": -0.4,
            "count": 0
           },
           {
            "bin_start": -0.4,
            "bin_end": -0.3,
            "count": 0
           },
           {
            "bin_start": -0.3,
            "bin_end": -0.19999999999999996,
            "count": 0
           },
           {
            "bin_start": -0.19999999999999996,
            "bin_end": -0.09999999999999998,
            "count": 0
           },
           {
            "bin_start": -0.09999999999999998,
            "bin_end": 0,
            "count": 0
           },
           {
            "bin_start": 0,
            "bin_end": 0.10000000000000009,
            "count": 29
           },
           {
            "bin_start": 0.10000000000000009,
            "bin_end": 0.20000000000000007,
            "count": 0
           },
           {
            "bin_start": 0.20000000000000007,
            "bin_end": 0.30000000000000004,
            "count": 0
           },
           {
            "bin_start": 0.30000000000000004,
            "bin_end": 0.4,
            "count": 0
           },
           {
            "bin_start": 0.4,
            "bin_end": 0.5,
            "count": 0
           }
          ]
         }
        },
        {
         "name": "fossil peat",
         "dtype": "float64",
         "stats": {
          "unique_count": 1,
          "nan_count": 18,
          "min": "0.0",
          "max": "0.0",
          "histogram": [
           {
            "bin_start": -0.5,
            "bin_end": -0.4,
            "count": 0
           },
           {
            "bin_start": -0.4,
            "bin_end": -0.3,
            "count": 0
           },
           {
            "bin_start": -0.3,
            "bin_end": -0.19999999999999996,
            "count": 0
           },
           {
            "bin_start": -0.19999999999999996,
            "bin_end": -0.09999999999999998,
            "count": 0
           },
           {
            "bin_start": -0.09999999999999998,
            "bin_end": 0,
            "count": 0
           },
           {
            "bin_start": 0,
            "bin_end": 0.10000000000000009,
            "count": 29
           },
           {
            "bin_start": 0.10000000000000009,
            "bin_end": 0.20000000000000007,
            "count": 0
           },
           {
            "bin_start": 0.20000000000000007,
            "bin_end": 0.30000000000000004,
            "count": 0
           },
           {
            "bin_start": 0.30000000000000004,
            "bin_end": 0.4,
            "count": 0
           },
           {
            "bin_start": 0.4,
            "bin_end": 0.5,
            "count": 0
           }
          ]
         }
        },
        {
         "name": "geothermal",
         "dtype": "float64",
         "stats": {
          "unique_count": 1,
          "nan_count": 18,
          "min": "0.0",
          "max": "0.0",
          "histogram": [
           {
            "bin_start": -0.5,
            "bin_end": -0.4,
            "count": 0
           },
           {
            "bin_start": -0.4,
            "bin_end": -0.3,
            "count": 0
           },
           {
            "bin_start": -0.3,
            "bin_end": -0.19999999999999996,
            "count": 0
           },
           {
            "bin_start": -0.19999999999999996,
            "bin_end": -0.09999999999999998,
            "count": 0
           },
           {
            "bin_start": -0.09999999999999998,
            "bin_end": 0,
            "count": 0
           },
           {
            "bin_start": 0,
            "bin_end": 0.10000000000000009,
            "count": 29
           },
           {
            "bin_start": 0.10000000000000009,
            "bin_end": 0.20000000000000007,
            "count": 0
           },
           {
            "bin_start": 0.20000000000000007,
            "bin_end": 0.30000000000000004,
            "count": 0
           },
           {
            "bin_start": 0.30000000000000004,
            "bin_end": 0.4,
            "count": 0
           },
           {
            "bin_start": 0.4,
            "bin_end": 0.5,
            "count": 0
           }
          ]
         }
        },
        {
         "name": "hydro pumped storage consumption",
         "dtype": "float64",
         "stats": {
          "unique_count": 12,
          "nan_count": 19,
          "min": "0.0",
          "max": "2270.0",
          "histogram": [
           {
            "bin_start": 0,
            "bin_end": 227,
            "count": 20
           },
           {
            "bin_start": 227,
            "bin_end": 454,
            "count": 1
           },
           {
            "bin_start": 454,
            "bin_end": 681,
            "count": 2
           },
           {
            "bin_start": 681,
            "bin_end": 908,
            "count": 2
           },
           {
            "bin_start": 908,
            "bin_end": 1135,
            "count": 0
           },
           {
            "bin_start": 1135,
            "bin_end": 1362,
            "count": 1
           },
           {
            "bin_start": 1362,
            "bin_end": 1589,
            "count": 1
           },
           {
            "bin_start": 1589,
            "bin_end": 1816,
            "count": 0
           },
           {
            "bin_start": 1816,
            "bin_end": 2043,
            "count": 0
           },
           {
            "bin_start": 2043,
            "bin_end": 2270,
            "count": 1
           }
          ]
         }
        },
        {
         "name": "hydro run-of-river and poundage",
         "dtype": "float64",
         "stats": {
          "unique_count": 27,
          "nan_count": 19,
          "min": "0.0",
          "max": "1648.0",
          "histogram": [
           {
            "bin_start": 0,
            "bin_end": 164.8,
            "count": 2
           },
           {
            "bin_start": 164.8,
            "bin_end": 329.6,
            "count": 0
           },
           {
            "bin_start": 329.6,
            "bin_end": 494.40000000000003,
            "count": 2
           },
           {
            "bin_start": 494.40000000000003,
            "bin_end": 659.2,
            "count": 2
           },
           {
            "bin_start": 659.2,
            "bin_end": 824,
            "count": 3
           },
           {
            "bin_start": 824,
            "bin_end": 988.8000000000001,
            "count": 1
           },
           {
            "bin_start": 988.8000000000001,
            "bin_end": 1153.6000000000001,
            "count": 5
           },
           {
            "bin_start": 1153.6000000000001,
            "bin_end": 1318.4,
            "count": 8
           },
           {
            "bin_start": 1318.4,
            "bin_end": 1483.2,
            "count": 2
           },
           {
            "bin_start": 1483.2,
            "bin_end": 1648,
            "count": 3
           }
          ]
         }
        },
        {
         "name": "hydro water reservoir",
         "dtype": "float64",
         "stats": {
          "unique_count": 28,
          "nan_count": 18,
          "min": "0.0",
          "max": "6895.0",
          "histogram": [
           {
            "bin_start": 0,
            "bin_end": 689.5,
            "count": 3
           },
           {
            "bin_start": 689.5,
            "bin_end": 1379,
            "count": 6
           },
           {
            "bin_start": 1379,
            "bin_end": 2068.5,
            "count": 1
           },
           {
            "bin_start": 2068.5,
            "bin_end": 2758,
            "count": 2
           },
           {
            "bin_start": 2758,
            "bin_end": 3447.5,
            "count": 3
           },
           {
            "bin_start": 3447.5,
            "bin_end": 4137,
            "count": 1
           },
           {
            "bin_start": 4137,
            "bin_end": 4826.5,
            "count": 7
           },
           {
            "bin_start": 4826.5,
            "bin_end": 5516,
            "count": 3
           },
           {
            "bin_start": 5516,
            "bin_end": 6205.5,
            "count": 1
           },
           {
            "bin_start": 6205.5,
            "bin_end": 6895,
            "count": 2
           }
          ]
         }
        },
        {
         "name": "marine",
         "dtype": "float64",
         "stats": {
          "unique_count": 1,
          "nan_count": 19,
          "min": "0.0",
          "max": "0.0",
          "histogram": [
           {
            "bin_start": -0.5,
            "bin_end": -0.4,
            "count": 0
           },
           {
            "bin_start": -0.4,
            "bin_end": -0.3,
            "count": 0
           },
           {
            "bin_start": -0.3,
            "bin_end": -0.19999999999999996,
            "count": 0
           },
           {
            "bin_start": -0.19999999999999996,
            "bin_end": -0.09999999999999998,
            "count": 0
           },
           {
            "bin_start": -0.09999999999999998,
            "bin_end": 0,
            "count": 0
           },
           {
            "bin_start": 0,
            "bin_end": 0.10000000000000009,
            "count": 28
           },
           {
            "bin_start": 0.10000000000000009,
            "bin_end": 0.20000000000000007,
            "count": 0
           },
           {
            "bin_start": 0.20000000000000007,
            "bin_end": 0.30000000000000004,
            "count": 0
           },
           {
            "bin_start": 0.30000000000000004,
            "bin_end": 0.4,
            "count": 0
           },
           {
            "bin_start": 0.4,
            "bin_end": 0.5,
            "count": 0
           }
          ]
         }
        },
        {
         "name": "nuclear",
         "dtype": "float64",
         "stats": {
          "unique_count": 22,
          "nan_count": 17,
          "min": "0.0",
          "max": "7101.0",
          "histogram": [
           {
            "bin_start": 0,
            "bin_end": 710.1,
            "count": 2
           },
           {
            "bin_start": 710.1,
            "bin_end": 1420.2,
            "count": 0
           },
           {
            "bin_start": 1420.2,
            "bin_end": 2130.3,
            "count": 0
           },
           {
            "bin_start": 2130.3,
            "bin_end": 2840.4,
            "count": 0
           },
           {
            "bin_start": 2840.4,
            "bin_end": 3550.5,
            "count": 0
           },
           {
            "bin_start": 3550.5,
            "bin_end": 4260.6,
            "count": 1
           },
           {
            "bin_start": 4260.6,
            "bin_end": 4970.7,
            "count": 0
           },
           {
            "bin_start": 4970.7,
            "bin_end": 5680.8,
            "count": 5
           },
           {
            "bin_start": 5680.8,
            "bin_end": 6390.900000000001,
            "count": 2
           },
           {
            "bin_start": 6390.900000000001,
            "bin_end": 7101,
            "count": 20
           }
          ]
         }
        },
        {
         "name": "other",
         "dtype": "float64",
         "stats": {
          "unique_count": 20,
          "nan_count": 18,
          "min": "0.0",
          "max": "93.0",
          "histogram": [
           {
            "bin_start": 0,
            "bin_end": 9.3,
            "count": 2
           },
           {
            "bin_start": 9.3,
            "bin_end": 18.6,
            "count": 0
           },
           {
            "bin_start": 18.6,
            "bin_end": 27.900000000000002,
            "count": 0
           },
           {
            "bin_start": 27.900000000000002,
            "bin_end": 37.2,
            "count": 0
           },
           {
            "bin_start": 37.2,
            "bin_end": 46.5,
            "count": 12
           },
           {
            "bin_start": 46.5,
            "bin_end": 55.800000000000004,
            "count": 7
           },
           {
            "bin_start": 55.800000000000004,
            "bin_end": 65.10000000000001,
            "count": 4
           },
           {
            "bin_start": 65.10000000000001,
            "bin_end": 74.4,
            "count": 0
           },
           {
            "bin_start": 74.4,
            "bin_end": 83.7,
            "count": 1
           },
           {
            "bin_start": 83.7,
            "bin_end": 93,
            "count": 3
           }
          ]
         }
        },
        {
         "name": "other renewable",
         "dtype": "float64",
         "stats": {
          "unique_count": 18,
          "nan_count": 18,
          "min": "0.0",
          "max": "96.0",
          "histogram": [
           {
            "bin_start": 0,
            "bin_end": 9.6,
            "count": 2
           },
           {
            "bin_start": 9.6,
            "bin_end": 19.2,
            "count": 0
           },
           {
            "bin_start": 19.2,
            "bin_end": 28.799999999999997,
            "count": 0
           },
           {
            "bin_start": 28.799999999999997,
            "bin_end": 38.4,
            "count": 0
           },
           {
            "bin_start": 38.4,
            "bin_end": 48,
            "count": 0
           },
           {
            "bin_start": 48,
            "bin_end": 57.599999999999994,
            "count": 0
           },
           {
            "bin_start": 57.599999999999994,
            "bin_end": 67.2,
            "count": 4
           },
           {
            "bin_start": 67.2,
            "bin_end": 76.8,
            "count": 9
           },
           {
            "bin_start": 76.8,
            "bin_end": 86.39999999999999,
            "count": 10
           },
           {
            "bin_start": 86.39999999999999,
            "bin_end": 96,
            "count": 4
           }
          ]
         }
        },
        {
         "name": "solar",
         "dtype": "float64",
         "stats": {
          "unique_count": 27,
          "nan_count": 18,
          "min": "0.0",
          "max": "3836.0",
          "histogram": [
           {
            "bin_start": 0,
            "bin_end": 383.6,
            "count": 17
           },
           {
            "bin_start": 383.6,
            "bin_end": 767.2,
            "count": 3
           },
           {
            "bin_start": 767.2,
            "bin_end": 1150.8000000000002,
            "count": 2
           },
           {
            "bin_start": 1150.8000000000002,
            "bin_end": 1534.4,
            "count": 1
           },
           {
            "bin_start": 1534.4,
            "bin_end": 1918,
            "count": 0
           },
           {
            "bin_start": 1918,
            "bin_end": 2301.6000000000004,
            "count": 0
           },
           {
            "bin_start": 2301.6000000000004,
            "bin_end": 2685.2000000000003,
            "count": 1
           },
           {
            "bin_start": 2685.2000000000003,
            "bin_end": 3068.8,
            "count": 1
           },
           {
            "bin_start": 3068.8,
            "bin_end": 3452.4,
            "count": 0
           },
           {
            "bin_start": 3452.4,
            "bin_end": 3836,
            "count": 4
           }
          ]
         }
        },
        {
         "name": "waste",
         "dtype": "float64",
         "stats": {
          "unique_count": 21,
          "nan_count": 19,
          "min": "0.0",
          "max": "309.0",
          "histogram": [
           {
            "bin_start": 0,
            "bin_end": 30.9,
            "count": 2
           },
           {
            "bin_start": 30.9,
            "bin_end": 61.8,
            "count": 0
           },
           {
            "bin_start": 61.8,
            "bin_end": 92.69999999999999,
            "count": 0
           },
           {
            "bin_start": 92.69999999999999,
            "bin_end": 123.6,
            "count": 0
           },
           {
            "bin_start": 123.6,
            "bin_end": 154.5,
            "count": 2
           },
           {
            "bin_start": 154.5,
            "bin_end": 185.39999999999998,
            "count": 0
           },
           {
            "bin_start": 185.39999999999998,
            "bin_end": 216.29999999999998,
            "count": 16
           },
           {
            "bin_start": 216.29999999999998,
            "bin_end": 247.2,
            "count": 1
           },
           {
            "bin_start": 247.2,
            "bin_end": 278.09999999999997,
            "count": 1
           },
           {
            "bin_start": 278.09999999999997,
            "bin_end": 309,
            "count": 6
           }
          ]
         }
        },
        {
         "name": "wind offshore",
         "dtype": "float64",
         "stats": {
          "unique_count": 1,
          "nan_count": 18,
          "min": "0.0",
          "max": "0.0",
          "histogram": [
           {
            "bin_start": -0.5,
            "bin_end": -0.4,
            "count": 0
           },
           {
            "bin_start": -0.4,
            "bin_end": -0.3,
            "count": 0
           },
           {
            "bin_start": -0.3,
            "bin_end": -0.19999999999999996,
            "count": 0
           },
           {
            "bin_start": -0.19999999999999996,
            "bin_end": -0.09999999999999998,
            "count": 0
           },
           {
            "bin_start": -0.09999999999999998,
            "bin_end": 0,
            "count": 0
           },
           {
            "bin_start": 0,
            "bin_end": 0.10000000000000009,
            "count": 29
           },
           {
            "bin_start": 0.10000000000000009,
            "bin_end": 0.20000000000000007,
            "count": 0
           },
           {
            "bin_start": 0.20000000000000007,
            "bin_end": 0.30000000000000004,
            "count": 0
           },
           {
            "bin_start": 0.30000000000000004,
            "bin_end": 0.4,
            "count": 0
           },
           {
            "bin_start": 0.4,
            "bin_end": 0.5,
            "count": 0
           }
          ]
         }
        },
        {
         "name": "wind onshore",
         "dtype": "float64",
         "stats": {
          "unique_count": 28,
          "nan_count": 18,
          "min": "0.0",
          "max": "10903.0",
          "histogram": [
           {
            "bin_start": 0,
            "bin_end": 1090.3,
            "count": 3
           },
           {
            "bin_start": 1090.3,
            "bin_end": 2180.6,
            "count": 10
           },
           {
            "bin_start": 2180.6,
            "bin_end": 3270.8999999999996,
            "count": 4
           },
           {
            "bin_start": 3270.8999999999996,
            "bin_end": 4361.2,
            "count": 2
           },
           {
            "bin_start": 4361.2,
            "bin_end": 5451.5,
            "count": 3
           },
           {
            "bin_start": 5451.5,
            "bin_end": 6541.799999999999,
            "count": 4
           },
           {
            "bin_start": 6541.799999999999,
            "bin_end": 7632.099999999999,
            "count": 0
           },
           {
            "bin_start": 7632.099999999999,
            "bin_end": 8722.4,
            "count": 1
           },
           {
            "bin_start": 8722.4,
            "bin_end": 9812.699999999999,
            "count": 1
           },
           {
            "bin_start": 9812.699999999999,
            "bin_end": 10903,
            "count": 1
           }
          ]
         }
        },
        {
         "name": "energy demand",
         "dtype": "float64",
         "stats": {
          "unique_count": 11,
          "nan_count": 36,
          "min": "21182.0",
          "max": "39304.0",
          "histogram": [
           {
            "bin_start": 21182,
            "bin_end": 22994.2,
            "count": 1
           },
           {
            "bin_start": 22994.2,
            "bin_end": 24806.4,
            "count": 3
           },
           {
            "bin_start": 24806.4,
            "bin_end": 26618.6,
            "count": 2
           },
           {
            "bin_start": 26618.6,
            "bin_end": 28430.8,
            "count": 0
           },
           {
            "bin_start": 28430.8,
            "bin_end": 30243,
            "count": 2
           },
           {
            "bin_start": 30243,
            "bin_end": 32055.2,
            "count": 0
           },
           {
            "bin_start": 32055.2,
            "bin_end": 33867.4,
            "count": 0
           },
           {
            "bin_start": 33867.4,
            "bin_end": 35679.6,
            "count": 0
           },
           {
            "bin_start": 35679.6,
            "bin_end": 37491.8,
            "count": 0
           },
           {
            "bin_start": 37491.8,
            "bin_end": 39304,
            "count": 3
           }
          ]
         }
        },
        {
         "name": "price actual",
         "dtype": "float64",
         "stats": {
          "unique_count": 47,
          "nan_count": 0,
          "min": "16.98",
          "max": "88.95",
          "histogram": [
           {
            "bin_start": 16.98,
            "bin_end": 24.177,
            "count": 9
           },
           {
            "bin_start": 24.177,
            "bin_end": 31.374000000000002,
            "count": 3
           },
           {
            "bin_start": 31.374000000000002,
            "bin_end": 38.571,
            "count": 0
           },
           {
            "bin_start": 38.571,
            "bin_end": 45.768,
            "count": 2
           },
           {
            "bin_start": 45.768,
            "bin_end": 52.965,
            "count": 4
           },
           {
            "bin_start": 52.965,
            "bin_end": 60.162000000000006,
            "count": 5
           },
           {
            "bin_start": 60.162000000000006,
            "bin_end": 67.359,
            "count": 4
           },
           {
            "bin_start": 67.359,
            "bin_end": 74.556,
            "count": 11
           },
           {
            "bin_start": 74.556,
            "bin_end": 81.753,
            "count": 5
           },
           {
            "bin_start": 81.753,
            "bin_end": 88.95,
            "count": 4
           }
          ]
         }
        },
        {
         "name": "Year-Month",
         "dtype": "object",
         "stats": {
          "unique_count": 17,
          "nan_count": 0,
          "categories": [
           {
            "name": "2015-01-01",
            "count": 11
           },
           {
            "name": "2015-02-01",
            "count": 11
           },
           {
            "name": "15 others",
            "count": 25
           }
          ]
         }
        },
        {
         "name": "_deepnote_index_column",
         "dtype": "int64"
        }
       ],
       "rows_top": [
        {
         "time": "2015-01-05T02:00:00.000000",
         "biomass": "nan",
         "fossil brown coal/lignite": "nan",
         "fossil coal-derived gas": "nan",
         "fossil gas": "nan",
         "fossil hard coal": "nan",
         "fossil oil": "nan",
         "fossil oil shale": "nan",
         "fossil peat": "nan",
         "geothermal": "nan",
         "hydro pumped storage consumption": "nan",
         "hydro run-of-river and poundage": "nan",
         "hydro water reservoir": "nan",
         "marine": "nan",
         "nuclear": "nan",
         "other": "nan",
         "other renewable": "nan",
         "solar": "nan",
         "waste": "nan",
         "wind offshore": "nan",
         "wind onshore": "nan",
         "energy demand": "21182.0",
         "price actual": 59.68,
         "Year-Month": "2015-01-01",
         "_deepnote_index_column": 99
        },
        {
         "time": "2015-01-05T11:00:00.000000",
         "biomass": "nan",
         "fossil brown coal/lignite": "nan",
         "fossil coal-derived gas": "nan",
         "fossil gas": "nan",
         "fossil hard coal": "nan",
         "fossil oil": "nan",
         "fossil oil shale": "nan",
         "fossil peat": "nan",
         "geothermal": "nan",
         "hydro pumped storage consumption": "nan",
         "hydro run-of-river and poundage": "nan",
         "hydro water reservoir": "nan",
         "marine": "nan",
         "nuclear": "nan",
         "other": "nan",
         "other renewable": "nan",
         "solar": "nan",
         "waste": "nan",
         "wind offshore": "nan",
         "wind onshore": "nan",
         "energy demand": "nan",
         "price actual": 79.14,
         "Year-Month": "2015-01-01",
         "_deepnote_index_column": 108
        },
        {
         "time": "2015-01-05T12:00:00.000000",
         "biomass": "nan",
         "fossil brown coal/lignite": "nan",
         "fossil coal-derived gas": "nan",
         "fossil gas": "nan",
         "fossil hard coal": "nan",
         "fossil oil": "nan",
         "fossil oil shale": "nan",
         "fossil peat": "nan",
         "geothermal": "nan",
         "hydro pumped storage consumption": "nan",
         "hydro run-of-river and poundage": "nan",
         "hydro water reservoir": "nan",
         "marine": "nan",
         "nuclear": "nan",
         "other": "nan",
         "other renewable": "nan",
         "solar": "nan",
         "waste": "nan",
         "wind offshore": "nan",
         "wind onshore": "nan",
         "energy demand": "nan",
         "price actual": 73.95,
         "Year-Month": "2015-01-01",
         "_deepnote_index_column": 109
        },
        {
         "time": "2015-01-05T13:00:00.000000",
         "biomass": "nan",
         "fossil brown coal/lignite": "nan",
         "fossil coal-derived gas": "nan",
         "fossil gas": "nan",
         "fossil hard coal": "nan",
         "fossil oil": "nan",
         "fossil oil shale": "nan",
         "fossil peat": "nan",
         "geothermal": "nan",
         "hydro pumped storage consumption": "nan",
         "hydro run-of-river and poundage": "nan",
         "hydro water reservoir": "nan",
         "marine": "nan",
         "nuclear": "nan",
         "other": "nan",
         "other renewable": "nan",
         "solar": "nan",
         "waste": "nan",
         "wind offshore": "nan",
         "wind onshore": "nan",
         "energy demand": "nan",
         "price actual": 71.93,
         "Year-Month": "2015-01-01",
         "_deepnote_index_column": 110
        },
        {
         "time": "2015-01-05T14:00:00.000000",
         "biomass": "nan",
         "fossil brown coal/lignite": "nan",
         "fossil coal-derived gas": "nan",
         "fossil gas": "nan",
         "fossil hard coal": "nan",
         "fossil oil": "nan",
         "fossil oil shale": "nan",
         "fossil peat": "nan",
         "geothermal": "nan",
         "hydro pumped storage consumption": "nan",
         "hydro run-of-river and poundage": "nan",
         "hydro water reservoir": "nan",
         "marine": "nan",
         "nuclear": "nan",
         "other": "nan",
         "other renewable": "nan",
         "solar": "nan",
         "waste": "nan",
         "wind offshore": "nan",
         "wind onshore": "nan",
         "energy demand": "nan",
         "price actual": 71.5,
         "Year-Month": "2015-01-01",
         "_deepnote_index_column": 111
        },
        {
         "time": "2015-01-05T15:00:00.000000",
         "biomass": "nan",
         "fossil brown coal/lignite": "nan",
         "fossil coal-derived gas": "nan",
         "fossil gas": "nan",
         "fossil hard coal": "nan",
         "fossil oil": "nan",
         "fossil oil shale": "nan",
         "fossil peat": "nan",
         "geothermal": "nan",
         "hydro pumped storage consumption": "nan",
         "hydro run-of-river and poundage": "nan",
         "hydro water reservoir": "nan",
         "marine": "nan",
         "nuclear": "nan",
         "other": "nan",
         "other renewable": "nan",
         "solar": "nan",
         "waste": "nan",
         "wind offshore": "nan",
         "wind onshore": "nan",
         "energy demand": "nan",
         "price actual": 71.85,
         "Year-Month": "2015-01-01",
         "_deepnote_index_column": 112
        },
        {
         "time": "2015-01-05T16:00:00.000000",
         "biomass": "nan",
         "fossil brown coal/lignite": "nan",
         "fossil coal-derived gas": "nan",
         "fossil gas": "nan",
         "fossil hard coal": "nan",
         "fossil oil": "nan",
         "fossil oil shale": "nan",
         "fossil peat": "nan",
         "geothermal": "nan",
         "hydro pumped storage consumption": "nan",
         "hydro run-of-river and poundage": "nan",
         "hydro water reservoir": "nan",
         "marine": "nan",
         "nuclear": "nan",
         "other": "nan",
         "other renewable": "nan",
         "solar": "nan",
         "waste": "nan",
         "wind offshore": "nan",
         "wind onshore": "nan",
         "energy demand": "nan",
         "price actual": 80.53,
         "Year-Month": "2015-01-01",
         "_deepnote_index_column": 113
        },
        {
         "time": "2015-01-19T18:00:00.000000",
         "biomass": "nan",
         "fossil brown coal/lignite": "nan",
         "fossil coal-derived gas": "nan",
         "fossil gas": "nan",
         "fossil hard coal": "nan",
         "fossil oil": "nan",
         "fossil oil shale": "nan",
         "fossil peat": "nan",
         "geothermal": "nan",
         "hydro pumped storage consumption": "nan",
         "hydro run-of-river and poundage": "nan",
         "hydro water reservoir": "nan",
         "marine": "nan",
         "nuclear": "nan",
         "other": "nan",
         "other renewable": "nan",
         "solar": "nan",
         "waste": "nan",
         "wind offshore": "nan",
         "wind onshore": "nan",
         "energy demand": "39304.0",
         "price actual": 88.95,
         "Year-Month": "2015-01-01",
         "_deepnote_index_column": 451
        },
        {
         "time": "2015-01-19T19:00:00.000000",
         "biomass": "nan",
         "fossil brown coal/lignite": "nan",
         "fossil coal-derived gas": "nan",
         "fossil gas": "nan",
         "fossil hard coal": "nan",
         "fossil oil": "nan",
         "fossil oil shale": "nan",
         "fossil peat": "nan",
         "geothermal": "nan",
         "hydro pumped storage consumption": "nan",
         "hydro run-of-river and poundage": "nan",
         "hydro water reservoir": "nan",
         "marine": "nan",
         "nuclear": "nan",
         "other": "nan",
         "other renewable": "nan",
         "solar": "nan",
         "waste": "nan",
         "wind offshore": "nan",
         "wind onshore": "nan",
         "energy demand": "39262.0",
         "price actual": 87.94,
         "Year-Month": "2015-01-01",
         "_deepnote_index_column": 452
        },
        {
         "time": "2015-01-27T18:00:00.000000",
         "biomass": "nan",
         "fossil brown coal/lignite": "nan",
         "fossil coal-derived gas": "nan",
         "fossil gas": "nan",
         "fossil hard coal": "nan",
         "fossil oil": "nan",
         "fossil oil shale": "nan",
         "fossil peat": "nan",
         "geothermal": "nan",
         "hydro pumped storage consumption": "nan",
         "hydro run-of-river and poundage": "nan",
         "hydro water reservoir": "nan",
         "marine": "nan",
         "nuclear": "nan",
         "other": "nan",
         "other renewable": "nan",
         "solar": "nan",
         "waste": "nan",
         "wind offshore": "nan",
         "wind onshore": "nan",
         "energy demand": "38335.0",
         "price actual": 83.97,
         "Year-Month": "2015-01-01",
         "_deepnote_index_column": 643
        },
        {
         "time": "2015-01-28T12:00:00.000000",
         "biomass": "nan",
         "fossil brown coal/lignite": "nan",
         "fossil coal-derived gas": "nan",
         "fossil gas": "nan",
         "fossil hard coal": "nan",
         "fossil oil": "nan",
         "fossil oil shale": "nan",
         "fossil peat": "nan",
         "geothermal": "nan",
         "hydro pumped storage consumption": "nan",
         "hydro run-of-river and poundage": "nan",
         "hydro water reservoir": "nan",
         "marine": "nan",
         "nuclear": "nan",
         "other": "nan",
         "other renewable": "nan",
         "solar": "nan",
         "waste": "nan",
         "wind offshore": "nan",
         "wind onshore": "nan",
         "energy demand": "nan",
         "price actual": 77.62,
         "Year-Month": "2015-01-01",
         "_deepnote_index_column": 661
        },
        {
         "time": "2015-02-01T06:00:00.000000",
         "biomass": "449.0",
         "fossil brown coal/lignite": "312.0",
         "fossil coal-derived gas": "0.0",
         "fossil gas": "4765.0",
         "fossil hard coal": "5269.0",
         "fossil oil": "222.0",
         "fossil oil shale": "0.0",
         "fossil peat": "0.0",
         "geothermal": "0.0",
         "hydro pumped storage consumption": "480.0",
         "hydro run-of-river and poundage": "980.0",
         "hydro water reservoir": "1174.0",
         "marine": "0.0",
         "nuclear": "7101.0",
         "other": "44.0",
         "other renewable": "75.0",
         "solar": "48.0",
         "waste": "208.0",
         "wind offshore": "0.0",
         "wind onshore": "3289.0",
         "energy demand": "nan",
         "price actual": 16.98,
         "Year-Month": "2015-02-01",
         "_deepnote_index_column": 751
        },
        {
         "time": "2015-02-01T07:00:00.000000",
         "biomass": "453.0",
         "fossil brown coal/lignite": "312.0",
         "fossil coal-derived gas": "0.0",
         "fossil gas": "4938.0",
         "fossil hard coal": "5652.0",
         "fossil oil": "288.0",
         "fossil oil shale": "0.0",
         "fossil peat": "0.0",
         "geothermal": "0.0",
         "hydro pumped storage consumption": "0.0",
         "hydro run-of-river and poundage": "1031.0",
         "hydro water reservoir": "3229.0",
         "marine": "0.0",
         "nuclear": "7099.0",
         "other": "44.0",
         "other renewable": "75.0",
         "solar": "73.0",
         "waste": "207.0",
         "wind offshore": "0.0",
         "wind onshore": "3102.0",
         "energy demand": "nan",
         "price actual": 19.56,
         "Year-Month": "2015-02-01",
         "_deepnote_index_column": 752
        },
        {
         "time": "2015-02-01T08:00:00.000000",
         "biomass": "452.0",
         "fossil brown coal/lignite": "302.0",
         "fossil coal-derived gas": "0.0",
         "fossil gas": "4997.0",
         "fossil hard coal": "5770.0",
         "fossil oil": "296.0",
         "fossil oil shale": "0.0",
         "fossil peat": "0.0",
         "geothermal": "0.0",
         "hydro pumped storage consumption": "0.0",
         "hydro run-of-river and poundage": "1083.0",
         "hydro water reservoir": "4574.0",
         "marine": "0.0",
         "nuclear": "7097.0",
         "other": "43.0",
         "other renewable": "71.0",
         "solar": "809.0",
         "waste": "204.0",
         "wind offshore": "0.0",
         "wind onshore": "2838.0",
         "energy demand": "nan",
         "price actual": 23.13,
         "Year-Month": "2015-02-01",
         "_deepnote_index_column": 753
        },
        {
         "time": "2015-02-01T11:00:00.000000",
         "biomass": "405.0",
         "fossil brown coal/lignite": "317.0",
         "fossil coal-derived gas": "0.0",
         "fossil gas": "5247.0",
         "fossil hard coal": "6008.0",
         "fossil oil": "333.0",
         "fossil oil shale": "0.0",
         "fossil peat": "0.0",
         "geothermal": "0.0",
         "hydro pumped storage consumption": "0.0",
         "hydro run-of-river and poundage": "1119.0",
         "hydro water reservoir": "4416.0",
         "marine": "0.0",
         "nuclear": "7095.0",
         "other": "42.0",
         "other renewable": "72.0",
         "solar": "3817.0",
         "waste": "200.0",
         "wind offshore": "0.0",
         "wind onshore": "1413.0",
         "energy demand": "nan",
         "price actual": 22.51,
         "Year-Month": "2015-02-01",
         "_deepnote_index_column": 756
        },
        {
         "time": "2015-02-01T12:00:00.000000",
         "biomass": "402.0",
         "fossil brown coal/lignite": "317.0",
         "fossil coal-derived gas": "0.0",
         "fossil gas": "5449.0",
         "fossil hard coal": "6005.0",
         "fossil oil": "318.0",
         "fossil oil shale": "0.0",
         "fossil peat": "0.0",
         "geothermal": "0.0",
         "hydro pumped storage consumption": "0.0",
         "hydro run-of-river and poundage": "1171.0",
         "hydro water reservoir": "4475.0",
         "marine": "0.0",
         "nuclear": "7096.0",
         "other": "41.0",
         "other renewable": "73.0",
         "solar": "3836.0",
         "waste": "193.0",
         "wind offshore": "0.0",
         "wind onshore": "1347.0",
         "energy demand": "nan",
         "price actual": 23.44,
         "Year-Month": "2015-02-01",
         "_deepnote_index_column": 757
        },
        {
         "time": "2015-02-01T13:00:00.000000",
         "biomass": "400.0",
         "fossil brown coal/lignite": "317.0",
         "fossil coal-derived gas": "0.0",
         "fossil gas": "5266.0",
         "fossil hard coal": "5995.0",
         "fossil oil": "327.0",
         "fossil oil shale": "0.0",
         "fossil peat": "0.0",
         "geothermal": "0.0",
         "hydro pumped storage consumption": "0.0",
         "hydro run-of-river and poundage": "1216.0",
         "hydro water reservoir": "4412.0",
         "marine": "0.0",
         "nuclear": "7098.0",
         "other": "42.0",
         "other renewable": "79.0",
         "solar": "3701.0",
         "waste": "199.0",
         "wind offshore": "0.0",
         "wind onshore": "1345.0",
         "energy demand": "nan",
         "price actual": 24.1,
         "Year-Month": "2015-02-01",
         "_deepnote_index_column": 758
        },
        {
         "time": "2015-02-01T14:00:00.000000",
         "biomass": "393.0",
         "fossil brown coal/lignite": "321.0",
         "fossil coal-derived gas": "0.0",
         "fossil gas": "5209.0",
         "fossil hard coal": "5939.0",
         "fossil oil": "345.0",
         "fossil oil shale": "0.0",
         "fossil peat": "0.0",
         "geothermal": "0.0",
         "hydro pumped storage consumption": "0.0",
         "hydro run-of-river and poundage": "1204.0",
         "hydro water reservoir": "3403.0",
         "marine": "0.0",
         "nuclear": "7097.0",
         "other": "41.0",
         "other renewable": "79.0",
         "solar": "3475.0",
         "waste": "204.0",
         "wind offshore": "0.0",
         "wind onshore": "1487.0",
         "energy demand": "nan",
         "price actual": 21.12,
         "Year-Month": "2015-02-01",
         "_deepnote_index_column": 759
        },
        {
         "time": "2015-02-01T15:00:00.000000",
         "biomass": "413.0",
         "fossil brown coal/lignite": "325.0",
         "fossil coal-derived gas": "0.0",
         "fossil gas": "5642.0",
         "fossil hard coal": "6000.0",
         "fossil oil": "345.0",
         "fossil oil shale": "0.0",
         "fossil peat": "0.0",
         "geothermal": "0.0",
         "hydro pumped storage consumption": "0.0",
         "hydro run-of-river and poundage": "1193.0",
         "hydro water reservoir": "3333.0",
         "marine": "0.0",
         "nuclear": "7097.0",
         "other": "40.0",
         "other renewable": "77.0",
         "solar": "2742.0",
         "waste": "203.0",
         "wind offshore": "0.0",
         "wind onshore": "1648.0",
         "energy demand": "nan",
         "price actual": 21.73,
         "Year-Month": "2015-02-01",
         "_deepnote_index_column": 760
        },
        {
         "time": "2015-02-01T16:00:00.000000",
         "biomass": "465.0",
         "fossil brown coal/lignite": "321.0",
         "fossil coal-derived gas": "0.0",
         "fossil gas": "6127.0",
         "fossil hard coal": "5912.0",
         "fossil oil": "346.0",
         "fossil oil shale": "0.0",
         "fossil peat": "0.0",
         "geothermal": "0.0",
         "hydro pumped storage consumption": "0.0",
         "hydro run-of-river and poundage": "1214.0",
         "hydro water reservoir": "4684.0",
         "marine": "0.0",
         "nuclear": "7096.0",
         "other": "41.0",
         "other renewable": "77.0",
         "solar": "1281.0",
         "waste": "207.0",
         "wind offshore": "0.0",
         "wind onshore": "1857.0",
         "energy demand": "nan",
         "price actual": 25.93,
         "Year-Month": "2015-02-01",
         "_deepnote_index_column": 761
        }
       ],
       "rows_bottom": [
        {
         "time": "2015-05-02T08:00:00.000000",
         "biomass": "497.0",
         "fossil brown coal/lignite": "0.0",
         "fossil coal-derived gas": "0.0",
         "fossil gas": "5502.0",
         "fossil hard coal": "5677.0",
         "fossil oil": "375.0",
         "fossil oil shale": "0.0",
         "fossil peat": "0.0",
         "geothermal": "0.0",
         "hydro pumped storage consumption": "0.0",
         "hydro run-of-river and poundage": "1425.0",
         "hydro water reservoir": "5289.0",
         "marine": "0.0",
         "nuclear": "6353.0",
         "other": "93.0",
         "other renewable": "72.0",
         "solar": "2535.0",
         "waste": "205.0",
         "wind offshore": "0.0",
         "wind onshore": "10903.0",
         "energy demand": "nan",
         "price actual": 59.09,
         "Year-Month": "2015-05-01",
         "_deepnote_index_column": 2913
        },
        {
         "time": "2015-05-29T01:00:00.000000",
         "biomass": "569.0",
         "fossil brown coal/lignite": "756.0",
         "fossil coal-derived gas": "0.0",
         "fossil gas": "4239.0",
         "fossil hard coal": "4635.0",
         "fossil oil": "365.0",
         "fossil oil shale": "0.0",
         "fossil peat": "0.0",
         "geothermal": "0.0",
         "hydro pumped storage consumption": "755.0",
         "hydro run-of-river and poundage": "667.0",
         "hydro water reservoir": "1277.0",
         "marine": "0.0",
         "nuclear": "5035.0",
         "other": "85.0",
         "other renewable": "69.0",
         "solar": "662.0",
         "waste": "201.0",
         "wind offshore": "0.0",
         "wind onshore": "6503.0",
         "energy demand": "nan",
         "price actual": 55.07,
         "Year-Month": "2015-05-01",
         "_deepnote_index_column": 3554
        },
        {
         "time": "2015-06-15T07:00:00.000000",
         "biomass": "nan",
         "fossil brown coal/lignite": "nan",
         "fossil coal-derived gas": "nan",
         "fossil gas": "nan",
         "fossil hard coal": "nan",
         "fossil oil": "nan",
         "fossil oil shale": "nan",
         "fossil peat": "nan",
         "geothermal": "nan",
         "hydro pumped storage consumption": "nan",
         "hydro run-of-river and poundage": "nan",
         "hydro water reservoir": "nan",
         "marine": "nan",
         "nuclear": "nan",
         "other": "nan",
         "other renewable": "nan",
         "solar": "nan",
         "waste": "nan",
         "wind offshore": "nan",
         "wind onshore": "nan",
         "energy demand": "30047.0",
         "price actual": 73.82,
         "Year-Month": "2015-06-01",
         "_deepnote_index_column": 3968
        },
        {
         "time": "2015-10-02T06:00:00.000000",
         "biomass": "483.0",
         "fossil brown coal/lignite": "961.0",
         "fossil coal-derived gas": "0.0",
         "fossil gas": "6545.0",
         "fossil hard coal": "8250.0",
         "fossil oil": "385.0",
         "fossil oil shale": "0.0",
         "fossil peat": "0.0",
         "geothermal": "0.0",
         "hydro pumped storage consumption": "0.0",
         "hydro run-of-river and poundage": "1323.0",
         "hydro water reservoir": "5378.0",
         "marine": "0.0",
         "nuclear": "7013.0",
         "other": "87.0",
         "other renewable": "70.0",
         "solar": "140.0",
         "waste": "205.0",
         "wind offshore": "0.0",
         "wind onshore": "4362.0",
         "energy demand": "nan",
         "price actual": 70.13,
         "Year-Month": "2015-10-01",
         "_deepnote_index_column": 6583
        },
        {
         "time": "2015-10-02T09:00:00.000000",
         "biomass": "nan",
         "fossil brown coal/lignite": "nan",
         "fossil coal-derived gas": "nan",
         "fossil gas": "nan",
         "fossil hard coal": "nan",
         "fossil oil": "nan",
         "fossil oil shale": "nan",
         "fossil peat": "nan",
         "geothermal": "nan",
         "hydro pumped storage consumption": "nan",
         "hydro run-of-river and poundage": "nan",
         "hydro water reservoir": "nan",
         "marine": "nan",
         "nuclear": "nan",
         "other": "nan",
         "other renewable": "nan",
         "solar": "nan",
         "waste": "nan",
         "wind offshore": "nan",
         "wind onshore": "nan",
         "energy demand": "nan",
         "price actual": 70.49,
         "Year-Month": "2015-10-01",
         "_deepnote_index_column": 6586
        },
        {
         "time": "2015-12-02T08:00:00.000000",
         "biomass": "nan",
         "fossil brown coal/lignite": "nan",
         "fossil coal-derived gas": "nan",
         "fossil gas": "nan",
         "fossil hard coal": "nan",
         "fossil oil": "nan",
         "fossil oil shale": "nan",
         "fossil peat": "nan",
         "geothermal": "nan",
         "hydro pumped storage consumption": "nan",
         "hydro run-of-river and poundage": "nan",
         "hydro water reservoir": "nan",
         "marine": "nan",
         "nuclear": "nan",
         "other": "nan",
         "other renewable": "nan",
         "solar": "nan",
         "waste": "nan",
         "wind offshore": "nan",
         "wind onshore": "nan",
         "energy demand": "nan",
         "price actual": 80.44,
         "Year-Month": "2015-12-01",
         "_deepnote_index_column": 8049
        },
        {
         "time": "2016-04-13T03:00:00.000000",
         "biomass": "220.0",
         "fossil brown coal/lignite": "0.0",
         "fossil coal-derived gas": "0.0",
         "fossil gas": "3390.0",
         "fossil hard coal": "1242.0",
         "fossil oil": "243.0",
         "fossil oil shale": "0.0",
         "fossil peat": "0.0",
         "geothermal": "0.0",
         "hydro pumped storage consumption": "2270.0",
         "hydro run-of-river and poundage": "1622.0",
         "hydro water reservoir": "4515.0",
         "marine": "0.0",
         "nuclear": "7097.0",
         "other": "53.0",
         "other renewable": "69.0",
         "solar": "150.0",
         "waste": "nan",
         "wind offshore": "0.0",
         "wind onshore": "8596.0",
         "energy demand": "23614.0",
         "price actual": 25.14,
         "Year-Month": "2016-04-01",
         "_deepnote_index_column": 11236
        },
        {
         "time": "2016-04-25T03:00:00.000000",
         "biomass": "190.0",
         "fossil brown coal/lignite": "0.0",
         "fossil coal-derived gas": "0.0",
         "fossil gas": "2969.0",
         "fossil hard coal": "886.0",
         "fossil oil": "151.0",
         "fossil oil shale": "0.0",
         "fossil peat": "0.0",
         "geothermal": "0.0",
         "hydro pumped storage consumption": "1340.0",
         "hydro run-of-river and poundage": "1564.0",
         "hydro water reservoir": "5389.0",
         "marine": "0.0",
         "nuclear": "7094.0",
         "other": "50.0",
         "other renewable": "59.0",
         "solar": "454.0",
         "waste": "195.0",
         "wind offshore": "0.0",
         "wind onshore": "5989.0",
         "energy demand": "nan",
         "price actual": 22.65,
         "Year-Month": "2016-04-01",
         "_deepnote_index_column": 11524
        },
        {
         "time": "2016-04-25T05:00:00.000000",
         "biomass": "206.0",
         "fossil brown coal/lignite": "0.0",
         "fossil coal-derived gas": "0.0",
         "fossil gas": "3673.0",
         "fossil hard coal": "1143.0",
         "fossil oil": "185.0",
         "fossil oil shale": "0.0",
         "fossil peat": "0.0",
         "geothermal": "0.0",
         "hydro pumped storage consumption": "162.0",
         "hydro run-of-river and poundage": "1648.0",
         "hydro water reservoir": "6807.0",
         "marine": "0.0",
         "nuclear": "7095.0",
         "other": "51.0",
         "other renewable": "62.0",
         "solar": "283.0",
         "waste": "214.0",
         "wind offshore": "0.0",
         "wind onshore": "5682.0",
         "energy demand": "nan",
         "price actual": 40.18,
         "Year-Month": "2016-04-01",
         "_deepnote_index_column": 11526
        },
        {
         "time": "2016-05-10T21:00:00.000000",
         "biomass": "348.0",
         "fossil brown coal/lignite": "960.0",
         "fossil coal-derived gas": "0.0",
         "fossil gas": "6800.0",
         "fossil hard coal": "5219.0",
         "fossil oil": "299.0",
         "fossil oil shale": "0.0",
         "fossil peat": "0.0",
         "geothermal": "0.0",
         "hydro pumped storage consumption": "0.0",
         "hydro run-of-river and poundage": "443.0",
         "hydro water reservoir": "1750.0",
         "marine": "0.0",
         "nuclear": "7002.0",
         "other": "50.0",
         "other renewable": "91.0",
         "solar": "58.0",
         "waste": "280.0",
         "wind offshore": "0.0",
         "wind onshore": "3311.0",
         "energy demand": "nan",
         "price actual": 39.11,
         "Year-Month": "2016-05-01",
         "_deepnote_index_column": 11902
        },
        {
         "time": "2016-06-11T23:00:00.000000",
         "biomass": "356.0",
         "fossil brown coal/lignite": "595.0",
         "fossil coal-derived gas": "0.0",
         "fossil gas": "5719.0",
         "fossil hard coal": "6165.0",
         "fossil oil": "274.0",
         "fossil oil shale": "0.0",
         "fossil peat": "0.0",
         "geothermal": "0.0",
         "hydro pumped storage consumption": "382.0",
         "hydro run-of-river and poundage": "nan",
         "hydro water reservoir": "1325.0",
         "marine": "0.0",
         "nuclear": "5056.0",
         "other": "56.0",
         "other renewable": "86.0",
         "solar": "30.0",
         "waste": "291.0",
         "wind offshore": "0.0",
         "wind onshore": "2019.0",
         "energy demand": "24155.0",
         "price actual": 48.72,
         "Year-Month": "2016-06-01",
         "_deepnote_index_column": 12672
        },
        {
         "time": "2016-07-09T20:00:00.000000",
         "biomass": "nan",
         "fossil brown coal/lignite": "nan",
         "fossil coal-derived gas": "nan",
         "fossil gas": "nan",
         "fossil hard coal": "nan",
         "fossil oil": "nan",
         "fossil oil shale": "nan",
         "fossil peat": "nan",
         "geothermal": "nan",
         "hydro pumped storage consumption": "nan",
         "hydro run-of-river and poundage": "nan",
         "hydro water reservoir": "nan",
         "marine": "nan",
         "nuclear": "6923.0",
         "other": "nan",
         "other renewable": "nan",
         "solar": "nan",
         "waste": "nan",
         "wind offshore": "nan",
         "wind onshore": "nan",
         "energy demand": "nan",
         "price actual": 51.72,
         "Year-Month": "2016-07-01",
         "_deepnote_index_column": 13341
        },
        {
         "time": "2016-07-11T22:00:00.000000",
         "biomass": "346.0",
         "fossil brown coal/lignite": "595.0",
         "fossil coal-derived gas": "0.0",
         "fossil gas": "5951.0",
         "fossil hard coal": "6131.0",
         "fossil oil": "nan",
         "fossil oil shale": "0.0",
         "fossil peat": "0.0",
         "geothermal": "0.0",
         "hydro pumped storage consumption": "494.0",
         "hydro run-of-river and poundage": "709.0",
         "hydro water reservoir": "1215.0",
         "marine": "0.0",
         "nuclear": "5058.0",
         "other": "49.0",
         "other renewable": "83.0",
         "solar": "31.0",
         "waste": "309.0",
         "wind offshore": "0.0",
         "wind onshore": "2031.0",
         "energy demand": "25103.0",
         "price actual": 47.49,
         "Year-Month": "2016-07-01",
         "_deepnote_index_column": 13391
        },
        {
         "time": "2016-09-28T07:00:00.000000",
         "biomass": "347.0",
         "fossil brown coal/lignite": "594.0",
         "fossil coal-derived gas": "0.0",
         "fossil gas": "5522.0",
         "fossil hard coal": "6272.0",
         "fossil oil": "292.0",
         "fossil oil shale": "0.0",
         "fossil peat": "0.0",
         "geothermal": "0.0",
         "hydro pumped storage consumption": "0.0",
         "hydro run-of-river and poundage": "524.0",
         "hydro water reservoir": "2494.0",
         "marine": "0.0",
         "nuclear": "6997.0",
         "other": "61.0",
         "other renewable": "86.0",
         "solar": "982.0",
         "waste": "300.0",
         "wind offshore": "0.0",
         "wind onshore": "5478.0",
         "energy demand": "nan",
         "price actual": 56.4,
         "Year-Month": "2016-09-01",
         "_deepnote_index_column": 15272
        },
        {
         "time": "2016-10-11T21:00:00.000000",
         "biomass": "342.0",
         "fossil brown coal/lignite": "894.0",
         "fossil coal-derived gas": "0.0",
         "fossil gas": "8583.0",
         "fossil hard coal": "5899.0",
         "fossil oil": "299.0",
         "fossil oil shale": "0.0",
         "fossil peat": "0.0",
         "geothermal": "0.0",
         "hydro pumped storage consumption": "13.0",
         "hydro run-of-river and poundage": "651.0",
         "hydro water reservoir": "1018.0",
         "marine": "nan",
         "nuclear": "5043.0",
         "other": "55.0",
         "other renewable": "96.0",
         "solar": "51.0",
         "waste": "299.0",
         "wind offshore": "0.0",
         "wind onshore": "4720.0",
         "energy demand": "28465.0",
         "price actual": 60.98,
         "Year-Month": "2016-10-01",
         "_deepnote_index_column": 15598
        },
        {
         "time": "2016-10-27T21:00:00.000000",
         "biomass": "351.0",
         "fossil brown coal/lignite": "554.0",
         "fossil coal-derived gas": "0.0",
         "fossil gas": "7176.0",
         "fossil hard coal": "5690.0",
         "fossil oil": "321.0",
         "fossil oil shale": "0.0",
         "fossil peat": "0.0",
         "geothermal": "0.0",
         "hydro pumped storage consumption": "nan",
         "hydro run-of-river and poundage": "417.0",
         "hydro water reservoir": "1295.0",
         "marine": "0.0",
         "nuclear": "6967.0",
         "other": "58.0",
         "other renewable": "91.0",
         "solar": "70.0",
         "waste": "299.0",
         "wind offshore": "0.0",
         "wind onshore": "3193.0",
         "energy demand": "26583.0",
         "price actual": 62.84,
         "Year-Month": "2016-10-01",
         "_deepnote_index_column": 15982
        },
        {
         "time": "2016-11-23T03:00:00.000000",
         "biomass": "nan",
         "fossil brown coal/lignite": "900.0",
         "fossil coal-derived gas": "0.0",
         "fossil gas": "4838.0",
         "fossil hard coal": "4547.0",
         "fossil oil": "269.0",
         "fossil oil shale": "0.0",
         "fossil peat": "0.0",
         "geothermal": "0.0",
         "hydro pumped storage consumption": "1413.0",
         "hydro run-of-river and poundage": "795.0",
         "hydro water reservoir": "435.0",
         "marine": "0.0",
         "nuclear": "5040.0",
         "other": "60.0",
         "other renewable": "85.0",
         "solar": "15.0",
         "waste": "227.0",
         "wind offshore": "0.0",
         "wind onshore": "4598.0",
         "energy demand": "23112.0",
         "price actual": 49.11,
         "Year-Month": "2016-11-01",
         "_deepnote_index_column": 16612
        },
        {
         "time": "2017-11-14T11:00:00.000000",
         "biomass": "0.0",
         "fossil brown coal/lignite": "0.0",
         "fossil coal-derived gas": "0.0",
         "fossil gas": "10064.0",
         "fossil hard coal": "0.0",
         "fossil oil": "0.0",
         "fossil oil shale": "0.0",
         "fossil peat": "0.0",
         "geothermal": "0.0",
         "hydro pumped storage consumption": "0.0",
         "hydro run-of-river and poundage": "0.0",
         "hydro water reservoir": "0.0",
         "marine": "0.0",
         "nuclear": "0.0",
         "other": "0.0",
         "other renewable": "0.0",
         "solar": "0.0",
         "waste": "0.0",
         "wind offshore": "0.0",
         "wind onshore": "0.0",
         "energy demand": "nan",
         "price actual": 66.17,
         "Year-Month": "2017-11-01",
         "_deepnote_index_column": 25164
        },
        {
         "time": "2017-11-14T18:00:00.000000",
         "biomass": "0.0",
         "fossil brown coal/lignite": "0.0",
         "fossil coal-derived gas": "0.0",
         "fossil gas": "12336.0",
         "fossil hard coal": "0.0",
         "fossil oil": "0.0",
         "fossil oil shale": "0.0",
         "fossil peat": "0.0",
         "geothermal": "0.0",
         "hydro pumped storage consumption": "0.0",
         "hydro run-of-river and poundage": "0.0",
         "hydro water reservoir": "0.0",
         "marine": "0.0",
         "nuclear": "0.0",
         "other": "0.0",
         "other renewable": "0.0",
         "solar": "0.0",
         "waste": "0.0",
         "wind offshore": "0.0",
         "wind onshore": "0.0",
         "energy demand": "nan",
         "price actual": 75.45,
         "Year-Month": "2017-11-01",
         "_deepnote_index_column": 25171
        },
        {
         "time": "2018-06-11T16:00:00.000000",
         "biomass": "331.0",
         "fossil brown coal/lignite": "506.0",
         "fossil coal-derived gas": "0.0",
         "fossil gas": "7538.0",
         "fossil hard coal": "5360.0",
         "fossil oil": "300.0",
         "fossil oil shale": "0.0",
         "fossil peat": "0.0",
         "geothermal": "0.0",
         "hydro pumped storage consumption": "1.0",
         "hydro run-of-river and poundage": "1134.0",
         "hydro water reservoir": "4258.0",
         "marine": "0.0",
         "nuclear": "5856.0",
         "other": "52.0",
         "other renewable": "96.0",
         "solar": "170.0",
         "waste": "269.0",
         "wind offshore": "0.0",
         "wind onshore": "9165.0",
         "energy demand": "nan",
         "price actual": 64.93,
         "Year-Month": "2018-06-01",
         "_deepnote_index_column": 30185
        },
        {
         "time": "2018-07-11T07:00:00.000000",
         "biomass": "nan",
         "fossil brown coal/lignite": "nan",
         "fossil coal-derived gas": "nan",
         "fossil gas": "nan",
         "fossil hard coal": "nan",
         "fossil oil": "nan",
         "fossil oil shale": "nan",
         "fossil peat": "nan",
         "geothermal": "nan",
         "hydro pumped storage consumption": "nan",
         "hydro run-of-river and poundage": "nan",
         "hydro water reservoir": "nan",
         "marine": "nan",
         "nuclear": "nan",
         "other": "nan",
         "other renewable": "nan",
         "solar": "nan",
         "waste": "nan",
         "wind offshore": "nan",
         "wind onshore": "nan",
         "energy demand": "nan",
         "price actual": 69.79,
         "Year-Month": "2018-07-01",
         "_deepnote_index_column": 30896
        }
       ]
      },
      "text/plain": "                           time  biomass  fossil brown coal/lignite  \\\n99    2015-01-05 02:00:00+00:00      NaN                        NaN   \n108   2015-01-05 11:00:00+00:00      NaN                        NaN   \n109   2015-01-05 12:00:00+00:00      NaN                        NaN   \n110   2015-01-05 13:00:00+00:00      NaN                        NaN   \n111   2015-01-05 14:00:00+00:00      NaN                        NaN   \n112   2015-01-05 15:00:00+00:00      NaN                        NaN   \n113   2015-01-05 16:00:00+00:00      NaN                        NaN   \n451   2015-01-19 18:00:00+00:00      NaN                        NaN   \n452   2015-01-19 19:00:00+00:00      NaN                        NaN   \n643   2015-01-27 18:00:00+00:00      NaN                        NaN   \n661   2015-01-28 12:00:00+00:00      NaN                        NaN   \n751   2015-02-01 06:00:00+00:00    449.0                      312.0   \n752   2015-02-01 07:00:00+00:00    453.0                      312.0   \n753   2015-02-01 08:00:00+00:00    452.0                      302.0   \n756   2015-02-01 11:00:00+00:00    405.0                      317.0   \n757   2015-02-01 12:00:00+00:00    402.0                      317.0   \n758   2015-02-01 13:00:00+00:00    400.0                      317.0   \n759   2015-02-01 14:00:00+00:00    393.0                      321.0   \n760   2015-02-01 15:00:00+00:00    413.0                      325.0   \n761   2015-02-01 16:00:00+00:00    465.0                      321.0   \n762   2015-02-01 17:00:00+00:00    482.0                      326.0   \n763   2015-02-01 18:00:00+00:00    474.0                      326.0   \n2258  2015-04-05 01:00:00+00:00    371.0                        0.0   \n2528  2015-04-16 07:00:00+00:00      NaN                        NaN   \n2623  2015-04-20 06:00:00+00:00    424.0                      642.0   \n2708  2015-04-23 19:00:00+00:00      NaN                        NaN   \n2913  2015-05-02 08:00:00+00:00    497.0                        0.0   \n3554  2015-05-29 01:00:00+00:00    569.0                      756.0   \n3968  2015-06-15 07:00:00+00:00      NaN                        NaN   \n6583  2015-10-02 06:00:00+00:00    483.0                      961.0   \n6586  2015-10-02 09:00:00+00:00      NaN                        NaN   \n8049  2015-12-02 08:00:00+00:00      NaN                        NaN   \n11236 2016-04-13 03:00:00+00:00    220.0                        0.0   \n11524 2016-04-25 03:00:00+00:00    190.0                        0.0   \n11526 2016-04-25 05:00:00+00:00    206.0                        0.0   \n11902 2016-05-10 21:00:00+00:00    348.0                      960.0   \n12672 2016-06-11 23:00:00+00:00    356.0                      595.0   \n13341 2016-07-09 20:00:00+00:00      NaN                        NaN   \n13391 2016-07-11 22:00:00+00:00    346.0                      595.0   \n15272 2016-09-28 07:00:00+00:00    347.0                      594.0   \n15598 2016-10-11 21:00:00+00:00    342.0                      894.0   \n15982 2016-10-27 21:00:00+00:00    351.0                      554.0   \n16612 2016-11-23 03:00:00+00:00      NaN                      900.0   \n25164 2017-11-14 11:00:00+00:00      0.0                        0.0   \n25171 2017-11-14 18:00:00+00:00      0.0                        0.0   \n30185 2018-06-11 16:00:00+00:00    331.0                      506.0   \n30896 2018-07-11 07:00:00+00:00      NaN                        NaN   \n\n       fossil coal-derived gas  fossil gas  fossil hard coal  fossil oil  \\\n99                         NaN         NaN               NaN         NaN   \n108                        NaN         NaN               NaN         NaN   \n109                        NaN         NaN               NaN         NaN   \n110                        NaN         NaN               NaN         NaN   \n111                        NaN         NaN               NaN         NaN   \n112                        NaN         NaN               NaN         NaN   \n113                        NaN         NaN               NaN         NaN   \n451                        NaN         NaN               NaN         NaN   \n452                        NaN         NaN               NaN         NaN   \n643                        NaN         NaN               NaN         NaN   \n661                        NaN         NaN               NaN         NaN   \n751                        0.0      4765.0            5269.0       222.0   \n752                        0.0      4938.0            5652.0       288.0   \n753                        0.0      4997.0            5770.0       296.0   \n756                        0.0      5247.0            6008.0       333.0   \n757                        0.0      5449.0            6005.0       318.0   \n758                        0.0      5266.0            5995.0       327.0   \n759                        0.0      5209.0            5939.0       345.0   \n760                        0.0      5642.0            6000.0       345.0   \n761                        0.0      6127.0            5912.0       346.0   \n762                        0.0      7386.0            6002.0       340.0   \n763                        0.0      7963.0            6026.0       343.0   \n2258                       0.0      5015.0            3248.0       257.0   \n2528                       NaN         NaN               NaN         NaN   \n2623                       0.0      5614.0            5784.0       369.0   \n2708                       NaN         NaN               NaN         NaN   \n2913                       0.0      5502.0            5677.0       375.0   \n3554                       0.0      4239.0            4635.0       365.0   \n3968                       NaN         NaN               NaN         NaN   \n6583                       0.0      6545.0            8250.0       385.0   \n6586                       NaN         NaN               NaN         NaN   \n8049                       NaN         NaN               NaN         NaN   \n11236                      0.0      3390.0            1242.0       243.0   \n11524                      0.0      2969.0             886.0       151.0   \n11526                      0.0      3673.0            1143.0       185.0   \n11902                      0.0      6800.0            5219.0       299.0   \n12672                      0.0      5719.0            6165.0       274.0   \n13341                      NaN         NaN               NaN         NaN   \n13391                      0.0      5951.0            6131.0         NaN   \n15272                      0.0      5522.0            6272.0       292.0   \n15598                      0.0      8583.0            5899.0       299.0   \n15982                      0.0      7176.0            5690.0       321.0   \n16612                      0.0      4838.0            4547.0       269.0   \n25164                      0.0     10064.0               0.0         0.0   \n25171                      0.0     12336.0               0.0         0.0   \n30185                      0.0      7538.0            5360.0       300.0   \n30896                      NaN         NaN               NaN         NaN   \n\n       fossil oil shale  fossil peat  geothermal  ...  nuclear  other  \\\n99                  NaN          NaN         NaN  ...      NaN    NaN   \n108                 NaN          NaN         NaN  ...      NaN    NaN   \n109                 NaN          NaN         NaN  ...      NaN    NaN   \n110                 NaN          NaN         NaN  ...      NaN    NaN   \n111                 NaN          NaN         NaN  ...      NaN    NaN   \n112                 NaN          NaN         NaN  ...      NaN    NaN   \n113                 NaN          NaN         NaN  ...      NaN    NaN   \n451                 NaN          NaN         NaN  ...      NaN    NaN   \n452                 NaN          NaN         NaN  ...      NaN    NaN   \n643                 NaN          NaN         NaN  ...      NaN    NaN   \n661                 NaN          NaN         NaN  ...      NaN    NaN   \n751                 0.0          0.0         0.0  ...   7101.0   44.0   \n752                 0.0          0.0         0.0  ...   7099.0   44.0   \n753                 0.0          0.0         0.0  ...   7097.0   43.0   \n756                 0.0          0.0         0.0  ...   7095.0   42.0   \n757                 0.0          0.0         0.0  ...   7096.0   41.0   \n758                 0.0          0.0         0.0  ...   7098.0   42.0   \n759                 0.0          0.0         0.0  ...   7097.0   41.0   \n760                 0.0          0.0         0.0  ...   7097.0   40.0   \n761                 0.0          0.0         0.0  ...   7096.0   41.0   \n762                 0.0          0.0         0.0  ...   7095.0   41.0   \n763                 0.0          0.0         0.0  ...   7096.0   42.0   \n2258                0.0          0.0         0.0  ...   4027.0   81.0   \n2528                NaN          NaN         NaN  ...      NaN    NaN   \n2623                0.0          0.0         0.0  ...   6954.0   41.0   \n2708                NaN          NaN         NaN  ...      NaN    NaN   \n2913                0.0          0.0         0.0  ...   6353.0   93.0   \n3554                0.0          0.0         0.0  ...   5035.0   85.0   \n3968                NaN          NaN         NaN  ...      NaN    NaN   \n6583                0.0          0.0         0.0  ...   7013.0   87.0   \n6586                NaN          NaN         NaN  ...      NaN    NaN   \n8049                NaN          NaN         NaN  ...      NaN    NaN   \n11236               0.0          0.0         0.0  ...   7097.0   53.0   \n11524               0.0          0.0         0.0  ...   7094.0   50.0   \n11526               0.0          0.0         0.0  ...   7095.0   51.0   \n11902               0.0          0.0         0.0  ...   7002.0   50.0   \n12672               0.0          0.0         0.0  ...   5056.0   56.0   \n13341               NaN          NaN         NaN  ...   6923.0    NaN   \n13391               0.0          0.0         0.0  ...   5058.0   49.0   \n15272               0.0          0.0         0.0  ...   6997.0   61.0   \n15598               0.0          0.0         0.0  ...   5043.0   55.0   \n15982               0.0          0.0         0.0  ...   6967.0   58.0   \n16612               0.0          0.0         0.0  ...   5040.0   60.0   \n25164               0.0          0.0         0.0  ...      0.0    0.0   \n25171               0.0          0.0         0.0  ...      0.0    0.0   \n30185               0.0          0.0         0.0  ...   5856.0   52.0   \n30896               NaN          NaN         NaN  ...      NaN    NaN   \n\n       other renewable   solar  waste  wind offshore  wind onshore  \\\n99                 NaN     NaN    NaN            NaN           NaN   \n108                NaN     NaN    NaN            NaN           NaN   \n109                NaN     NaN    NaN            NaN           NaN   \n110                NaN     NaN    NaN            NaN           NaN   \n111                NaN     NaN    NaN            NaN           NaN   \n112                NaN     NaN    NaN            NaN           NaN   \n113                NaN     NaN    NaN            NaN           NaN   \n451                NaN     NaN    NaN            NaN           NaN   \n452                NaN     NaN    NaN            NaN           NaN   \n643                NaN     NaN    NaN            NaN           NaN   \n661                NaN     NaN    NaN            NaN           NaN   \n751               75.0    48.0  208.0            0.0        3289.0   \n752               75.0    73.0  207.0            0.0        3102.0   \n753               71.0   809.0  204.0            0.0        2838.0   \n756               72.0  3817.0  200.0            0.0        1413.0   \n757               73.0  3836.0  193.0            0.0        1347.0   \n758               79.0  3701.0  199.0            0.0        1345.0   \n759               79.0  3475.0  204.0            0.0        1487.0   \n760               77.0  2742.0  203.0            0.0        1648.0   \n761               77.0  1281.0  207.0            0.0        1857.0   \n762               79.0   328.0  208.0            0.0        1864.0   \n763               82.0   161.0  207.0            0.0        1813.0   \n2258              67.0    31.0  142.0            0.0        3153.0   \n2528               NaN     NaN    NaN            NaN           NaN   \n2623              62.0   636.0  147.0            0.0         797.0   \n2708               NaN     NaN    NaN            NaN           NaN   \n2913              72.0  2535.0  205.0            0.0       10903.0   \n3554              69.0   662.0  201.0            0.0        6503.0   \n3968               NaN     NaN    NaN            NaN           NaN   \n6583              70.0   140.0  205.0            0.0        4362.0   \n6586               NaN     NaN    NaN            NaN           NaN   \n8049               NaN     NaN    NaN            NaN           NaN   \n11236             69.0   150.0    NaN            0.0        8596.0   \n11524             59.0   454.0  195.0            0.0        5989.0   \n11526             62.0   283.0  214.0            0.0        5682.0   \n11902             91.0    58.0  280.0            0.0        3311.0   \n12672             86.0    30.0  291.0            0.0        2019.0   \n13341              NaN     NaN    NaN            NaN           NaN   \n13391             83.0    31.0  309.0            0.0        2031.0   \n15272             86.0   982.0  300.0            0.0        5478.0   \n15598             96.0    51.0  299.0            0.0        4720.0   \n15982             91.0    70.0  299.0            0.0        3193.0   \n16612             85.0    15.0  227.0            0.0        4598.0   \n25164              0.0     0.0    0.0            0.0           0.0   \n25171              0.0     0.0    0.0            0.0           0.0   \n30185             96.0   170.0  269.0            0.0        9165.0   \n30896              NaN     NaN    NaN            NaN           NaN   \n\n       energy demand  price actual  Year-Month  \n99           21182.0         59.68  2015-01-01  \n108              NaN         79.14  2015-01-01  \n109              NaN         73.95  2015-01-01  \n110              NaN         71.93  2015-01-01  \n111              NaN         71.50  2015-01-01  \n112              NaN         71.85  2015-01-01  \n113              NaN         80.53  2015-01-01  \n451          39304.0         88.95  2015-01-01  \n452          39262.0         87.94  2015-01-01  \n643          38335.0         83.97  2015-01-01  \n661              NaN         77.62  2015-01-01  \n751              NaN         16.98  2015-02-01  \n752              NaN         19.56  2015-02-01  \n753              NaN         23.13  2015-02-01  \n756              NaN         22.51  2015-02-01  \n757              NaN         23.44  2015-02-01  \n758              NaN         24.10  2015-02-01  \n759              NaN         21.12  2015-02-01  \n760              NaN         21.73  2015-02-01  \n761              NaN         25.93  2015-02-01  \n762              NaN         54.13  2015-02-01  \n763              NaN         68.53  2015-02-01  \n2258             NaN         29.04  2015-04-01  \n2528             NaN         67.55  2015-04-01  \n2623             NaN         72.92  2015-04-01  \n2708             NaN         82.57  2015-04-01  \n2913             NaN         59.09  2015-05-01  \n3554             NaN         55.07  2015-05-01  \n3968         30047.0         73.82  2015-06-01  \n6583             NaN         70.13  2015-10-01  \n6586             NaN         70.49  2015-10-01  \n8049             NaN         80.44  2015-12-01  \n11236        23614.0         25.14  2016-04-01  \n11524            NaN         22.65  2016-04-01  \n11526            NaN         40.18  2016-04-01  \n11902            NaN         39.11  2016-05-01  \n12672        24155.0         48.72  2016-06-01  \n13341            NaN         51.72  2016-07-01  \n13391        25103.0         47.49  2016-07-01  \n15272            NaN         56.40  2016-09-01  \n15598        28465.0         60.98  2016-10-01  \n15982        26583.0         62.84  2016-10-01  \n16612        23112.0         49.11  2016-11-01  \n25164            NaN         66.17  2017-11-01  \n25171            NaN         75.45  2017-11-01  \n30185            NaN         64.93  2018-06-01  \n30896            NaN         69.79  2018-07-01  \n\n[47 rows x 24 columns]",
      "text/html": "<div>\n<style scoped>\n    .dataframe tbody tr th:only-of-type {\n        vertical-align: middle;\n    }\n\n    .dataframe tbody tr th {\n        vertical-align: top;\n    }\n\n    .dataframe thead th {\n        text-align: right;\n    }\n</style>\n<table border=\"1\" class=\"dataframe\">\n  <thead>\n    <tr style=\"text-align: right;\">\n      <th></th>\n      <th>time</th>\n      <th>biomass</th>\n      <th>fossil brown coal/lignite</th>\n      <th>fossil coal-derived gas</th>\n      <th>fossil gas</th>\n      <th>fossil hard coal</th>\n      <th>fossil oil</th>\n      <th>fossil oil shale</th>\n      <th>fossil peat</th>\n      <th>geothermal</th>\n      <th>...</th>\n      <th>nuclear</th>\n      <th>other</th>\n      <th>other renewable</th>\n      <th>solar</th>\n      <th>waste</th>\n      <th>wind offshore</th>\n      <th>wind onshore</th>\n      <th>energy demand</th>\n      <th>price actual</th>\n      <th>Year-Month</th>\n    </tr>\n  </thead>\n  <tbody>\n    <tr>\n      <th>99</th>\n      <td>2015-01-05 02:00:00+00:00</td>\n      <td>NaN</td>\n      <td>NaN</td>\n      <td>NaN</td>\n      <td>NaN</td>\n      <td>NaN</td>\n      <td>NaN</td>\n      <td>NaN</td>\n      <td>NaN</td>\n      <td>NaN</td>\n      <td>...</td>\n      <td>NaN</td>\n      <td>NaN</td>\n      <td>NaN</td>\n      <td>NaN</td>\n      <td>NaN</td>\n      <td>NaN</td>\n      <td>NaN</td>\n      <td>21182.0</td>\n      <td>59.68</td>\n      <td>2015-01-01</td>\n    </tr>\n    <tr>\n      <th>108</th>\n      <td>2015-01-05 11:00:00+00:00</td>\n      <td>NaN</td>\n      <td>NaN</td>\n      <td>NaN</td>\n      <td>NaN</td>\n      <td>NaN</td>\n      <td>NaN</td>\n      <td>NaN</td>\n      <td>NaN</td>\n      <td>NaN</td>\n      <td>...</td>\n      <td>NaN</td>\n      <td>NaN</td>\n      <td>NaN</td>\n      <td>NaN</td>\n      <td>NaN</td>\n      <td>NaN</td>\n      <td>NaN</td>\n      <td>NaN</td>\n      <td>79.14</td>\n      <td>2015-01-01</td>\n    </tr>\n    <tr>\n      <th>109</th>\n      <td>2015-01-05 12:00:00+00:00</td>\n      <td>NaN</td>\n      <td>NaN</td>\n      <td>NaN</td>\n      <td>NaN</td>\n      <td>NaN</td>\n      <td>NaN</td>\n      <td>NaN</td>\n      <td>NaN</td>\n      <td>NaN</td>\n      <td>...</td>\n      <td>NaN</td>\n      <td>NaN</td>\n      <td>NaN</td>\n      <td>NaN</td>\n      <td>NaN</td>\n      <td>NaN</td>\n      <td>NaN</td>\n      <td>NaN</td>\n      <td>73.95</td>\n      <td>2015-01-01</td>\n    </tr>\n    <tr>\n      <th>110</th>\n      <td>2015-01-05 13:00:00+00:00</td>\n      <td>NaN</td>\n      <td>NaN</td>\n      <td>NaN</td>\n      <td>NaN</td>\n      <td>NaN</td>\n      <td>NaN</td>\n      <td>NaN</td>\n      <td>NaN</td>\n      <td>NaN</td>\n      <td>...</td>\n      <td>NaN</td>\n      <td>NaN</td>\n      <td>NaN</td>\n      <td>NaN</td>\n      <td>NaN</td>\n      <td>NaN</td>\n      <td>NaN</td>\n      <td>NaN</td>\n      <td>71.93</td>\n      <td>2015-01-01</td>\n    </tr>\n    <tr>\n      <th>111</th>\n      <td>2015-01-05 14:00:00+00:00</td>\n      <td>NaN</td>\n      <td>NaN</td>\n      <td>NaN</td>\n      <td>NaN</td>\n      <td>NaN</td>\n      <td>NaN</td>\n      <td>NaN</td>\n      <td>NaN</td>\n      <td>NaN</td>\n      <td>...</td>\n      <td>NaN</td>\n      <td>NaN</td>\n      <td>NaN</td>\n      <td>NaN</td>\n      <td>NaN</td>\n      <td>NaN</td>\n      <td>NaN</td>\n      <td>NaN</td>\n      <td>71.50</td>\n      <td>2015-01-01</td>\n    </tr>\n    <tr>\n      <th>112</th>\n      <td>2015-01-05 15:00:00+00:00</td>\n      <td>NaN</td>\n      <td>NaN</td>\n      <td>NaN</td>\n      <td>NaN</td>\n      <td>NaN</td>\n      <td>NaN</td>\n      <td>NaN</td>\n      <td>NaN</td>\n      <td>NaN</td>\n      <td>...</td>\n      <td>NaN</td>\n      <td>NaN</td>\n      <td>NaN</td>\n      <td>NaN</td>\n      <td>NaN</td>\n      <td>NaN</td>\n      <td>NaN</td>\n      <td>NaN</td>\n      <td>71.85</td>\n      <td>2015-01-01</td>\n    </tr>\n    <tr>\n      <th>113</th>\n      <td>2015-01-05 16:00:00+00:00</td>\n      <td>NaN</td>\n      <td>NaN</td>\n      <td>NaN</td>\n      <td>NaN</td>\n      <td>NaN</td>\n      <td>NaN</td>\n      <td>NaN</td>\n      <td>NaN</td>\n      <td>NaN</td>\n      <td>...</td>\n      <td>NaN</td>\n      <td>NaN</td>\n      <td>NaN</td>\n      <td>NaN</td>\n      <td>NaN</td>\n      <td>NaN</td>\n      <td>NaN</td>\n      <td>NaN</td>\n      <td>80.53</td>\n      <td>2015-01-01</td>\n    </tr>\n    <tr>\n      <th>451</th>\n      <td>2015-01-19 18:00:00+00:00</td>\n      <td>NaN</td>\n      <td>NaN</td>\n      <td>NaN</td>\n      <td>NaN</td>\n      <td>NaN</td>\n      <td>NaN</td>\n      <td>NaN</td>\n      <td>NaN</td>\n      <td>NaN</td>\n      <td>...</td>\n      <td>NaN</td>\n      <td>NaN</td>\n      <td>NaN</td>\n      <td>NaN</td>\n      <td>NaN</td>\n      <td>NaN</td>\n      <td>NaN</td>\n      <td>39304.0</td>\n      <td>88.95</td>\n      <td>2015-01-01</td>\n    </tr>\n    <tr>\n      <th>452</th>\n      <td>2015-01-19 19:00:00+00:00</td>\n      <td>NaN</td>\n      <td>NaN</td>\n      <td>NaN</td>\n      <td>NaN</td>\n      <td>NaN</td>\n      <td>NaN</td>\n      <td>NaN</td>\n      <td>NaN</td>\n      <td>NaN</td>\n      <td>...</td>\n      <td>NaN</td>\n      <td>NaN</td>\n      <td>NaN</td>\n      <td>NaN</td>\n      <td>NaN</td>\n      <td>NaN</td>\n      <td>NaN</td>\n      <td>39262.0</td>\n      <td>87.94</td>\n      <td>2015-01-01</td>\n    </tr>\n    <tr>\n      <th>643</th>\n      <td>2015-01-27 18:00:00+00:00</td>\n      <td>NaN</td>\n      <td>NaN</td>\n      <td>NaN</td>\n      <td>NaN</td>\n      <td>NaN</td>\n      <td>NaN</td>\n      <td>NaN</td>\n      <td>NaN</td>\n      <td>NaN</td>\n      <td>...</td>\n      <td>NaN</td>\n      <td>NaN</td>\n      <td>NaN</td>\n      <td>NaN</td>\n      <td>NaN</td>\n      <td>NaN</td>\n      <td>NaN</td>\n      <td>38335.0</td>\n      <td>83.97</td>\n      <td>2015-01-01</td>\n    </tr>\n    <tr>\n      <th>661</th>\n      <td>2015-01-28 12:00:00+00:00</td>\n      <td>NaN</td>\n      <td>NaN</td>\n      <td>NaN</td>\n      <td>NaN</td>\n      <td>NaN</td>\n      <td>NaN</td>\n      <td>NaN</td>\n      <td>NaN</td>\n      <td>NaN</td>\n      <td>...</td>\n      <td>NaN</td>\n      <td>NaN</td>\n      <td>NaN</td>\n      <td>NaN</td>\n      <td>NaN</td>\n      <td>NaN</td>\n      <td>NaN</td>\n      <td>NaN</td>\n      <td>77.62</td>\n      <td>2015-01-01</td>\n    </tr>\n    <tr>\n      <th>751</th>\n      <td>2015-02-01 06:00:00+00:00</td>\n      <td>449.0</td>\n      <td>312.0</td>\n      <td>0.0</td>\n      <td>4765.0</td>\n      <td>5269.0</td>\n      <td>222.0</td>\n      <td>0.0</td>\n      <td>0.0</td>\n      <td>0.0</td>\n      <td>...</td>\n      <td>7101.0</td>\n      <td>44.0</td>\n      <td>75.0</td>\n      <td>48.0</td>\n      <td>208.0</td>\n      <td>0.0</td>\n      <td>3289.0</td>\n      <td>NaN</td>\n      <td>16.98</td>\n      <td>2015-02-01</td>\n    </tr>\n    <tr>\n      <th>752</th>\n      <td>2015-02-01 07:00:00+00:00</td>\n      <td>453.0</td>\n      <td>312.0</td>\n      <td>0.0</td>\n      <td>4938.0</td>\n      <td>5652.0</td>\n      <td>288.0</td>\n      <td>0.0</td>\n      <td>0.0</td>\n      <td>0.0</td>\n      <td>...</td>\n      <td>7099.0</td>\n      <td>44.0</td>\n      <td>75.0</td>\n      <td>73.0</td>\n      <td>207.0</td>\n      <td>0.0</td>\n      <td>3102.0</td>\n      <td>NaN</td>\n      <td>19.56</td>\n      <td>2015-02-01</td>\n    </tr>\n    <tr>\n      <th>753</th>\n      <td>2015-02-01 08:00:00+00:00</td>\n      <td>452.0</td>\n      <td>302.0</td>\n      <td>0.0</td>\n      <td>4997.0</td>\n      <td>5770.0</td>\n      <td>296.0</td>\n      <td>0.0</td>\n      <td>0.0</td>\n      <td>0.0</td>\n      <td>...</td>\n      <td>7097.0</td>\n      <td>43.0</td>\n      <td>71.0</td>\n      <td>809.0</td>\n      <td>204.0</td>\n      <td>0.0</td>\n      <td>2838.0</td>\n      <td>NaN</td>\n      <td>23.13</td>\n      <td>2015-02-01</td>\n    </tr>\n    <tr>\n      <th>756</th>\n      <td>2015-02-01 11:00:00+00:00</td>\n      <td>405.0</td>\n      <td>317.0</td>\n      <td>0.0</td>\n      <td>5247.0</td>\n      <td>6008.0</td>\n      <td>333.0</td>\n      <td>0.0</td>\n      <td>0.0</td>\n      <td>0.0</td>\n      <td>...</td>\n      <td>7095.0</td>\n      <td>42.0</td>\n      <td>72.0</td>\n      <td>3817.0</td>\n      <td>200.0</td>\n      <td>0.0</td>\n      <td>1413.0</td>\n      <td>NaN</td>\n      <td>22.51</td>\n      <td>2015-02-01</td>\n    </tr>\n    <tr>\n      <th>757</th>\n      <td>2015-02-01 12:00:00+00:00</td>\n      <td>402.0</td>\n      <td>317.0</td>\n      <td>0.0</td>\n      <td>5449.0</td>\n      <td>6005.0</td>\n      <td>318.0</td>\n      <td>0.0</td>\n      <td>0.0</td>\n      <td>0.0</td>\n      <td>...</td>\n      <td>7096.0</td>\n      <td>41.0</td>\n      <td>73.0</td>\n      <td>3836.0</td>\n      <td>193.0</td>\n      <td>0.0</td>\n      <td>1347.0</td>\n      <td>NaN</td>\n      <td>23.44</td>\n      <td>2015-02-01</td>\n    </tr>\n    <tr>\n      <th>758</th>\n      <td>2015-02-01 13:00:00+00:00</td>\n      <td>400.0</td>\n      <td>317.0</td>\n      <td>0.0</td>\n      <td>5266.0</td>\n      <td>5995.0</td>\n      <td>327.0</td>\n      <td>0.0</td>\n      <td>0.0</td>\n      <td>0.0</td>\n      <td>...</td>\n      <td>7098.0</td>\n      <td>42.0</td>\n      <td>79.0</td>\n      <td>3701.0</td>\n      <td>199.0</td>\n      <td>0.0</td>\n      <td>1345.0</td>\n      <td>NaN</td>\n      <td>24.10</td>\n      <td>2015-02-01</td>\n    </tr>\n    <tr>\n      <th>759</th>\n      <td>2015-02-01 14:00:00+00:00</td>\n      <td>393.0</td>\n      <td>321.0</td>\n      <td>0.0</td>\n      <td>5209.0</td>\n      <td>5939.0</td>\n      <td>345.0</td>\n      <td>0.0</td>\n      <td>0.0</td>\n      <td>0.0</td>\n      <td>...</td>\n      <td>7097.0</td>\n      <td>41.0</td>\n      <td>79.0</td>\n      <td>3475.0</td>\n      <td>204.0</td>\n      <td>0.0</td>\n      <td>1487.0</td>\n      <td>NaN</td>\n      <td>21.12</td>\n      <td>2015-02-01</td>\n    </tr>\n    <tr>\n      <th>760</th>\n      <td>2015-02-01 15:00:00+00:00</td>\n      <td>413.0</td>\n      <td>325.0</td>\n      <td>0.0</td>\n      <td>5642.0</td>\n      <td>6000.0</td>\n      <td>345.0</td>\n      <td>0.0</td>\n      <td>0.0</td>\n      <td>0.0</td>\n      <td>...</td>\n      <td>7097.0</td>\n      <td>40.0</td>\n      <td>77.0</td>\n      <td>2742.0</td>\n      <td>203.0</td>\n      <td>0.0</td>\n      <td>1648.0</td>\n      <td>NaN</td>\n      <td>21.73</td>\n      <td>2015-02-01</td>\n    </tr>\n    <tr>\n      <th>761</th>\n      <td>2015-02-01 16:00:00+00:00</td>\n      <td>465.0</td>\n      <td>321.0</td>\n      <td>0.0</td>\n      <td>6127.0</td>\n      <td>5912.0</td>\n      <td>346.0</td>\n      <td>0.0</td>\n      <td>0.0</td>\n      <td>0.0</td>\n      <td>...</td>\n      <td>7096.0</td>\n      <td>41.0</td>\n      <td>77.0</td>\n      <td>1281.0</td>\n      <td>207.0</td>\n      <td>0.0</td>\n      <td>1857.0</td>\n      <td>NaN</td>\n      <td>25.93</td>\n      <td>2015-02-01</td>\n    </tr>\n    <tr>\n      <th>762</th>\n      <td>2015-02-01 17:00:00+00:00</td>\n      <td>482.0</td>\n      <td>326.0</td>\n      <td>0.0</td>\n      <td>7386.0</td>\n      <td>6002.0</td>\n      <td>340.0</td>\n      <td>0.0</td>\n      <td>0.0</td>\n      <td>0.0</td>\n      <td>...</td>\n      <td>7095.0</td>\n      <td>41.0</td>\n      <td>79.0</td>\n      <td>328.0</td>\n      <td>208.0</td>\n      <td>0.0</td>\n      <td>1864.0</td>\n      <td>NaN</td>\n      <td>54.13</td>\n      <td>2015-02-01</td>\n    </tr>\n    <tr>\n      <th>763</th>\n      <td>2015-02-01 18:00:00+00:00</td>\n      <td>474.0</td>\n      <td>326.0</td>\n      <td>0.0</td>\n      <td>7963.0</td>\n      <td>6026.0</td>\n      <td>343.0</td>\n      <td>0.0</td>\n      <td>0.0</td>\n      <td>0.0</td>\n      <td>...</td>\n      <td>7096.0</td>\n      <td>42.0</td>\n      <td>82.0</td>\n      <td>161.0</td>\n      <td>207.0</td>\n      <td>0.0</td>\n      <td>1813.0</td>\n      <td>NaN</td>\n      <td>68.53</td>\n      <td>2015-02-01</td>\n    </tr>\n    <tr>\n      <th>2258</th>\n      <td>2015-04-05 01:00:00+00:00</td>\n      <td>371.0</td>\n      <td>0.0</td>\n      <td>0.0</td>\n      <td>5015.0</td>\n      <td>3248.0</td>\n      <td>257.0</td>\n      <td>0.0</td>\n      <td>0.0</td>\n      <td>0.0</td>\n      <td>...</td>\n      <td>4027.0</td>\n      <td>81.0</td>\n      <td>67.0</td>\n      <td>31.0</td>\n      <td>142.0</td>\n      <td>0.0</td>\n      <td>3153.0</td>\n      <td>NaN</td>\n      <td>29.04</td>\n      <td>2015-04-01</td>\n    </tr>\n    <tr>\n      <th>2528</th>\n      <td>2015-04-16 07:00:00+00:00</td>\n      <td>NaN</td>\n      <td>NaN</td>\n      <td>NaN</td>\n      <td>NaN</td>\n      <td>NaN</td>\n      <td>NaN</td>\n      <td>NaN</td>\n      <td>NaN</td>\n      <td>NaN</td>\n      <td>...</td>\n      <td>NaN</td>\n      <td>NaN</td>\n      <td>NaN</td>\n      <td>NaN</td>\n      <td>NaN</td>\n      <td>NaN</td>\n      <td>NaN</td>\n      <td>NaN</td>\n      <td>67.55</td>\n      <td>2015-04-01</td>\n    </tr>\n    <tr>\n      <th>2623</th>\n      <td>2015-04-20 06:00:00+00:00</td>\n      <td>424.0</td>\n      <td>642.0</td>\n      <td>0.0</td>\n      <td>5614.0</td>\n      <td>5784.0</td>\n      <td>369.0</td>\n      <td>0.0</td>\n      <td>0.0</td>\n      <td>0.0</td>\n      <td>...</td>\n      <td>6954.0</td>\n      <td>41.0</td>\n      <td>62.0</td>\n      <td>636.0</td>\n      <td>147.0</td>\n      <td>0.0</td>\n      <td>797.0</td>\n      <td>NaN</td>\n      <td>72.92</td>\n      <td>2015-04-01</td>\n    </tr>\n    <tr>\n      <th>2708</th>\n      <td>2015-04-23 19:00:00+00:00</td>\n      <td>NaN</td>\n      <td>NaN</td>\n      <td>NaN</td>\n      <td>NaN</td>\n      <td>NaN</td>\n      <td>NaN</td>\n      <td>NaN</td>\n      <td>NaN</td>\n      <td>NaN</td>\n      <td>...</td>\n      <td>NaN</td>\n      <td>NaN</td>\n      <td>NaN</td>\n      <td>NaN</td>\n      <td>NaN</td>\n      <td>NaN</td>\n      <td>NaN</td>\n      <td>NaN</td>\n      <td>82.57</td>\n      <td>2015-04-01</td>\n    </tr>\n    <tr>\n      <th>2913</th>\n      <td>2015-05-02 08:00:00+00:00</td>\n      <td>497.0</td>\n      <td>0.0</td>\n      <td>0.0</td>\n      <td>5502.0</td>\n      <td>5677.0</td>\n      <td>375.0</td>\n      <td>0.0</td>\n      <td>0.0</td>\n      <td>0.0</td>\n      <td>...</td>\n      <td>6353.0</td>\n      <td>93.0</td>\n      <td>72.0</td>\n      <td>2535.0</td>\n      <td>205.0</td>\n      <td>0.0</td>\n      <td>10903.0</td>\n      <td>NaN</td>\n      <td>59.09</td>\n      <td>2015-05-01</td>\n    </tr>\n    <tr>\n      <th>3554</th>\n      <td>2015-05-29 01:00:00+00:00</td>\n      <td>569.0</td>\n      <td>756.0</td>\n      <td>0.0</td>\n      <td>4239.0</td>\n      <td>4635.0</td>\n      <td>365.0</td>\n      <td>0.0</td>\n      <td>0.0</td>\n      <td>0.0</td>\n      <td>...</td>\n      <td>5035.0</td>\n      <td>85.0</td>\n      <td>69.0</td>\n      <td>662.0</td>\n      <td>201.0</td>\n      <td>0.0</td>\n      <td>6503.0</td>\n      <td>NaN</td>\n      <td>55.07</td>\n      <td>2015-05-01</td>\n    </tr>\n    <tr>\n      <th>3968</th>\n      <td>2015-06-15 07:00:00+00:00</td>\n      <td>NaN</td>\n      <td>NaN</td>\n      <td>NaN</td>\n      <td>NaN</td>\n      <td>NaN</td>\n      <td>NaN</td>\n      <td>NaN</td>\n      <td>NaN</td>\n      <td>NaN</td>\n      <td>...</td>\n      <td>NaN</td>\n      <td>NaN</td>\n      <td>NaN</td>\n      <td>NaN</td>\n      <td>NaN</td>\n      <td>NaN</td>\n      <td>NaN</td>\n      <td>30047.0</td>\n      <td>73.82</td>\n      <td>2015-06-01</td>\n    </tr>\n    <tr>\n      <th>6583</th>\n      <td>2015-10-02 06:00:00+00:00</td>\n      <td>483.0</td>\n      <td>961.0</td>\n      <td>0.0</td>\n      <td>6545.0</td>\n      <td>8250.0</td>\n      <td>385.0</td>\n      <td>0.0</td>\n      <td>0.0</td>\n      <td>0.0</td>\n      <td>...</td>\n      <td>7013.0</td>\n      <td>87.0</td>\n      <td>70.0</td>\n      <td>140.0</td>\n      <td>205.0</td>\n      <td>0.0</td>\n      <td>4362.0</td>\n      <td>NaN</td>\n      <td>70.13</td>\n      <td>2015-10-01</td>\n    </tr>\n    <tr>\n      <th>6586</th>\n      <td>2015-10-02 09:00:00+00:00</td>\n      <td>NaN</td>\n      <td>NaN</td>\n      <td>NaN</td>\n      <td>NaN</td>\n      <td>NaN</td>\n      <td>NaN</td>\n      <td>NaN</td>\n      <td>NaN</td>\n      <td>NaN</td>\n      <td>...</td>\n      <td>NaN</td>\n      <td>NaN</td>\n      <td>NaN</td>\n      <td>NaN</td>\n      <td>NaN</td>\n      <td>NaN</td>\n      <td>NaN</td>\n      <td>NaN</td>\n      <td>70.49</td>\n      <td>2015-10-01</td>\n    </tr>\n    <tr>\n      <th>8049</th>\n      <td>2015-12-02 08:00:00+00:00</td>\n      <td>NaN</td>\n      <td>NaN</td>\n      <td>NaN</td>\n      <td>NaN</td>\n      <td>NaN</td>\n      <td>NaN</td>\n      <td>NaN</td>\n      <td>NaN</td>\n      <td>NaN</td>\n      <td>...</td>\n      <td>NaN</td>\n      <td>NaN</td>\n      <td>NaN</td>\n      <td>NaN</td>\n      <td>NaN</td>\n      <td>NaN</td>\n      <td>NaN</td>\n      <td>NaN</td>\n      <td>80.44</td>\n      <td>2015-12-01</td>\n    </tr>\n    <tr>\n      <th>11236</th>\n      <td>2016-04-13 03:00:00+00:00</td>\n      <td>220.0</td>\n      <td>0.0</td>\n      <td>0.0</td>\n      <td>3390.0</td>\n      <td>1242.0</td>\n      <td>243.0</td>\n      <td>0.0</td>\n      <td>0.0</td>\n      <td>0.0</td>\n      <td>...</td>\n      <td>7097.0</td>\n      <td>53.0</td>\n      <td>69.0</td>\n      <td>150.0</td>\n      <td>NaN</td>\n      <td>0.0</td>\n      <td>8596.0</td>\n      <td>23614.0</td>\n      <td>25.14</td>\n      <td>2016-04-01</td>\n    </tr>\n    <tr>\n      <th>11524</th>\n      <td>2016-04-25 03:00:00+00:00</td>\n      <td>190.0</td>\n      <td>0.0</td>\n      <td>0.0</td>\n      <td>2969.0</td>\n      <td>886.0</td>\n      <td>151.0</td>\n      <td>0.0</td>\n      <td>0.0</td>\n      <td>0.0</td>\n      <td>...</td>\n      <td>7094.0</td>\n      <td>50.0</td>\n      <td>59.0</td>\n      <td>454.0</td>\n      <td>195.0</td>\n      <td>0.0</td>\n      <td>5989.0</td>\n      <td>NaN</td>\n      <td>22.65</td>\n      <td>2016-04-01</td>\n    </tr>\n    <tr>\n      <th>11526</th>\n      <td>2016-04-25 05:00:00+00:00</td>\n      <td>206.0</td>\n      <td>0.0</td>\n      <td>0.0</td>\n      <td>3673.0</td>\n      <td>1143.0</td>\n      <td>185.0</td>\n      <td>0.0</td>\n      <td>0.0</td>\n      <td>0.0</td>\n      <td>...</td>\n      <td>7095.0</td>\n      <td>51.0</td>\n      <td>62.0</td>\n      <td>283.0</td>\n      <td>214.0</td>\n      <td>0.0</td>\n      <td>5682.0</td>\n      <td>NaN</td>\n      <td>40.18</td>\n      <td>2016-04-01</td>\n    </tr>\n    <tr>\n      <th>11902</th>\n      <td>2016-05-10 21:00:00+00:00</td>\n      <td>348.0</td>\n      <td>960.0</td>\n      <td>0.0</td>\n      <td>6800.0</td>\n      <td>5219.0</td>\n      <td>299.0</td>\n      <td>0.0</td>\n      <td>0.0</td>\n      <td>0.0</td>\n      <td>...</td>\n      <td>7002.0</td>\n      <td>50.0</td>\n      <td>91.0</td>\n      <td>58.0</td>\n      <td>280.0</td>\n      <td>0.0</td>\n      <td>3311.0</td>\n      <td>NaN</td>\n      <td>39.11</td>\n      <td>2016-05-01</td>\n    </tr>\n    <tr>\n      <th>12672</th>\n      <td>2016-06-11 23:00:00+00:00</td>\n      <td>356.0</td>\n      <td>595.0</td>\n      <td>0.0</td>\n      <td>5719.0</td>\n      <td>6165.0</td>\n      <td>274.0</td>\n      <td>0.0</td>\n      <td>0.0</td>\n      <td>0.0</td>\n      <td>...</td>\n      <td>5056.0</td>\n      <td>56.0</td>\n      <td>86.0</td>\n      <td>30.0</td>\n      <td>291.0</td>\n      <td>0.0</td>\n      <td>2019.0</td>\n      <td>24155.0</td>\n      <td>48.72</td>\n      <td>2016-06-01</td>\n    </tr>\n    <tr>\n      <th>13341</th>\n      <td>2016-07-09 20:00:00+00:00</td>\n      <td>NaN</td>\n      <td>NaN</td>\n      <td>NaN</td>\n      <td>NaN</td>\n      <td>NaN</td>\n      <td>NaN</td>\n      <td>NaN</td>\n      <td>NaN</td>\n      <td>NaN</td>\n      <td>...</td>\n      <td>6923.0</td>\n      <td>NaN</td>\n      <td>NaN</td>\n      <td>NaN</td>\n      <td>NaN</td>\n      <td>NaN</td>\n      <td>NaN</td>\n      <td>NaN</td>\n      <td>51.72</td>\n      <td>2016-07-01</td>\n    </tr>\n    <tr>\n      <th>13391</th>\n      <td>2016-07-11 22:00:00+00:00</td>\n      <td>346.0</td>\n      <td>595.0</td>\n      <td>0.0</td>\n      <td>5951.0</td>\n      <td>6131.0</td>\n      <td>NaN</td>\n      <td>0.0</td>\n      <td>0.0</td>\n      <td>0.0</td>\n      <td>...</td>\n      <td>5058.0</td>\n      <td>49.0</td>\n      <td>83.0</td>\n      <td>31.0</td>\n      <td>309.0</td>\n      <td>0.0</td>\n      <td>2031.0</td>\n      <td>25103.0</td>\n      <td>47.49</td>\n      <td>2016-07-01</td>\n    </tr>\n    <tr>\n      <th>15272</th>\n      <td>2016-09-28 07:00:00+00:00</td>\n      <td>347.0</td>\n      <td>594.0</td>\n      <td>0.0</td>\n      <td>5522.0</td>\n      <td>6272.0</td>\n      <td>292.0</td>\n      <td>0.0</td>\n      <td>0.0</td>\n      <td>0.0</td>\n      <td>...</td>\n      <td>6997.0</td>\n      <td>61.0</td>\n      <td>86.0</td>\n      <td>982.0</td>\n      <td>300.0</td>\n      <td>0.0</td>\n      <td>5478.0</td>\n      <td>NaN</td>\n      <td>56.40</td>\n      <td>2016-09-01</td>\n    </tr>\n    <tr>\n      <th>15598</th>\n      <td>2016-10-11 21:00:00+00:00</td>\n      <td>342.0</td>\n      <td>894.0</td>\n      <td>0.0</td>\n      <td>8583.0</td>\n      <td>5899.0</td>\n      <td>299.0</td>\n      <td>0.0</td>\n      <td>0.0</td>\n      <td>0.0</td>\n      <td>...</td>\n      <td>5043.0</td>\n      <td>55.0</td>\n      <td>96.0</td>\n      <td>51.0</td>\n      <td>299.0</td>\n      <td>0.0</td>\n      <td>4720.0</td>\n      <td>28465.0</td>\n      <td>60.98</td>\n      <td>2016-10-01</td>\n    </tr>\n    <tr>\n      <th>15982</th>\n      <td>2016-10-27 21:00:00+00:00</td>\n      <td>351.0</td>\n      <td>554.0</td>\n      <td>0.0</td>\n      <td>7176.0</td>\n      <td>5690.0</td>\n      <td>321.0</td>\n      <td>0.0</td>\n      <td>0.0</td>\n      <td>0.0</td>\n      <td>...</td>\n      <td>6967.0</td>\n      <td>58.0</td>\n      <td>91.0</td>\n      <td>70.0</td>\n      <td>299.0</td>\n      <td>0.0</td>\n      <td>3193.0</td>\n      <td>26583.0</td>\n      <td>62.84</td>\n      <td>2016-10-01</td>\n    </tr>\n    <tr>\n      <th>16612</th>\n      <td>2016-11-23 03:00:00+00:00</td>\n      <td>NaN</td>\n      <td>900.0</td>\n      <td>0.0</td>\n      <td>4838.0</td>\n      <td>4547.0</td>\n      <td>269.0</td>\n      <td>0.0</td>\n      <td>0.0</td>\n      <td>0.0</td>\n      <td>...</td>\n      <td>5040.0</td>\n      <td>60.0</td>\n      <td>85.0</td>\n      <td>15.0</td>\n      <td>227.0</td>\n      <td>0.0</td>\n      <td>4598.0</td>\n      <td>23112.0</td>\n      <td>49.11</td>\n      <td>2016-11-01</td>\n    </tr>\n    <tr>\n      <th>25164</th>\n      <td>2017-11-14 11:00:00+00:00</td>\n      <td>0.0</td>\n      <td>0.0</td>\n      <td>0.0</td>\n      <td>10064.0</td>\n      <td>0.0</td>\n      <td>0.0</td>\n      <td>0.0</td>\n      <td>0.0</td>\n      <td>0.0</td>\n      <td>...</td>\n      <td>0.0</td>\n      <td>0.0</td>\n      <td>0.0</td>\n      <td>0.0</td>\n      <td>0.0</td>\n      <td>0.0</td>\n      <td>0.0</td>\n      <td>NaN</td>\n      <td>66.17</td>\n      <td>2017-11-01</td>\n    </tr>\n    <tr>\n      <th>25171</th>\n      <td>2017-11-14 18:00:00+00:00</td>\n      <td>0.0</td>\n      <td>0.0</td>\n      <td>0.0</td>\n      <td>12336.0</td>\n      <td>0.0</td>\n      <td>0.0</td>\n      <td>0.0</td>\n      <td>0.0</td>\n      <td>0.0</td>\n      <td>...</td>\n      <td>0.0</td>\n      <td>0.0</td>\n      <td>0.0</td>\n      <td>0.0</td>\n      <td>0.0</td>\n      <td>0.0</td>\n      <td>0.0</td>\n      <td>NaN</td>\n      <td>75.45</td>\n      <td>2017-11-01</td>\n    </tr>\n    <tr>\n      <th>30185</th>\n      <td>2018-06-11 16:00:00+00:00</td>\n      <td>331.0</td>\n      <td>506.0</td>\n      <td>0.0</td>\n      <td>7538.0</td>\n      <td>5360.0</td>\n      <td>300.0</td>\n      <td>0.0</td>\n      <td>0.0</td>\n      <td>0.0</td>\n      <td>...</td>\n      <td>5856.0</td>\n      <td>52.0</td>\n      <td>96.0</td>\n      <td>170.0</td>\n      <td>269.0</td>\n      <td>0.0</td>\n      <td>9165.0</td>\n      <td>NaN</td>\n      <td>64.93</td>\n      <td>2018-06-01</td>\n    </tr>\n    <tr>\n      <th>30896</th>\n      <td>2018-07-11 07:00:00+00:00</td>\n      <td>NaN</td>\n      <td>NaN</td>\n      <td>NaN</td>\n      <td>NaN</td>\n      <td>NaN</td>\n      <td>NaN</td>\n      <td>NaN</td>\n      <td>NaN</td>\n      <td>NaN</td>\n      <td>...</td>\n      <td>NaN</td>\n      <td>NaN</td>\n      <td>NaN</td>\n      <td>NaN</td>\n      <td>NaN</td>\n      <td>NaN</td>\n      <td>NaN</td>\n      <td>NaN</td>\n      <td>69.79</td>\n      <td>2018-07-01</td>\n    </tr>\n  </tbody>\n</table>\n<p>47 rows × 24 columns</p>\n</div>"
     },
     "metadata": {}
    }
   ]
  },
  {
   "cell_type": "markdown",
   "source": "There are only 47 records that contain NaN in the row. We want to plot these 47 records on a timeline and see if there are any clusters.",
   "metadata": {
    "tags": [],
    "cell_id": "00024-997e222c-ba39-4b91-8c02-f087e9c07206",
    "deepnote_cell_type": "markdown"
   }
  },
  {
   "cell_type": "code",
   "metadata": {
    "tags": [],
    "deepnote_to_be_reexecuted": false,
    "source_hash": "dbefa665",
    "execution_millis": 260,
    "execution_start": 1621522008043,
    "cell_id": "00025-b69607a6-42bb-494d-8db5-d2876e964a6c",
    "deepnote_cell_type": "code"
   },
   "source": "sns.swarmplot(x='time', data=energy[energy.isna().any(axis=1)])\nplt.xticks(rotation=45)\nplt.title('NaN values across time')",
   "execution_count": 9,
   "outputs": [
    {
     "output_type": "execute_result",
     "execution_count": 9,
     "data": {
      "text/plain": "Text(0.5, 1.0, 'NaN values across time')"
     },
     "metadata": {}
    },
    {
     "data": {
      "text/plain": "<Figure size 432x288 with 1 Axes>",
      "image/png": "[encoded data removed]"
     },
     "metadata": {
      "image/png": {
       "width": 405,
       "height": 345
      }
     },
     "output_type": "display_data"
    }
   ]
  },
  {
   "cell_type": "code",
   "metadata": {
    "tags": [],
    "deepnote_to_be_reexecuted": false,
    "source_hash": "d11b019",
    "execution_start": 1621522008285,
    "execution_millis": 18,
    "cell_id": "00026-cd1f6daa-7d0f-4e12-9b69-aeb39c9dea89",
    "deepnote_cell_type": "code"
   },
   "source": "energy[energy.isna().any(axis=1)].groupby('Year-Month')['time'].count()",
   "execution_count": 10,
   "outputs": [
    {
     "output_type": "execute_result",
     "execution_count": 10,
     "data": {
      "text/plain": "Year-Month\n2015-01-01    11\n2015-02-01    11\n2015-04-01     4\n2015-05-01     2\n2015-06-01     1\n2015-10-01     2\n2015-12-01     1\n2016-04-01     3\n2016-05-01     1\n2016-06-01     1\n2016-07-01     2\n2016-09-01     1\n2016-10-01     2\n2016-11-01     1\n2017-11-01     2\n2018-06-01     1\n2018-07-01     1\nName: time, dtype: int64"
     },
     "metadata": {}
    }
   ]
  },
  {
   "cell_type": "markdown",
   "source": "As we can see in the timeline of the events and frenquency of NaN values by month table above, they scattered around since the data are being recorded. There are several clusters early on, such as the one around January 2015 and May 2015. There are fewer and fewer records recently. It is possible that the instruments were being set up to measure those energy generation data early on, They have a more healthy infrastructure in place to collect necessary data.",
   "metadata": {
    "tags": [],
    "cell_id": "00027-d6e1c377-fbc0-4899-b9c7-d44b82583af2",
    "deepnote_cell_type": "markdown"
   }
  },
  {
   "cell_type": "markdown",
   "source": "### Consolidate different energy sources\nWe want to consolidate the existing columns into the following columns by summing up the related subcolumns for further analysis. Here is a brief description of each columns:\n* Fossil fuel as `fossil_fuel` (nonrenewable energy formed in the geological past from the remains of living organisms)\n* Energy generated from biomass as `biomass` (renewable energy produced by living or once-living organisms)\n* Energy generated from hydropower as `hydro` (renewable energy generated by fast-running water)\n* Energy generated from nuclear energy as `nuclear` (nonrenewable energy that use a nuclear reaction to produce electricity)\n* Energy generated from wind energy as `wind` (renewable energy that converts kinetic energy in the wind into mechanical power)\n* Energy generated from waste as `waste` (Waste-to-energy plants make steam and electricity)\n* Energy generated from other sources as `others`",
   "metadata": {
    "tags": [],
    "cell_id": "00024-1d75e597-7be0-41fb-8e25-4beffeed2189",
    "deepnote_cell_type": "markdown"
   }
  },
  {
   "cell_type": "code",
   "metadata": {
    "tags": [],
    "cell_id": "00025-3edaee6f-4100-42c8-91cc-3f73ba8a8246",
    "deepnote_to_be_reexecuted": false,
    "source_hash": "f203d111",
    "execution_start": 1621522008299,
    "execution_millis": 26,
    "deepnote_cell_type": "code"
   },
   "source": "fossil_fuel = ['fossil brown coal/lignite', 'fossil gas',\n       'fossil hard coal', 'fossil oil']\nhydro = ['hydro pumped storage consumption',\n       'hydro run-of-river and poundage',\n       'hydro water reservoir']\nwind = ['wind onshore']\nothers = ['other', 'other renewable'] \nenergy['fossil_fuel'] = energy.loc[:, fossil_fuel].sum(axis=1)\nenergy['hydro'] = energy.loc[:, hydro].sum(axis=1)\nenergy['wind'] = energy.loc[:, wind].sum(axis=1)\nenergy['others'] = energy.loc[:, others].sum(axis=1)",
   "execution_count": 11,
   "outputs": []
  },
  {
   "cell_type": "markdown",
   "source": "We have aggregated there columns:\n* `biomass`\n* `fossil_fuel`\n* `hydro`\n* `wind`\n* `solar`\n* `nuclear`\n* `waste`\n* `others`\n\nAll of them are in Megawatts(MW).",
   "metadata": {
    "tags": [],
    "cell_id": "00024-d82db2eb-a9e5-412c-b1b3-aed7792c0123",
    "deepnote_cell_type": "markdown"
   }
  },
  {
   "cell_type": "markdown",
   "source": "#### Find pattern for zero value entry  \nWe want to see if any zero values in this dataset are meaningful. If not, they can be treated as missing values (NaN) and interpolate together with other NaN values. ",
   "metadata": {
    "tags": [],
    "cell_id": "00028-b8bf3d90-eef7-4528-8030-14ff2ffa6418",
    "deepnote_cell_type": "markdown"
   }
  },
  {
   "cell_type": "code",
   "metadata": {
    "tags": [],
    "deepnote_to_be_reexecuted": false,
    "source_hash": "712c88af",
    "execution_start": 1621522008333,
    "execution_millis": 344,
    "cell_id": "00029-0470ba2a-820e-44b2-a415-8d16a52e1b94",
    "deepnote_cell_type": "code"
   },
   "source": "energy_list = ['biomass','fossil_fuel','hydro','wind','solar','nuclear','waste','others']\nenergy_flat = pd.melt(energy, id_vars='Year-Month', value_vars=energy_list)\ntmp = energy_flat.loc[energy_flat.value == 0]\ntmp.sort_values(by='Year-Month', inplace=True)\nsns.swarmplot(x='Year-Month', y='variable', data=tmp)\nplt.title('NaN Across Time Group By Energy Source')\nplt.ylabel('Energy Sources')\nplt.xlabel('Time (Year-Month)')\nplt.xticks(rotation=45)",
   "execution_count": 12,
   "outputs": [
    {
     "name": "stderr",
     "text": "/shared-libs/python3.7/py-core/lib/python3.7/site-packages/ipykernel_launcher.py:4: SettingWithCopyWarning: \nA value is trying to be set on a copy of a slice from a DataFrame\n\nSee the caveats in the documentation: https://pandas.pydata.org/pandas-docs/stable/user_guide/indexing.html#returning-a-view-versus-a-copy\n  after removing the cwd from sys.path.\n/shared-libs/python3.7/py/lib/python3.7/site-packages/seaborn/categorical.py:1296: UserWarning: 36.4% of the points cannot be placed; you may want to decrease the size of the markers or use stripplot.\n  warnings.warn(msg, UserWarning)\n",
     "output_type": "stream"
    },
    {
     "output_type": "execute_result",
     "execution_count": 12,
     "data": {
      "text/plain": "(array([0, 1, 2, 3, 4, 5, 6, 7, 8]),\n [Text(0, 0, '2015-01-01'),\n  Text(1, 0, '2015-04-01'),\n  Text(2, 0, '2015-06-01'),\n  Text(3, 0, '2015-10-01'),\n  Text(4, 0, '2015-12-01'),\n  Text(5, 0, '2016-07-01'),\n  Text(6, 0, '2017-11-01'),\n  Text(7, 0, '2018-05-01'),\n  Text(8, 0, '2018-07-01')])"
     },
     "metadata": {}
    },
    {
     "data": {
      "text/plain": "<Figure size 432x288 with 1 Axes>",
      "image/png": "[encoded data removed]"
     },
     "metadata": {
      "image/png": {
       "width": 509,
       "height": 361
      }
     },
     "output_type": "display_data"
    }
   ]
  },
  {
   "cell_type": "markdown",
   "source": "According to the plot above, we can see that zero values coincide between different energy sources. Since they are sparse earlier in time, we can view them as missing values. As a result, we can replace all the zero values with NaN and interpolate them with all the other NaN values. ",
   "metadata": {
    "tags": [],
    "cell_id": "00030-597b921b-6737-4ddd-891f-30579f193b89",
    "deepnote_cell_type": "markdown"
   }
  },
  {
   "cell_type": "code",
   "metadata": {
    "tags": [],
    "deepnote_to_be_reexecuted": false,
    "source_hash": "a35e1451",
    "execution_millis": 6,
    "execution_start": 1621522008681,
    "cell_id": "00031-769a973b-bf41-4b56-9a45-9b1f49d3c210",
    "deepnote_cell_type": "code"
   },
   "source": "energy[energy_list] = energy[energy_list].replace(['0', 0], np.nan)",
   "execution_count": 13,
   "outputs": []
  },
  {
   "cell_type": "markdown",
   "source": "### Interpolation\nWe use two different methods to interpolate all the NaN values that we in the `energy` dataset. \n* If there are multiple NaN values in the close span, we use quadratic interpolation with the order of four to account for the movement of the curve. \n* If there is only one NaN value in the close span, we use the CubicSpline method to interpolate that specific NaN value.\n\nWe wrote a function below to automate this process.",
   "metadata": {
    "tags": [],
    "cell_id": "00032-f59ebbbc-d1bf-4057-9c57-0e85e5fed9a7",
    "deepnote_cell_type": "markdown"
   }
  },
  {
   "cell_type": "code",
   "metadata": {
    "tags": [],
    "deepnote_to_be_reexecuted": false,
    "source_hash": "a4a02491",
    "execution_millis": 5,
    "execution_start": 1621522008694,
    "cell_id": "00033-a892b79e-6101-492d-9afe-3add0fa37e96",
    "deepnote_cell_type": "code"
   },
   "source": "def interpolation(column_list, energy):\n    for column in column_list:\n        index_list = energy[energy[column].isna()].index\n        for index in index_list:\n            lb = index - 10\n            up = index + 10\n            if ((energy.iloc[lb:up][column].isna()).sum() > 1):\n                temp = energy.iloc[lb:up][column]\n                indices = temp[temp.isna()].index\n                temp = temp.interpolate(method='quadratic', order=4)\n                for index in indices:\n                    energy.loc[index, column] = temp.loc[index]\n            else:\n                lb = index - 2\n                up = index + 2\n                temp = energy.iloc[lb: up][column]\n                temp = temp[~temp.isna()]\n                X = temp.index.values\n                y = temp.values\n                cs = CubicSpline(X , y)\n                energy.loc[index, column] = cs(index).item(0)",
   "execution_count": 14,
   "outputs": []
  },
  {
   "cell_type": "markdown",
   "source": "Call the function `interpolation` and pass in a list of columns that we want to interpolate and the `energy` dataframe.",
   "metadata": {
    "tags": [],
    "cell_id": "00034-c7f1d5ee-57e4-467e-a003-11296268b3a5",
    "deepnote_cell_type": "markdown"
   }
  },
  {
   "cell_type": "code",
   "metadata": {
    "tags": [],
    "deepnote_to_be_reexecuted": false,
    "source_hash": "6f734115",
    "execution_millis": 260,
    "execution_start": 1621522008705,
    "cell_id": "00035-cd375476-8aa1-4e76-96f3-5311b343a7ab",
    "deepnote_cell_type": "code"
   },
   "source": "interpolation(energy_list, energy)",
   "execution_count": 15,
   "outputs": []
  },
  {
   "cell_type": "markdown",
   "source": "We want to make sure there are no NaN or zero values in the `energy` dataframe before going into further analysis.",
   "metadata": {
    "tags": [],
    "cell_id": "00036-61a0bc15-411e-4e7e-8e2e-63228acd1635",
    "deepnote_cell_type": "markdown"
   }
  },
  {
   "cell_type": "code",
   "metadata": {
    "tags": [],
    "deepnote_to_be_reexecuted": false,
    "source_hash": "9226a2d2",
    "execution_millis": 14,
    "execution_start": 1621522008972,
    "cell_id": "00037-8593f356-d849-4697-bd63-e088e0a49852",
    "deepnote_cell_type": "code"
   },
   "source": "energy.loc[:,energy_list].isna().sum() + energy.loc[:,energy_list][energy.loc[:,energy_list] == 0].sum()",
   "execution_count": 16,
   "outputs": [
    {
     "output_type": "execute_result",
     "execution_count": 16,
     "data": {
      "text/plain": "biomass        0.0\nfossil_fuel    0.0\nhydro          0.0\nwind           0.0\nsolar          0.0\nnuclear        0.0\nwaste          0.0\nothers         0.0\ndtype: float64"
     },
     "metadata": {}
    }
   ]
  },
  {
   "cell_type": "markdown",
   "source": "There is no row with either zero values or NA values after interpolation.\n\nIn the next notebook, we will explore the time series of the major sources of energy generation and the relationships between some of the time series.",
   "metadata": {
    "tags": [],
    "cell_id": "00038-ef502ebc-3500-4265-bd14-b95746f6fcb1",
    "deepnote_cell_type": "markdown"
   }
  },
  {
   "cell_type": "markdown",
   "source": "<a style='text-decoration:none;line-height:16px;display:flex;color:#5B5B62;padding:10px;justify-content:end;' href='https://deepnote.com?utm_source=created-in-deepnote-cell&projectId=0623ba08-1bf2-4899-8295-01976760b872' target=\"_blank\">\n<img alt='Created in deepnote.com' style='display:inline;max-height:16px;margin:0px;margin-right:7.5px;' src='data:image/svg+xml;base64,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' > </img>\nCreated in <span style='font-weight:600;margin-left:4px;'>Deepnote</span></a>",
   "metadata": {
    "tags": [],
    "created_in_deepnote_cell": true,
    "deepnote_cell_type": "markdown"
   }
  }
 ],
 "nbformat": 4,
 "nbformat_minor": 2,
 "metadata": {
  "orig_nbformat": 2,
  "deepnote_notebook_id": "d0bc57bf-9391-47f2-bc1e-6cd0ef13b1e9",
  "deepnote": {},
  "deepnote_execution_queue": []
 }
}