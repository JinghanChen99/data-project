{
 "cells": [
  {
   "cell_type": "code",
   "metadata": {
    "tags": [],
    "cell_id": "00000-f0adb7f0-09ef-4db1-97e2-b3cd6eb18b66",
    "deepnote_to_be_reexecuted": false,
    "source_hash": "3c42ce7b",
    "execution_start": 1627605895152,
    "execution_millis": 109,
    "deepnote_cell_type": "code"
   },
   "source": "import requests\nfrom bs4 import BeautifulSoup\nimport pprint\nimport pandas as pd\nimport numpy as np\n\nfrom googlesearch import search\nfrom yahoo_finance import *",
   "outputs": [],
   "execution_count": null
  },
  {
   "cell_type": "markdown",
   "source": "### Web Scrap 64 FinTech Companies listed on Nasdaq",
   "metadata": {
    "tags": [],
    "cell_id": "00001-73077569-fb23-4ae4-9b49-d03092b29df6",
    "deepnote_cell_type": "markdown"
   }
  },
  {
   "cell_type": "code",
   "metadata": {
    "tags": [],
    "cell_id": "00001-78b09ccf-3e48-4dd0-b418-3491885d7f62",
    "deepnote_to_be_reexecuted": false,
    "source_hash": "3d40b5ed",
    "execution_start": 1627605895271,
    "execution_millis": 424,
    "deepnote_cell_type": "code"
   },
   "source": "headers = {'User-Agent': 'Mozilla/5.0 (Macintosh; Intel Mac OS X 10_10_1) AppleWebKit/537.36 (KHTML, like Gecko) Chrome/39.0.2171.95 Safari/537.36'}\nURL = 'https://index.co/list/22259-nasdaq-fintech/companies'\npage = requests.get(URL, headers = headers)\n\nsoup = BeautifulSoup(page.content, 'html.parser')",
   "outputs": [],
   "execution_count": null
  },
  {
   "cell_type": "code",
   "metadata": {
    "tags": [],
    "cell_id": "00002-18b875b0-82eb-4e75-80ce-c9e6c6ea0711",
    "deepnote_to_be_reexecuted": false,
    "source_hash": "1629b3f3",
    "execution_start": 1627605895707,
    "execution_millis": 21,
    "deepnote_cell_type": "code"
   },
   "source": "results = soup.find_all(\"h2\", {\"class\": \"c_identity-info-name\"})",
   "outputs": [],
   "execution_count": null
  },
  {
   "cell_type": "code",
   "metadata": {
    "tags": [],
    "cell_id": "00004-8c869490-23af-4d5d-8cae-68fd62010a60",
    "deepnote_to_be_reexecuted": false,
    "source_hash": "2176e5cb",
    "execution_start": 1627605895736,
    "execution_millis": 2,
    "deepnote_cell_type": "code"
   },
   "source": "nasdaq_fintech = []\nfor comp in results:\n    nasdaq_fintech.append(comp.text.strip('\\n'))",
   "outputs": [],
   "execution_count": null
  },
  {
   "cell_type": "code",
   "metadata": {
    "tags": [],
    "cell_id": "00005-3c83443e-eb2d-43ba-bf0c-bc978e3ce70d",
    "deepnote_to_be_reexecuted": false,
    "source_hash": "1e6b66f5",
    "execution_start": 1627605895746,
    "execution_millis": 3,
    "deepnote_cell_type": "code"
   },
   "source": "nasdaq_fintech = pd.DataFrame(nasdaq_fintech, columns=['Fintech_Comp_Name'])\n# nasdaq_fintech",
   "outputs": [],
   "execution_count": null
  },
  {
   "cell_type": "markdown",
   "source": "`name_convert` function: convert the name of the company to ticker",
   "metadata": {
    "tags": [],
    "cell_id": "00006-cb0608aa-35bf-4cee-9ddc-ec2493282640",
    "deepnote_cell_type": "markdown"
   }
  },
  {
   "cell_type": "code",
   "metadata": {
    "tags": [],
    "cell_id": "00007-e022a358-7730-4dee-ae17-6afc6d705b38",
    "deepnote_to_be_reexecuted": false,
    "source_hash": "fcdb3179",
    "execution_start": 1627605895758,
    "execution_millis": 4,
    "deepnote_cell_type": "code"
   },
   "source": "def name_convert(self):\n\n    searchval = 'yahoo finance ' + self\n    link = []\n    #limits to the first link\n    for url in search(searchval, tld='es', lang='es', stop=1):\n        link.append(url)\n\n    link = str(link[0])\n    link=link.split(\"/\")\n    if link[-1]=='':\n        ticker=link[-2]\n    else:\n        x=link[-1].split('=')\n        ticker=x[-1]\n\n    return(ticker)",
   "outputs": [],
   "execution_count": null
  },
  {
   "cell_type": "code",
   "metadata": {
    "tags": [],
    "cell_id": "00008-b55fdd13-43b6-4f73-bef7-e0e0d47628cf",
    "deepnote_to_be_reexecuted": false,
    "source_hash": "cd7fbf10",
    "execution_start": 1627605895770,
    "execution_millis": 20321,
    "deepnote_cell_type": "code"
   },
   "source": "# Testing\n# company_name=input(\"Enter a company name: \")\n# company=name_convert(company_name)\n# company",
   "outputs": [],
   "execution_count": null
  },
  {
   "cell_type": "code",
   "metadata": {
    "tags": [],
    "cell_id": "00008-09261c8a-9a7a-49a0-b42c-851cb72cc077",
    "deepnote_to_be_reexecuted": false,
    "source_hash": "1e2edd82",
    "execution_start": 1627605895777,
    "execution_millis": 174249,
    "deepnote_cell_type": "code"
   },
   "source": "nasdaq_fintech['Ticker'] = nasdaq_fintech['Fintech_Comp_Name'].apply(lambda x: name_convert(x))\nnasdaq_fintech",
   "outputs": [
    {
     "output_type": "execute_result",
     "execution_count": 8,
     "data": {
      "application/vnd.deepnote.dataframe.v2+json": {
       "row_count": 64,
       "column_count": 2,
       "columns": [
        {
         "name": "Fintech_Comp_Name",
         "dtype": "object",
         "stats": {
          "unique_count": 49,
          "nan_count": 0,
          "categories": [
           {
            "name": "PayPal",
            "count": 2
           },
           {
            "name": "Square",
            "count": 2
           },
           {
            "name": "47 others",
            "count": 60
           }
          ]
         }
        },
        {
         "name": "Ticker",
         "dtype": "object",
         "stats": {
          "unique_count": 49,
          "nan_count": 0,
          "categories": [
           {
            "name": "PYPL",
            "count": 2
           },
           {
            "name": "SQ",
            "count": 2
           },
           {
            "name": "47 others",
            "count": 60
           }
          ]
         }
        },
        {
         "name": "_deepnote_index_column",
         "dtype": "int64"
        }
       ],
       "rows_top": [
        {
         "Fintech_Comp_Name": "PayPal",
         "Ticker": "PYPL",
         "_deepnote_index_column": 0
        },
        {
         "Fintech_Comp_Name": "Square",
         "Ticker": "SQ",
         "_deepnote_index_column": 1
        },
        {
         "Fintech_Comp_Name": "Visa",
         "Ticker": "V",
         "_deepnote_index_column": 2
        },
        {
         "Fintech_Comp_Name": "MasterCard",
         "Ticker": "MA",
         "_deepnote_index_column": 3
        },
        {
         "Fintech_Comp_Name": "Nasdaq",
         "Ticker": "%5EIXIC",
         "_deepnote_index_column": 4
        },
        {
         "Fintech_Comp_Name": "Equifax",
         "Ticker": "EFX",
         "_deepnote_index_column": 5
        },
        {
         "Fintech_Comp_Name": "Fiserv",
         "Ticker": "FISV",
         "_deepnote_index_column": 6
        },
        {
         "Fintech_Comp_Name": "Thomson Reuters",
         "Ticker": "TRI",
         "_deepnote_index_column": 7
        },
        {
         "Fintech_Comp_Name": "American Express",
         "Ticker": "AXP",
         "_deepnote_index_column": 8
        },
        {
         "Fintech_Comp_Name": "Western Union",
         "Ticker": "WU",
         "_deepnote_index_column": 9
        },
        {
         "Fintech_Comp_Name": "First Data",
         "Ticker": "FDC",
         "_deepnote_index_column": 10
        },
        {
         "Fintech_Comp_Name": "Broadridge",
         "Ticker": "BR",
         "_deepnote_index_column": 11
        },
        {
         "Fintech_Comp_Name": "CBOE",
         "Ticker": "CBOE",
         "_deepnote_index_column": 12
        },
        {
         "Fintech_Comp_Name": "ACI Worldwide",
         "Ticker": "ACIW",
         "_deepnote_index_column": 13
        },
        {
         "Fintech_Comp_Name": "FIS",
         "Ticker": "FIS",
         "_deepnote_index_column": 14
        },
        {
         "Fintech_Comp_Name": "PayPal",
         "Ticker": "PYPL",
         "_deepnote_index_column": 15
        },
        {
         "Fintech_Comp_Name": "Square",
         "Ticker": "SQ",
         "_deepnote_index_column": 16
        },
        {
         "Fintech_Comp_Name": "Visa",
         "Ticker": "V",
         "_deepnote_index_column": 17
        },
        {
         "Fintech_Comp_Name": "MasterCard",
         "Ticker": "MA",
         "_deepnote_index_column": 18
        },
        {
         "Fintech_Comp_Name": "Nasdaq",
         "Ticker": "%5EIXIC",
         "_deepnote_index_column": 19
        },
        {
         "Fintech_Comp_Name": "Equifax",
         "Ticker": "EFX",
         "_deepnote_index_column": 20
        },
        {
         "Fintech_Comp_Name": "Fiserv",
         "Ticker": "FISV",
         "_deepnote_index_column": 21
        },
        {
         "Fintech_Comp_Name": "Thomson Reuters",
         "Ticker": "TRI",
         "_deepnote_index_column": 22
        },
        {
         "Fintech_Comp_Name": "American Express",
         "Ticker": "AXP",
         "_deepnote_index_column": 23
        },
        {
         "Fintech_Comp_Name": "Western Union",
         "Ticker": "WU",
         "_deepnote_index_column": 24
        },
        {
         "Fintech_Comp_Name": "Broadridge",
         "Ticker": "BR",
         "_deepnote_index_column": 25
        },
        {
         "Fintech_Comp_Name": "CBOE",
         "Ticker": "CBOE",
         "_deepnote_index_column": 26
        },
        {
         "Fintech_Comp_Name": "First Data",
         "Ticker": "FDC",
         "_deepnote_index_column": 27
        },
        {
         "Fintech_Comp_Name": "ACI Worldwide",
         "Ticker": "ACIW",
         "_deepnote_index_column": 28
        },
        {
         "Fintech_Comp_Name": "FIS",
         "Ticker": "FIS",
         "_deepnote_index_column": 29
        },
        {
         "Fintech_Comp_Name": "IHS Markit",
         "Ticker": "INFO",
         "_deepnote_index_column": 30
        },
        {
         "Fintech_Comp_Name": "Lending Club",
         "Ticker": "LC",
         "_deepnote_index_column": 31
        },
        {
         "Fintech_Comp_Name": "CME Group",
         "Ticker": "CME",
         "_deepnote_index_column": 32
        },
        {
         "Fintech_Comp_Name": "Envestnet",
         "Ticker": "ENV",
         "_deepnote_index_column": 33
        },
        {
         "Fintech_Comp_Name": "Global Payments Inc.",
         "Ticker": "GPN",
         "_deepnote_index_column": 34
        },
        {
         "Fintech_Comp_Name": "MSCI",
         "Ticker": "MSCI",
         "_deepnote_index_column": 35
        },
        {
         "Fintech_Comp_Name": "FactSet",
         "Ticker": "FDS",
         "_deepnote_index_column": 36
        },
        {
         "Fintech_Comp_Name": "TSYS",
         "Ticker": "tsys",
         "_deepnote_index_column": 37
        },
        {
         "Fintech_Comp_Name": "Intercontinental Exchange",
         "Ticker": "ICE",
         "_deepnote_index_column": 38
        },
        {
         "Fintech_Comp_Name": "Vantiv",
         "Ticker": "VNTV",
         "_deepnote_index_column": 39
        },
        {
         "Fintech_Comp_Name": "Cardtronics",
         "Ticker": "CATM",
         "_deepnote_index_column": 40
        },
        {
         "Fintech_Comp_Name": "S&P Global",
         "Ticker": "SPGI",
         "_deepnote_index_column": 41
        },
        {
         "Fintech_Comp_Name": "VeriFone",
         "Ticker": "pay",
         "_deepnote_index_column": 42
        },
        {
         "Fintech_Comp_Name": "MarketAxess",
         "Ticker": "MKTX",
         "_deepnote_index_column": 43
        },
        {
         "Fintech_Comp_Name": "WEX Inc.",
         "Ticker": "WEX",
         "_deepnote_index_column": 44
        },
        {
         "Fintech_Comp_Name": "SS&C Technologies",
         "Ticker": "SSNC",
         "_deepnote_index_column": 45
        },
        {
         "Fintech_Comp_Name": "Dun & Bradstreet",
         "Ticker": "DNB",
         "_deepnote_index_column": 46
        },
        {
         "Fintech_Comp_Name": "Green Dot",
         "Ticker": "GDOT",
         "_deepnote_index_column": 47
        },
        {
         "Fintech_Comp_Name": "Black Knight",
         "Ticker": "BKI",
         "_deepnote_index_column": 48
        },
        {
         "Fintech_Comp_Name": "Blackhawk Network",
         "Ticker": "HAWK",
         "_deepnote_index_column": 49
        },
        {
         "Fintech_Comp_Name": "Verisk Analytics",
         "Ticker": "VRSK",
         "_deepnote_index_column": 50
        },
        {
         "Fintech_Comp_Name": "Virtu Financial",
         "Ticker": "virt",
         "_deepnote_index_column": 51
        },
        {
         "Fintech_Comp_Name": "Euronet Worldwide",
         "Ticker": "EEFT",
         "_deepnote_index_column": 52
        },
        {
         "Fintech_Comp_Name": "Bankrate",
         "Ticker": "rates",
         "_deepnote_index_column": 53
        },
        {
         "Fintech_Comp_Name": "CoreLogic",
         "Ticker": "CLGX",
         "_deepnote_index_column": 54
        },
        {
         "Fintech_Comp_Name": "FLEETCOR",
         "Ticker": "FLT",
         "_deepnote_index_column": 55
        },
        {
         "Fintech_Comp_Name": "Moody's Corporation",
         "Ticker": "MCO",
         "_deepnote_index_column": 56
        },
        {
         "Fintech_Comp_Name": "FICO (Fair Isaac)",
         "Ticker": "FICO",
         "_deepnote_index_column": 57
        },
        {
         "Fintech_Comp_Name": "Jack Henry & Assoc.",
         "Ticker": "JKHY",
         "_deepnote_index_column": 58
        },
        {
         "Fintech_Comp_Name": "BofI Federal Bank",
         "Ticker": "BOFI",
         "_deepnote_index_column": 59
        },
        {
         "Fintech_Comp_Name": "EverBank Financial",
         "Ticker": "EVER",
         "_deepnote_index_column": 60
        },
        {
         "Fintech_Comp_Name": "EVERTEC",
         "Ticker": "EVTC",
         "_deepnote_index_column": 61
        },
        {
         "Fintech_Comp_Name": "SEI Investments",
         "Ticker": "SEIC",
         "_deepnote_index_column": 62
        },
        {
         "Fintech_Comp_Name": "Comenity",
         "Ticker": "SYF",
         "_deepnote_index_column": 63
        }
       ],
       "rows_bottom": null
      },
      "text/plain": "     Fintech_Comp_Name   Ticker\n0               PayPal     PYPL\n1               Square       SQ\n2                 Visa        V\n3           MasterCard       MA\n4               Nasdaq  %5EIXIC\n..                 ...      ...\n59   BofI Federal Bank     BOFI\n60  EverBank Financial     EVER\n61             EVERTEC     EVTC\n62     SEI Investments     SEIC\n63            Comenity      SYF\n\n[64 rows x 2 columns]",
      "text/html": "<div>\n<style scoped>\n    .dataframe tbody tr th:only-of-type {\n        vertical-align: middle;\n    }\n\n    .dataframe tbody tr th {\n        vertical-align: top;\n    }\n\n    .dataframe thead th {\n        text-align: right;\n    }\n</style>\n<table border=\"1\" class=\"dataframe\">\n  <thead>\n    <tr style=\"text-align: right;\">\n      <th></th>\n      <th>Fintech_Comp_Name</th>\n      <th>Ticker</th>\n    </tr>\n  </thead>\n  <tbody>\n    <tr>\n      <th>0</th>\n      <td>PayPal</td>\n      <td>PYPL</td>\n    </tr>\n    <tr>\n      <th>1</th>\n      <td>Square</td>\n      <td>SQ</td>\n    </tr>\n    <tr>\n      <th>2</th>\n      <td>Visa</td>\n      <td>V</td>\n    </tr>\n    <tr>\n      <th>3</th>\n      <td>MasterCard</td>\n      <td>MA</td>\n    </tr>\n    <tr>\n      <th>4</th>\n      <td>Nasdaq</td>\n      <td>%5EIXIC</td>\n    </tr>\n    <tr>\n      <th>...</th>\n      <td>...</td>\n      <td>...</td>\n    </tr>\n    <tr>\n      <th>59</th>\n      <td>BofI Federal Bank</td>\n      <td>BOFI</td>\n    </tr>\n    <tr>\n      <th>60</th>\n      <td>EverBank Financial</td>\n      <td>EVER</td>\n    </tr>\n    <tr>\n      <th>61</th>\n      <td>EVERTEC</td>\n      <td>EVTC</td>\n    </tr>\n    <tr>\n      <th>62</th>\n      <td>SEI Investments</td>\n      <td>SEIC</td>\n    </tr>\n    <tr>\n      <th>63</th>\n      <td>Comenity</td>\n      <td>SYF</td>\n    </tr>\n  </tbody>\n</table>\n<p>64 rows × 2 columns</p>\n</div>"
     },
     "metadata": {}
    }
   ],
   "execution_count": null
  },
  {
   "cell_type": "code",
   "metadata": {
    "tags": [],
    "cell_id": "00006-672965da-4179-40d8-b685-b07c88f907d7",
    "deepnote_to_be_reexecuted": false,
    "source_hash": "193d4011",
    "execution_start": 1627606070020,
    "execution_millis": 1,
    "deepnote_cell_type": "code"
   },
   "source": "# nasdaq_fintech.to_csv('nasdaq_fintech.csv', index=False)",
   "outputs": [],
   "execution_count": null
  },
  {
   "cell_type": "markdown",
   "source": "### Web Scrap over 500 fast growing FinTech Companies",
   "metadata": {
    "tags": [],
    "cell_id": "00005-030b08d6-57a0-4bf6-98b1-273e13f13f13",
    "deepnote_cell_type": "markdown"
   }
  },
  {
   "cell_type": "code",
   "metadata": {
    "tags": [],
    "cell_id": "00010-298b2225-815f-4b66-9416-4592e0885e6b",
    "deepnote_to_be_reexecuted": false,
    "source_hash": "70eac35c",
    "execution_start": 1627606070021,
    "execution_millis": 0,
    "deepnote_cell_type": "code"
   },
   "source": "add_on = ['']\nfor i in list(range(2, 7)):\n    add_on.append('/' + str(i))\n# add_on",
   "outputs": [],
   "execution_count": null
  },
  {
   "cell_type": "code",
   "metadata": {
    "tags": [],
    "cell_id": "00012-89295ee3-ee32-4377-9192-0afa499a8fc0",
    "deepnote_to_be_reexecuted": false,
    "source_hash": "d3223a14",
    "execution_start": 1627606070022,
    "execution_millis": 0,
    "deepnote_cell_type": "code"
   },
   "source": "URL = 'https://growjo.com/industry/Fintech'\nURLs = []\nfor i in add_on:\n    URLs.append(URL + i)\n# URLs",
   "outputs": [],
   "execution_count": null
  },
  {
   "cell_type": "code",
   "metadata": {
    "tags": [],
    "cell_id": "00016-13f3e95a-1dcc-4f0c-9343-271d54c26802",
    "deepnote_to_be_reexecuted": false,
    "source_hash": "466491be",
    "execution_start": 1627606070060,
    "execution_millis": 1916,
    "deepnote_cell_type": "code"
   },
   "source": "df = pd.DataFrame()\nfor link in URLs:\n    data = []\n    page = requests.get(link)\n    soup = BeautifulSoup(page.content, 'html.parser')\n    header = soup.find_all(\"table\")[0].find(\"tr\")\n    list_header = []\n    for items in header:\n        try:\n            list_header.append(items.get_text())\n        except:\n            continue\n    HTML_data = soup.find_all(\"table\")[0].find_all(\"tr\")[1:]\n    for element in HTML_data:\n        sub_data = []\n        for sub_element in element:\n            try:\n                sub_data.append(sub_element.get_text())\n            except:\n                continue\n        data.append(sub_data)\n    temp = pd.DataFrame(data = data, columns = list_header)\n    # print(temp)\n    df = df.append(temp)",
   "outputs": [],
   "execution_count": null
  },
  {
   "cell_type": "code",
   "metadata": {
    "tags": [],
    "cell_id": "00018-56336633-6fa7-4f07-b7af-62ca98c4d8de",
    "deepnote_to_be_reexecuted": false,
    "source_hash": "513c7579",
    "execution_start": 1627606071985,
    "execution_millis": 84,
    "deepnote_cell_type": "code"
   },
   "source": "df.set_index('Rank', inplace=True)\ndf",
   "outputs": [
    {
     "output_type": "execute_result",
     "execution_count": 13,
     "data": {
      "application/vnd.deepnote.dataframe.v2+json": {
       "row_count": 551,
       "column_count": 8,
       "columns": [
        {
         "name": "Company",
         "dtype": "object",
         "stats": {
          "unique_count": 533,
          "nan_count": 16,
          "categories": [
           {
            "name": "Next Insurance",
            "count": 2
           },
           {
            "name": "532 others",
            "count": 533
           },
           {
            "name": "Missing",
            "count": 16
           }
          ]
         }
        },
        {
         "name": "City",
         "dtype": "object",
         "stats": {
          "unique_count": 166,
          "nan_count": 16,
          "categories": [
           {
            "name": "New York",
            "count": 87
           },
           {
            "name": "165 others",
            "count": 448
           },
           {
            "name": "Missing",
            "count": 16
           }
          ]
         }
        },
        {
         "name": "State",
         "dtype": "object",
         "stats": {
          "unique_count": 59,
          "nan_count": 16,
          "categories": [
           {
            "name": "CA",
            "count": 146
           },
           {
            "name": "58 others",
            "count": 389
           },
           {
            "name": "Missing",
            "count": 16
           }
          ]
         }
        },
        {
         "name": "Country",
         "dtype": "object",
         "stats": {
          "unique_count": 26,
          "nan_count": 16,
          "categories": [
           {
            "name": "USA",
            "count": 387
           },
           {
            "name": "25 others",
            "count": 148
           },
           {
            "name": "Missing",
            "count": 16
           }
          ]
         }
        },
        {
         "name": "Funding",
         "dtype": "object",
         "stats": {
          "unique_count": 360,
          "nan_count": 16,
          "categories": [
           {
            "name": "",
            "count": 118
           },
           {
            "name": "359 others",
            "count": 417
           },
           {
            "name": "Missing",
            "count": 16
           }
          ]
         }
        },
        {
         "name": "Industry",
         "dtype": "object",
         "stats": {
          "unique_count": 36,
          "nan_count": 16,
          "categories": [
           {
            "name": "Fintech",
            "count": 194
           },
           {
            "name": "35 others",
            "count": 341
           },
           {
            "name": "Missing",
            "count": 16
           }
          ]
         }
        },
        {
         "name": "Employees",
         "dtype": "object",
         "stats": {
          "unique_count": 285,
          "nan_count": 16,
          "categories": [
           {
            "name": "102",
            "count": 8
           },
           {
            "name": "284 others",
            "count": 527
           },
           {
            "name": "Missing",
            "count": 16
           }
          ]
         }
        },
        {
         "name": "Predictive Score",
         "dtype": "object",
         "stats": {
          "unique_count": 289,
          "nan_count": 16,
          "categories": [
           {
            "name": "49",
            "count": 9
           },
           {
            "name": "288 others",
            "count": 526
           },
           {
            "name": "Missing",
            "count": 16
           }
          ]
         }
        },
        {
         "name": "_deepnote_index_column",
         "dtype": "object"
        }
       ],
       "rows_top": [
        {
         "Company": "BlockFi",
         "City": "New York",
         "State": "NY",
         "Country": "USA",
         "Funding": "$508.7M",
         "Industry": "Fintech",
         "Employees": "505",
         "Predictive Score": "1098",
         "_deepnote_index_column": "1"
        },
        {
         "Company": "Fast",
         "City": "San Francisco",
         "State": "CA",
         "Country": "USA",
         "Funding": "$124.5M",
         "Industry": "Fintech",
         "Employees": "148",
         "Predictive Score": "967",
         "_deepnote_index_column": "2"
        },
        {
         "Company": "Public.com",
         "City": "New York",
         "State": "NY",
         "Country": "USA",
         "Funding": "$308.5M",
         "Industry": "Fintech",
         "Employees": "102",
         "Predictive Score": "723",
         "_deepnote_index_column": "3"
        },
        {
         "Company": "Human Interest",
         "City": "San Francisco",
         "State": "CA",
         "Country": "USA",
         "Funding": "$136.7M",
         "Industry": "Investments",
         "Employees": "282",
         "Predictive Score": "710",
         "_deepnote_index_column": "4"
        },
        {
         "Company": "M1 Finance",
         "City": "Chicago",
         "State": "IL",
         "Country": "USA",
         "Funding": "$173.2M",
         "Industry": "Fintech",
         "Employees": "250",
         "Predictive Score": "696",
         "_deepnote_index_column": "5"
        },
        {
         "Company": "Fireblocks",
         "City": "New York",
         "State": "NY",
         "Country": "USA",
         "Funding": "$179M",
         "Industry": "Fintech",
         "Employees": "70",
         "Predictive Score": "669",
         "_deepnote_index_column": "6"
        },
        {
         "Company": "Chipper Cash",
         "City": "San Francisco",
         "State": "CA",
         "Country": "USA",
         "Funding": "$52.2M",
         "Industry": "Payments/Transfer",
         "Employees": "108",
         "Predictive Score": "660",
         "_deepnote_index_column": "7"
        },
        {
         "Company": "Finix",
         "City": "San Francisco",
         "State": "CA",
         "Country": "USA",
         "Funding": "$96M",
         "Industry": "Fintech",
         "Employees": "115",
         "Predictive Score": "648",
         "_deepnote_index_column": "8"
        },
        {
         "Company": "Corvus Insurance",
         "City": "Boston",
         "State": "MA",
         "Country": "USA",
         "Funding": "$145.8M",
         "Industry": "Fintech",
         "Employees": "151",
         "Predictive Score": "590",
         "_deepnote_index_column": "9"
        },
        {
         "Company": "HomeTown Ticketing",
         "City": "Columbus",
         "State": "OH",
         "Country": "USA",
         "Funding": "",
         "Industry": "Fintech",
         "Employees": "109",
         "Predictive Score": "584",
         "_deepnote_index_column": "10"
        },
        {
         "Company": "Greenlight Financial Technology",
         "City": "Atlanta",
         "State": "GA",
         "Country": "USA",
         "Funding": "$556.5M",
         "Industry": "Fintech",
         "Employees": "222",
         "Predictive Score": "568",
         "_deepnote_index_column": "11"
        },
        {
         "Company": "Brex",
         "City": "San Francisco",
         "State": "CA",
         "Country": "USA",
         "Funding": "$1.2B",
         "Industry": "Lending - Business",
         "Employees": "600",
         "Predictive Score": "556",
         "_deepnote_index_column": "12"
        },
        {
         "Company": "Symend",
         "City": "Calgary",
         "State": "AB",
         "Country": "CAN",
         "Funding": "$103.6M",
         "Industry": "Fintech",
         "Employees": "259",
         "Predictive Score": "554",
         "_deepnote_index_column": "13"
        },
        {
         "Company": "StartEngine",
         "City": "Los Angeles",
         "State": "CA",
         "Country": "USA",
         "Funding": "$37.6M",
         "Industry": "SaaS",
         "Employees": "137",
         "Predictive Score": "551",
         "_deepnote_index_column": "14"
        },
        {
         "Company": "Chainalysis",
         "City": "New York",
         "State": "NY",
         "Country": "USA",
         "Funding": "$266.6M",
         "Industry": "Blockchain",
         "Employees": "230",
         "Predictive Score": "550",
         "_deepnote_index_column": "15"
        },
        {
         "Company": "MANTL",
         "City": "New York",
         "State": "NY",
         "Country": "USA",
         "Funding": "$62.3M",
         "Industry": "Banking as a Service",
         "Employees": "77",
         "Predictive Score": "527",
         "_deepnote_index_column": "16"
        },
        {
         "Company": "Gravy",
         "City": "Cumming",
         "State": "",
         "Country": "",
         "Funding": "$7M",
         "Industry": "Fintech",
         "Employees": "95",
         "Predictive Score": "522",
         "_deepnote_index_column": "17"
        },
        {
         "Company": "EasyKnock",
         "City": "New York",
         "State": "NY",
         "Country": "USA",
         "Funding": "$344.7M",
         "Industry": "Investments - Real Estate",
         "Employees": "72",
         "Predictive Score": "509",
         "_deepnote_index_column": "18"
        },
        {
         "Company": "Varo Money",
         "City": "San Francisco",
         "State": "CA",
         "Country": "USA",
         "Funding": "$482.4M",
         "Industry": "Consumer Finance",
         "Employees": "373",
         "Predictive Score": "500",
         "_deepnote_index_column": "19"
        },
        {
         "Company": "Varo Bank",
         "City": "San Francisco",
         "State": "CA",
         "Country": "USA",
         "Funding": "$482.4M",
         "Industry": "Fintech",
         "Employees": "370",
         "Predictive Score": "499",
         "_deepnote_index_column": "20"
        },
        {
         "Company": "Clearcover",
         "City": "Chicago",
         "State": "IL",
         "Country": "USA",
         "Funding": "$304.5M",
         "Industry": "Insurance",
         "Employees": "204",
         "Predictive Score": "497",
         "_deepnote_index_column": "21"
        },
        {
         "Company": "Policygenius",
         "City": "New York",
         "State": "NY",
         "Country": "USA",
         "Funding": "$161M",
         "Industry": "Insurance",
         "Employees": "531",
         "Predictive Score": "496",
         "_deepnote_index_column": "22"
        },
        {
         "Company": "Trade Republic",
         "City": "Berlin",
         "State": "",
         "Country": "Germany",
         "Funding": "$151M",
         "Industry": "Investments",
         "Employees": "336",
         "Predictive Score": "485",
         "_deepnote_index_column": "23"
        },
        {
         "Company": "Marqeta",
         "City": "Oakland",
         "State": "CA",
         "Country": "USA",
         "Funding": "$528M",
         "Industry": "Payments/Transfer",
         "Employees": "563",
         "Predictive Score": "484",
         "_deepnote_index_column": "24"
        },
        {
         "Company": "Chainlink Labs",
         "City": "San Francisco",
         "State": "San Francisco",
         "Country": "USA",
         "Funding": "",
         "Industry": "Fintech",
         "Employees": "86",
         "Predictive Score": "467",
         "_deepnote_index_column": "25"
        },
        {
         "Company": "None",
         "City": "None",
         "State": "None",
         "Country": "None",
         "Funding": "None",
         "Industry": "None",
         "Employees": "None",
         "Predictive Score": "None",
         "_deepnote_index_column": ""
        },
        {
         "Company": "Figure",
         "City": "San Francisco",
         "State": "CA",
         "Country": "USA",
         "Funding": "$1.4B",
         "Industry": "Fintech",
         "Employees": "312",
         "Predictive Score": "464",
         "_deepnote_index_column": "26"
        },
        {
         "Company": "Chargebee",
         "City": "Walnut",
         "State": "CA",
         "Country": "USA",
         "Funding": "$218.2M",
         "Industry": "Fintech",
         "Employees": "591",
         "Predictive Score": "463",
         "_deepnote_index_column": "27"
        },
        {
         "Company": "Flutterwave",
         "City": "San Francisco ",
         "State": "CA",
         "Country": "USA",
         "Funding": "$234.7M",
         "Industry": "Payments/Transfer",
         "Employees": "369",
         "Predictive Score": "463",
         "_deepnote_index_column": "28"
        },
        {
         "Company": "Truework",
         "City": "San Francisco",
         "State": "CA",
         "Country": "USA",
         "Funding": "$44.9M",
         "Industry": "Fintech",
         "Employees": "111",
         "Predictive Score": "453",
         "_deepnote_index_column": "29"
        },
        {
         "Company": "Own Up",
         "City": "Boston",
         "State": "MA",
         "Country": "USA",
         "Funding": "$24.2M",
         "Industry": "Lending - Consumer",
         "Employees": "158",
         "Predictive Score": "450",
         "_deepnote_index_column": "30"
        },
        {
         "Company": "Pipe",
         "City": "San Francisco",
         "State": "CA",
         "Country": "USA",
         "Funding": "$216M",
         "Industry": "Fintech",
         "Employees": "85",
         "Predictive Score": "448",
         "_deepnote_index_column": "31"
        },
        {
         "Company": "Next Insurance",
         "City": "Palo Alto",
         "State": "CA",
         "Country": "USA",
         "Funding": "$881M",
         "Industry": "Insurance",
         "Employees": "501",
         "Predictive Score": "444",
         "_deepnote_index_column": "32"
        },
        {
         "Company": "Dapper Labs",
         "City": "Vancouver",
         "State": "BC",
         "Country": "CAN",
         "Funding": "$357.5M",
         "Industry": "Fintech",
         "Employees": "149",
         "Predictive Score": "441",
         "_deepnote_index_column": "33"
        },
        {
         "Company": "PayMongo",
         "City": "Taguig",
         "State": "",
         "Country": "",
         "Funding": "$14.7M",
         "Industry": "Fintech",
         "Employees": "71",
         "Predictive Score": "438",
         "_deepnote_index_column": "34"
        },
        {
         "Company": "Vouch Insurance",
         "City": "San Francisco",
         "State": "CA",
         "Country": "USA",
         "Funding": "$94.2M",
         "Industry": "Insurance",
         "Employees": "84",
         "Predictive Score": "434",
         "_deepnote_index_column": "35"
        },
        {
         "Company": "Petal",
         "City": "New York",
         "State": "NY",
         "Country": "USA",
         "Funding": "$562.2M",
         "Industry": "Payments/Transfer",
         "Employees": "120",
         "Predictive Score": "432",
         "_deepnote_index_column": "36"
        },
        {
         "Company": "Melio",
         "City": "New York",
         "State": "NY",
         "Country": "USA",
         "Funding": "$250M",
         "Industry": "Fintech",
         "Employees": "271",
         "Predictive Score": "419",
         "_deepnote_index_column": "37"
        },
        {
         "Company": "Pagaya Investments",
         "City": "New York",
         "State": "NY",
         "Country": "USA",
         "Funding": "$221.3M",
         "Industry": "Investments - Business",
         "Employees": "231",
         "Predictive Score": "416",
         "_deepnote_index_column": "38"
        },
        {
         "Company": "Rapyd",
         "City": "London",
         "State": "ENG",
         "Country": "UK",
         "Funding": "$470M",
         "Industry": "Payments/Transfer",
         "Employees": "247",
         "Predictive Score": "416",
         "_deepnote_index_column": "39"
        },
        {
         "Company": "Blend",
         "City": "San Francisco",
         "State": "CA",
         "Country": "USA",
         "Funding": "$665M",
         "Industry": "Financial SaaS",
         "Employees": "741",
         "Predictive Score": "414",
         "_deepnote_index_column": "40"
        },
        {
         "Company": "Pie Insurance",
         "City": "Washington",
         "State": "DC",
         "Country": "USA",
         "Funding": "$306M",
         "Industry": "Insurance",
         "Employees": "262",
         "Predictive Score": "412",
         "_deepnote_index_column": "41"
        },
        {
         "Company": "Beam Dental",
         "City": "Columbus",
         "State": "OH",
         "Country": "USA",
         "Funding": "$168.4M",
         "Industry": "Insurance",
         "Employees": "253",
         "Predictive Score": "411",
         "_deepnote_index_column": "42"
        },
        {
         "Company": "iCapital Network",
         "City": "New York",
         "State": "NY",
         "Country": "USA",
         "Funding": "$239.2M",
         "Industry": "Investments - Business",
         "Employees": "400",
         "Predictive Score": "410",
         "_deepnote_index_column": "43"
        },
        {
         "Company": "Socure",
         "City": "New York",
         "State": "NY",
         "Country": "USA",
         "Funding": "$196.9M",
         "Industry": "Compliance SaaS",
         "Employees": "230",
         "Predictive Score": "394",
         "_deepnote_index_column": "44"
        },
        {
         "Company": "The Zebra",
         "City": "Austin",
         "State": "TX",
         "Country": "USA",
         "Funding": "$256.5M",
         "Industry": "Insurance",
         "Employees": "289",
         "Predictive Score": "394",
         "_deepnote_index_column": "45"
        },
        {
         "Company": "MotoRefi",
         "City": "Arlington",
         "State": "VA",
         "Country": "USA",
         "Funding": "$24.1M",
         "Industry": "Fintech",
         "Employees": "107",
         "Predictive Score": "393",
         "_deepnote_index_column": "46"
        },
        {
         "Company": "Addepar",
         "City": "Mountain View",
         "State": "CA",
         "Country": "USA",
         "Funding": "$322.8M",
         "Industry": "Financial SaaS",
         "Employees": "436",
         "Predictive Score": "390",
         "_deepnote_index_column": "47"
        },
        {
         "Company": "Dave",
         "City": "Los Angeles",
         "State": "CA",
         "Country": "USA",
         "Funding": "$173M",
         "Industry": "Fintech",
         "Employees": "169",
         "Predictive Score": "385",
         "_deepnote_index_column": "48"
        },
        {
         "Company": "Lendistry",
         "City": "Brea",
         "State": "CA",
         "Country": "USA",
         "Funding": "$1.5M",
         "Industry": "Lending - Consumer",
         "Employees": "111",
         "Predictive Score": "380",
         "_deepnote_index_column": "49"
        },
        {
         "Company": "At-Bay",
         "City": "Mountain View",
         "State": "CA",
         "Country": "USA",
         "Funding": "$87M",
         "Industry": "Insurance",
         "Employees": "95",
         "Predictive Score": "378",
         "_deepnote_index_column": "50"
        },
        {
         "Company": "None",
         "City": "None",
         "State": "None",
         "Country": "None",
         "Funding": "None",
         "Industry": "None",
         "Employees": "None",
         "Predictive Score": "None",
         "_deepnote_index_column": ""
        },
        {
         "Company": "Reggora",
         "City": "Boston",
         "State": "MA",
         "Country": "USA",
         "Funding": "$43.9M",
         "Industry": "SaaS",
         "Employees": "93",
         "Predictive Score": "374",
         "_deepnote_index_column": "51"
        },
        {
         "Company": "Deserve",
         "City": "Menlo Park",
         "State": "CA",
         "Country": "USA",
         "Funding": "$237.1M",
         "Industry": "Fintech",
         "Employees": "114",
         "Predictive Score": "373",
         "_deepnote_index_column": "52"
        },
        {
         "Company": "Mati",
         "City": "San Francisco",
         "State": "CA",
         "Country": "USA",
         "Funding": "$16.5M",
         "Industry": "Fintech",
         "Employees": "81",
         "Predictive Score": "372",
         "_deepnote_index_column": "53"
        },
        {
         "Company": "Truebill",
         "City": "San Francisco",
         "State": "CA",
         "Country": "USA",
         "Funding": "$38.9M",
         "Industry": "Fintech",
         "Employees": "85",
         "Predictive Score": "368",
         "_deepnote_index_column": "54"
        },
        {
         "Company": "Chime",
         "City": "San Francisco",
         "State": "CA",
         "Country": "USA",
         "Funding": "$1.5B",
         "Industry": "Consumer Finance",
         "Employees": "888",
         "Predictive Score": "362",
         "_deepnote_index_column": "55"
        },
        {
         "Company": "Sezzle",
         "City": "Minneapolis",
         "State": "MN",
         "Country": "USA",
         "Funding": "$271.6M",
         "Industry": "Fintech: Payments",
         "Employees": "313",
         "Predictive Score": "357",
         "_deepnote_index_column": "56"
        },
        {
         "Company": "Wealthsimple",
         "City": "Toronto",
         "State": "ON",
         "Country": "CAN",
         "Funding": "$380.9M",
         "Industry": "Fintech: Consumer",
         "Employees": "597",
         "Predictive Score": "355",
         "_deepnote_index_column": "57"
        },
        {
         "Company": "Self Financial",
         "City": "Austin",
         "State": "TX",
         "Country": "USA",
         "Funding": "$77M",
         "Industry": "Fintech",
         "Employees": "165",
         "Predictive Score": "352",
         "_deepnote_index_column": "58"
        },
        {
         "Company": "QuadPay",
         "City": "New York",
         "State": "NY",
         "Country": "USA",
         "Funding": "",
         "Industry": "Payments/Transfer",
         "Employees": "157",
         "Predictive Score": "349",
         "_deepnote_index_column": "59"
        },
        {
         "Company": "Behavox",
         "City": "New York",
         "State": "NY",
         "Country": "USA",
         "Funding": "$121.4M",
         "Industry": "Financial SaaS",
         "Employees": "201",
         "Predictive Score": "349",
         "_deepnote_index_column": "60"
        }
       ],
       "rows_bottom": [
        {
         "Company": "Canoe",
         "City": "",
         "State": "",
         "Country": "",
         "Funding": "",
         "Industry": "Investments",
         "Employees": "38",
         "Predictive Score": "47",
         "_deepnote_index_column": "475"
        },
        {
         "Company": "None",
         "City": "None",
         "State": "None",
         "Country": "None",
         "Funding": "None",
         "Industry": "None",
         "Employees": "None",
         "Predictive Score": "None",
         "_deepnote_index_column": ""
        },
        {
         "Company": "OKCoin",
         "City": "San Francisco",
         "State": "CA",
         "Country": "USA",
         "Funding": "",
         "Industry": "Fintech",
         "Employees": "261",
         "Predictive Score": "47",
         "_deepnote_index_column": "476"
        },
        {
         "Company": "i3 Verticals",
         "City": "Nashville",
         "State": "TN",
         "Country": "USA",
         "Funding": "$30.8M",
         "Industry": "Payments/Transfer",
         "Employees": "140",
         "Predictive Score": "46",
         "_deepnote_index_column": "477"
        },
        {
         "Company": "Green Street",
         "City": "Newport Beach",
         "State": "CA",
         "Country": "USA",
         "Funding": "",
         "Industry": "Fintech",
         "Employees": "325",
         "Predictive Score": "46",
         "_deepnote_index_column": "478"
        },
        {
         "Company": "Paymentus",
         "City": "Charlotte",
         "State": "NC",
         "Country": "USA",
         "Funding": "$3.4M",
         "Industry": "Fintech: Payments",
         "Employees": "489",
         "Predictive Score": "46",
         "_deepnote_index_column": "479"
        },
        {
         "Company": "Savana",
         "City": "Malvern",
         "State": "PA",
         "Country": "USA",
         "Funding": "",
         "Industry": "Fintech",
         "Employees": "69",
         "Predictive Score": "46",
         "_deepnote_index_column": "480"
        },
        {
         "Company": "Singapore Life",
         "City": "Singapore",
         "State": "",
         "Country": "Singapore",
         "Funding": "$173M",
         "Industry": "Insurance",
         "Employees": "102",
         "Predictive Score": "45",
         "_deepnote_index_column": "481"
        },
        {
         "Company": "Anovaa",
         "City": "Malvern",
         "State": "PA",
         "Country": "USA",
         "Funding": "",
         "Industry": "Fintech",
         "Employees": "44",
         "Predictive Score": "45",
         "_deepnote_index_column": "482"
        },
        {
         "Company": "S3 Partners",
         "City": "New York",
         "State": "NY",
         "Country": "USA",
         "Funding": "",
         "Industry": "Compliance SaaS",
         "Employees": "51",
         "Predictive Score": "44",
         "_deepnote_index_column": "483"
        },
        {
         "Company": "Payzer",
         "City": "Charlotte",
         "State": "NC",
         "Country": "USA",
         "Funding": "$19.2M",
         "Industry": "Fintech: Payments",
         "Employees": "108",
         "Predictive Score": "43",
         "_deepnote_index_column": "484"
        },
        {
         "Company": "Tendermint",
         "City": "Berkeley",
         "State": "CA",
         "Country": "USA",
         "Funding": "$9M",
         "Industry": "Blockchain",
         "Employees": "47",
         "Predictive Score": "43",
         "_deepnote_index_column": "485"
        },
        {
         "Company": "Extend Enterprises",
         "City": "New York",
         "State": "NY",
         "Country": "USA",
         "Funding": "$14M",
         "Industry": "Technology",
         "Employees": "49",
         "Predictive Score": "43",
         "_deepnote_index_column": "486"
        },
        {
         "Company": "Fattmerchant",
         "City": "Orlando",
         "State": "FL",
         "Country": "USA",
         "Funding": "$18.3M",
         "Industry": "Payments/Transfer",
         "Employees": "116",
         "Predictive Score": "43",
         "_deepnote_index_column": "487"
        },
        {
         "Company": "CoverWallet",
         "City": "New York",
         "State": "NY",
         "Country": "USA",
         "Funding": "$28.3M",
         "Industry": "Insurance",
         "Employees": "332",
         "Predictive Score": "42",
         "_deepnote_index_column": "488"
        },
        {
         "Company": "Biz2Credit",
         "City": "Noida",
         "State": "UP",
         "Country": "India",
         "Funding": "$387M",
         "Industry": "Lending - Business",
         "Employees": "350",
         "Predictive Score": "41",
         "_deepnote_index_column": "489"
        },
        {
         "Company": "Acumatica",
         "City": "Bellevue",
         "State": "WA",
         "Country": "USA",
         "Funding": "$48.3M",
         "Industry": "Accounting",
         "Employees": "290",
         "Predictive Score": "41",
         "_deepnote_index_column": "490"
        },
        {
         "Company": "Alan",
         "City": "",
         "State": "",
         "Country": "France",
         "Funding": "$374M",
         "Industry": "Insurance",
         "Employees": "288",
         "Predictive Score": "40",
         "_deepnote_index_column": "491"
        },
        {
         "Company": "OpenGamma",
         "City": "London",
         "State": "WA",
         "Country": "USA",
         "Funding": "$50.2M",
         "Industry": "Compliance SaaS",
         "Employees": "69",
         "Predictive Score": "40",
         "_deepnote_index_column": "492"
        },
        {
         "Company": "AZLO",
         "City": "San Francisco",
         "State": "CA",
         "Country": "USA",
         "Funding": "",
         "Industry": "Lending - Business",
         "Employees": "139",
         "Predictive Score": "39",
         "_deepnote_index_column": "493"
        },
        {
         "Company": "Capital On Tap",
         "City": "London",
         "State": "ENG",
         "Country": "UK",
         "Funding": "Â£140M",
         "Industry": "Lending - Business",
         "Employees": "125",
         "Predictive Score": "38",
         "_deepnote_index_column": "494"
        },
        {
         "Company": "Kyriba",
         "City": "San Diego",
         "State": "CA",
         "Country": "USA",
         "Funding": "$152.5M",
         "Industry": "Financial SaaS",
         "Employees": "873",
         "Predictive Score": "38",
         "_deepnote_index_column": "495"
        },
        {
         "Company": "Lemonway",
         "City": "Paris",
         "State": "",
         "Country": "France",
         "Funding": "",
         "Industry": "Fintech",
         "Employees": "142",
         "Predictive Score": "37",
         "_deepnote_index_column": "496"
        },
        {
         "Company": "FundThrough",
         "City": "Toronto",
         "State": "ON",
         "Country": "CAN",
         "Funding": "$122.2M",
         "Industry": "Fintech: Payments",
         "Employees": "61",
         "Predictive Score": "37",
         "_deepnote_index_column": "497"
        },
        {
         "Company": "Wealth Access",
         "City": "Nashville",
         "State": "TN",
         "Country": "USA",
         "Funding": "$8M",
         "Industry": "SaaS",
         "Employees": "80",
         "Predictive Score": "37",
         "_deepnote_index_column": "498"
        },
        {
         "Company": "Earnest",
         "City": "San Francisco",
         "State": "CA",
         "Country": "USA",
         "Funding": "$316.3M",
         "Industry": "Fintech",
         "Employees": "210",
         "Predictive Score": "37",
         "_deepnote_index_column": "499"
        },
        {
         "Company": "Mash - We say yes",
         "City": "Helsinki",
         "State": "UU",
         "Country": "Finland",
         "Funding": "€138M",
         "Industry": "Payments/Transfer",
         "Employees": "313",
         "Predictive Score": "36",
         "_deepnote_index_column": "500"
        },
        {
         "Company": "PayIt",
         "City": "Kansas City",
         "State": "MO",
         "Country": "USA",
         "Funding": "$104.5M",
         "Industry": "Fintech: Payments",
         "Employees": "112",
         "Predictive Score": "36",
         "_deepnote_index_column": "501"
        },
        {
         "Company": "TaxJar",
         "City": "Woburn",
         "State": "MA",
         "Country": "USA",
         "Funding": "$62.6M",
         "Industry": "Accounting",
         "Employees": "189",
         "Predictive Score": "35",
         "_deepnote_index_column": "502"
        },
        {
         "Company": "Zafin",
         "City": "Toronto",
         "State": "ON",
         "Country": "CAN",
         "Funding": "$47.2M",
         "Industry": "Banking as a Service",
         "Employees": "417",
         "Predictive Score": "35",
         "_deepnote_index_column": "503"
        },
        {
         "Company": "CITCON",
         "City": "Santa Clara",
         "State": "CA",
         "Country": "USA",
         "Funding": "$18M",
         "Industry": "Payments/Transfer",
         "Employees": "44",
         "Predictive Score": "35",
         "_deepnote_index_column": "504"
        },
        {
         "Company": "Featurespace",
         "City": "Cambridge",
         "State": "MA",
         "Country": "UK",
         "Funding": "$107.9M",
         "Industry": "Fintech",
         "Employees": "327",
         "Predictive Score": "34",
         "_deepnote_index_column": "505"
        },
        {
         "Company": "Technisys",
         "City": "Miami",
         "State": "FL",
         "Country": "USA",
         "Funding": "$64M",
         "Industry": "Fintech",
         "Employees": "923",
         "Predictive Score": "33",
         "_deepnote_index_column": "506"
        },
        {
         "Company": "Soldo",
         "City": "",
         "State": "",
         "Country": "UK",
         "Funding": "",
         "Industry": "Fintech",
         "Employees": "199",
         "Predictive Score": "33",
         "_deepnote_index_column": "507"
        },
        {
         "Company": "LendingFront",
         "City": "Newark",
         "State": "NJ",
         "Country": "USA",
         "Funding": "$4M",
         "Industry": "Payments/Transfer",
         "Employees": "61",
         "Predictive Score": "32",
         "_deepnote_index_column": "508"
        },
        {
         "Company": "Bank Novo",
         "City": "New York",
         "State": "NY",
         "Country": "USA",
         "Funding": "$4.8M",
         "Industry": "Fintech",
         "Employees": "58",
         "Predictive Score": "32",
         "_deepnote_index_column": "509"
        },
        {
         "Company": "Masabi",
         "City": "London",
         "State": "ENG",
         "Country": "UK",
         "Funding": "$40.8M",
         "Industry": "FinTech",
         "Employees": "142",
         "Predictive Score": "30",
         "_deepnote_index_column": "510"
        },
        {
         "Company": "Usio",
         "City": "San Antonio",
         "State": "TX",
         "Country": "USA",
         "Funding": "",
         "Industry": "Fintech",
         "Employees": "51",
         "Predictive Score": "29",
         "_deepnote_index_column": "511"
        },
        {
         "Company": "dv01",
         "City": "New York",
         "State": "NY",
         "Country": "USA",
         "Funding": "$34M",
         "Industry": "Fintech",
         "Employees": "89",
         "Predictive Score": "29",
         "_deepnote_index_column": "512"
        },
        {
         "Company": "Grabango",
         "City": "Berkeley",
         "State": "CA",
         "Country": "USA",
         "Funding": "$32.2M",
         "Industry": "Payments/Transfer",
         "Employees": "66",
         "Predictive Score": "29",
         "_deepnote_index_column": "513"
        },
        {
         "Company": "Loantap Financial Technologies",
         "City": "Pune",
         "State": "",
         "Country": "India",
         "Funding": "$21.2M",
         "Industry": "Lending - Consumer",
         "Employees": "102",
         "Predictive Score": "28",
         "_deepnote_index_column": "514"
        },
        {
         "Company": "Delio",
         "City": "Cardiff",
         "State": "Wal",
         "Country": "UK",
         "Funding": "",
         "Industry": "FinTech",
         "Employees": "68",
         "Predictive Score": "28",
         "_deepnote_index_column": "515"
        },
        {
         "Company": "SIB Fixed Cost Reduction",
         "City": "Charleston",
         "State": "",
         "Country": "",
         "Funding": "$94.4M",
         "Industry": "Fintech",
         "Employees": "70",
         "Predictive Score": "28",
         "_deepnote_index_column": "516"
        },
        {
         "Company": "Forward Financing",
         "City": "Boston",
         "State": "MA",
         "Country": "USA",
         "Funding": "$90M",
         "Industry": "Lending - Business",
         "Employees": "145",
         "Predictive Score": "28",
         "_deepnote_index_column": "517"
        },
        {
         "Company": "Paymentsense",
         "City": "London",
         "State": "ENG",
         "Country": "UK",
         "Funding": "$415M",
         "Industry": "Payments/Transfer",
         "Employees": "997",
         "Predictive Score": "27",
         "_deepnote_index_column": "518"
        },
        {
         "Company": "wefox Group",
         "City": "Berlin",
         "State": "",
         "Country": "Germany",
         "Funding": "",
         "Industry": "Insurance",
         "Employees": "414",
         "Predictive Score": "27",
         "_deepnote_index_column": "519"
        },
        {
         "Company": "Standard Cognition",
         "City": "San Francisco",
         "State": "CA",
         "Country": "USA",
         "Funding": "$238.5M",
         "Industry": "Payments/Transfer",
         "Employees": "133",
         "Predictive Score": "24",
         "_deepnote_index_column": "520"
        },
        {
         "Company": "Digit Insurance",
         "City": "Bengaluru",
         "State": "KA",
         "Country": "India",
         "Funding": "$244.5M",
         "Industry": "Insurance",
         "Employees": "917",
         "Predictive Score": "24",
         "_deepnote_index_column": "521"
        },
        {
         "Company": "WeLab",
         "City": "Sheung Wan",
         "State": "",
         "Country": "Hong Kong",
         "Funding": "$425M",
         "Industry": "Compliance SaaS",
         "Employees": "179",
         "Predictive Score": "24",
         "_deepnote_index_column": "522"
        },
        {
         "Company": "RiskLens",
         "City": "Spokane",
         "State": "WA",
         "Country": "USA",
         "Funding": "$26.8M",
         "Industry": "Payments/Transfer",
         "Employees": "104",
         "Predictive Score": "24",
         "_deepnote_index_column": "523"
        },
        {
         "Company": "EBANX",
         "City": "Curitiba",
         "State": "PR",
         "Country": "Brazil",
         "Funding": "$30M",
         "Industry": "Fintech",
         "Employees": "764",
         "Predictive Score": "23",
         "_deepnote_index_column": "524"
        },
        {
         "Company": "Otis",
         "City": "New York",
         "State": "NY",
         "Country": "USA",
         "Funding": "$14.5M",
         "Industry": "Investments",
         "Employees": "80",
         "Predictive Score": "22",
         "_deepnote_index_column": "525"
        },
        {
         "Company": "None",
         "City": "None",
         "State": "None",
         "Country": "None",
         "Funding": "None",
         "Industry": "None",
         "Employees": "None",
         "Predictive Score": "None",
         "_deepnote_index_column": ""
        },
        {
         "Company": "Shift Technology",
         "City": "Paris",
         "State": "",
         "Country": "France",
         "Funding": "$100M",
         "Industry": "Fintech",
         "Employees": "291",
         "Predictive Score": "21",
         "_deepnote_index_column": "526"
        },
        {
         "Company": "Ondot Systems",
         "City": "Santa Clara",
         "State": "CA",
         "Country": "USA",
         "Funding": "$58.5M",
         "Industry": "Payments/Transfer",
         "Employees": "245",
         "Predictive Score": "20",
         "_deepnote_index_column": "527"
        },
        {
         "Company": "Greenshades Software",
         "City": "Jacksonville",
         "State": "FL",
         "Country": "USA",
         "Funding": "",
         "Industry": "FinTech - SaaS",
         "Employees": "128",
         "Predictive Score": "20",
         "_deepnote_index_column": "528"
        },
        {
         "Company": "Ellevest",
         "City": "New York ",
         "State": "NY",
         "Country": "USA",
         "Funding": "$91.4M",
         "Industry": "Consumer Finance",
         "Employees": "109",
         "Predictive Score": "20",
         "_deepnote_index_column": "529"
        },
        {
         "Company": "Point Digital Finance",
         "City": "Palo Alto",
         "State": "CA",
         "Country": "USA",
         "Funding": "$30.4M",
         "Industry": "Investments - Real Estate",
         "Employees": "148",
         "Predictive Score": "20",
         "_deepnote_index_column": "530"
        },
        {
         "Company": "LANDBAY",
         "City": "London",
         "State": "ENG",
         "Country": "UK",
         "Funding": "$1.6B",
         "Industry": "Lending - Consumer",
         "Employees": "95",
         "Predictive Score": "18",
         "_deepnote_index_column": "531"
        },
        {
         "Company": "GreenSky®",
         "City": "Atlanta",
         "State": "GA",
         "Country": "Georgia",
         "Funding": "",
         "Industry": "Lending - Consumer",
         "Employees": "953",
         "Predictive Score": "16",
         "_deepnote_index_column": "532"
        },
        {
         "Company": "Dharma",
         "City": "San Francisco",
         "State": "CA",
         "Country": "USA",
         "Funding": "$7.1M",
         "Industry": "Fintech",
         "Employees": "61",
         "Predictive Score": "16",
         "_deepnote_index_column": "533"
        },
        {
         "Company": "IMMO Investment Technologies",
         "City": "London",
         "State": "ENG",
         "Country": "UK",
         "Funding": "",
         "Industry": "Fintech",
         "Employees": "44",
         "Predictive Score": "15",
         "_deepnote_index_column": "534"
        },
        {
         "Company": "Boardwalktech",
         "City": "Cupertino",
         "State": "CA",
         "Country": "USA",
         "Funding": "$18.8M",
         "Industry": "Blockchain",
         "Employees": "51",
         "Predictive Score": "13",
         "_deepnote_index_column": "535"
        }
       ]
      },
      "text/plain": "                           Company           City State  Country  Funding  \\\nRank                                                                        \n1                          BlockFi       New York    NY      USA  $508.7M   \n2                             Fast  San Francisco    CA      USA  $124.5M   \n3                       Public.com       New York    NY      USA  $308.5M   \n4                   Human Interest  San Francisco    CA      USA  $136.7M   \n5                       M1 Finance        Chicago    IL      USA  $173.2M   \n...                            ...            ...   ...      ...      ...   \n531                        LANDBAY         London   ENG       UK    $1.6B   \n532                      GreenSky®        Atlanta    GA  Georgia            \n533                         Dharma  San Francisco    CA      USA    $7.1M   \n534   IMMO Investment Technologies         London   ENG       UK            \n535                  Boardwalktech      Cupertino    CA      USA   $18.8M   \n\n                Industry Employees Predictive Score  \nRank                                                 \n1                Fintech       505             1098  \n2                Fintech       148              967  \n3                Fintech       102              723  \n4            Investments       282              710  \n5                Fintech       250              696  \n...                  ...       ...              ...  \n531   Lending - Consumer        95               18  \n532   Lending - Consumer       953               16  \n533              Fintech        61               16  \n534              Fintech        44               15  \n535           Blockchain        51               13  \n\n[551 rows x 8 columns]",
      "text/html": "<div>\n<style scoped>\n    .dataframe tbody tr th:only-of-type {\n        vertical-align: middle;\n    }\n\n    .dataframe tbody tr th {\n        vertical-align: top;\n    }\n\n    .dataframe thead th {\n        text-align: right;\n    }\n</style>\n<table border=\"1\" class=\"dataframe\">\n  <thead>\n    <tr style=\"text-align: right;\">\n      <th></th>\n      <th>Company</th>\n      <th>City</th>\n      <th>State</th>\n      <th>Country</th>\n      <th>Funding</th>\n      <th>Industry</th>\n      <th>Employees</th>\n      <th>Predictive Score</th>\n    </tr>\n    <tr>\n      <th>Rank</th>\n      <th></th>\n      <th></th>\n      <th></th>\n      <th></th>\n      <th></th>\n      <th></th>\n      <th></th>\n      <th></th>\n    </tr>\n  </thead>\n  <tbody>\n    <tr>\n      <th>1</th>\n      <td>BlockFi</td>\n      <td>New York</td>\n      <td>NY</td>\n      <td>USA</td>\n      <td>$508.7M</td>\n      <td>Fintech</td>\n      <td>505</td>\n      <td>1098</td>\n    </tr>\n    <tr>\n      <th>2</th>\n      <td>Fast</td>\n      <td>San Francisco</td>\n      <td>CA</td>\n      <td>USA</td>\n      <td>$124.5M</td>\n      <td>Fintech</td>\n      <td>148</td>\n      <td>967</td>\n    </tr>\n    <tr>\n      <th>3</th>\n      <td>Public.com</td>\n      <td>New York</td>\n      <td>NY</td>\n      <td>USA</td>\n      <td>$308.5M</td>\n      <td>Fintech</td>\n      <td>102</td>\n      <td>723</td>\n    </tr>\n    <tr>\n      <th>4</th>\n      <td>Human Interest</td>\n      <td>San Francisco</td>\n      <td>CA</td>\n      <td>USA</td>\n      <td>$136.7M</td>\n      <td>Investments</td>\n      <td>282</td>\n      <td>710</td>\n    </tr>\n    <tr>\n      <th>5</th>\n      <td>M1 Finance</td>\n      <td>Chicago</td>\n      <td>IL</td>\n      <td>USA</td>\n      <td>$173.2M</td>\n      <td>Fintech</td>\n      <td>250</td>\n      <td>696</td>\n    </tr>\n    <tr>\n      <th>...</th>\n      <td>...</td>\n      <td>...</td>\n      <td>...</td>\n      <td>...</td>\n      <td>...</td>\n      <td>...</td>\n      <td>...</td>\n      <td>...</td>\n    </tr>\n    <tr>\n      <th>531</th>\n      <td>LANDBAY</td>\n      <td>London</td>\n      <td>ENG</td>\n      <td>UK</td>\n      <td>$1.6B</td>\n      <td>Lending - Consumer</td>\n      <td>95</td>\n      <td>18</td>\n    </tr>\n    <tr>\n      <th>532</th>\n      <td>GreenSky®</td>\n      <td>Atlanta</td>\n      <td>GA</td>\n      <td>Georgia</td>\n      <td></td>\n      <td>Lending - Consumer</td>\n      <td>953</td>\n      <td>16</td>\n    </tr>\n    <tr>\n      <th>533</th>\n      <td>Dharma</td>\n      <td>San Francisco</td>\n      <td>CA</td>\n      <td>USA</td>\n      <td>$7.1M</td>\n      <td>Fintech</td>\n      <td>61</td>\n      <td>16</td>\n    </tr>\n    <tr>\n      <th>534</th>\n      <td>IMMO Investment Technologies</td>\n      <td>London</td>\n      <td>ENG</td>\n      <td>UK</td>\n      <td></td>\n      <td>Fintech</td>\n      <td>44</td>\n      <td>15</td>\n    </tr>\n    <tr>\n      <th>535</th>\n      <td>Boardwalktech</td>\n      <td>Cupertino</td>\n      <td>CA</td>\n      <td>USA</td>\n      <td>$18.8M</td>\n      <td>Blockchain</td>\n      <td>51</td>\n      <td>13</td>\n    </tr>\n  </tbody>\n</table>\n<p>551 rows × 8 columns</p>\n</div>"
     },
     "metadata": {}
    }
   ],
   "execution_count": null
  },
  {
   "cell_type": "code",
   "metadata": {
    "tags": [],
    "cell_id": "00016-b49d8c86-b170-44be-ba37-80a42641d1bd",
    "deepnote_to_be_reexecuted": false,
    "source_hash": "60139f17",
    "execution_start": 1627606072067,
    "execution_millis": 2,
    "deepnote_cell_type": "code"
   },
   "source": "# df.to_csv('500_growing_fintech.csv', index=False)",
   "outputs": [],
   "execution_count": null
  },
  {
   "cell_type": "code",
   "metadata": {
    "tags": [],
    "cell_id": "00013-e9d88f68-1be8-4bd8-9986-4804ac70242f",
    "deepnote_to_be_reexecuted": false,
    "source_hash": "b623e53d",
    "execution_start": 1627606072075,
    "execution_millis": 2759967139,
    "deepnote_cell_type": "code"
   },
   "source": "",
   "outputs": [],
   "execution_count": null
  },
  {
   "cell_type": "markdown",
   "source": "<a style='text-decoration:none;line-height:16px;display:flex;color:#5B5B62;padding:10px;justify-content:end;' href='https://deepnote.com?utm_source=created-in-deepnote-cell&projectId=aaf19c1d-a3b1-4f9b-b674-e32609e59fe1' target=\"_blank\">\n<img alt='Created in deepnote.com' style='display:inline;max-height:16px;margin:0px;margin-right:7.5px;' src='data:image/svg+xml;base64,PD94bWwgdmVyc2lvbj0iMS4wIiBlbmNvZGluZz0iVVRGLTgiPz4KPHN2ZyB3aWR0aD0iODBweCIgaGVpZ2h0PSI4MHB4IiB2aWV3Qm94PSIwIDAgODAgODAiIHZlcnNpb249IjEuMSIgeG1sbnM9Imh0dHA6Ly93d3cudzMub3JnLzIwMDAvc3ZnIiB4bWxuczp4bGluaz0iaHR0cDovL3d3dy53My5vcmcvMTk5OS94bGluayI+CiAgICA8IS0tIEdlbmVyYXRvcjogU2tldGNoIDU0LjEgKDc2NDkwKSAtIGh0dHBzOi8vc2tldGNoYXBwLmNvbSAtLT4KICAgIDx0aXRsZT5Hcm91cCAzPC90aXRsZT4KICAgIDxkZXNjPkNyZWF0ZWQgd2l0aCBTa2V0Y2guPC9kZXNjPgogICAgPGcgaWQ9IkxhbmRpbmciIHN0cm9rZT0ibm9uZSIgc3Ryb2tlLXdpZHRoPSIxIiBmaWxsPSJub25lIiBmaWxsLXJ1bGU9ImV2ZW5vZGQiPgogICAgICAgIDxnIGlkPSJBcnRib2FyZCIgdHJhbnNmb3JtPSJ0cmFuc2xhdGUoLTEyMzUuMDAwMDAwLCAtNzkuMDAwMDAwKSI+CiAgICAgICAgICAgIDxnIGlkPSJHcm91cC0zIiB0cmFuc2Zvcm09InRyYW5zbGF0ZSgxMjM1LjAwMDAwMCwgNzkuMDAwMDAwKSI+CiAgICAgICAgICAgICAgICA8cG9seWdvbiBpZD0iUGF0aC0yMCIgZmlsbD0iIzAyNjVCNCIgcG9pbnRzPSIyLjM3NjIzNzYyIDgwIDM4LjA0NzY2NjcgODAgNTcuODIxNzgyMiA3My44MDU3NTkyIDU3LjgyMTc4MjIgMzIuNzU5MjczOSAzOS4xNDAyMjc4IDMxLjY4MzE2ODMiPjwvcG9seWdvbj4KICAgICAgICAgICAgICAgIDxwYXRoIGQ9Ik0zNS4wMDc3MTgsODAgQzQyLjkwNjIwMDcsNzYuNDU0OTM1OCA0Ny41NjQ5MTY3LDcxLjU0MjI2NzEgNDguOTgzODY2LDY1LjI2MTk5MzkgQzUxLjExMjI4OTksNTUuODQxNTg0MiA0MS42NzcxNzk1LDQ5LjIxMjIyODQgMjUuNjIzOTg0Niw0OS4yMTIyMjg0IEMyNS40ODQ5Mjg5LDQ5LjEyNjg0NDggMjkuODI2MTI5Niw0My4yODM4MjQ4IDM4LjY0NzU4NjksMzEuNjgzMTY4MyBMNzIuODcxMjg3MSwzMi41NTQ0MjUgTDY1LjI4MDk3Myw2Ny42NzYzNDIxIEw1MS4xMTIyODk5LDc3LjM3NjE0NCBMMzUuMDA3NzE4LDgwIFoiIGlkPSJQYXRoLTIyIiBmaWxsPSIjMDAyODY4Ij48L3BhdGg+CiAgICAgICAgICAgICAgICA8cGF0aCBkPSJNMCwzNy43MzA0NDA1IEwyNy4xMTQ1MzcsMC4yNTcxMTE0MzYgQzYyLjM3MTUxMjMsLTEuOTkwNzE3MDEgODAsMTAuNTAwMzkyNyA4MCwzNy43MzA0NDA1IEM4MCw2NC45NjA0ODgyIDY0Ljc3NjUwMzgsNzkuMDUwMzQxNCAzNC4zMjk1MTEzLDgwIEM0Ny4wNTUzNDg5LDc3LjU2NzA4MDggNTMuNDE4MjY3Nyw3MC4zMTM2MTAzIDUzLjQxODI2NzcsNTguMjM5NTg4NSBDNTMuNDE4MjY3Nyw0MC4xMjg1NTU3IDM2LjMwMzk1NDQsMzcuNzMwNDQwNSAyNS4yMjc0MTcsMzcuNzMwNDQwNSBDMTcuODQzMDU4NiwzNy43MzA0NDA1IDkuNDMzOTE5NjYsMzcuNzMwNDQwNSAwLDM3LjczMDQ0MDUgWiIgaWQ9IlBhdGgtMTkiIGZpbGw9IiMzNzkzRUYiPjwvcGF0aD4KICAgICAgICAgICAgPC9nPgogICAgICAgIDwvZz4KICAgIDwvZz4KPC9zdmc+' > </img>\nCreated in <span style='font-weight:600;margin-left:4px;'>Deepnote</span></a>",
   "metadata": {
    "tags": [],
    "created_in_deepnote_cell": true,
    "deepnote_cell_type": "markdown"
   }
  }
 ],
 "nbformat": 4,
 "nbformat_minor": 2,
 "metadata": {
  "orig_nbformat": 2,
  "deepnote": {
   "is_reactive": false
  },
  "deepnote_notebook_id": "91cd7ca1-f5c3-4e0a-8d25-933db684d6e4",
  "deepnote_execution_queue": []
 }
}