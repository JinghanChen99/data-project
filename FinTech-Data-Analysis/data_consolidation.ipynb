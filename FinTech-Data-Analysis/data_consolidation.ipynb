{
 "cells": [
  {
   "cell_type": "code",
   "metadata": {
    "tags": [],
    "cell_id": "00000-6f5dafad-8c6b-4729-a8c3-844f47196178",
    "deepnote_to_be_reexecuted": false,
    "source_hash": "24d24e55",
    "execution_start": 1624301514988,
    "execution_millis": 4,
    "deepnote_cell_type": "code"
   },
   "source": "import pandas as pd\nimport numpy as np\n\nimport requests",
   "outputs": [],
   "execution_count": null
  },
  {
   "cell_type": "markdown",
   "source": "### Load 250 FinTech companies from Excel",
   "metadata": {
    "tags": [],
    "cell_id": "00001-9600833f-1819-4071-9594-d6d92d742750",
    "deepnote_cell_type": "markdown"
   }
  },
  {
   "cell_type": "code",
   "metadata": {
    "tags": [],
    "cell_id": "00001-e0024354-eaf7-4c2b-86c2-12ef3c8064dc",
    "deepnote_to_be_reexecuted": false,
    "source_hash": "388638",
    "execution_start": 1624301516219,
    "execution_millis": 518,
    "deepnote_cell_type": "code"
   },
   "source": "fintech_250 = pd.read_excel('Fintech250_2020.xlsx', engine='openpyxl')\nfintech_250.head()",
   "outputs": [
    {
     "output_type": "execute_result",
     "execution_count": 4,
     "data": {
      "application/vnd.deepnote.dataframe.v2+json": {
       "row_count": 5,
       "column_count": 16,
       "columns": [
        {
         "name": "Company",
         "dtype": "object",
         "stats": {
          "unique_count": 5,
          "nan_count": 0,
          "categories": [
           {
            "name": "10x Future Technologies",
            "count": 1
           },
           {
            "name": "Addepar",
            "count": 1
           },
           {
            "name": "3 others",
            "count": 3
           }
          ]
         }
        },
        {
         "name": "URL",
         "dtype": "object",
         "stats": {
          "unique_count": 5,
          "nan_count": 0,
          "categories": [
           {
            "name": "10xbanking.com",
            "count": 1
           },
           {
            "name": "addepar.com",
            "count": 1
           },
           {
            "name": "3 others",
            "count": 3
           }
          ]
         }
        },
        {
         "name": "Category",
         "dtype": "object",
         "stats": {
          "unique_count": 5,
          "nan_count": 0,
          "categories": [
           {
            "name": "Core banking & infrastructure",
            "count": 1
           },
           {
            "name": "Asset Management",
            "count": 1
           },
           {
            "name": "3 others",
            "count": 3
           }
          ]
         }
        },
        {
         "name": "Description",
         "dtype": "object",
         "stats": {
          "unique_count": 5,
          "nan_count": 0,
          "categories": [
           {
            "name": "10x Future Technologies is a financial business that seeks to empower banks and non-banks to optimize their customer data and interactions. The company's platform is based on a full suite of capabilities covering banking process automation, compliance reporting, security, and analytics.10x offers its partners digital and data modeling services with a modular construction and open APIs.",
            "count": 1
           },
           {
            "name": "Addepar is a financial operating system that aims to bring common sense and ethical, data-driven investing to the financial world. Addepar gives advisors and their clients a clearer financial picture at every level, all in one place and handles all types of assets denominated in any currency. With customizable reporting, financial advisors can visualize and communicate relevant information to anyone who needs it.",
            "count": 1
           },
           {
            "name": "3 others",
            "count": 3
           }
          ]
         }
        },
        {
         "name": "Tag",
         "dtype": "object",
         "stats": {
          "unique_count": 5,
          "nan_count": 0,
          "categories": [
           {
            "name": "Fintech250_2018, CoreBanking&Infrastructure, coreBanking&Infrastructure",
            "count": 1
           },
           {
            "name": "AssetManagement, B2B, FinancialServicesSoftware, WealthManagement, advisortech",
            "count": 1
           },
           {
            "name": "3 others",
            "count": 3
           }
          ]
         }
        },
        {
         "name": "State",
         "dtype": "object",
         "stats": {
          "unique_count": 3,
          "nan_count": 1,
          "categories": [
           {
            "name": "California",
            "count": 2
           },
           {
            "name": "2 others",
            "count": 2
           },
           {
            "name": "Missing",
            "count": 1
           }
          ]
         }
        },
        {
         "name": "Country",
         "dtype": "object",
         "stats": {
          "unique_count": 4,
          "nan_count": 0,
          "categories": [
           {
            "name": "United States",
            "count": 2
           },
           {
            "name": "United Kingdom",
            "count": 1
           },
           {
            "name": "2 others",
            "count": 2
           }
          ]
         }
        },
        {
         "name": "Continent",
         "dtype": "object",
         "stats": {
          "unique_count": 3,
          "nan_count": 0,
          "categories": [
           {
            "name": "Europe",
            "count": 2
           },
           {
            "name": "North America",
            "count": 2
           },
           {
            "name": "Australia",
            "count": 1
           }
          ]
         }
        },
        {
         "name": "Total Funding",
         "dtype": "float64",
         "stats": {
          "unique_count": 5,
          "nan_count": 0,
          "min": "65.66",
          "max": "1775.0",
          "histogram": [
           {
            "bin_start": 65.66,
            "bin_end": 236.594,
            "count": 1
           },
           {
            "bin_start": 236.594,
            "bin_end": 407.528,
            "count": 2
           },
           {
            "bin_start": 407.528,
            "bin_end": 578.462,
            "count": 1
           },
           {
            "bin_start": 578.462,
            "bin_end": 749.396,
            "count": 0
           },
           {
            "bin_start": 749.396,
            "bin_end": 920.3299999999999,
            "count": 0
           },
           {
            "bin_start": 920.3299999999999,
            "bin_end": 1091.2640000000001,
            "count": 0
           },
           {
            "bin_start": 1091.2640000000001,
            "bin_end": 1262.198,
            "count": 0
           },
           {
            "bin_start": 1262.198,
            "bin_end": 1433.132,
            "count": 0
           },
           {
            "bin_start": 1433.132,
            "bin_end": 1604.066,
            "count": 0
           },
           {
            "bin_start": 1604.066,
            "bin_end": 1775,
            "count": 1
           }
          ]
         }
        },
        {
         "name": "Latest Funding Simplified Round",
         "dtype": "object",
         "stats": {
          "unique_count": 4,
          "nan_count": 0,
          "categories": [
           {
            "name": "Series D",
            "count": 2
           },
           {
            "name": "Corporate Minority",
            "count": 1
           },
           {
            "name": "2 others",
            "count": 2
           }
          ]
         }
        },
        {
         "name": "Latest Funding Investors",
         "dtype": "object",
         "stats": {
          "unique_count": 5,
          "nan_count": 0,
          "categories": [
           {
            "name": "Westpac Group",
            "count": 1
           },
           {
            "name": "Sway Ventures, 8VC, WestCap Group",
            "count": 1
           },
           {
            "name": "3 others",
            "count": 3
           }
          ]
         }
        },
        {
         "name": "Latest Funding Amount",
         "dtype": "float64",
         "stats": {
          "unique_count": 4,
          "nan_count": 1,
          "min": "100.0",
          "max": "500.0",
          "histogram": [
           {
            "bin_start": 100,
            "bin_end": 140,
            "count": 2
           },
           {
            "bin_start": 140,
            "bin_end": 180,
            "count": 0
           },
           {
            "bin_start": 180,
            "bin_end": 220,
            "count": 0
           },
           {
            "bin_start": 220,
            "bin_end": 260,
            "count": 1
           },
           {
            "bin_start": 260,
            "bin_end": 300,
            "count": 0
           },
           {
            "bin_start": 300,
            "bin_end": 340,
            "count": 0
           },
           {
            "bin_start": 340,
            "bin_end": 380,
            "count": 0
           },
           {
            "bin_start": 380,
            "bin_end": 420,
            "count": 0
           },
           {
            "bin_start": 420,
            "bin_end": 460,
            "count": 0
           },
           {
            "bin_start": 460,
            "bin_end": 500,
            "count": 1
           }
          ]
         }
        },
        {
         "name": "Latest Funding Date",
         "dtype": "datetime64[ns]",
         "stats": {
          "unique_count": 5,
          "nan_count": 0,
          "min": "2019-11-04 00:00:00",
          "max": "2021-04-19 00:00:00",
          "histogram": [
           {
            "bin_start": 1572825600000000000,
            "bin_end": 1577422080000000000,
            "count": 1
           },
           {
            "bin_start": 1577422080000000000,
            "bin_end": 1582018560000000000,
            "count": 0
           },
           {
            "bin_start": 1582018560000000000,
            "bin_end": 1586615040000000000,
            "count": 0
           },
           {
            "bin_start": 1586615040000000000,
            "bin_end": 1591211520000000000,
            "count": 0
           },
           {
            "bin_start": 1591211520000000000,
            "bin_end": 1595808000000000000,
            "count": 0
           },
           {
            "bin_start": 1595808000000000000,
            "bin_end": 1600404480000000000,
            "count": 1
           },
           {
            "bin_start": 1600404480000000000,
            "bin_end": 1605000960000000000,
            "count": 0
           },
           {
            "bin_start": 1605000960000000000,
            "bin_end": 1609597440000000000,
            "count": 1
           },
           {
            "bin_start": 1609597440000000000,
            "bin_end": 1614193920000000000,
            "count": 0
           },
           {
            "bin_start": 1614193920000000000,
            "bin_end": 1618790400000000000,
            "count": 2
           }
          ]
         }
        },
        {
         "name": "Latest Valuation",
         "dtype": "float64",
         "stats": {
          "unique_count": 4,
          "nan_count": 1,
          "min": "733.17",
          "max": "11894.59",
          "histogram": [
           {
            "bin_start": 733.17,
            "bin_end": 1849.312,
            "count": 2
           },
           {
            "bin_start": 1849.312,
            "bin_end": 2965.454,
            "count": 1
           },
           {
            "bin_start": 2965.454,
            "bin_end": 4081.5960000000005,
            "count": 0
           },
           {
            "bin_start": 4081.5960000000005,
            "bin_end": 5197.738,
            "count": 0
           },
           {
            "bin_start": 5197.738,
            "bin_end": 6313.88,
            "count": 0
           },
           {
            "bin_start": 6313.88,
            "bin_end": 7430.022000000001,
            "count": 0
           },
           {
            "bin_start": 7430.022000000001,
            "bin_end": 8546.164,
            "count": 0
           },
           {
            "bin_start": 8546.164,
            "bin_end": 9662.306,
            "count": 0
           },
           {
            "bin_start": 9662.306,
            "bin_end": 10778.448,
            "count": 0
           },
           {
            "bin_start": 10778.448,
            "bin_end": 11894.59,
            "count": 1
           }
          ]
         }
        },
        {
         "name": "Exit Round",
         "dtype": "object",
         "stats": {
          "unique_count": 1,
          "nan_count": 4,
          "categories": [
           {
            "name": "IPO",
            "count": 1
           },
           {
            "name": "Missing",
            "count": 4
           }
          ]
         }
        },
        {
         "name": "Exit Date",
         "dtype": "object",
         "stats": {
          "unique_count": 2,
          "nan_count": 0,
          "categories": [
           {
            "name": "2021-01-13",
            "count": 1
           },
           {
            "name": "Missing",
            "count": 4
           }
          ]
         }
        },
        {
         "name": "_deepnote_index_column",
         "dtype": "int64"
        }
       ],
       "rows_top": [
        {
         "Company": "10x Future Technologies",
         "URL": "10xbanking.com",
         "Category": "Core banking & infrastructure",
         "Description": "10x Future Technologies is a financial business that seeks to empower banks and non-banks to optimi…",
         "Tag": "Fintech250_2018, CoreBanking&Infrastructure, coreBanking&Infrastructure",
         "State": "England",
         "Country": "United Kingdom",
         "Continent": "Europe",
         "Total Funding": 65.66,
         "Latest Funding Simplified Round": "Corporate Minority",
         "Latest Funding Investors": "Westpac Group",
         "Latest Funding Amount": "nan",
         "Latest Funding Date": "2019-11-04T00:00:00.000000",
         "Latest Valuation": "nan",
         "Exit Round": "nan",
         "Exit Date": "NaT",
         "_deepnote_index_column": 0
        },
        {
         "Company": "Addepar",
         "URL": "addepar.com",
         "Category": "Asset Management",
         "Description": "Addepar is a financial operating system that aims to bring common sense and ethical, data-driven in…",
         "Tag": "AssetManagement, B2B, FinancialServicesSoftware, WealthManagement, advisortech",
         "State": "California",
         "Country": "United States",
         "Continent": "North America",
         "Total Funding": 363.93,
         "Latest Funding Simplified Round": "Series E",
         "Latest Funding Investors": "Sway Ventures, 8VC, WestCap Group",
         "Latest Funding Amount": 117,
         "Latest Funding Date": "2020-11-18T00:00:00.000000",
         "Latest Valuation": 733.17,
         "Exit Round": "nan",
         "Exit Date": "NaT",
         "_deepnote_index_column": 1
        },
        {
         "Company": "Affirm",
         "URL": "affirm.com",
         "Category": "POS & consumer lending",
         "Description": "Affirm (NASDAQ: AFRM) is a consumer finance company that seeks to provide shoppers with instant poi…",
         "Tag": "Top_Finance&Insurance, Fintech250_2018, POSfinancing, enablement, Lending, POS&ConsumerLending, Top…",
         "State": "California",
         "Country": "United States",
         "Continent": "North America",
         "Total Funding": 1775,
         "Latest Funding Simplified Round": "Series G",
         "Latest Funding Investors": "Lightspeed Venture Partners, Spark Capital, Founders Fund, Wellington Management, Fidelity Investme…",
         "Latest Funding Amount": 500,
         "Latest Funding Date": "2020-09-17T00:00:00.000000",
         "Latest Valuation": 11894.59,
         "Exit Round": "IPO",
         "Exit Date": "2021-01-13 00:00:00",
         "_deepnote_index_column": 2
        },
        {
         "Company": "Airwallex",
         "URL": "airwallex.com",
         "Category": "Payments processing & networks",
         "Description": "Airwallexâ€™s platform provides business accounts that enable high-speed and low-cost international…",
         "Tag": "Fintech250_2018, MoneyTransfer, B2BPayments, CrossBorder, PaymentsProcessing&Networks",
         "State": "Victoria",
         "Country": "Australia",
         "Continent": "Australia",
         "Total Funding": 502,
         "Latest Funding Simplified Round": "Series D",
         "Latest Funding Investors": "Greenoaks Capital Management, Grok Ventures, Skip Capital, ANZi",
         "Latest Funding Amount": 100,
         "Latest Funding Date": "2021-03-24T00:00:00.000000",
         "Latest Valuation": 2600,
         "Exit Round": "nan",
         "Exit Date": "NaT",
         "_deepnote_index_column": 3
        },
        {
         "Company": "Alan",
         "URL": "alan.com",
         "Category": "Insurance",
         "Description": "Alan is a Paris-based digital health insurance company that develops subscription-based software fo…",
         "Tag": "Fintech250_2018, payers, insurance, Insurance, Insurance, health_plans",
         "State": "nan",
         "Country": "France",
         "Continent": "Europe",
         "Total Funding": 363.17,
         "Latest Funding Simplified Round": "Series D",
         "Latest Funding Investors": "Index Ventures, Temasek, Ribbit Capital, Dragoneer Investment Group, Coatue Management, EXOR",
         "Latest Funding Amount": 222.6,
         "Latest Funding Date": "2021-04-19T00:00:00.000000",
         "Latest Valuation": 1684,
         "Exit Round": "nan",
         "Exit Date": "NaT",
         "_deepnote_index_column": 4
        }
       ],
       "rows_bottom": null
      },
      "text/plain": "                   Company             URL                        Category  \\\n0  10x Future Technologies  10xbanking.com   Core banking & infrastructure   \n1                  Addepar     addepar.com                Asset Management   \n2                   Affirm      affirm.com          POS & consumer lending   \n3                Airwallex   airwallex.com  Payments processing & networks   \n4                     Alan        alan.com                       Insurance   \n\n                                         Description  \\\n0  10x Future Technologies is a financial busines...   \n1  Addepar is a financial operating system that a...   \n2  Affirm (NASDAQ: AFRM) is a consumer finance co...   \n3  Airwallexâ€™s platform provides business accou...   \n4  Alan is a Paris-based digital health insurance...   \n\n                                                 Tag       State  \\\n0  Fintech250_2018, CoreBanking&Infrastructure, c...     England   \n1  AssetManagement, B2B, FinancialServicesSoftwar...  California   \n2  Top_Finance&Insurance, Fintech250_2018, POSfin...  California   \n3  Fintech250_2018, MoneyTransfer, B2BPayments, C...    Victoria   \n4  Fintech250_2018, payers, insurance, Insurance,...         NaN   \n\n          Country      Continent  Total Funding  \\\n0  United Kingdom         Europe          65.66   \n1   United States  North America         363.93   \n2   United States  North America        1775.00   \n3       Australia      Australia         502.00   \n4          France         Europe         363.17   \n\n  Latest Funding Simplified Round  \\\n0              Corporate Minority   \n1                        Series E   \n2                        Series G   \n3                        Series D   \n4                        Series D   \n\n                            Latest Funding Investors  Latest Funding Amount  \\\n0                                      Westpac Group                    NaN   \n1                  Sway Ventures, 8VC, WestCap Group                  117.0   \n2  Lightspeed Venture Partners, Spark Capital, Fo...                  500.0   \n3  Greenoaks Capital Management, Grok Ventures, S...                  100.0   \n4  Index Ventures, Temasek, Ribbit Capital, Drago...                  222.6   \n\n  Latest Funding Date  Latest Valuation Exit Round  Exit Date  \n0          2019-11-04               NaN        NaN        NaT  \n1          2020-11-18            733.17        NaN        NaT  \n2          2020-09-17          11894.59        IPO 2021-01-13  \n3          2021-03-24           2600.00        NaN        NaT  \n4          2021-04-19           1684.00        NaN        NaT  ",
      "text/html": "<div>\n<style scoped>\n    .dataframe tbody tr th:only-of-type {\n        vertical-align: middle;\n    }\n\n    .dataframe tbody tr th {\n        vertical-align: top;\n    }\n\n    .dataframe thead th {\n        text-align: right;\n    }\n</style>\n<table border=\"1\" class=\"dataframe\">\n  <thead>\n    <tr style=\"text-align: right;\">\n      <th></th>\n      <th>Company</th>\n      <th>URL</th>\n      <th>Category</th>\n      <th>Description</th>\n      <th>Tag</th>\n      <th>State</th>\n      <th>Country</th>\n      <th>Continent</th>\n      <th>Total Funding</th>\n      <th>Latest Funding Simplified Round</th>\n      <th>Latest Funding Investors</th>\n      <th>Latest Funding Amount</th>\n      <th>Latest Funding Date</th>\n      <th>Latest Valuation</th>\n      <th>Exit Round</th>\n      <th>Exit Date</th>\n    </tr>\n  </thead>\n  <tbody>\n    <tr>\n      <th>0</th>\n      <td>10x Future Technologies</td>\n      <td>10xbanking.com</td>\n      <td>Core banking &amp; infrastructure</td>\n      <td>10x Future Technologies is a financial busines...</td>\n      <td>Fintech250_2018, CoreBanking&amp;Infrastructure, c...</td>\n      <td>England</td>\n      <td>United Kingdom</td>\n      <td>Europe</td>\n      <td>65.66</td>\n      <td>Corporate Minority</td>\n      <td>Westpac Group</td>\n      <td>NaN</td>\n      <td>2019-11-04</td>\n      <td>NaN</td>\n      <td>NaN</td>\n      <td>NaT</td>\n    </tr>\n    <tr>\n      <th>1</th>\n      <td>Addepar</td>\n      <td>addepar.com</td>\n      <td>Asset Management</td>\n      <td>Addepar is a financial operating system that a...</td>\n      <td>AssetManagement, B2B, FinancialServicesSoftwar...</td>\n      <td>California</td>\n      <td>United States</td>\n      <td>North America</td>\n      <td>363.93</td>\n      <td>Series E</td>\n      <td>Sway Ventures, 8VC, WestCap Group</td>\n      <td>117.0</td>\n      <td>2020-11-18</td>\n      <td>733.17</td>\n      <td>NaN</td>\n      <td>NaT</td>\n    </tr>\n    <tr>\n      <th>2</th>\n      <td>Affirm</td>\n      <td>affirm.com</td>\n      <td>POS &amp; consumer lending</td>\n      <td>Affirm (NASDAQ: AFRM) is a consumer finance co...</td>\n      <td>Top_Finance&amp;Insurance, Fintech250_2018, POSfin...</td>\n      <td>California</td>\n      <td>United States</td>\n      <td>North America</td>\n      <td>1775.00</td>\n      <td>Series G</td>\n      <td>Lightspeed Venture Partners, Spark Capital, Fo...</td>\n      <td>500.0</td>\n      <td>2020-09-17</td>\n      <td>11894.59</td>\n      <td>IPO</td>\n      <td>2021-01-13</td>\n    </tr>\n    <tr>\n      <th>3</th>\n      <td>Airwallex</td>\n      <td>airwallex.com</td>\n      <td>Payments processing &amp; networks</td>\n      <td>Airwallexâ€™s platform provides business accou...</td>\n      <td>Fintech250_2018, MoneyTransfer, B2BPayments, C...</td>\n      <td>Victoria</td>\n      <td>Australia</td>\n      <td>Australia</td>\n      <td>502.00</td>\n      <td>Series D</td>\n      <td>Greenoaks Capital Management, Grok Ventures, S...</td>\n      <td>100.0</td>\n      <td>2021-03-24</td>\n      <td>2600.00</td>\n      <td>NaN</td>\n      <td>NaT</td>\n    </tr>\n    <tr>\n      <th>4</th>\n      <td>Alan</td>\n      <td>alan.com</td>\n      <td>Insurance</td>\n      <td>Alan is a Paris-based digital health insurance...</td>\n      <td>Fintech250_2018, payers, insurance, Insurance,...</td>\n      <td>NaN</td>\n      <td>France</td>\n      <td>Europe</td>\n      <td>363.17</td>\n      <td>Series D</td>\n      <td>Index Ventures, Temasek, Ribbit Capital, Drago...</td>\n      <td>222.6</td>\n      <td>2021-04-19</td>\n      <td>1684.00</td>\n      <td>NaN</td>\n      <td>NaT</td>\n    </tr>\n  </tbody>\n</table>\n</div>"
     },
     "metadata": {}
    }
   ],
   "execution_count": null
  },
  {
   "cell_type": "code",
   "metadata": {
    "tags": [],
    "cell_id": "00002-bb0055cb-16bf-41d6-9a1a-6b1a27b4d2f8",
    "deepnote_to_be_reexecuted": false,
    "source_hash": "2715c1ff",
    "execution_start": 1624301517689,
    "execution_millis": 12,
    "deepnote_cell_type": "code"
   },
   "source": "list_250 = list(fintech_250['Company'].unique())\nlen(list_250)",
   "outputs": [
    {
     "output_type": "execute_result",
     "execution_count": 5,
     "data": {
      "text/plain": "250"
     },
     "metadata": {}
    }
   ],
   "execution_count": null
  },
  {
   "cell_type": "markdown",
   "source": "### Load public FinTech companies from Excel",
   "metadata": {
    "tags": [],
    "cell_id": "00004-f462a2fa-7269-416d-9e2f-c7abee276338",
    "deepnote_cell_type": "markdown"
   }
  },
  {
   "cell_type": "code",
   "metadata": {
    "tags": [],
    "cell_id": "00002-8a0a7cc1-2433-41ac-b7a5-7f97379e4e99",
    "deepnote_to_be_reexecuted": false,
    "source_hash": "ae743568",
    "execution_start": 1624301519240,
    "execution_millis": 424,
    "deepnote_cell_type": "code"
   },
   "source": "public_financial = pd.read_excel('CB_Insights_public.xlsx', engine='openpyxl')\npublic_financial.head()",
   "outputs": [
    {
     "output_type": "execute_result",
     "execution_count": 6,
     "data": {
      "application/vnd.deepnote.dataframe.v2+json": {
       "row_count": 5,
       "column_count": 23,
       "columns": [
        {
         "name": "Company",
         "dtype": "object",
         "stats": {
          "unique_count": 5,
          "nan_count": 0,
          "categories": [
           {
            "name": "1347 Property Insurance Holdings",
            "count": 1
           },
           {
            "name": "4Front Ventures",
            "count": 1
           },
           {
            "name": "3 others",
            "count": 3
           }
          ]
         }
        },
        {
         "name": "URL",
         "dtype": "object",
         "stats": {
          "unique_count": 4,
          "nan_count": 1,
          "categories": [
           {
            "name": "http://www.1347pih.com",
            "count": 1
           },
           {
            "name": "3 others",
            "count": 3
           },
           {
            "name": "Missing",
            "count": 1
           }
          ]
         }
        },
        {
         "name": "Company Description",
         "dtype": "object",
         "stats": {
          "unique_count": 5,
          "nan_count": 0,
          "categories": [
           {
            "name": "1347 Property Insurance Holdings provides property and casualty insurance to individuals in Louisiana through our wholly-owned subsidiary, Maison Insurance Company, or Maison Insurance. The company's insurance offerings currently include homeowners' insurance, manufactured home insurance and dwelling fire insurance. 1347 believes the Louisiana property and casualty insurance market has historically been underserved due to the unique weather-related risks in the region. The company provides its policyholders with a selection of insurance products at competitive rates, while pursuing profitability using our selective underwriting criteria.",
            "count": 1
           },
           {
            "name": "4Front is an investment and management firm in the U.S. cannabis industry. 4Front develops a national platform that consists of a multi-state retail footprint, a network of partnership relationships, and operational efficiencies that allow it to take advantage of new opportunities as state-legal cannabis markets.",
            "count": 1
           },
           {
            "name": "3 others",
            "count": 3
           }
          ]
         }
        },
        {
         "name": "All Investors",
         "dtype": "object",
         "stats": {
          "unique_count": 3,
          "nan_count": 0,
          "categories": [
           {
            "name": "Public",
            "count": 3
           },
           {
            "name": "Cannex Capital Group;Merida Capital Partners;Undisclosed Investors",
            "count": 1
           },
           {
            "name": "American Capital",
            "count": 1
           }
          ]
         }
        },
        {
         "name": "Total Funding",
         "dtype": "float64",
         "stats": {
          "unique_count": 1,
          "nan_count": 4,
          "min": "57.76",
          "max": "57.76",
          "histogram": [
           {
            "bin_start": 57.26,
            "bin_end": 57.36,
            "count": 0
           },
           {
            "bin_start": 57.36,
            "bin_end": 57.46,
            "count": 0
           },
           {
            "bin_start": 57.46,
            "bin_end": 57.559999999999995,
            "count": 0
           },
           {
            "bin_start": 57.559999999999995,
            "bin_end": 57.66,
            "count": 0
           },
           {
            "bin_start": 57.66,
            "bin_end": 57.76,
            "count": 0
           },
           {
            "bin_start": 57.76,
            "bin_end": 57.86,
            "count": 1
           },
           {
            "bin_start": 57.86,
            "bin_end": 57.96,
            "count": 0
           },
           {
            "bin_start": 57.96,
            "bin_end": 58.059999999999995,
            "count": 0
           },
           {
            "bin_start": 58.059999999999995,
            "bin_end": 58.16,
            "count": 0
           },
           {
            "bin_start": 58.16,
            "bin_end": 58.26,
            "count": 0
           }
          ]
         }
        },
        {
         "name": "Sector",
         "dtype": "object",
         "stats": {
          "unique_count": 1,
          "nan_count": 0,
          "categories": [
           {
            "name": "Financial",
            "count": 5
           }
          ]
         }
        },
        {
         "name": "Industry",
         "dtype": "object",
         "stats": {
          "unique_count": 4,
          "nan_count": 0,
          "categories": [
           {
            "name": "Insurance",
            "count": 2
           },
           {
            "name": "Investment Firms & Funds",
            "count": 1
           },
           {
            "name": "2 others",
            "count": 2
           }
          ]
         }
        },
        {
         "name": "Sub-Industry",
         "dtype": "object",
         "stats": {
          "unique_count": 3,
          "nan_count": 2,
          "categories": [
           {
            "name": "Commercial",
            "count": 1
           },
           {
            "name": "2 others",
            "count": 2
           },
           {
            "name": "Missing",
            "count": 2
           }
          ]
         }
        },
        {
         "name": "Country",
         "dtype": "object",
         "stats": {
          "unique_count": 1,
          "nan_count": 0,
          "categories": [
           {
            "name": "United States",
            "count": 5
           }
          ]
         }
        },
        {
         "name": "State",
         "dtype": "object",
         "stats": {
          "unique_count": 5,
          "nan_count": 0,
          "categories": [
           {
            "name": "Louisiana",
            "count": 1
           },
           {
            "name": "Arizona",
            "count": 1
           },
           {
            "name": "3 others",
            "count": 3
           }
          ]
         }
        },
        {
         "name": "City",
         "dtype": "object",
         "stats": {
          "unique_count": 5,
          "nan_count": 0,
          "categories": [
           {
            "name": "Baton Rouge",
            "count": 1
           },
           {
            "name": "Phoenix",
            "count": 1
           },
           {
            "name": "3 others",
            "count": 3
           }
          ]
         }
        },
        {
         "name": "VC Backed",
         "dtype": "object",
         "stats": {
          "unique_count": 0,
          "nan_count": 5,
          "categories": [
           {
            "name": "Missing",
            "count": 5
           }
          ]
         }
        },
        {
         "name": "Exit Round",
         "dtype": "object",
         "stats": {
          "unique_count": 2,
          "nan_count": 1,
          "categories": [
           {
            "name": "IPO",
            "count": 3
           },
           {
            "name": "Reverse Merger",
            "count": 1
           },
           {
            "name": "Missing",
            "count": 1
           }
          ]
         }
        },
        {
         "name": "Exit Date",
         "dtype": "object",
         "stats": {
          "unique_count": 5,
          "nan_count": 0,
          "categories": [
           {
            "name": "2014-04-01",
            "count": 1
           },
           {
            "name": "3 others",
            "count": 3
           },
           {
            "name": "Missing",
            "count": 1
           }
          ]
         }
        },
        {
         "name": "Last Funding Round",
         "dtype": "object",
         "stats": {
          "unique_count": 1,
          "nan_count": 4,
          "categories": [
           {
            "name": "Unattributed - III",
            "count": 1
           },
           {
            "name": "Missing",
            "count": 4
           }
          ]
         }
        },
        {
         "name": "Last Funding Date",
         "dtype": "object",
         "stats": {
          "unique_count": 2,
          "nan_count": 0,
          "categories": [
           {
            "name": "2018-10-25",
            "count": 1
           },
           {
            "name": "Missing",
            "count": 4
           }
          ]
         }
        },
        {
         "name": "Last Funding Amount",
         "dtype": "float64",
         "stats": {
          "unique_count": 1,
          "nan_count": 4,
          "min": "31.0",
          "max": "31.0",
          "histogram": [
           {
            "bin_start": 30.5,
            "bin_end": 30.6,
            "count": 0
           },
           {
            "bin_start": 30.6,
            "bin_end": 30.7,
            "count": 0
           },
           {
            "bin_start": 30.7,
            "bin_end": 30.8,
            "count": 0
           },
           {
            "bin_start": 30.8,
            "bin_end": 30.9,
            "count": 0
           },
           {
            "bin_start": 30.9,
            "bin_end": 31,
            "count": 0
           },
           {
            "bin_start": 31,
            "bin_end": 31.1,
            "count": 1
           },
           {
            "bin_start": 31.1,
            "bin_end": 31.2,
            "count": 0
           },
           {
            "bin_start": 31.2,
            "bin_end": 31.3,
            "count": 0
           },
           {
            "bin_start": 31.3,
            "bin_end": 31.4,
            "count": 0
           },
           {
            "bin_start": 31.4,
            "bin_end": 31.5,
            "count": 0
           }
          ]
         }
        },
        {
         "name": "Last Funding Simplified Round",
         "dtype": "object",
         "stats": {
          "unique_count": 1,
          "nan_count": 4,
          "categories": [
           {
            "name": "Undisclosed",
            "count": 1
           },
           {
            "name": "Missing",
            "count": 4
           }
          ]
         }
        },
        {
         "name": "Last Funding Investors",
         "dtype": "object",
         "stats": {
          "unique_count": 1,
          "nan_count": 4,
          "categories": [
           {
            "name": "Undisclosed Investors",
            "count": 1
           },
           {
            "name": "Missing",
            "count": 4
           }
          ]
         }
        },
        {
         "name": "Min Valuation",
         "dtype": "float64",
         "stats": {
          "unique_count": 2,
          "nan_count": 3,
          "min": "24.02",
          "max": "240.79",
          "histogram": [
           {
            "bin_start": 24.02,
            "bin_end": 45.697,
            "count": 1
           },
           {
            "bin_start": 45.697,
            "bin_end": 67.374,
            "count": 0
           },
           {
            "bin_start": 67.374,
            "bin_end": 89.051,
            "count": 0
           },
           {
            "bin_start": 89.051,
            "bin_end": 110.728,
            "count": 0
           },
           {
            "bin_start": 110.728,
            "bin_end": 132.405,
            "count": 0
           },
           {
            "bin_start": 132.405,
            "bin_end": 154.08200000000002,
            "count": 0
           },
           {
            "bin_start": 154.08200000000002,
            "bin_end": 175.75900000000001,
            "count": 0
           },
           {
            "bin_start": 175.75900000000001,
            "bin_end": 197.436,
            "count": 0
           },
           {
            "bin_start": 197.436,
            "bin_end": 219.113,
            "count": 0
           },
           {
            "bin_start": 219.113,
            "bin_end": 240.79,
            "count": 1
           }
          ]
         }
        },
        {
         "name": "Max Valuation",
         "dtype": "float64",
         "stats": {
          "unique_count": 2,
          "nan_count": 3,
          "min": "24.02",
          "max": "240.79",
          "histogram": [
           {
            "bin_start": 24.02,
            "bin_end": 45.697,
            "count": 1
           },
           {
            "bin_start": 45.697,
            "bin_end": 67.374,
            "count": 0
           },
           {
            "bin_start": 67.374,
            "bin_end": 89.051,
            "count": 0
           },
           {
            "bin_start": 89.051,
            "bin_end": 110.728,
            "count": 0
           },
           {
            "bin_start": 110.728,
            "bin_end": 132.405,
            "count": 0
           },
           {
            "bin_start": 132.405,
            "bin_end": 154.08200000000002,
            "count": 0
           },
           {
            "bin_start": 154.08200000000002,
            "bin_end": 175.75900000000001,
            "count": 0
           },
           {
            "bin_start": 175.75900000000001,
            "bin_end": 197.436,
            "count": 0
           },
           {
            "bin_start": 197.436,
            "bin_end": 219.113,
            "count": 0
           },
           {
            "bin_start": 219.113,
            "bin_end": 240.79,
            "count": 1
           }
          ]
         }
        },
        {
         "name": "Min Price/Sales Ratio",
         "dtype": "float64",
         "stats": {
          "unique_count": 1,
          "nan_count": 4,
          "min": "4.7190569744597",
          "max": "4.7190569744597",
          "histogram": [
           {
            "bin_start": 4.2190569744597,
            "bin_end": 4.319056974459699,
            "count": 0
           },
           {
            "bin_start": 4.319056974459699,
            "bin_end": 4.4190569744597,
            "count": 0
           },
           {
            "bin_start": 4.4190569744597,
            "bin_end": 4.5190569744597,
            "count": 0
           },
           {
            "bin_start": 4.5190569744597,
            "bin_end": 4.6190569744597,
            "count": 0
           },
           {
            "bin_start": 4.6190569744597,
            "bin_end": 4.7190569744597,
            "count": 0
           },
           {
            "bin_start": 4.7190569744597,
            "bin_end": 4.8190569744597,
            "count": 1
           },
           {
            "bin_start": 4.8190569744597,
            "bin_end": 4.9190569744597,
            "count": 0
           },
           {
            "bin_start": 4.9190569744597,
            "bin_end": 5.0190569744597,
            "count": 0
           },
           {
            "bin_start": 5.0190569744597,
            "bin_end": 5.1190569744597,
            "count": 0
           },
           {
            "bin_start": 5.1190569744597,
            "bin_end": 5.2190569744597,
            "count": 0
           }
          ]
         }
        },
        {
         "name": "Max Price/Sales Ratio",
         "dtype": "float64",
         "stats": {
          "unique_count": 1,
          "nan_count": 4,
          "min": "4.7190569744597",
          "max": "4.7190569744597",
          "histogram": [
           {
            "bin_start": 4.2190569744597,
            "bin_end": 4.319056974459699,
            "count": 0
           },
           {
            "bin_start": 4.319056974459699,
            "bin_end": 4.4190569744597,
            "count": 0
           },
           {
            "bin_start": 4.4190569744597,
            "bin_end": 4.5190569744597,
            "count": 0
           },
           {
            "bin_start": 4.5190569744597,
            "bin_end": 4.6190569744597,
            "count": 0
           },
           {
            "bin_start": 4.6190569744597,
            "bin_end": 4.7190569744597,
            "count": 0
           },
           {
            "bin_start": 4.7190569744597,
            "bin_end": 4.8190569744597,
            "count": 1
           },
           {
            "bin_start": 4.8190569744597,
            "bin_end": 4.9190569744597,
            "count": 0
           },
           {
            "bin_start": 4.9190569744597,
            "bin_end": 5.0190569744597,
            "count": 0
           },
           {
            "bin_start": 5.0190569744597,
            "bin_end": 5.1190569744597,
            "count": 0
           },
           {
            "bin_start": 5.1190569744597,
            "bin_end": 5.2190569744597,
            "count": 0
           }
          ]
         }
        },
        {
         "name": "_deepnote_index_column",
         "dtype": "int64"
        }
       ],
       "rows_top": [
        {
         "Company": "1347 Property Insurance Holdings",
         "URL": "http://www.1347pih.com",
         "Company Description": "1347 Property Insurance Holdings provides property and casualty insurance to individuals in Louisia…",
         "All Investors": "Public",
         "Total Funding": "nan",
         "Sector": "Financial",
         "Industry": "Insurance",
         "Sub-Industry": "nan",
         "Country": "United States",
         "State": "Louisiana",
         "City": "Baton Rouge",
         "VC Backed": "nan",
         "Exit Round": "IPO",
         "Exit Date": "2014-04-01 00:00:00",
         "Last Funding Round": "nan",
         "Last Funding Date": "NaT",
         "Last Funding Amount": "nan",
         "Last Funding Simplified Round": "nan",
         "Last Funding Investors": "nan",
         "Min Valuation": 24.02,
         "Max Valuation": 24.02,
         "Min Price/Sales Ratio": 4.7190569744597,
         "Max Price/Sales Ratio": 4.7190569744597,
         "_deepnote_index_column": 0
        },
        {
         "Company": "4Front Ventures",
         "URL": "http://www.4frontventures.com",
         "Company Description": "4Front is an investment and management firm in the U.S. cannabis industry. 4Front develops a nation…",
         "All Investors": "Cannex Capital Group;Merida Capital Partners;Undisclosed Investors",
         "Total Funding": 57.76,
         "Sector": "Financial",
         "Industry": "Investment Firms & Funds",
         "Sub-Industry": "nan",
         "Country": "United States",
         "State": "Arizona",
         "City": "Phoenix",
         "VC Backed": "nan",
         "Exit Round": "Reverse Merger",
         "Exit Date": "2019-07-31 00:00:00",
         "Last Funding Round": "Unattributed - III",
         "Last Funding Date": "2018-10-25 00:00:00",
         "Last Funding Amount": 31,
         "Last Funding Simplified Round": "Undisclosed",
         "Last Funding Investors": "Undisclosed Investors",
         "Min Valuation": 240.79,
         "Max Valuation": 240.79,
         "Min Price/Sales Ratio": "nan",
         "Max Price/Sales Ratio": "nan",
         "_deepnote_index_column": 1
        },
        {
         "Company": "AFC Gamma",
         "URL": "http://www.afcgamma.com",
         "Company Description": "Advanced Flower Capital (AFC Gamma) is a premier provider of institutional real-estate loans to hig…",
         "All Investors": "Public",
         "Total Funding": "nan",
         "Sector": "Financial",
         "Industry": "Lending",
         "Sub-Industry": "Commercial",
         "Country": "United States",
         "State": "Florida",
         "City": "West Palm Beach",
         "VC Backed": "nan",
         "Exit Round": "IPO",
         "Exit Date": "2021-03-18 00:00:00",
         "Last Funding Round": "nan",
         "Last Funding Date": "NaT",
         "Last Funding Amount": "nan",
         "Last Funding Simplified Round": "nan",
         "Last Funding Investors": "nan",
         "Min Valuation": "nan",
         "Max Valuation": "nan",
         "Min Price/Sales Ratio": "nan",
         "Max Price/Sales Ratio": "nan",
         "_deepnote_index_column": 2
        },
        {
         "Company": "AGNC Investment",
         "URL": "http://www.agnc.com",
         "Company Description": "AGNC Investment (\"AGNC\") is an internally-managed real estate investment trust (\"REIT\").  The compa…",
         "All Investors": "American Capital",
         "Total Funding": "nan",
         "Sector": "Financial",
         "Industry": "Real Estate",
         "Sub-Industry": "REITs",
         "Country": "United States",
         "State": "Maryland",
         "City": "Bethesda",
         "VC Backed": "nan",
         "Exit Round": "nan",
         "Exit Date": "NaT",
         "Last Funding Round": "nan",
         "Last Funding Date": "NaT",
         "Last Funding Amount": "nan",
         "Last Funding Simplified Round": "nan",
         "Last Funding Investors": "nan",
         "Min Valuation": "nan",
         "Max Valuation": "nan",
         "Min Price/Sales Ratio": "nan",
         "Max Price/Sales Ratio": "nan",
         "_deepnote_index_column": 3
        },
        {
         "Company": "ARM Financial Group",
         "URL": "nan",
         "Company Description": "ARM Financial Group is a Financial/Insurance/Health Insurance company based in Louisville, Kentucky.",
         "All Investors": "Public",
         "Total Funding": "nan",
         "Sector": "Financial",
         "Industry": "Insurance",
         "Sub-Industry": "Health Insurance",
         "Country": "United States",
         "State": "Kentucky",
         "City": "Louisville",
         "VC Backed": "nan",
         "Exit Round": "IPO",
         "Exit Date": "1998-05-18 00:00:00",
         "Last Funding Round": "nan",
         "Last Funding Date": "NaT",
         "Last Funding Amount": "nan",
         "Last Funding Simplified Round": "nan",
         "Last Funding Investors": "nan",
         "Min Valuation": "nan",
         "Max Valuation": "nan",
         "Min Price/Sales Ratio": "nan",
         "Max Price/Sales Ratio": "nan",
         "_deepnote_index_column": 4
        }
       ],
       "rows_bottom": null
      },
      "text/plain": "                            Company                            URL  \\\n0  1347 Property Insurance Holdings         http://www.1347pih.com   \n1                   4Front Ventures  http://www.4frontventures.com   \n2                         AFC Gamma        http://www.afcgamma.com   \n3                   AGNC Investment            http://www.agnc.com   \n4               ARM Financial Group                            NaN   \n\n                                 Company Description  \\\n0  1347 Property Insurance Holdings provides prop...   \n1  4Front is an investment and management firm in...   \n2  Advanced Flower Capital (AFC Gamma) is a premi...   \n3  AGNC Investment (\"AGNC\") is an internally-mana...   \n4  ARM Financial Group is a Financial/Insurance/H...   \n\n                                       All Investors  Total Funding  \\\n0                                             Public            NaN   \n1  Cannex Capital Group;Merida Capital Partners;U...          57.76   \n2                                             Public            NaN   \n3                                   American Capital            NaN   \n4                                             Public            NaN   \n\n      Sector                  Industry      Sub-Industry        Country  \\\n0  Financial                 Insurance               NaN  United States   \n1  Financial  Investment Firms & Funds               NaN  United States   \n2  Financial                   Lending        Commercial  United States   \n3  Financial               Real Estate             REITs  United States   \n4  Financial                 Insurance  Health Insurance  United States   \n\n       State  ...  Exit Date  Last Funding Round Last Funding Date  \\\n0  Louisiana  ... 2014-04-01                 NaN               NaT   \n1    Arizona  ... 2019-07-31  Unattributed - III        2018-10-25   \n2    Florida  ... 2021-03-18                 NaN               NaT   \n3   Maryland  ...        NaT                 NaN               NaT   \n4   Kentucky  ... 1998-05-18                 NaN               NaT   \n\n  Last Funding Amount Last Funding Simplified Round Last Funding Investors  \\\n0                 NaN                           NaN                    NaN   \n1                31.0                   Undisclosed  Undisclosed Investors   \n2                 NaN                           NaN                    NaN   \n3                 NaN                           NaN                    NaN   \n4                 NaN                           NaN                    NaN   \n\n   Min Valuation Max Valuation Min Price/Sales Ratio  Max Price/Sales Ratio  \n0          24.02         24.02              4.719057               4.719057  \n1         240.79        240.79                   NaN                    NaN  \n2            NaN           NaN                   NaN                    NaN  \n3            NaN           NaN                   NaN                    NaN  \n4            NaN           NaN                   NaN                    NaN  \n\n[5 rows x 23 columns]",
      "text/html": "<div>\n<style scoped>\n    .dataframe tbody tr th:only-of-type {\n        vertical-align: middle;\n    }\n\n    .dataframe tbody tr th {\n        vertical-align: top;\n    }\n\n    .dataframe thead th {\n        text-align: right;\n    }\n</style>\n<table border=\"1\" class=\"dataframe\">\n  <thead>\n    <tr style=\"text-align: right;\">\n      <th></th>\n      <th>Company</th>\n      <th>URL</th>\n      <th>Company Description</th>\n      <th>All Investors</th>\n      <th>Total Funding</th>\n      <th>Sector</th>\n      <th>Industry</th>\n      <th>Sub-Industry</th>\n      <th>Country</th>\n      <th>State</th>\n      <th>...</th>\n      <th>Exit Date</th>\n      <th>Last Funding Round</th>\n      <th>Last Funding Date</th>\n      <th>Last Funding Amount</th>\n      <th>Last Funding Simplified Round</th>\n      <th>Last Funding Investors</th>\n      <th>Min Valuation</th>\n      <th>Max Valuation</th>\n      <th>Min Price/Sales Ratio</th>\n      <th>Max Price/Sales Ratio</th>\n    </tr>\n  </thead>\n  <tbody>\n    <tr>\n      <th>0</th>\n      <td>1347 Property Insurance Holdings</td>\n      <td>http://www.1347pih.com</td>\n      <td>1347 Property Insurance Holdings provides prop...</td>\n      <td>Public</td>\n      <td>NaN</td>\n      <td>Financial</td>\n      <td>Insurance</td>\n      <td>NaN</td>\n      <td>United States</td>\n      <td>Louisiana</td>\n      <td>...</td>\n      <td>2014-04-01</td>\n      <td>NaN</td>\n      <td>NaT</td>\n      <td>NaN</td>\n      <td>NaN</td>\n      <td>NaN</td>\n      <td>24.02</td>\n      <td>24.02</td>\n      <td>4.719057</td>\n      <td>4.719057</td>\n    </tr>\n    <tr>\n      <th>1</th>\n      <td>4Front Ventures</td>\n      <td>http://www.4frontventures.com</td>\n      <td>4Front is an investment and management firm in...</td>\n      <td>Cannex Capital Group;Merida Capital Partners;U...</td>\n      <td>57.76</td>\n      <td>Financial</td>\n      <td>Investment Firms &amp; Funds</td>\n      <td>NaN</td>\n      <td>United States</td>\n      <td>Arizona</td>\n      <td>...</td>\n      <td>2019-07-31</td>\n      <td>Unattributed - III</td>\n      <td>2018-10-25</td>\n      <td>31.0</td>\n      <td>Undisclosed</td>\n      <td>Undisclosed Investors</td>\n      <td>240.79</td>\n      <td>240.79</td>\n      <td>NaN</td>\n      <td>NaN</td>\n    </tr>\n    <tr>\n      <th>2</th>\n      <td>AFC Gamma</td>\n      <td>http://www.afcgamma.com</td>\n      <td>Advanced Flower Capital (AFC Gamma) is a premi...</td>\n      <td>Public</td>\n      <td>NaN</td>\n      <td>Financial</td>\n      <td>Lending</td>\n      <td>Commercial</td>\n      <td>United States</td>\n      <td>Florida</td>\n      <td>...</td>\n      <td>2021-03-18</td>\n      <td>NaN</td>\n      <td>NaT</td>\n      <td>NaN</td>\n      <td>NaN</td>\n      <td>NaN</td>\n      <td>NaN</td>\n      <td>NaN</td>\n      <td>NaN</td>\n      <td>NaN</td>\n    </tr>\n    <tr>\n      <th>3</th>\n      <td>AGNC Investment</td>\n      <td>http://www.agnc.com</td>\n      <td>AGNC Investment (\"AGNC\") is an internally-mana...</td>\n      <td>American Capital</td>\n      <td>NaN</td>\n      <td>Financial</td>\n      <td>Real Estate</td>\n      <td>REITs</td>\n      <td>United States</td>\n      <td>Maryland</td>\n      <td>...</td>\n      <td>NaT</td>\n      <td>NaN</td>\n      <td>NaT</td>\n      <td>NaN</td>\n      <td>NaN</td>\n      <td>NaN</td>\n      <td>NaN</td>\n      <td>NaN</td>\n      <td>NaN</td>\n      <td>NaN</td>\n    </tr>\n    <tr>\n      <th>4</th>\n      <td>ARM Financial Group</td>\n      <td>NaN</td>\n      <td>ARM Financial Group is a Financial/Insurance/H...</td>\n      <td>Public</td>\n      <td>NaN</td>\n      <td>Financial</td>\n      <td>Insurance</td>\n      <td>Health Insurance</td>\n      <td>United States</td>\n      <td>Kentucky</td>\n      <td>...</td>\n      <td>1998-05-18</td>\n      <td>NaN</td>\n      <td>NaT</td>\n      <td>NaN</td>\n      <td>NaN</td>\n      <td>NaN</td>\n      <td>NaN</td>\n      <td>NaN</td>\n      <td>NaN</td>\n      <td>NaN</td>\n    </tr>\n  </tbody>\n</table>\n<p>5 rows × 23 columns</p>\n</div>"
     },
     "metadata": {}
    }
   ],
   "execution_count": null
  },
  {
   "cell_type": "code",
   "source": "public_financial.shape",
   "metadata": {
    "tags": [],
    "cell_id": "00006-4956cf4c-0cd3-4396-8949-fa9817551041",
    "deepnote_to_be_reexecuted": false,
    "source_hash": "4f594dae",
    "execution_start": 1624301520892,
    "execution_millis": 7,
    "deepnote_cell_type": "code"
   },
   "outputs": [
    {
     "output_type": "execute_result",
     "execution_count": 7,
     "data": {
      "text/plain": "(469, 23)"
     },
     "metadata": {}
    }
   ],
   "execution_count": null
  },
  {
   "cell_type": "code",
   "metadata": {
    "tags": [],
    "cell_id": "00006-4ff3bca5-0b17-469b-910e-7e56ed17a0c6",
    "deepnote_to_be_reexecuted": false,
    "source_hash": "c250ab9",
    "execution_start": 1624296364962,
    "execution_millis": 6,
    "deepnote_cell_type": "code"
   },
   "source": "public_list= list(public_financial['Company'].unique())\nlen(public_list)",
   "execution_count": null,
   "outputs": [
    {
     "output_type": "execute_result",
     "execution_count": 22,
     "data": {
      "text/plain": "469"
     },
     "metadata": {}
    }
   ]
  },
  {
   "cell_type": "code",
   "metadata": {
    "tags": [],
    "cell_id": "00007-fa5b19b2-2b03-423f-aa05-d0e495ea5ec6",
    "deepnote_to_be_reexecuted": false,
    "source_hash": "40e219f8",
    "execution_start": 1624296366017,
    "execution_millis": 9,
    "deepnote_cell_type": "code"
   },
   "source": "union = set(list_250) & set(public_list)\nlen(union)",
   "execution_count": null,
   "outputs": [
    {
     "output_type": "execute_result",
     "execution_count": 23,
     "data": {
      "text/plain": "0"
     },
     "metadata": {}
    }
   ]
  },
  {
   "cell_type": "markdown",
   "source": "### Load companies IPO data",
   "metadata": {
    "tags": [],
    "cell_id": "00006-7a6917e9-6be2-46b4-a432-5efa8de4d100",
    "deepnote_cell_type": "markdown"
   }
  },
  {
   "cell_type": "code",
   "metadata": {
    "tags": [],
    "cell_id": "00003-1aebd72b-77ce-49c9-878a-6711336f3853",
    "deepnote_to_be_reexecuted": false,
    "source_hash": "b3eeb0a5",
    "execution_start": 1624296583702,
    "execution_millis": 4063,
    "deepnote_cell_type": "code"
   },
   "source": "IPO = pd.read_excel('IPO-age.xlsx', engine='openpyxl')\nIPO = IPO.iloc[:, :11]\nIPO.head()",
   "execution_count": null,
   "outputs": [
    {
     "output_type": "execute_result",
     "execution_count": 25,
     "data": {
      "application/vnd.deepnote.dataframe.v2+json": {
       "row_count": 5,
       "column_count": 11,
       "columns": [
        {
         "name": "CUSIP",
         "dtype": "object",
         "stats": {
          "unique_count": 5,
          "nan_count": 0,
          "categories": [
           {
            "name": "78088610",
            "count": 1
           },
           {
            "name": "92212610",
            "count": 1
           },
           {
            "name": "3 others",
            "count": 3
           }
          ]
         }
        },
        {
         "name": "offer date",
         "dtype": "int64",
         "stats": {
          "unique_count": 5,
          "nan_count": 0,
          "min": "19750130",
          "max": "19750826",
          "histogram": [
           {
            "bin_start": 19750130,
            "bin_end": 19750199.6,
            "count": 1
           },
           {
            "bin_start": 19750199.6,
            "bin_end": 19750269.2,
            "count": 0
           },
           {
            "bin_start": 19750269.2,
            "bin_end": 19750338.8,
            "count": 0
           },
           {
            "bin_start": 19750338.8,
            "bin_end": 19750408.4,
            "count": 0
           },
           {
            "bin_start": 19750408.4,
            "bin_end": 19750478,
            "count": 0
           },
           {
            "bin_start": 19750478,
            "bin_end": 19750547.6,
            "count": 0
           },
           {
            "bin_start": 19750547.6,
            "bin_end": 19750617.2,
            "count": 2
           },
           {
            "bin_start": 19750617.2,
            "bin_end": 19750686.8,
            "count": 0
           },
           {
            "bin_start": 19750686.8,
            "bin_end": 19750756.4,
            "count": 1
           },
           {
            "bin_start": 19750756.4,
            "bin_end": 19750826,
            "count": 1
           }
          ]
         }
        },
        {
         "name": "name of IPO",
         "dtype": "object",
         "stats": {
          "unique_count": 5,
          "nan_count": 0,
          "categories": [
           {
            "name": "ROYSTER",
            "count": 1
           },
           {
            "name": "VARCO",
            "count": 1
           },
           {
            "name": "3 others",
            "count": 3
           }
          ]
         }
        },
        {
         "name": "Ticker",
         "dtype": "object",
         "stats": {
          "unique_count": 2,
          "nan_count": 3,
          "categories": [
           {
            "name": "VRC",
            "count": 1
           },
           {
            "name": "TAP",
            "count": 1
           },
           {
            "name": "Missing",
            "count": 3
           }
          ]
         }
        },
        {
         "name": "VC",
         "dtype": "object",
         "stats": {
          "unique_count": 1,
          "nan_count": 0,
          "categories": [
           {
            "name": "0",
            "count": 5
           }
          ]
         }
        },
        {
         "name": "Rollup",
         "dtype": "int64",
         "stats": {
          "unique_count": 1,
          "nan_count": 0,
          "min": "0",
          "max": "0",
          "histogram": [
           {
            "bin_start": -0.5,
            "bin_end": -0.4,
            "count": 0
           },
           {
            "bin_start": -0.4,
            "bin_end": -0.3,
            "count": 0
           },
           {
            "bin_start": -0.3,
            "bin_end": -0.19999999999999996,
            "count": 0
           },
           {
            "bin_start": -0.19999999999999996,
            "bin_end": -0.09999999999999998,
            "count": 0
           },
           {
            "bin_start": -0.09999999999999998,
            "bin_end": 0,
            "count": 0
           },
           {
            "bin_start": 0,
            "bin_end": 0.10000000000000009,
            "count": 5
           },
           {
            "bin_start": 0.10000000000000009,
            "bin_end": 0.20000000000000007,
            "count": 0
           },
           {
            "bin_start": 0.20000000000000007,
            "bin_end": 0.30000000000000004,
            "count": 0
           },
           {
            "bin_start": 0.30000000000000004,
            "bin_end": 0.4,
            "count": 0
           },
           {
            "bin_start": 0.4,
            "bin_end": 0.5,
            "count": 0
           }
          ]
         }
        },
        {
         "name": "PERM",
         "dtype": "object",
         "stats": {
          "unique_count": 5,
          "nan_count": 0,
          "categories": [
           {
            "name": "67898",
            "count": 1
           },
           {
            "name": "63044",
            "count": 1
           },
           {
            "name": "3 others",
            "count": 3
           }
          ]
         }
        },
        {
         "name": "Dual",
         "dtype": "object",
         "stats": {
          "unique_count": 2,
          "nan_count": 0,
          "categories": [
           {
            "name": "0",
            "count": 4
           },
           {
            "name": "1",
            "count": 1
           }
          ]
         }
        },
        {
         "name": "Internet",
         "dtype": "object",
         "stats": {
          "unique_count": 1,
          "nan_count": 0,
          "categories": [
           {
            "name": "0",
            "count": 5
           }
          ]
         }
        },
        {
         "name": "post-issue shares",
         "dtype": "object",
         "stats": {
          "unique_count": 2,
          "nan_count": 0,
          "categories": [
           {
            "name": ".",
            "count": 4
           },
           {
            "name": "34159000",
            "count": 1
           }
          ]
         }
        },
        {
         "name": "Founding",
         "dtype": "int64",
         "stats": {
          "unique_count": 4,
          "nan_count": 0,
          "min": "1901",
          "max": "1965",
          "histogram": [
           {
            "bin_start": 1901,
            "bin_end": 1907.4,
            "count": 2
           },
           {
            "bin_start": 1907.4,
            "bin_end": 1913.8,
            "count": 2
           },
           {
            "bin_start": 1913.8,
            "bin_end": 1920.2,
            "count": 0
           },
           {
            "bin_start": 1920.2,
            "bin_end": 1926.6,
            "count": 0
           },
           {
            "bin_start": 1926.6,
            "bin_end": 1933,
            "count": 0
           },
           {
            "bin_start": 1933,
            "bin_end": 1939.4,
            "count": 0
           },
           {
            "bin_start": 1939.4,
            "bin_end": 1945.8,
            "count": 0
           },
           {
            "bin_start": 1945.8,
            "bin_end": 1952.2,
            "count": 0
           },
           {
            "bin_start": 1952.2,
            "bin_end": 1958.6,
            "count": 0
           },
           {
            "bin_start": 1958.6,
            "bin_end": 1965,
            "count": 1
           }
          ]
         }
        },
        {
         "name": "_deepnote_index_column",
         "dtype": "int64"
        }
       ],
       "rows_top": [
        {
         "CUSIP": "78088610",
         "offer date": 19750130,
         "name of IPO": "ROYSTER",
         "Ticker": "nan",
         "VC": "0",
         "Rollup": 0,
         "PERM": "67898",
         "Dual": "0",
         "Internet": "0",
         "post-issue shares": ".",
         "Founding": 1901,
         "_deepnote_index_column": 0
        },
        {
         "CUSIP": "92212610",
         "offer date": 19750609,
         "name of IPO": "VARCO",
         "Ticker": "VRC",
         "VC": "0",
         "Rollup": 0,
         "PERM": "63044",
         "Dual": "0",
         "Internet": "0",
         "post-issue shares": ".",
         "Founding": 1908,
         "_deepnote_index_column": 1
        },
        {
         "CUSIP": "21701610",
         "offer date": 19750610,
         "name of IPO": "COORS ADOLPH",
         "Ticker": "TAP",
         "VC": "0",
         "Rollup": 0,
         "PERM": "59248",
         "Dual": "1",
         "Internet": "0",
         "post-issue shares": "34159000",
         "Founding": 1901,
         "_deepnote_index_column": 2
        },
        {
         "CUSIP": "49348410",
         "offer date": 19750715,
         "name of IPO": "KEYSTONE FOODS CORP",
         "Ticker": "nan",
         "VC": "0",
         "Rollup": 0,
         "PERM": "61989",
         "Dual": "0",
         "Internet": "0",
         "post-issue shares": ".",
         "Founding": 1965,
         "_deepnote_index_column": 3
        },
        {
         "CUSIP": "10564710",
         "offer date": 19750826,
         "name of IPO": "C. F. BRAUN",
         "Ticker": "nan",
         "VC": "0",
         "Rollup": 0,
         "PERM": "58579",
         "Dual": "0",
         "Internet": "0",
         "post-issue shares": ".",
         "Founding": 1909,
         "_deepnote_index_column": 4
        }
       ],
       "rows_bottom": null
      },
      "text/plain": "      CUSIP  offer date          name of IPO Ticker VC  Rollup   PERM Dual  \\\n0  78088610    19750130              ROYSTER    NaN  0       0  67898    0   \n1  92212610    19750609                VARCO    VRC  0       0  63044    0   \n2  21701610    19750610         COORS ADOLPH    TAP  0       0  59248    1   \n3  49348410    19750715  KEYSTONE FOODS CORP    NaN  0       0  61989    0   \n4  10564710    19750826          C. F. BRAUN    NaN  0       0  58579    0   \n\n  Internet post-issue shares  Founding  \n0        0                 .      1901  \n1        0                 .      1908  \n2        0          34159000      1901  \n3        0                 .      1965  \n4        0                 .      1909  ",
      "text/html": "<div>\n<style scoped>\n    .dataframe tbody tr th:only-of-type {\n        vertical-align: middle;\n    }\n\n    .dataframe tbody tr th {\n        vertical-align: top;\n    }\n\n    .dataframe thead th {\n        text-align: right;\n    }\n</style>\n<table border=\"1\" class=\"dataframe\">\n  <thead>\n    <tr style=\"text-align: right;\">\n      <th></th>\n      <th>CUSIP</th>\n      <th>offer date</th>\n      <th>name of IPO</th>\n      <th>Ticker</th>\n      <th>VC</th>\n      <th>Rollup</th>\n      <th>PERM</th>\n      <th>Dual</th>\n      <th>Internet</th>\n      <th>post-issue shares</th>\n      <th>Founding</th>\n    </tr>\n  </thead>\n  <tbody>\n    <tr>\n      <th>0</th>\n      <td>78088610</td>\n      <td>19750130</td>\n      <td>ROYSTER</td>\n      <td>NaN</td>\n      <td>0</td>\n      <td>0</td>\n      <td>67898</td>\n      <td>0</td>\n      <td>0</td>\n      <td>.</td>\n      <td>1901</td>\n    </tr>\n    <tr>\n      <th>1</th>\n      <td>92212610</td>\n      <td>19750609</td>\n      <td>VARCO</td>\n      <td>VRC</td>\n      <td>0</td>\n      <td>0</td>\n      <td>63044</td>\n      <td>0</td>\n      <td>0</td>\n      <td>.</td>\n      <td>1908</td>\n    </tr>\n    <tr>\n      <th>2</th>\n      <td>21701610</td>\n      <td>19750610</td>\n      <td>COORS ADOLPH</td>\n      <td>TAP</td>\n      <td>0</td>\n      <td>0</td>\n      <td>59248</td>\n      <td>1</td>\n      <td>0</td>\n      <td>34159000</td>\n      <td>1901</td>\n    </tr>\n    <tr>\n      <th>3</th>\n      <td>49348410</td>\n      <td>19750715</td>\n      <td>KEYSTONE FOODS CORP</td>\n      <td>NaN</td>\n      <td>0</td>\n      <td>0</td>\n      <td>61989</td>\n      <td>0</td>\n      <td>0</td>\n      <td>.</td>\n      <td>1965</td>\n    </tr>\n    <tr>\n      <th>4</th>\n      <td>10564710</td>\n      <td>19750826</td>\n      <td>C. F. BRAUN</td>\n      <td>NaN</td>\n      <td>0</td>\n      <td>0</td>\n      <td>58579</td>\n      <td>0</td>\n      <td>0</td>\n      <td>.</td>\n      <td>1909</td>\n    </tr>\n  </tbody>\n</table>\n</div>"
     },
     "metadata": {}
    }
   ]
  },
  {
   "cell_type": "code",
   "metadata": {
    "tags": [],
    "cell_id": "00004-1cf885e3-b66c-41be-a94d-b3744d79e877",
    "deepnote_to_be_reexecuted": false,
    "source_hash": "e1f62e24",
    "execution_start": 1624296587762,
    "execution_millis": 9,
    "deepnote_cell_type": "code"
   },
   "source": "IPO.shape",
   "execution_count": null,
   "outputs": [
    {
     "output_type": "execute_result",
     "execution_count": 26,
     "data": {
      "text/plain": "(14164, 11)"
     },
     "metadata": {}
    }
   ]
  },
  {
   "cell_type": "code",
   "metadata": {
    "tags": [],
    "cell_id": "00011-252483d0-5430-48e3-8d5f-c06275044db9",
    "deepnote_to_be_reexecuted": false,
    "source_hash": "4ea321f7",
    "execution_start": 1624296632285,
    "execution_millis": 6,
    "deepnote_cell_type": "code"
   },
   "source": "def get_symbol(symbol):\n    url = \"http://d.yimg.com/autoc.finance.yahoo.com/autoc?query={}&region=1&lang=en\".format(symbol)\n\n    result = requests.get(url).json()\n\n    for x in result['ResultSet']['Result']:\n        if x['symbol'] == symbol:\n            return x['name']",
   "execution_count": null,
   "outputs": []
  },
  {
   "cell_type": "code",
   "metadata": {
    "tags": [],
    "cell_id": "00012-6d1d2bae-3750-408a-b843-07a476afec4c",
    "deepnote_to_be_reexecuted": false,
    "source_hash": "c256a74e",
    "execution_start": 1624296948399,
    "execution_millis": 63,
    "deepnote_cell_type": "code"
   },
   "source": "company = get_symbol(\"MSFT\")\ncompany",
   "execution_count": null,
   "outputs": [
    {
     "output_type": "execute_result",
     "execution_count": 33,
     "data": {
      "text/plain": "'Microsoft Corporation'"
     },
     "metadata": {}
    }
   ]
  },
  {
   "cell_type": "code",
   "metadata": {
    "tags": [],
    "cell_id": "00013-688549f7-d008-4ca3-a68e-98a3f0008e37",
    "deepnote_to_be_reexecuted": false,
    "source_hash": "34725d33",
    "execution_start": 1624296751201,
    "execution_millis": 10,
    "deepnote_cell_type": "code"
   },
   "source": "IPO['Ticker']",
   "execution_count": null,
   "outputs": [
    {
     "output_type": "execute_result",
     "execution_count": 30,
     "data": {
      "text/plain": "0    NaN\n1    VRC\n2    TAP\n3    NaN\n4    NaN\nName: Ticker, dtype: object"
     },
     "metadata": {}
    }
   ]
  },
  {
   "cell_type": "code",
   "metadata": {
    "tags": [],
    "cell_id": "00014-65955358-ea06-4a43-a225-72447caa1ded",
    "deepnote_cell_type": "code"
   },
   "source": "",
   "execution_count": null,
   "outputs": []
  },
  {
   "cell_type": "markdown",
   "source": "<a style='text-decoration:none;line-height:16px;display:flex;color:#5B5B62;padding:10px;justify-content:end;' href='https://deepnote.com?utm_source=created-in-deepnote-cell&projectId=aaf19c1d-a3b1-4f9b-b674-e32609e59fe1' target=\"_blank\">\n<img alt='Created in deepnote.com' style='display:inline;max-height:16px;margin:0px;margin-right:7.5px;' src='data:image/svg+xml;base64,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' > </img>\nCreated in <span style='font-weight:600;margin-left:4px;'>Deepnote</span></a>",
   "metadata": {
    "tags": [],
    "created_in_deepnote_cell": true,
    "deepnote_cell_type": "markdown"
   }
  }
 ],
 "nbformat": 4,
 "nbformat_minor": 2,
 "metadata": {
  "orig_nbformat": 2,
  "deepnote": {
   "is_reactive": false
  },
  "deepnote_notebook_id": "d850d4c5-c61d-4dd8-a073-1220759ab39d",
  "deepnote_execution_queue": []
 }
}