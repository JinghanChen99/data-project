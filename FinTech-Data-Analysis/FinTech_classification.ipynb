{
 "cells": [
  {
   "cell_type": "code",
   "metadata": {
    "tags": [],
    "cell_id": "00000-52c7e4b8-4844-44f8-b346-c42bec2d0adc",
    "deepnote_to_be_reexecuted": false,
    "source_hash": "239aaa2d",
    "execution_start": 1627520689305,
    "execution_millis": 0,
    "deepnote_cell_type": "code"
   },
   "source": "import pandas as pd \nimport numpy as np ",
   "execution_count": null,
   "outputs": []
  },
  {
   "cell_type": "markdown",
   "source": "### Filter out traditional banks\nS1-Form - Traditional Bank (Commercial)\n\n* #6021 - NATIONAL COMMERCIAL BANKS [223]\n* #6022 - STATE COMMERCIAL BANKS [349]\n* #6029 - COMMERCIAL BANKS, NEC [50]\n* #6099 - FUNCTIONS RELATED TO DEPOSITORY BANKING, NEC [58]\n* #6162 - MORTGAGE BANKERS & LOAN CORRESPONDENTS [107] ???",
   "metadata": {
    "tags": [],
    "cell_id": "00004-4ad36d12-fb8b-4d21-acba-2e2d16acb407",
    "deepnote_cell_type": "markdown"
   }
  },
  {
   "cell_type": "code",
   "metadata": {
    "tags": [],
    "cell_id": "00002-02dd417d-70d0-49dc-983d-9aecbc671384",
    "deepnote_to_be_reexecuted": false,
    "source_hash": "742336e0",
    "execution_start": 1627520689305,
    "execution_millis": 0,
    "deepnote_cell_type": "code"
   },
   "source": "traditional = [\"6021\", \"6022\", \"6029\", \"6099\", \"6162\"]",
   "execution_count": null,
   "outputs": []
  },
  {
   "cell_type": "markdown",
   "source": "### Create a keywords list for technology companies\nTech comapnies + financial keywords = FinTech\n\nS1-Form - FinTech\n* 7389 - SERVICES-BUSINESS SERVICES, NEC\n* 7372 - SERVICES-PREPACKAGED SOFTWARE",
   "metadata": {
    "tags": [],
    "cell_id": "00003-8cacbf0a-24f0-4c3f-bc4b-26efb01af25b",
    "deepnote_cell_type": "markdown"
   }
  },
  {
   "cell_type": "code",
   "metadata": {
    "tags": [],
    "cell_id": "00002-c7127d5e-7edb-42dd-94e5-d934bee2b0ce",
    "deepnote_to_be_reexecuted": false,
    "source_hash": "e2249a76",
    "execution_start": 1627520689306,
    "execution_millis": 2,
    "deepnote_cell_type": "code"
   },
   "source": "# Paypal 7389 \nPaypal = [\"payment\"] \n# Square 7372 \nSquare = [\"payment\", \"app\" , \"card reader\"] \n# Visa 7389 \nVisa = [\"payment\", \"electronic\", \"payments networks\"] \n# MasterCard 7389 \nMasterCard = [\"payment\", \"transaction processing\"] \n# Western Union 7389 \nWestern_Union = [\"money transfer\", \"payment\"]\n# first data 7374 \nFirst_Data = [\"eCommerce\", \"payment\", \"payment\", \"banking\", \"wallet\"]\n# SunGard Insurance Systems LLC 7370, 7374\nSunGard_insurance = [\"insurance\", \"finance\", \"payment\", \"financial data\"]",
   "execution_count": null,
   "outputs": []
  },
  {
   "cell_type": "code",
   "metadata": {
    "tags": [],
    "cell_id": "00006-beb1da57-e304-47d8-8f0f-6af3daad025f",
    "deepnote_to_be_reexecuted": false,
    "source_hash": "32d00dc6",
    "execution_start": 1627520689309,
    "execution_millis": 1,
    "deepnote_cell_type": "code"
   },
   "source": "# Not found from the list \n# Coinbase 7389\nCoinbase = [\"payment\", \"blockchain\", \"crypto\"]\n# Green dot 7389\nGreen_dot = [\"payment\", \"prepaid\"]",
   "execution_count": null,
   "outputs": []
  },
  {
   "cell_type": "code",
   "metadata": {
    "tags": [],
    "cell_id": "00006-b387ac25-cb48-4b1e-9942-6a6cb7f395a8",
    "deepnote_to_be_reexecuted": false,
    "source_hash": "444bda42",
    "execution_start": 1627520689318,
    "execution_millis": 1,
    "deepnote_cell_type": "code"
   },
   "source": "extra_fin = ['invest', 'loans', 'insurance', 'mortgage', 'financial service', 'financial', 'transaction']",
   "execution_count": null,
   "outputs": []
  },
  {
   "cell_type": "code",
   "metadata": {
    "tags": [],
    "cell_id": "00006-7d655971-ff12-460c-af0e-e19ed51c3383",
    "deepnote_to_be_reexecuted": false,
    "source_hash": "14e74de7",
    "execution_start": 1627520689320,
    "execution_millis": 16,
    "deepnote_cell_type": "code"
   },
   "source": "fin_keywords = Paypal + Square + Visa + MasterCard + Western_Union + First_Data + SunGard_insurance + extra_fin\nfin_keywords = sorted(list(set(fin_keywords)))\nfin_keywords",
   "execution_count": null,
   "outputs": [
    {
     "output_type": "execute_result",
     "execution_count": 6,
     "data": {
      "text/plain": "['app',\n 'banking',\n 'card reader',\n 'eCommerce',\n 'electronic',\n 'finance',\n 'financial',\n 'financial data',\n 'financial service',\n 'insurance',\n 'invest',\n 'loans',\n 'money transfer',\n 'mortgage',\n 'payment',\n 'payments networks',\n 'transaction',\n 'transaction processing',\n 'wallet']"
     },
     "metadata": {}
    }
   ]
  },
  {
   "cell_type": "markdown",
   "source": "### Create a keywords list for finance companies\nFinancial service + tech keywords = FinTech \n* 6200 - SECURITY & COMMODITY BROKERS, DEALERS, EXCHANGES & SERVICES",
   "metadata": {
    "tags": [],
    "cell_id": "00007-8fbaa0a4-5cbc-4c2e-a714-d2ec7102e72b",
    "deepnote_cell_type": "markdown"
   }
  },
  {
   "cell_type": "code",
   "metadata": {
    "tags": [],
    "cell_id": "00007-5dbc32e4-5171-48bc-bf34-fbd7989cb5c2",
    "deepnote_to_be_reexecuted": false,
    "source_hash": "778f16f",
    "execution_start": 1627520689334,
    "execution_millis": 4,
    "deepnote_cell_type": "code"
   },
   "source": "# CBOE 6200 \nCBOE = [\"internet\", \"marketplace\", \"Options\"] \n# Affirm 6331\nAffirm = [\"internet\", \"insurance\", \"technology\", \"software\"] ",
   "execution_count": null,
   "outputs": []
  },
  {
   "cell_type": "code",
   "metadata": {
    "tags": [],
    "cell_id": "00010-268a2f49-e5f5-4079-b66d-392ec5655003",
    "deepnote_to_be_reexecuted": false,
    "source_hash": "f92127da",
    "execution_start": 1627520689381,
    "execution_millis": 1,
    "deepnote_cell_type": "code"
   },
   "source": "tech_extra = [\"information technology\", \"cloud\", \"artificial intelligence\", \"data mining\", \"digital\", \"mobile\"]",
   "execution_count": null,
   "outputs": []
  },
  {
   "cell_type": "code",
   "metadata": {
    "tags": [],
    "cell_id": "00011-d7f82001-91b0-44f2-8bfc-7d8c9ff7cff7",
    "deepnote_to_be_reexecuted": false,
    "source_hash": "32b9d9cb",
    "execution_start": 1627520689382,
    "execution_millis": 5,
    "deepnote_cell_type": "code"
   },
   "source": "tech_keywords = CBOE + Affirm + tech_extra\ntech_keywords = list(set(tech_keywords))\ntech_keywords",
   "execution_count": null,
   "outputs": [
    {
     "output_type": "execute_result",
     "execution_count": 9,
     "data": {
      "text/plain": "['cloud',\n 'mobile',\n 'data mining',\n 'internet',\n 'digital',\n 'software',\n 'insurance',\n 'information technology',\n 'artificial intelligence',\n 'Options',\n 'technology',\n 'marketplace']"
     },
     "metadata": {}
    }
   ]
  },
  {
   "cell_type": "code",
   "metadata": {
    "tags": [],
    "cell_id": "00012-f4c2e032-871c-47ed-adce-bd4174f66a60",
    "deepnote_to_be_reexecuted": false,
    "source_hash": "b623e53d",
    "execution_start": 1627520689383,
    "execution_millis": 0,
    "deepnote_cell_type": "code"
   },
   "source": "",
   "execution_count": null,
   "outputs": []
  },
  {
   "cell_type": "markdown",
   "source": "<a style='text-decoration:none;line-height:16px;display:flex;color:#5B5B62;padding:10px;justify-content:end;' href='https://deepnote.com?utm_source=created-in-deepnote-cell&projectId=aaf19c1d-a3b1-4f9b-b674-e32609e59fe1' target=\"_blank\">\n<img alt='Created in deepnote.com' style='display:inline;max-height:16px;margin:0px;margin-right:7.5px;' src='data:image/svg+xml;base64,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' > </img>\nCreated in <span style='font-weight:600;margin-left:4px;'>Deepnote</span></a>",
   "metadata": {
    "tags": [],
    "created_in_deepnote_cell": true,
    "deepnote_cell_type": "markdown"
   }
  }
 ],
 "nbformat": 4,
 "nbformat_minor": 2,
 "metadata": {
  "orig_nbformat": 2,
  "deepnote": {
   "is_reactive": false
  },
  "deepnote_notebook_id": "9ea1f7d3-3dcb-4f9f-a2a3-c20ae4f40e16",
  "deepnote_execution_queue": []
 }
}