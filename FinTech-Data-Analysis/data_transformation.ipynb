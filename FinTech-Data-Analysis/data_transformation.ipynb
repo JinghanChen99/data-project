{
 "cells": [
  {
   "cell_type": "code",
   "metadata": {
    "tags": [],
    "cell_id": "00000-6f5dafad-8c6b-4729-a8c3-844f47196178",
    "deepnote_to_be_reexecuted": false,
    "source_hash": "54f7a89d",
    "execution_start": 1627642197832,
    "execution_millis": 2742,
    "deepnote_cell_type": "code"
   },
   "source": "# data manipulation\nimport pandas as pd\nimport numpy as np\n\n# viaulization \nimport matplotlib.pyplot as plt\nimport seaborn as sns\nimport cufflinks as cf \nimport plotly.express as px\n\n# APIs\nfrom googlesearch import search\nfrom yahoo_finance import *",
   "outputs": [],
   "execution_count": null
  },
  {
   "cell_type": "markdown",
   "source": "### Load 250 FinTech companies from Excel",
   "metadata": {
    "tags": [],
    "cell_id": "00001-9600833f-1819-4071-9594-d6d92d742750",
    "deepnote_cell_type": "markdown"
   }
  },
  {
   "cell_type": "code",
   "metadata": {
    "tags": [],
    "cell_id": "00001-e0024354-eaf7-4c2b-86c2-12ef3c8064dc",
    "deepnote_to_be_reexecuted": false,
    "source_hash": "388638",
    "execution_start": 1627642200581,
    "execution_millis": 822,
    "deepnote_cell_type": "code"
   },
   "source": "fintech_250 = pd.read_excel('Fintech250_2020.xlsx', engine='openpyxl')\nfintech_250.head()",
   "outputs": [
    {
     "output_type": "execute_result",
     "execution_count": 2,
     "data": {
      "application/vnd.deepnote.dataframe.v2+json": {
       "row_count": 5,
       "column_count": 16,
       "columns": [
        {
         "name": "Company",
         "dtype": "object",
         "stats": {
          "unique_count": 5,
          "nan_count": 0,
          "categories": [
           {
            "name": "10x Future Technologies",
            "count": 1
           },
           {
            "name": "Addepar",
            "count": 1
           },
           {
            "name": "3 others",
            "count": 3
           }
          ]
         }
        },
        {
         "name": "URL",
         "dtype": "object",
         "stats": {
          "unique_count": 5,
          "nan_count": 0,
          "categories": [
           {
            "name": "10xbanking.com",
            "count": 1
           },
           {
            "name": "addepar.com",
            "count": 1
           },
           {
            "name": "3 others",
            "count": 3
           }
          ]
         }
        },
        {
         "name": "Category",
         "dtype": "object",
         "stats": {
          "unique_count": 5,
          "nan_count": 0,
          "categories": [
           {
            "name": "Core banking & infrastructure",
            "count": 1
           },
           {
            "name": "Asset Management",
            "count": 1
           },
           {
            "name": "3 others",
            "count": 3
           }
          ]
         }
        },
        {
         "name": "Description",
         "dtype": "object",
         "stats": {
          "unique_count": 5,
          "nan_count": 0,
          "categories": [
           {
            "name": "10x Future Technologies is a financial business that seeks to empower banks and non-banks to optimize their customer data and interactions. The company's platform is based on a full suite of capabilities covering banking process automation, compliance reporting, security, and analytics.10x offers its partners digital and data modeling services with a modular construction and open APIs.",
            "count": 1
           },
           {
            "name": "Addepar is a financial operating system that aims to bring common sense and ethical, data-driven investing to the financial world. Addepar gives advisors and their clients a clearer financial picture at every level, all in one place and handles all types of assets denominated in any currency. With customizable reporting, financial advisors can visualize and communicate relevant information to anyone who needs it.",
            "count": 1
           },
           {
            "name": "3 others",
            "count": 3
           }
          ]
         }
        },
        {
         "name": "Tag",
         "dtype": "object",
         "stats": {
          "unique_count": 5,
          "nan_count": 0,
          "categories": [
           {
            "name": "Fintech250_2018, CoreBanking&Infrastructure, coreBanking&Infrastructure",
            "count": 1
           },
           {
            "name": "AssetManagement, B2B, FinancialServicesSoftware, WealthManagement, advisortech",
            "count": 1
           },
           {
            "name": "3 others",
            "count": 3
           }
          ]
         }
        },
        {
         "name": "State",
         "dtype": "object",
         "stats": {
          "unique_count": 3,
          "nan_count": 1,
          "categories": [
           {
            "name": "California",
            "count": 2
           },
           {
            "name": "2 others",
            "count": 2
           },
           {
            "name": "Missing",
            "count": 1
           }
          ]
         }
        },
        {
         "name": "Country",
         "dtype": "object",
         "stats": {
          "unique_count": 4,
          "nan_count": 0,
          "categories": [
           {
            "name": "United States",
            "count": 2
           },
           {
            "name": "United Kingdom",
            "count": 1
           },
           {
            "name": "2 others",
            "count": 2
           }
          ]
         }
        },
        {
         "name": "Continent",
         "dtype": "object",
         "stats": {
          "unique_count": 3,
          "nan_count": 0,
          "categories": [
           {
            "name": "Europe",
            "count": 2
           },
           {
            "name": "North America",
            "count": 2
           },
           {
            "name": "Australia",
            "count": 1
           }
          ]
         }
        },
        {
         "name": "Total Funding",
         "dtype": "float64",
         "stats": {
          "unique_count": 5,
          "nan_count": 0,
          "min": "65.66",
          "max": "1775.0",
          "histogram": [
           {
            "bin_start": 65.66,
            "bin_end": 236.594,
            "count": 1
           },
           {
            "bin_start": 236.594,
            "bin_end": 407.528,
            "count": 2
           },
           {
            "bin_start": 407.528,
            "bin_end": 578.462,
            "count": 1
           },
           {
            "bin_start": 578.462,
            "bin_end": 749.396,
            "count": 0
           },
           {
            "bin_start": 749.396,
            "bin_end": 920.3299999999999,
            "count": 0
           },
           {
            "bin_start": 920.3299999999999,
            "bin_end": 1091.2640000000001,
            "count": 0
           },
           {
            "bin_start": 1091.2640000000001,
            "bin_end": 1262.198,
            "count": 0
           },
           {
            "bin_start": 1262.198,
            "bin_end": 1433.132,
            "count": 0
           },
           {
            "bin_start": 1433.132,
            "bin_end": 1604.066,
            "count": 0
           },
           {
            "bin_start": 1604.066,
            "bin_end": 1775,
            "count": 1
           }
          ]
         }
        },
        {
         "name": "Latest Funding Simplified Round",
         "dtype": "object",
         "stats": {
          "unique_count": 4,
          "nan_count": 0,
          "categories": [
           {
            "name": "Series D",
            "count": 2
           },
           {
            "name": "Corporate Minority",
            "count": 1
           },
           {
            "name": "2 others",
            "count": 2
           }
          ]
         }
        },
        {
         "name": "Latest Funding Investors",
         "dtype": "object",
         "stats": {
          "unique_count": 5,
          "nan_count": 0,
          "categories": [
           {
            "name": "Westpac Group",
            "count": 1
           },
           {
            "name": "Sway Ventures, 8VC, WestCap Group",
            "count": 1
           },
           {
            "name": "3 others",
            "count": 3
           }
          ]
         }
        },
        {
         "name": "Latest Funding Amount",
         "dtype": "float64",
         "stats": {
          "unique_count": 4,
          "nan_count": 1,
          "min": "100.0",
          "max": "500.0",
          "histogram": [
           {
            "bin_start": 100,
            "bin_end": 140,
            "count": 2
           },
           {
            "bin_start": 140,
            "bin_end": 180,
            "count": 0
           },
           {
            "bin_start": 180,
            "bin_end": 220,
            "count": 0
           },
           {
            "bin_start": 220,
            "bin_end": 260,
            "count": 1
           },
           {
            "bin_start": 260,
            "bin_end": 300,
            "count": 0
           },
           {
            "bin_start": 300,
            "bin_end": 340,
            "count": 0
           },
           {
            "bin_start": 340,
            "bin_end": 380,
            "count": 0
           },
           {
            "bin_start": 380,
            "bin_end": 420,
            "count": 0
           },
           {
            "bin_start": 420,
            "bin_end": 460,
            "count": 0
           },
           {
            "bin_start": 460,
            "bin_end": 500,
            "count": 1
           }
          ]
         }
        },
        {
         "name": "Latest Funding Date",
         "dtype": "datetime64[ns]",
         "stats": {
          "unique_count": 5,
          "nan_count": 0,
          "min": "2019-11-04 00:00:00",
          "max": "2021-04-19 00:00:00",
          "histogram": [
           {
            "bin_start": 1572825600000000000,
            "bin_end": 1577422080000000000,
            "count": 1
           },
           {
            "bin_start": 1577422080000000000,
            "bin_end": 1582018560000000000,
            "count": 0
           },
           {
            "bin_start": 1582018560000000000,
            "bin_end": 1586615040000000000,
            "count": 0
           },
           {
            "bin_start": 1586615040000000000,
            "bin_end": 1591211520000000000,
            "count": 0
           },
           {
            "bin_start": 1591211520000000000,
            "bin_end": 1595808000000000000,
            "count": 0
           },
           {
            "bin_start": 1595808000000000000,
            "bin_end": 1600404480000000000,
            "count": 1
           },
           {
            "bin_start": 1600404480000000000,
            "bin_end": 1605000960000000000,
            "count": 0
           },
           {
            "bin_start": 1605000960000000000,
            "bin_end": 1609597440000000000,
            "count": 1
           },
           {
            "bin_start": 1609597440000000000,
            "bin_end": 1614193920000000000,
            "count": 0
           },
           {
            "bin_start": 1614193920000000000,
            "bin_end": 1618790400000000000,
            "count": 2
           }
          ]
         }
        },
        {
         "name": "Latest Valuation",
         "dtype": "float64",
         "stats": {
          "unique_count": 4,
          "nan_count": 1,
          "min": "733.17",
          "max": "11894.59",
          "histogram": [
           {
            "bin_start": 733.17,
            "bin_end": 1849.312,
            "count": 2
           },
           {
            "bin_start": 1849.312,
            "bin_end": 2965.454,
            "count": 1
           },
           {
            "bin_start": 2965.454,
            "bin_end": 4081.5960000000005,
            "count": 0
           },
           {
            "bin_start": 4081.5960000000005,
            "bin_end": 5197.738,
            "count": 0
           },
           {
            "bin_start": 5197.738,
            "bin_end": 6313.88,
            "count": 0
           },
           {
            "bin_start": 6313.88,
            "bin_end": 7430.022000000001,
            "count": 0
           },
           {
            "bin_start": 7430.022000000001,
            "bin_end": 8546.164,
            "count": 0
           },
           {
            "bin_start": 8546.164,
            "bin_end": 9662.306,
            "count": 0
           },
           {
            "bin_start": 9662.306,
            "bin_end": 10778.448,
            "count": 0
           },
           {
            "bin_start": 10778.448,
            "bin_end": 11894.59,
            "count": 1
           }
          ]
         }
        },
        {
         "name": "Exit Round",
         "dtype": "object",
         "stats": {
          "unique_count": 1,
          "nan_count": 4,
          "categories": [
           {
            "name": "IPO",
            "count": 1
           },
           {
            "name": "Missing",
            "count": 4
           }
          ]
         }
        },
        {
         "name": "Exit Date",
         "dtype": "object",
         "stats": {
          "unique_count": 2,
          "nan_count": 0,
          "categories": [
           {
            "name": "2021-01-13",
            "count": 1
           },
           {
            "name": "Missing",
            "count": 4
           }
          ]
         }
        },
        {
         "name": "_deepnote_index_column",
         "dtype": "int64"
        }
       ],
       "rows_top": [
        {
         "Company": "10x Future Technologies",
         "URL": "10xbanking.com",
         "Category": "Core banking & infrastructure",
         "Description": "10x Future Technologies is a financial business that seeks to empower banks and non-banks to optimi…",
         "Tag": "Fintech250_2018, CoreBanking&Infrastructure, coreBanking&Infrastructure",
         "State": "England",
         "Country": "United Kingdom",
         "Continent": "Europe",
         "Total Funding": 65.66,
         "Latest Funding Simplified Round": "Corporate Minority",
         "Latest Funding Investors": "Westpac Group",
         "Latest Funding Amount": "nan",
         "Latest Funding Date": "2019-11-04T00:00:00.000000",
         "Latest Valuation": "nan",
         "Exit Round": "nan",
         "Exit Date": "NaT",
         "_deepnote_index_column": 0
        },
        {
         "Company": "Addepar",
         "URL": "addepar.com",
         "Category": "Asset Management",
         "Description": "Addepar is a financial operating system that aims to bring common sense and ethical, data-driven in…",
         "Tag": "AssetManagement, B2B, FinancialServicesSoftware, WealthManagement, advisortech",
         "State": "California",
         "Country": "United States",
         "Continent": "North America",
         "Total Funding": 363.93,
         "Latest Funding Simplified Round": "Series E",
         "Latest Funding Investors": "Sway Ventures, 8VC, WestCap Group",
         "Latest Funding Amount": 117,
         "Latest Funding Date": "2020-11-18T00:00:00.000000",
         "Latest Valuation": 733.17,
         "Exit Round": "nan",
         "Exit Date": "NaT",
         "_deepnote_index_column": 1
        },
        {
         "Company": "Affirm",
         "URL": "affirm.com",
         "Category": "POS & consumer lending",
         "Description": "Affirm (NASDAQ: AFRM) is a consumer finance company that seeks to provide shoppers with instant poi…",
         "Tag": "Top_Finance&Insurance, Fintech250_2018, POSfinancing, enablement, Lending, POS&ConsumerLending, Top…",
         "State": "California",
         "Country": "United States",
         "Continent": "North America",
         "Total Funding": 1775,
         "Latest Funding Simplified Round": "Series G",
         "Latest Funding Investors": "Lightspeed Venture Partners, Spark Capital, Founders Fund, Wellington Management, Fidelity Investme…",
         "Latest Funding Amount": 500,
         "Latest Funding Date": "2020-09-17T00:00:00.000000",
         "Latest Valuation": 11894.59,
         "Exit Round": "IPO",
         "Exit Date": "2021-01-13 00:00:00",
         "_deepnote_index_column": 2
        },
        {
         "Company": "Airwallex",
         "URL": "airwallex.com",
         "Category": "Payments processing & networks",
         "Description": "Airwallexâ€™s platform provides business accounts that enable high-speed and low-cost international…",
         "Tag": "Fintech250_2018, MoneyTransfer, B2BPayments, CrossBorder, PaymentsProcessing&Networks",
         "State": "Victoria",
         "Country": "Australia",
         "Continent": "Australia",
         "Total Funding": 502,
         "Latest Funding Simplified Round": "Series D",
         "Latest Funding Investors": "Greenoaks Capital Management, Grok Ventures, Skip Capital, ANZi",
         "Latest Funding Amount": 100,
         "Latest Funding Date": "2021-03-24T00:00:00.000000",
         "Latest Valuation": 2600,
         "Exit Round": "nan",
         "Exit Date": "NaT",
         "_deepnote_index_column": 3
        },
        {
         "Company": "Alan",
         "URL": "alan.com",
         "Category": "Insurance",
         "Description": "Alan is a Paris-based digital health insurance company that develops subscription-based software fo…",
         "Tag": "Fintech250_2018, payers, insurance, Insurance, Insurance, health_plans",
         "State": "nan",
         "Country": "France",
         "Continent": "Europe",
         "Total Funding": 363.17,
         "Latest Funding Simplified Round": "Series D",
         "Latest Funding Investors": "Index Ventures, Temasek, Ribbit Capital, Dragoneer Investment Group, Coatue Management, EXOR",
         "Latest Funding Amount": 222.6,
         "Latest Funding Date": "2021-04-19T00:00:00.000000",
         "Latest Valuation": 1684,
         "Exit Round": "nan",
         "Exit Date": "NaT",
         "_deepnote_index_column": 4
        }
       ],
       "rows_bottom": null
      },
      "text/plain": "                   Company             URL                        Category  \\\n0  10x Future Technologies  10xbanking.com   Core banking & infrastructure   \n1                  Addepar     addepar.com                Asset Management   \n2                   Affirm      affirm.com          POS & consumer lending   \n3                Airwallex   airwallex.com  Payments processing & networks   \n4                     Alan        alan.com                       Insurance   \n\n                                         Description  \\\n0  10x Future Technologies is a financial busines...   \n1  Addepar is a financial operating system that a...   \n2  Affirm (NASDAQ: AFRM) is a consumer finance co...   \n3  Airwallexâ€™s platform provides business accou...   \n4  Alan is a Paris-based digital health insurance...   \n\n                                                 Tag       State  \\\n0  Fintech250_2018, CoreBanking&Infrastructure, c...     England   \n1  AssetManagement, B2B, FinancialServicesSoftwar...  California   \n2  Top_Finance&Insurance, Fintech250_2018, POSfin...  California   \n3  Fintech250_2018, MoneyTransfer, B2BPayments, C...    Victoria   \n4  Fintech250_2018, payers, insurance, Insurance,...         NaN   \n\n          Country      Continent  Total Funding  \\\n0  United Kingdom         Europe          65.66   \n1   United States  North America         363.93   \n2   United States  North America        1775.00   \n3       Australia      Australia         502.00   \n4          France         Europe         363.17   \n\n  Latest Funding Simplified Round  \\\n0              Corporate Minority   \n1                        Series E   \n2                        Series G   \n3                        Series D   \n4                        Series D   \n\n                            Latest Funding Investors  Latest Funding Amount  \\\n0                                      Westpac Group                    NaN   \n1                  Sway Ventures, 8VC, WestCap Group                  117.0   \n2  Lightspeed Venture Partners, Spark Capital, Fo...                  500.0   \n3  Greenoaks Capital Management, Grok Ventures, S...                  100.0   \n4  Index Ventures, Temasek, Ribbit Capital, Drago...                  222.6   \n\n  Latest Funding Date  Latest Valuation Exit Round  Exit Date  \n0          2019-11-04               NaN        NaN        NaT  \n1          2020-11-18            733.17        NaN        NaT  \n2          2020-09-17          11894.59        IPO 2021-01-13  \n3          2021-03-24           2600.00        NaN        NaT  \n4          2021-04-19           1684.00        NaN        NaT  ",
      "text/html": "<div>\n<style scoped>\n    .dataframe tbody tr th:only-of-type {\n        vertical-align: middle;\n    }\n\n    .dataframe tbody tr th {\n        vertical-align: top;\n    }\n\n    .dataframe thead th {\n        text-align: right;\n    }\n</style>\n<table border=\"1\" class=\"dataframe\">\n  <thead>\n    <tr style=\"text-align: right;\">\n      <th></th>\n      <th>Company</th>\n      <th>URL</th>\n      <th>Category</th>\n      <th>Description</th>\n      <th>Tag</th>\n      <th>State</th>\n      <th>Country</th>\n      <th>Continent</th>\n      <th>Total Funding</th>\n      <th>Latest Funding Simplified Round</th>\n      <th>Latest Funding Investors</th>\n      <th>Latest Funding Amount</th>\n      <th>Latest Funding Date</th>\n      <th>Latest Valuation</th>\n      <th>Exit Round</th>\n      <th>Exit Date</th>\n    </tr>\n  </thead>\n  <tbody>\n    <tr>\n      <th>0</th>\n      <td>10x Future Technologies</td>\n      <td>10xbanking.com</td>\n      <td>Core banking &amp; infrastructure</td>\n      <td>10x Future Technologies is a financial busines...</td>\n      <td>Fintech250_2018, CoreBanking&amp;Infrastructure, c...</td>\n      <td>England</td>\n      <td>United Kingdom</td>\n      <td>Europe</td>\n      <td>65.66</td>\n      <td>Corporate Minority</td>\n      <td>Westpac Group</td>\n      <td>NaN</td>\n      <td>2019-11-04</td>\n      <td>NaN</td>\n      <td>NaN</td>\n      <td>NaT</td>\n    </tr>\n    <tr>\n      <th>1</th>\n      <td>Addepar</td>\n      <td>addepar.com</td>\n      <td>Asset Management</td>\n      <td>Addepar is a financial operating system that a...</td>\n      <td>AssetManagement, B2B, FinancialServicesSoftwar...</td>\n      <td>California</td>\n      <td>United States</td>\n      <td>North America</td>\n      <td>363.93</td>\n      <td>Series E</td>\n      <td>Sway Ventures, 8VC, WestCap Group</td>\n      <td>117.0</td>\n      <td>2020-11-18</td>\n      <td>733.17</td>\n      <td>NaN</td>\n      <td>NaT</td>\n    </tr>\n    <tr>\n      <th>2</th>\n      <td>Affirm</td>\n      <td>affirm.com</td>\n      <td>POS &amp; consumer lending</td>\n      <td>Affirm (NASDAQ: AFRM) is a consumer finance co...</td>\n      <td>Top_Finance&amp;Insurance, Fintech250_2018, POSfin...</td>\n      <td>California</td>\n      <td>United States</td>\n      <td>North America</td>\n      <td>1775.00</td>\n      <td>Series G</td>\n      <td>Lightspeed Venture Partners, Spark Capital, Fo...</td>\n      <td>500.0</td>\n      <td>2020-09-17</td>\n      <td>11894.59</td>\n      <td>IPO</td>\n      <td>2021-01-13</td>\n    </tr>\n    <tr>\n      <th>3</th>\n      <td>Airwallex</td>\n      <td>airwallex.com</td>\n      <td>Payments processing &amp; networks</td>\n      <td>Airwallexâ€™s platform provides business accou...</td>\n      <td>Fintech250_2018, MoneyTransfer, B2BPayments, C...</td>\n      <td>Victoria</td>\n      <td>Australia</td>\n      <td>Australia</td>\n      <td>502.00</td>\n      <td>Series D</td>\n      <td>Greenoaks Capital Management, Grok Ventures, S...</td>\n      <td>100.0</td>\n      <td>2021-03-24</td>\n      <td>2600.00</td>\n      <td>NaN</td>\n      <td>NaT</td>\n    </tr>\n    <tr>\n      <th>4</th>\n      <td>Alan</td>\n      <td>alan.com</td>\n      <td>Insurance</td>\n      <td>Alan is a Paris-based digital health insurance...</td>\n      <td>Fintech250_2018, payers, insurance, Insurance,...</td>\n      <td>NaN</td>\n      <td>France</td>\n      <td>Europe</td>\n      <td>363.17</td>\n      <td>Series D</td>\n      <td>Index Ventures, Temasek, Ribbit Capital, Drago...</td>\n      <td>222.6</td>\n      <td>2021-04-19</td>\n      <td>1684.00</td>\n      <td>NaN</td>\n      <td>NaT</td>\n    </tr>\n  </tbody>\n</table>\n</div>"
     },
     "metadata": {}
    }
   ],
   "execution_count": null
  },
  {
   "cell_type": "code",
   "metadata": {
    "tags": [],
    "cell_id": "00002-bb0055cb-16bf-41d6-9a1a-6b1a27b4d2f8",
    "deepnote_to_be_reexecuted": false,
    "source_hash": "2715c1ff",
    "execution_start": 1627642201425,
    "execution_millis": 19,
    "deepnote_cell_type": "code"
   },
   "source": "list_250 = list(fintech_250['Company'].unique())\nlen(list_250)",
   "outputs": [
    {
     "output_type": "execute_result",
     "execution_count": 3,
     "data": {
      "text/plain": "250"
     },
     "metadata": {}
    }
   ],
   "execution_count": null
  },
  {
   "cell_type": "code",
   "metadata": {
    "tags": [],
    "cell_id": "00004-6a2226c2-7d15-4e24-a46a-7de322fe3971",
    "deepnote_to_be_reexecuted": false,
    "source_hash": "44dfddeb",
    "execution_start": 1627642201450,
    "execution_millis": 585403197,
    "deepnote_cell_type": "code"
   },
   "source": "US_fintech = fintech_250[fintech_250['Country'] == 'United States']\n# US_fintech.shape",
   "outputs": [],
   "execution_count": null
  },
  {
   "cell_type": "code",
   "metadata": {
    "tags": [],
    "cell_id": "00005-90991ac3-1c14-43cf-a67e-c7ecb9c7f26e",
    "deepnote_to_be_reexecuted": false,
    "source_hash": "d4a46b81",
    "execution_start": 1627642201463,
    "execution_millis": 150,
    "deepnote_cell_type": "code"
   },
   "source": "US_fintech.tail(15)",
   "outputs": [
    {
     "output_type": "execute_result",
     "execution_count": 5,
     "data": {
      "application/vnd.deepnote.dataframe.v2+json": {
       "row_count": 15,
       "column_count": 16,
       "columns": [
        {
         "name": "Company",
         "dtype": "object",
         "stats": {
          "unique_count": 15,
          "nan_count": 0,
          "categories": [
           {
            "name": "The Zebra",
            "count": 1
           },
           {
            "name": "Tipalti",
            "count": 1
           },
           {
            "name": "13 others",
            "count": 13
           }
          ]
         }
        },
        {
         "name": "URL",
         "dtype": "object",
         "stats": {
          "unique_count": 15,
          "nan_count": 0,
          "categories": [
           {
            "name": "thezebra.com",
            "count": 1
           },
           {
            "name": "tipalti.com",
            "count": 1
           },
           {
            "name": "13 others",
            "count": 13
           }
          ]
         }
        },
        {
         "name": "Category",
         "dtype": "object",
         "stats": {
          "unique_count": 9,
          "nan_count": 0,
          "categories": [
           {
            "name": "Personal finance",
            "count": 3
           },
           {
            "name": "Insurance",
            "count": 2
           },
           {
            "name": "7 others",
            "count": 10
           }
          ]
         }
        },
        {
         "name": "Description",
         "dtype": "object",
         "stats": {
          "unique_count": 15,
          "nan_count": 0,
          "categories": [
           {
            "name": "The Zebra is an online car insurance comparison marketplace. The Zebra also provides educational resources to inform consumers and help them find the coverage, service level, and pricing to suit their unique needs, while simultaneously helping insurance companies connect with their consumers.",
            "count": 1
           },
           {
            "name": "Tipalti provides a cloud based technology platform aimed at mid-market companies, who have traditionally been underserved by banks, to streamline all phases of the global accounts payable workflow. The solution streamlines and optimizes businesses' end-to-end global payables workflow, while giving companies access to cross border payments, currency conversion, and payments across a wide range of methods.",
            "count": 1
           },
           {
            "name": "13 others",
            "count": 13
           }
          ]
         }
        },
        {
         "name": "Tag",
         "dtype": "object",
         "stats": {
          "unique_count": 14,
          "nan_count": 0,
          "categories": [
           {
            "name": "PersonalFinance",
            "count": 2
           },
           {
            "name": "auto, p&c, distribution, Insurance, Comparison, PublicisTI",
            "count": 1
           },
           {
            "name": "12 others",
            "count": 12
           }
          ]
         }
        },
        {
         "name": "State",
         "dtype": "object",
         "stats": {
          "unique_count": 5,
          "nan_count": 0,
          "categories": [
           {
            "name": "California",
            "count": 9
           },
           {
            "name": "New York",
            "count": 3
           },
           {
            "name": "3 others",
            "count": 3
           }
          ]
         }
        },
        {
         "name": "Country",
         "dtype": "object",
         "stats": {
          "unique_count": 1,
          "nan_count": 0,
          "categories": [
           {
            "name": "United States",
            "count": 15
           }
          ]
         }
        },
        {
         "name": "Continent",
         "dtype": "object",
         "stats": {
          "unique_count": 1,
          "nan_count": 0,
          "categories": [
           {
            "name": "North America",
            "count": 15
           }
          ]
         }
        },
        {
         "name": "Total Funding",
         "dtype": "float64",
         "stats": {
          "unique_count": 15,
          "nan_count": 0,
          "min": "23.03",
          "max": "903.0",
          "histogram": [
           {
            "bin_start": 23.03,
            "bin_end": 111.027,
            "count": 6
           },
           {
            "bin_start": 111.027,
            "bin_end": 199.024,
            "count": 0
           },
           {
            "bin_start": 199.024,
            "bin_end": 287.02099999999996,
            "count": 4
           },
           {
            "bin_start": 287.02099999999996,
            "bin_end": 375.01800000000003,
            "count": 1
           },
           {
            "bin_start": 375.01800000000003,
            "bin_end": 463.015,
            "count": 0
           },
           {
            "bin_start": 463.015,
            "bin_end": 551.012,
            "count": 2
           },
           {
            "bin_start": 551.012,
            "bin_end": 639.009,
            "count": 0
           },
           {
            "bin_start": 639.009,
            "bin_end": 727.006,
            "count": 1
           },
           {
            "bin_start": 727.006,
            "bin_end": 815.0029999999999,
            "count": 0
           },
           {
            "bin_start": 815.0029999999999,
            "bin_end": 903,
            "count": 1
           }
          ]
         }
        },
        {
         "name": "Latest Funding Simplified Round",
         "dtype": "object",
         "stats": {
          "unique_count": 7,
          "nan_count": 0,
          "categories": [
           {
            "name": "Series C",
            "count": 4
           },
           {
            "name": "Series B",
            "count": 3
           },
           {
            "name": "5 others",
            "count": 8
           }
          ]
         }
        },
        {
         "name": "Latest Funding Investors",
         "dtype": "object",
         "stats": {
          "unique_count": 15,
          "nan_count": 0,
          "categories": [
           {
            "name": "Accel, Weatherford Capital Management, Hedosophia",
            "count": 1
           },
           {
            "name": "Greenoaks Capital Management, 01 Advisors, Durable Capital Partners",
            "count": 1
           },
           {
            "name": "13 others",
            "count": 13
           }
          ]
         }
        },
        {
         "name": "Latest Funding Amount",
         "dtype": "float64",
         "stats": {
          "unique_count": 11,
          "nan_count": 2,
          "min": "15.0",
          "max": "400.0",
          "histogram": [
           {
            "bin_start": 15,
            "bin_end": 53.5,
            "count": 3
           },
           {
            "bin_start": 53.5,
            "bin_end": 92,
            "count": 4
           },
           {
            "bin_start": 92,
            "bin_end": 130.5,
            "count": 1
           },
           {
            "bin_start": 130.5,
            "bin_end": 169,
            "count": 2
           },
           {
            "bin_start": 169,
            "bin_end": 207.5,
            "count": 1
           },
           {
            "bin_start": 207.5,
            "bin_end": 246,
            "count": 0
           },
           {
            "bin_start": 246,
            "bin_end": 284.5,
            "count": 0
           },
           {
            "bin_start": 284.5,
            "bin_end": 323,
            "count": 1
           },
           {
            "bin_start": 323,
            "bin_end": 361.5,
            "count": 0
           },
           {
            "bin_start": 361.5,
            "bin_end": 400,
            "count": 1
           }
          ]
         }
        },
        {
         "name": "Latest Funding Date",
         "dtype": "datetime64[ns]",
         "stats": {
          "unique_count": 14,
          "nan_count": 0,
          "min": "2018-01-04 00:00:00",
          "max": "2021-06-02 00:00:00",
          "histogram": [
           {
            "bin_start": 1515024000000000000,
            "bin_end": 1525780800000000000,
            "count": 1
           },
           {
            "bin_start": 1525780800000000000,
            "bin_end": 1536537600000000000,
            "count": 0
           },
           {
            "bin_start": 1536537600000000000,
            "bin_end": 1547294400000000000,
            "count": 0
           },
           {
            "bin_start": 1547294400000000000,
            "bin_end": 1558051200000000000,
            "count": 0
           },
           {
            "bin_start": 1558051200000000000,
            "bin_end": 1568808000000000000,
            "count": 0
           },
           {
            "bin_start": 1568808000000000000,
            "bin_end": 1579564800000000000,
            "count": 1
           },
           {
            "bin_start": 1579564800000000000,
            "bin_end": 1590321600000000000,
            "count": 1
           },
           {
            "bin_start": 1590321600000000000,
            "bin_end": 1601078400000000000,
            "count": 0
           },
           {
            "bin_start": 1601078400000000000,
            "bin_end": 1611835200000000000,
            "count": 8
           },
           {
            "bin_start": 1611835200000000000,
            "bin_end": 1622592000000000000,
            "count": 4
           }
          ]
         }
        },
        {
         "name": "Latest Valuation",
         "dtype": "float64",
         "stats": {
          "unique_count": 11,
          "nan_count": 2,
          "min": "72.42",
          "max": "4900.0",
          "histogram": [
           {
            "bin_start": 72.42,
            "bin_end": 555.178,
            "count": 7
           },
           {
            "bin_start": 555.178,
            "bin_end": 1037.936,
            "count": 2
           },
           {
            "bin_start": 1037.936,
            "bin_end": 1520.694,
            "count": 0
           },
           {
            "bin_start": 1520.694,
            "bin_end": 2003.452,
            "count": 2
           },
           {
            "bin_start": 2003.452,
            "bin_end": 2486.21,
            "count": 0
           },
           {
            "bin_start": 2486.21,
            "bin_end": 2968.968,
            "count": 0
           },
           {
            "bin_start": 2968.968,
            "bin_end": 3451.726,
            "count": 1
           },
           {
            "bin_start": 3451.726,
            "bin_end": 3934.484,
            "count": 0
           },
           {
            "bin_start": 3934.484,
            "bin_end": 4417.242,
            "count": 0
           },
           {
            "bin_start": 4417.242,
            "bin_end": 4900,
            "count": 1
           }
          ]
         }
        },
        {
         "name": "Exit Round",
         "dtype": "object",
         "stats": {
          "unique_count": 0,
          "nan_count": 15,
          "categories": [
           {
            "name": "Missing",
            "count": 15
           }
          ]
         }
        },
        {
         "name": "Exit Date",
         "dtype": "object",
         "stats": {
          "unique_count": 1,
          "nan_count": 0,
          "categories": [
           {
            "name": "NaT",
            "count": 15
           }
          ]
         }
        },
        {
         "name": "_deepnote_index_column",
         "dtype": "int64"
        }
       ],
       "rows_top": [
        {
         "Company": "The Zebra",
         "URL": "thezebra.com",
         "Category": "Insurance",
         "Description": "The Zebra is an online car insurance comparison marketplace. The Zebra also provides educational re…",
         "Tag": "auto, p&c, distribution, Insurance, Comparison, PublicisTI",
         "State": "Texas",
         "Country": "United States",
         "Continent": "North America",
         "Total Funding": 255.08,
         "Latest Funding Simplified Round": "Series D",
         "Latest Funding Investors": "Accel, Weatherford Capital Management, Hedosophia",
         "Latest Funding Amount": 150,
         "Latest Funding Date": "2021-04-12T00:00:00.000000",
         "Latest Valuation": 1000,
         "Exit Round": "nan",
         "Exit Date": "NaT",
         "_deepnote_index_column": 214
        },
        {
         "Company": "Tipalti",
         "URL": "tipalti.com",
         "Category": "Accounting & finance",
         "Description": "Tipalti provides a cloud based technology platform aimed at mid-market companies, who have traditio…",
         "Tag": "Fintech250_2018, B2BPayments, Accounting&Finance",
         "State": "California",
         "Country": "United States",
         "Continent": "North America",
         "Total Funding": 286,
         "Latest Funding Simplified Round": "Series E",
         "Latest Funding Investors": "Greenoaks Capital Management, 01 Advisors, Durable Capital Partners",
         "Latest Funding Amount": 150,
         "Latest Funding Date": "2020-10-06T00:00:00.000000",
         "Latest Valuation": 2000,
         "Exit Round": "nan",
         "Exit Date": "NaT",
         "_deepnote_index_column": 218
        },
        {
         "Company": "Toast",
         "URL": "toasttab.com",
         "Category": "Payments processing & networks",
         "Description": "Toast is an all-in-one restaurant management system. Toast automatically tracks menu sales, invento…",
         "Tag": "Fintech250_2018, digitalBanking, PaymentsProcessing&Networks",
         "State": "Massachusetts",
         "Country": "United States",
         "Continent": "North America",
         "Total Funding": 903,
         "Latest Funding Simplified Round": "Series F",
         "Latest Funding Investors": "Bessemer Venture Partners, Tiger Global Management, T. Rowe Price, Technology Crossover Ventures, T…",
         "Latest Funding Amount": 400,
         "Latest Funding Date": "2020-02-14T00:00:00.000000",
         "Latest Valuation": 4900,
         "Exit Round": "nan",
         "Exit Date": "NaT",
         "_deepnote_index_column": 219
        },
        {
         "Company": "Total Expert",
         "URL": "totalexpert.com",
         "Category": "Financial services & automation",
         "Description": "Total Expert is a software-as-a-service company that created an enterprise-grade Marketing Operatin…",
         "Tag": "CustomerDataPlatform, FinancialServices&Automation, PublicisTI",
         "State": "Minnesota",
         "Country": "United States",
         "Continent": "North America",
         "Total Funding": 75,
         "Latest Funding Simplified Round": "Series C",
         "Latest Funding Investors": "Emergence Capital Partners, Georgian Partners, Rally Ventures",
         "Latest Funding Amount": 52,
         "Latest Funding Date": "2019-10-24T00:00:00.000000",
         "Latest Valuation": 279.07,
         "Exit Round": "nan",
         "Exit Date": "NaT",
         "_deepnote_index_column": 220
        },
        {
         "Company": "Truework",
         "URL": "truework.com",
         "Category": "Regulatory & compliance",
         "Description": "Truework is an HR tool that automatically responds to lenders, landlords, and others who need to ve…",
         "Tag": "recruiting, recruitment, Regulatory&Compliance",
         "State": "California",
         "Country": "United States",
         "Continent": "North America",
         "Total Funding": 44.9,
         "Latest Funding Simplified Round": "Series B",
         "Latest Funding Investors": "American Express Ventures",
         "Latest Funding Amount": "nan",
         "Latest Funding Date": "2020-12-15T00:00:00.000000",
         "Latest Valuation": "nan",
         "Exit Round": "nan",
         "Exit Date": "NaT",
         "_deepnote_index_column": 226
        },
        {
         "Company": "Trumid",
         "URL": "trumid.com",
         "Category": "Capital markets",
         "Description": "Trumid is a financial technology company bringing efficiency to credit trading through data, techno…",
         "Tag": "Fintech250_2018, Keep_2019, CapitalMarkets&Trading, marketmap, quantitative, asset_mgmt, AI, B2B, W…",
         "State": "New York",
         "Country": "United States",
         "Continent": "North America",
         "Total Funding": 503.73,
         "Latest Funding Simplified Round": "Series E",
         "Latest Funding Investors": "Shumway Capital",
         "Latest Funding Amount": 75,
         "Latest Funding Date": "2020-12-11T00:00:00.000000",
         "Latest Valuation": 1000,
         "Exit Round": "nan",
         "Exit Date": "NaT",
         "_deepnote_index_column": 228
        },
        {
         "Company": "Trust & Will",
         "URL": "trustandwill.com",
         "Category": "Personal finance",
         "Description": "Trust & Will seeks to modernize the estate planning industry with an easy, fast, and secure way to …",
         "Tag": "PersonalFinance",
         "State": "California",
         "Country": "United States",
         "Continent": "North America",
         "Total Funding": 23.03,
         "Latest Funding Simplified Round": "Series B",
         "Latest Funding Investors": "Western Technology Investment, Techstars Ventures, Link Ventures, Jackson Square Ventures, AARP Inn…",
         "Latest Funding Amount": 15,
         "Latest Funding Date": "2020-11-17T00:00:00.000000",
         "Latest Valuation": "nan",
         "Exit Round": "nan",
         "Exit Date": "NaT",
         "_deepnote_index_column": 230
        },
        {
         "Company": "Unqork",
         "URL": "unqork.com",
         "Category": "Financial services & automation",
         "Description": "Unqork is a no-code, software-as-a-service (SaaS) platform that digitizes the client lifecycle and …",
         "Tag": "SME, Lending, infrastructure, FinancialServices&Automation, RPA_MM_General, EnterpriseIT&cybersecur…",
         "State": "New York",
         "Country": "United States",
         "Continent": "North America",
         "Total Funding": 367.17,
         "Latest Funding Simplified Round": "Series C",
         "Latest Funding Investors": "Goldman Sachs, BlackRock, Aquiline Capital Partners, Broadridge Financial Solutions, capitalG, Worl…",
         "Latest Funding Amount": 207,
         "Latest Funding Date": "2020-10-06T00:00:00.000000",
         "Latest Valuation": 2000,
         "Exit Round": "nan",
         "Exit Date": "NaT",
         "_deepnote_index_column": 232
        },
        {
         "Company": "Varo Money",
         "URL": "varomoney.com",
         "Category": "Personal finance",
         "Description": "Varo Money provides customers with tools to develop positive spending, borrowing and savings habits…",
         "Tag": "PersonalFinance",
         "State": "California",
         "Country": "United States",
         "Continent": "North America",
         "Total Funding": 481.33,
         "Latest Funding Simplified Round": "Series D",
         "Latest Funding Investors": "HarbourVest Partners, Warburg Pincus, BlackRock, The Rise Fund, Gallatin Point Capital, Russell Wes…",
         "Latest Funding Amount": 63,
         "Latest Funding Date": "2021-02-18T00:00:00.000000",
         "Latest Valuation": 248.12,
         "Exit Round": "nan",
         "Exit Date": "NaT",
         "_deepnote_index_column": 233
        },
        {
         "Company": "Very Good Security",
         "URL": "verygoodsecurity.com",
         "Category": "Regulatory & compliance",
         "Description": "Very Good Security is a modern approach to data security and compliance, enabling companies to use …",
         "Tag": "DataCustodianship, enablement, Regulatory&Compliance",
         "State": "California",
         "Country": "United States",
         "Continent": "North America",
         "Total Funding": 104.9,
         "Latest Funding Simplified Round": "Series C",
         "Latest Funding Investors": "Andreessen Horowitz, Undisclosed Investors, Vertex Ventures, GS Growth",
         "Latest Funding Amount": 60,
         "Latest Funding Date": "2020-12-18T00:00:00.000000",
         "Latest Valuation": 484.79,
         "Exit Round": "nan",
         "Exit Date": "NaT",
         "_deepnote_index_column": 234
        },
        {
         "Company": "Vouch Insurance",
         "URL": "vouch.us",
         "Category": "Insurance",
         "Description": "Vouch Insurance offers startups with the technology, advice, and risk-mitigating tools they need to…",
         "Tag": "smallcommercial, Insurance",
         "State": "California",
         "Country": "United States",
         "Continent": "North America",
         "Total Funding": 98.35,
         "Latest Funding Simplified Round": "Series B",
         "Latest Funding Investors": "Silicon Valley Bank, Y Combinator, Ribbit Capital",
         "Latest Funding Amount": 28.7,
         "Latest Funding Date": "2020-11-04T00:00:00.000000",
         "Latest Valuation": 210,
         "Exit Round": "nan",
         "Exit Date": "NaT",
         "_deepnote_index_column": 237
        },
        {
         "Company": "Wealthfront",
         "URL": "wealthfront.com",
         "Category": "Personal finance",
         "Description": "Wealthfront is a robo-advisor offering the combination of financial planning, investment management…",
         "Tag": "Fintech250_2018, digitalBanking, PersonalFinance, PublicisTI, B2C",
         "State": "California",
         "Country": "United States",
         "Continent": "North America",
         "Total Funding": 204.5,
         "Latest Funding Simplified Round": "Series G",
         "Latest Funding Investors": "Spark Capital, Benchmark, Tiger Global Management, Index Ventures, Greylock Partners, Social Capital",
         "Latest Funding Amount": 75,
         "Latest Funding Date": "2018-01-04T00:00:00.000000",
         "Latest Valuation": 500,
         "Exit Round": "nan",
         "Exit Date": "NaT",
         "_deepnote_index_column": 238
        },
        {
         "Company": "YieldStreet",
         "URL": "yieldstreet.com",
         "Category": "Retail investing & secondary markets",
         "Description": "YieldStreet aims to change the way wealth is created by providing access to asset-based investments…",
         "Tag": "personalfinance, RetailInvesting&SecondaryMarkets, B2B/B2C, B2C, RealEstateInvesting, PropTech, Alt…",
         "State": "New York",
         "Country": "United States",
         "Continent": "North America",
         "Total Funding": 278.5,
         "Latest Funding Simplified Round": "Series C",
         "Latest Funding Investors": "Greycroft, Soros Fund Management, Greenspring Associates, The Raine Group, Edison Partners, Top Tie…",
         "Latest Funding Amount": 100,
         "Latest Funding Date": "2021-06-02T00:00:00.000000",
         "Latest Valuation": 217.7,
         "Exit Round": "nan",
         "Exit Date": "NaT",
         "_deepnote_index_column": 244
        },
        {
         "Company": "Zanbato",
         "URL": "zanbato.com",
         "Category": "Capital markets",
         "Description": "Zanbato builds technology to empower family offices and institutional investors to more intelligent…",
         "Tag": "CapitalMarkets",
         "State": "California",
         "Country": "United States",
         "Continent": "North America",
         "Total Funding": 37.7,
         "Latest Funding Simplified Round": "Corporate Minority",
         "Latest Funding Investors": "J.P. Morgan Chase & Co.",
         "Latest Funding Amount": "nan",
         "Latest Funding Date": "2021-02-22T00:00:00.000000",
         "Latest Valuation": 72.42,
         "Exit Round": "nan",
         "Exit Date": "NaT",
         "_deepnote_index_column": 246
        },
        {
         "Company": "Blend",
         "URL": "blend.com",
         "Category": "Real estate & mortgage",
         "Description": "Blend simplifies getting mortgages, consumer loans, and deposit accounts. The firm's Digital Lendin…",
         "Tag": "Fintech250_2018, Lending, RealEstate&Mortgage",
         "State": "California",
         "Country": "United States",
         "Continent": "North America",
         "Total Funding": 684.61,
         "Latest Funding Simplified Round": "Series G",
         "Latest Funding Investors": "Tiger Global Management, Coatue Management",
         "Latest Funding Amount": 300,
         "Latest Funding Date": "2021-01-13T00:00:00.000000",
         "Latest Valuation": 3300,
         "Exit Round": "nan",
         "Exit Date": "NaT",
         "_deepnote_index_column": 249
        }
       ],
       "rows_bottom": null
      },
      "text/plain": "                Company                   URL  \\\n214           The Zebra          thezebra.com   \n218             Tipalti           tipalti.com   \n219               Toast          toasttab.com   \n220        Total Expert       totalexpert.com   \n226            Truework          truework.com   \n228              Trumid            trumid.com   \n230        Trust & Will      trustandwill.com   \n232              Unqork            unqork.com   \n233          Varo Money         varomoney.com   \n234  Very Good Security  verygoodsecurity.com   \n237     Vouch Insurance              vouch.us   \n238         Wealthfront       wealthfront.com   \n244         YieldStreet       yieldstreet.com   \n246             Zanbato           zanbato.com   \n249               Blend             blend.com   \n\n                                 Category  \\\n214                             Insurance   \n218                  Accounting & finance   \n219        Payments processing & networks   \n220       Financial services & automation   \n226               Regulatory & compliance   \n228                       Capital markets   \n230                      Personal finance   \n232       Financial services & automation   \n233                      Personal finance   \n234               Regulatory & compliance   \n237                             Insurance   \n238                      Personal finance   \n244  Retail investing & secondary markets   \n246                       Capital markets   \n249                Real estate & mortgage   \n\n                                           Description  \\\n214  The Zebra is an online car insurance compariso...   \n218  Tipalti provides a cloud based technology plat...   \n219  Toast is an all-in-one restaurant management s...   \n220  Total Expert is a software-as-a-service compan...   \n226  Truework is an HR tool that automatically resp...   \n228  Trumid is a financial technology company bring...   \n230  Trust & Will seeks to modernize the estate pla...   \n232  Unqork is a no-code, software-as-a-service (Sa...   \n233  Varo Money provides customers with tools to de...   \n234  Very Good Security is a modern approach to dat...   \n237  Vouch Insurance offers startups with the techn...   \n238  Wealthfront is a robo-advisor offering the com...   \n244  YieldStreet aims to change the way wealth is c...   \n246  Zanbato builds technology to empower family of...   \n249  Blend simplifies getting mortgages, consumer l...   \n\n                                                   Tag          State  \\\n214  auto, p&c, distribution, Insurance, Comparison...          Texas   \n218   Fintech250_2018, B2BPayments, Accounting&Finance     California   \n219  Fintech250_2018, digitalBanking, PaymentsProce...  Massachusetts   \n220  CustomerDataPlatform, FinancialServices&Automa...      Minnesota   \n226     recruiting, recruitment, Regulatory&Compliance     California   \n228  Fintech250_2018, Keep_2019, CapitalMarkets&Tra...       New York   \n230                                    PersonalFinance     California   \n232  SME, Lending, infrastructure, FinancialService...       New York   \n233                                    PersonalFinance     California   \n234  DataCustodianship, enablement, Regulatory&Comp...     California   \n237                         smallcommercial, Insurance     California   \n238  Fintech250_2018, digitalBanking, PersonalFinan...     California   \n244  personalfinance, RetailInvesting&SecondaryMark...       New York   \n246                                     CapitalMarkets     California   \n249      Fintech250_2018, Lending, RealEstate&Mortgage     California   \n\n           Country      Continent  Total Funding  \\\n214  United States  North America         255.08   \n218  United States  North America         286.00   \n219  United States  North America         903.00   \n220  United States  North America          75.00   \n226  United States  North America          44.90   \n228  United States  North America         503.73   \n230  United States  North America          23.03   \n232  United States  North America         367.17   \n233  United States  North America         481.33   \n234  United States  North America         104.90   \n237  United States  North America          98.35   \n238  United States  North America         204.50   \n244  United States  North America         278.50   \n246  United States  North America          37.70   \n249  United States  North America         684.61   \n\n    Latest Funding Simplified Round  \\\n214                        Series D   \n218                        Series E   \n219                        Series F   \n220                        Series C   \n226                        Series B   \n228                        Series E   \n230                        Series B   \n232                        Series C   \n233                        Series D   \n234                        Series C   \n237                        Series B   \n238                        Series G   \n244                        Series C   \n246              Corporate Minority   \n249                        Series G   \n\n                              Latest Funding Investors  Latest Funding Amount  \\\n214  Accel, Weatherford Capital Management, Hedosophia                  150.0   \n218  Greenoaks Capital Management, 01 Advisors, Dur...                  150.0   \n219  Bessemer Venture Partners, Tiger Global Manage...                  400.0   \n220  Emergence Capital Partners, Georgian Partners,...                   52.0   \n226                          American Express Ventures                    NaN   \n228                                    Shumway Capital                   75.0   \n230  Western Technology Investment, Techstars Ventu...                   15.0   \n232  Goldman Sachs, BlackRock, Aquiline Capital Par...                  207.0   \n233  HarbourVest Partners, Warburg Pincus, BlackRoc...                   63.0   \n234  Andreessen Horowitz, Undisclosed Investors, Ve...                   60.0   \n237  Silicon Valley Bank, Y Combinator, Ribbit Capital                   28.7   \n238  Spark Capital, Benchmark, Tiger Global Managem...                   75.0   \n244  Greycroft, Soros Fund Management, Greenspring ...                  100.0   \n246                            J.P. Morgan Chase & Co.                    NaN   \n249         Tiger Global Management, Coatue Management                  300.0   \n\n    Latest Funding Date  Latest Valuation Exit Round Exit Date  \n214          2021-04-12           1000.00        NaN       NaT  \n218          2020-10-06           2000.00        NaN       NaT  \n219          2020-02-14           4900.00        NaN       NaT  \n220          2019-10-24            279.07        NaN       NaT  \n226          2020-12-15               NaN        NaN       NaT  \n228          2020-12-11           1000.00        NaN       NaT  \n230          2020-11-17               NaN        NaN       NaT  \n232          2020-10-06           2000.00        NaN       NaT  \n233          2021-02-18            248.12        NaN       NaT  \n234          2020-12-18            484.79        NaN       NaT  \n237          2020-11-04            210.00        NaN       NaT  \n238          2018-01-04            500.00        NaN       NaT  \n244          2021-06-02            217.70        NaN       NaT  \n246          2021-02-22             72.42        NaN       NaT  \n249          2021-01-13           3300.00        NaN       NaT  ",
      "text/html": "<div>\n<style scoped>\n    .dataframe tbody tr th:only-of-type {\n        vertical-align: middle;\n    }\n\n    .dataframe tbody tr th {\n        vertical-align: top;\n    }\n\n    .dataframe thead th {\n        text-align: right;\n    }\n</style>\n<table border=\"1\" class=\"dataframe\">\n  <thead>\n    <tr style=\"text-align: right;\">\n      <th></th>\n      <th>Company</th>\n      <th>URL</th>\n      <th>Category</th>\n      <th>Description</th>\n      <th>Tag</th>\n      <th>State</th>\n      <th>Country</th>\n      <th>Continent</th>\n      <th>Total Funding</th>\n      <th>Latest Funding Simplified Round</th>\n      <th>Latest Funding Investors</th>\n      <th>Latest Funding Amount</th>\n      <th>Latest Funding Date</th>\n      <th>Latest Valuation</th>\n      <th>Exit Round</th>\n      <th>Exit Date</th>\n    </tr>\n  </thead>\n  <tbody>\n    <tr>\n      <th>214</th>\n      <td>The Zebra</td>\n      <td>thezebra.com</td>\n      <td>Insurance</td>\n      <td>The Zebra is an online car insurance compariso...</td>\n      <td>auto, p&amp;c, distribution, Insurance, Comparison...</td>\n      <td>Texas</td>\n      <td>United States</td>\n      <td>North America</td>\n      <td>255.08</td>\n      <td>Series D</td>\n      <td>Accel, Weatherford Capital Management, Hedosophia</td>\n      <td>150.0</td>\n      <td>2021-04-12</td>\n      <td>1000.00</td>\n      <td>NaN</td>\n      <td>NaT</td>\n    </tr>\n    <tr>\n      <th>218</th>\n      <td>Tipalti</td>\n      <td>tipalti.com</td>\n      <td>Accounting &amp; finance</td>\n      <td>Tipalti provides a cloud based technology plat...</td>\n      <td>Fintech250_2018, B2BPayments, Accounting&amp;Finance</td>\n      <td>California</td>\n      <td>United States</td>\n      <td>North America</td>\n      <td>286.00</td>\n      <td>Series E</td>\n      <td>Greenoaks Capital Management, 01 Advisors, Dur...</td>\n      <td>150.0</td>\n      <td>2020-10-06</td>\n      <td>2000.00</td>\n      <td>NaN</td>\n      <td>NaT</td>\n    </tr>\n    <tr>\n      <th>219</th>\n      <td>Toast</td>\n      <td>toasttab.com</td>\n      <td>Payments processing &amp; networks</td>\n      <td>Toast is an all-in-one restaurant management s...</td>\n      <td>Fintech250_2018, digitalBanking, PaymentsProce...</td>\n      <td>Massachusetts</td>\n      <td>United States</td>\n      <td>North America</td>\n      <td>903.00</td>\n      <td>Series F</td>\n      <td>Bessemer Venture Partners, Tiger Global Manage...</td>\n      <td>400.0</td>\n      <td>2020-02-14</td>\n      <td>4900.00</td>\n      <td>NaN</td>\n      <td>NaT</td>\n    </tr>\n    <tr>\n      <th>220</th>\n      <td>Total Expert</td>\n      <td>totalexpert.com</td>\n      <td>Financial services &amp; automation</td>\n      <td>Total Expert is a software-as-a-service compan...</td>\n      <td>CustomerDataPlatform, FinancialServices&amp;Automa...</td>\n      <td>Minnesota</td>\n      <td>United States</td>\n      <td>North America</td>\n      <td>75.00</td>\n      <td>Series C</td>\n      <td>Emergence Capital Partners, Georgian Partners,...</td>\n      <td>52.0</td>\n      <td>2019-10-24</td>\n      <td>279.07</td>\n      <td>NaN</td>\n      <td>NaT</td>\n    </tr>\n    <tr>\n      <th>226</th>\n      <td>Truework</td>\n      <td>truework.com</td>\n      <td>Regulatory &amp; compliance</td>\n      <td>Truework is an HR tool that automatically resp...</td>\n      <td>recruiting, recruitment, Regulatory&amp;Compliance</td>\n      <td>California</td>\n      <td>United States</td>\n      <td>North America</td>\n      <td>44.90</td>\n      <td>Series B</td>\n      <td>American Express Ventures</td>\n      <td>NaN</td>\n      <td>2020-12-15</td>\n      <td>NaN</td>\n      <td>NaN</td>\n      <td>NaT</td>\n    </tr>\n    <tr>\n      <th>228</th>\n      <td>Trumid</td>\n      <td>trumid.com</td>\n      <td>Capital markets</td>\n      <td>Trumid is a financial technology company bring...</td>\n      <td>Fintech250_2018, Keep_2019, CapitalMarkets&amp;Tra...</td>\n      <td>New York</td>\n      <td>United States</td>\n      <td>North America</td>\n      <td>503.73</td>\n      <td>Series E</td>\n      <td>Shumway Capital</td>\n      <td>75.0</td>\n      <td>2020-12-11</td>\n      <td>1000.00</td>\n      <td>NaN</td>\n      <td>NaT</td>\n    </tr>\n    <tr>\n      <th>230</th>\n      <td>Trust &amp; Will</td>\n      <td>trustandwill.com</td>\n      <td>Personal finance</td>\n      <td>Trust &amp; Will seeks to modernize the estate pla...</td>\n      <td>PersonalFinance</td>\n      <td>California</td>\n      <td>United States</td>\n      <td>North America</td>\n      <td>23.03</td>\n      <td>Series B</td>\n      <td>Western Technology Investment, Techstars Ventu...</td>\n      <td>15.0</td>\n      <td>2020-11-17</td>\n      <td>NaN</td>\n      <td>NaN</td>\n      <td>NaT</td>\n    </tr>\n    <tr>\n      <th>232</th>\n      <td>Unqork</td>\n      <td>unqork.com</td>\n      <td>Financial services &amp; automation</td>\n      <td>Unqork is a no-code, software-as-a-service (Sa...</td>\n      <td>SME, Lending, infrastructure, FinancialService...</td>\n      <td>New York</td>\n      <td>United States</td>\n      <td>North America</td>\n      <td>367.17</td>\n      <td>Series C</td>\n      <td>Goldman Sachs, BlackRock, Aquiline Capital Par...</td>\n      <td>207.0</td>\n      <td>2020-10-06</td>\n      <td>2000.00</td>\n      <td>NaN</td>\n      <td>NaT</td>\n    </tr>\n    <tr>\n      <th>233</th>\n      <td>Varo Money</td>\n      <td>varomoney.com</td>\n      <td>Personal finance</td>\n      <td>Varo Money provides customers with tools to de...</td>\n      <td>PersonalFinance</td>\n      <td>California</td>\n      <td>United States</td>\n      <td>North America</td>\n      <td>481.33</td>\n      <td>Series D</td>\n      <td>HarbourVest Partners, Warburg Pincus, BlackRoc...</td>\n      <td>63.0</td>\n      <td>2021-02-18</td>\n      <td>248.12</td>\n      <td>NaN</td>\n      <td>NaT</td>\n    </tr>\n    <tr>\n      <th>234</th>\n      <td>Very Good Security</td>\n      <td>verygoodsecurity.com</td>\n      <td>Regulatory &amp; compliance</td>\n      <td>Very Good Security is a modern approach to dat...</td>\n      <td>DataCustodianship, enablement, Regulatory&amp;Comp...</td>\n      <td>California</td>\n      <td>United States</td>\n      <td>North America</td>\n      <td>104.90</td>\n      <td>Series C</td>\n      <td>Andreessen Horowitz, Undisclosed Investors, Ve...</td>\n      <td>60.0</td>\n      <td>2020-12-18</td>\n      <td>484.79</td>\n      <td>NaN</td>\n      <td>NaT</td>\n    </tr>\n    <tr>\n      <th>237</th>\n      <td>Vouch Insurance</td>\n      <td>vouch.us</td>\n      <td>Insurance</td>\n      <td>Vouch Insurance offers startups with the techn...</td>\n      <td>smallcommercial, Insurance</td>\n      <td>California</td>\n      <td>United States</td>\n      <td>North America</td>\n      <td>98.35</td>\n      <td>Series B</td>\n      <td>Silicon Valley Bank, Y Combinator, Ribbit Capital</td>\n      <td>28.7</td>\n      <td>2020-11-04</td>\n      <td>210.00</td>\n      <td>NaN</td>\n      <td>NaT</td>\n    </tr>\n    <tr>\n      <th>238</th>\n      <td>Wealthfront</td>\n      <td>wealthfront.com</td>\n      <td>Personal finance</td>\n      <td>Wealthfront is a robo-advisor offering the com...</td>\n      <td>Fintech250_2018, digitalBanking, PersonalFinan...</td>\n      <td>California</td>\n      <td>United States</td>\n      <td>North America</td>\n      <td>204.50</td>\n      <td>Series G</td>\n      <td>Spark Capital, Benchmark, Tiger Global Managem...</td>\n      <td>75.0</td>\n      <td>2018-01-04</td>\n      <td>500.00</td>\n      <td>NaN</td>\n      <td>NaT</td>\n    </tr>\n    <tr>\n      <th>244</th>\n      <td>YieldStreet</td>\n      <td>yieldstreet.com</td>\n      <td>Retail investing &amp; secondary markets</td>\n      <td>YieldStreet aims to change the way wealth is c...</td>\n      <td>personalfinance, RetailInvesting&amp;SecondaryMark...</td>\n      <td>New York</td>\n      <td>United States</td>\n      <td>North America</td>\n      <td>278.50</td>\n      <td>Series C</td>\n      <td>Greycroft, Soros Fund Management, Greenspring ...</td>\n      <td>100.0</td>\n      <td>2021-06-02</td>\n      <td>217.70</td>\n      <td>NaN</td>\n      <td>NaT</td>\n    </tr>\n    <tr>\n      <th>246</th>\n      <td>Zanbato</td>\n      <td>zanbato.com</td>\n      <td>Capital markets</td>\n      <td>Zanbato builds technology to empower family of...</td>\n      <td>CapitalMarkets</td>\n      <td>California</td>\n      <td>United States</td>\n      <td>North America</td>\n      <td>37.70</td>\n      <td>Corporate Minority</td>\n      <td>J.P. Morgan Chase &amp; Co.</td>\n      <td>NaN</td>\n      <td>2021-02-22</td>\n      <td>72.42</td>\n      <td>NaN</td>\n      <td>NaT</td>\n    </tr>\n    <tr>\n      <th>249</th>\n      <td>Blend</td>\n      <td>blend.com</td>\n      <td>Real estate &amp; mortgage</td>\n      <td>Blend simplifies getting mortgages, consumer l...</td>\n      <td>Fintech250_2018, Lending, RealEstate&amp;Mortgage</td>\n      <td>California</td>\n      <td>United States</td>\n      <td>North America</td>\n      <td>684.61</td>\n      <td>Series G</td>\n      <td>Tiger Global Management, Coatue Management</td>\n      <td>300.0</td>\n      <td>2021-01-13</td>\n      <td>3300.00</td>\n      <td>NaN</td>\n      <td>NaT</td>\n    </tr>\n  </tbody>\n</table>\n</div>"
     },
     "metadata": {}
    }
   ],
   "execution_count": null
  },
  {
   "cell_type": "markdown",
   "source": "### Load public FinTech companies from Excel",
   "metadata": {
    "tags": [],
    "cell_id": "00004-f462a2fa-7269-416d-9e2f-c7abee276338",
    "deepnote_cell_type": "markdown"
   }
  },
  {
   "cell_type": "code",
   "metadata": {
    "tags": [],
    "cell_id": "00002-8a0a7cc1-2433-41ac-b7a5-7f97379e4e99",
    "deepnote_to_be_reexecuted": false,
    "source_hash": "ae743568",
    "execution_start": 1627642201610,
    "execution_millis": 645,
    "deepnote_cell_type": "code"
   },
   "source": "public_financial = pd.read_excel('CB_Insights_public.xlsx', engine='openpyxl')\npublic_financial.head()",
   "outputs": [
    {
     "output_type": "execute_result",
     "execution_count": 6,
     "data": {
      "application/vnd.deepnote.dataframe.v2+json": {
       "row_count": 5,
       "column_count": 23,
       "columns": [
        {
         "name": "Company",
         "dtype": "object",
         "stats": {
          "unique_count": 5,
          "nan_count": 0,
          "categories": [
           {
            "name": "1347 Property Insurance Holdings",
            "count": 1
           },
           {
            "name": "4Front Ventures",
            "count": 1
           },
           {
            "name": "3 others",
            "count": 3
           }
          ]
         }
        },
        {
         "name": "URL",
         "dtype": "object",
         "stats": {
          "unique_count": 4,
          "nan_count": 1,
          "categories": [
           {
            "name": "http://www.1347pih.com",
            "count": 1
           },
           {
            "name": "3 others",
            "count": 3
           },
           {
            "name": "Missing",
            "count": 1
           }
          ]
         }
        },
        {
         "name": "Company Description",
         "dtype": "object",
         "stats": {
          "unique_count": 5,
          "nan_count": 0,
          "categories": [
           {
            "name": "1347 Property Insurance Holdings provides property and casualty insurance to individuals in Louisiana through our wholly-owned subsidiary, Maison Insurance Company, or Maison Insurance. The company's insurance offerings currently include homeowners' insurance, manufactured home insurance and dwelling fire insurance. 1347 believes the Louisiana property and casualty insurance market has historically been underserved due to the unique weather-related risks in the region. The company provides its policyholders with a selection of insurance products at competitive rates, while pursuing profitability using our selective underwriting criteria.",
            "count": 1
           },
           {
            "name": "4Front is an investment and management firm in the U.S. cannabis industry. 4Front develops a national platform that consists of a multi-state retail footprint, a network of partnership relationships, and operational efficiencies that allow it to take advantage of new opportunities as state-legal cannabis markets.",
            "count": 1
           },
           {
            "name": "3 others",
            "count": 3
           }
          ]
         }
        },
        {
         "name": "All Investors",
         "dtype": "object",
         "stats": {
          "unique_count": 3,
          "nan_count": 0,
          "categories": [
           {
            "name": "Public",
            "count": 3
           },
           {
            "name": "Cannex Capital Group;Merida Capital Partners;Undisclosed Investors",
            "count": 1
           },
           {
            "name": "American Capital",
            "count": 1
           }
          ]
         }
        },
        {
         "name": "Total Funding",
         "dtype": "float64",
         "stats": {
          "unique_count": 1,
          "nan_count": 4,
          "min": "57.76",
          "max": "57.76",
          "histogram": [
           {
            "bin_start": 57.26,
            "bin_end": 57.36,
            "count": 0
           },
           {
            "bin_start": 57.36,
            "bin_end": 57.46,
            "count": 0
           },
           {
            "bin_start": 57.46,
            "bin_end": 57.559999999999995,
            "count": 0
           },
           {
            "bin_start": 57.559999999999995,
            "bin_end": 57.66,
            "count": 0
           },
           {
            "bin_start": 57.66,
            "bin_end": 57.76,
            "count": 0
           },
           {
            "bin_start": 57.76,
            "bin_end": 57.86,
            "count": 1
           },
           {
            "bin_start": 57.86,
            "bin_end": 57.96,
            "count": 0
           },
           {
            "bin_start": 57.96,
            "bin_end": 58.059999999999995,
            "count": 0
           },
           {
            "bin_start": 58.059999999999995,
            "bin_end": 58.16,
            "count": 0
           },
           {
            "bin_start": 58.16,
            "bin_end": 58.26,
            "count": 0
           }
          ]
         }
        },
        {
         "name": "Sector",
         "dtype": "object",
         "stats": {
          "unique_count": 1,
          "nan_count": 0,
          "categories": [
           {
            "name": "Financial",
            "count": 5
           }
          ]
         }
        },
        {
         "name": "Industry",
         "dtype": "object",
         "stats": {
          "unique_count": 4,
          "nan_count": 0,
          "categories": [
           {
            "name": "Insurance",
            "count": 2
           },
           {
            "name": "Investment Firms & Funds",
            "count": 1
           },
           {
            "name": "2 others",
            "count": 2
           }
          ]
         }
        },
        {
         "name": "Sub-Industry",
         "dtype": "object",
         "stats": {
          "unique_count": 3,
          "nan_count": 2,
          "categories": [
           {
            "name": "Commercial",
            "count": 1
           },
           {
            "name": "2 others",
            "count": 2
           },
           {
            "name": "Missing",
            "count": 2
           }
          ]
         }
        },
        {
         "name": "Country",
         "dtype": "object",
         "stats": {
          "unique_count": 1,
          "nan_count": 0,
          "categories": [
           {
            "name": "United States",
            "count": 5
           }
          ]
         }
        },
        {
         "name": "State",
         "dtype": "object",
         "stats": {
          "unique_count": 5,
          "nan_count": 0,
          "categories": [
           {
            "name": "Louisiana",
            "count": 1
           },
           {
            "name": "Arizona",
            "count": 1
           },
           {
            "name": "3 others",
            "count": 3
           }
          ]
         }
        },
        {
         "name": "City",
         "dtype": "object",
         "stats": {
          "unique_count": 5,
          "nan_count": 0,
          "categories": [
           {
            "name": "Baton Rouge",
            "count": 1
           },
           {
            "name": "Phoenix",
            "count": 1
           },
           {
            "name": "3 others",
            "count": 3
           }
          ]
         }
        },
        {
         "name": "VC Backed",
         "dtype": "object",
         "stats": {
          "unique_count": 0,
          "nan_count": 5,
          "categories": [
           {
            "name": "Missing",
            "count": 5
           }
          ]
         }
        },
        {
         "name": "Exit Round",
         "dtype": "object",
         "stats": {
          "unique_count": 2,
          "nan_count": 1,
          "categories": [
           {
            "name": "IPO",
            "count": 3
           },
           {
            "name": "Reverse Merger",
            "count": 1
           },
           {
            "name": "Missing",
            "count": 1
           }
          ]
         }
        },
        {
         "name": "Exit Date",
         "dtype": "object",
         "stats": {
          "unique_count": 5,
          "nan_count": 0,
          "categories": [
           {
            "name": "2014-04-01",
            "count": 1
           },
           {
            "name": "3 others",
            "count": 3
           },
           {
            "name": "Missing",
            "count": 1
           }
          ]
         }
        },
        {
         "name": "Last Funding Round",
         "dtype": "object",
         "stats": {
          "unique_count": 1,
          "nan_count": 4,
          "categories": [
           {
            "name": "Unattributed - III",
            "count": 1
           },
           {
            "name": "Missing",
            "count": 4
           }
          ]
         }
        },
        {
         "name": "Last Funding Date",
         "dtype": "object",
         "stats": {
          "unique_count": 2,
          "nan_count": 0,
          "categories": [
           {
            "name": "2018-10-25",
            "count": 1
           },
           {
            "name": "Missing",
            "count": 4
           }
          ]
         }
        },
        {
         "name": "Last Funding Amount",
         "dtype": "float64",
         "stats": {
          "unique_count": 1,
          "nan_count": 4,
          "min": "31.0",
          "max": "31.0",
          "histogram": [
           {
            "bin_start": 30.5,
            "bin_end": 30.6,
            "count": 0
           },
           {
            "bin_start": 30.6,
            "bin_end": 30.7,
            "count": 0
           },
           {
            "bin_start": 30.7,
            "bin_end": 30.8,
            "count": 0
           },
           {
            "bin_start": 30.8,
            "bin_end": 30.9,
            "count": 0
           },
           {
            "bin_start": 30.9,
            "bin_end": 31,
            "count": 0
           },
           {
            "bin_start": 31,
            "bin_end": 31.1,
            "count": 1
           },
           {
            "bin_start": 31.1,
            "bin_end": 31.2,
            "count": 0
           },
           {
            "bin_start": 31.2,
            "bin_end": 31.3,
            "count": 0
           },
           {
            "bin_start": 31.3,
            "bin_end": 31.4,
            "count": 0
           },
           {
            "bin_start": 31.4,
            "bin_end": 31.5,
            "count": 0
           }
          ]
         }
        },
        {
         "name": "Last Funding Simplified Round",
         "dtype": "object",
         "stats": {
          "unique_count": 1,
          "nan_count": 4,
          "categories": [
           {
            "name": "Undisclosed",
            "count": 1
           },
           {
            "name": "Missing",
            "count": 4
           }
          ]
         }
        },
        {
         "name": "Last Funding Investors",
         "dtype": "object",
         "stats": {
          "unique_count": 1,
          "nan_count": 4,
          "categories": [
           {
            "name": "Undisclosed Investors",
            "count": 1
           },
           {
            "name": "Missing",
            "count": 4
           }
          ]
         }
        },
        {
         "name": "Min Valuation",
         "dtype": "float64",
         "stats": {
          "unique_count": 2,
          "nan_count": 3,
          "min": "24.02",
          "max": "240.79",
          "histogram": [
           {
            "bin_start": 24.02,
            "bin_end": 45.697,
            "count": 1
           },
           {
            "bin_start": 45.697,
            "bin_end": 67.374,
            "count": 0
           },
           {
            "bin_start": 67.374,
            "bin_end": 89.051,
            "count": 0
           },
           {
            "bin_start": 89.051,
            "bin_end": 110.728,
            "count": 0
           },
           {
            "bin_start": 110.728,
            "bin_end": 132.405,
            "count": 0
           },
           {
            "bin_start": 132.405,
            "bin_end": 154.08200000000002,
            "count": 0
           },
           {
            "bin_start": 154.08200000000002,
            "bin_end": 175.75900000000001,
            "count": 0
           },
           {
            "bin_start": 175.75900000000001,
            "bin_end": 197.436,
            "count": 0
           },
           {
            "bin_start": 197.436,
            "bin_end": 219.113,
            "count": 0
           },
           {
            "bin_start": 219.113,
            "bin_end": 240.79,
            "count": 1
           }
          ]
         }
        },
        {
         "name": "Max Valuation",
         "dtype": "float64",
         "stats": {
          "unique_count": 2,
          "nan_count": 3,
          "min": "24.02",
          "max": "240.79",
          "histogram": [
           {
            "bin_start": 24.02,
            "bin_end": 45.697,
            "count": 1
           },
           {
            "bin_start": 45.697,
            "bin_end": 67.374,
            "count": 0
           },
           {
            "bin_start": 67.374,
            "bin_end": 89.051,
            "count": 0
           },
           {
            "bin_start": 89.051,
            "bin_end": 110.728,
            "count": 0
           },
           {
            "bin_start": 110.728,
            "bin_end": 132.405,
            "count": 0
           },
           {
            "bin_start": 132.405,
            "bin_end": 154.08200000000002,
            "count": 0
           },
           {
            "bin_start": 154.08200000000002,
            "bin_end": 175.75900000000001,
            "count": 0
           },
           {
            "bin_start": 175.75900000000001,
            "bin_end": 197.436,
            "count": 0
           },
           {
            "bin_start": 197.436,
            "bin_end": 219.113,
            "count": 0
           },
           {
            "bin_start": 219.113,
            "bin_end": 240.79,
            "count": 1
           }
          ]
         }
        },
        {
         "name": "Min Price/Sales Ratio",
         "dtype": "float64",
         "stats": {
          "unique_count": 1,
          "nan_count": 4,
          "min": "4.7190569744597",
          "max": "4.7190569744597",
          "histogram": [
           {
            "bin_start": 4.2190569744597,
            "bin_end": 4.319056974459699,
            "count": 0
           },
           {
            "bin_start": 4.319056974459699,
            "bin_end": 4.4190569744597,
            "count": 0
           },
           {
            "bin_start": 4.4190569744597,
            "bin_end": 4.5190569744597,
            "count": 0
           },
           {
            "bin_start": 4.5190569744597,
            "bin_end": 4.6190569744597,
            "count": 0
           },
           {
            "bin_start": 4.6190569744597,
            "bin_end": 4.7190569744597,
            "count": 0
           },
           {
            "bin_start": 4.7190569744597,
            "bin_end": 4.8190569744597,
            "count": 1
           },
           {
            "bin_start": 4.8190569744597,
            "bin_end": 4.9190569744597,
            "count": 0
           },
           {
            "bin_start": 4.9190569744597,
            "bin_end": 5.0190569744597,
            "count": 0
           },
           {
            "bin_start": 5.0190569744597,
            "bin_end": 5.1190569744597,
            "count": 0
           },
           {
            "bin_start": 5.1190569744597,
            "bin_end": 5.2190569744597,
            "count": 0
           }
          ]
         }
        },
        {
         "name": "Max Price/Sales Ratio",
         "dtype": "float64",
         "stats": {
          "unique_count": 1,
          "nan_count": 4,
          "min": "4.7190569744597",
          "max": "4.7190569744597",
          "histogram": [
           {
            "bin_start": 4.2190569744597,
            "bin_end": 4.319056974459699,
            "count": 0
           },
           {
            "bin_start": 4.319056974459699,
            "bin_end": 4.4190569744597,
            "count": 0
           },
           {
            "bin_start": 4.4190569744597,
            "bin_end": 4.5190569744597,
            "count": 0
           },
           {
            "bin_start": 4.5190569744597,
            "bin_end": 4.6190569744597,
            "count": 0
           },
           {
            "bin_start": 4.6190569744597,
            "bin_end": 4.7190569744597,
            "count": 0
           },
           {
            "bin_start": 4.7190569744597,
            "bin_end": 4.8190569744597,
            "count": 1
           },
           {
            "bin_start": 4.8190569744597,
            "bin_end": 4.9190569744597,
            "count": 0
           },
           {
            "bin_start": 4.9190569744597,
            "bin_end": 5.0190569744597,
            "count": 0
           },
           {
            "bin_start": 5.0190569744597,
            "bin_end": 5.1190569744597,
            "count": 0
           },
           {
            "bin_start": 5.1190569744597,
            "bin_end": 5.2190569744597,
            "count": 0
           }
          ]
         }
        },
        {
         "name": "_deepnote_index_column",
         "dtype": "int64"
        }
       ],
       "rows_top": [
        {
         "Company": "1347 Property Insurance Holdings",
         "URL": "http://www.1347pih.com",
         "Company Description": "1347 Property Insurance Holdings provides property and casualty insurance to individuals in Louisia…",
         "All Investors": "Public",
         "Total Funding": "nan",
         "Sector": "Financial",
         "Industry": "Insurance",
         "Sub-Industry": "nan",
         "Country": "United States",
         "State": "Louisiana",
         "City": "Baton Rouge",
         "VC Backed": "nan",
         "Exit Round": "IPO",
         "Exit Date": "2014-04-01 00:00:00",
         "Last Funding Round": "nan",
         "Last Funding Date": "NaT",
         "Last Funding Amount": "nan",
         "Last Funding Simplified Round": "nan",
         "Last Funding Investors": "nan",
         "Min Valuation": 24.02,
         "Max Valuation": 24.02,
         "Min Price/Sales Ratio": 4.7190569744597,
         "Max Price/Sales Ratio": 4.7190569744597,
         "_deepnote_index_column": 0
        },
        {
         "Company": "4Front Ventures",
         "URL": "http://www.4frontventures.com",
         "Company Description": "4Front is an investment and management firm in the U.S. cannabis industry. 4Front develops a nation…",
         "All Investors": "Cannex Capital Group;Merida Capital Partners;Undisclosed Investors",
         "Total Funding": 57.76,
         "Sector": "Financial",
         "Industry": "Investment Firms & Funds",
         "Sub-Industry": "nan",
         "Country": "United States",
         "State": "Arizona",
         "City": "Phoenix",
         "VC Backed": "nan",
         "Exit Round": "Reverse Merger",
         "Exit Date": "2019-07-31 00:00:00",
         "Last Funding Round": "Unattributed - III",
         "Last Funding Date": "2018-10-25 00:00:00",
         "Last Funding Amount": 31,
         "Last Funding Simplified Round": "Undisclosed",
         "Last Funding Investors": "Undisclosed Investors",
         "Min Valuation": 240.79,
         "Max Valuation": 240.79,
         "Min Price/Sales Ratio": "nan",
         "Max Price/Sales Ratio": "nan",
         "_deepnote_index_column": 1
        },
        {
         "Company": "AFC Gamma",
         "URL": "http://www.afcgamma.com",
         "Company Description": "Advanced Flower Capital (AFC Gamma) is a premier provider of institutional real-estate loans to hig…",
         "All Investors": "Public",
         "Total Funding": "nan",
         "Sector": "Financial",
         "Industry": "Lending",
         "Sub-Industry": "Commercial",
         "Country": "United States",
         "State": "Florida",
         "City": "West Palm Beach",
         "VC Backed": "nan",
         "Exit Round": "IPO",
         "Exit Date": "2021-03-18 00:00:00",
         "Last Funding Round": "nan",
         "Last Funding Date": "NaT",
         "Last Funding Amount": "nan",
         "Last Funding Simplified Round": "nan",
         "Last Funding Investors": "nan",
         "Min Valuation": "nan",
         "Max Valuation": "nan",
         "Min Price/Sales Ratio": "nan",
         "Max Price/Sales Ratio": "nan",
         "_deepnote_index_column": 2
        },
        {
         "Company": "AGNC Investment",
         "URL": "http://www.agnc.com",
         "Company Description": "AGNC Investment (\"AGNC\") is an internally-managed real estate investment trust (\"REIT\").  The compa…",
         "All Investors": "American Capital",
         "Total Funding": "nan",
         "Sector": "Financial",
         "Industry": "Real Estate",
         "Sub-Industry": "REITs",
         "Country": "United States",
         "State": "Maryland",
         "City": "Bethesda",
         "VC Backed": "nan",
         "Exit Round": "nan",
         "Exit Date": "NaT",
         "Last Funding Round": "nan",
         "Last Funding Date": "NaT",
         "Last Funding Amount": "nan",
         "Last Funding Simplified Round": "nan",
         "Last Funding Investors": "nan",
         "Min Valuation": "nan",
         "Max Valuation": "nan",
         "Min Price/Sales Ratio": "nan",
         "Max Price/Sales Ratio": "nan",
         "_deepnote_index_column": 3
        },
        {
         "Company": "ARM Financial Group",
         "URL": "nan",
         "Company Description": "ARM Financial Group is a Financial/Insurance/Health Insurance company based in Louisville, Kentucky.",
         "All Investors": "Public",
         "Total Funding": "nan",
         "Sector": "Financial",
         "Industry": "Insurance",
         "Sub-Industry": "Health Insurance",
         "Country": "United States",
         "State": "Kentucky",
         "City": "Louisville",
         "VC Backed": "nan",
         "Exit Round": "IPO",
         "Exit Date": "1998-05-18 00:00:00",
         "Last Funding Round": "nan",
         "Last Funding Date": "NaT",
         "Last Funding Amount": "nan",
         "Last Funding Simplified Round": "nan",
         "Last Funding Investors": "nan",
         "Min Valuation": "nan",
         "Max Valuation": "nan",
         "Min Price/Sales Ratio": "nan",
         "Max Price/Sales Ratio": "nan",
         "_deepnote_index_column": 4
        }
       ],
       "rows_bottom": null
      },
      "text/plain": "                            Company                            URL  \\\n0  1347 Property Insurance Holdings         http://www.1347pih.com   \n1                   4Front Ventures  http://www.4frontventures.com   \n2                         AFC Gamma        http://www.afcgamma.com   \n3                   AGNC Investment            http://www.agnc.com   \n4               ARM Financial Group                            NaN   \n\n                                 Company Description  \\\n0  1347 Property Insurance Holdings provides prop...   \n1  4Front is an investment and management firm in...   \n2  Advanced Flower Capital (AFC Gamma) is a premi...   \n3  AGNC Investment (\"AGNC\") is an internally-mana...   \n4  ARM Financial Group is a Financial/Insurance/H...   \n\n                                       All Investors  Total Funding  \\\n0                                             Public            NaN   \n1  Cannex Capital Group;Merida Capital Partners;U...          57.76   \n2                                             Public            NaN   \n3                                   American Capital            NaN   \n4                                             Public            NaN   \n\n      Sector                  Industry      Sub-Industry        Country  \\\n0  Financial                 Insurance               NaN  United States   \n1  Financial  Investment Firms & Funds               NaN  United States   \n2  Financial                   Lending        Commercial  United States   \n3  Financial               Real Estate             REITs  United States   \n4  Financial                 Insurance  Health Insurance  United States   \n\n       State  ...  Exit Date  Last Funding Round Last Funding Date  \\\n0  Louisiana  ... 2014-04-01                 NaN               NaT   \n1    Arizona  ... 2019-07-31  Unattributed - III        2018-10-25   \n2    Florida  ... 2021-03-18                 NaN               NaT   \n3   Maryland  ...        NaT                 NaN               NaT   \n4   Kentucky  ... 1998-05-18                 NaN               NaT   \n\n  Last Funding Amount Last Funding Simplified Round Last Funding Investors  \\\n0                 NaN                           NaN                    NaN   \n1                31.0                   Undisclosed  Undisclosed Investors   \n2                 NaN                           NaN                    NaN   \n3                 NaN                           NaN                    NaN   \n4                 NaN                           NaN                    NaN   \n\n   Min Valuation Max Valuation Min Price/Sales Ratio  Max Price/Sales Ratio  \n0          24.02         24.02              4.719057               4.719057  \n1         240.79        240.79                   NaN                    NaN  \n2            NaN           NaN                   NaN                    NaN  \n3            NaN           NaN                   NaN                    NaN  \n4            NaN           NaN                   NaN                    NaN  \n\n[5 rows x 23 columns]",
      "text/html": "<div>\n<style scoped>\n    .dataframe tbody tr th:only-of-type {\n        vertical-align: middle;\n    }\n\n    .dataframe tbody tr th {\n        vertical-align: top;\n    }\n\n    .dataframe thead th {\n        text-align: right;\n    }\n</style>\n<table border=\"1\" class=\"dataframe\">\n  <thead>\n    <tr style=\"text-align: right;\">\n      <th></th>\n      <th>Company</th>\n      <th>URL</th>\n      <th>Company Description</th>\n      <th>All Investors</th>\n      <th>Total Funding</th>\n      <th>Sector</th>\n      <th>Industry</th>\n      <th>Sub-Industry</th>\n      <th>Country</th>\n      <th>State</th>\n      <th>...</th>\n      <th>Exit Date</th>\n      <th>Last Funding Round</th>\n      <th>Last Funding Date</th>\n      <th>Last Funding Amount</th>\n      <th>Last Funding Simplified Round</th>\n      <th>Last Funding Investors</th>\n      <th>Min Valuation</th>\n      <th>Max Valuation</th>\n      <th>Min Price/Sales Ratio</th>\n      <th>Max Price/Sales Ratio</th>\n    </tr>\n  </thead>\n  <tbody>\n    <tr>\n      <th>0</th>\n      <td>1347 Property Insurance Holdings</td>\n      <td>http://www.1347pih.com</td>\n      <td>1347 Property Insurance Holdings provides prop...</td>\n      <td>Public</td>\n      <td>NaN</td>\n      <td>Financial</td>\n      <td>Insurance</td>\n      <td>NaN</td>\n      <td>United States</td>\n      <td>Louisiana</td>\n      <td>...</td>\n      <td>2014-04-01</td>\n      <td>NaN</td>\n      <td>NaT</td>\n      <td>NaN</td>\n      <td>NaN</td>\n      <td>NaN</td>\n      <td>24.02</td>\n      <td>24.02</td>\n      <td>4.719057</td>\n      <td>4.719057</td>\n    </tr>\n    <tr>\n      <th>1</th>\n      <td>4Front Ventures</td>\n      <td>http://www.4frontventures.com</td>\n      <td>4Front is an investment and management firm in...</td>\n      <td>Cannex Capital Group;Merida Capital Partners;U...</td>\n      <td>57.76</td>\n      <td>Financial</td>\n      <td>Investment Firms &amp; Funds</td>\n      <td>NaN</td>\n      <td>United States</td>\n      <td>Arizona</td>\n      <td>...</td>\n      <td>2019-07-31</td>\n      <td>Unattributed - III</td>\n      <td>2018-10-25</td>\n      <td>31.0</td>\n      <td>Undisclosed</td>\n      <td>Undisclosed Investors</td>\n      <td>240.79</td>\n      <td>240.79</td>\n      <td>NaN</td>\n      <td>NaN</td>\n    </tr>\n    <tr>\n      <th>2</th>\n      <td>AFC Gamma</td>\n      <td>http://www.afcgamma.com</td>\n      <td>Advanced Flower Capital (AFC Gamma) is a premi...</td>\n      <td>Public</td>\n      <td>NaN</td>\n      <td>Financial</td>\n      <td>Lending</td>\n      <td>Commercial</td>\n      <td>United States</td>\n      <td>Florida</td>\n      <td>...</td>\n      <td>2021-03-18</td>\n      <td>NaN</td>\n      <td>NaT</td>\n      <td>NaN</td>\n      <td>NaN</td>\n      <td>NaN</td>\n      <td>NaN</td>\n      <td>NaN</td>\n      <td>NaN</td>\n      <td>NaN</td>\n    </tr>\n    <tr>\n      <th>3</th>\n      <td>AGNC Investment</td>\n      <td>http://www.agnc.com</td>\n      <td>AGNC Investment (\"AGNC\") is an internally-mana...</td>\n      <td>American Capital</td>\n      <td>NaN</td>\n      <td>Financial</td>\n      <td>Real Estate</td>\n      <td>REITs</td>\n      <td>United States</td>\n      <td>Maryland</td>\n      <td>...</td>\n      <td>NaT</td>\n      <td>NaN</td>\n      <td>NaT</td>\n      <td>NaN</td>\n      <td>NaN</td>\n      <td>NaN</td>\n      <td>NaN</td>\n      <td>NaN</td>\n      <td>NaN</td>\n      <td>NaN</td>\n    </tr>\n    <tr>\n      <th>4</th>\n      <td>ARM Financial Group</td>\n      <td>NaN</td>\n      <td>ARM Financial Group is a Financial/Insurance/H...</td>\n      <td>Public</td>\n      <td>NaN</td>\n      <td>Financial</td>\n      <td>Insurance</td>\n      <td>Health Insurance</td>\n      <td>United States</td>\n      <td>Kentucky</td>\n      <td>...</td>\n      <td>1998-05-18</td>\n      <td>NaN</td>\n      <td>NaT</td>\n      <td>NaN</td>\n      <td>NaN</td>\n      <td>NaN</td>\n      <td>NaN</td>\n      <td>NaN</td>\n      <td>NaN</td>\n      <td>NaN</td>\n    </tr>\n  </tbody>\n</table>\n<p>5 rows × 23 columns</p>\n</div>"
     },
     "metadata": {}
    }
   ],
   "execution_count": null
  },
  {
   "cell_type": "code",
   "metadata": {
    "tags": [],
    "cell_id": "00006-4956cf4c-0cd3-4396-8949-fa9817551041",
    "deepnote_to_be_reexecuted": false,
    "source_hash": "4f594dae",
    "execution_start": 1627642202252,
    "execution_millis": 16,
    "deepnote_cell_type": "code"
   },
   "source": "public_financial.shape",
   "outputs": [
    {
     "output_type": "execute_result",
     "execution_count": 7,
     "data": {
      "text/plain": "(469, 23)"
     },
     "metadata": {}
    }
   ],
   "execution_count": null
  },
  {
   "cell_type": "code",
   "metadata": {
    "tags": [],
    "cell_id": "00007-12e54ead-d380-45d8-bdc7-f3cb871c4da2",
    "deepnote_to_be_reexecuted": false,
    "source_hash": "fcdb3179",
    "execution_start": 1627642202275,
    "execution_millis": 9,
    "deepnote_cell_type": "code"
   },
   "source": "def name_convert(self):\n\n    searchval = 'yahoo finance ' + self\n    link = []\n    #limits to the first link\n    for url in search(searchval, tld='es', lang='es', stop=1):\n        link.append(url)\n\n    link = str(link[0])\n    link=link.split(\"/\")\n    if link[-1]=='':\n        ticker=link[-2]\n    else:\n        x=link[-1].split('=')\n        ticker=x[-1]\n\n    return(ticker)",
   "outputs": [],
   "execution_count": null
  },
  {
   "cell_type": "markdown",
   "source": "Filter for companies in this dataset that are `public` and the exit round is `IPO`",
   "metadata": {
    "tags": [],
    "cell_id": "00008-a45de114-9d02-40c6-897a-86e5b98870b2",
    "deepnote_cell_type": "markdown"
   }
  },
  {
   "cell_type": "code",
   "metadata": {
    "tags": [],
    "cell_id": "00009-d6f942c1-71b5-4a00-9ea9-f6fb49c30ffc",
    "deepnote_to_be_reexecuted": false,
    "source_hash": "347f918a",
    "execution_start": 1627642202289,
    "execution_millis": 46,
    "deepnote_cell_type": "code"
   },
   "source": "public_financial_filtered = public_financial[(public_financial['Exit Round'] == 'IPO') & (public_financial['All Investors'] == 'Public')]\npublic_financial_filtered.shape",
   "outputs": [
    {
     "output_type": "execute_result",
     "execution_count": 9,
     "data": {
      "text/plain": "(204, 23)"
     },
     "metadata": {}
    }
   ],
   "execution_count": null
  },
  {
   "cell_type": "markdown",
   "source": "Create the `Ticker` column in order to join the `IPO` dataset based on the name of the company (`Company`)",
   "metadata": {
    "tags": [],
    "cell_id": "00008-0600cf7f-1ea8-4867-a57c-c19849ee4ad9",
    "deepnote_cell_type": "markdown"
   }
  },
  {
   "cell_type": "code",
   "metadata": {
    "tags": [],
    "cell_id": "00008-6f4248b0-8711-4c5c-ba2f-20321c057f8b",
    "deepnote_to_be_reexecuted": false,
    "source_hash": "d4a35712",
    "execution_start": 1627642202390,
    "execution_millis": 0,
    "deepnote_cell_type": "code"
   },
   "source": "# public_financial_filtered['Ticker'] = public_financial_filtered['Company'].apply(lambda x: name_convert(x))\n# public_financial_filtered.head()",
   "outputs": [],
   "execution_count": null
  },
  {
   "cell_type": "markdown",
   "source": "### Load companies IPO data",
   "metadata": {
    "tags": [],
    "cell_id": "00006-7a6917e9-6be2-46b4-a432-5efa8de4d100",
    "deepnote_cell_type": "markdown"
   }
  },
  {
   "cell_type": "code",
   "metadata": {
    "tags": [],
    "cell_id": "00003-1aebd72b-77ce-49c9-878a-6711336f3853",
    "deepnote_to_be_reexecuted": false,
    "source_hash": "b3eeb0a5",
    "execution_start": 1627642202392,
    "execution_millis": 7476,
    "deepnote_cell_type": "code"
   },
   "source": "IPO = pd.read_excel('IPO-age.xlsx', engine='openpyxl')\nIPO = IPO.iloc[:, :11]\nIPO.head()",
   "outputs": [
    {
     "output_type": "execute_result",
     "execution_count": 11,
     "data": {
      "application/vnd.deepnote.dataframe.v2+json": {
       "row_count": 5,
       "column_count": 11,
       "columns": [
        {
         "name": "CUSIP",
         "dtype": "object",
         "stats": {
          "unique_count": 5,
          "nan_count": 0,
          "categories": [
           {
            "name": "78088610",
            "count": 1
           },
           {
            "name": "92212610",
            "count": 1
           },
           {
            "name": "3 others",
            "count": 3
           }
          ]
         }
        },
        {
         "name": "offer date",
         "dtype": "int64",
         "stats": {
          "unique_count": 5,
          "nan_count": 0,
          "min": "19750130",
          "max": "19750826",
          "histogram": [
           {
            "bin_start": 19750130,
            "bin_end": 19750199.6,
            "count": 1
           },
           {
            "bin_start": 19750199.6,
            "bin_end": 19750269.2,
            "count": 0
           },
           {
            "bin_start": 19750269.2,
            "bin_end": 19750338.8,
            "count": 0
           },
           {
            "bin_start": 19750338.8,
            "bin_end": 19750408.4,
            "count": 0
           },
           {
            "bin_start": 19750408.4,
            "bin_end": 19750478,
            "count": 0
           },
           {
            "bin_start": 19750478,
            "bin_end": 19750547.6,
            "count": 0
           },
           {
            "bin_start": 19750547.6,
            "bin_end": 19750617.2,
            "count": 2
           },
           {
            "bin_start": 19750617.2,
            "bin_end": 19750686.8,
            "count": 0
           },
           {
            "bin_start": 19750686.8,
            "bin_end": 19750756.4,
            "count": 1
           },
           {
            "bin_start": 19750756.4,
            "bin_end": 19750826,
            "count": 1
           }
          ]
         }
        },
        {
         "name": "name of IPO",
         "dtype": "object",
         "stats": {
          "unique_count": 5,
          "nan_count": 0,
          "categories": [
           {
            "name": "ROYSTER",
            "count": 1
           },
           {
            "name": "VARCO",
            "count": 1
           },
           {
            "name": "3 others",
            "count": 3
           }
          ]
         }
        },
        {
         "name": "Ticker",
         "dtype": "object",
         "stats": {
          "unique_count": 2,
          "nan_count": 3,
          "categories": [
           {
            "name": "VRC",
            "count": 1
           },
           {
            "name": "TAP",
            "count": 1
           },
           {
            "name": "Missing",
            "count": 3
           }
          ]
         }
        },
        {
         "name": "VC",
         "dtype": "object",
         "stats": {
          "unique_count": 1,
          "nan_count": 0,
          "categories": [
           {
            "name": "0",
            "count": 5
           }
          ]
         }
        },
        {
         "name": "Rollup",
         "dtype": "int64",
         "stats": {
          "unique_count": 1,
          "nan_count": 0,
          "min": "0",
          "max": "0",
          "histogram": [
           {
            "bin_start": -0.5,
            "bin_end": -0.4,
            "count": 0
           },
           {
            "bin_start": -0.4,
            "bin_end": -0.3,
            "count": 0
           },
           {
            "bin_start": -0.3,
            "bin_end": -0.19999999999999996,
            "count": 0
           },
           {
            "bin_start": -0.19999999999999996,
            "bin_end": -0.09999999999999998,
            "count": 0
           },
           {
            "bin_start": -0.09999999999999998,
            "bin_end": 0,
            "count": 0
           },
           {
            "bin_start": 0,
            "bin_end": 0.10000000000000009,
            "count": 5
           },
           {
            "bin_start": 0.10000000000000009,
            "bin_end": 0.20000000000000007,
            "count": 0
           },
           {
            "bin_start": 0.20000000000000007,
            "bin_end": 0.30000000000000004,
            "count": 0
           },
           {
            "bin_start": 0.30000000000000004,
            "bin_end": 0.4,
            "count": 0
           },
           {
            "bin_start": 0.4,
            "bin_end": 0.5,
            "count": 0
           }
          ]
         }
        },
        {
         "name": "PERM",
         "dtype": "object",
         "stats": {
          "unique_count": 5,
          "nan_count": 0,
          "categories": [
           {
            "name": "67898",
            "count": 1
           },
           {
            "name": "63044",
            "count": 1
           },
           {
            "name": "3 others",
            "count": 3
           }
          ]
         }
        },
        {
         "name": "Dual",
         "dtype": "object",
         "stats": {
          "unique_count": 2,
          "nan_count": 0,
          "categories": [
           {
            "name": "0",
            "count": 4
           },
           {
            "name": "1",
            "count": 1
           }
          ]
         }
        },
        {
         "name": "Internet",
         "dtype": "object",
         "stats": {
          "unique_count": 1,
          "nan_count": 0,
          "categories": [
           {
            "name": "0",
            "count": 5
           }
          ]
         }
        },
        {
         "name": "post-issue shares",
         "dtype": "object",
         "stats": {
          "unique_count": 2,
          "nan_count": 0,
          "categories": [
           {
            "name": ".",
            "count": 4
           },
           {
            "name": "34159000",
            "count": 1
           }
          ]
         }
        },
        {
         "name": "Founding",
         "dtype": "int64",
         "stats": {
          "unique_count": 4,
          "nan_count": 0,
          "min": "1901",
          "max": "1965",
          "histogram": [
           {
            "bin_start": 1901,
            "bin_end": 1907.4,
            "count": 2
           },
           {
            "bin_start": 1907.4,
            "bin_end": 1913.8,
            "count": 2
           },
           {
            "bin_start": 1913.8,
            "bin_end": 1920.2,
            "count": 0
           },
           {
            "bin_start": 1920.2,
            "bin_end": 1926.6,
            "count": 0
           },
           {
            "bin_start": 1926.6,
            "bin_end": 1933,
            "count": 0
           },
           {
            "bin_start": 1933,
            "bin_end": 1939.4,
            "count": 0
           },
           {
            "bin_start": 1939.4,
            "bin_end": 1945.8,
            "count": 0
           },
           {
            "bin_start": 1945.8,
            "bin_end": 1952.2,
            "count": 0
           },
           {
            "bin_start": 1952.2,
            "bin_end": 1958.6,
            "count": 0
           },
           {
            "bin_start": 1958.6,
            "bin_end": 1965,
            "count": 1
           }
          ]
         }
        },
        {
         "name": "_deepnote_index_column",
         "dtype": "int64"
        }
       ],
       "rows_top": [
        {
         "CUSIP": "78088610",
         "offer date": 19750130,
         "name of IPO": "ROYSTER",
         "Ticker": "nan",
         "VC": "0",
         "Rollup": 0,
         "PERM": "67898",
         "Dual": "0",
         "Internet": "0",
         "post-issue shares": ".",
         "Founding": 1901,
         "_deepnote_index_column": 0
        },
        {
         "CUSIP": "92212610",
         "offer date": 19750609,
         "name of IPO": "VARCO",
         "Ticker": "VRC",
         "VC": "0",
         "Rollup": 0,
         "PERM": "63044",
         "Dual": "0",
         "Internet": "0",
         "post-issue shares": ".",
         "Founding": 1908,
         "_deepnote_index_column": 1
        },
        {
         "CUSIP": "21701610",
         "offer date": 19750610,
         "name of IPO": "COORS ADOLPH",
         "Ticker": "TAP",
         "VC": "0",
         "Rollup": 0,
         "PERM": "59248",
         "Dual": "1",
         "Internet": "0",
         "post-issue shares": "34159000",
         "Founding": 1901,
         "_deepnote_index_column": 2
        },
        {
         "CUSIP": "49348410",
         "offer date": 19750715,
         "name of IPO": "KEYSTONE FOODS CORP",
         "Ticker": "nan",
         "VC": "0",
         "Rollup": 0,
         "PERM": "61989",
         "Dual": "0",
         "Internet": "0",
         "post-issue shares": ".",
         "Founding": 1965,
         "_deepnote_index_column": 3
        },
        {
         "CUSIP": "10564710",
         "offer date": 19750826,
         "name of IPO": "C. F. BRAUN",
         "Ticker": "nan",
         "VC": "0",
         "Rollup": 0,
         "PERM": "58579",
         "Dual": "0",
         "Internet": "0",
         "post-issue shares": ".",
         "Founding": 1909,
         "_deepnote_index_column": 4
        }
       ],
       "rows_bottom": null
      },
      "text/plain": "      CUSIP  offer date          name of IPO Ticker VC  Rollup   PERM Dual  \\\n0  78088610    19750130              ROYSTER    NaN  0       0  67898    0   \n1  92212610    19750609                VARCO    VRC  0       0  63044    0   \n2  21701610    19750610         COORS ADOLPH    TAP  0       0  59248    1   \n3  49348410    19750715  KEYSTONE FOODS CORP    NaN  0       0  61989    0   \n4  10564710    19750826          C. F. BRAUN    NaN  0       0  58579    0   \n\n  Internet post-issue shares  Founding  \n0        0                 .      1901  \n1        0                 .      1908  \n2        0          34159000      1901  \n3        0                 .      1965  \n4        0                 .      1909  ",
      "text/html": "<div>\n<style scoped>\n    .dataframe tbody tr th:only-of-type {\n        vertical-align: middle;\n    }\n\n    .dataframe tbody tr th {\n        vertical-align: top;\n    }\n\n    .dataframe thead th {\n        text-align: right;\n    }\n</style>\n<table border=\"1\" class=\"dataframe\">\n  <thead>\n    <tr style=\"text-align: right;\">\n      <th></th>\n      <th>CUSIP</th>\n      <th>offer date</th>\n      <th>name of IPO</th>\n      <th>Ticker</th>\n      <th>VC</th>\n      <th>Rollup</th>\n      <th>PERM</th>\n      <th>Dual</th>\n      <th>Internet</th>\n      <th>post-issue shares</th>\n      <th>Founding</th>\n    </tr>\n  </thead>\n  <tbody>\n    <tr>\n      <th>0</th>\n      <td>78088610</td>\n      <td>19750130</td>\n      <td>ROYSTER</td>\n      <td>NaN</td>\n      <td>0</td>\n      <td>0</td>\n      <td>67898</td>\n      <td>0</td>\n      <td>0</td>\n      <td>.</td>\n      <td>1901</td>\n    </tr>\n    <tr>\n      <th>1</th>\n      <td>92212610</td>\n      <td>19750609</td>\n      <td>VARCO</td>\n      <td>VRC</td>\n      <td>0</td>\n      <td>0</td>\n      <td>63044</td>\n      <td>0</td>\n      <td>0</td>\n      <td>.</td>\n      <td>1908</td>\n    </tr>\n    <tr>\n      <th>2</th>\n      <td>21701610</td>\n      <td>19750610</td>\n      <td>COORS ADOLPH</td>\n      <td>TAP</td>\n      <td>0</td>\n      <td>0</td>\n      <td>59248</td>\n      <td>1</td>\n      <td>0</td>\n      <td>34159000</td>\n      <td>1901</td>\n    </tr>\n    <tr>\n      <th>3</th>\n      <td>49348410</td>\n      <td>19750715</td>\n      <td>KEYSTONE FOODS CORP</td>\n      <td>NaN</td>\n      <td>0</td>\n      <td>0</td>\n      <td>61989</td>\n      <td>0</td>\n      <td>0</td>\n      <td>.</td>\n      <td>1965</td>\n    </tr>\n    <tr>\n      <th>4</th>\n      <td>10564710</td>\n      <td>19750826</td>\n      <td>C. F. BRAUN</td>\n      <td>NaN</td>\n      <td>0</td>\n      <td>0</td>\n      <td>58579</td>\n      <td>0</td>\n      <td>0</td>\n      <td>.</td>\n      <td>1909</td>\n    </tr>\n  </tbody>\n</table>\n</div>"
     },
     "metadata": {}
    }
   ],
   "execution_count": null
  },
  {
   "cell_type": "markdown",
   "source": "Join `public_financial_filtered` and `IPO` data on the `Ticker` column",
   "metadata": {
    "tags": [],
    "cell_id": "00014-417a9df3-00a3-44a7-b21c-bbd46404e3e6",
    "deepnote_cell_type": "markdown"
   }
  },
  {
   "cell_type": "code",
   "metadata": {
    "tags": [],
    "cell_id": "00015-fe4d2df4-4d02-4b9e-825a-84012477ae8c",
    "deepnote_to_be_reexecuted": false,
    "source_hash": "656930cf",
    "execution_start": 1627642209902,
    "execution_millis": 1,
    "deepnote_cell_type": "code"
   },
   "source": "# pub_fin = pd.merge(public_financial_filtered, IPO, how = 'inner',on=['Ticker']).drop_duplicates()\n# pub_fin.head()",
   "outputs": [],
   "execution_count": null
  },
  {
   "cell_type": "code",
   "metadata": {
    "tags": [],
    "cell_id": "00016-66f58bdc-fb0b-4678-b245-bf005841e9d4",
    "deepnote_to_be_reexecuted": false,
    "source_hash": "cc3e923d",
    "execution_start": 1627642209904,
    "execution_millis": 746832497,
    "deepnote_cell_type": "code"
   },
   "source": "# pub_fin.columns",
   "outputs": [],
   "execution_count": null
  },
  {
   "cell_type": "code",
   "metadata": {
    "tags": [],
    "cell_id": "00017-148f2a50-2b1f-418c-962f-57d21693d6e2",
    "deepnote_to_be_reexecuted": false,
    "source_hash": "8e9e3937",
    "execution_start": 1627642209904,
    "execution_millis": 746832497,
    "deepnote_cell_type": "code"
   },
   "source": "# pub_fin.shape",
   "outputs": [],
   "execution_count": null
  },
  {
   "cell_type": "code",
   "metadata": {
    "tags": [],
    "cell_id": "00015-ef13f765-df35-4ce4-ab3e-1a220d985b11",
    "deepnote_to_be_reexecuted": false,
    "source_hash": "e792b4f3",
    "execution_start": 1627642209905,
    "execution_millis": 746832498,
    "deepnote_cell_type": "code"
   },
   "source": "# pub_fin.to_csv('public_fintech.csv', index=False)",
   "outputs": [],
   "execution_count": null
  },
  {
   "cell_type": "markdown",
   "source": "### Load SEC filing dataset",
   "metadata": {
    "tags": [],
    "cell_id": "00019-40dac679-1f9c-4628-8c4d-0b578376bbf4",
    "deepnote_cell_type": "markdown"
   }
  },
  {
   "cell_type": "code",
   "metadata": {
    "tags": [],
    "cell_id": "00017-0b42ad02-7375-45cd-b2c7-080b05af14d5",
    "deepnote_to_be_reexecuted": false,
    "source_hash": "1c879fbc",
    "execution_start": 1627642209950,
    "execution_millis": 106,
    "deepnote_cell_type": "code"
   },
   "source": "SEC = pd.read_csv('S1_SIC_v2.csv')\nSEC.head()",
   "outputs": [
    {
     "output_type": "execute_result",
     "execution_count": 16,
     "data": {
      "application/vnd.deepnote.dataframe.v2+json": {
       "row_count": 5,
       "column_count": 9,
       "columns": [
        {
         "name": "CIK",
         "dtype": "int64",
         "stats": {
          "unique_count": 4,
          "nan_count": 0,
          "min": "34616",
          "max": "795178",
          "histogram": [
           {
            "bin_start": 34616,
            "bin_end": 110672.2,
            "count": 2
           },
           {
            "bin_start": 110672.2,
            "bin_end": 186728.4,
            "count": 0
           },
           {
            "bin_start": 186728.4,
            "bin_end": 262784.6,
            "count": 0
           },
           {
            "bin_start": 262784.6,
            "bin_end": 338840.8,
            "count": 0
           },
           {
            "bin_start": 338840.8,
            "bin_end": 414897,
            "count": 0
           },
           {
            "bin_start": 414897,
            "bin_end": 490953.19999999995,
            "count": 0
           },
           {
            "bin_start": 490953.19999999995,
            "bin_end": 567009.4,
            "count": 0
           },
           {
            "bin_start": 567009.4,
            "bin_end": 643065.6,
            "count": 0
           },
           {
            "bin_start": 643065.6,
            "bin_end": 719121.7999999999,
            "count": 0
           },
           {
            "bin_start": 719121.7999999999,
            "bin_end": 795178,
            "count": 3
           }
          ]
         }
        },
        {
         "name": "Company Name",
         "dtype": "object",
         "stats": {
          "unique_count": 4,
          "nan_count": 0,
          "categories": [
           {
            "name": "USG CORP",
            "count": 2
           },
           {
            "name": "FARMLAND INDUSTRIES INC",
            "count": 1
           },
           {
            "name": "2 others",
            "count": 2
           }
          ]
         }
        },
        {
         "name": "Form Type",
         "dtype": "object",
         "stats": {
          "unique_count": 1,
          "nan_count": 0,
          "categories": [
           {
            "name": "S-1",
            "count": 5
           }
          ]
         }
        },
        {
         "name": "Date Filed",
         "dtype": "object",
         "stats": {
          "unique_count": 5,
          "nan_count": 0,
          "categories": [
           {
            "name": "1994-03-02",
            "count": 1
           },
           {
            "name": "1994-02-14",
            "count": 1
           },
           {
            "name": "3 others",
            "count": 3
           }
          ]
         }
        },
        {
         "name": "Filename",
         "dtype": "object",
         "stats": {
          "unique_count": 5,
          "nan_count": 0,
          "categories": [
           {
            "name": "34616_0000034616-94-000007.htm",
            "count": 1
           },
           {
            "name": "51200_0000912057-94-000398.htm",
            "count": 1
           },
           {
            "name": "3 others",
            "count": 3
           }
          ]
         }
        },
        {
         "name": "local_path",
         "dtype": "object",
         "stats": {
          "unique_count": 5,
          "nan_count": 0,
          "categories": [
           {
            "name": "./data/S-1/1994/QTR1/34616_0000034616-94-000007",
            "count": 1
           },
           {
            "name": "./data/S-1/1994/QTR1/51200_0000912057-94-000398",
            "count": 1
           },
           {
            "name": "3 others",
            "count": 3
           }
          ]
         }
        },
        {
         "name": "SEC_url",
         "dtype": "object",
         "stats": {
          "unique_count": 5,
          "nan_count": 0,
          "categories": [
           {
            "name": "https://www.sec.gov/Archives/edgar/data/34616/000003461694000007/0000034616-94-000007-index.htm",
            "count": 1
           },
           {
            "name": "https://www.sec.gov/Archives/edgar/data/51200/000091205794000398/0000912057-94-000398-index.htm",
            "count": 1
           },
           {
            "name": "3 others",
            "count": 3
           }
          ]
         }
        },
        {
         "name": "SIC",
         "dtype": "object",
         "stats": {
          "unique_count": 4,
          "nan_count": 0,
          "categories": [
           {
            "name": "#3270",
            "count": 2
           },
           {
            "name": "#2011",
            "count": 1
           },
           {
            "name": "2 others",
            "count": 2
           }
          ]
         }
        },
        {
         "name": "SIC2",
         "dtype": "object",
         "stats": {
          "unique_count": 0,
          "nan_count": 5,
          "categories": [
           {
            "name": "Missing",
            "count": 5
           }
          ]
         }
        },
        {
         "name": "_deepnote_index_column",
         "dtype": "int64"
        }
       ],
       "rows_top": [
        {
         "CIK": 34616,
         "Company Name": "FARMLAND INDUSTRIES INC",
         "Form Type": "S-1",
         "Date Filed": "1994-03-02",
         "Filename": "34616_0000034616-94-000007.htm",
         "local_path": "./data/S-1/1994/QTR1/34616_0000034616-94-000007",
         "SEC_url": "https://www.sec.gov/Archives/edgar/data/34616/000003461694000007/0000034616-94-000007-index.htm",
         "SIC": "#2011",
         "SIC2": "nan",
         "_deepnote_index_column": 0
        },
        {
         "CIK": 51200,
         "Company Name": "INTERNATIONAL CONTROLS CORP",
         "Form Type": "S-1",
         "Date Filed": "1994-02-14",
         "Filename": "51200_0000912057-94-000398.htm",
         "local_path": "./data/S-1/1994/QTR1/51200_0000912057-94-000398",
         "SEC_url": "https://www.sec.gov/Archives/edgar/data/51200/000091205794000398/0000912057-94-000398-index.htm",
         "SIC": "#3715",
         "SIC2": "nan",
         "_deepnote_index_column": 1
        },
        {
         "CIK": 757011,
         "Company Name": "USG CORP",
         "Form Type": "S-1",
         "Date Filed": "1994-01-07",
         "Filename": "757011_0000912057-94-000036.htm",
         "local_path": "./data/S-1/1994/QTR1/757011_0000912057-94-000036",
         "SEC_url": "https://www.sec.gov/Archives/edgar/data/757011/000091205794000036/0000912057-94-000036-index.htm",
         "SIC": "#3270",
         "SIC2": "nan",
         "_deepnote_index_column": 2
        },
        {
         "CIK": 757011,
         "Company Name": "USG CORP",
         "Form Type": "S-1",
         "Date Filed": "1994-03-09",
         "Filename": "757011_0000912057-94-000814.htm",
         "local_path": "./data/S-1/1994/QTR1/757011_0000912057-94-000814",
         "SEC_url": "https://www.sec.gov/Archives/edgar/data/757011/000091205794000814/0000912057-94-000814-index.htm",
         "SIC": "#3270",
         "SIC2": "nan",
         "_deepnote_index_column": 3
        },
        {
         "CIK": 795178,
         "Company Name": "MESA CAPITAL CORP",
         "Form Type": "S-1",
         "Date Filed": "1994-01-14",
         "Filename": "795178_0000950134-94-000030.htm",
         "local_path": "./data/S-1/1994/QTR1/795178_0000950134-94-000030",
         "SEC_url": "https://www.sec.gov/Archives/edgar/data/795178/000095013494000030/0000950134-94-000030-index.htm",
         "SIC": "#1382#1311",
         "SIC2": "nan",
         "_deepnote_index_column": 4
        }
       ],
       "rows_bottom": null
      },
      "text/plain": "      CIK                 Company Name Form Type  Date Filed  \\\n0   34616      FARMLAND INDUSTRIES INC       S-1  1994-03-02   \n1   51200  INTERNATIONAL CONTROLS CORP       S-1  1994-02-14   \n2  757011                     USG CORP       S-1  1994-01-07   \n3  757011                     USG CORP       S-1  1994-03-09   \n4  795178            MESA CAPITAL CORP       S-1  1994-01-14   \n\n                          Filename  \\\n0   34616_0000034616-94-000007.htm   \n1   51200_0000912057-94-000398.htm   \n2  757011_0000912057-94-000036.htm   \n3  757011_0000912057-94-000814.htm   \n4  795178_0000950134-94-000030.htm   \n\n                                         local_path  \\\n0   ./data/S-1/1994/QTR1/34616_0000034616-94-000007   \n1   ./data/S-1/1994/QTR1/51200_0000912057-94-000398   \n2  ./data/S-1/1994/QTR1/757011_0000912057-94-000036   \n3  ./data/S-1/1994/QTR1/757011_0000912057-94-000814   \n4  ./data/S-1/1994/QTR1/795178_0000950134-94-000030   \n\n                                             SEC_url         SIC SIC2  \n0  https://www.sec.gov/Archives/edgar/data/34616/...       #2011  NaN  \n1  https://www.sec.gov/Archives/edgar/data/51200/...       #3715  NaN  \n2  https://www.sec.gov/Archives/edgar/data/757011...       #3270  NaN  \n3  https://www.sec.gov/Archives/edgar/data/757011...       #3270  NaN  \n4  https://www.sec.gov/Archives/edgar/data/795178...  #1382#1311  NaN  ",
      "text/html": "<div>\n<style scoped>\n    .dataframe tbody tr th:only-of-type {\n        vertical-align: middle;\n    }\n\n    .dataframe tbody tr th {\n        vertical-align: top;\n    }\n\n    .dataframe thead th {\n        text-align: right;\n    }\n</style>\n<table border=\"1\" class=\"dataframe\">\n  <thead>\n    <tr style=\"text-align: right;\">\n      <th></th>\n      <th>CIK</th>\n      <th>Company Name</th>\n      <th>Form Type</th>\n      <th>Date Filed</th>\n      <th>Filename</th>\n      <th>local_path</th>\n      <th>SEC_url</th>\n      <th>SIC</th>\n      <th>SIC2</th>\n    </tr>\n  </thead>\n  <tbody>\n    <tr>\n      <th>0</th>\n      <td>34616</td>\n      <td>FARMLAND INDUSTRIES INC</td>\n      <td>S-1</td>\n      <td>1994-03-02</td>\n      <td>34616_0000034616-94-000007.htm</td>\n      <td>./data/S-1/1994/QTR1/34616_0000034616-94-000007</td>\n      <td>https://www.sec.gov/Archives/edgar/data/34616/...</td>\n      <td>#2011</td>\n      <td>NaN</td>\n    </tr>\n    <tr>\n      <th>1</th>\n      <td>51200</td>\n      <td>INTERNATIONAL CONTROLS CORP</td>\n      <td>S-1</td>\n      <td>1994-02-14</td>\n      <td>51200_0000912057-94-000398.htm</td>\n      <td>./data/S-1/1994/QTR1/51200_0000912057-94-000398</td>\n      <td>https://www.sec.gov/Archives/edgar/data/51200/...</td>\n      <td>#3715</td>\n      <td>NaN</td>\n    </tr>\n    <tr>\n      <th>2</th>\n      <td>757011</td>\n      <td>USG CORP</td>\n      <td>S-1</td>\n      <td>1994-01-07</td>\n      <td>757011_0000912057-94-000036.htm</td>\n      <td>./data/S-1/1994/QTR1/757011_0000912057-94-000036</td>\n      <td>https://www.sec.gov/Archives/edgar/data/757011...</td>\n      <td>#3270</td>\n      <td>NaN</td>\n    </tr>\n    <tr>\n      <th>3</th>\n      <td>757011</td>\n      <td>USG CORP</td>\n      <td>S-1</td>\n      <td>1994-03-09</td>\n      <td>757011_0000912057-94-000814.htm</td>\n      <td>./data/S-1/1994/QTR1/757011_0000912057-94-000814</td>\n      <td>https://www.sec.gov/Archives/edgar/data/757011...</td>\n      <td>#3270</td>\n      <td>NaN</td>\n    </tr>\n    <tr>\n      <th>4</th>\n      <td>795178</td>\n      <td>MESA CAPITAL CORP</td>\n      <td>S-1</td>\n      <td>1994-01-14</td>\n      <td>795178_0000950134-94-000030.htm</td>\n      <td>./data/S-1/1994/QTR1/795178_0000950134-94-000030</td>\n      <td>https://www.sec.gov/Archives/edgar/data/795178...</td>\n      <td>#1382#1311</td>\n      <td>NaN</td>\n    </tr>\n  </tbody>\n</table>\n</div>"
     },
     "metadata": {}
    }
   ],
   "execution_count": null
  },
  {
   "cell_type": "code",
   "metadata": {
    "tags": [],
    "cell_id": "00021-8037b11d-3e7d-4a52-8304-5eb21d2a8f01",
    "deepnote_to_be_reexecuted": false,
    "source_hash": "5a462b9e",
    "execution_start": 1627642210063,
    "execution_millis": 4,
    "deepnote_cell_type": "code"
   },
   "source": "SEC.shape",
   "outputs": [
    {
     "output_type": "execute_result",
     "execution_count": 17,
     "data": {
      "text/plain": "(22865, 9)"
     },
     "metadata": {}
    }
   ],
   "execution_count": null
  },
  {
   "cell_type": "markdown",
   "source": "Companies that only have one SIC code\n* keep companies that have SIC code starts with 6 or 7",
   "metadata": {
    "tags": [],
    "cell_id": "00022-647de1a4-60a1-47e0-8d09-b741561d6167",
    "deepnote_cell_type": "markdown"
   }
  },
  {
   "cell_type": "code",
   "metadata": {
    "tags": [],
    "cell_id": "00021-7a052fa0-2cfb-4805-96b7-04f0234e329e",
    "deepnote_to_be_reexecuted": false,
    "source_hash": "6b8d7284",
    "execution_start": 1627642210122,
    "execution_millis": 54,
    "deepnote_cell_type": "code"
   },
   "source": "one_code = SEC[(SEC.SIC.str.len() == 5) | (SEC.SIC2.str.len() == 5)]\nstart_6 = (one_code['SIC'].str[1] == '6') | (one_code['SIC2'].str[1] == '6')\nstart_7 = (one_code['SIC'].str[1] == '7') | (one_code['SIC2'].str[1] == '7')\none_code_six = one_code[start_6 | start_7]\none_code_six.shape",
   "outputs": [
    {
     "output_type": "execute_result",
     "execution_count": 18,
     "data": {
      "text/plain": "(7391, 9)"
     },
     "metadata": {}
    }
   ],
   "execution_count": null
  },
  {
   "cell_type": "markdown",
   "source": "Companies that have multiple SIC codes\n* keep companies that have SIC code starts with 6 or 7",
   "metadata": {
    "tags": [],
    "cell_id": "00024-d479386b-853d-4cce-99e0-ce5600f3cc63",
    "deepnote_cell_type": "markdown"
   }
  },
  {
   "cell_type": "code",
   "metadata": {
    "tags": [],
    "cell_id": "00022-73ef6580-d74a-4cb3-bae5-347e7217c5f8",
    "deepnote_to_be_reexecuted": false,
    "source_hash": "757a5c71",
    "execution_start": 1627642210171,
    "execution_millis": 0,
    "deepnote_cell_type": "code"
   },
   "source": "multiple_code = SEC[SEC.SIC.str.len() > 5]\n# multiple_code.head()",
   "outputs": [],
   "execution_count": null
  },
  {
   "cell_type": "code",
   "metadata": {
    "tags": [],
    "cell_id": "00024-0cd383c3-08c9-46c9-9796-609d08139f22",
    "deepnote_to_be_reexecuted": false,
    "source_hash": "6998b9c8",
    "execution_start": 1627642210223,
    "execution_millis": 17,
    "deepnote_cell_type": "code"
   },
   "source": "multiple_code[\"SIC\"] = multiple_code[\"SIC\"].str.findall(pat = '([0-9]{4})')\n# multiple_code\nmultiple_code['SIC']",
   "outputs": [
    {
     "output_type": "execute_result",
     "execution_count": 20,
     "data": {
      "text/plain": "4              [1382, 1311]\n7              [1382, 1311]\n9              [1382, 1311]\n17       [7990, 7990, 7990]\n20       [7990, 7990, 7990]\n                ...        \n22358    [7372, 7374, 7374]\n22359          [3842, 3842]\n22361    [7372, 7374, 7374]\n22736          [4941, 4941]\n22737          [4941, 4941]\nName: SIC, Length: 2784, dtype: object"
     },
     "metadata": {}
    }
   ],
   "execution_count": null
  },
  {
   "cell_type": "code",
   "metadata": {
    "tags": [],
    "cell_id": "00025-4b947a54-d0e9-450b-afd1-4b699af66617",
    "deepnote_to_be_reexecuted": false,
    "source_hash": "28fdcfd5",
    "execution_start": 1627642210223,
    "execution_millis": 17,
    "deepnote_cell_type": "code"
   },
   "source": "print('The missing rate of SIC2 column is: ' + str(multiple_code['SIC2'].isna().mean()))\n# we don't drop this column immediately because we will later concatenate it with the one code dataframe \n# with SIC that starts with 6\n\n# multiple_code.drop(columns=['SIC2'], inplace=True)\n# multiple_code.columns",
   "outputs": [
    {
     "name": "stdout",
     "text": "The missing rate of SIC2 column is: 1.0\n",
     "output_type": "stream"
    }
   ],
   "execution_count": null
  },
  {
   "cell_type": "code",
   "metadata": {
    "tags": [],
    "cell_id": "00025-74918a8a-f759-4a7c-9d7e-70dba6cdbebc",
    "deepnote_to_be_reexecuted": false,
    "source_hash": "bc763107",
    "execution_start": 1627642210224,
    "execution_millis": 34,
    "deepnote_cell_type": "code"
   },
   "source": "multiple_code = multiple_code.explode('SIC')",
   "outputs": [],
   "execution_count": null
  },
  {
   "cell_type": "code",
   "metadata": {
    "tags": [],
    "cell_id": "00026-17005239-1062-416a-8e66-fefde7a8a7ac",
    "deepnote_to_be_reexecuted": false,
    "source_hash": "cab0ba2a",
    "execution_start": 1627642210258,
    "execution_millis": 1,
    "deepnote_cell_type": "code"
   },
   "source": "multi_code_six = multiple_code[(multiple_code['SIC'].str[0] == '6') | (multiple_code['SIC'].str[0] == '6')]",
   "outputs": [],
   "execution_count": null
  },
  {
   "cell_type": "code",
   "metadata": {
    "tags": [],
    "cell_id": "00031-41b5e581-bc02-4460-94eb-0a2277d3e624",
    "deepnote_to_be_reexecuted": false,
    "source_hash": "755fb626",
    "execution_start": 1627642210263,
    "execution_millis": 11,
    "deepnote_cell_type": "code"
   },
   "source": "six_seven = pd.concat([one_code_six, multi_code_six])\n# six_seven.head()\nsix_seven.shape",
   "outputs": [
    {
     "output_type": "execute_result",
     "execution_count": 24,
     "data": {
      "text/plain": "(8046, 9)"
     },
     "metadata": {}
    }
   ],
   "execution_count": null
  },
  {
   "cell_type": "markdown",
   "source": "### Approach used to filter for FinTech companies:\n* Filter out traditional banking \n* Divide into 2 groups: one with Standard Industrial Classification (SIC) start with 6 (finance or real estate companies); one with SIC start with 7 (Technology or trade & services companies)\n* Create keywords list (tech keywords if SIC starts with 6; finance keywords if SIC starts with 7)\n* Parse S-1 form to count the number of occurences of each keywords that appeared \n* Set threshold for companies that can be identified as FinTech\n* Combine the two datasets\n* Validate the approach",
   "metadata": {
    "tags": [],
    "cell_id": "00034-615795e1-fdcf-4056-a208-c052e52d9fd1",
    "deepnote_cell_type": "markdown"
   }
  },
  {
   "cell_type": "markdown",
   "source": "Cleaning the `SIC` and `SIC2` columns",
   "metadata": {
    "tags": [],
    "cell_id": "00033-d9fd84e4-3062-40c5-8152-2f052b33123f",
    "deepnote_cell_type": "markdown"
   }
  },
  {
   "cell_type": "code",
   "metadata": {
    "tags": [],
    "cell_id": "00034-1a00f0b2-ade0-45a0-bbc1-014f4b1a47cf",
    "deepnote_to_be_reexecuted": false,
    "source_hash": "e53ca9aa",
    "execution_start": 1627642210272,
    "execution_millis": 11,
    "deepnote_cell_type": "code"
   },
   "source": "six_seven['SIC'] = six_seven['SIC'].str.replace(\"#\",\"\")\nsix_seven['SIC2'] = six_seven['SIC2'].str.replace(\"#\",\"\")",
   "outputs": [],
   "execution_count": null
  },
  {
   "cell_type": "markdown",
   "source": "### Investigate correlation between the missingness of SIC and SIC2\nHypothesis is that the rows with `SIC` missing have `SIC2` while the rows with `SIC2` have `SIC` missing. If this is the case, we can combine those two columns.",
   "metadata": {
    "tags": [],
    "cell_id": "00034-b7ed5aae-8d2b-483d-b5e9-3c7b30deaa21",
    "deepnote_cell_type": "markdown"
   }
  },
  {
   "cell_type": "code",
   "metadata": {
    "tags": [],
    "cell_id": "00034-8b716dd9-1a92-49ea-a011-10e73732bf3f",
    "deepnote_to_be_reexecuted": false,
    "source_hash": "cb443b0f",
    "execution_start": 1627642210330,
    "execution_millis": 0,
    "deepnote_cell_type": "code"
   },
   "source": "mask1 = (six_seven['SIC'].isna()) & (~(six_seven['SIC2'].isna())) # SIC is NaN while SIC2 is not \nmask2 = (~(six_seven['SIC'].isna())) & (six_seven['SIC2'].isna()) # SIC is not NaN while SIC 2 is\nsix_seven['m1'] = np.where(mask1, 1, 0)\nsix_seven['m2'] = np.where(mask2, 1, 0)",
   "outputs": [],
   "execution_count": null
  },
  {
   "cell_type": "code",
   "metadata": {
    "tags": [],
    "cell_id": "00035-03d2da74-4851-498b-bf29-b239ff5e14ec",
    "deepnote_to_be_reexecuted": false,
    "source_hash": "b8fc78f5",
    "execution_start": 1627642210331,
    "execution_millis": 46,
    "deepnote_cell_type": "code"
   },
   "source": "six_seven['sum'] = six_seven['m1'] + six_seven['m2'] \n# See whether there are any rows with both SIC adn SIC or both are missing\nsix_seven[(six_seven['sum'] > 1) | (six_seven['sum'] == 0)] \n# sns.scatterplot(data=six_seven, x=\"m1\", y=\"m2\")",
   "outputs": [
    {
     "output_type": "execute_result",
     "execution_count": 27,
     "data": {
      "application/vnd.deepnote.dataframe.v2+json": {
       "row_count": 0,
       "column_count": 12,
       "columns": [
        {
         "name": "CIK",
         "dtype": "int64",
         "stats": {
          "unique_count": 0,
          "nan_count": 0,
          "min": null,
          "max": null,
          "histogram": [
           {
            "bin_start": 0,
            "bin_end": 0.1,
            "count": 0
           },
           {
            "bin_start": 0.1,
            "bin_end": 0.2,
            "count": 0
           },
           {
            "bin_start": 0.2,
            "bin_end": 0.30000000000000004,
            "count": 0
           },
           {
            "bin_start": 0.30000000000000004,
            "bin_end": 0.4,
            "count": 0
           },
           {
            "bin_start": 0.4,
            "bin_end": 0.5,
            "count": 0
           },
           {
            "bin_start": 0.5,
            "bin_end": 0.6000000000000001,
            "count": 0
           },
           {
            "bin_start": 0.6000000000000001,
            "bin_end": 0.7000000000000001,
            "count": 0
           },
           {
            "bin_start": 0.7000000000000001,
            "bin_end": 0.8,
            "count": 0
           },
           {
            "bin_start": 0.8,
            "bin_end": 0.9,
            "count": 0
           },
           {
            "bin_start": 0.9,
            "bin_end": 1,
            "count": 0
           }
          ]
         }
        },
        {
         "name": "Company Name",
         "dtype": "object",
         "stats": {
          "unique_count": 0,
          "nan_count": 0,
          "categories": []
         }
        },
        {
         "name": "Form Type",
         "dtype": "object",
         "stats": {
          "unique_count": 0,
          "nan_count": 0,
          "categories": []
         }
        },
        {
         "name": "Date Filed",
         "dtype": "object",
         "stats": {
          "unique_count": 0,
          "nan_count": 0,
          "categories": []
         }
        },
        {
         "name": "Filename",
         "dtype": "object",
         "stats": {
          "unique_count": 0,
          "nan_count": 0,
          "categories": []
         }
        },
        {
         "name": "local_path",
         "dtype": "object",
         "stats": {
          "unique_count": 0,
          "nan_count": 0,
          "categories": []
         }
        },
        {
         "name": "SEC_url",
         "dtype": "object",
         "stats": {
          "unique_count": 0,
          "nan_count": 0,
          "categories": []
         }
        },
        {
         "name": "SIC",
         "dtype": "object",
         "stats": {
          "unique_count": 0,
          "nan_count": 0,
          "categories": []
         }
        },
        {
         "name": "SIC2",
         "dtype": "object",
         "stats": {
          "unique_count": 0,
          "nan_count": 0,
          "categories": []
         }
        },
        {
         "name": "m1",
         "dtype": "int64",
         "stats": {
          "unique_count": 0,
          "nan_count": 0,
          "min": null,
          "max": null,
          "histogram": [
           {
            "bin_start": 0,
            "bin_end": 0.1,
            "count": 0
           },
           {
            "bin_start": 0.1,
            "bin_end": 0.2,
            "count": 0
           },
           {
            "bin_start": 0.2,
            "bin_end": 0.30000000000000004,
            "count": 0
           },
           {
            "bin_start": 0.30000000000000004,
            "bin_end": 0.4,
            "count": 0
           },
           {
            "bin_start": 0.4,
            "bin_end": 0.5,
            "count": 0
           },
           {
            "bin_start": 0.5,
            "bin_end": 0.6000000000000001,
            "count": 0
           },
           {
            "bin_start": 0.6000000000000001,
            "bin_end": 0.7000000000000001,
            "count": 0
           },
           {
            "bin_start": 0.7000000000000001,
            "bin_end": 0.8,
            "count": 0
           },
           {
            "bin_start": 0.8,
            "bin_end": 0.9,
            "count": 0
           },
           {
            "bin_start": 0.9,
            "bin_end": 1,
            "count": 0
           }
          ]
         }
        },
        {
         "name": "m2",
         "dtype": "int64",
         "stats": {
          "unique_count": 0,
          "nan_count": 0,
          "min": null,
          "max": null,
          "histogram": [
           {
            "bin_start": 0,
            "bin_end": 0.1,
            "count": 0
           },
           {
            "bin_start": 0.1,
            "bin_end": 0.2,
            "count": 0
           },
           {
            "bin_start": 0.2,
            "bin_end": 0.30000000000000004,
            "count": 0
           },
           {
            "bin_start": 0.30000000000000004,
            "bin_end": 0.4,
            "count": 0
           },
           {
            "bin_start": 0.4,
            "bin_end": 0.5,
            "count": 0
           },
           {
            "bin_start": 0.5,
            "bin_end": 0.6000000000000001,
            "count": 0
           },
           {
            "bin_start": 0.6000000000000001,
            "bin_end": 0.7000000000000001,
            "count": 0
           },
           {
            "bin_start": 0.7000000000000001,
            "bin_end": 0.8,
            "count": 0
           },
           {
            "bin_start": 0.8,
            "bin_end": 0.9,
            "count": 0
           },
           {
            "bin_start": 0.9,
            "bin_end": 1,
            "count": 0
           }
          ]
         }
        },
        {
         "name": "sum",
         "dtype": "int64",
         "stats": {
          "unique_count": 0,
          "nan_count": 0,
          "min": null,
          "max": null,
          "histogram": [
           {
            "bin_start": 0,
            "bin_end": 0.1,
            "count": 0
           },
           {
            "bin_start": 0.1,
            "bin_end": 0.2,
            "count": 0
           },
           {
            "bin_start": 0.2,
            "bin_end": 0.30000000000000004,
            "count": 0
           },
           {
            "bin_start": 0.30000000000000004,
            "bin_end": 0.4,
            "count": 0
           },
           {
            "bin_start": 0.4,
            "bin_end": 0.5,
            "count": 0
           },
           {
            "bin_start": 0.5,
            "bin_end": 0.6000000000000001,
            "count": 0
           },
           {
            "bin_start": 0.6000000000000001,
            "bin_end": 0.7000000000000001,
            "count": 0
           },
           {
            "bin_start": 0.7000000000000001,
            "bin_end": 0.8,
            "count": 0
           },
           {
            "bin_start": 0.8,
            "bin_end": 0.9,
            "count": 0
           },
           {
            "bin_start": 0.9,
            "bin_end": 1,
            "count": 0
           }
          ]
         }
        },
        {
         "name": "_deepnote_index_column",
         "dtype": "int64"
        }
       ],
       "rows_top": [],
       "rows_bottom": null
      },
      "text/plain": "Empty DataFrame\nColumns: [CIK, Company Name, Form Type, Date Filed, Filename, local_path, SEC_url, SIC, SIC2, m1, m2, sum]\nIndex: []",
      "text/html": "<div>\n<style scoped>\n    .dataframe tbody tr th:only-of-type {\n        vertical-align: middle;\n    }\n\n    .dataframe tbody tr th {\n        vertical-align: top;\n    }\n\n    .dataframe thead th {\n        text-align: right;\n    }\n</style>\n<table border=\"1\" class=\"dataframe\">\n  <thead>\n    <tr style=\"text-align: right;\">\n      <th></th>\n      <th>CIK</th>\n      <th>Company Name</th>\n      <th>Form Type</th>\n      <th>Date Filed</th>\n      <th>Filename</th>\n      <th>local_path</th>\n      <th>SEC_url</th>\n      <th>SIC</th>\n      <th>SIC2</th>\n      <th>m1</th>\n      <th>m2</th>\n      <th>sum</th>\n    </tr>\n  </thead>\n  <tbody>\n  </tbody>\n</table>\n</div>"
     },
     "metadata": {}
    }
   ],
   "execution_count": null
  },
  {
   "cell_type": "markdown",
   "source": "Combine `SIC` and `SIC2` together as one column called `SIC`",
   "metadata": {
    "tags": [],
    "cell_id": "00037-c6e5a7d9-7000-4d73-ad7a-c446df4eda44",
    "deepnote_cell_type": "markdown"
   }
  },
  {
   "cell_type": "code",
   "metadata": {
    "tags": [],
    "cell_id": "00037-876b52af-1bd9-43f0-b95e-82b1f03910b7",
    "deepnote_to_be_reexecuted": false,
    "source_hash": "f170520a",
    "execution_start": 1627642210369,
    "execution_millis": 1,
    "deepnote_cell_type": "code"
   },
   "source": "six_seven['SIC'] = np.where(six_seven['SIC'].isna(), six_seven['SIC2'], six_seven['SIC'])\nsix_seven.drop(columns=['SIC2', 'm1', 'm2', 'sum'], inplace = True)",
   "outputs": [],
   "execution_count": null
  },
  {
   "cell_type": "markdown",
   "source": "Create a list of SIC for the traditional banks and then use this list to filter out those traditional banks",
   "metadata": {
    "tags": [],
    "cell_id": "00036-1e0c5c3f-d00e-49f7-8351-9d8b9ace2acf",
    "deepnote_cell_type": "markdown"
   }
  },
  {
   "cell_type": "code",
   "metadata": {
    "tags": [],
    "cell_id": "00034-fe7a5f65-50b1-457b-949e-1b5404926852",
    "deepnote_to_be_reexecuted": false,
    "source_hash": "956d99a1",
    "execution_start": 1627642210372,
    "execution_millis": 6,
    "deepnote_cell_type": "code"
   },
   "source": "traditional = [\"6021\", \"6022\", \"6029\", \"6099\", \"6162\"]\nfintech = six_seven[~(six_seven[\"SIC\"].isin(traditional))]\n# fintech.shape",
   "outputs": [],
   "execution_count": null
  },
  {
   "cell_type": "code",
   "metadata": {
    "tags": [],
    "cell_id": "00041-dec2d79b-dc30-4aae-9ba1-5d6343b81905",
    "deepnote_to_be_reexecuted": false,
    "source_hash": "b7adc1ef",
    "execution_start": 1627642210424,
    "execution_millis": 13,
    "deepnote_cell_type": "code"
   },
   "source": "fintech.head()",
   "outputs": [
    {
     "output_type": "execute_result",
     "execution_count": 30,
     "data": {
      "application/vnd.deepnote.dataframe.v2+json": {
       "row_count": 5,
       "column_count": 8,
       "columns": [
        {
         "name": "CIK",
         "dtype": "int64",
         "stats": {
          "unique_count": 5,
          "nan_count": 0,
          "min": "59558",
          "max": "890175",
          "histogram": [
           {
            "bin_start": 59558,
            "bin_end": 142619.7,
            "count": 1
           },
           {
            "bin_start": 142619.7,
            "bin_end": 225681.4,
            "count": 0
           },
           {
            "bin_start": 225681.4,
            "bin_end": 308743.1,
            "count": 0
           },
           {
            "bin_start": 308743.1,
            "bin_end": 391804.8,
            "count": 1
           },
           {
            "bin_start": 391804.8,
            "bin_end": 474866.5,
            "count": 0
           },
           {
            "bin_start": 474866.5,
            "bin_end": 557928.2,
            "count": 0
           },
           {
            "bin_start": 557928.2,
            "bin_end": 640989.9,
            "count": 0
           },
           {
            "bin_start": 640989.9,
            "bin_end": 724051.6,
            "count": 0
           },
           {
            "bin_start": 724051.6,
            "bin_end": 807113.2999999999,
            "count": 1
           },
           {
            "bin_start": 807113.2999999999,
            "bin_end": 890175,
            "count": 2
           }
          ]
         }
        },
        {
         "name": "Company Name",
         "dtype": "object",
         "stats": {
          "unique_count": 5,
          "nan_count": 0,
          "categories": [
           {
            "name": "SUMMIT SECURITIES INC /ID/",
            "count": 1
           },
           {
            "name": "LINCOLN NATIONAL CORP",
            "count": 1
           },
           {
            "name": "3 others",
            "count": 3
           }
          ]
         }
        },
        {
         "name": "Form Type",
         "dtype": "object",
         "stats": {
          "unique_count": 1,
          "nan_count": 0,
          "categories": [
           {
            "name": "S-1",
            "count": 5
           }
          ]
         }
        },
        {
         "name": "Date Filed",
         "dtype": "object",
         "stats": {
          "unique_count": 5,
          "nan_count": 0,
          "categories": [
           {
            "name": "1994-01-14",
            "count": 1
           },
           {
            "name": "1994-04-12",
            "count": 1
           },
           {
            "name": "3 others",
            "count": 3
           }
          ]
         }
        },
        {
         "name": "Filename",
         "dtype": "object",
         "stats": {
          "unique_count": 5,
          "nan_count": 0,
          "categories": [
           {
            "name": "868016_0000868016-94-000003.htm",
            "count": 1
           },
           {
            "name": "59558_0000059558-94-000030.htm",
            "count": 1
           },
           {
            "name": "3 others",
            "count": 3
           }
          ]
         }
        },
        {
         "name": "local_path",
         "dtype": "object",
         "stats": {
          "unique_count": 5,
          "nan_count": 0,
          "categories": [
           {
            "name": "./data/S-1/1994/QTR1/868016_0000868016-94-000003",
            "count": 1
           },
           {
            "name": "./data/S-1/1994/QTR2/59558_0000059558-94-000030",
            "count": 1
           },
           {
            "name": "3 others",
            "count": 3
           }
          ]
         }
        },
        {
         "name": "SEC_url",
         "dtype": "object",
         "stats": {
          "unique_count": 5,
          "nan_count": 0,
          "categories": [
           {
            "name": "https://www.sec.gov/Archives/edgar/data/868016/000086801694000003/0000868016-94-000003-index.htm",
            "count": 1
           },
           {
            "name": "https://www.sec.gov/Archives/edgar/data/59558/000005955894000030/0000059558-94-000030-index.htm",
            "count": 1
           },
           {
            "name": "3 others",
            "count": 3
           }
          ]
         }
        },
        {
         "name": "SIC",
         "dtype": "object",
         "stats": {
          "unique_count": 5,
          "nan_count": 0,
          "categories": [
           {
            "name": "6159",
            "count": 1
           },
           {
            "name": "6311",
            "count": 1
           },
           {
            "name": "3 others",
            "count": 3
           }
          ]
         }
        },
        {
         "name": "_deepnote_index_column",
         "dtype": "int64"
        }
       ],
       "rows_top": [
        {
         "CIK": 868016,
         "Company Name": "SUMMIT SECURITIES INC /ID/",
         "Form Type": "S-1",
         "Date Filed": "1994-01-14",
         "Filename": "868016_0000868016-94-000003.htm",
         "local_path": "./data/S-1/1994/QTR1/868016_0000868016-94-000003",
         "SEC_url": "https://www.sec.gov/Archives/edgar/data/868016/000086801694000003/0000868016-94-000003-index.htm",
         "SIC": "6159",
         "_deepnote_index_column": 8
        },
        {
         "CIK": 59558,
         "Company Name": "LINCOLN NATIONAL CORP",
         "Form Type": "S-1",
         "Date Filed": "1994-04-12",
         "Filename": "59558_0000059558-94-000030.htm",
         "local_path": "./data/S-1/1994/QTR2/59558_0000059558-94-000030",
         "SEC_url": "https://www.sec.gov/Archives/edgar/data/59558/000005955894000030/0000059558-94-000030-index.htm",
         "SIC": "6311",
         "_deepnote_index_column": 14
        },
        {
         "CIK": 806085,
         "Company Name": "LEHMAN BROTHERS HOLDINGS INC",
         "Form Type": "S-1",
         "Date Filed": "1994-04-05",
         "Filename": "806085_0000950123-94-000703.htm",
         "local_path": "./data/S-1/1994/QTR2/806085_0000950123-94-000703",
         "SEC_url": "https://www.sec.gov/Archives/edgar/data/806085/000095012394000703/0000950123-94-000703-index.htm",
         "SIC": "6211",
         "_deepnote_index_column": 18
        },
        {
         "CIK": 890175,
         "Company Name": "GREEN TREE FINANCIAL CORP",
         "Form Type": "S-1",
         "Date Filed": "1994-05-06",
         "Filename": "890175_0000950109-94-000798.htm",
         "local_path": "./data/S-1/1994/QTR2/890175_0000950109-94-000798",
         "SEC_url": "https://www.sec.gov/Archives/edgar/data/890175/000095010994000798/0000950109-94-000798-index.htm",
         "SIC": "6189",
         "_deepnote_index_column": 23
        },
        {
         "CIK": 354190,
         "Company Name": "GALLAGHER ARTHUR J & CO",
         "Form Type": "S-1",
         "Date Filed": "1995-03-15",
         "Filename": "354190_0000950131-95-000602.htm",
         "local_path": "./data/S-1/1995/QTR1/354190_0000950131-95-000602",
         "SEC_url": "https://www.sec.gov/Archives/edgar/data/354190/000095013195000602/0000950131-95-000602-index.htm",
         "SIC": "6411",
         "_deepnote_index_column": 42
        }
       ],
       "rows_bottom": null
      },
      "text/plain": "       CIK                  Company Name Form Type  Date Filed  \\\n8   868016    SUMMIT SECURITIES INC /ID/       S-1  1994-01-14   \n14   59558         LINCOLN NATIONAL CORP       S-1  1994-04-12   \n18  806085  LEHMAN BROTHERS HOLDINGS INC       S-1  1994-04-05   \n23  890175     GREEN TREE FINANCIAL CORP       S-1  1994-05-06   \n42  354190       GALLAGHER ARTHUR J & CO       S-1  1995-03-15   \n\n                           Filename  \\\n8   868016_0000868016-94-000003.htm   \n14   59558_0000059558-94-000030.htm   \n18  806085_0000950123-94-000703.htm   \n23  890175_0000950109-94-000798.htm   \n42  354190_0000950131-95-000602.htm   \n\n                                          local_path  \\\n8   ./data/S-1/1994/QTR1/868016_0000868016-94-000003   \n14   ./data/S-1/1994/QTR2/59558_0000059558-94-000030   \n18  ./data/S-1/1994/QTR2/806085_0000950123-94-000703   \n23  ./data/S-1/1994/QTR2/890175_0000950109-94-000798   \n42  ./data/S-1/1995/QTR1/354190_0000950131-95-000602   \n\n                                              SEC_url   SIC  \n8   https://www.sec.gov/Archives/edgar/data/868016...  6159  \n14  https://www.sec.gov/Archives/edgar/data/59558/...  6311  \n18  https://www.sec.gov/Archives/edgar/data/806085...  6211  \n23  https://www.sec.gov/Archives/edgar/data/890175...  6189  \n42  https://www.sec.gov/Archives/edgar/data/354190...  6411  ",
      "text/html": "<div>\n<style scoped>\n    .dataframe tbody tr th:only-of-type {\n        vertical-align: middle;\n    }\n\n    .dataframe tbody tr th {\n        vertical-align: top;\n    }\n\n    .dataframe thead th {\n        text-align: right;\n    }\n</style>\n<table border=\"1\" class=\"dataframe\">\n  <thead>\n    <tr style=\"text-align: right;\">\n      <th></th>\n      <th>CIK</th>\n      <th>Company Name</th>\n      <th>Form Type</th>\n      <th>Date Filed</th>\n      <th>Filename</th>\n      <th>local_path</th>\n      <th>SEC_url</th>\n      <th>SIC</th>\n    </tr>\n  </thead>\n  <tbody>\n    <tr>\n      <th>8</th>\n      <td>868016</td>\n      <td>SUMMIT SECURITIES INC /ID/</td>\n      <td>S-1</td>\n      <td>1994-01-14</td>\n      <td>868016_0000868016-94-000003.htm</td>\n      <td>./data/S-1/1994/QTR1/868016_0000868016-94-000003</td>\n      <td>https://www.sec.gov/Archives/edgar/data/868016...</td>\n      <td>6159</td>\n    </tr>\n    <tr>\n      <th>14</th>\n      <td>59558</td>\n      <td>LINCOLN NATIONAL CORP</td>\n      <td>S-1</td>\n      <td>1994-04-12</td>\n      <td>59558_0000059558-94-000030.htm</td>\n      <td>./data/S-1/1994/QTR2/59558_0000059558-94-000030</td>\n      <td>https://www.sec.gov/Archives/edgar/data/59558/...</td>\n      <td>6311</td>\n    </tr>\n    <tr>\n      <th>18</th>\n      <td>806085</td>\n      <td>LEHMAN BROTHERS HOLDINGS INC</td>\n      <td>S-1</td>\n      <td>1994-04-05</td>\n      <td>806085_0000950123-94-000703.htm</td>\n      <td>./data/S-1/1994/QTR2/806085_0000950123-94-000703</td>\n      <td>https://www.sec.gov/Archives/edgar/data/806085...</td>\n      <td>6211</td>\n    </tr>\n    <tr>\n      <th>23</th>\n      <td>890175</td>\n      <td>GREEN TREE FINANCIAL CORP</td>\n      <td>S-1</td>\n      <td>1994-05-06</td>\n      <td>890175_0000950109-94-000798.htm</td>\n      <td>./data/S-1/1994/QTR2/890175_0000950109-94-000798</td>\n      <td>https://www.sec.gov/Archives/edgar/data/890175...</td>\n      <td>6189</td>\n    </tr>\n    <tr>\n      <th>42</th>\n      <td>354190</td>\n      <td>GALLAGHER ARTHUR J &amp; CO</td>\n      <td>S-1</td>\n      <td>1995-03-15</td>\n      <td>354190_0000950131-95-000602.htm</td>\n      <td>./data/S-1/1995/QTR1/354190_0000950131-95-000602</td>\n      <td>https://www.sec.gov/Archives/edgar/data/354190...</td>\n      <td>6411</td>\n    </tr>\n  </tbody>\n</table>\n</div>"
     },
     "metadata": {}
    }
   ],
   "execution_count": null
  },
  {
   "cell_type": "markdown",
   "source": "#### Divide into 2 groups ",
   "metadata": {
    "tags": [],
    "cell_id": "00041-c0eb604b-f777-4b2e-9ff2-7f6c31c339ac",
    "deepnote_cell_type": "markdown"
   }
  },
  {
   "cell_type": "code",
   "metadata": {
    "tags": [],
    "cell_id": "00041-a8852ffe-383f-4892-ba26-7c0122f169e0",
    "deepnote_to_be_reexecuted": false,
    "source_hash": "189abb94",
    "execution_start": 1627642210434,
    "execution_millis": 17,
    "deepnote_cell_type": "code"
   },
   "source": "fin = fintech[fintech['SIC'].str[0] == '6']\ntech = fintech[fintech['SIC'].str[0] == '7']",
   "outputs": [],
   "execution_count": null
  },
  {
   "cell_type": "code",
   "metadata": {
    "tags": [],
    "cell_id": "00046-8d0d73e2-7314-4ad3-9f47-378a8f0f455d",
    "deepnote_to_be_reexecuted": false,
    "source_hash": "b760509a",
    "execution_start": 1627642210459,
    "execution_millis": 7,
    "deepnote_cell_type": "code"
   },
   "source": "# fin.to_csv('fin_comp.csv', index=False)\n# tech.to_csv('tech_comp.csv', index=False)",
   "outputs": [],
   "execution_count": null
  },
  {
   "cell_type": "code",
   "metadata": {
    "tags": [],
    "cell_id": "00045-95d80bc0-c54f-4b39-808b-c7a20454ff33",
    "deepnote_to_be_reexecuted": false,
    "source_hash": "57957b2b",
    "execution_start": 1627642278738,
    "execution_millis": 5,
    "deepnote_cell_type": "code"
   },
   "source": "fin.shape",
   "outputs": [
    {
     "output_type": "execute_result",
     "execution_count": 34,
     "data": {
      "text/plain": "(3727, 8)"
     },
     "metadata": {}
    }
   ],
   "execution_count": null
  },
  {
   "cell_type": "code",
   "source": "tech.shape",
   "metadata": {
    "tags": [],
    "cell_id": "00048-311bf01b-bba1-4ee4-87e4-f0db65229b6a",
    "deepnote_to_be_reexecuted": false,
    "source_hash": "5ad5f4fd",
    "execution_start": 1627642284096,
    "execution_millis": 15,
    "deepnote_cell_type": "code"
   },
   "outputs": [
    {
     "output_type": "execute_result",
     "execution_count": 36,
     "data": {
      "text/plain": "(3722, 8)"
     },
     "metadata": {}
    }
   ],
   "execution_count": null
  },
  {
   "cell_type": "code",
   "source": "",
   "metadata": {
    "tags": [],
    "cell_id": "00049-723d8d9e-052f-4c5f-b97a-481d94fdf834",
    "deepnote_cell_type": "code"
   },
   "outputs": [],
   "execution_count": null
  },
  {
   "cell_type": "markdown",
   "source": "<a style='text-decoration:none;line-height:16px;display:flex;color:#5B5B62;padding:10px;justify-content:end;' href='https://deepnote.com?utm_source=created-in-deepnote-cell&projectId=aaf19c1d-a3b1-4f9b-b674-e32609e59fe1' target=\"_blank\">\n<img alt='Created in deepnote.com' style='display:inline;max-height:16px;margin:0px;margin-right:7.5px;' src='data:image/svg+xml;base64,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' > </img>\nCreated in <span style='font-weight:600;margin-left:4px;'>Deepnote</span></a>",
   "metadata": {
    "tags": [],
    "created_in_deepnote_cell": true,
    "deepnote_cell_type": "markdown"
   }
  }
 ],
 "nbformat": 4,
 "nbformat_minor": 2,
 "metadata": {
  "orig_nbformat": 2,
  "deepnote": {
   "is_reactive": false
  },
  "deepnote_notebook_id": "d850d4c5-c61d-4dd8-a073-1220759ab39d",
  "deepnote_execution_queue": []
 }
}