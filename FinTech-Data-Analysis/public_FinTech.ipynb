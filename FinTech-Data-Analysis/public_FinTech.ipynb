{
 "cells": [
  {
   "cell_type": "code",
   "metadata": {
    "tags": [],
    "cell_id": "00000-12d70819-c668-4f90-9fe0-4a42d8381cb1",
    "deepnote_to_be_reexecuted": false,
    "source_hash": "d653e7da",
    "execution_start": 1625240787538,
    "execution_millis": 3337,
    "deepnote_cell_type": "code"
   },
   "source": "# data manipulation\nimport pandas as pd\nimport numpy as np\n\n# viaulization \nimport matplotlib.pyplot as plt\nimport seaborn as sns\nimport cufflinks as cf \nimport plotly.express as px\n\n# from ipynb.fs.full.fintech_scraping import name_convert",
   "execution_count": null,
   "outputs": []
  },
  {
   "cell_type": "markdown",
   "source": "### Load Nasdaq Fintech companies",
   "metadata": {
    "tags": [],
    "cell_id": "00001-9316f3d0-7fe2-4ad4-83e7-04132484ad67",
    "deepnote_cell_type": "markdown"
   }
  },
  {
   "cell_type": "code",
   "metadata": {
    "tags": [],
    "cell_id": "00002-382f5f1b-ea90-4c68-84f0-edbefadc6454",
    "deepnote_to_be_reexecuted": false,
    "source_hash": "34d8bcc6",
    "execution_start": 1625240790882,
    "execution_millis": 69,
    "deepnote_cell_type": "code"
   },
   "source": "nasdaq_fintech = pd.read_csv('nasdaq_fintech.csv')\nnasdaq_fintech",
   "execution_count": null,
   "outputs": [
    {
     "output_type": "execute_result",
     "execution_count": 2,
     "data": {
      "application/vnd.deepnote.dataframe.v2+json": {
       "row_count": 64,
       "column_count": 2,
       "columns": [
        {
         "name": "Fintech_Comp_Name",
         "dtype": "object",
         "stats": {
          "unique_count": 49,
          "nan_count": 0,
          "categories": [
           {
            "name": "PayPal",
            "count": 2
           },
           {
            "name": "Square",
            "count": 2
           },
           {
            "name": "47 others",
            "count": 60
           }
          ]
         }
        },
        {
         "name": "Ticker",
         "dtype": "object",
         "stats": {
          "unique_count": 49,
          "nan_count": 0,
          "categories": [
           {
            "name": "PYPL",
            "count": 2
           },
           {
            "name": "SQ",
            "count": 2
           },
           {
            "name": "47 others",
            "count": 60
           }
          ]
         }
        },
        {
         "name": "_deepnote_index_column",
         "dtype": "int64"
        }
       ],
       "rows_top": [
        {
         "Fintech_Comp_Name": "PayPal",
         "Ticker": "PYPL",
         "_deepnote_index_column": 0
        },
        {
         "Fintech_Comp_Name": "Square",
         "Ticker": "SQ",
         "_deepnote_index_column": 1
        },
        {
         "Fintech_Comp_Name": "Visa",
         "Ticker": "V",
         "_deepnote_index_column": 2
        },
        {
         "Fintech_Comp_Name": "MasterCard",
         "Ticker": "MA",
         "_deepnote_index_column": 3
        },
        {
         "Fintech_Comp_Name": "Equifax",
         "Ticker": "EFX",
         "_deepnote_index_column": 4
        },
        {
         "Fintech_Comp_Name": "Nasdaq",
         "Ticker": "%5Eixic",
         "_deepnote_index_column": 5
        },
        {
         "Fintech_Comp_Name": "Fiserv",
         "Ticker": "FISV",
         "_deepnote_index_column": 6
        },
        {
         "Fintech_Comp_Name": "Thomson Reuters",
         "Ticker": "TRI",
         "_deepnote_index_column": 7
        },
        {
         "Fintech_Comp_Name": "American Express",
         "Ticker": "AXP",
         "_deepnote_index_column": 8
        },
        {
         "Fintech_Comp_Name": "Western Union",
         "Ticker": "WU",
         "_deepnote_index_column": 9
        },
        {
         "Fintech_Comp_Name": "First Data",
         "Ticker": "FDC",
         "_deepnote_index_column": 10
        },
        {
         "Fintech_Comp_Name": "CBOE",
         "Ticker": "CBOE",
         "_deepnote_index_column": 11
        },
        {
         "Fintech_Comp_Name": "Broadridge",
         "Ticker": "BR",
         "_deepnote_index_column": 12
        },
        {
         "Fintech_Comp_Name": "ACI Worldwide",
         "Ticker": "ACIW",
         "_deepnote_index_column": 13
        },
        {
         "Fintech_Comp_Name": "FIS",
         "Ticker": "FIS",
         "_deepnote_index_column": 14
        },
        {
         "Fintech_Comp_Name": "PayPal",
         "Ticker": "PYPL",
         "_deepnote_index_column": 15
        },
        {
         "Fintech_Comp_Name": "Square",
         "Ticker": "SQ",
         "_deepnote_index_column": 16
        },
        {
         "Fintech_Comp_Name": "Visa",
         "Ticker": "V",
         "_deepnote_index_column": 17
        },
        {
         "Fintech_Comp_Name": "MasterCard",
         "Ticker": "MA",
         "_deepnote_index_column": 18
        },
        {
         "Fintech_Comp_Name": "Equifax",
         "Ticker": "EFX",
         "_deepnote_index_column": 19
        },
        {
         "Fintech_Comp_Name": "Nasdaq",
         "Ticker": "%5Eixic",
         "_deepnote_index_column": 20
        },
        {
         "Fintech_Comp_Name": "Fiserv",
         "Ticker": "FISV",
         "_deepnote_index_column": 21
        },
        {
         "Fintech_Comp_Name": "Thomson Reuters",
         "Ticker": "TRI",
         "_deepnote_index_column": 22
        },
        {
         "Fintech_Comp_Name": "American Express",
         "Ticker": "AXP",
         "_deepnote_index_column": 23
        },
        {
         "Fintech_Comp_Name": "Western Union",
         "Ticker": "WU",
         "_deepnote_index_column": 24
        },
        {
         "Fintech_Comp_Name": "CBOE",
         "Ticker": "CBOE",
         "_deepnote_index_column": 25
        },
        {
         "Fintech_Comp_Name": "First Data",
         "Ticker": "FDC",
         "_deepnote_index_column": 26
        },
        {
         "Fintech_Comp_Name": "Broadridge",
         "Ticker": "BR",
         "_deepnote_index_column": 27
        },
        {
         "Fintech_Comp_Name": "ACI Worldwide",
         "Ticker": "ACIW",
         "_deepnote_index_column": 28
        },
        {
         "Fintech_Comp_Name": "FIS",
         "Ticker": "FIS",
         "_deepnote_index_column": 29
        },
        {
         "Fintech_Comp_Name": "IHS Markit",
         "Ticker": "INFO",
         "_deepnote_index_column": 30
        },
        {
         "Fintech_Comp_Name": "Lending Club",
         "Ticker": "LC",
         "_deepnote_index_column": 31
        },
        {
         "Fintech_Comp_Name": "CME Group",
         "Ticker": "CME",
         "_deepnote_index_column": 32
        },
        {
         "Fintech_Comp_Name": "Envestnet",
         "Ticker": "ENV",
         "_deepnote_index_column": 33
        },
        {
         "Fintech_Comp_Name": "Global Payments Inc.",
         "Ticker": "GPN",
         "_deepnote_index_column": 34
        },
        {
         "Fintech_Comp_Name": "FactSet",
         "Ticker": "FDS",
         "_deepnote_index_column": 35
        },
        {
         "Fintech_Comp_Name": "MSCI",
         "Ticker": "MSCI",
         "_deepnote_index_column": 36
        },
        {
         "Fintech_Comp_Name": "TSYS",
         "Ticker": "tsys",
         "_deepnote_index_column": 37
        },
        {
         "Fintech_Comp_Name": "Intercontinental Exchange",
         "Ticker": "ICE",
         "_deepnote_index_column": 38
        },
        {
         "Fintech_Comp_Name": "Vantiv",
         "Ticker": "VNTV",
         "_deepnote_index_column": 39
        },
        {
         "Fintech_Comp_Name": "Cardtronics",
         "Ticker": "CATM",
         "_deepnote_index_column": 40
        },
        {
         "Fintech_Comp_Name": "S&P Global",
         "Ticker": "SPGI",
         "_deepnote_index_column": 41
        },
        {
         "Fintech_Comp_Name": "VeriFone",
         "Ticker": "pay",
         "_deepnote_index_column": 42
        },
        {
         "Fintech_Comp_Name": "MarketAxess",
         "Ticker": "MKTX",
         "_deepnote_index_column": 43
        },
        {
         "Fintech_Comp_Name": "WEX Inc.",
         "Ticker": "WEX",
         "_deepnote_index_column": 44
        },
        {
         "Fintech_Comp_Name": "SS&C Technologies",
         "Ticker": "SSNC",
         "_deepnote_index_column": 45
        },
        {
         "Fintech_Comp_Name": "Dun & Bradstreet",
         "Ticker": "DNB",
         "_deepnote_index_column": 46
        },
        {
         "Fintech_Comp_Name": "Green Dot",
         "Ticker": "GDOT",
         "_deepnote_index_column": 47
        },
        {
         "Fintech_Comp_Name": "Black Knight",
         "Ticker": "BKI",
         "_deepnote_index_column": 48
        },
        {
         "Fintech_Comp_Name": "Blackhawk Network",
         "Ticker": "HAWK",
         "_deepnote_index_column": 49
        },
        {
         "Fintech_Comp_Name": "Verisk Analytics",
         "Ticker": "VRSK",
         "_deepnote_index_column": 50
        },
        {
         "Fintech_Comp_Name": "Virtu Financial",
         "Ticker": "VIRT",
         "_deepnote_index_column": 51
        },
        {
         "Fintech_Comp_Name": "Euronet Worldwide",
         "Ticker": "EEFT",
         "_deepnote_index_column": 52
        },
        {
         "Fintech_Comp_Name": "Bankrate",
         "Ticker": "RATE",
         "_deepnote_index_column": 53
        },
        {
         "Fintech_Comp_Name": "CoreLogic",
         "Ticker": "CLGX",
         "_deepnote_index_column": 54
        },
        {
         "Fintech_Comp_Name": "FLEETCOR",
         "Ticker": "FLT",
         "_deepnote_index_column": 55
        },
        {
         "Fintech_Comp_Name": "Moody's Corporation",
         "Ticker": "MCO",
         "_deepnote_index_column": 56
        },
        {
         "Fintech_Comp_Name": "FICO (Fair Isaac)",
         "Ticker": "FICO",
         "_deepnote_index_column": 57
        },
        {
         "Fintech_Comp_Name": "Jack Henry & Assoc.",
         "Ticker": "JKHY",
         "_deepnote_index_column": 58
        },
        {
         "Fintech_Comp_Name": "BofI Federal Bank",
         "Ticker": "bofi",
         "_deepnote_index_column": 59
        },
        {
         "Fintech_Comp_Name": "EverBank Financial",
         "Ticker": "EVERPRA",
         "_deepnote_index_column": 60
        },
        {
         "Fintech_Comp_Name": "EVERTEC",
         "Ticker": "EVTC",
         "_deepnote_index_column": 61
        },
        {
         "Fintech_Comp_Name": "SEI Investments",
         "Ticker": "SEIC",
         "_deepnote_index_column": 62
        },
        {
         "Fintech_Comp_Name": "Comenity",
         "Ticker": "SYF",
         "_deepnote_index_column": 63
        }
       ],
       "rows_bottom": null
      },
      "text/plain": "     Fintech_Comp_Name   Ticker\n0               PayPal     PYPL\n1               Square       SQ\n2                 Visa        V\n3           MasterCard       MA\n4              Equifax      EFX\n..                 ...      ...\n59   BofI Federal Bank     bofi\n60  EverBank Financial  EVERPRA\n61             EVERTEC     EVTC\n62     SEI Investments     SEIC\n63            Comenity      SYF\n\n[64 rows x 2 columns]",
      "text/html": "<div>\n<style scoped>\n    .dataframe tbody tr th:only-of-type {\n        vertical-align: middle;\n    }\n\n    .dataframe tbody tr th {\n        vertical-align: top;\n    }\n\n    .dataframe thead th {\n        text-align: right;\n    }\n</style>\n<table border=\"1\" class=\"dataframe\">\n  <thead>\n    <tr style=\"text-align: right;\">\n      <th></th>\n      <th>Fintech_Comp_Name</th>\n      <th>Ticker</th>\n    </tr>\n  </thead>\n  <tbody>\n    <tr>\n      <th>0</th>\n      <td>PayPal</td>\n      <td>PYPL</td>\n    </tr>\n    <tr>\n      <th>1</th>\n      <td>Square</td>\n      <td>SQ</td>\n    </tr>\n    <tr>\n      <th>2</th>\n      <td>Visa</td>\n      <td>V</td>\n    </tr>\n    <tr>\n      <th>3</th>\n      <td>MasterCard</td>\n      <td>MA</td>\n    </tr>\n    <tr>\n      <th>4</th>\n      <td>Equifax</td>\n      <td>EFX</td>\n    </tr>\n    <tr>\n      <th>...</th>\n      <td>...</td>\n      <td>...</td>\n    </tr>\n    <tr>\n      <th>59</th>\n      <td>BofI Federal Bank</td>\n      <td>bofi</td>\n    </tr>\n    <tr>\n      <th>60</th>\n      <td>EverBank Financial</td>\n      <td>EVERPRA</td>\n    </tr>\n    <tr>\n      <th>61</th>\n      <td>EVERTEC</td>\n      <td>EVTC</td>\n    </tr>\n    <tr>\n      <th>62</th>\n      <td>SEI Investments</td>\n      <td>SEIC</td>\n    </tr>\n    <tr>\n      <th>63</th>\n      <td>Comenity</td>\n      <td>SYF</td>\n    </tr>\n  </tbody>\n</table>\n<p>64 rows × 2 columns</p>\n</div>"
     },
     "metadata": {}
    }
   ]
  },
  {
   "cell_type": "markdown",
   "source": "### Load companies IPO data",
   "metadata": {
    "tags": [],
    "cell_id": "00001-4de662d1-b811-4db1-aebc-e0687dc86bc4",
    "deepnote_cell_type": "markdown"
   }
  },
  {
   "cell_type": "code",
   "metadata": {
    "tags": [],
    "cell_id": "00001-4b727cfd-36b3-4067-8d26-6f9c490f6d6a",
    "deepnote_to_be_reexecuted": false,
    "source_hash": "b3eeb0a5",
    "execution_start": 1625240791006,
    "execution_millis": 7219,
    "deepnote_cell_type": "code"
   },
   "source": "IPO = pd.read_excel('IPO-age.xlsx', engine='openpyxl')\nIPO = IPO.iloc[:, :11]\nIPO.head()",
   "execution_count": null,
   "outputs": [
    {
     "output_type": "execute_result",
     "execution_count": 3,
     "data": {
      "application/vnd.deepnote.dataframe.v2+json": {
       "row_count": 5,
       "column_count": 11,
       "columns": [
        {
         "name": "CUSIP",
         "dtype": "object",
         "stats": {
          "unique_count": 5,
          "nan_count": 0,
          "categories": [
           {
            "name": "78088610",
            "count": 1
           },
           {
            "name": "92212610",
            "count": 1
           },
           {
            "name": "3 others",
            "count": 3
           }
          ]
         }
        },
        {
         "name": "offer date",
         "dtype": "int64",
         "stats": {
          "unique_count": 5,
          "nan_count": 0,
          "min": "19750130",
          "max": "19750826",
          "histogram": [
           {
            "bin_start": 19750130,
            "bin_end": 19750199.6,
            "count": 1
           },
           {
            "bin_start": 19750199.6,
            "bin_end": 19750269.2,
            "count": 0
           },
           {
            "bin_start": 19750269.2,
            "bin_end": 19750338.8,
            "count": 0
           },
           {
            "bin_start": 19750338.8,
            "bin_end": 19750408.4,
            "count": 0
           },
           {
            "bin_start": 19750408.4,
            "bin_end": 19750478,
            "count": 0
           },
           {
            "bin_start": 19750478,
            "bin_end": 19750547.6,
            "count": 0
           },
           {
            "bin_start": 19750547.6,
            "bin_end": 19750617.2,
            "count": 2
           },
           {
            "bin_start": 19750617.2,
            "bin_end": 19750686.8,
            "count": 0
           },
           {
            "bin_start": 19750686.8,
            "bin_end": 19750756.4,
            "count": 1
           },
           {
            "bin_start": 19750756.4,
            "bin_end": 19750826,
            "count": 1
           }
          ]
         }
        },
        {
         "name": "name of IPO",
         "dtype": "object",
         "stats": {
          "unique_count": 5,
          "nan_count": 0,
          "categories": [
           {
            "name": "ROYSTER",
            "count": 1
           },
           {
            "name": "VARCO",
            "count": 1
           },
           {
            "name": "3 others",
            "count": 3
           }
          ]
         }
        },
        {
         "name": "Ticker",
         "dtype": "object",
         "stats": {
          "unique_count": 2,
          "nan_count": 3,
          "categories": [
           {
            "name": "VRC",
            "count": 1
           },
           {
            "name": "TAP",
            "count": 1
           },
           {
            "name": "Missing",
            "count": 3
           }
          ]
         }
        },
        {
         "name": "VC",
         "dtype": "object",
         "stats": {
          "unique_count": 1,
          "nan_count": 0,
          "categories": [
           {
            "name": "0",
            "count": 5
           }
          ]
         }
        },
        {
         "name": "Rollup",
         "dtype": "int64",
         "stats": {
          "unique_count": 1,
          "nan_count": 0,
          "min": "0",
          "max": "0",
          "histogram": [
           {
            "bin_start": -0.5,
            "bin_end": -0.4,
            "count": 0
           },
           {
            "bin_start": -0.4,
            "bin_end": -0.3,
            "count": 0
           },
           {
            "bin_start": -0.3,
            "bin_end": -0.19999999999999996,
            "count": 0
           },
           {
            "bin_start": -0.19999999999999996,
            "bin_end": -0.09999999999999998,
            "count": 0
           },
           {
            "bin_start": -0.09999999999999998,
            "bin_end": 0,
            "count": 0
           },
           {
            "bin_start": 0,
            "bin_end": 0.10000000000000009,
            "count": 5
           },
           {
            "bin_start": 0.10000000000000009,
            "bin_end": 0.20000000000000007,
            "count": 0
           },
           {
            "bin_start": 0.20000000000000007,
            "bin_end": 0.30000000000000004,
            "count": 0
           },
           {
            "bin_start": 0.30000000000000004,
            "bin_end": 0.4,
            "count": 0
           },
           {
            "bin_start": 0.4,
            "bin_end": 0.5,
            "count": 0
           }
          ]
         }
        },
        {
         "name": "PERM",
         "dtype": "object",
         "stats": {
          "unique_count": 5,
          "nan_count": 0,
          "categories": [
           {
            "name": "67898",
            "count": 1
           },
           {
            "name": "63044",
            "count": 1
           },
           {
            "name": "3 others",
            "count": 3
           }
          ]
         }
        },
        {
         "name": "Dual",
         "dtype": "object",
         "stats": {
          "unique_count": 2,
          "nan_count": 0,
          "categories": [
           {
            "name": "0",
            "count": 4
           },
           {
            "name": "1",
            "count": 1
           }
          ]
         }
        },
        {
         "name": "Internet",
         "dtype": "object",
         "stats": {
          "unique_count": 1,
          "nan_count": 0,
          "categories": [
           {
            "name": "0",
            "count": 5
           }
          ]
         }
        },
        {
         "name": "post-issue shares",
         "dtype": "object",
         "stats": {
          "unique_count": 2,
          "nan_count": 0,
          "categories": [
           {
            "name": ".",
            "count": 4
           },
           {
            "name": "34159000",
            "count": 1
           }
          ]
         }
        },
        {
         "name": "Founding",
         "dtype": "int64",
         "stats": {
          "unique_count": 4,
          "nan_count": 0,
          "min": "1901",
          "max": "1965",
          "histogram": [
           {
            "bin_start": 1901,
            "bin_end": 1907.4,
            "count": 2
           },
           {
            "bin_start": 1907.4,
            "bin_end": 1913.8,
            "count": 2
           },
           {
            "bin_start": 1913.8,
            "bin_end": 1920.2,
            "count": 0
           },
           {
            "bin_start": 1920.2,
            "bin_end": 1926.6,
            "count": 0
           },
           {
            "bin_start": 1926.6,
            "bin_end": 1933,
            "count": 0
           },
           {
            "bin_start": 1933,
            "bin_end": 1939.4,
            "count": 0
           },
           {
            "bin_start": 1939.4,
            "bin_end": 1945.8,
            "count": 0
           },
           {
            "bin_start": 1945.8,
            "bin_end": 1952.2,
            "count": 0
           },
           {
            "bin_start": 1952.2,
            "bin_end": 1958.6,
            "count": 0
           },
           {
            "bin_start": 1958.6,
            "bin_end": 1965,
            "count": 1
           }
          ]
         }
        },
        {
         "name": "_deepnote_index_column",
         "dtype": "int64"
        }
       ],
       "rows_top": [
        {
         "CUSIP": "78088610",
         "offer date": 19750130,
         "name of IPO": "ROYSTER",
         "Ticker": "nan",
         "VC": "0",
         "Rollup": 0,
         "PERM": "67898",
         "Dual": "0",
         "Internet": "0",
         "post-issue shares": ".",
         "Founding": 1901,
         "_deepnote_index_column": 0
        },
        {
         "CUSIP": "92212610",
         "offer date": 19750609,
         "name of IPO": "VARCO",
         "Ticker": "VRC",
         "VC": "0",
         "Rollup": 0,
         "PERM": "63044",
         "Dual": "0",
         "Internet": "0",
         "post-issue shares": ".",
         "Founding": 1908,
         "_deepnote_index_column": 1
        },
        {
         "CUSIP": "21701610",
         "offer date": 19750610,
         "name of IPO": "COORS ADOLPH",
         "Ticker": "TAP",
         "VC": "0",
         "Rollup": 0,
         "PERM": "59248",
         "Dual": "1",
         "Internet": "0",
         "post-issue shares": "34159000",
         "Founding": 1901,
         "_deepnote_index_column": 2
        },
        {
         "CUSIP": "49348410",
         "offer date": 19750715,
         "name of IPO": "KEYSTONE FOODS CORP",
         "Ticker": "nan",
         "VC": "0",
         "Rollup": 0,
         "PERM": "61989",
         "Dual": "0",
         "Internet": "0",
         "post-issue shares": ".",
         "Founding": 1965,
         "_deepnote_index_column": 3
        },
        {
         "CUSIP": "10564710",
         "offer date": 19750826,
         "name of IPO": "C. F. BRAUN",
         "Ticker": "nan",
         "VC": "0",
         "Rollup": 0,
         "PERM": "58579",
         "Dual": "0",
         "Internet": "0",
         "post-issue shares": ".",
         "Founding": 1909,
         "_deepnote_index_column": 4
        }
       ],
       "rows_bottom": null
      },
      "text/plain": "      CUSIP  offer date          name of IPO Ticker VC  Rollup   PERM Dual  \\\n0  78088610    19750130              ROYSTER    NaN  0       0  67898    0   \n1  92212610    19750609                VARCO    VRC  0       0  63044    0   \n2  21701610    19750610         COORS ADOLPH    TAP  0       0  59248    1   \n3  49348410    19750715  KEYSTONE FOODS CORP    NaN  0       0  61989    0   \n4  10564710    19750826          C. F. BRAUN    NaN  0       0  58579    0   \n\n  Internet post-issue shares  Founding  \n0        0                 .      1901  \n1        0                 .      1908  \n2        0          34159000      1901  \n3        0                 .      1965  \n4        0                 .      1909  ",
      "text/html": "<div>\n<style scoped>\n    .dataframe tbody tr th:only-of-type {\n        vertical-align: middle;\n    }\n\n    .dataframe tbody tr th {\n        vertical-align: top;\n    }\n\n    .dataframe thead th {\n        text-align: right;\n    }\n</style>\n<table border=\"1\" class=\"dataframe\">\n  <thead>\n    <tr style=\"text-align: right;\">\n      <th></th>\n      <th>CUSIP</th>\n      <th>offer date</th>\n      <th>name of IPO</th>\n      <th>Ticker</th>\n      <th>VC</th>\n      <th>Rollup</th>\n      <th>PERM</th>\n      <th>Dual</th>\n      <th>Internet</th>\n      <th>post-issue shares</th>\n      <th>Founding</th>\n    </tr>\n  </thead>\n  <tbody>\n    <tr>\n      <th>0</th>\n      <td>78088610</td>\n      <td>19750130</td>\n      <td>ROYSTER</td>\n      <td>NaN</td>\n      <td>0</td>\n      <td>0</td>\n      <td>67898</td>\n      <td>0</td>\n      <td>0</td>\n      <td>.</td>\n      <td>1901</td>\n    </tr>\n    <tr>\n      <th>1</th>\n      <td>92212610</td>\n      <td>19750609</td>\n      <td>VARCO</td>\n      <td>VRC</td>\n      <td>0</td>\n      <td>0</td>\n      <td>63044</td>\n      <td>0</td>\n      <td>0</td>\n      <td>.</td>\n      <td>1908</td>\n    </tr>\n    <tr>\n      <th>2</th>\n      <td>21701610</td>\n      <td>19750610</td>\n      <td>COORS ADOLPH</td>\n      <td>TAP</td>\n      <td>0</td>\n      <td>0</td>\n      <td>59248</td>\n      <td>1</td>\n      <td>0</td>\n      <td>34159000</td>\n      <td>1901</td>\n    </tr>\n    <tr>\n      <th>3</th>\n      <td>49348410</td>\n      <td>19750715</td>\n      <td>KEYSTONE FOODS CORP</td>\n      <td>NaN</td>\n      <td>0</td>\n      <td>0</td>\n      <td>61989</td>\n      <td>0</td>\n      <td>0</td>\n      <td>.</td>\n      <td>1965</td>\n    </tr>\n    <tr>\n      <th>4</th>\n      <td>10564710</td>\n      <td>19750826</td>\n      <td>C. F. BRAUN</td>\n      <td>NaN</td>\n      <td>0</td>\n      <td>0</td>\n      <td>58579</td>\n      <td>0</td>\n      <td>0</td>\n      <td>.</td>\n      <td>1909</td>\n    </tr>\n  </tbody>\n</table>\n</div>"
     },
     "metadata": {}
    }
   ]
  },
  {
   "cell_type": "markdown",
   "source": "### Combine datasets\nInner join Nasdaq fintech companies with IPO data on `Ticker` column. Named the resulting dataframe `nasdaq_fintech_comp`",
   "metadata": {
    "tags": [],
    "cell_id": "00006-162cc791-e676-4221-a175-3d58c1c4fc74",
    "deepnote_cell_type": "markdown"
   }
  },
  {
   "cell_type": "code",
   "metadata": {
    "tags": [],
    "cell_id": "00003-d555ab65-955c-4fb4-8c0e-f5c408865dd4",
    "deepnote_to_be_reexecuted": false,
    "source_hash": "e36670c8",
    "execution_start": 1625240798222,
    "execution_millis": 118,
    "deepnote_cell_type": "code"
   },
   "source": "nasdaq_fintech_comp = pd.merge(nasdaq_fintech, IPO, how = 'inner',on=['Ticker']).drop_duplicates()\nnasdaq_fintech_comp",
   "execution_count": null,
   "outputs": [
    {
     "output_type": "execute_result",
     "execution_count": 4,
     "data": {
      "application/vnd.deepnote.dataframe.v2+json": {
       "row_count": 41,
       "column_count": 12,
       "columns": [
        {
         "name": "Fintech_Comp_Name",
         "dtype": "object",
         "stats": {
          "unique_count": 33,
          "nan_count": 0,
          "categories": [
           {
            "name": "IHS Markit",
            "count": 3
           },
           {
            "name": "First Data",
            "count": 2
           },
           {
            "name": "31 others",
            "count": 36
           }
          ]
         }
        },
        {
         "name": "Ticker",
         "dtype": "object",
         "stats": {
          "unique_count": 33,
          "nan_count": 0,
          "categories": [
           {
            "name": "INFO",
            "count": 3
           },
           {
            "name": "FDC",
            "count": 2
           },
           {
            "name": "31 others",
            "count": 36
           }
          ]
         }
        },
        {
         "name": "CUSIP",
         "dtype": "object",
         "stats": {
          "unique_count": 41,
          "nan_count": 0,
          "categories": [
           {
            "name": "70450810",
            "count": 1
           },
           {
            "name": "852234103",
            "count": 1
           },
           {
            "name": "39 others",
            "count": 39
           }
          ]
         }
        },
        {
         "name": "offer date",
         "dtype": "int64",
         "stats": {
          "unique_count": 41,
          "nan_count": 0,
          "min": "19810325",
          "max": "20200701",
          "histogram": [
           {
            "bin_start": 19810325,
            "bin_end": 19849362.6,
            "count": 3
           },
           {
            "bin_start": 19849362.6,
            "bin_end": 19888400.2,
            "count": 4
           },
           {
            "bin_start": 19888400.2,
            "bin_end": 19927437.8,
            "count": 3
           },
           {
            "bin_start": 19927437.8,
            "bin_end": 19966475.4,
            "count": 7
           },
           {
            "bin_start": 19966475.4,
            "bin_end": 20005513,
            "count": 1
           },
           {
            "bin_start": 20005513,
            "bin_end": 20044550.6,
            "count": 3
           },
           {
            "bin_start": 20044550.6,
            "bin_end": 20083588.2,
            "count": 4
           },
           {
            "bin_start": 20083588.2,
            "bin_end": 20122625.8,
            "count": 8
           },
           {
            "bin_start": 20122625.8,
            "bin_end": 20161663.4,
            "count": 7
           },
           {
            "bin_start": 20161663.4,
            "bin_end": 20200701,
            "count": 1
           }
          ]
         }
        },
        {
         "name": "name of IPO",
         "dtype": "object",
         "stats": {
          "unique_count": 41,
          "nan_count": 0,
          "categories": [
           {
            "name": "Paypal Inc",
            "count": 1
           },
           {
            "name": "Square Inc",
            "count": 1
           },
           {
            "name": "39 others",
            "count": 39
           }
          ]
         }
        },
        {
         "name": "VC",
         "dtype": "object",
         "stats": {
          "unique_count": 3,
          "nan_count": 0,
          "categories": [
           {
            "name": "0",
            "count": 26
           },
           {
            "name": "1",
            "count": 13
           },
           {
            "name": "2",
            "count": 2
           }
          ]
         }
        },
        {
         "name": "Rollup",
         "dtype": "int64",
         "stats": {
          "unique_count": 1,
          "nan_count": 0,
          "min": "0",
          "max": "0",
          "histogram": [
           {
            "bin_start": -0.5,
            "bin_end": -0.4,
            "count": 0
           },
           {
            "bin_start": -0.4,
            "bin_end": -0.3,
            "count": 0
           },
           {
            "bin_start": -0.3,
            "bin_end": -0.19999999999999996,
            "count": 0
           },
           {
            "bin_start": -0.19999999999999996,
            "bin_end": -0.09999999999999998,
            "count": 0
           },
           {
            "bin_start": -0.09999999999999998,
            "bin_end": 0,
            "count": 0
           },
           {
            "bin_start": 0,
            "bin_end": 0.10000000000000009,
            "count": 41
           },
           {
            "bin_start": 0.10000000000000009,
            "bin_end": 0.20000000000000007,
            "count": 0
           },
           {
            "bin_start": 0.20000000000000007,
            "bin_end": 0.30000000000000004,
            "count": 0
           },
           {
            "bin_start": 0.30000000000000004,
            "bin_end": 0.4,
            "count": 0
           },
           {
            "bin_start": 0.4,
            "bin_end": 0.5,
            "count": 0
           }
          ]
         }
        },
        {
         "name": "PERM",
         "dtype": "object",
         "stats": {
          "unique_count": 41,
          "nan_count": 0,
          "categories": [
           {
            "name": "89311",
            "count": 1
           },
           {
            "name": "15826",
            "count": 1
           },
           {
            "name": "39 others",
            "count": 39
           }
          ]
         }
        },
        {
         "name": "Dual",
         "dtype": "object",
         "stats": {
          "unique_count": 2,
          "nan_count": 0,
          "categories": [
           {
            "name": "0",
            "count": 30
           },
           {
            "name": "1",
            "count": 11
           }
          ]
         }
        },
        {
         "name": "Internet",
         "dtype": "object",
         "stats": {
          "unique_count": 2,
          "nan_count": 0,
          "categories": [
           {
            "name": "0",
            "count": 32
           },
           {
            "name": "1",
            "count": 9
           }
          ]
         }
        },
        {
         "name": "post-issue shares",
         "dtype": "object",
         "stats": {
          "unique_count": 12,
          "nan_count": 0,
          "categories": [
           {
            "name": ".",
            "count": 30
           },
           {
            "name": "327944711",
            "count": 1
           },
           {
            "name": "10 others",
            "count": 10
           }
          ]
         }
        },
        {
         "name": "Founding",
         "dtype": "int64",
         "stats": {
          "unique_count": 33,
          "nan_count": 0,
          "min": "1841",
          "max": "2009",
          "histogram": [
           {
            "bin_start": 1841,
            "bin_end": 1857.8,
            "count": 1
           },
           {
            "bin_start": 1857.8,
            "bin_end": 1874.6,
            "count": 0
           },
           {
            "bin_start": 1874.6,
            "bin_end": 1891.4,
            "count": 0
           },
           {
            "bin_start": 1891.4,
            "bin_end": 1908.2,
            "count": 3
           },
           {
            "bin_start": 1908.2,
            "bin_end": 1925,
            "count": 0
           },
           {
            "bin_start": 1925,
            "bin_end": 1941.8,
            "count": 1
           },
           {
            "bin_start": 1941.8,
            "bin_end": 1958.6,
            "count": 0
           },
           {
            "bin_start": 1958.6,
            "bin_end": 1975.4,
            "count": 8
           },
           {
            "bin_start": 1975.4,
            "bin_end": 1992.2,
            "count": 16
           },
           {
            "bin_start": 1992.2,
            "bin_end": 2009,
            "count": 12
           }
          ]
         }
        },
        {
         "name": "_deepnote_index_column",
         "dtype": "int64"
        }
       ],
       "rows_top": [
        {
         "Fintech_Comp_Name": "PayPal",
         "Ticker": "PYPL",
         "CUSIP": "70450810",
         "offer date": 20020214,
         "name of IPO": "Paypal Inc",
         "VC": "1",
         "Rollup": 0,
         "PERM": "89311",
         "Dual": "0",
         "Internet": "1",
         "post-issue shares": ".",
         "Founding": 1998,
         "_deepnote_index_column": 0
        },
        {
         "Fintech_Comp_Name": "Square",
         "Ticker": "SQ",
         "CUSIP": "852234103",
         "offer date": 20151119,
         "name of IPO": "Square Inc",
         "VC": "1",
         "Rollup": 0,
         "PERM": "15826",
         "Dual": "1",
         "Internet": "1",
         "post-issue shares": "327944711",
         "Founding": 2009,
         "_deepnote_index_column": 2
        },
        {
         "Fintech_Comp_Name": "Visa",
         "Ticker": "V",
         "CUSIP": "92826C839",
         "offer date": 20080319,
         "name of IPO": "Visa Inc",
         "VC": "0",
         "Rollup": 0,
         "PERM": "92611",
         "Dual": "1",
         "Internet": "0",
         "post-issue shares": "805822979",
         "Founding": 1970,
         "_deepnote_index_column": 4
        },
        {
         "Fintech_Comp_Name": "MasterCard",
         "Ticker": "MA",
         "CUSIP": "57636Q104",
         "offer date": 20060524,
         "name of IPO": "MasterCard Inc",
         "VC": "0",
         "Rollup": 0,
         "PERM": "91233",
         "Dual": "1",
         "Internet": "0",
         "post-issue shares": "139583407",
         "Founding": 1966,
         "_deepnote_index_column": 6
        },
        {
         "Fintech_Comp_Name": "Fiserv",
         "Ticker": "FISV",
         "CUSIP": "337738108",
         "offer date": 19860925,
         "name of IPO": "FIserv",
         "VC": "0",
         "Rollup": 0,
         "PERM": "10696",
         "Dual": "0",
         "Internet": "0",
         "post-issue shares": ".",
         "Founding": 1984,
         "_deepnote_index_column": 8
        },
        {
         "Fintech_Comp_Name": "First Data",
         "Ticker": "FDC",
         "CUSIP": "319963104",
         "offer date": 19920409,
         "name of IPO": "First Data",
         "VC": "1",
         "Rollup": 0,
         "PERM": "77546",
         "Dual": "0",
         "Internet": "0",
         "post-issue shares": ".",
         "Founding": 1978,
         "_deepnote_index_column": 10
        },
        {
         "Fintech_Comp_Name": "First Data",
         "Ticker": "FDC",
         "CUSIP": "32008D106",
         "offer date": 20151015,
         "name of IPO": "First Data Corp",
         "VC": "0",
         "Rollup": 0,
         "PERM": "15703",
         "Dual": "1",
         "Internet": "0",
         "post-issue shares": "879030067",
         "Founding": 1989,
         "_deepnote_index_column": 11
        },
        {
         "Fintech_Comp_Name": "CBOE",
         "Ticker": "CBOE",
         "CUSIP": "12503M10",
         "offer date": 20100614,
         "name of IPO": "CBOE Holdings Inc",
         "VC": "0",
         "Rollup": 0,
         "PERM": "93429",
         "Dual": "0",
         "Internet": "0",
         "post-issue shares": ".",
         "Founding": 1973,
         "_deepnote_index_column": 14
        },
        {
         "Fintech_Comp_Name": "Broadridge",
         "Ticker": "BR",
         "CUSIP": "122014103",
         "offer date": 19880707,
         "name of IPO": "Burlington Resources",
         "VC": "0",
         "Rollup": 0,
         "PERM": "75333",
         "Dual": "0",
         "Internet": "0",
         "post-issue shares": ".",
         "Founding": 1900,
         "_deepnote_index_column": 16
        },
        {
         "Fintech_Comp_Name": "IHS Markit",
         "Ticker": "INFO",
         "CUSIP": "45664510",
         "offer date": 19830512,
         "name of IPO": "INFO DESIGNS, INC.",
         "VC": "0",
         "Rollup": 0,
         "PERM": "44071",
         "Dual": "0",
         "Internet": "0",
         "post-issue shares": ".",
         "Founding": 1980,
         "_deepnote_index_column": 18
        },
        {
         "Fintech_Comp_Name": "IHS Markit",
         "Ticker": "INFO",
         "CUSIP": "45669M108",
         "offer date": 19911121,
         "name of IPO": "Information America",
         "VC": "1",
         "Rollup": 0,
         "PERM": "77104",
         "Dual": "0",
         "Internet": "0",
         "post-issue shares": ".",
         "Founding": 1982,
         "_deepnote_index_column": 19
        },
        {
         "Fintech_Comp_Name": "IHS Markit",
         "Ticker": "INFO",
         "CUSIP": "456662105",
         "offer date": 19960429,
         "name of IPO": "Infonautics",
         "VC": "1",
         "Rollup": 0,
         "PERM": "83382",
         "Dual": "1",
         "Internet": "1",
         "post-issue shares": "9486000",
         "Founding": 1992,
         "_deepnote_index_column": 20
        },
        {
         "Fintech_Comp_Name": "Lending Club",
         "Ticker": "LC",
         "CUSIP": "52603A109",
         "offer date": 20141211,
         "name of IPO": "LendingClub Corp",
         "VC": "1",
         "Rollup": 0,
         "PERM": "15092",
         "Dual": "0",
         "Internet": "1",
         "post-issue shares": ".",
         "Founding": 2006,
         "_deepnote_index_column": 21
        },
        {
         "Fintech_Comp_Name": "CME Group",
         "Ticker": "CME",
         "CUSIP": "16776010",
         "offer date": 20021206,
         "name of IPO": "Chicago Mercantile Exchange",
         "VC": "0",
         "Rollup": 0,
         "PERM": "89626",
         "Dual": "1",
         "Internet": "0",
         "post-issue shares": "31821000",
         "Founding": 1898,
         "_deepnote_index_column": 22
        },
        {
         "Fintech_Comp_Name": "Envestnet",
         "Ticker": "ENV",
         "CUSIP": "125180109",
         "offer date": 19950718,
         "name of IPO": "CET Environmental Services,",
         "VC": "0",
         "Rollup": 0,
         "PERM": "81769",
         "Dual": "0",
         "Internet": "0",
         "post-issue shares": ".",
         "Founding": 1988,
         "_deepnote_index_column": 23
        },
        {
         "Fintech_Comp_Name": "Envestnet",
         "Ticker": "ENV",
         "CUSIP": "29404K10",
         "offer date": 20100728,
         "name of IPO": "Envestnet Inc",
         "VC": "1",
         "Rollup": 0,
         "PERM": "11370",
         "Dual": "0",
         "Internet": "1",
         "post-issue shares": ".",
         "Founding": 1999,
         "_deepnote_index_column": 24
        },
        {
         "Fintech_Comp_Name": "FactSet",
         "Ticker": "FDS",
         "CUSIP": "303075105",
         "offer date": 19960627,
         "name of IPO": "FactSet Research Systems",
         "VC": "0",
         "Rollup": 0,
         "PERM": "83597",
         "Dual": "0",
         "Internet": "0",
         "post-issue shares": ".",
         "Founding": 1978,
         "_deepnote_index_column": 25
        },
        {
         "Fintech_Comp_Name": "MSCI",
         "Ticker": "MSCI",
         "CUSIP": "55480610",
         "offer date": 19830505,
         "name of IPO": "MACNEAL-SCHWENDLER",
         "VC": "0",
         "Rollup": 0,
         "PERM": "66253",
         "Dual": "0",
         "Internet": "0",
         "post-issue shares": ".",
         "Founding": 1963,
         "_deepnote_index_column": 26
        },
        {
         "Fintech_Comp_Name": "Intercontinental Exchange",
         "Ticker": "ICE",
         "CUSIP": "039668108",
         "offer date": 19880428,
         "name of IPO": "Arctic Alaska Fisheries",
         "VC": "0",
         "Rollup": 0,
         "PERM": "75283",
         "Dual": "0",
         "Internet": "0",
         "post-issue shares": ".",
         "Founding": 1972,
         "_deepnote_index_column": 27
        },
        {
         "Fintech_Comp_Name": "Intercontinental Exchange",
         "Ticker": "ICE",
         "CUSIP": "45865V10",
         "offer date": 20051115,
         "name of IPO": "IntercontinentalExchange",
         "VC": "1",
         "Rollup": 0,
         "PERM": "90993",
         "Dual": "0",
         "Internet": "0",
         "post-issue shares": ".",
         "Founding": 1997,
         "_deepnote_index_column": 28
        },
        {
         "Fintech_Comp_Name": "Vantiv",
         "Ticker": "VNTV",
         "CUSIP": "922091103",
         "offer date": 19950814,
         "name of IPO": "Vantive",
         "VC": "1",
         "Rollup": 0,
         "PERM": "82227",
         "Dual": "0",
         "Internet": "0",
         "post-issue shares": ".",
         "Founding": 1990,
         "_deepnote_index_column": 29
        },
        {
         "Fintech_Comp_Name": "Vantiv",
         "Ticker": "VNTV",
         "CUSIP": "92210H105",
         "offer date": 20120321,
         "name of IPO": "Vantiv Inc",
         "VC": "0",
         "Rollup": 0,
         "PERM": "13314",
         "Dual": "1",
         "Internet": "1",
         "post-issue shares": "213398000",
         "Founding": 1970,
         "_deepnote_index_column": 30
        },
        {
         "Fintech_Comp_Name": "Cardtronics",
         "Ticker": "CATM",
         "CUSIP": "14161H108",
         "offer date": 20071210,
         "name of IPO": "Cardtronics Inc",
         "VC": "0",
         "Rollup": 0,
         "PERM": "92457",
         "Dual": "0",
         "Internet": "0",
         "post-issue shares": ".",
         "Founding": 1989,
         "_deepnote_index_column": 31
        },
        {
         "Fintech_Comp_Name": "MarketAxess",
         "Ticker": "MKTX",
         "CUSIP": "57060D108",
         "offer date": 20041104,
         "name of IPO": "MarketAxess Holdings Inc",
         "VC": "1",
         "Rollup": 0,
         "PERM": "90454",
         "Dual": "0",
         "Internet": "1",
         "post-issue shares": ".",
         "Founding": 2000,
         "_deepnote_index_column": 32
        },
        {
         "Fintech_Comp_Name": "SS&C Technologies",
         "Ticker": "SSNC",
         "CUSIP": "85227Q100",
         "offer date": 19960531,
         "name of IPO": "SS&C Technologies",
         "VC": "1",
         "Rollup": 0,
         "PERM": "83559",
         "Dual": "0",
         "Internet": "0",
         "post-issue shares": ".",
         "Founding": 1986,
         "_deepnote_index_column": 33
        },
        {
         "Fintech_Comp_Name": "SS&C Technologies",
         "Ticker": "SSNC",
         "CUSIP": "78467J10",
         "offer date": 20100330,
         "name of IPO": "SS&C Technologies Hold",
         "VC": "0",
         "Rollup": 0,
         "PERM": "93312",
         "Dual": "0",
         "Internet": "0",
         "post-issue shares": ".",
         "Founding": 1986,
         "_deepnote_index_column": 34
        },
        {
         "Fintech_Comp_Name": "Dun & Bradstreet",
         "Ticker": "DNB",
         "CUSIP": "26484T106",
         "offer date": 20200701,
         "name of IPO": "Dun & Bradstreet Holding",
         "VC": "0",
         "Rollup": 0,
         "PERM": "19495",
         "Dual": "0",
         "Internet": "0",
         "post-issue shares": ".",
         "Founding": 1841,
         "_deepnote_index_column": 35
        },
        {
         "Fintech_Comp_Name": "Green Dot",
         "Ticker": "GDOT",
         "CUSIP": "39304D10",
         "offer date": 20100721,
         "name of IPO": "Green Dot Corp",
         "VC": "1",
         "Rollup": 0,
         "PERM": "11664",
         "Dual": "1",
         "Internet": "0",
         "post-issue shares": "6767000",
         "Founding": 1999,
         "_deepnote_index_column": 36
        },
        {
         "Fintech_Comp_Name": "Black Knight",
         "Ticker": "BKI",
         "CUSIP": "11815H104",
         "offer date": 19951121,
         "name of IPO": "Buckeye Cellulose Corp",
         "VC": "0",
         "Rollup": 0,
         "PERM": "82635",
         "Dual": "0",
         "Internet": "0",
         "post-issue shares": ".",
         "Founding": 1905,
         "_deepnote_index_column": 37
        },
        {
         "Fintech_Comp_Name": "Blackhawk Network",
         "Ticker": "HAWK",
         "CUSIP": "09238E104",
         "offer date": 20130418,
         "name of IPO": "Blackhawk Network Holdings Inc",
         "VC": "0",
         "Rollup": 0,
         "PERM": "13875",
         "Dual": "1",
         "Internet": "0",
         "post-issue shares": "51936135",
         "Founding": 2001,
         "_deepnote_index_column": 38
        },
        {
         "Fintech_Comp_Name": "Verisk Analytics",
         "Ticker": "VRSK",
         "CUSIP": "92345Y106",
         "offer date": 20091006,
         "name of IPO": "Verisk Analytics Inc",
         "VC": "0",
         "Rollup": 0,
         "PERM": "93089",
         "Dual": "1",
         "Internet": "0",
         "post-issue shares": "180600000",
         "Founding": 1971,
         "_deepnote_index_column": 39
        },
        {
         "Fintech_Comp_Name": "Virtu Financial",
         "Ticker": "VIRT",
         "CUSIP": "928254101",
         "offer date": 20150416,
         "name of IPO": "Virtu Financial Inc",
         "VC": "2",
         "Rollup": 0,
         "PERM": "15302",
         "Dual": "1",
         "Internet": "1",
         "post-issue shares": "37850000",
         "Founding": 2008,
         "_deepnote_index_column": 40
        },
        {
         "Fintech_Comp_Name": "Euronet Worldwide",
         "Ticker": "EEFT",
         "CUSIP": "298736109",
         "offer date": 19970306,
         "name of IPO": "Euronet Services Inc",
         "VC": "0",
         "Rollup": 0,
         "PERM": "84606",
         "Dual": "0",
         "Internet": "0",
         "post-issue shares": ".",
         "Founding": 1994,
         "_deepnote_index_column": 41
        },
        {
         "Fintech_Comp_Name": "Bankrate",
         "Ticker": "RATE",
         "CUSIP": "06646V108",
         "offer date": 20110616,
         "name of IPO": "Bankrate Inc",
         "VC": "0",
         "Rollup": 0,
         "PERM": "12835",
         "Dual": "0",
         "Internet": "1",
         "post-issue shares": ".",
         "Founding": 1976,
         "_deepnote_index_column": 42
        },
        {
         "Fintech_Comp_Name": "FLEETCOR",
         "Ticker": "FLT",
         "CUSIP": "33904110",
         "offer date": 20101214,
         "name of IPO": "FleetCor Technologies Inc",
         "VC": "2",
         "Rollup": 0,
         "PERM": "12449",
         "Dual": "0",
         "Internet": "0",
         "post-issue shares": ".",
         "Founding": 2003,
         "_deepnote_index_column": 43
        },
        {
         "Fintech_Comp_Name": "Moody's Corporation",
         "Ticker": "MCO",
         "CUSIP": "619848104",
         "offer date": 19930805,
         "name of IPO": "Motor Coach Industries Intl",
         "VC": "0",
         "Rollup": 0,
         "PERM": "79543",
         "Dual": "0",
         "Internet": "0",
         "post-issue shares": ".",
         "Founding": 1932,
         "_deepnote_index_column": 44
        },
        {
         "Fintech_Comp_Name": "Jack Henry & Assoc.",
         "Ticker": "JKHY",
         "CUSIP": "42628100",
         "offer date": 19851120,
         "name of IPO": "Jack Henry & Associates",
         "VC": "0",
         "Rollup": 0,
         "PERM": "88664",
         "Dual": "0",
         "Internet": "0",
         "post-issue shares": ".",
         "Founding": 1977,
         "_deepnote_index_column": 45
        },
        {
         "Fintech_Comp_Name": "EVERTEC",
         "Ticker": "EVTC",
         "CUSIP": "293961108",
         "offer date": 19921217,
         "name of IPO": "Environmental Technologies",
         "VC": "0",
         "Rollup": 0,
         "PERM": "78146",
         "Dual": "0",
         "Internet": "0",
         "post-issue shares": ".",
         "Founding": 1989,
         "_deepnote_index_column": 46
        },
        {
         "Fintech_Comp_Name": "EVERTEC",
         "Ticker": "EVTC",
         "CUSIP": "30040P103",
         "offer date": 20130411,
         "name of IPO": "Evertec Inc",
         "VC": "0",
         "Rollup": 0,
         "PERM": "13837",
         "Dual": "0",
         "Internet": "0",
         "post-issue shares": ".",
         "Founding": 1988,
         "_deepnote_index_column": 47
        },
        {
         "Fintech_Comp_Name": "SEI Investments",
         "Ticker": "SEIC",
         "CUSIP": "78411710",
         "offer date": 19810325,
         "name of IPO": "SEI",
         "VC": "1",
         "Rollup": 0,
         "PERM": "68196",
         "Dual": "0",
         "Internet": "0",
         "post-issue shares": ".",
         "Founding": 1968,
         "_deepnote_index_column": 48
        },
        {
         "Fintech_Comp_Name": "Comenity",
         "Ticker": "SYF",
         "CUSIP": "87165B103",
         "offer date": 20140731,
         "name of IPO": "Synchrony Financial",
         "VC": "0",
         "Rollup": 0,
         "PERM": "14776",
         "Dual": "0",
         "Internet": "0",
         "post-issue shares": ".",
         "Founding": 2003,
         "_deepnote_index_column": 49
        }
       ],
       "rows_bottom": null
      },
      "text/plain": "            Fintech_Comp_Name Ticker      CUSIP  offer date  \\\n0                      PayPal   PYPL   70450810    20020214   \n2                      Square     SQ  852234103    20151119   \n4                        Visa      V  92826C839    20080319   \n6                  MasterCard     MA  57636Q104    20060524   \n8                      Fiserv   FISV  337738108    19860925   \n10                 First Data    FDC  319963104    19920409   \n11                 First Data    FDC  32008D106    20151015   \n14                       CBOE   CBOE   12503M10    20100614   \n16                 Broadridge     BR  122014103    19880707   \n18                 IHS Markit   INFO   45664510    19830512   \n19                 IHS Markit   INFO  45669M108    19911121   \n20                 IHS Markit   INFO  456662105    19960429   \n21               Lending Club     LC  52603A109    20141211   \n22                  CME Group    CME   16776010    20021206   \n23                  Envestnet    ENV  125180109    19950718   \n24                  Envestnet    ENV   29404K10    20100728   \n25                    FactSet    FDS  303075105    19960627   \n26                       MSCI   MSCI   55480610    19830505   \n27  Intercontinental Exchange    ICE  039668108    19880428   \n28  Intercontinental Exchange    ICE   45865V10    20051115   \n29                     Vantiv   VNTV  922091103    19950814   \n30                     Vantiv   VNTV  92210H105    20120321   \n31                Cardtronics   CATM  14161H108    20071210   \n32                MarketAxess   MKTX  57060D108    20041104   \n33          SS&C Technologies   SSNC  85227Q100    19960531   \n34          SS&C Technologies   SSNC   78467J10    20100330   \n35           Dun & Bradstreet    DNB  26484T106    20200701   \n36                  Green Dot   GDOT   39304D10    20100721   \n37               Black Knight    BKI  11815H104    19951121   \n38          Blackhawk Network   HAWK  09238E104    20130418   \n39           Verisk Analytics   VRSK  92345Y106    20091006   \n40            Virtu Financial   VIRT  928254101    20150416   \n41          Euronet Worldwide   EEFT  298736109    19970306   \n42                   Bankrate   RATE  06646V108    20110616   \n43                   FLEETCOR    FLT   33904110    20101214   \n44        Moody's Corporation    MCO  619848104    19930805   \n45        Jack Henry & Assoc.   JKHY   42628100    19851120   \n46                    EVERTEC   EVTC  293961108    19921217   \n47                    EVERTEC   EVTC  30040P103    20130411   \n48            SEI Investments   SEIC   78411710    19810325   \n49                   Comenity    SYF  87165B103    20140731   \n\n                       name of IPO VC  Rollup   PERM Dual Internet  \\\n0                       Paypal Inc  1       0  89311    0        1   \n2                       Square Inc  1       0  15826    1        1   \n4                         Visa Inc  0       0  92611    1        0   \n6                   MasterCard Inc  0       0  91233    1        0   \n8                           FIserv  0       0  10696    0        0   \n10                      First Data  1       0  77546    0        0   \n11                 First Data Corp  0       0  15703    1        0   \n14               CBOE Holdings Inc  0       0  93429    0        0   \n16            Burlington Resources  0       0  75333    0        0   \n18              INFO DESIGNS, INC.  0       0  44071    0        0   \n19             Information America  1       0  77104    0        0   \n20                     Infonautics  1       0  83382    1        1   \n21                LendingClub Corp  1       0  15092    0        1   \n22     Chicago Mercantile Exchange  0       0  89626    1        0   \n23     CET Environmental Services,  0       0  81769    0        0   \n24                   Envestnet Inc  1       0  11370    0        1   \n25        FactSet Research Systems  0       0  83597    0        0   \n26              MACNEAL-SCHWENDLER  0       0  66253    0        0   \n27         Arctic Alaska Fisheries  0       0  75283    0        0   \n28        IntercontinentalExchange  1       0  90993    0        0   \n29                         Vantive  1       0  82227    0        0   \n30                      Vantiv Inc  0       0  13314    1        1   \n31                 Cardtronics Inc  0       0  92457    0        0   \n32        MarketAxess Holdings Inc  1       0  90454    0        1   \n33               SS&C Technologies  1       0  83559    0        0   \n34          SS&C Technologies Hold  0       0  93312    0        0   \n35        Dun & Bradstreet Holding  0       0  19495    0        0   \n36                  Green Dot Corp  1       0  11664    1        0   \n37          Buckeye Cellulose Corp  0       0  82635    0        0   \n38  Blackhawk Network Holdings Inc  0       0  13875    1        0   \n39            Verisk Analytics Inc  0       0  93089    1        0   \n40             Virtu Financial Inc  2       0  15302    1        1   \n41            Euronet Services Inc  0       0  84606    0        0   \n42                    Bankrate Inc  0       0  12835    0        1   \n43       FleetCor Technologies Inc  2       0  12449    0        0   \n44     Motor Coach Industries Intl  0       0  79543    0        0   \n45         Jack Henry & Associates  0       0  88664    0        0   \n46      Environmental Technologies  0       0  78146    0        0   \n47                     Evertec Inc  0       0  13837    0        0   \n48                             SEI  1       0  68196    0        0   \n49             Synchrony Financial  0       0  14776    0        0   \n\n   post-issue shares  Founding  \n0                  .      1998  \n2          327944711      2009  \n4          805822979      1970  \n6          139583407      1966  \n8                  .      1984  \n10                 .      1978  \n11         879030067      1989  \n14                 .      1973  \n16                 .      1900  \n18                 .      1980  \n19                 .      1982  \n20           9486000      1992  \n21                 .      2006  \n22          31821000      1898  \n23                 .      1988  \n24                 .      1999  \n25                 .      1978  \n26                 .      1963  \n27                 .      1972  \n28                 .      1997  \n29                 .      1990  \n30         213398000      1970  \n31                 .      1989  \n32                 .      2000  \n33                 .      1986  \n34                 .      1986  \n35                 .      1841  \n36           6767000      1999  \n37                 .      1905  \n38          51936135      2001  \n39         180600000      1971  \n40          37850000      2008  \n41                 .      1994  \n42                 .      1976  \n43                 .      2003  \n44                 .      1932  \n45                 .      1977  \n46                 .      1989  \n47                 .      1988  \n48                 .      1968  \n49                 .      2003  ",
      "text/html": "<div>\n<style scoped>\n    .dataframe tbody tr th:only-of-type {\n        vertical-align: middle;\n    }\n\n    .dataframe tbody tr th {\n        vertical-align: top;\n    }\n\n    .dataframe thead th {\n        text-align: right;\n    }\n</style>\n<table border=\"1\" class=\"dataframe\">\n  <thead>\n    <tr style=\"text-align: right;\">\n      <th></th>\n      <th>Fintech_Comp_Name</th>\n      <th>Ticker</th>\n      <th>CUSIP</th>\n      <th>offer date</th>\n      <th>name of IPO</th>\n      <th>VC</th>\n      <th>Rollup</th>\n      <th>PERM</th>\n      <th>Dual</th>\n      <th>Internet</th>\n      <th>post-issue shares</th>\n      <th>Founding</th>\n    </tr>\n  </thead>\n  <tbody>\n    <tr>\n      <th>0</th>\n      <td>PayPal</td>\n      <td>PYPL</td>\n      <td>70450810</td>\n      <td>20020214</td>\n      <td>Paypal Inc</td>\n      <td>1</td>\n      <td>0</td>\n      <td>89311</td>\n      <td>0</td>\n      <td>1</td>\n      <td>.</td>\n      <td>1998</td>\n    </tr>\n    <tr>\n      <th>2</th>\n      <td>Square</td>\n      <td>SQ</td>\n      <td>852234103</td>\n      <td>20151119</td>\n      <td>Square Inc</td>\n      <td>1</td>\n      <td>0</td>\n      <td>15826</td>\n      <td>1</td>\n      <td>1</td>\n      <td>327944711</td>\n      <td>2009</td>\n    </tr>\n    <tr>\n      <th>4</th>\n      <td>Visa</td>\n      <td>V</td>\n      <td>92826C839</td>\n      <td>20080319</td>\n      <td>Visa Inc</td>\n      <td>0</td>\n      <td>0</td>\n      <td>92611</td>\n      <td>1</td>\n      <td>0</td>\n      <td>805822979</td>\n      <td>1970</td>\n    </tr>\n    <tr>\n      <th>6</th>\n      <td>MasterCard</td>\n      <td>MA</td>\n      <td>57636Q104</td>\n      <td>20060524</td>\n      <td>MasterCard Inc</td>\n      <td>0</td>\n      <td>0</td>\n      <td>91233</td>\n      <td>1</td>\n      <td>0</td>\n      <td>139583407</td>\n      <td>1966</td>\n    </tr>\n    <tr>\n      <th>8</th>\n      <td>Fiserv</td>\n      <td>FISV</td>\n      <td>337738108</td>\n      <td>19860925</td>\n      <td>FIserv</td>\n      <td>0</td>\n      <td>0</td>\n      <td>10696</td>\n      <td>0</td>\n      <td>0</td>\n      <td>.</td>\n      <td>1984</td>\n    </tr>\n    <tr>\n      <th>10</th>\n      <td>First Data</td>\n      <td>FDC</td>\n      <td>319963104</td>\n      <td>19920409</td>\n      <td>First Data</td>\n      <td>1</td>\n      <td>0</td>\n      <td>77546</td>\n      <td>0</td>\n      <td>0</td>\n      <td>.</td>\n      <td>1978</td>\n    </tr>\n    <tr>\n      <th>11</th>\n      <td>First Data</td>\n      <td>FDC</td>\n      <td>32008D106</td>\n      <td>20151015</td>\n      <td>First Data Corp</td>\n      <td>0</td>\n      <td>0</td>\n      <td>15703</td>\n      <td>1</td>\n      <td>0</td>\n      <td>879030067</td>\n      <td>1989</td>\n    </tr>\n    <tr>\n      <th>14</th>\n      <td>CBOE</td>\n      <td>CBOE</td>\n      <td>12503M10</td>\n      <td>20100614</td>\n      <td>CBOE Holdings Inc</td>\n      <td>0</td>\n      <td>0</td>\n      <td>93429</td>\n      <td>0</td>\n      <td>0</td>\n      <td>.</td>\n      <td>1973</td>\n    </tr>\n    <tr>\n      <th>16</th>\n      <td>Broadridge</td>\n      <td>BR</td>\n      <td>122014103</td>\n      <td>19880707</td>\n      <td>Burlington Resources</td>\n      <td>0</td>\n      <td>0</td>\n      <td>75333</td>\n      <td>0</td>\n      <td>0</td>\n      <td>.</td>\n      <td>1900</td>\n    </tr>\n    <tr>\n      <th>18</th>\n      <td>IHS Markit</td>\n      <td>INFO</td>\n      <td>45664510</td>\n      <td>19830512</td>\n      <td>INFO DESIGNS, INC.</td>\n      <td>0</td>\n      <td>0</td>\n      <td>44071</td>\n      <td>0</td>\n      <td>0</td>\n      <td>.</td>\n      <td>1980</td>\n    </tr>\n    <tr>\n      <th>19</th>\n      <td>IHS Markit</td>\n      <td>INFO</td>\n      <td>45669M108</td>\n      <td>19911121</td>\n      <td>Information America</td>\n      <td>1</td>\n      <td>0</td>\n      <td>77104</td>\n      <td>0</td>\n      <td>0</td>\n      <td>.</td>\n      <td>1982</td>\n    </tr>\n    <tr>\n      <th>20</th>\n      <td>IHS Markit</td>\n      <td>INFO</td>\n      <td>456662105</td>\n      <td>19960429</td>\n      <td>Infonautics</td>\n      <td>1</td>\n      <td>0</td>\n      <td>83382</td>\n      <td>1</td>\n      <td>1</td>\n      <td>9486000</td>\n      <td>1992</td>\n    </tr>\n    <tr>\n      <th>21</th>\n      <td>Lending Club</td>\n      <td>LC</td>\n      <td>52603A109</td>\n      <td>20141211</td>\n      <td>LendingClub Corp</td>\n      <td>1</td>\n      <td>0</td>\n      <td>15092</td>\n      <td>0</td>\n      <td>1</td>\n      <td>.</td>\n      <td>2006</td>\n    </tr>\n    <tr>\n      <th>22</th>\n      <td>CME Group</td>\n      <td>CME</td>\n      <td>16776010</td>\n      <td>20021206</td>\n      <td>Chicago Mercantile Exchange</td>\n      <td>0</td>\n      <td>0</td>\n      <td>89626</td>\n      <td>1</td>\n      <td>0</td>\n      <td>31821000</td>\n      <td>1898</td>\n    </tr>\n    <tr>\n      <th>23</th>\n      <td>Envestnet</td>\n      <td>ENV</td>\n      <td>125180109</td>\n      <td>19950718</td>\n      <td>CET Environmental Services,</td>\n      <td>0</td>\n      <td>0</td>\n      <td>81769</td>\n      <td>0</td>\n      <td>0</td>\n      <td>.</td>\n      <td>1988</td>\n    </tr>\n    <tr>\n      <th>24</th>\n      <td>Envestnet</td>\n      <td>ENV</td>\n      <td>29404K10</td>\n      <td>20100728</td>\n      <td>Envestnet Inc</td>\n      <td>1</td>\n      <td>0</td>\n      <td>11370</td>\n      <td>0</td>\n      <td>1</td>\n      <td>.</td>\n      <td>1999</td>\n    </tr>\n    <tr>\n      <th>25</th>\n      <td>FactSet</td>\n      <td>FDS</td>\n      <td>303075105</td>\n      <td>19960627</td>\n      <td>FactSet Research Systems</td>\n      <td>0</td>\n      <td>0</td>\n      <td>83597</td>\n      <td>0</td>\n      <td>0</td>\n      <td>.</td>\n      <td>1978</td>\n    </tr>\n    <tr>\n      <th>26</th>\n      <td>MSCI</td>\n      <td>MSCI</td>\n      <td>55480610</td>\n      <td>19830505</td>\n      <td>MACNEAL-SCHWENDLER</td>\n      <td>0</td>\n      <td>0</td>\n      <td>66253</td>\n      <td>0</td>\n      <td>0</td>\n      <td>.</td>\n      <td>1963</td>\n    </tr>\n    <tr>\n      <th>27</th>\n      <td>Intercontinental Exchange</td>\n      <td>ICE</td>\n      <td>039668108</td>\n      <td>19880428</td>\n      <td>Arctic Alaska Fisheries</td>\n      <td>0</td>\n      <td>0</td>\n      <td>75283</td>\n      <td>0</td>\n      <td>0</td>\n      <td>.</td>\n      <td>1972</td>\n    </tr>\n    <tr>\n      <th>28</th>\n      <td>Intercontinental Exchange</td>\n      <td>ICE</td>\n      <td>45865V10</td>\n      <td>20051115</td>\n      <td>IntercontinentalExchange</td>\n      <td>1</td>\n      <td>0</td>\n      <td>90993</td>\n      <td>0</td>\n      <td>0</td>\n      <td>.</td>\n      <td>1997</td>\n    </tr>\n    <tr>\n      <th>29</th>\n      <td>Vantiv</td>\n      <td>VNTV</td>\n      <td>922091103</td>\n      <td>19950814</td>\n      <td>Vantive</td>\n      <td>1</td>\n      <td>0</td>\n      <td>82227</td>\n      <td>0</td>\n      <td>0</td>\n      <td>.</td>\n      <td>1990</td>\n    </tr>\n    <tr>\n      <th>30</th>\n      <td>Vantiv</td>\n      <td>VNTV</td>\n      <td>92210H105</td>\n      <td>20120321</td>\n      <td>Vantiv Inc</td>\n      <td>0</td>\n      <td>0</td>\n      <td>13314</td>\n      <td>1</td>\n      <td>1</td>\n      <td>213398000</td>\n      <td>1970</td>\n    </tr>\n    <tr>\n      <th>31</th>\n      <td>Cardtronics</td>\n      <td>CATM</td>\n      <td>14161H108</td>\n      <td>20071210</td>\n      <td>Cardtronics Inc</td>\n      <td>0</td>\n      <td>0</td>\n      <td>92457</td>\n      <td>0</td>\n      <td>0</td>\n      <td>.</td>\n      <td>1989</td>\n    </tr>\n    <tr>\n      <th>32</th>\n      <td>MarketAxess</td>\n      <td>MKTX</td>\n      <td>57060D108</td>\n      <td>20041104</td>\n      <td>MarketAxess Holdings Inc</td>\n      <td>1</td>\n      <td>0</td>\n      <td>90454</td>\n      <td>0</td>\n      <td>1</td>\n      <td>.</td>\n      <td>2000</td>\n    </tr>\n    <tr>\n      <th>33</th>\n      <td>SS&amp;C Technologies</td>\n      <td>SSNC</td>\n      <td>85227Q100</td>\n      <td>19960531</td>\n      <td>SS&amp;C Technologies</td>\n      <td>1</td>\n      <td>0</td>\n      <td>83559</td>\n      <td>0</td>\n      <td>0</td>\n      <td>.</td>\n      <td>1986</td>\n    </tr>\n    <tr>\n      <th>34</th>\n      <td>SS&amp;C Technologies</td>\n      <td>SSNC</td>\n      <td>78467J10</td>\n      <td>20100330</td>\n      <td>SS&amp;C Technologies Hold</td>\n      <td>0</td>\n      <td>0</td>\n      <td>93312</td>\n      <td>0</td>\n      <td>0</td>\n      <td>.</td>\n      <td>1986</td>\n    </tr>\n    <tr>\n      <th>35</th>\n      <td>Dun &amp; Bradstreet</td>\n      <td>DNB</td>\n      <td>26484T106</td>\n      <td>20200701</td>\n      <td>Dun &amp; Bradstreet Holding</td>\n      <td>0</td>\n      <td>0</td>\n      <td>19495</td>\n      <td>0</td>\n      <td>0</td>\n      <td>.</td>\n      <td>1841</td>\n    </tr>\n    <tr>\n      <th>36</th>\n      <td>Green Dot</td>\n      <td>GDOT</td>\n      <td>39304D10</td>\n      <td>20100721</td>\n      <td>Green Dot Corp</td>\n      <td>1</td>\n      <td>0</td>\n      <td>11664</td>\n      <td>1</td>\n      <td>0</td>\n      <td>6767000</td>\n      <td>1999</td>\n    </tr>\n    <tr>\n      <th>37</th>\n      <td>Black Knight</td>\n      <td>BKI</td>\n      <td>11815H104</td>\n      <td>19951121</td>\n      <td>Buckeye Cellulose Corp</td>\n      <td>0</td>\n      <td>0</td>\n      <td>82635</td>\n      <td>0</td>\n      <td>0</td>\n      <td>.</td>\n      <td>1905</td>\n    </tr>\n    <tr>\n      <th>38</th>\n      <td>Blackhawk Network</td>\n      <td>HAWK</td>\n      <td>09238E104</td>\n      <td>20130418</td>\n      <td>Blackhawk Network Holdings Inc</td>\n      <td>0</td>\n      <td>0</td>\n      <td>13875</td>\n      <td>1</td>\n      <td>0</td>\n      <td>51936135</td>\n      <td>2001</td>\n    </tr>\n    <tr>\n      <th>39</th>\n      <td>Verisk Analytics</td>\n      <td>VRSK</td>\n      <td>92345Y106</td>\n      <td>20091006</td>\n      <td>Verisk Analytics Inc</td>\n      <td>0</td>\n      <td>0</td>\n      <td>93089</td>\n      <td>1</td>\n      <td>0</td>\n      <td>180600000</td>\n      <td>1971</td>\n    </tr>\n    <tr>\n      <th>40</th>\n      <td>Virtu Financial</td>\n      <td>VIRT</td>\n      <td>928254101</td>\n      <td>20150416</td>\n      <td>Virtu Financial Inc</td>\n      <td>2</td>\n      <td>0</td>\n      <td>15302</td>\n      <td>1</td>\n      <td>1</td>\n      <td>37850000</td>\n      <td>2008</td>\n    </tr>\n    <tr>\n      <th>41</th>\n      <td>Euronet Worldwide</td>\n      <td>EEFT</td>\n      <td>298736109</td>\n      <td>19970306</td>\n      <td>Euronet Services Inc</td>\n      <td>0</td>\n      <td>0</td>\n      <td>84606</td>\n      <td>0</td>\n      <td>0</td>\n      <td>.</td>\n      <td>1994</td>\n    </tr>\n    <tr>\n      <th>42</th>\n      <td>Bankrate</td>\n      <td>RATE</td>\n      <td>06646V108</td>\n      <td>20110616</td>\n      <td>Bankrate Inc</td>\n      <td>0</td>\n      <td>0</td>\n      <td>12835</td>\n      <td>0</td>\n      <td>1</td>\n      <td>.</td>\n      <td>1976</td>\n    </tr>\n    <tr>\n      <th>43</th>\n      <td>FLEETCOR</td>\n      <td>FLT</td>\n      <td>33904110</td>\n      <td>20101214</td>\n      <td>FleetCor Technologies Inc</td>\n      <td>2</td>\n      <td>0</td>\n      <td>12449</td>\n      <td>0</td>\n      <td>0</td>\n      <td>.</td>\n      <td>2003</td>\n    </tr>\n    <tr>\n      <th>44</th>\n      <td>Moody's Corporation</td>\n      <td>MCO</td>\n      <td>619848104</td>\n      <td>19930805</td>\n      <td>Motor Coach Industries Intl</td>\n      <td>0</td>\n      <td>0</td>\n      <td>79543</td>\n      <td>0</td>\n      <td>0</td>\n      <td>.</td>\n      <td>1932</td>\n    </tr>\n    <tr>\n      <th>45</th>\n      <td>Jack Henry &amp; Assoc.</td>\n      <td>JKHY</td>\n      <td>42628100</td>\n      <td>19851120</td>\n      <td>Jack Henry &amp; Associates</td>\n      <td>0</td>\n      <td>0</td>\n      <td>88664</td>\n      <td>0</td>\n      <td>0</td>\n      <td>.</td>\n      <td>1977</td>\n    </tr>\n    <tr>\n      <th>46</th>\n      <td>EVERTEC</td>\n      <td>EVTC</td>\n      <td>293961108</td>\n      <td>19921217</td>\n      <td>Environmental Technologies</td>\n      <td>0</td>\n      <td>0</td>\n      <td>78146</td>\n      <td>0</td>\n      <td>0</td>\n      <td>.</td>\n      <td>1989</td>\n    </tr>\n    <tr>\n      <th>47</th>\n      <td>EVERTEC</td>\n      <td>EVTC</td>\n      <td>30040P103</td>\n      <td>20130411</td>\n      <td>Evertec Inc</td>\n      <td>0</td>\n      <td>0</td>\n      <td>13837</td>\n      <td>0</td>\n      <td>0</td>\n      <td>.</td>\n      <td>1988</td>\n    </tr>\n    <tr>\n      <th>48</th>\n      <td>SEI Investments</td>\n      <td>SEIC</td>\n      <td>78411710</td>\n      <td>19810325</td>\n      <td>SEI</td>\n      <td>1</td>\n      <td>0</td>\n      <td>68196</td>\n      <td>0</td>\n      <td>0</td>\n      <td>.</td>\n      <td>1968</td>\n    </tr>\n    <tr>\n      <th>49</th>\n      <td>Comenity</td>\n      <td>SYF</td>\n      <td>87165B103</td>\n      <td>20140731</td>\n      <td>Synchrony Financial</td>\n      <td>0</td>\n      <td>0</td>\n      <td>14776</td>\n      <td>0</td>\n      <td>0</td>\n      <td>.</td>\n      <td>2003</td>\n    </tr>\n  </tbody>\n</table>\n</div>"
     },
     "metadata": {}
    }
   ]
  },
  {
   "cell_type": "code",
   "metadata": {
    "tags": [],
    "cell_id": "00007-75c97a0b-2f91-4a1c-b087-217e7f0c2e80",
    "deepnote_to_be_reexecuted": false,
    "source_hash": "8b98ff78",
    "execution_start": 1625240798336,
    "execution_millis": 70,
    "deepnote_cell_type": "code"
   },
   "source": "nasdaq_fintech_comp['offer date'] = nasdaq_fintech_comp['offer date'].astype('str')\nnasdaq_fintech_comp['offer date'] = pd.to_datetime(nasdaq_fintech_comp['offer date'])\nnasdaq_fintech_comp['offer date'] = nasdaq_fintech_comp['offer date'].apply(lambda x: x.strftime('%Y-%m-%d'))\nnasdaq_fintech_comp.head()",
   "execution_count": null,
   "outputs": [
    {
     "output_type": "execute_result",
     "execution_count": 5,
     "data": {
      "application/vnd.deepnote.dataframe.v2+json": {
       "row_count": 5,
       "column_count": 12,
       "columns": [
        {
         "name": "Fintech_Comp_Name",
         "dtype": "object",
         "stats": {
          "unique_count": 5,
          "nan_count": 0,
          "categories": [
           {
            "name": "PayPal",
            "count": 1
           },
           {
            "name": "Square",
            "count": 1
           },
           {
            "name": "3 others",
            "count": 3
           }
          ]
         }
        },
        {
         "name": "Ticker",
         "dtype": "object",
         "stats": {
          "unique_count": 5,
          "nan_count": 0,
          "categories": [
           {
            "name": "PYPL",
            "count": 1
           },
           {
            "name": "SQ",
            "count": 1
           },
           {
            "name": "3 others",
            "count": 3
           }
          ]
         }
        },
        {
         "name": "CUSIP",
         "dtype": "object",
         "stats": {
          "unique_count": 5,
          "nan_count": 0,
          "categories": [
           {
            "name": "70450810",
            "count": 1
           },
           {
            "name": "852234103",
            "count": 1
           },
           {
            "name": "3 others",
            "count": 3
           }
          ]
         }
        },
        {
         "name": "offer date",
         "dtype": "object",
         "stats": {
          "unique_count": 5,
          "nan_count": 0,
          "categories": [
           {
            "name": "2002-02-14",
            "count": 1
           },
           {
            "name": "2015-11-19",
            "count": 1
           },
           {
            "name": "3 others",
            "count": 3
           }
          ]
         }
        },
        {
         "name": "name of IPO",
         "dtype": "object",
         "stats": {
          "unique_count": 5,
          "nan_count": 0,
          "categories": [
           {
            "name": "Paypal Inc",
            "count": 1
           },
           {
            "name": "Square Inc",
            "count": 1
           },
           {
            "name": "3 others",
            "count": 3
           }
          ]
         }
        },
        {
         "name": "VC",
         "dtype": "object",
         "stats": {
          "unique_count": 2,
          "nan_count": 0,
          "categories": [
           {
            "name": "0",
            "count": 3
           },
           {
            "name": "1",
            "count": 2
           }
          ]
         }
        },
        {
         "name": "Rollup",
         "dtype": "int64",
         "stats": {
          "unique_count": 1,
          "nan_count": 0,
          "min": "0",
          "max": "0",
          "histogram": [
           {
            "bin_start": -0.5,
            "bin_end": -0.4,
            "count": 0
           },
           {
            "bin_start": -0.4,
            "bin_end": -0.3,
            "count": 0
           },
           {
            "bin_start": -0.3,
            "bin_end": -0.19999999999999996,
            "count": 0
           },
           {
            "bin_start": -0.19999999999999996,
            "bin_end": -0.09999999999999998,
            "count": 0
           },
           {
            "bin_start": -0.09999999999999998,
            "bin_end": 0,
            "count": 0
           },
           {
            "bin_start": 0,
            "bin_end": 0.10000000000000009,
            "count": 5
           },
           {
            "bin_start": 0.10000000000000009,
            "bin_end": 0.20000000000000007,
            "count": 0
           },
           {
            "bin_start": 0.20000000000000007,
            "bin_end": 0.30000000000000004,
            "count": 0
           },
           {
            "bin_start": 0.30000000000000004,
            "bin_end": 0.4,
            "count": 0
           },
           {
            "bin_start": 0.4,
            "bin_end": 0.5,
            "count": 0
           }
          ]
         }
        },
        {
         "name": "PERM",
         "dtype": "object",
         "stats": {
          "unique_count": 5,
          "nan_count": 0,
          "categories": [
           {
            "name": "89311",
            "count": 1
           },
           {
            "name": "15826",
            "count": 1
           },
           {
            "name": "3 others",
            "count": 3
           }
          ]
         }
        },
        {
         "name": "Dual",
         "dtype": "object",
         "stats": {
          "unique_count": 2,
          "nan_count": 0,
          "categories": [
           {
            "name": "1",
            "count": 3
           },
           {
            "name": "0",
            "count": 2
           }
          ]
         }
        },
        {
         "name": "Internet",
         "dtype": "object",
         "stats": {
          "unique_count": 2,
          "nan_count": 0,
          "categories": [
           {
            "name": "0",
            "count": 3
           },
           {
            "name": "1",
            "count": 2
           }
          ]
         }
        },
        {
         "name": "post-issue shares",
         "dtype": "object",
         "stats": {
          "unique_count": 4,
          "nan_count": 0,
          "categories": [
           {
            "name": ".",
            "count": 2
           },
           {
            "name": "327944711",
            "count": 1
           },
           {
            "name": "2 others",
            "count": 2
           }
          ]
         }
        },
        {
         "name": "Founding",
         "dtype": "int64",
         "stats": {
          "unique_count": 5,
          "nan_count": 0,
          "min": "1966",
          "max": "2009",
          "histogram": [
           {
            "bin_start": 1966,
            "bin_end": 1970.3,
            "count": 2
           },
           {
            "bin_start": 1970.3,
            "bin_end": 1974.6,
            "count": 0
           },
           {
            "bin_start": 1974.6,
            "bin_end": 1978.9,
            "count": 0
           },
           {
            "bin_start": 1978.9,
            "bin_end": 1983.2,
            "count": 0
           },
           {
            "bin_start": 1983.2,
            "bin_end": 1987.5,
            "count": 1
           },
           {
            "bin_start": 1987.5,
            "bin_end": 1991.8,
            "count": 0
           },
           {
            "bin_start": 1991.8,
            "bin_end": 1996.1,
            "count": 0
           },
           {
            "bin_start": 1996.1,
            "bin_end": 2000.4,
            "count": 1
           },
           {
            "bin_start": 2000.4,
            "bin_end": 2004.7,
            "count": 0
           },
           {
            "bin_start": 2004.7,
            "bin_end": 2009,
            "count": 1
           }
          ]
         }
        },
        {
         "name": "_deepnote_index_column",
         "dtype": "int64"
        }
       ],
       "rows_top": [
        {
         "Fintech_Comp_Name": "PayPal",
         "Ticker": "PYPL",
         "CUSIP": "70450810",
         "offer date": "2002-02-14",
         "name of IPO": "Paypal Inc",
         "VC": "1",
         "Rollup": 0,
         "PERM": "89311",
         "Dual": "0",
         "Internet": "1",
         "post-issue shares": ".",
         "Founding": 1998,
         "_deepnote_index_column": 0
        },
        {
         "Fintech_Comp_Name": "Square",
         "Ticker": "SQ",
         "CUSIP": "852234103",
         "offer date": "2015-11-19",
         "name of IPO": "Square Inc",
         "VC": "1",
         "Rollup": 0,
         "PERM": "15826",
         "Dual": "1",
         "Internet": "1",
         "post-issue shares": "327944711",
         "Founding": 2009,
         "_deepnote_index_column": 2
        },
        {
         "Fintech_Comp_Name": "Visa",
         "Ticker": "V",
         "CUSIP": "92826C839",
         "offer date": "2008-03-19",
         "name of IPO": "Visa Inc",
         "VC": "0",
         "Rollup": 0,
         "PERM": "92611",
         "Dual": "1",
         "Internet": "0",
         "post-issue shares": "805822979",
         "Founding": 1970,
         "_deepnote_index_column": 4
        },
        {
         "Fintech_Comp_Name": "MasterCard",
         "Ticker": "MA",
         "CUSIP": "57636Q104",
         "offer date": "2006-05-24",
         "name of IPO": "MasterCard Inc",
         "VC": "0",
         "Rollup": 0,
         "PERM": "91233",
         "Dual": "1",
         "Internet": "0",
         "post-issue shares": "139583407",
         "Founding": 1966,
         "_deepnote_index_column": 6
        },
        {
         "Fintech_Comp_Name": "Fiserv",
         "Ticker": "FISV",
         "CUSIP": "337738108",
         "offer date": "1986-09-25",
         "name of IPO": "FIserv",
         "VC": "0",
         "Rollup": 0,
         "PERM": "10696",
         "Dual": "0",
         "Internet": "0",
         "post-issue shares": ".",
         "Founding": 1984,
         "_deepnote_index_column": 8
        }
       ],
       "rows_bottom": null
      },
      "text/plain": "  Fintech_Comp_Name Ticker      CUSIP  offer date     name of IPO VC  Rollup  \\\n0            PayPal   PYPL   70450810  2002-02-14      Paypal Inc  1       0   \n2            Square     SQ  852234103  2015-11-19      Square Inc  1       0   \n4              Visa      V  92826C839  2008-03-19        Visa Inc  0       0   \n6        MasterCard     MA  57636Q104  2006-05-24  MasterCard Inc  0       0   \n8            Fiserv   FISV  337738108  1986-09-25          FIserv  0       0   \n\n    PERM Dual Internet post-issue shares  Founding  \n0  89311    0        1                 .      1998  \n2  15826    1        1         327944711      2009  \n4  92611    1        0         805822979      1970  \n6  91233    1        0         139583407      1966  \n8  10696    0        0                 .      1984  ",
      "text/html": "<div>\n<style scoped>\n    .dataframe tbody tr th:only-of-type {\n        vertical-align: middle;\n    }\n\n    .dataframe tbody tr th {\n        vertical-align: top;\n    }\n\n    .dataframe thead th {\n        text-align: right;\n    }\n</style>\n<table border=\"1\" class=\"dataframe\">\n  <thead>\n    <tr style=\"text-align: right;\">\n      <th></th>\n      <th>Fintech_Comp_Name</th>\n      <th>Ticker</th>\n      <th>CUSIP</th>\n      <th>offer date</th>\n      <th>name of IPO</th>\n      <th>VC</th>\n      <th>Rollup</th>\n      <th>PERM</th>\n      <th>Dual</th>\n      <th>Internet</th>\n      <th>post-issue shares</th>\n      <th>Founding</th>\n    </tr>\n  </thead>\n  <tbody>\n    <tr>\n      <th>0</th>\n      <td>PayPal</td>\n      <td>PYPL</td>\n      <td>70450810</td>\n      <td>2002-02-14</td>\n      <td>Paypal Inc</td>\n      <td>1</td>\n      <td>0</td>\n      <td>89311</td>\n      <td>0</td>\n      <td>1</td>\n      <td>.</td>\n      <td>1998</td>\n    </tr>\n    <tr>\n      <th>2</th>\n      <td>Square</td>\n      <td>SQ</td>\n      <td>852234103</td>\n      <td>2015-11-19</td>\n      <td>Square Inc</td>\n      <td>1</td>\n      <td>0</td>\n      <td>15826</td>\n      <td>1</td>\n      <td>1</td>\n      <td>327944711</td>\n      <td>2009</td>\n    </tr>\n    <tr>\n      <th>4</th>\n      <td>Visa</td>\n      <td>V</td>\n      <td>92826C839</td>\n      <td>2008-03-19</td>\n      <td>Visa Inc</td>\n      <td>0</td>\n      <td>0</td>\n      <td>92611</td>\n      <td>1</td>\n      <td>0</td>\n      <td>805822979</td>\n      <td>1970</td>\n    </tr>\n    <tr>\n      <th>6</th>\n      <td>MasterCard</td>\n      <td>MA</td>\n      <td>57636Q104</td>\n      <td>2006-05-24</td>\n      <td>MasterCard Inc</td>\n      <td>0</td>\n      <td>0</td>\n      <td>91233</td>\n      <td>1</td>\n      <td>0</td>\n      <td>139583407</td>\n      <td>1966</td>\n    </tr>\n    <tr>\n      <th>8</th>\n      <td>Fiserv</td>\n      <td>FISV</td>\n      <td>337738108</td>\n      <td>1986-09-25</td>\n      <td>FIserv</td>\n      <td>0</td>\n      <td>0</td>\n      <td>10696</td>\n      <td>0</td>\n      <td>0</td>\n      <td>.</td>\n      <td>1984</td>\n    </tr>\n  </tbody>\n</table>\n</div>"
     },
     "metadata": {}
    }
   ]
  },
  {
   "cell_type": "markdown",
   "source": "`offer date`",
   "metadata": {
    "tags": [],
    "cell_id": "00008-c1a9dce3-1a52-4ff2-baee-1d491b8474e7",
    "deepnote_cell_type": "markdown"
   }
  },
  {
   "cell_type": "code",
   "metadata": {
    "tags": [],
    "cell_id": "00009-e3401f74-8cb4-40a0-a130-727c505e2ce0",
    "deepnote_to_be_reexecuted": false,
    "source_hash": "5428667c",
    "execution_start": 1625240798401,
    "execution_millis": 1785,
    "deepnote_cell_type": "code"
   },
   "source": "nasdaq_fintech_comp['offer date'] = pd.to_datetime(nasdaq_fintech_comp['offer date'])\nnasdaq_fintech_comp['offer year'] = nasdaq_fintech_comp['offer date'].dt.year\nfig = px.box(nasdaq_fintech_comp, x=\"offer year\", points=\"all\")\nfig.show()",
   "execution_count": null,
   "outputs": [
    {
     "data": {
      "text/html": "<html>\n<head><meta charset=\"utf-8\" /></head>\n<body>\n    <div>            <script src=\"https://cdnjs.cloudflare.com/ajax/libs/mathjax/2.7.5/MathJax.js?config=TeX-AMS-MML_SVG\"></script><script type=\"text/javascript\">if (window.MathJax) {MathJax.Hub.Config({SVG: {font: \"STIX-Web\"}});}</script>                <script type=\"text/javascript\">window.PlotlyConfig = {MathJaxConfig: 'local'};</script>\n        <script src=\"https://cdn.plot.ly/plotly-latest.min.js\"></script>                <div id=\"719e914c-25bb-4448-af26-c72f9b389147\" class=\"plotly-graph-div\" style=\"height:525px; width:100%;\"></div>            <script type=\"text/javascript\">                                    window.PLOTLYENV=window.PLOTLYENV || {};                                    if (document.getElementById(\"719e914c-25bb-4448-af26-c72f9b389147\")) {                    Plotly.newPlot(                        \"719e914c-25bb-4448-af26-c72f9b389147\",                        [{\"alignmentgroup\": \"True\", \"boxpoints\": \"all\", \"hovertemplate\": \"offer year=%{x}<extra></extra>\", \"legendgroup\": \"\", \"marker\": {\"color\": \"#636efa\"}, \"name\": \"\", \"notched\": false, \"offsetgroup\": \"\", \"orientation\": \"h\", \"showlegend\": false, \"type\": \"box\", \"x\": [2002, 2015, 2008, 2006, 1986, 1992, 2015, 2010, 1988, 1983, 1991, 1996, 2014, 2002, 1995, 2010, 1996, 1983, 1988, 2005, 1995, 2012, 2007, 2004, 1996, 2010, 2020, 2010, 1995, 2013, 2009, 2015, 1997, 2011, 2010, 1993, 1985, 1992, 2013, 1981, 2014], \"x0\": \" \", \"xaxis\": \"x\", \"y0\": \" \", \"yaxis\": \"y\"}],                        {\"boxmode\": \"group\", \"legend\": {\"tracegroupgap\": 0}, \"margin\": {\"t\": 60}, \"template\": {\"data\": {\"bar\": [{\"error_x\": {\"color\": \"#2a3f5f\"}, \"error_y\": {\"color\": \"#2a3f5f\"}, \"marker\": {\"line\": {\"color\": \"#E5ECF6\", \"width\": 0.5}}, \"type\": \"bar\"}], \"barpolar\": [{\"marker\": {\"line\": {\"color\": \"#E5ECF6\", \"width\": 0.5}}, \"type\": \"barpolar\"}], \"carpet\": [{\"aaxis\": {\"endlinecolor\": \"#2a3f5f\", \"gridcolor\": \"white\", \"linecolor\": \"white\", \"minorgridcolor\": \"white\", \"startlinecolor\": \"#2a3f5f\"}, \"baxis\": {\"endlinecolor\": \"#2a3f5f\", \"gridcolor\": \"white\", \"linecolor\": \"white\", \"minorgridcolor\": \"white\", \"startlinecolor\": \"#2a3f5f\"}, \"type\": \"carpet\"}], \"choropleth\": [{\"colorbar\": {\"outlinewidth\": 0, \"ticks\": \"\"}, \"type\": \"choropleth\"}], \"contour\": [{\"colorbar\": {\"outlinewidth\": 0, \"ticks\": \"\"}, \"colorscale\": [[0.0, \"#0d0887\"], [0.1111111111111111, \"#46039f\"], [0.2222222222222222, \"#7201a8\"], [0.3333333333333333, \"#9c179e\"], [0.4444444444444444, \"#bd3786\"], [0.5555555555555556, \"#d8576b\"], [0.6666666666666666, \"#ed7953\"], [0.7777777777777778, \"#fb9f3a\"], [0.8888888888888888, \"#fdca26\"], [1.0, \"#f0f921\"]], \"type\": \"contour\"}], \"contourcarpet\": [{\"colorbar\": {\"outlinewidth\": 0, \"ticks\": \"\"}, \"type\": \"contourcarpet\"}], \"heatmap\": [{\"colorbar\": {\"outlinewidth\": 0, \"ticks\": \"\"}, \"colorscale\": [[0.0, \"#0d0887\"], [0.1111111111111111, \"#46039f\"], [0.2222222222222222, \"#7201a8\"], [0.3333333333333333, \"#9c179e\"], [0.4444444444444444, \"#bd3786\"], [0.5555555555555556, \"#d8576b\"], [0.6666666666666666, \"#ed7953\"], [0.7777777777777778, \"#fb9f3a\"], [0.8888888888888888, \"#fdca26\"], [1.0, \"#f0f921\"]], \"type\": \"heatmap\"}], \"heatmapgl\": [{\"colorbar\": {\"outlinewidth\": 0, \"ticks\": \"\"}, \"colorscale\": [[0.0, \"#0d0887\"], [0.1111111111111111, \"#46039f\"], [0.2222222222222222, \"#7201a8\"], [0.3333333333333333, \"#9c179e\"], [0.4444444444444444, \"#bd3786\"], [0.5555555555555556, \"#d8576b\"], [0.6666666666666666, \"#ed7953\"], [0.7777777777777778, \"#fb9f3a\"], [0.8888888888888888, \"#fdca26\"], [1.0, \"#f0f921\"]], \"type\": \"heatmapgl\"}], \"histogram\": [{\"marker\": {\"colorbar\": {\"outlinewidth\": 0, \"ticks\": \"\"}}, \"type\": \"histogram\"}], \"histogram2d\": [{\"colorbar\": {\"outlinewidth\": 0, \"ticks\": \"\"}, \"colorscale\": [[0.0, \"#0d0887\"], [0.1111111111111111, \"#46039f\"], [0.2222222222222222, \"#7201a8\"], [0.3333333333333333, \"#9c179e\"], [0.4444444444444444, \"#bd3786\"], [0.5555555555555556, \"#d8576b\"], [0.6666666666666666, \"#ed7953\"], [0.7777777777777778, \"#fb9f3a\"], [0.8888888888888888, \"#fdca26\"], [1.0, \"#f0f921\"]], \"type\": \"histogram2d\"}], \"histogram2dcontour\": [{\"colorbar\": {\"outlinewidth\": 0, \"ticks\": \"\"}, \"colorscale\": [[0.0, \"#0d0887\"], [0.1111111111111111, \"#46039f\"], [0.2222222222222222, \"#7201a8\"], [0.3333333333333333, \"#9c179e\"], [0.4444444444444444, \"#bd3786\"], [0.5555555555555556, \"#d8576b\"], [0.6666666666666666, \"#ed7953\"], [0.7777777777777778, \"#fb9f3a\"], [0.8888888888888888, \"#fdca26\"], [1.0, \"#f0f921\"]], \"type\": \"histogram2dcontour\"}], \"mesh3d\": [{\"colorbar\": {\"outlinewidth\": 0, \"ticks\": \"\"}, \"type\": \"mesh3d\"}], \"parcoords\": [{\"line\": {\"colorbar\": {\"outlinewidth\": 0, \"ticks\": \"\"}}, \"type\": \"parcoords\"}], \"pie\": [{\"automargin\": true, \"type\": \"pie\"}], \"scatter\": [{\"marker\": {\"colorbar\": {\"outlinewidth\": 0, \"ticks\": \"\"}}, \"type\": \"scatter\"}], \"scatter3d\": [{\"line\": {\"colorbar\": {\"outlinewidth\": 0, \"ticks\": \"\"}}, \"marker\": {\"colorbar\": {\"outlinewidth\": 0, \"ticks\": \"\"}}, \"type\": \"scatter3d\"}], \"scattercarpet\": [{\"marker\": {\"colorbar\": {\"outlinewidth\": 0, \"ticks\": \"\"}}, \"type\": \"scattercarpet\"}], \"scattergeo\": [{\"marker\": {\"colorbar\": {\"outlinewidth\": 0, \"ticks\": \"\"}}, \"type\": \"scattergeo\"}], \"scattergl\": [{\"marker\": {\"colorbar\": {\"outlinewidth\": 0, \"ticks\": \"\"}}, \"type\": \"scattergl\"}], \"scattermapbox\": [{\"marker\": {\"colorbar\": {\"outlinewidth\": 0, \"ticks\": \"\"}}, \"type\": \"scattermapbox\"}], \"scatterpolar\": [{\"marker\": {\"colorbar\": {\"outlinewidth\": 0, \"ticks\": \"\"}}, \"type\": \"scatterpolar\"}], \"scatterpolargl\": [{\"marker\": {\"colorbar\": {\"outlinewidth\": 0, \"ticks\": \"\"}}, \"type\": \"scatterpolargl\"}], \"scatterternary\": [{\"marker\": {\"colorbar\": {\"outlinewidth\": 0, \"ticks\": \"\"}}, \"type\": \"scatterternary\"}], \"surface\": [{\"colorbar\": {\"outlinewidth\": 0, \"ticks\": \"\"}, \"colorscale\": [[0.0, \"#0d0887\"], [0.1111111111111111, \"#46039f\"], [0.2222222222222222, \"#7201a8\"], [0.3333333333333333, \"#9c179e\"], [0.4444444444444444, \"#bd3786\"], [0.5555555555555556, \"#d8576b\"], [0.6666666666666666, \"#ed7953\"], [0.7777777777777778, \"#fb9f3a\"], [0.8888888888888888, \"#fdca26\"], [1.0, \"#f0f921\"]], \"type\": \"surface\"}], \"table\": [{\"cells\": {\"fill\": {\"color\": \"#EBF0F8\"}, \"line\": {\"color\": \"white\"}}, \"header\": {\"fill\": {\"color\": \"#C8D4E3\"}, \"line\": {\"color\": \"white\"}}, \"type\": \"table\"}]}, \"layout\": {\"annotationdefaults\": {\"arrowcolor\": \"#2a3f5f\", \"arrowhead\": 0, \"arrowwidth\": 1}, \"autotypenumbers\": \"strict\", \"coloraxis\": {\"colorbar\": {\"outlinewidth\": 0, \"ticks\": \"\"}}, \"colorscale\": {\"diverging\": [[0, \"#8e0152\"], [0.1, \"#c51b7d\"], [0.2, \"#de77ae\"], [0.3, \"#f1b6da\"], [0.4, \"#fde0ef\"], [0.5, \"#f7f7f7\"], [0.6, \"#e6f5d0\"], [0.7, \"#b8e186\"], [0.8, \"#7fbc41\"], [0.9, \"#4d9221\"], [1, \"#276419\"]], \"sequential\": [[0.0, \"#0d0887\"], [0.1111111111111111, \"#46039f\"], [0.2222222222222222, \"#7201a8\"], [0.3333333333333333, \"#9c179e\"], [0.4444444444444444, \"#bd3786\"], [0.5555555555555556, \"#d8576b\"], [0.6666666666666666, \"#ed7953\"], [0.7777777777777778, \"#fb9f3a\"], [0.8888888888888888, \"#fdca26\"], [1.0, \"#f0f921\"]], \"sequentialminus\": [[0.0, \"#0d0887\"], [0.1111111111111111, \"#46039f\"], [0.2222222222222222, \"#7201a8\"], [0.3333333333333333, \"#9c179e\"], [0.4444444444444444, \"#bd3786\"], [0.5555555555555556, \"#d8576b\"], [0.6666666666666666, \"#ed7953\"], [0.7777777777777778, \"#fb9f3a\"], [0.8888888888888888, \"#fdca26\"], [1.0, \"#f0f921\"]]}, \"colorway\": [\"#636efa\", \"#EF553B\", \"#00cc96\", \"#ab63fa\", \"#FFA15A\", \"#19d3f3\", \"#FF6692\", \"#B6E880\", \"#FF97FF\", \"#FECB52\"], \"font\": {\"color\": \"#2a3f5f\"}, \"geo\": {\"bgcolor\": \"white\", \"lakecolor\": \"white\", \"landcolor\": \"#E5ECF6\", \"showlakes\": true, \"showland\": true, \"subunitcolor\": \"white\"}, \"hoverlabel\": {\"align\": \"left\"}, \"hovermode\": \"closest\", \"mapbox\": {\"style\": \"light\"}, \"paper_bgcolor\": \"white\", \"plot_bgcolor\": \"#E5ECF6\", \"polar\": {\"angularaxis\": {\"gridcolor\": \"white\", \"linecolor\": \"white\", \"ticks\": \"\"}, \"bgcolor\": \"#E5ECF6\", \"radialaxis\": {\"gridcolor\": \"white\", \"linecolor\": \"white\", \"ticks\": \"\"}}, \"scene\": {\"xaxis\": {\"backgroundcolor\": \"#E5ECF6\", \"gridcolor\": \"white\", \"gridwidth\": 2, \"linecolor\": \"white\", \"showbackground\": true, \"ticks\": \"\", \"zerolinecolor\": \"white\"}, \"yaxis\": {\"backgroundcolor\": \"#E5ECF6\", \"gridcolor\": \"white\", \"gridwidth\": 2, \"linecolor\": \"white\", \"showbackground\": true, \"ticks\": \"\", \"zerolinecolor\": \"white\"}, \"zaxis\": {\"backgroundcolor\": \"#E5ECF6\", \"gridcolor\": \"white\", \"gridwidth\": 2, \"linecolor\": \"white\", \"showbackground\": true, \"ticks\": \"\", \"zerolinecolor\": \"white\"}}, \"shapedefaults\": {\"line\": {\"color\": \"#2a3f5f\"}}, \"ternary\": {\"aaxis\": {\"gridcolor\": \"white\", \"linecolor\": \"white\", \"ticks\": \"\"}, \"baxis\": {\"gridcolor\": \"white\", \"linecolor\": \"white\", \"ticks\": \"\"}, \"bgcolor\": \"#E5ECF6\", \"caxis\": {\"gridcolor\": \"white\", \"linecolor\": \"white\", \"ticks\": \"\"}}, \"title\": {\"x\": 0.05}, \"xaxis\": {\"automargin\": true, \"gridcolor\": \"white\", \"linecolor\": \"white\", \"ticks\": \"\", \"title\": {\"standoff\": 15}, \"zerolinecolor\": \"white\", \"zerolinewidth\": 2}, \"yaxis\": {\"automargin\": true, \"gridcolor\": \"white\", \"linecolor\": \"white\", \"ticks\": \"\", \"title\": {\"standoff\": 15}, \"zerolinecolor\": \"white\", \"zerolinewidth\": 2}}}, \"xaxis\": {\"anchor\": \"y\", \"domain\": [0.0, 1.0], \"title\": {\"text\": \"offer year\"}}, \"yaxis\": {\"anchor\": \"x\", \"domain\": [0.0, 1.0]}},                        {\"responsive\": true}                    ).then(function(){\n                            \nvar gd = document.getElementById('719e914c-25bb-4448-af26-c72f9b389147');\nvar x = new MutationObserver(function (mutations, observer) {{\n        var display = window.getComputedStyle(gd).display;\n        if (!display || display === 'none') {{\n            console.log([gd, 'removed!']);\n            Plotly.purge(gd);\n            observer.disconnect();\n        }}\n}});\n\n// Listen for the removal of the full notebook cells\nvar notebookContainer = gd.closest('#notebook-container');\nif (notebookContainer) {{\n    x.observe(notebookContainer, {childList: true});\n}}\n\n// Listen for the clearing of the current output cell\nvar outputEl = gd.closest('.output');\nif (outputEl) {{\n    x.observe(outputEl, {childList: true});\n}}\n\n                        })                };                            </script>        </div>\n</body>\n</html>"
     },
     "metadata": {},
     "output_type": "display_data"
    }
   ]
  },
  {
   "cell_type": "code",
   "metadata": {
    "tags": [],
    "cell_id": "00010-f51a8337-456d-478e-8010-f712d4f514a3",
    "deepnote_to_be_reexecuted": false,
    "source_hash": "d1f0a50d",
    "execution_start": 1625240841269,
    "execution_millis": 6,
    "deepnote_cell_type": "code"
   },
   "source": "nasdaq_fintech_comp[nasdaq_fintech_comp['offer year'] == 2020]",
   "execution_count": null,
   "outputs": [
    {
     "output_type": "execute_result",
     "execution_count": 34,
     "data": {
      "application/vnd.deepnote.dataframe.v2+json": {
       "row_count": 1,
       "column_count": 14,
       "columns": [
        {
         "name": "Fintech_Comp_Name",
         "dtype": "object",
         "stats": {
          "unique_count": 1,
          "nan_count": 0,
          "categories": [
           {
            "name": "Dun & Bradstreet",
            "count": 1
           }
          ]
         }
        },
        {
         "name": "Ticker",
         "dtype": "object",
         "stats": {
          "unique_count": 1,
          "nan_count": 0,
          "categories": [
           {
            "name": "DNB",
            "count": 1
           }
          ]
         }
        },
        {
         "name": "CUSIP",
         "dtype": "object",
         "stats": {
          "unique_count": 1,
          "nan_count": 0,
          "categories": [
           {
            "name": "26484T106",
            "count": 1
           }
          ]
         }
        },
        {
         "name": "offer date",
         "dtype": "datetime64[ns]",
         "stats": {
          "unique_count": 1,
          "nan_count": 0,
          "min": "2020-07-01 00:00:00",
          "max": "2020-07-01 00:00:00",
          "histogram": null
         }
        },
        {
         "name": "name of IPO",
         "dtype": "object",
         "stats": {
          "unique_count": 1,
          "nan_count": 0,
          "categories": [
           {
            "name": "Dun & Bradstreet Holding",
            "count": 1
           }
          ]
         }
        },
        {
         "name": "VC",
         "dtype": "object",
         "stats": {
          "unique_count": 1,
          "nan_count": 0,
          "categories": [
           {
            "name": "0",
            "count": 1
           }
          ]
         }
        },
        {
         "name": "Rollup",
         "dtype": "int64",
         "stats": {
          "unique_count": 1,
          "nan_count": 0,
          "min": "0",
          "max": "0",
          "histogram": [
           {
            "bin_start": -0.5,
            "bin_end": -0.4,
            "count": 0
           },
           {
            "bin_start": -0.4,
            "bin_end": -0.3,
            "count": 0
           },
           {
            "bin_start": -0.3,
            "bin_end": -0.19999999999999996,
            "count": 0
           },
           {
            "bin_start": -0.19999999999999996,
            "bin_end": -0.09999999999999998,
            "count": 0
           },
           {
            "bin_start": -0.09999999999999998,
            "bin_end": 0,
            "count": 0
           },
           {
            "bin_start": 0,
            "bin_end": 0.10000000000000009,
            "count": 1
           },
           {
            "bin_start": 0.10000000000000009,
            "bin_end": 0.20000000000000007,
            "count": 0
           },
           {
            "bin_start": 0.20000000000000007,
            "bin_end": 0.30000000000000004,
            "count": 0
           },
           {
            "bin_start": 0.30000000000000004,
            "bin_end": 0.4,
            "count": 0
           },
           {
            "bin_start": 0.4,
            "bin_end": 0.5,
            "count": 0
           }
          ]
         }
        },
        {
         "name": "PERM",
         "dtype": "object",
         "stats": {
          "unique_count": 1,
          "nan_count": 0,
          "categories": [
           {
            "name": "19495",
            "count": 1
           }
          ]
         }
        },
        {
         "name": "Dual",
         "dtype": "object",
         "stats": {
          "unique_count": 1,
          "nan_count": 0,
          "categories": [
           {
            "name": "0",
            "count": 1
           }
          ]
         }
        },
        {
         "name": "Internet",
         "dtype": "object",
         "stats": {
          "unique_count": 1,
          "nan_count": 0,
          "categories": [
           {
            "name": "0",
            "count": 1
           }
          ]
         }
        },
        {
         "name": "post-issue shares",
         "dtype": "object",
         "stats": {
          "unique_count": 1,
          "nan_count": 0,
          "categories": [
           {
            "name": ".",
            "count": 1
           }
          ]
         }
        },
        {
         "name": "Founding",
         "dtype": "int64",
         "stats": {
          "unique_count": 1,
          "nan_count": 0,
          "min": "1841",
          "max": "1841",
          "histogram": [
           {
            "bin_start": 1840.5,
            "bin_end": 1840.6,
            "count": 0
           },
           {
            "bin_start": 1840.6,
            "bin_end": 1840.7,
            "count": 0
           },
           {
            "bin_start": 1840.7,
            "bin_end": 1840.8,
            "count": 0
           },
           {
            "bin_start": 1840.8,
            "bin_end": 1840.9,
            "count": 0
           },
           {
            "bin_start": 1840.9,
            "bin_end": 1841,
            "count": 0
           },
           {
            "bin_start": 1841,
            "bin_end": 1841.1,
            "count": 1
           },
           {
            "bin_start": 1841.1,
            "bin_end": 1841.2,
            "count": 0
           },
           {
            "bin_start": 1841.2,
            "bin_end": 1841.3,
            "count": 0
           },
           {
            "bin_start": 1841.3,
            "bin_end": 1841.4,
            "count": 0
           },
           {
            "bin_start": 1841.4,
            "bin_end": 1841.5,
            "count": 0
           }
          ]
         }
        },
        {
         "name": "offer year",
         "dtype": "int64",
         "stats": {
          "unique_count": 1,
          "nan_count": 0,
          "min": "2020",
          "max": "2020",
          "histogram": [
           {
            "bin_start": 2019.5,
            "bin_end": 2019.6,
            "count": 0
           },
           {
            "bin_start": 2019.6,
            "bin_end": 2019.7,
            "count": 0
           },
           {
            "bin_start": 2019.7,
            "bin_end": 2019.8,
            "count": 0
           },
           {
            "bin_start": 2019.8,
            "bin_end": 2019.9,
            "count": 0
           },
           {
            "bin_start": 2019.9,
            "bin_end": 2020,
            "count": 0
           },
           {
            "bin_start": 2020,
            "bin_end": 2020.1,
            "count": 1
           },
           {
            "bin_start": 2020.1,
            "bin_end": 2020.2,
            "count": 0
           },
           {
            "bin_start": 2020.2,
            "bin_end": 2020.3,
            "count": 0
           },
           {
            "bin_start": 2020.3,
            "bin_end": 2020.4,
            "count": 0
           },
           {
            "bin_start": 2020.4,
            "bin_end": 2020.5,
            "count": 0
           }
          ]
         }
        },
        {
         "name": "founded_to_IPO",
         "dtype": "int64",
         "stats": {
          "unique_count": 1,
          "nan_count": 0,
          "min": "179",
          "max": "179",
          "histogram": [
           {
            "bin_start": 178.5,
            "bin_end": 178.6,
            "count": 0
           },
           {
            "bin_start": 178.6,
            "bin_end": 178.7,
            "count": 0
           },
           {
            "bin_start": 178.7,
            "bin_end": 178.8,
            "count": 0
           },
           {
            "bin_start": 178.8,
            "bin_end": 178.9,
            "count": 0
           },
           {
            "bin_start": 178.9,
            "bin_end": 179,
            "count": 0
           },
           {
            "bin_start": 179,
            "bin_end": 179.1,
            "count": 1
           },
           {
            "bin_start": 179.1,
            "bin_end": 179.2,
            "count": 0
           },
           {
            "bin_start": 179.2,
            "bin_end": 179.3,
            "count": 0
           },
           {
            "bin_start": 179.3,
            "bin_end": 179.4,
            "count": 0
           },
           {
            "bin_start": 179.4,
            "bin_end": 179.5,
            "count": 0
           }
          ]
         }
        },
        {
         "name": "_deepnote_index_column",
         "dtype": "int64"
        }
       ],
       "rows_top": [
        {
         "Fintech_Comp_Name": "Dun & Bradstreet",
         "Ticker": "DNB",
         "CUSIP": "26484T106",
         "offer date": "2020-07-01T00:00:00.000000",
         "name of IPO": "Dun & Bradstreet Holding",
         "VC": "0",
         "Rollup": 0,
         "PERM": "19495",
         "Dual": "0",
         "Internet": "0",
         "post-issue shares": ".",
         "Founding": 1841,
         "offer year": 2020,
         "founded_to_IPO": 179,
         "_deepnote_index_column": 35
        }
       ],
       "rows_bottom": null
      },
      "text/plain": "   Fintech_Comp_Name Ticker      CUSIP offer date               name of IPO  \\\n35  Dun & Bradstreet    DNB  26484T106 2020-07-01  Dun & Bradstreet Holding   \n\n   VC  Rollup   PERM Dual Internet post-issue shares  Founding  offer year  \\\n35  0       0  19495    0        0                 .      1841        2020   \n\n    founded_to_IPO  \n35             179  ",
      "text/html": "<div>\n<style scoped>\n    .dataframe tbody tr th:only-of-type {\n        vertical-align: middle;\n    }\n\n    .dataframe tbody tr th {\n        vertical-align: top;\n    }\n\n    .dataframe thead th {\n        text-align: right;\n    }\n</style>\n<table border=\"1\" class=\"dataframe\">\n  <thead>\n    <tr style=\"text-align: right;\">\n      <th></th>\n      <th>Fintech_Comp_Name</th>\n      <th>Ticker</th>\n      <th>CUSIP</th>\n      <th>offer date</th>\n      <th>name of IPO</th>\n      <th>VC</th>\n      <th>Rollup</th>\n      <th>PERM</th>\n      <th>Dual</th>\n      <th>Internet</th>\n      <th>post-issue shares</th>\n      <th>Founding</th>\n      <th>offer year</th>\n      <th>founded_to_IPO</th>\n    </tr>\n  </thead>\n  <tbody>\n    <tr>\n      <th>35</th>\n      <td>Dun &amp; Bradstreet</td>\n      <td>DNB</td>\n      <td>26484T106</td>\n      <td>2020-07-01</td>\n      <td>Dun &amp; Bradstreet Holding</td>\n      <td>0</td>\n      <td>0</td>\n      <td>19495</td>\n      <td>0</td>\n      <td>0</td>\n      <td>.</td>\n      <td>1841</td>\n      <td>2020</td>\n      <td>179</td>\n    </tr>\n  </tbody>\n</table>\n</div>"
     },
     "metadata": {}
    }
   ]
  },
  {
   "cell_type": "markdown",
   "source": "`Founding`: founding year",
   "metadata": {
    "tags": [],
    "cell_id": "00009-f4a24d10-d893-46b4-8857-350ad82c79f6",
    "deepnote_cell_type": "markdown"
   }
  },
  {
   "cell_type": "code",
   "metadata": {
    "tags": [],
    "cell_id": "00008-45509359-c4ff-4272-bda3-381d1b3b81d3",
    "deepnote_to_be_reexecuted": false,
    "source_hash": "eeed5ce6",
    "execution_start": 1625240800182,
    "execution_millis": 94,
    "deepnote_cell_type": "code"
   },
   "source": "fig = px.box(nasdaq_fintech_comp, x=\"Founding\", points=\"all\")\nfig.show()",
   "execution_count": null,
   "outputs": [
    {
     "data": {
      "text/html": "<html>\n<head><meta charset=\"utf-8\" /></head>\n<body>\n    <div>            <script src=\"https://cdnjs.cloudflare.com/ajax/libs/mathjax/2.7.5/MathJax.js?config=TeX-AMS-MML_SVG\"></script><script type=\"text/javascript\">if (window.MathJax) {MathJax.Hub.Config({SVG: {font: \"STIX-Web\"}});}</script>                <script type=\"text/javascript\">window.PlotlyConfig = {MathJaxConfig: 'local'};</script>\n        <script src=\"https://cdn.plot.ly/plotly-latest.min.js\"></script>                <div id=\"c554188d-b130-4ce9-9a86-71b7836f25a6\" class=\"plotly-graph-div\" style=\"height:525px; width:100%;\"></div>            <script type=\"text/javascript\">                                    window.PLOTLYENV=window.PLOTLYENV || {};                                    if (document.getElementById(\"c554188d-b130-4ce9-9a86-71b7836f25a6\")) {                    Plotly.newPlot(                        \"c554188d-b130-4ce9-9a86-71b7836f25a6\",                        [{\"alignmentgroup\": \"True\", \"boxpoints\": \"all\", \"hovertemplate\": \"Founding=%{x}<extra></extra>\", \"legendgroup\": \"\", \"marker\": {\"color\": \"#636efa\"}, \"name\": \"\", \"notched\": false, \"offsetgroup\": \"\", \"orientation\": \"h\", \"showlegend\": false, \"type\": \"box\", \"x\": [1998, 2009, 1970, 1966, 1984, 1978, 1989, 1973, 1900, 1980, 1982, 1992, 2006, 1898, 1988, 1999, 1978, 1963, 1972, 1997, 1990, 1970, 1989, 2000, 1986, 1986, 1841, 1999, 1905, 2001, 1971, 2008, 1994, 1976, 2003, 1932, 1977, 1989, 1988, 1968, 2003], \"x0\": \" \", \"xaxis\": \"x\", \"y0\": \" \", \"yaxis\": \"y\"}],                        {\"boxmode\": \"group\", \"legend\": {\"tracegroupgap\": 0}, \"margin\": {\"t\": 60}, \"template\": {\"data\": {\"bar\": [{\"error_x\": {\"color\": \"#2a3f5f\"}, \"error_y\": {\"color\": \"#2a3f5f\"}, \"marker\": {\"line\": {\"color\": \"#E5ECF6\", \"width\": 0.5}}, \"type\": \"bar\"}], \"barpolar\": [{\"marker\": {\"line\": {\"color\": \"#E5ECF6\", \"width\": 0.5}}, \"type\": \"barpolar\"}], \"carpet\": [{\"aaxis\": {\"endlinecolor\": \"#2a3f5f\", \"gridcolor\": \"white\", \"linecolor\": \"white\", \"minorgridcolor\": \"white\", \"startlinecolor\": \"#2a3f5f\"}, \"baxis\": {\"endlinecolor\": \"#2a3f5f\", \"gridcolor\": \"white\", \"linecolor\": \"white\", \"minorgridcolor\": \"white\", \"startlinecolor\": \"#2a3f5f\"}, \"type\": \"carpet\"}], \"choropleth\": [{\"colorbar\": {\"outlinewidth\": 0, \"ticks\": \"\"}, \"type\": \"choropleth\"}], \"contour\": [{\"colorbar\": {\"outlinewidth\": 0, \"ticks\": \"\"}, \"colorscale\": [[0.0, \"#0d0887\"], [0.1111111111111111, \"#46039f\"], [0.2222222222222222, \"#7201a8\"], [0.3333333333333333, \"#9c179e\"], [0.4444444444444444, \"#bd3786\"], [0.5555555555555556, \"#d8576b\"], [0.6666666666666666, \"#ed7953\"], [0.7777777777777778, \"#fb9f3a\"], [0.8888888888888888, \"#fdca26\"], [1.0, \"#f0f921\"]], \"type\": \"contour\"}], \"contourcarpet\": [{\"colorbar\": {\"outlinewidth\": 0, \"ticks\": \"\"}, \"type\": \"contourcarpet\"}], \"heatmap\": [{\"colorbar\": {\"outlinewidth\": 0, \"ticks\": \"\"}, \"colorscale\": [[0.0, \"#0d0887\"], [0.1111111111111111, \"#46039f\"], [0.2222222222222222, \"#7201a8\"], [0.3333333333333333, \"#9c179e\"], [0.4444444444444444, \"#bd3786\"], [0.5555555555555556, \"#d8576b\"], [0.6666666666666666, \"#ed7953\"], [0.7777777777777778, \"#fb9f3a\"], [0.8888888888888888, \"#fdca26\"], [1.0, \"#f0f921\"]], \"type\": \"heatmap\"}], \"heatmapgl\": [{\"colorbar\": {\"outlinewidth\": 0, \"ticks\": \"\"}, \"colorscale\": [[0.0, \"#0d0887\"], [0.1111111111111111, \"#46039f\"], [0.2222222222222222, \"#7201a8\"], [0.3333333333333333, \"#9c179e\"], [0.4444444444444444, \"#bd3786\"], [0.5555555555555556, \"#d8576b\"], [0.6666666666666666, \"#ed7953\"], [0.7777777777777778, \"#fb9f3a\"], [0.8888888888888888, \"#fdca26\"], [1.0, \"#f0f921\"]], \"type\": \"heatmapgl\"}], \"histogram\": [{\"marker\": {\"colorbar\": {\"outlinewidth\": 0, \"ticks\": \"\"}}, \"type\": \"histogram\"}], \"histogram2d\": [{\"colorbar\": {\"outlinewidth\": 0, \"ticks\": \"\"}, \"colorscale\": [[0.0, \"#0d0887\"], [0.1111111111111111, \"#46039f\"], [0.2222222222222222, \"#7201a8\"], [0.3333333333333333, \"#9c179e\"], [0.4444444444444444, \"#bd3786\"], [0.5555555555555556, \"#d8576b\"], [0.6666666666666666, \"#ed7953\"], [0.7777777777777778, \"#fb9f3a\"], [0.8888888888888888, \"#fdca26\"], [1.0, \"#f0f921\"]], \"type\": \"histogram2d\"}], \"histogram2dcontour\": [{\"colorbar\": {\"outlinewidth\": 0, \"ticks\": \"\"}, \"colorscale\": [[0.0, \"#0d0887\"], [0.1111111111111111, \"#46039f\"], [0.2222222222222222, \"#7201a8\"], [0.3333333333333333, \"#9c179e\"], [0.4444444444444444, \"#bd3786\"], [0.5555555555555556, \"#d8576b\"], [0.6666666666666666, \"#ed7953\"], [0.7777777777777778, \"#fb9f3a\"], [0.8888888888888888, \"#fdca26\"], [1.0, \"#f0f921\"]], \"type\": \"histogram2dcontour\"}], \"mesh3d\": [{\"colorbar\": {\"outlinewidth\": 0, \"ticks\": \"\"}, \"type\": \"mesh3d\"}], \"parcoords\": [{\"line\": {\"colorbar\": {\"outlinewidth\": 0, \"ticks\": \"\"}}, \"type\": \"parcoords\"}], \"pie\": [{\"automargin\": true, \"type\": \"pie\"}], \"scatter\": [{\"marker\": {\"colorbar\": {\"outlinewidth\": 0, \"ticks\": \"\"}}, \"type\": \"scatter\"}], \"scatter3d\": [{\"line\": {\"colorbar\": {\"outlinewidth\": 0, \"ticks\": \"\"}}, \"marker\": {\"colorbar\": {\"outlinewidth\": 0, \"ticks\": \"\"}}, \"type\": \"scatter3d\"}], \"scattercarpet\": [{\"marker\": {\"colorbar\": {\"outlinewidth\": 0, \"ticks\": \"\"}}, \"type\": \"scattercarpet\"}], \"scattergeo\": [{\"marker\": {\"colorbar\": {\"outlinewidth\": 0, \"ticks\": \"\"}}, \"type\": \"scattergeo\"}], \"scattergl\": [{\"marker\": {\"colorbar\": {\"outlinewidth\": 0, \"ticks\": \"\"}}, \"type\": \"scattergl\"}], \"scattermapbox\": [{\"marker\": {\"colorbar\": {\"outlinewidth\": 0, \"ticks\": \"\"}}, \"type\": \"scattermapbox\"}], \"scatterpolar\": [{\"marker\": {\"colorbar\": {\"outlinewidth\": 0, \"ticks\": \"\"}}, \"type\": \"scatterpolar\"}], \"scatterpolargl\": [{\"marker\": {\"colorbar\": {\"outlinewidth\": 0, \"ticks\": \"\"}}, \"type\": \"scatterpolargl\"}], \"scatterternary\": [{\"marker\": {\"colorbar\": {\"outlinewidth\": 0, \"ticks\": \"\"}}, \"type\": \"scatterternary\"}], \"surface\": [{\"colorbar\": {\"outlinewidth\": 0, \"ticks\": \"\"}, \"colorscale\": [[0.0, \"#0d0887\"], [0.1111111111111111, \"#46039f\"], [0.2222222222222222, \"#7201a8\"], [0.3333333333333333, \"#9c179e\"], [0.4444444444444444, \"#bd3786\"], [0.5555555555555556, \"#d8576b\"], [0.6666666666666666, \"#ed7953\"], [0.7777777777777778, \"#fb9f3a\"], [0.8888888888888888, \"#fdca26\"], [1.0, \"#f0f921\"]], \"type\": \"surface\"}], \"table\": [{\"cells\": {\"fill\": {\"color\": \"#EBF0F8\"}, \"line\": {\"color\": \"white\"}}, \"header\": {\"fill\": {\"color\": \"#C8D4E3\"}, \"line\": {\"color\": \"white\"}}, \"type\": \"table\"}]}, \"layout\": {\"annotationdefaults\": {\"arrowcolor\": \"#2a3f5f\", \"arrowhead\": 0, \"arrowwidth\": 1}, \"autotypenumbers\": \"strict\", \"coloraxis\": {\"colorbar\": {\"outlinewidth\": 0, \"ticks\": \"\"}}, \"colorscale\": {\"diverging\": [[0, \"#8e0152\"], [0.1, \"#c51b7d\"], [0.2, \"#de77ae\"], [0.3, \"#f1b6da\"], [0.4, \"#fde0ef\"], [0.5, \"#f7f7f7\"], [0.6, \"#e6f5d0\"], [0.7, \"#b8e186\"], [0.8, \"#7fbc41\"], [0.9, \"#4d9221\"], [1, \"#276419\"]], \"sequential\": [[0.0, \"#0d0887\"], [0.1111111111111111, \"#46039f\"], [0.2222222222222222, \"#7201a8\"], [0.3333333333333333, \"#9c179e\"], [0.4444444444444444, \"#bd3786\"], [0.5555555555555556, \"#d8576b\"], [0.6666666666666666, \"#ed7953\"], [0.7777777777777778, \"#fb9f3a\"], [0.8888888888888888, \"#fdca26\"], [1.0, \"#f0f921\"]], \"sequentialminus\": [[0.0, \"#0d0887\"], [0.1111111111111111, \"#46039f\"], [0.2222222222222222, \"#7201a8\"], [0.3333333333333333, \"#9c179e\"], [0.4444444444444444, \"#bd3786\"], [0.5555555555555556, \"#d8576b\"], [0.6666666666666666, \"#ed7953\"], [0.7777777777777778, \"#fb9f3a\"], [0.8888888888888888, \"#fdca26\"], [1.0, \"#f0f921\"]]}, \"colorway\": [\"#636efa\", \"#EF553B\", \"#00cc96\", \"#ab63fa\", \"#FFA15A\", \"#19d3f3\", \"#FF6692\", \"#B6E880\", \"#FF97FF\", \"#FECB52\"], \"font\": {\"color\": \"#2a3f5f\"}, \"geo\": {\"bgcolor\": \"white\", \"lakecolor\": \"white\", \"landcolor\": \"#E5ECF6\", \"showlakes\": true, \"showland\": true, \"subunitcolor\": \"white\"}, \"hoverlabel\": {\"align\": \"left\"}, \"hovermode\": \"closest\", \"mapbox\": {\"style\": \"light\"}, \"paper_bgcolor\": \"white\", \"plot_bgcolor\": \"#E5ECF6\", \"polar\": {\"angularaxis\": {\"gridcolor\": \"white\", \"linecolor\": \"white\", \"ticks\": \"\"}, \"bgcolor\": \"#E5ECF6\", \"radialaxis\": {\"gridcolor\": \"white\", \"linecolor\": \"white\", \"ticks\": \"\"}}, \"scene\": {\"xaxis\": {\"backgroundcolor\": \"#E5ECF6\", \"gridcolor\": \"white\", \"gridwidth\": 2, \"linecolor\": \"white\", \"showbackground\": true, \"ticks\": \"\", \"zerolinecolor\": \"white\"}, \"yaxis\": {\"backgroundcolor\": \"#E5ECF6\", \"gridcolor\": \"white\", \"gridwidth\": 2, \"linecolor\": \"white\", \"showbackground\": true, \"ticks\": \"\", \"zerolinecolor\": \"white\"}, \"zaxis\": {\"backgroundcolor\": \"#E5ECF6\", \"gridcolor\": \"white\", \"gridwidth\": 2, \"linecolor\": \"white\", \"showbackground\": true, \"ticks\": \"\", \"zerolinecolor\": \"white\"}}, \"shapedefaults\": {\"line\": {\"color\": \"#2a3f5f\"}}, \"ternary\": {\"aaxis\": {\"gridcolor\": \"white\", \"linecolor\": \"white\", \"ticks\": \"\"}, \"baxis\": {\"gridcolor\": \"white\", \"linecolor\": \"white\", \"ticks\": \"\"}, \"bgcolor\": \"#E5ECF6\", \"caxis\": {\"gridcolor\": \"white\", \"linecolor\": \"white\", \"ticks\": \"\"}}, \"title\": {\"x\": 0.05}, \"xaxis\": {\"automargin\": true, \"gridcolor\": \"white\", \"linecolor\": \"white\", \"ticks\": \"\", \"title\": {\"standoff\": 15}, \"zerolinecolor\": \"white\", \"zerolinewidth\": 2}, \"yaxis\": {\"automargin\": true, \"gridcolor\": \"white\", \"linecolor\": \"white\", \"ticks\": \"\", \"title\": {\"standoff\": 15}, \"zerolinecolor\": \"white\", \"zerolinewidth\": 2}}}, \"xaxis\": {\"anchor\": \"y\", \"domain\": [0.0, 1.0], \"title\": {\"text\": \"Founding\"}}, \"yaxis\": {\"anchor\": \"x\", \"domain\": [0.0, 1.0]}},                        {\"responsive\": true}                    ).then(function(){\n                            \nvar gd = document.getElementById('c554188d-b130-4ce9-9a86-71b7836f25a6');\nvar x = new MutationObserver(function (mutations, observer) {{\n        var display = window.getComputedStyle(gd).display;\n        if (!display || display === 'none') {{\n            console.log([gd, 'removed!']);\n            Plotly.purge(gd);\n            observer.disconnect();\n        }}\n}});\n\n// Listen for the removal of the full notebook cells\nvar notebookContainer = gd.closest('#notebook-container');\nif (notebookContainer) {{\n    x.observe(notebookContainer, {childList: true});\n}}\n\n// Listen for the clearing of the current output cell\nvar outputEl = gd.closest('.output');\nif (outputEl) {{\n    x.observe(outputEl, {childList: true});\n}}\n\n                        })                };                            </script>        </div>\n</body>\n</html>"
     },
     "metadata": {},
     "output_type": "display_data"
    }
   ]
  },
  {
   "cell_type": "markdown",
   "source": "`founded_to_IPO` time between founded and IPO",
   "metadata": {
    "tags": [],
    "cell_id": "00012-419631a9-146d-452d-96c2-2dcbfa80ee84",
    "deepnote_cell_type": "markdown"
   }
  },
  {
   "cell_type": "code",
   "metadata": {
    "tags": [],
    "cell_id": "00013-93790c6d-0274-4612-80a6-4dc53099a96b",
    "deepnote_to_be_reexecuted": false,
    "source_hash": "d5ccdd60",
    "execution_start": 1625240800272,
    "execution_millis": 139,
    "deepnote_cell_type": "code"
   },
   "source": "nasdaq_fintech_comp['founded_to_IPO'] = nasdaq_fintech_comp['offer year'] - nasdaq_fintech_comp['Founding']\nfig = px.histogram(nasdaq_fintech_comp, x=\"founded_to_IPO\")\nfig.show()",
   "execution_count": null,
   "outputs": [
    {
     "data": {
      "text/html": "<html>\n<head><meta charset=\"utf-8\" /></head>\n<body>\n    <div>            <script src=\"https://cdnjs.cloudflare.com/ajax/libs/mathjax/2.7.5/MathJax.js?config=TeX-AMS-MML_SVG\"></script><script type=\"text/javascript\">if (window.MathJax) {MathJax.Hub.Config({SVG: {font: \"STIX-Web\"}});}</script>                <script type=\"text/javascript\">window.PlotlyConfig = {MathJaxConfig: 'local'};</script>\n        <script src=\"https://cdn.plot.ly/plotly-latest.min.js\"></script>                <div id=\"a131bf85-0caa-4fd7-b67c-55b7b8f7dc52\" class=\"plotly-graph-div\" style=\"height:525px; width:100%;\"></div>            <script type=\"text/javascript\">                                    window.PLOTLYENV=window.PLOTLYENV || {};                                    if (document.getElementById(\"a131bf85-0caa-4fd7-b67c-55b7b8f7dc52\")) {                    Plotly.newPlot(                        \"a131bf85-0caa-4fd7-b67c-55b7b8f7dc52\",                        [{\"alignmentgroup\": \"True\", \"bingroup\": \"x\", \"hovertemplate\": \"founded_to_IPO=%{x}<br>count=%{y}<extra></extra>\", \"legendgroup\": \"\", \"marker\": {\"color\": \"#636efa\"}, \"name\": \"\", \"offsetgroup\": \"\", \"orientation\": \"v\", \"showlegend\": false, \"type\": \"histogram\", \"x\": [4, 6, 38, 40, 2, 14, 26, 37, 88, 3, 9, 4, 8, 104, 7, 11, 18, 20, 16, 8, 5, 42, 18, 4, 10, 24, 179, 11, 90, 12, 38, 7, 3, 35, 7, 61, 8, 3, 25, 13, 11], \"xaxis\": \"x\", \"yaxis\": \"y\"}],                        {\"barmode\": \"relative\", \"legend\": {\"tracegroupgap\": 0}, \"margin\": {\"t\": 60}, \"template\": {\"data\": {\"bar\": [{\"error_x\": {\"color\": \"#2a3f5f\"}, \"error_y\": {\"color\": \"#2a3f5f\"}, \"marker\": {\"line\": {\"color\": \"#E5ECF6\", \"width\": 0.5}}, \"type\": \"bar\"}], \"barpolar\": [{\"marker\": {\"line\": {\"color\": \"#E5ECF6\", \"width\": 0.5}}, \"type\": \"barpolar\"}], \"carpet\": [{\"aaxis\": {\"endlinecolor\": \"#2a3f5f\", \"gridcolor\": \"white\", \"linecolor\": \"white\", \"minorgridcolor\": \"white\", \"startlinecolor\": \"#2a3f5f\"}, \"baxis\": {\"endlinecolor\": \"#2a3f5f\", \"gridcolor\": \"white\", \"linecolor\": \"white\", \"minorgridcolor\": \"white\", \"startlinecolor\": \"#2a3f5f\"}, \"type\": \"carpet\"}], \"choropleth\": [{\"colorbar\": {\"outlinewidth\": 0, \"ticks\": \"\"}, \"type\": \"choropleth\"}], \"contour\": [{\"colorbar\": {\"outlinewidth\": 0, \"ticks\": \"\"}, \"colorscale\": [[0.0, \"#0d0887\"], [0.1111111111111111, \"#46039f\"], [0.2222222222222222, \"#7201a8\"], [0.3333333333333333, \"#9c179e\"], [0.4444444444444444, \"#bd3786\"], [0.5555555555555556, \"#d8576b\"], [0.6666666666666666, \"#ed7953\"], [0.7777777777777778, \"#fb9f3a\"], [0.8888888888888888, \"#fdca26\"], [1.0, \"#f0f921\"]], \"type\": \"contour\"}], \"contourcarpet\": [{\"colorbar\": {\"outlinewidth\": 0, \"ticks\": \"\"}, \"type\": \"contourcarpet\"}], \"heatmap\": [{\"colorbar\": {\"outlinewidth\": 0, \"ticks\": \"\"}, \"colorscale\": [[0.0, \"#0d0887\"], [0.1111111111111111, \"#46039f\"], [0.2222222222222222, \"#7201a8\"], [0.3333333333333333, \"#9c179e\"], [0.4444444444444444, \"#bd3786\"], [0.5555555555555556, \"#d8576b\"], [0.6666666666666666, \"#ed7953\"], [0.7777777777777778, \"#fb9f3a\"], [0.8888888888888888, \"#fdca26\"], [1.0, \"#f0f921\"]], \"type\": \"heatmap\"}], \"heatmapgl\": [{\"colorbar\": {\"outlinewidth\": 0, \"ticks\": \"\"}, \"colorscale\": [[0.0, \"#0d0887\"], [0.1111111111111111, \"#46039f\"], [0.2222222222222222, \"#7201a8\"], [0.3333333333333333, \"#9c179e\"], [0.4444444444444444, \"#bd3786\"], [0.5555555555555556, \"#d8576b\"], [0.6666666666666666, \"#ed7953\"], [0.7777777777777778, \"#fb9f3a\"], [0.8888888888888888, \"#fdca26\"], [1.0, \"#f0f921\"]], \"type\": \"heatmapgl\"}], \"histogram\": [{\"marker\": {\"colorbar\": {\"outlinewidth\": 0, \"ticks\": \"\"}}, \"type\": \"histogram\"}], \"histogram2d\": [{\"colorbar\": {\"outlinewidth\": 0, \"ticks\": \"\"}, \"colorscale\": [[0.0, \"#0d0887\"], [0.1111111111111111, \"#46039f\"], [0.2222222222222222, \"#7201a8\"], [0.3333333333333333, \"#9c179e\"], [0.4444444444444444, \"#bd3786\"], [0.5555555555555556, \"#d8576b\"], [0.6666666666666666, \"#ed7953\"], [0.7777777777777778, \"#fb9f3a\"], [0.8888888888888888, \"#fdca26\"], [1.0, \"#f0f921\"]], \"type\": \"histogram2d\"}], \"histogram2dcontour\": [{\"colorbar\": {\"outlinewidth\": 0, \"ticks\": \"\"}, \"colorscale\": [[0.0, \"#0d0887\"], [0.1111111111111111, \"#46039f\"], [0.2222222222222222, \"#7201a8\"], [0.3333333333333333, \"#9c179e\"], [0.4444444444444444, \"#bd3786\"], [0.5555555555555556, \"#d8576b\"], [0.6666666666666666, \"#ed7953\"], [0.7777777777777778, \"#fb9f3a\"], [0.8888888888888888, \"#fdca26\"], [1.0, \"#f0f921\"]], \"type\": \"histogram2dcontour\"}], \"mesh3d\": [{\"colorbar\": {\"outlinewidth\": 0, \"ticks\": \"\"}, \"type\": \"mesh3d\"}], \"parcoords\": [{\"line\": {\"colorbar\": {\"outlinewidth\": 0, \"ticks\": \"\"}}, \"type\": \"parcoords\"}], \"pie\": [{\"automargin\": true, \"type\": \"pie\"}], \"scatter\": [{\"marker\": {\"colorbar\": {\"outlinewidth\": 0, \"ticks\": \"\"}}, \"type\": \"scatter\"}], \"scatter3d\": [{\"line\": {\"colorbar\": {\"outlinewidth\": 0, \"ticks\": \"\"}}, \"marker\": {\"colorbar\": {\"outlinewidth\": 0, \"ticks\": \"\"}}, \"type\": \"scatter3d\"}], \"scattercarpet\": [{\"marker\": {\"colorbar\": {\"outlinewidth\": 0, \"ticks\": \"\"}}, \"type\": \"scattercarpet\"}], \"scattergeo\": [{\"marker\": {\"colorbar\": {\"outlinewidth\": 0, \"ticks\": \"\"}}, \"type\": \"scattergeo\"}], \"scattergl\": [{\"marker\": {\"colorbar\": {\"outlinewidth\": 0, \"ticks\": \"\"}}, \"type\": \"scattergl\"}], \"scattermapbox\": [{\"marker\": {\"colorbar\": {\"outlinewidth\": 0, \"ticks\": \"\"}}, \"type\": \"scattermapbox\"}], \"scatterpolar\": [{\"marker\": {\"colorbar\": {\"outlinewidth\": 0, \"ticks\": \"\"}}, \"type\": \"scatterpolar\"}], \"scatterpolargl\": [{\"marker\": {\"colorbar\": {\"outlinewidth\": 0, \"ticks\": \"\"}}, \"type\": \"scatterpolargl\"}], \"scatterternary\": [{\"marker\": {\"colorbar\": {\"outlinewidth\": 0, \"ticks\": \"\"}}, \"type\": \"scatterternary\"}], \"surface\": [{\"colorbar\": {\"outlinewidth\": 0, \"ticks\": \"\"}, \"colorscale\": [[0.0, \"#0d0887\"], [0.1111111111111111, \"#46039f\"], [0.2222222222222222, \"#7201a8\"], [0.3333333333333333, \"#9c179e\"], [0.4444444444444444, \"#bd3786\"], [0.5555555555555556, \"#d8576b\"], [0.6666666666666666, \"#ed7953\"], [0.7777777777777778, \"#fb9f3a\"], [0.8888888888888888, \"#fdca26\"], [1.0, \"#f0f921\"]], \"type\": \"surface\"}], \"table\": [{\"cells\": {\"fill\": {\"color\": \"#EBF0F8\"}, \"line\": {\"color\": \"white\"}}, \"header\": {\"fill\": {\"color\": \"#C8D4E3\"}, \"line\": {\"color\": \"white\"}}, \"type\": \"table\"}]}, \"layout\": {\"annotationdefaults\": {\"arrowcolor\": \"#2a3f5f\", \"arrowhead\": 0, \"arrowwidth\": 1}, \"autotypenumbers\": \"strict\", \"coloraxis\": {\"colorbar\": {\"outlinewidth\": 0, \"ticks\": \"\"}}, \"colorscale\": {\"diverging\": [[0, \"#8e0152\"], [0.1, \"#c51b7d\"], [0.2, \"#de77ae\"], [0.3, \"#f1b6da\"], [0.4, \"#fde0ef\"], [0.5, \"#f7f7f7\"], [0.6, \"#e6f5d0\"], [0.7, \"#b8e186\"], [0.8, \"#7fbc41\"], [0.9, \"#4d9221\"], [1, \"#276419\"]], \"sequential\": [[0.0, \"#0d0887\"], [0.1111111111111111, \"#46039f\"], [0.2222222222222222, \"#7201a8\"], [0.3333333333333333, \"#9c179e\"], [0.4444444444444444, \"#bd3786\"], [0.5555555555555556, \"#d8576b\"], [0.6666666666666666, \"#ed7953\"], [0.7777777777777778, \"#fb9f3a\"], [0.8888888888888888, \"#fdca26\"], [1.0, \"#f0f921\"]], \"sequentialminus\": [[0.0, \"#0d0887\"], [0.1111111111111111, \"#46039f\"], [0.2222222222222222, \"#7201a8\"], [0.3333333333333333, \"#9c179e\"], [0.4444444444444444, \"#bd3786\"], [0.5555555555555556, \"#d8576b\"], [0.6666666666666666, \"#ed7953\"], [0.7777777777777778, \"#fb9f3a\"], [0.8888888888888888, \"#fdca26\"], [1.0, \"#f0f921\"]]}, \"colorway\": [\"#636efa\", \"#EF553B\", \"#00cc96\", \"#ab63fa\", \"#FFA15A\", \"#19d3f3\", \"#FF6692\", \"#B6E880\", \"#FF97FF\", \"#FECB52\"], \"font\": {\"color\": \"#2a3f5f\"}, \"geo\": {\"bgcolor\": \"white\", \"lakecolor\": \"white\", \"landcolor\": \"#E5ECF6\", \"showlakes\": true, \"showland\": true, \"subunitcolor\": \"white\"}, \"hoverlabel\": {\"align\": \"left\"}, \"hovermode\": \"closest\", \"mapbox\": {\"style\": \"light\"}, \"paper_bgcolor\": \"white\", \"plot_bgcolor\": \"#E5ECF6\", \"polar\": {\"angularaxis\": {\"gridcolor\": \"white\", \"linecolor\": \"white\", \"ticks\": \"\"}, \"bgcolor\": \"#E5ECF6\", \"radialaxis\": {\"gridcolor\": \"white\", \"linecolor\": \"white\", \"ticks\": \"\"}}, \"scene\": {\"xaxis\": {\"backgroundcolor\": \"#E5ECF6\", \"gridcolor\": \"white\", \"gridwidth\": 2, \"linecolor\": \"white\", \"showbackground\": true, \"ticks\": \"\", \"zerolinecolor\": \"white\"}, \"yaxis\": {\"backgroundcolor\": \"#E5ECF6\", \"gridcolor\": \"white\", \"gridwidth\": 2, \"linecolor\": \"white\", \"showbackground\": true, \"ticks\": \"\", \"zerolinecolor\": \"white\"}, \"zaxis\": {\"backgroundcolor\": \"#E5ECF6\", \"gridcolor\": \"white\", \"gridwidth\": 2, \"linecolor\": \"white\", \"showbackground\": true, \"ticks\": \"\", \"zerolinecolor\": \"white\"}}, \"shapedefaults\": {\"line\": {\"color\": \"#2a3f5f\"}}, \"ternary\": {\"aaxis\": {\"gridcolor\": \"white\", \"linecolor\": \"white\", \"ticks\": \"\"}, \"baxis\": {\"gridcolor\": \"white\", \"linecolor\": \"white\", \"ticks\": \"\"}, \"bgcolor\": \"#E5ECF6\", \"caxis\": {\"gridcolor\": \"white\", \"linecolor\": \"white\", \"ticks\": \"\"}}, \"title\": {\"x\": 0.05}, \"xaxis\": {\"automargin\": true, \"gridcolor\": \"white\", \"linecolor\": \"white\", \"ticks\": \"\", \"title\": {\"standoff\": 15}, \"zerolinecolor\": \"white\", \"zerolinewidth\": 2}, \"yaxis\": {\"automargin\": true, \"gridcolor\": \"white\", \"linecolor\": \"white\", \"ticks\": \"\", \"title\": {\"standoff\": 15}, \"zerolinecolor\": \"white\", \"zerolinewidth\": 2}}}, \"xaxis\": {\"anchor\": \"y\", \"domain\": [0.0, 1.0], \"title\": {\"text\": \"founded_to_IPO\"}}, \"yaxis\": {\"anchor\": \"x\", \"domain\": [0.0, 1.0], \"title\": {\"text\": \"count\"}}},                        {\"responsive\": true}                    ).then(function(){\n                            \nvar gd = document.getElementById('a131bf85-0caa-4fd7-b67c-55b7b8f7dc52');\nvar x = new MutationObserver(function (mutations, observer) {{\n        var display = window.getComputedStyle(gd).display;\n        if (!display || display === 'none') {{\n            console.log([gd, 'removed!']);\n            Plotly.purge(gd);\n            observer.disconnect();\n        }}\n}});\n\n// Listen for the removal of the full notebook cells\nvar notebookContainer = gd.closest('#notebook-container');\nif (notebookContainer) {{\n    x.observe(notebookContainer, {childList: true});\n}}\n\n// Listen for the clearing of the current output cell\nvar outputEl = gd.closest('.output');\nif (outputEl) {{\n    x.observe(outputEl, {childList: true});\n}}\n\n                        })                };                            </script>        </div>\n</body>\n</html>"
     },
     "metadata": {},
     "output_type": "display_data"
    }
   ]
  },
  {
   "cell_type": "code",
   "metadata": {
    "tags": [],
    "cell_id": "00014-e52db862-d144-4208-97ce-625bc2c5ae70",
    "deepnote_to_be_reexecuted": false,
    "source_hash": "f138d046",
    "execution_start": 1625240800416,
    "execution_millis": 71,
    "deepnote_cell_type": "code"
   },
   "source": "temp = nasdaq_fintech_comp[nasdaq_fintech_comp['founded_to_IPO'] <= 20]\nfig = px.histogram(temp, x=\"founded_to_IPO\")\nfig.show()",
   "execution_count": null,
   "outputs": [
    {
     "data": {
      "text/html": "<html>\n<head><meta charset=\"utf-8\" /></head>\n<body>\n    <div>            <script src=\"https://cdnjs.cloudflare.com/ajax/libs/mathjax/2.7.5/MathJax.js?config=TeX-AMS-MML_SVG\"></script><script type=\"text/javascript\">if (window.MathJax) {MathJax.Hub.Config({SVG: {font: \"STIX-Web\"}});}</script>                <script type=\"text/javascript\">window.PlotlyConfig = {MathJaxConfig: 'local'};</script>\n        <script src=\"https://cdn.plot.ly/plotly-latest.min.js\"></script>                <div id=\"0ebfe41b-9b0b-4435-8bf9-0af0abcd7c2c\" class=\"plotly-graph-div\" style=\"height:525px; width:100%;\"></div>            <script type=\"text/javascript\">                                    window.PLOTLYENV=window.PLOTLYENV || {};                                    if (document.getElementById(\"0ebfe41b-9b0b-4435-8bf9-0af0abcd7c2c\")) {                    Plotly.newPlot(                        \"0ebfe41b-9b0b-4435-8bf9-0af0abcd7c2c\",                        [{\"alignmentgroup\": \"True\", \"bingroup\": \"x\", \"hovertemplate\": \"founded_to_IPO=%{x}<br>count=%{y}<extra></extra>\", \"legendgroup\": \"\", \"marker\": {\"color\": \"#636efa\"}, \"name\": \"\", \"offsetgroup\": \"\", \"orientation\": \"v\", \"showlegend\": false, \"type\": \"histogram\", \"x\": [4, 6, 2, 14, 3, 9, 4, 8, 7, 11, 18, 20, 16, 8, 5, 18, 4, 10, 11, 12, 7, 3, 7, 8, 3, 13, 11], \"xaxis\": \"x\", \"yaxis\": \"y\"}],                        {\"barmode\": \"relative\", \"legend\": {\"tracegroupgap\": 0}, \"margin\": {\"t\": 60}, \"template\": {\"data\": {\"bar\": [{\"error_x\": {\"color\": \"#2a3f5f\"}, \"error_y\": {\"color\": \"#2a3f5f\"}, \"marker\": {\"line\": {\"color\": \"#E5ECF6\", \"width\": 0.5}}, \"type\": \"bar\"}], \"barpolar\": [{\"marker\": {\"line\": {\"color\": \"#E5ECF6\", \"width\": 0.5}}, \"type\": \"barpolar\"}], \"carpet\": [{\"aaxis\": {\"endlinecolor\": \"#2a3f5f\", \"gridcolor\": \"white\", \"linecolor\": \"white\", \"minorgridcolor\": \"white\", \"startlinecolor\": \"#2a3f5f\"}, \"baxis\": {\"endlinecolor\": \"#2a3f5f\", \"gridcolor\": \"white\", \"linecolor\": \"white\", \"minorgridcolor\": \"white\", \"startlinecolor\": \"#2a3f5f\"}, \"type\": \"carpet\"}], \"choropleth\": [{\"colorbar\": {\"outlinewidth\": 0, \"ticks\": \"\"}, \"type\": \"choropleth\"}], \"contour\": [{\"colorbar\": {\"outlinewidth\": 0, \"ticks\": \"\"}, \"colorscale\": [[0.0, \"#0d0887\"], [0.1111111111111111, \"#46039f\"], [0.2222222222222222, \"#7201a8\"], [0.3333333333333333, \"#9c179e\"], [0.4444444444444444, \"#bd3786\"], [0.5555555555555556, \"#d8576b\"], [0.6666666666666666, \"#ed7953\"], [0.7777777777777778, \"#fb9f3a\"], [0.8888888888888888, \"#fdca26\"], [1.0, \"#f0f921\"]], \"type\": \"contour\"}], \"contourcarpet\": [{\"colorbar\": {\"outlinewidth\": 0, \"ticks\": \"\"}, \"type\": \"contourcarpet\"}], \"heatmap\": [{\"colorbar\": {\"outlinewidth\": 0, \"ticks\": \"\"}, \"colorscale\": [[0.0, \"#0d0887\"], [0.1111111111111111, \"#46039f\"], [0.2222222222222222, \"#7201a8\"], [0.3333333333333333, \"#9c179e\"], [0.4444444444444444, \"#bd3786\"], [0.5555555555555556, \"#d8576b\"], [0.6666666666666666, \"#ed7953\"], [0.7777777777777778, \"#fb9f3a\"], [0.8888888888888888, \"#fdca26\"], [1.0, \"#f0f921\"]], \"type\": \"heatmap\"}], \"heatmapgl\": [{\"colorbar\": {\"outlinewidth\": 0, \"ticks\": \"\"}, \"colorscale\": [[0.0, \"#0d0887\"], [0.1111111111111111, \"#46039f\"], [0.2222222222222222, \"#7201a8\"], [0.3333333333333333, \"#9c179e\"], [0.4444444444444444, \"#bd3786\"], [0.5555555555555556, \"#d8576b\"], [0.6666666666666666, \"#ed7953\"], [0.7777777777777778, \"#fb9f3a\"], [0.8888888888888888, \"#fdca26\"], [1.0, \"#f0f921\"]], \"type\": \"heatmapgl\"}], \"histogram\": [{\"marker\": {\"colorbar\": {\"outlinewidth\": 0, \"ticks\": \"\"}}, \"type\": \"histogram\"}], \"histogram2d\": [{\"colorbar\": {\"outlinewidth\": 0, \"ticks\": \"\"}, \"colorscale\": [[0.0, \"#0d0887\"], [0.1111111111111111, \"#46039f\"], [0.2222222222222222, \"#7201a8\"], [0.3333333333333333, \"#9c179e\"], [0.4444444444444444, \"#bd3786\"], [0.5555555555555556, \"#d8576b\"], [0.6666666666666666, \"#ed7953\"], [0.7777777777777778, \"#fb9f3a\"], [0.8888888888888888, \"#fdca26\"], [1.0, \"#f0f921\"]], \"type\": \"histogram2d\"}], \"histogram2dcontour\": [{\"colorbar\": {\"outlinewidth\": 0, \"ticks\": \"\"}, \"colorscale\": [[0.0, \"#0d0887\"], [0.1111111111111111, \"#46039f\"], [0.2222222222222222, \"#7201a8\"], [0.3333333333333333, \"#9c179e\"], [0.4444444444444444, \"#bd3786\"], [0.5555555555555556, \"#d8576b\"], [0.6666666666666666, \"#ed7953\"], [0.7777777777777778, \"#fb9f3a\"], [0.8888888888888888, \"#fdca26\"], [1.0, \"#f0f921\"]], \"type\": \"histogram2dcontour\"}], \"mesh3d\": [{\"colorbar\": {\"outlinewidth\": 0, \"ticks\": \"\"}, \"type\": \"mesh3d\"}], \"parcoords\": [{\"line\": {\"colorbar\": {\"outlinewidth\": 0, \"ticks\": \"\"}}, \"type\": \"parcoords\"}], \"pie\": [{\"automargin\": true, \"type\": \"pie\"}], \"scatter\": [{\"marker\": {\"colorbar\": {\"outlinewidth\": 0, \"ticks\": \"\"}}, \"type\": \"scatter\"}], \"scatter3d\": [{\"line\": {\"colorbar\": {\"outlinewidth\": 0, \"ticks\": \"\"}}, \"marker\": {\"colorbar\": {\"outlinewidth\": 0, \"ticks\": \"\"}}, \"type\": \"scatter3d\"}], \"scattercarpet\": [{\"marker\": {\"colorbar\": {\"outlinewidth\": 0, \"ticks\": \"\"}}, \"type\": \"scattercarpet\"}], \"scattergeo\": [{\"marker\": {\"colorbar\": {\"outlinewidth\": 0, \"ticks\": \"\"}}, \"type\": \"scattergeo\"}], \"scattergl\": [{\"marker\": {\"colorbar\": {\"outlinewidth\": 0, \"ticks\": \"\"}}, \"type\": \"scattergl\"}], \"scattermapbox\": [{\"marker\": {\"colorbar\": {\"outlinewidth\": 0, \"ticks\": \"\"}}, \"type\": \"scattermapbox\"}], \"scatterpolar\": [{\"marker\": {\"colorbar\": {\"outlinewidth\": 0, \"ticks\": \"\"}}, \"type\": \"scatterpolar\"}], \"scatterpolargl\": [{\"marker\": {\"colorbar\": {\"outlinewidth\": 0, \"ticks\": \"\"}}, \"type\": \"scatterpolargl\"}], \"scatterternary\": [{\"marker\": {\"colorbar\": {\"outlinewidth\": 0, \"ticks\": \"\"}}, \"type\": \"scatterternary\"}], \"surface\": [{\"colorbar\": {\"outlinewidth\": 0, \"ticks\": \"\"}, \"colorscale\": [[0.0, \"#0d0887\"], [0.1111111111111111, \"#46039f\"], [0.2222222222222222, \"#7201a8\"], [0.3333333333333333, \"#9c179e\"], [0.4444444444444444, \"#bd3786\"], [0.5555555555555556, \"#d8576b\"], [0.6666666666666666, \"#ed7953\"], [0.7777777777777778, \"#fb9f3a\"], [0.8888888888888888, \"#fdca26\"], [1.0, \"#f0f921\"]], \"type\": \"surface\"}], \"table\": [{\"cells\": {\"fill\": {\"color\": \"#EBF0F8\"}, \"line\": {\"color\": \"white\"}}, \"header\": {\"fill\": {\"color\": \"#C8D4E3\"}, \"line\": {\"color\": \"white\"}}, \"type\": \"table\"}]}, \"layout\": {\"annotationdefaults\": {\"arrowcolor\": \"#2a3f5f\", \"arrowhead\": 0, \"arrowwidth\": 1}, \"autotypenumbers\": \"strict\", \"coloraxis\": {\"colorbar\": {\"outlinewidth\": 0, \"ticks\": \"\"}}, \"colorscale\": {\"diverging\": [[0, \"#8e0152\"], [0.1, \"#c51b7d\"], [0.2, \"#de77ae\"], [0.3, \"#f1b6da\"], [0.4, \"#fde0ef\"], [0.5, \"#f7f7f7\"], [0.6, \"#e6f5d0\"], [0.7, \"#b8e186\"], [0.8, \"#7fbc41\"], [0.9, \"#4d9221\"], [1, \"#276419\"]], \"sequential\": [[0.0, \"#0d0887\"], [0.1111111111111111, \"#46039f\"], [0.2222222222222222, \"#7201a8\"], [0.3333333333333333, \"#9c179e\"], [0.4444444444444444, \"#bd3786\"], [0.5555555555555556, \"#d8576b\"], [0.6666666666666666, \"#ed7953\"], [0.7777777777777778, \"#fb9f3a\"], [0.8888888888888888, \"#fdca26\"], [1.0, \"#f0f921\"]], \"sequentialminus\": [[0.0, \"#0d0887\"], [0.1111111111111111, \"#46039f\"], [0.2222222222222222, \"#7201a8\"], [0.3333333333333333, \"#9c179e\"], [0.4444444444444444, \"#bd3786\"], [0.5555555555555556, \"#d8576b\"], [0.6666666666666666, \"#ed7953\"], [0.7777777777777778, \"#fb9f3a\"], [0.8888888888888888, \"#fdca26\"], [1.0, \"#f0f921\"]]}, \"colorway\": [\"#636efa\", \"#EF553B\", \"#00cc96\", \"#ab63fa\", \"#FFA15A\", \"#19d3f3\", \"#FF6692\", \"#B6E880\", \"#FF97FF\", \"#FECB52\"], \"font\": {\"color\": \"#2a3f5f\"}, \"geo\": {\"bgcolor\": \"white\", \"lakecolor\": \"white\", \"landcolor\": \"#E5ECF6\", \"showlakes\": true, \"showland\": true, \"subunitcolor\": \"white\"}, \"hoverlabel\": {\"align\": \"left\"}, \"hovermode\": \"closest\", \"mapbox\": {\"style\": \"light\"}, \"paper_bgcolor\": \"white\", \"plot_bgcolor\": \"#E5ECF6\", \"polar\": {\"angularaxis\": {\"gridcolor\": \"white\", \"linecolor\": \"white\", \"ticks\": \"\"}, \"bgcolor\": \"#E5ECF6\", \"radialaxis\": {\"gridcolor\": \"white\", \"linecolor\": \"white\", \"ticks\": \"\"}}, \"scene\": {\"xaxis\": {\"backgroundcolor\": \"#E5ECF6\", \"gridcolor\": \"white\", \"gridwidth\": 2, \"linecolor\": \"white\", \"showbackground\": true, \"ticks\": \"\", \"zerolinecolor\": \"white\"}, \"yaxis\": {\"backgroundcolor\": \"#E5ECF6\", \"gridcolor\": \"white\", \"gridwidth\": 2, \"linecolor\": \"white\", \"showbackground\": true, \"ticks\": \"\", \"zerolinecolor\": \"white\"}, \"zaxis\": {\"backgroundcolor\": \"#E5ECF6\", \"gridcolor\": \"white\", \"gridwidth\": 2, \"linecolor\": \"white\", \"showbackground\": true, \"ticks\": \"\", \"zerolinecolor\": \"white\"}}, \"shapedefaults\": {\"line\": {\"color\": \"#2a3f5f\"}}, \"ternary\": {\"aaxis\": {\"gridcolor\": \"white\", \"linecolor\": \"white\", \"ticks\": \"\"}, \"baxis\": {\"gridcolor\": \"white\", \"linecolor\": \"white\", \"ticks\": \"\"}, \"bgcolor\": \"#E5ECF6\", \"caxis\": {\"gridcolor\": \"white\", \"linecolor\": \"white\", \"ticks\": \"\"}}, \"title\": {\"x\": 0.05}, \"xaxis\": {\"automargin\": true, \"gridcolor\": \"white\", \"linecolor\": \"white\", \"ticks\": \"\", \"title\": {\"standoff\": 15}, \"zerolinecolor\": \"white\", \"zerolinewidth\": 2}, \"yaxis\": {\"automargin\": true, \"gridcolor\": \"white\", \"linecolor\": \"white\", \"ticks\": \"\", \"title\": {\"standoff\": 15}, \"zerolinecolor\": \"white\", \"zerolinewidth\": 2}}}, \"xaxis\": {\"anchor\": \"y\", \"domain\": [0.0, 1.0], \"title\": {\"text\": \"founded_to_IPO\"}}, \"yaxis\": {\"anchor\": \"x\", \"domain\": [0.0, 1.0], \"title\": {\"text\": \"count\"}}},                        {\"responsive\": true}                    ).then(function(){\n                            \nvar gd = document.getElementById('0ebfe41b-9b0b-4435-8bf9-0af0abcd7c2c');\nvar x = new MutationObserver(function (mutations, observer) {{\n        var display = window.getComputedStyle(gd).display;\n        if (!display || display === 'none') {{\n            console.log([gd, 'removed!']);\n            Plotly.purge(gd);\n            observer.disconnect();\n        }}\n}});\n\n// Listen for the removal of the full notebook cells\nvar notebookContainer = gd.closest('#notebook-container');\nif (notebookContainer) {{\n    x.observe(notebookContainer, {childList: true});\n}}\n\n// Listen for the clearing of the current output cell\nvar outputEl = gd.closest('.output');\nif (outputEl) {{\n    x.observe(outputEl, {childList: true});\n}}\n\n                        })                };                            </script>        </div>\n</body>\n</html>"
     },
     "metadata": {},
     "output_type": "display_data"
    }
   ]
  },
  {
   "cell_type": "markdown",
   "source": "`VC` column (VC is a dummy with 1 for VC and 2 for a subset of VC that I call growth capital)",
   "metadata": {
    "tags": [],
    "cell_id": "00008-c1743504-826f-465b-ab76-43bffc72db6f",
    "deepnote_cell_type": "markdown"
   }
  },
  {
   "cell_type": "code",
   "metadata": {
    "tags": [],
    "cell_id": "00015-7c575bbc-3065-4744-b4b5-4867b8d04281",
    "deepnote_to_be_reexecuted": false,
    "source_hash": "c0f885c2",
    "execution_start": 1625240800492,
    "execution_millis": 119,
    "deepnote_cell_type": "code"
   },
   "source": "temp = nasdaq_fintech_comp['VC'].value_counts().to_frame()\nfig = px.bar(temp, x=temp.index, y='VC')\nfig.update_xaxes(tickangle=45)",
   "execution_count": null,
   "outputs": [
    {
     "data": {
      "text/html": "<html>\n<head><meta charset=\"utf-8\" /></head>\n<body>\n    <div>            <script src=\"https://cdnjs.cloudflare.com/ajax/libs/mathjax/2.7.5/MathJax.js?config=TeX-AMS-MML_SVG\"></script><script type=\"text/javascript\">if (window.MathJax) {MathJax.Hub.Config({SVG: {font: \"STIX-Web\"}});}</script>                <script type=\"text/javascript\">window.PlotlyConfig = {MathJaxConfig: 'local'};</script>\n        <script src=\"https://cdn.plot.ly/plotly-latest.min.js\"></script>                <div id=\"ba59af71-bb30-475c-80fc-d3d31aa8b5c1\" class=\"plotly-graph-div\" style=\"height:525px; width:100%;\"></div>            <script type=\"text/javascript\">                                    window.PLOTLYENV=window.PLOTLYENV || {};                                    if (document.getElementById(\"ba59af71-bb30-475c-80fc-d3d31aa8b5c1\")) {                    Plotly.newPlot(                        \"ba59af71-bb30-475c-80fc-d3d31aa8b5c1\",                        [{\"alignmentgroup\": \"True\", \"hovertemplate\": \"index=%{x}<br>VC=%{y}<extra></extra>\", \"legendgroup\": \"\", \"marker\": {\"color\": \"#636efa\"}, \"name\": \"\", \"offsetgroup\": \"\", \"orientation\": \"v\", \"showlegend\": false, \"textposition\": \"auto\", \"type\": \"bar\", \"x\": [0, 1, 2], \"xaxis\": \"x\", \"y\": [26, 13, 2], \"yaxis\": \"y\"}],                        {\"barmode\": \"relative\", \"legend\": {\"tracegroupgap\": 0}, \"margin\": {\"t\": 60}, \"template\": {\"data\": {\"bar\": [{\"error_x\": {\"color\": \"#2a3f5f\"}, \"error_y\": {\"color\": \"#2a3f5f\"}, \"marker\": {\"line\": {\"color\": \"#E5ECF6\", \"width\": 0.5}}, \"type\": \"bar\"}], \"barpolar\": [{\"marker\": {\"line\": {\"color\": \"#E5ECF6\", \"width\": 0.5}}, \"type\": \"barpolar\"}], \"carpet\": [{\"aaxis\": {\"endlinecolor\": \"#2a3f5f\", \"gridcolor\": \"white\", \"linecolor\": \"white\", \"minorgridcolor\": \"white\", \"startlinecolor\": \"#2a3f5f\"}, \"baxis\": {\"endlinecolor\": \"#2a3f5f\", \"gridcolor\": \"white\", \"linecolor\": \"white\", \"minorgridcolor\": \"white\", \"startlinecolor\": \"#2a3f5f\"}, \"type\": \"carpet\"}], \"choropleth\": [{\"colorbar\": {\"outlinewidth\": 0, \"ticks\": \"\"}, \"type\": \"choropleth\"}], \"contour\": [{\"colorbar\": {\"outlinewidth\": 0, \"ticks\": \"\"}, \"colorscale\": [[0.0, \"#0d0887\"], [0.1111111111111111, \"#46039f\"], [0.2222222222222222, \"#7201a8\"], [0.3333333333333333, \"#9c179e\"], [0.4444444444444444, \"#bd3786\"], [0.5555555555555556, \"#d8576b\"], [0.6666666666666666, \"#ed7953\"], [0.7777777777777778, \"#fb9f3a\"], [0.8888888888888888, \"#fdca26\"], [1.0, \"#f0f921\"]], \"type\": \"contour\"}], \"contourcarpet\": [{\"colorbar\": {\"outlinewidth\": 0, \"ticks\": \"\"}, \"type\": \"contourcarpet\"}], \"heatmap\": [{\"colorbar\": {\"outlinewidth\": 0, \"ticks\": \"\"}, \"colorscale\": [[0.0, \"#0d0887\"], [0.1111111111111111, \"#46039f\"], [0.2222222222222222, \"#7201a8\"], [0.3333333333333333, \"#9c179e\"], [0.4444444444444444, \"#bd3786\"], [0.5555555555555556, \"#d8576b\"], [0.6666666666666666, \"#ed7953\"], [0.7777777777777778, \"#fb9f3a\"], [0.8888888888888888, \"#fdca26\"], [1.0, \"#f0f921\"]], \"type\": \"heatmap\"}], \"heatmapgl\": [{\"colorbar\": {\"outlinewidth\": 0, \"ticks\": \"\"}, \"colorscale\": [[0.0, \"#0d0887\"], [0.1111111111111111, \"#46039f\"], [0.2222222222222222, \"#7201a8\"], [0.3333333333333333, \"#9c179e\"], [0.4444444444444444, \"#bd3786\"], [0.5555555555555556, \"#d8576b\"], [0.6666666666666666, \"#ed7953\"], [0.7777777777777778, \"#fb9f3a\"], [0.8888888888888888, \"#fdca26\"], [1.0, \"#f0f921\"]], \"type\": \"heatmapgl\"}], \"histogram\": [{\"marker\": {\"colorbar\": {\"outlinewidth\": 0, \"ticks\": \"\"}}, \"type\": \"histogram\"}], \"histogram2d\": [{\"colorbar\": {\"outlinewidth\": 0, \"ticks\": \"\"}, \"colorscale\": [[0.0, \"#0d0887\"], [0.1111111111111111, \"#46039f\"], [0.2222222222222222, \"#7201a8\"], [0.3333333333333333, \"#9c179e\"], [0.4444444444444444, \"#bd3786\"], [0.5555555555555556, \"#d8576b\"], [0.6666666666666666, \"#ed7953\"], [0.7777777777777778, \"#fb9f3a\"], [0.8888888888888888, \"#fdca26\"], [1.0, \"#f0f921\"]], \"type\": \"histogram2d\"}], \"histogram2dcontour\": [{\"colorbar\": {\"outlinewidth\": 0, \"ticks\": \"\"}, \"colorscale\": [[0.0, \"#0d0887\"], [0.1111111111111111, \"#46039f\"], [0.2222222222222222, \"#7201a8\"], [0.3333333333333333, \"#9c179e\"], [0.4444444444444444, \"#bd3786\"], [0.5555555555555556, \"#d8576b\"], [0.6666666666666666, \"#ed7953\"], [0.7777777777777778, \"#fb9f3a\"], [0.8888888888888888, \"#fdca26\"], [1.0, \"#f0f921\"]], \"type\": \"histogram2dcontour\"}], \"mesh3d\": [{\"colorbar\": {\"outlinewidth\": 0, \"ticks\": \"\"}, \"type\": \"mesh3d\"}], \"parcoords\": [{\"line\": {\"colorbar\": {\"outlinewidth\": 0, \"ticks\": \"\"}}, \"type\": \"parcoords\"}], \"pie\": [{\"automargin\": true, \"type\": \"pie\"}], \"scatter\": [{\"marker\": {\"colorbar\": {\"outlinewidth\": 0, \"ticks\": \"\"}}, \"type\": \"scatter\"}], \"scatter3d\": [{\"line\": {\"colorbar\": {\"outlinewidth\": 0, \"ticks\": \"\"}}, \"marker\": {\"colorbar\": {\"outlinewidth\": 0, \"ticks\": \"\"}}, \"type\": \"scatter3d\"}], \"scattercarpet\": [{\"marker\": {\"colorbar\": {\"outlinewidth\": 0, \"ticks\": \"\"}}, \"type\": \"scattercarpet\"}], \"scattergeo\": [{\"marker\": {\"colorbar\": {\"outlinewidth\": 0, \"ticks\": \"\"}}, \"type\": \"scattergeo\"}], \"scattergl\": [{\"marker\": {\"colorbar\": {\"outlinewidth\": 0, \"ticks\": \"\"}}, \"type\": \"scattergl\"}], \"scattermapbox\": [{\"marker\": {\"colorbar\": {\"outlinewidth\": 0, \"ticks\": \"\"}}, \"type\": \"scattermapbox\"}], \"scatterpolar\": [{\"marker\": {\"colorbar\": {\"outlinewidth\": 0, \"ticks\": \"\"}}, \"type\": \"scatterpolar\"}], \"scatterpolargl\": [{\"marker\": {\"colorbar\": {\"outlinewidth\": 0, \"ticks\": \"\"}}, \"type\": \"scatterpolargl\"}], \"scatterternary\": [{\"marker\": {\"colorbar\": {\"outlinewidth\": 0, \"ticks\": \"\"}}, \"type\": \"scatterternary\"}], \"surface\": [{\"colorbar\": {\"outlinewidth\": 0, \"ticks\": \"\"}, \"colorscale\": [[0.0, \"#0d0887\"], [0.1111111111111111, \"#46039f\"], [0.2222222222222222, \"#7201a8\"], [0.3333333333333333, \"#9c179e\"], [0.4444444444444444, \"#bd3786\"], [0.5555555555555556, \"#d8576b\"], [0.6666666666666666, \"#ed7953\"], [0.7777777777777778, \"#fb9f3a\"], [0.8888888888888888, \"#fdca26\"], [1.0, \"#f0f921\"]], \"type\": \"surface\"}], \"table\": [{\"cells\": {\"fill\": {\"color\": \"#EBF0F8\"}, \"line\": {\"color\": \"white\"}}, \"header\": {\"fill\": {\"color\": \"#C8D4E3\"}, \"line\": {\"color\": \"white\"}}, \"type\": \"table\"}]}, \"layout\": {\"annotationdefaults\": {\"arrowcolor\": \"#2a3f5f\", \"arrowhead\": 0, \"arrowwidth\": 1}, \"autotypenumbers\": \"strict\", \"coloraxis\": {\"colorbar\": {\"outlinewidth\": 0, \"ticks\": \"\"}}, \"colorscale\": {\"diverging\": [[0, \"#8e0152\"], [0.1, \"#c51b7d\"], [0.2, \"#de77ae\"], [0.3, \"#f1b6da\"], [0.4, \"#fde0ef\"], [0.5, \"#f7f7f7\"], [0.6, \"#e6f5d0\"], [0.7, \"#b8e186\"], [0.8, \"#7fbc41\"], [0.9, \"#4d9221\"], [1, \"#276419\"]], \"sequential\": [[0.0, \"#0d0887\"], [0.1111111111111111, \"#46039f\"], [0.2222222222222222, \"#7201a8\"], [0.3333333333333333, \"#9c179e\"], [0.4444444444444444, \"#bd3786\"], [0.5555555555555556, \"#d8576b\"], [0.6666666666666666, \"#ed7953\"], [0.7777777777777778, \"#fb9f3a\"], [0.8888888888888888, \"#fdca26\"], [1.0, \"#f0f921\"]], \"sequentialminus\": [[0.0, \"#0d0887\"], [0.1111111111111111, \"#46039f\"], [0.2222222222222222, \"#7201a8\"], [0.3333333333333333, \"#9c179e\"], [0.4444444444444444, \"#bd3786\"], [0.5555555555555556, \"#d8576b\"], [0.6666666666666666, \"#ed7953\"], [0.7777777777777778, \"#fb9f3a\"], [0.8888888888888888, \"#fdca26\"], [1.0, \"#f0f921\"]]}, \"colorway\": [\"#636efa\", \"#EF553B\", \"#00cc96\", \"#ab63fa\", \"#FFA15A\", \"#19d3f3\", \"#FF6692\", \"#B6E880\", \"#FF97FF\", \"#FECB52\"], \"font\": {\"color\": \"#2a3f5f\"}, \"geo\": {\"bgcolor\": \"white\", \"lakecolor\": \"white\", \"landcolor\": \"#E5ECF6\", \"showlakes\": true, \"showland\": true, \"subunitcolor\": \"white\"}, \"hoverlabel\": {\"align\": \"left\"}, \"hovermode\": \"closest\", \"mapbox\": {\"style\": \"light\"}, \"paper_bgcolor\": \"white\", \"plot_bgcolor\": \"#E5ECF6\", \"polar\": {\"angularaxis\": {\"gridcolor\": \"white\", \"linecolor\": \"white\", \"ticks\": \"\"}, \"bgcolor\": \"#E5ECF6\", \"radialaxis\": {\"gridcolor\": \"white\", \"linecolor\": \"white\", \"ticks\": \"\"}}, \"scene\": {\"xaxis\": {\"backgroundcolor\": \"#E5ECF6\", \"gridcolor\": \"white\", \"gridwidth\": 2, \"linecolor\": \"white\", \"showbackground\": true, \"ticks\": \"\", \"zerolinecolor\": \"white\"}, \"yaxis\": {\"backgroundcolor\": \"#E5ECF6\", \"gridcolor\": \"white\", \"gridwidth\": 2, \"linecolor\": \"white\", \"showbackground\": true, \"ticks\": \"\", \"zerolinecolor\": \"white\"}, \"zaxis\": {\"backgroundcolor\": \"#E5ECF6\", \"gridcolor\": \"white\", \"gridwidth\": 2, \"linecolor\": \"white\", \"showbackground\": true, \"ticks\": \"\", \"zerolinecolor\": \"white\"}}, \"shapedefaults\": {\"line\": {\"color\": \"#2a3f5f\"}}, \"ternary\": {\"aaxis\": {\"gridcolor\": \"white\", \"linecolor\": \"white\", \"ticks\": \"\"}, \"baxis\": {\"gridcolor\": \"white\", \"linecolor\": \"white\", \"ticks\": \"\"}, \"bgcolor\": \"#E5ECF6\", \"caxis\": {\"gridcolor\": \"white\", \"linecolor\": \"white\", \"ticks\": \"\"}}, \"title\": {\"x\": 0.05}, \"xaxis\": {\"automargin\": true, \"gridcolor\": \"white\", \"linecolor\": \"white\", \"ticks\": \"\", \"title\": {\"standoff\": 15}, \"zerolinecolor\": \"white\", \"zerolinewidth\": 2}, \"yaxis\": {\"automargin\": true, \"gridcolor\": \"white\", \"linecolor\": \"white\", \"ticks\": \"\", \"title\": {\"standoff\": 15}, \"zerolinecolor\": \"white\", \"zerolinewidth\": 2}}}, \"xaxis\": {\"anchor\": \"y\", \"domain\": [0.0, 1.0], \"tickangle\": 45, \"title\": {\"text\": \"index\"}}, \"yaxis\": {\"anchor\": \"x\", \"domain\": [0.0, 1.0], \"title\": {\"text\": \"VC\"}}},                        {\"responsive\": true}                    ).then(function(){\n                            \nvar gd = document.getElementById('ba59af71-bb30-475c-80fc-d3d31aa8b5c1');\nvar x = new MutationObserver(function (mutations, observer) {{\n        var display = window.getComputedStyle(gd).display;\n        if (!display || display === 'none') {{\n            console.log([gd, 'removed!']);\n            Plotly.purge(gd);\n            observer.disconnect();\n        }}\n}});\n\n// Listen for the removal of the full notebook cells\nvar notebookContainer = gd.closest('#notebook-container');\nif (notebookContainer) {{\n    x.observe(notebookContainer, {childList: true});\n}}\n\n// Listen for the clearing of the current output cell\nvar outputEl = gd.closest('.output');\nif (outputEl) {{\n    x.observe(outputEl, {childList: true});\n}}\n\n                        })                };                            </script>        </div>\n</body>\n</html>"
     },
     "metadata": {},
     "output_type": "display_data"
    }
   ]
  },
  {
   "cell_type": "markdown",
   "source": "`Dual` column (multiple share class IPOs)",
   "metadata": {
    "tags": [],
    "cell_id": "00010-a49debf0-39fb-439b-89f0-f809140fcb8b",
    "deepnote_cell_type": "markdown"
   }
  },
  {
   "cell_type": "code",
   "metadata": {
    "tags": [],
    "cell_id": "00017-ea497670-d07d-4f8d-91b9-818b38e43a5c",
    "deepnote_to_be_reexecuted": false,
    "source_hash": "d61bdca2",
    "execution_start": 1625240800614,
    "execution_millis": 93,
    "deepnote_cell_type": "code"
   },
   "source": "temp = nasdaq_fintech_comp['Dual'].value_counts().to_frame()\nfig = px.bar(temp, x=temp.index, y='Dual')\nfig.update_xaxes(tickangle=45)",
   "execution_count": null,
   "outputs": [
    {
     "data": {
      "text/html": "<html>\n<head><meta charset=\"utf-8\" /></head>\n<body>\n    <div>            <script src=\"https://cdnjs.cloudflare.com/ajax/libs/mathjax/2.7.5/MathJax.js?config=TeX-AMS-MML_SVG\"></script><script type=\"text/javascript\">if (window.MathJax) {MathJax.Hub.Config({SVG: {font: \"STIX-Web\"}});}</script>                <script type=\"text/javascript\">window.PlotlyConfig = {MathJaxConfig: 'local'};</script>\n        <script src=\"https://cdn.plot.ly/plotly-latest.min.js\"></script>                <div id=\"8e2e9640-e86f-4bf0-894b-33e16b546a45\" class=\"plotly-graph-div\" style=\"height:525px; width:100%;\"></div>            <script type=\"text/javascript\">                                    window.PLOTLYENV=window.PLOTLYENV || {};                                    if (document.getElementById(\"8e2e9640-e86f-4bf0-894b-33e16b546a45\")) {                    Plotly.newPlot(                        \"8e2e9640-e86f-4bf0-894b-33e16b546a45\",                        [{\"alignmentgroup\": \"True\", \"hovertemplate\": \"index=%{x}<br>Dual=%{y}<extra></extra>\", \"legendgroup\": \"\", \"marker\": {\"color\": \"#636efa\"}, \"name\": \"\", \"offsetgroup\": \"\", \"orientation\": \"v\", \"showlegend\": false, \"textposition\": \"auto\", \"type\": \"bar\", \"x\": [0, 1], \"xaxis\": \"x\", \"y\": [30, 11], \"yaxis\": \"y\"}],                        {\"barmode\": \"relative\", \"legend\": {\"tracegroupgap\": 0}, \"margin\": {\"t\": 60}, \"template\": {\"data\": {\"bar\": [{\"error_x\": {\"color\": \"#2a3f5f\"}, \"error_y\": {\"color\": \"#2a3f5f\"}, \"marker\": {\"line\": {\"color\": \"#E5ECF6\", \"width\": 0.5}}, \"type\": \"bar\"}], \"barpolar\": [{\"marker\": {\"line\": {\"color\": \"#E5ECF6\", \"width\": 0.5}}, \"type\": \"barpolar\"}], \"carpet\": [{\"aaxis\": {\"endlinecolor\": \"#2a3f5f\", \"gridcolor\": \"white\", \"linecolor\": \"white\", \"minorgridcolor\": \"white\", \"startlinecolor\": \"#2a3f5f\"}, \"baxis\": {\"endlinecolor\": \"#2a3f5f\", \"gridcolor\": \"white\", \"linecolor\": \"white\", \"minorgridcolor\": \"white\", \"startlinecolor\": \"#2a3f5f\"}, \"type\": \"carpet\"}], \"choropleth\": [{\"colorbar\": {\"outlinewidth\": 0, \"ticks\": \"\"}, \"type\": \"choropleth\"}], \"contour\": [{\"colorbar\": {\"outlinewidth\": 0, \"ticks\": \"\"}, \"colorscale\": [[0.0, \"#0d0887\"], [0.1111111111111111, \"#46039f\"], [0.2222222222222222, \"#7201a8\"], [0.3333333333333333, \"#9c179e\"], [0.4444444444444444, \"#bd3786\"], [0.5555555555555556, \"#d8576b\"], [0.6666666666666666, \"#ed7953\"], [0.7777777777777778, \"#fb9f3a\"], [0.8888888888888888, \"#fdca26\"], [1.0, \"#f0f921\"]], \"type\": \"contour\"}], \"contourcarpet\": [{\"colorbar\": {\"outlinewidth\": 0, \"ticks\": \"\"}, \"type\": \"contourcarpet\"}], \"heatmap\": [{\"colorbar\": {\"outlinewidth\": 0, \"ticks\": \"\"}, \"colorscale\": [[0.0, \"#0d0887\"], [0.1111111111111111, \"#46039f\"], [0.2222222222222222, \"#7201a8\"], [0.3333333333333333, \"#9c179e\"], [0.4444444444444444, \"#bd3786\"], [0.5555555555555556, \"#d8576b\"], [0.6666666666666666, \"#ed7953\"], [0.7777777777777778, \"#fb9f3a\"], [0.8888888888888888, \"#fdca26\"], [1.0, \"#f0f921\"]], \"type\": \"heatmap\"}], \"heatmapgl\": [{\"colorbar\": {\"outlinewidth\": 0, \"ticks\": \"\"}, \"colorscale\": [[0.0, \"#0d0887\"], [0.1111111111111111, \"#46039f\"], [0.2222222222222222, \"#7201a8\"], [0.3333333333333333, \"#9c179e\"], [0.4444444444444444, \"#bd3786\"], [0.5555555555555556, \"#d8576b\"], [0.6666666666666666, \"#ed7953\"], [0.7777777777777778, \"#fb9f3a\"], [0.8888888888888888, \"#fdca26\"], [1.0, \"#f0f921\"]], \"type\": \"heatmapgl\"}], \"histogram\": [{\"marker\": {\"colorbar\": {\"outlinewidth\": 0, \"ticks\": \"\"}}, \"type\": \"histogram\"}], \"histogram2d\": [{\"colorbar\": {\"outlinewidth\": 0, \"ticks\": \"\"}, \"colorscale\": [[0.0, \"#0d0887\"], [0.1111111111111111, \"#46039f\"], [0.2222222222222222, \"#7201a8\"], [0.3333333333333333, \"#9c179e\"], [0.4444444444444444, \"#bd3786\"], [0.5555555555555556, \"#d8576b\"], [0.6666666666666666, \"#ed7953\"], [0.7777777777777778, \"#fb9f3a\"], [0.8888888888888888, \"#fdca26\"], [1.0, \"#f0f921\"]], \"type\": \"histogram2d\"}], \"histogram2dcontour\": [{\"colorbar\": {\"outlinewidth\": 0, \"ticks\": \"\"}, \"colorscale\": [[0.0, \"#0d0887\"], [0.1111111111111111, \"#46039f\"], [0.2222222222222222, \"#7201a8\"], [0.3333333333333333, \"#9c179e\"], [0.4444444444444444, \"#bd3786\"], [0.5555555555555556, \"#d8576b\"], [0.6666666666666666, \"#ed7953\"], [0.7777777777777778, \"#fb9f3a\"], [0.8888888888888888, \"#fdca26\"], [1.0, \"#f0f921\"]], \"type\": \"histogram2dcontour\"}], \"mesh3d\": [{\"colorbar\": {\"outlinewidth\": 0, \"ticks\": \"\"}, \"type\": \"mesh3d\"}], \"parcoords\": [{\"line\": {\"colorbar\": {\"outlinewidth\": 0, \"ticks\": \"\"}}, \"type\": \"parcoords\"}], \"pie\": [{\"automargin\": true, \"type\": \"pie\"}], \"scatter\": [{\"marker\": {\"colorbar\": {\"outlinewidth\": 0, \"ticks\": \"\"}}, \"type\": \"scatter\"}], \"scatter3d\": [{\"line\": {\"colorbar\": {\"outlinewidth\": 0, \"ticks\": \"\"}}, \"marker\": {\"colorbar\": {\"outlinewidth\": 0, \"ticks\": \"\"}}, \"type\": \"scatter3d\"}], \"scattercarpet\": [{\"marker\": {\"colorbar\": {\"outlinewidth\": 0, \"ticks\": \"\"}}, \"type\": \"scattercarpet\"}], \"scattergeo\": [{\"marker\": {\"colorbar\": {\"outlinewidth\": 0, \"ticks\": \"\"}}, \"type\": \"scattergeo\"}], \"scattergl\": [{\"marker\": {\"colorbar\": {\"outlinewidth\": 0, \"ticks\": \"\"}}, \"type\": \"scattergl\"}], \"scattermapbox\": [{\"marker\": {\"colorbar\": {\"outlinewidth\": 0, \"ticks\": \"\"}}, \"type\": \"scattermapbox\"}], \"scatterpolar\": [{\"marker\": {\"colorbar\": {\"outlinewidth\": 0, \"ticks\": \"\"}}, \"type\": \"scatterpolar\"}], \"scatterpolargl\": [{\"marker\": {\"colorbar\": {\"outlinewidth\": 0, \"ticks\": \"\"}}, \"type\": \"scatterpolargl\"}], \"scatterternary\": [{\"marker\": {\"colorbar\": {\"outlinewidth\": 0, \"ticks\": \"\"}}, \"type\": \"scatterternary\"}], \"surface\": [{\"colorbar\": {\"outlinewidth\": 0, \"ticks\": \"\"}, \"colorscale\": [[0.0, \"#0d0887\"], [0.1111111111111111, \"#46039f\"], [0.2222222222222222, \"#7201a8\"], [0.3333333333333333, \"#9c179e\"], [0.4444444444444444, \"#bd3786\"], [0.5555555555555556, \"#d8576b\"], [0.6666666666666666, \"#ed7953\"], [0.7777777777777778, \"#fb9f3a\"], [0.8888888888888888, \"#fdca26\"], [1.0, \"#f0f921\"]], \"type\": \"surface\"}], \"table\": [{\"cells\": {\"fill\": {\"color\": \"#EBF0F8\"}, \"line\": {\"color\": \"white\"}}, \"header\": {\"fill\": {\"color\": \"#C8D4E3\"}, \"line\": {\"color\": \"white\"}}, \"type\": \"table\"}]}, \"layout\": {\"annotationdefaults\": {\"arrowcolor\": \"#2a3f5f\", \"arrowhead\": 0, \"arrowwidth\": 1}, \"autotypenumbers\": \"strict\", \"coloraxis\": {\"colorbar\": {\"outlinewidth\": 0, \"ticks\": \"\"}}, \"colorscale\": {\"diverging\": [[0, \"#8e0152\"], [0.1, \"#c51b7d\"], [0.2, \"#de77ae\"], [0.3, \"#f1b6da\"], [0.4, \"#fde0ef\"], [0.5, \"#f7f7f7\"], [0.6, \"#e6f5d0\"], [0.7, \"#b8e186\"], [0.8, \"#7fbc41\"], [0.9, \"#4d9221\"], [1, \"#276419\"]], \"sequential\": [[0.0, \"#0d0887\"], [0.1111111111111111, \"#46039f\"], [0.2222222222222222, \"#7201a8\"], [0.3333333333333333, \"#9c179e\"], [0.4444444444444444, \"#bd3786\"], [0.5555555555555556, \"#d8576b\"], [0.6666666666666666, \"#ed7953\"], [0.7777777777777778, \"#fb9f3a\"], [0.8888888888888888, \"#fdca26\"], [1.0, \"#f0f921\"]], \"sequentialminus\": [[0.0, \"#0d0887\"], [0.1111111111111111, \"#46039f\"], [0.2222222222222222, \"#7201a8\"], [0.3333333333333333, \"#9c179e\"], [0.4444444444444444, \"#bd3786\"], [0.5555555555555556, \"#d8576b\"], [0.6666666666666666, \"#ed7953\"], [0.7777777777777778, \"#fb9f3a\"], [0.8888888888888888, \"#fdca26\"], [1.0, \"#f0f921\"]]}, \"colorway\": [\"#636efa\", \"#EF553B\", \"#00cc96\", \"#ab63fa\", \"#FFA15A\", \"#19d3f3\", \"#FF6692\", \"#B6E880\", \"#FF97FF\", \"#FECB52\"], \"font\": {\"color\": \"#2a3f5f\"}, \"geo\": {\"bgcolor\": \"white\", \"lakecolor\": \"white\", \"landcolor\": \"#E5ECF6\", \"showlakes\": true, \"showland\": true, \"subunitcolor\": \"white\"}, \"hoverlabel\": {\"align\": \"left\"}, \"hovermode\": \"closest\", \"mapbox\": {\"style\": \"light\"}, \"paper_bgcolor\": \"white\", \"plot_bgcolor\": \"#E5ECF6\", \"polar\": {\"angularaxis\": {\"gridcolor\": \"white\", \"linecolor\": \"white\", \"ticks\": \"\"}, \"bgcolor\": \"#E5ECF6\", \"radialaxis\": {\"gridcolor\": \"white\", \"linecolor\": \"white\", \"ticks\": \"\"}}, \"scene\": {\"xaxis\": {\"backgroundcolor\": \"#E5ECF6\", \"gridcolor\": \"white\", \"gridwidth\": 2, \"linecolor\": \"white\", \"showbackground\": true, \"ticks\": \"\", \"zerolinecolor\": \"white\"}, \"yaxis\": {\"backgroundcolor\": \"#E5ECF6\", \"gridcolor\": \"white\", \"gridwidth\": 2, \"linecolor\": \"white\", \"showbackground\": true, \"ticks\": \"\", \"zerolinecolor\": \"white\"}, \"zaxis\": {\"backgroundcolor\": \"#E5ECF6\", \"gridcolor\": \"white\", \"gridwidth\": 2, \"linecolor\": \"white\", \"showbackground\": true, \"ticks\": \"\", \"zerolinecolor\": \"white\"}}, \"shapedefaults\": {\"line\": {\"color\": \"#2a3f5f\"}}, \"ternary\": {\"aaxis\": {\"gridcolor\": \"white\", \"linecolor\": \"white\", \"ticks\": \"\"}, \"baxis\": {\"gridcolor\": \"white\", \"linecolor\": \"white\", \"ticks\": \"\"}, \"bgcolor\": \"#E5ECF6\", \"caxis\": {\"gridcolor\": \"white\", \"linecolor\": \"white\", \"ticks\": \"\"}}, \"title\": {\"x\": 0.05}, \"xaxis\": {\"automargin\": true, \"gridcolor\": \"white\", \"linecolor\": \"white\", \"ticks\": \"\", \"title\": {\"standoff\": 15}, \"zerolinecolor\": \"white\", \"zerolinewidth\": 2}, \"yaxis\": {\"automargin\": true, \"gridcolor\": \"white\", \"linecolor\": \"white\", \"ticks\": \"\", \"title\": {\"standoff\": 15}, \"zerolinecolor\": \"white\", \"zerolinewidth\": 2}}}, \"xaxis\": {\"anchor\": \"y\", \"domain\": [0.0, 1.0], \"tickangle\": 45, \"title\": {\"text\": \"index\"}}, \"yaxis\": {\"anchor\": \"x\", \"domain\": [0.0, 1.0], \"title\": {\"text\": \"Dual\"}}},                        {\"responsive\": true}                    ).then(function(){\n                            \nvar gd = document.getElementById('8e2e9640-e86f-4bf0-894b-33e16b546a45');\nvar x = new MutationObserver(function (mutations, observer) {{\n        var display = window.getComputedStyle(gd).display;\n        if (!display || display === 'none') {{\n            console.log([gd, 'removed!']);\n            Plotly.purge(gd);\n            observer.disconnect();\n        }}\n}});\n\n// Listen for the removal of the full notebook cells\nvar notebookContainer = gd.closest('#notebook-container');\nif (notebookContainer) {{\n    x.observe(notebookContainer, {childList: true});\n}}\n\n// Listen for the clearing of the current output cell\nvar outputEl = gd.closest('.output');\nif (outputEl) {{\n    x.observe(outputEl, {childList: true});\n}}\n\n                        })                };                            </script>        </div>\n</body>\n</html>"
     },
     "metadata": {},
     "output_type": "display_data"
    }
   ]
  },
  {
   "cell_type": "markdown",
   "source": "`Internet` column (Internet is a dummy with 1 if it is an internet-based  company)",
   "metadata": {
    "tags": [],
    "cell_id": "00012-a7be1d6d-c06f-4a6a-8196-02bd7ccf0a88",
    "deepnote_cell_type": "markdown"
   }
  },
  {
   "cell_type": "code",
   "metadata": {
    "tags": [],
    "cell_id": "00020-ece02b7f-d764-4367-b3b7-fa1ad3c61f88",
    "deepnote_to_be_reexecuted": false,
    "source_hash": "5c87c4a6",
    "execution_start": 1625240800703,
    "execution_millis": 183,
    "deepnote_cell_type": "code"
   },
   "source": "temp = nasdaq_fintech_comp['Internet'].value_counts().to_frame()\nfig = px.bar(temp, x=temp.index, y='Internet')\nfig.update_xaxes(tickangle=45)",
   "execution_count": null,
   "outputs": [
    {
     "data": {
      "text/html": "<html>\n<head><meta charset=\"utf-8\" /></head>\n<body>\n    <div>            <script src=\"https://cdnjs.cloudflare.com/ajax/libs/mathjax/2.7.5/MathJax.js?config=TeX-AMS-MML_SVG\"></script><script type=\"text/javascript\">if (window.MathJax) {MathJax.Hub.Config({SVG: {font: \"STIX-Web\"}});}</script>                <script type=\"text/javascript\">window.PlotlyConfig = {MathJaxConfig: 'local'};</script>\n        <script src=\"https://cdn.plot.ly/plotly-latest.min.js\"></script>                <div id=\"6a1603a8-478c-4c4c-af96-07af42b298b8\" class=\"plotly-graph-div\" style=\"height:525px; width:100%;\"></div>            <script type=\"text/javascript\">                                    window.PLOTLYENV=window.PLOTLYENV || {};                                    if (document.getElementById(\"6a1603a8-478c-4c4c-af96-07af42b298b8\")) {                    Plotly.newPlot(                        \"6a1603a8-478c-4c4c-af96-07af42b298b8\",                        [{\"alignmentgroup\": \"True\", \"hovertemplate\": \"index=%{x}<br>Internet=%{y}<extra></extra>\", \"legendgroup\": \"\", \"marker\": {\"color\": \"#636efa\"}, \"name\": \"\", \"offsetgroup\": \"\", \"orientation\": \"v\", \"showlegend\": false, \"textposition\": \"auto\", \"type\": \"bar\", \"x\": [0, 1], \"xaxis\": \"x\", \"y\": [32, 9], \"yaxis\": \"y\"}],                        {\"barmode\": \"relative\", \"legend\": {\"tracegroupgap\": 0}, \"margin\": {\"t\": 60}, \"template\": {\"data\": {\"bar\": [{\"error_x\": {\"color\": \"#2a3f5f\"}, \"error_y\": {\"color\": \"#2a3f5f\"}, \"marker\": {\"line\": {\"color\": \"#E5ECF6\", \"width\": 0.5}}, \"type\": \"bar\"}], \"barpolar\": [{\"marker\": {\"line\": {\"color\": \"#E5ECF6\", \"width\": 0.5}}, \"type\": \"barpolar\"}], \"carpet\": [{\"aaxis\": {\"endlinecolor\": \"#2a3f5f\", \"gridcolor\": \"white\", \"linecolor\": \"white\", \"minorgridcolor\": \"white\", \"startlinecolor\": \"#2a3f5f\"}, \"baxis\": {\"endlinecolor\": \"#2a3f5f\", \"gridcolor\": \"white\", \"linecolor\": \"white\", \"minorgridcolor\": \"white\", \"startlinecolor\": \"#2a3f5f\"}, \"type\": \"carpet\"}], \"choropleth\": [{\"colorbar\": {\"outlinewidth\": 0, \"ticks\": \"\"}, \"type\": \"choropleth\"}], \"contour\": [{\"colorbar\": {\"outlinewidth\": 0, \"ticks\": \"\"}, \"colorscale\": [[0.0, \"#0d0887\"], [0.1111111111111111, \"#46039f\"], [0.2222222222222222, \"#7201a8\"], [0.3333333333333333, \"#9c179e\"], [0.4444444444444444, \"#bd3786\"], [0.5555555555555556, \"#d8576b\"], [0.6666666666666666, \"#ed7953\"], [0.7777777777777778, \"#fb9f3a\"], [0.8888888888888888, \"#fdca26\"], [1.0, \"#f0f921\"]], \"type\": \"contour\"}], \"contourcarpet\": [{\"colorbar\": {\"outlinewidth\": 0, \"ticks\": \"\"}, \"type\": \"contourcarpet\"}], \"heatmap\": [{\"colorbar\": {\"outlinewidth\": 0, \"ticks\": \"\"}, \"colorscale\": [[0.0, \"#0d0887\"], [0.1111111111111111, \"#46039f\"], [0.2222222222222222, \"#7201a8\"], [0.3333333333333333, \"#9c179e\"], [0.4444444444444444, \"#bd3786\"], [0.5555555555555556, \"#d8576b\"], [0.6666666666666666, \"#ed7953\"], [0.7777777777777778, \"#fb9f3a\"], [0.8888888888888888, \"#fdca26\"], [1.0, \"#f0f921\"]], \"type\": \"heatmap\"}], \"heatmapgl\": [{\"colorbar\": {\"outlinewidth\": 0, \"ticks\": \"\"}, \"colorscale\": [[0.0, \"#0d0887\"], [0.1111111111111111, \"#46039f\"], [0.2222222222222222, \"#7201a8\"], [0.3333333333333333, \"#9c179e\"], [0.4444444444444444, \"#bd3786\"], [0.5555555555555556, \"#d8576b\"], [0.6666666666666666, \"#ed7953\"], [0.7777777777777778, \"#fb9f3a\"], [0.8888888888888888, \"#fdca26\"], [1.0, \"#f0f921\"]], \"type\": \"heatmapgl\"}], \"histogram\": [{\"marker\": {\"colorbar\": {\"outlinewidth\": 0, \"ticks\": \"\"}}, \"type\": \"histogram\"}], \"histogram2d\": [{\"colorbar\": {\"outlinewidth\": 0, \"ticks\": \"\"}, \"colorscale\": [[0.0, \"#0d0887\"], [0.1111111111111111, \"#46039f\"], [0.2222222222222222, \"#7201a8\"], [0.3333333333333333, \"#9c179e\"], [0.4444444444444444, \"#bd3786\"], [0.5555555555555556, \"#d8576b\"], [0.6666666666666666, \"#ed7953\"], [0.7777777777777778, \"#fb9f3a\"], [0.8888888888888888, \"#fdca26\"], [1.0, \"#f0f921\"]], \"type\": \"histogram2d\"}], \"histogram2dcontour\": [{\"colorbar\": {\"outlinewidth\": 0, \"ticks\": \"\"}, \"colorscale\": [[0.0, \"#0d0887\"], [0.1111111111111111, \"#46039f\"], [0.2222222222222222, \"#7201a8\"], [0.3333333333333333, \"#9c179e\"], [0.4444444444444444, \"#bd3786\"], [0.5555555555555556, \"#d8576b\"], [0.6666666666666666, \"#ed7953\"], [0.7777777777777778, \"#fb9f3a\"], [0.8888888888888888, \"#fdca26\"], [1.0, \"#f0f921\"]], \"type\": \"histogram2dcontour\"}], \"mesh3d\": [{\"colorbar\": {\"outlinewidth\": 0, \"ticks\": \"\"}, \"type\": \"mesh3d\"}], \"parcoords\": [{\"line\": {\"colorbar\": {\"outlinewidth\": 0, \"ticks\": \"\"}}, \"type\": \"parcoords\"}], \"pie\": [{\"automargin\": true, \"type\": \"pie\"}], \"scatter\": [{\"marker\": {\"colorbar\": {\"outlinewidth\": 0, \"ticks\": \"\"}}, \"type\": \"scatter\"}], \"scatter3d\": [{\"line\": {\"colorbar\": {\"outlinewidth\": 0, \"ticks\": \"\"}}, \"marker\": {\"colorbar\": {\"outlinewidth\": 0, \"ticks\": \"\"}}, \"type\": \"scatter3d\"}], \"scattercarpet\": [{\"marker\": {\"colorbar\": {\"outlinewidth\": 0, \"ticks\": \"\"}}, \"type\": \"scattercarpet\"}], \"scattergeo\": [{\"marker\": {\"colorbar\": {\"outlinewidth\": 0, \"ticks\": \"\"}}, \"type\": \"scattergeo\"}], \"scattergl\": [{\"marker\": {\"colorbar\": {\"outlinewidth\": 0, \"ticks\": \"\"}}, \"type\": \"scattergl\"}], \"scattermapbox\": [{\"marker\": {\"colorbar\": {\"outlinewidth\": 0, \"ticks\": \"\"}}, \"type\": \"scattermapbox\"}], \"scatterpolar\": [{\"marker\": {\"colorbar\": {\"outlinewidth\": 0, \"ticks\": \"\"}}, \"type\": \"scatterpolar\"}], \"scatterpolargl\": [{\"marker\": {\"colorbar\": {\"outlinewidth\": 0, \"ticks\": \"\"}}, \"type\": \"scatterpolargl\"}], \"scatterternary\": [{\"marker\": {\"colorbar\": {\"outlinewidth\": 0, \"ticks\": \"\"}}, \"type\": \"scatterternary\"}], \"surface\": [{\"colorbar\": {\"outlinewidth\": 0, \"ticks\": \"\"}, \"colorscale\": [[0.0, \"#0d0887\"], [0.1111111111111111, \"#46039f\"], [0.2222222222222222, \"#7201a8\"], [0.3333333333333333, \"#9c179e\"], [0.4444444444444444, \"#bd3786\"], [0.5555555555555556, \"#d8576b\"], [0.6666666666666666, \"#ed7953\"], [0.7777777777777778, \"#fb9f3a\"], [0.8888888888888888, \"#fdca26\"], [1.0, \"#f0f921\"]], \"type\": \"surface\"}], \"table\": [{\"cells\": {\"fill\": {\"color\": \"#EBF0F8\"}, \"line\": {\"color\": \"white\"}}, \"header\": {\"fill\": {\"color\": \"#C8D4E3\"}, \"line\": {\"color\": \"white\"}}, \"type\": \"table\"}]}, \"layout\": {\"annotationdefaults\": {\"arrowcolor\": \"#2a3f5f\", \"arrowhead\": 0, \"arrowwidth\": 1}, \"autotypenumbers\": \"strict\", \"coloraxis\": {\"colorbar\": {\"outlinewidth\": 0, \"ticks\": \"\"}}, \"colorscale\": {\"diverging\": [[0, \"#8e0152\"], [0.1, \"#c51b7d\"], [0.2, \"#de77ae\"], [0.3, \"#f1b6da\"], [0.4, \"#fde0ef\"], [0.5, \"#f7f7f7\"], [0.6, \"#e6f5d0\"], [0.7, \"#b8e186\"], [0.8, \"#7fbc41\"], [0.9, \"#4d9221\"], [1, \"#276419\"]], \"sequential\": [[0.0, \"#0d0887\"], [0.1111111111111111, \"#46039f\"], [0.2222222222222222, \"#7201a8\"], [0.3333333333333333, \"#9c179e\"], [0.4444444444444444, \"#bd3786\"], [0.5555555555555556, \"#d8576b\"], [0.6666666666666666, \"#ed7953\"], [0.7777777777777778, \"#fb9f3a\"], [0.8888888888888888, \"#fdca26\"], [1.0, \"#f0f921\"]], \"sequentialminus\": [[0.0, \"#0d0887\"], [0.1111111111111111, \"#46039f\"], [0.2222222222222222, \"#7201a8\"], [0.3333333333333333, \"#9c179e\"], [0.4444444444444444, \"#bd3786\"], [0.5555555555555556, \"#d8576b\"], [0.6666666666666666, \"#ed7953\"], [0.7777777777777778, \"#fb9f3a\"], [0.8888888888888888, \"#fdca26\"], [1.0, \"#f0f921\"]]}, \"colorway\": [\"#636efa\", \"#EF553B\", \"#00cc96\", \"#ab63fa\", \"#FFA15A\", \"#19d3f3\", \"#FF6692\", \"#B6E880\", \"#FF97FF\", \"#FECB52\"], \"font\": {\"color\": \"#2a3f5f\"}, \"geo\": {\"bgcolor\": \"white\", \"lakecolor\": \"white\", \"landcolor\": \"#E5ECF6\", \"showlakes\": true, \"showland\": true, \"subunitcolor\": \"white\"}, \"hoverlabel\": {\"align\": \"left\"}, \"hovermode\": \"closest\", \"mapbox\": {\"style\": \"light\"}, \"paper_bgcolor\": \"white\", \"plot_bgcolor\": \"#E5ECF6\", \"polar\": {\"angularaxis\": {\"gridcolor\": \"white\", \"linecolor\": \"white\", \"ticks\": \"\"}, \"bgcolor\": \"#E5ECF6\", \"radialaxis\": {\"gridcolor\": \"white\", \"linecolor\": \"white\", \"ticks\": \"\"}}, \"scene\": {\"xaxis\": {\"backgroundcolor\": \"#E5ECF6\", \"gridcolor\": \"white\", \"gridwidth\": 2, \"linecolor\": \"white\", \"showbackground\": true, \"ticks\": \"\", \"zerolinecolor\": \"white\"}, \"yaxis\": {\"backgroundcolor\": \"#E5ECF6\", \"gridcolor\": \"white\", \"gridwidth\": 2, \"linecolor\": \"white\", \"showbackground\": true, \"ticks\": \"\", \"zerolinecolor\": \"white\"}, \"zaxis\": {\"backgroundcolor\": \"#E5ECF6\", \"gridcolor\": \"white\", \"gridwidth\": 2, \"linecolor\": \"white\", \"showbackground\": true, \"ticks\": \"\", \"zerolinecolor\": \"white\"}}, \"shapedefaults\": {\"line\": {\"color\": \"#2a3f5f\"}}, \"ternary\": {\"aaxis\": {\"gridcolor\": \"white\", \"linecolor\": \"white\", \"ticks\": \"\"}, \"baxis\": {\"gridcolor\": \"white\", \"linecolor\": \"white\", \"ticks\": \"\"}, \"bgcolor\": \"#E5ECF6\", \"caxis\": {\"gridcolor\": \"white\", \"linecolor\": \"white\", \"ticks\": \"\"}}, \"title\": {\"x\": 0.05}, \"xaxis\": {\"automargin\": true, \"gridcolor\": \"white\", \"linecolor\": \"white\", \"ticks\": \"\", \"title\": {\"standoff\": 15}, \"zerolinecolor\": \"white\", \"zerolinewidth\": 2}, \"yaxis\": {\"automargin\": true, \"gridcolor\": \"white\", \"linecolor\": \"white\", \"ticks\": \"\", \"title\": {\"standoff\": 15}, \"zerolinecolor\": \"white\", \"zerolinewidth\": 2}}}, \"xaxis\": {\"anchor\": \"y\", \"domain\": [0.0, 1.0], \"tickangle\": 45, \"title\": {\"text\": \"index\"}}, \"yaxis\": {\"anchor\": \"x\", \"domain\": [0.0, 1.0], \"title\": {\"text\": \"Internet\"}}},                        {\"responsive\": true}                    ).then(function(){\n                            \nvar gd = document.getElementById('6a1603a8-478c-4c4c-af96-07af42b298b8');\nvar x = new MutationObserver(function (mutations, observer) {{\n        var display = window.getComputedStyle(gd).display;\n        if (!display || display === 'none') {{\n            console.log([gd, 'removed!']);\n            Plotly.purge(gd);\n            observer.disconnect();\n        }}\n}});\n\n// Listen for the removal of the full notebook cells\nvar notebookContainer = gd.closest('#notebook-container');\nif (notebookContainer) {{\n    x.observe(notebookContainer, {childList: true});\n}}\n\n// Listen for the clearing of the current output cell\nvar outputEl = gd.closest('.output');\nif (outputEl) {{\n    x.observe(outputEl, {childList: true});\n}}\n\n                        })                };                            </script>        </div>\n</body>\n</html>"
     },
     "metadata": {},
     "output_type": "display_data"
    }
   ]
  },
  {
   "cell_type": "markdown",
   "source": "### Load public companies in the financial sector",
   "metadata": {
    "tags": [],
    "cell_id": "00007-2c7bbca0-07a4-4c66-a1ac-b1840b4f85aa",
    "deepnote_cell_type": "markdown"
   }
  },
  {
   "cell_type": "code",
   "metadata": {
    "tags": [],
    "cell_id": "00009-89f4d389-4ffc-435c-83cf-7d942c55c19a",
    "deepnote_to_be_reexecuted": false,
    "source_hash": "16d80987",
    "execution_start": 1625240800946,
    "execution_millis": 116,
    "deepnote_cell_type": "code"
   },
   "source": "public_financial = pd.read_csv('public_fintech.csv')\npublic_financial.head()",
   "execution_count": null,
   "outputs": [
    {
     "output_type": "execute_result",
     "execution_count": 13,
     "data": {
      "application/vnd.deepnote.dataframe.v2+json": {
       "row_count": 5,
       "column_count": 34,
       "columns": [
        {
         "name": "Company",
         "dtype": "object",
         "stats": {
          "unique_count": 5,
          "nan_count": 0,
          "categories": [
           {
            "name": "AXA Equitable Holdings",
            "count": 1
           },
           {
            "name": "Affiliated Managers Group",
            "count": 1
           },
           {
            "name": "3 others",
            "count": 3
           }
          ]
         }
        },
        {
         "name": "URL",
         "dtype": "object",
         "stats": {
          "unique_count": 4,
          "nan_count": 1,
          "categories": [
           {
            "name": "http://www.amg.com",
            "count": 1
           },
           {
            "name": "3 others",
            "count": 3
           },
           {
            "name": "Missing",
            "count": 1
           }
          ]
         }
        },
        {
         "name": "Company Description",
         "dtype": "object",
         "stats": {
          "unique_count": 5,
          "nan_count": 0,
          "categories": [
           {
            "name": "AXA Equitable is the US subsidiary of AXA.",
            "count": 1
           },
           {
            "name": "Affiliated Managers Group (NYSE: AMG) is a global asset management company with equity investments in leading boutique investment management firms. AMG's innovative partnership approach allows each Affiliate's management team to own significant equity in their firm while maintaining operational autonomy. AMG's strategy is to generate growth through the internal growth of existing Affiliates, as well as through investments in new Affiliates. In addition, AMG provides centralized assistance to its Affiliates in strategic matters, marketing, distribution, product development and operations.",
            "count": 1
           },
           {
            "name": "3 others",
            "count": 3
           }
          ]
         }
        },
        {
         "name": "All Investors",
         "dtype": "object",
         "stats": {
          "unique_count": 1,
          "nan_count": 0,
          "categories": [
           {
            "name": "Public",
            "count": 5
           }
          ]
         }
        },
        {
         "name": "Total Funding",
         "dtype": "float64",
         "stats": {
          "unique_count": 0,
          "nan_count": 5,
          "min": null,
          "max": null,
          "histogram": [
           {
            "bin_start": 0,
            "bin_end": 0.1,
            "count": 0
           },
           {
            "bin_start": 0.1,
            "bin_end": 0.2,
            "count": 0
           },
           {
            "bin_start": 0.2,
            "bin_end": 0.30000000000000004,
            "count": 0
           },
           {
            "bin_start": 0.30000000000000004,
            "bin_end": 0.4,
            "count": 0
           },
           {
            "bin_start": 0.4,
            "bin_end": 0.5,
            "count": 0
           },
           {
            "bin_start": 0.5,
            "bin_end": 0.6000000000000001,
            "count": 0
           },
           {
            "bin_start": 0.6000000000000001,
            "bin_end": 0.7000000000000001,
            "count": 0
           },
           {
            "bin_start": 0.7000000000000001,
            "bin_end": 0.8,
            "count": 0
           },
           {
            "bin_start": 0.8,
            "bin_end": 0.9,
            "count": 0
           },
           {
            "bin_start": 0.9,
            "bin_end": 1,
            "count": 0
           }
          ]
         }
        },
        {
         "name": "Sector",
         "dtype": "object",
         "stats": {
          "unique_count": 1,
          "nan_count": 0,
          "categories": [
           {
            "name": "Financial",
            "count": 5
           }
          ]
         }
        },
        {
         "name": "Industry",
         "dtype": "object",
         "stats": {
          "unique_count": 4,
          "nan_count": 0,
          "categories": [
           {
            "name": "Asset/Financial Management",
            "count": 2
           },
           {
            "name": "Retail Banking",
            "count": 1
           },
           {
            "name": "2 others",
            "count": 2
           }
          ]
         }
        },
        {
         "name": "Sub-Industry",
         "dtype": "object",
         "stats": {
          "unique_count": 2,
          "nan_count": 3,
          "categories": [
           {
            "name": "Consumer",
            "count": 1
           },
           {
            "name": "REITs",
            "count": 1
           },
           {
            "name": "Missing",
            "count": 3
           }
          ]
         }
        },
        {
         "name": "Country",
         "dtype": "object",
         "stats": {
          "unique_count": 1,
          "nan_count": 0,
          "categories": [
           {
            "name": "United States",
            "count": 5
           }
          ]
         }
        },
        {
         "name": "State",
         "dtype": "object",
         "stats": {
          "unique_count": 5,
          "nan_count": 0,
          "categories": [
           {
            "name": "New York",
            "count": 1
           },
           {
            "name": "Massachusetts",
            "count": 1
           },
           {
            "name": "3 others",
            "count": 3
           }
          ]
         }
        },
        {
         "name": "City",
         "dtype": "object",
         "stats": {
          "unique_count": 5,
          "nan_count": 0,
          "categories": [
           {
            "name": "New York",
            "count": 1
           },
           {
            "name": "Prides Crossing",
            "count": 1
           },
           {
            "name": "3 others",
            "count": 3
           }
          ]
         }
        },
        {
         "name": "VC Backed",
         "dtype": "float64",
         "stats": {
          "unique_count": 0,
          "nan_count": 5,
          "min": null,
          "max": null,
          "histogram": [
           {
            "bin_start": 0,
            "bin_end": 0.1,
            "count": 0
           },
           {
            "bin_start": 0.1,
            "bin_end": 0.2,
            "count": 0
           },
           {
            "bin_start": 0.2,
            "bin_end": 0.30000000000000004,
            "count": 0
           },
           {
            "bin_start": 0.30000000000000004,
            "bin_end": 0.4,
            "count": 0
           },
           {
            "bin_start": 0.4,
            "bin_end": 0.5,
            "count": 0
           },
           {
            "bin_start": 0.5,
            "bin_end": 0.6000000000000001,
            "count": 0
           },
           {
            "bin_start": 0.6000000000000001,
            "bin_end": 0.7000000000000001,
            "count": 0
           },
           {
            "bin_start": 0.7000000000000001,
            "bin_end": 0.8,
            "count": 0
           },
           {
            "bin_start": 0.8,
            "bin_end": 0.9,
            "count": 0
           },
           {
            "bin_start": 0.9,
            "bin_end": 1,
            "count": 0
           }
          ]
         }
        },
        {
         "name": "Exit Round",
         "dtype": "object",
         "stats": {
          "unique_count": 1,
          "nan_count": 0,
          "categories": [
           {
            "name": "IPO",
            "count": 5
           }
          ]
         }
        },
        {
         "name": "Exit Date",
         "dtype": "object",
         "stats": {
          "unique_count": 5,
          "nan_count": 0,
          "categories": [
           {
            "name": "2018-05-10",
            "count": 1
           },
           {
            "name": "1997-11-21",
            "count": 1
           },
           {
            "name": "3 others",
            "count": 3
           }
          ]
         }
        },
        {
         "name": "Last Funding Round",
         "dtype": "float64",
         "stats": {
          "unique_count": 0,
          "nan_count": 5,
          "min": null,
          "max": null,
          "histogram": [
           {
            "bin_start": 0,
            "bin_end": 0.1,
            "count": 0
           },
           {
            "bin_start": 0.1,
            "bin_end": 0.2,
            "count": 0
           },
           {
            "bin_start": 0.2,
            "bin_end": 0.30000000000000004,
            "count": 0
           },
           {
            "bin_start": 0.30000000000000004,
            "bin_end": 0.4,
            "count": 0
           },
           {
            "bin_start": 0.4,
            "bin_end": 0.5,
            "count": 0
           },
           {
            "bin_start": 0.5,
            "bin_end": 0.6000000000000001,
            "count": 0
           },
           {
            "bin_start": 0.6000000000000001,
            "bin_end": 0.7000000000000001,
            "count": 0
           },
           {
            "bin_start": 0.7000000000000001,
            "bin_end": 0.8,
            "count": 0
           },
           {
            "bin_start": 0.8,
            "bin_end": 0.9,
            "count": 0
           },
           {
            "bin_start": 0.9,
            "bin_end": 1,
            "count": 0
           }
          ]
         }
        },
        {
         "name": "Last Funding Date",
         "dtype": "float64",
         "stats": {
          "unique_count": 0,
          "nan_count": 5,
          "min": null,
          "max": null,
          "histogram": [
           {
            "bin_start": 0,
            "bin_end": 0.1,
            "count": 0
           },
           {
            "bin_start": 0.1,
            "bin_end": 0.2,
            "count": 0
           },
           {
            "bin_start": 0.2,
            "bin_end": 0.30000000000000004,
            "count": 0
           },
           {
            "bin_start": 0.30000000000000004,
            "bin_end": 0.4,
            "count": 0
           },
           {
            "bin_start": 0.4,
            "bin_end": 0.5,
            "count": 0
           },
           {
            "bin_start": 0.5,
            "bin_end": 0.6000000000000001,
            "count": 0
           },
           {
            "bin_start": 0.6000000000000001,
            "bin_end": 0.7000000000000001,
            "count": 0
           },
           {
            "bin_start": 0.7000000000000001,
            "bin_end": 0.8,
            "count": 0
           },
           {
            "bin_start": 0.8,
            "bin_end": 0.9,
            "count": 0
           },
           {
            "bin_start": 0.9,
            "bin_end": 1,
            "count": 0
           }
          ]
         }
        },
        {
         "name": "Last Funding Amount",
         "dtype": "float64",
         "stats": {
          "unique_count": 0,
          "nan_count": 5,
          "min": null,
          "max": null,
          "histogram": [
           {
            "bin_start": 0,
            "bin_end": 0.1,
            "count": 0
           },
           {
            "bin_start": 0.1,
            "bin_end": 0.2,
            "count": 0
           },
           {
            "bin_start": 0.2,
            "bin_end": 0.30000000000000004,
            "count": 0
           },
           {
            "bin_start": 0.30000000000000004,
            "bin_end": 0.4,
            "count": 0
           },
           {
            "bin_start": 0.4,
            "bin_end": 0.5,
            "count": 0
           },
           {
            "bin_start": 0.5,
            "bin_end": 0.6000000000000001,
            "count": 0
           },
           {
            "bin_start": 0.6000000000000001,
            "bin_end": 0.7000000000000001,
            "count": 0
           },
           {
            "bin_start": 0.7000000000000001,
            "bin_end": 0.8,
            "count": 0
           },
           {
            "bin_start": 0.8,
            "bin_end": 0.9,
            "count": 0
           },
           {
            "bin_start": 0.9,
            "bin_end": 1,
            "count": 0
           }
          ]
         }
        },
        {
         "name": "Last Funding Simplified Round",
         "dtype": "float64",
         "stats": {
          "unique_count": 0,
          "nan_count": 5,
          "min": null,
          "max": null,
          "histogram": [
           {
            "bin_start": 0,
            "bin_end": 0.1,
            "count": 0
           },
           {
            "bin_start": 0.1,
            "bin_end": 0.2,
            "count": 0
           },
           {
            "bin_start": 0.2,
            "bin_end": 0.30000000000000004,
            "count": 0
           },
           {
            "bin_start": 0.30000000000000004,
            "bin_end": 0.4,
            "count": 0
           },
           {
            "bin_start": 0.4,
            "bin_end": 0.5,
            "count": 0
           },
           {
            "bin_start": 0.5,
            "bin_end": 0.6000000000000001,
            "count": 0
           },
           {
            "bin_start": 0.6000000000000001,
            "bin_end": 0.7000000000000001,
            "count": 0
           },
           {
            "bin_start": 0.7000000000000001,
            "bin_end": 0.8,
            "count": 0
           },
           {
            "bin_start": 0.8,
            "bin_end": 0.9,
            "count": 0
           },
           {
            "bin_start": 0.9,
            "bin_end": 1,
            "count": 0
           }
          ]
         }
        },
        {
         "name": "Last Funding Investors",
         "dtype": "float64",
         "stats": {
          "unique_count": 0,
          "nan_count": 5,
          "min": null,
          "max": null,
          "histogram": [
           {
            "bin_start": 0,
            "bin_end": 0.1,
            "count": 0
           },
           {
            "bin_start": 0.1,
            "bin_end": 0.2,
            "count": 0
           },
           {
            "bin_start": 0.2,
            "bin_end": 0.30000000000000004,
            "count": 0
           },
           {
            "bin_start": 0.30000000000000004,
            "bin_end": 0.4,
            "count": 0
           },
           {
            "bin_start": 0.4,
            "bin_end": 0.5,
            "count": 0
           },
           {
            "bin_start": 0.5,
            "bin_end": 0.6000000000000001,
            "count": 0
           },
           {
            "bin_start": 0.6000000000000001,
            "bin_end": 0.7000000000000001,
            "count": 0
           },
           {
            "bin_start": 0.7000000000000001,
            "bin_end": 0.8,
            "count": 0
           },
           {
            "bin_start": 0.8,
            "bin_end": 0.9,
            "count": 0
           },
           {
            "bin_start": 0.9,
            "bin_end": 1,
            "count": 0
           }
          ]
         }
        },
        {
         "name": "Min Valuation",
         "dtype": "float64",
         "stats": {
          "unique_count": 4,
          "nan_count": 1,
          "min": "173.0",
          "max": "12037.52",
          "histogram": [
           {
            "bin_start": 173,
            "bin_end": 1359.452,
            "count": 3
           },
           {
            "bin_start": 1359.452,
            "bin_end": 2545.904,
            "count": 0
           },
           {
            "bin_start": 2545.904,
            "bin_end": 3732.3559999999998,
            "count": 0
           },
           {
            "bin_start": 3732.3559999999998,
            "bin_end": 4918.808,
            "count": 0
           },
           {
            "bin_start": 4918.808,
            "bin_end": 6105.26,
            "count": 0
           },
           {
            "bin_start": 6105.26,
            "bin_end": 7291.7119999999995,
            "count": 0
           },
           {
            "bin_start": 7291.7119999999995,
            "bin_end": 8478.164,
            "count": 0
           },
           {
            "bin_start": 8478.164,
            "bin_end": 9664.616,
            "count": 0
           },
           {
            "bin_start": 9664.616,
            "bin_end": 10851.068,
            "count": 0
           },
           {
            "bin_start": 10851.068,
            "bin_end": 12037.52,
            "count": 1
           }
          ]
         }
        },
        {
         "name": "Max Valuation",
         "dtype": "float64",
         "stats": {
          "unique_count": 4,
          "nan_count": 1,
          "min": "173.0",
          "max": "12037.52",
          "histogram": [
           {
            "bin_start": 173,
            "bin_end": 1359.452,
            "count": 3
           },
           {
            "bin_start": 1359.452,
            "bin_end": 2545.904,
            "count": 0
           },
           {
            "bin_start": 2545.904,
            "bin_end": 3732.3559999999998,
            "count": 0
           },
           {
            "bin_start": 3732.3559999999998,
            "bin_end": 4918.808,
            "count": 0
           },
           {
            "bin_start": 4918.808,
            "bin_end": 6105.26,
            "count": 0
           },
           {
            "bin_start": 6105.26,
            "bin_end": 7291.7119999999995,
            "count": 0
           },
           {
            "bin_start": 7291.7119999999995,
            "bin_end": 8478.164,
            "count": 0
           },
           {
            "bin_start": 8478.164,
            "bin_end": 9664.616,
            "count": 0
           },
           {
            "bin_start": 9664.616,
            "bin_end": 10851.068,
            "count": 0
           },
           {
            "bin_start": 10851.068,
            "bin_end": 12037.52,
            "count": 1
           }
          ]
         }
        },
        {
         "name": "Min Price/Sales Ratio",
         "dtype": "float64",
         "stats": {
          "unique_count": 2,
          "nan_count": 3,
          "min": "1.2222073306935",
          "max": "5.8677462887989",
          "histogram": [
           {
            "bin_start": 1.2222073306935,
            "bin_end": 1.68676122650404,
            "count": 1
           },
           {
            "bin_start": 1.68676122650404,
            "bin_end": 2.15131512231458,
            "count": 0
           },
           {
            "bin_start": 2.15131512231458,
            "bin_end": 2.61586901812512,
            "count": 0
           },
           {
            "bin_start": 2.61586901812512,
            "bin_end": 3.08042291393566,
            "count": 0
           },
           {
            "bin_start": 3.08042291393566,
            "bin_end": 3.5449768097462,
            "count": 0
           },
           {
            "bin_start": 3.5449768097462,
            "bin_end": 4.00953070555674,
            "count": 0
           },
           {
            "bin_start": 4.00953070555674,
            "bin_end": 4.47408460136728,
            "count": 0
           },
           {
            "bin_start": 4.47408460136728,
            "bin_end": 4.93863849717782,
            "count": 0
           },
           {
            "bin_start": 4.93863849717782,
            "bin_end": 5.40319239298836,
            "count": 0
           },
           {
            "bin_start": 5.40319239298836,
            "bin_end": 5.8677462887989,
            "count": 1
           }
          ]
         }
        },
        {
         "name": "Max Price/Sales Ratio",
         "dtype": "float64",
         "stats": {
          "unique_count": 2,
          "nan_count": 3,
          "min": "1.2222073306935",
          "max": "5.8677462887989",
          "histogram": [
           {
            "bin_start": 1.2222073306935,
            "bin_end": 1.68676122650404,
            "count": 1
           },
           {
            "bin_start": 1.68676122650404,
            "bin_end": 2.15131512231458,
            "count": 0
           },
           {
            "bin_start": 2.15131512231458,
            "bin_end": 2.61586901812512,
            "count": 0
           },
           {
            "bin_start": 2.61586901812512,
            "bin_end": 3.08042291393566,
            "count": 0
           },
           {
            "bin_start": 3.08042291393566,
            "bin_end": 3.5449768097462,
            "count": 0
           },
           {
            "bin_start": 3.5449768097462,
            "bin_end": 4.00953070555674,
            "count": 0
           },
           {
            "bin_start": 4.00953070555674,
            "bin_end": 4.47408460136728,
            "count": 0
           },
           {
            "bin_start": 4.47408460136728,
            "bin_end": 4.93863849717782,
            "count": 0
           },
           {
            "bin_start": 4.93863849717782,
            "bin_end": 5.40319239298836,
            "count": 0
           },
           {
            "bin_start": 5.40319239298836,
            "bin_end": 5.8677462887989,
            "count": 1
           }
          ]
         }
        },
        {
         "name": "Ticker",
         "dtype": "object",
         "stats": {
          "unique_count": 5,
          "nan_count": 0,
          "categories": [
           {
            "name": "EQH",
            "count": 1
           },
           {
            "name": "AMG",
            "count": 1
           },
           {
            "name": "3 others",
            "count": 3
           }
          ]
         }
        },
        {
         "name": "CUSIP",
         "dtype": "object",
         "stats": {
          "unique_count": 5,
          "nan_count": 0,
          "categories": [
           {
            "name": "054561105",
            "count": 1
           },
           {
            "name": "008252108",
            "count": 1
           },
           {
            "name": "3 others",
            "count": 3
           }
          ]
         }
        },
        {
         "name": "offer date",
         "dtype": "int64",
         "stats": {
          "unique_count": 5,
          "nan_count": 0,
          "min": "19971121",
          "max": "20191122",
          "histogram": [
           {
            "bin_start": 19971121,
            "bin_end": 19993121.1,
            "count": 1
           },
           {
            "bin_start": 19993121.1,
            "bin_end": 20015121.2,
            "count": 0
           },
           {
            "bin_start": 20015121.2,
            "bin_end": 20037121.3,
            "count": 0
           },
           {
            "bin_start": 20037121.3,
            "bin_end": 20059121.4,
            "count": 0
           },
           {
            "bin_start": 20059121.4,
            "bin_end": 20081121.5,
            "count": 0
           },
           {
            "bin_start": 20081121.5,
            "bin_end": 20103121.6,
            "count": 0
           },
           {
            "bin_start": 20103121.6,
            "bin_end": 20125121.7,
            "count": 0
           },
           {
            "bin_start": 20125121.7,
            "bin_end": 20147121.8,
            "count": 1
           },
           {
            "bin_start": 20147121.8,
            "bin_end": 20169121.9,
            "count": 1
           },
           {
            "bin_start": 20169121.9,
            "bin_end": 20191122,
            "count": 2
           }
          ]
         }
        },
        {
         "name": "name of IPO",
         "dtype": "object",
         "stats": {
          "unique_count": 5,
          "nan_count": 0,
          "categories": [
           {
            "name": "Axa Equitable Holdings Inc",
            "count": 1
           },
           {
            "name": "Affiliated Managers Group",
            "count": 1
           },
           {
            "name": "3 others",
            "count": 3
           }
          ]
         }
        },
        {
         "name": "VC",
         "dtype": "int64",
         "stats": {
          "unique_count": 2,
          "nan_count": 0,
          "min": "0",
          "max": "2",
          "histogram": [
           {
            "bin_start": 0,
            "bin_end": 0.2,
            "count": 4
           },
           {
            "bin_start": 0.2,
            "bin_end": 0.4,
            "count": 0
           },
           {
            "bin_start": 0.4,
            "bin_end": 0.6000000000000001,
            "count": 0
           },
           {
            "bin_start": 0.6000000000000001,
            "bin_end": 0.8,
            "count": 0
           },
           {
            "bin_start": 0.8,
            "bin_end": 1,
            "count": 0
           },
           {
            "bin_start": 1,
            "bin_end": 1.2000000000000002,
            "count": 0
           },
           {
            "bin_start": 1.2000000000000002,
            "bin_end": 1.4000000000000001,
            "count": 0
           },
           {
            "bin_start": 1.4000000000000001,
            "bin_end": 1.6,
            "count": 0
           },
           {
            "bin_start": 1.6,
            "bin_end": 1.8,
            "count": 0
           },
           {
            "bin_start": 1.8,
            "bin_end": 2,
            "count": 1
           }
          ]
         }
        },
        {
         "name": "Rollup",
         "dtype": "int64",
         "stats": {
          "unique_count": 2,
          "nan_count": 0,
          "min": "0",
          "max": "1",
          "histogram": [
           {
            "bin_start": 0,
            "bin_end": 0.1,
            "count": 4
           },
           {
            "bin_start": 0.1,
            "bin_end": 0.2,
            "count": 0
           },
           {
            "bin_start": 0.2,
            "bin_end": 0.30000000000000004,
            "count": 0
           },
           {
            "bin_start": 0.30000000000000004,
            "bin_end": 0.4,
            "count": 0
           },
           {
            "bin_start": 0.4,
            "bin_end": 0.5,
            "count": 0
           },
           {
            "bin_start": 0.5,
            "bin_end": 0.6000000000000001,
            "count": 0
           },
           {
            "bin_start": 0.6000000000000001,
            "bin_end": 0.7000000000000001,
            "count": 0
           },
           {
            "bin_start": 0.7000000000000001,
            "bin_end": 0.8,
            "count": 0
           },
           {
            "bin_start": 0.8,
            "bin_end": 0.9,
            "count": 0
           },
           {
            "bin_start": 0.9,
            "bin_end": 1,
            "count": 1
           }
          ]
         }
        },
        {
         "name": "PERM",
         "dtype": "object",
         "stats": {
          "unique_count": 5,
          "nan_count": 0,
          "categories": [
           {
            "name": "17787",
            "count": 1
           },
           {
            "name": "85593",
            "count": 1
           },
           {
            "name": "3 others",
            "count": 3
           }
          ]
         }
        },
        {
         "name": "Dual",
         "dtype": "object",
         "stats": {
          "unique_count": 1,
          "nan_count": 0,
          "categories": [
           {
            "name": "0",
            "count": 5
           }
          ]
         }
        },
        {
         "name": "Internet",
         "dtype": "int64",
         "stats": {
          "unique_count": 1,
          "nan_count": 0,
          "min": "0",
          "max": "0",
          "histogram": [
           {
            "bin_start": -0.5,
            "bin_end": -0.4,
            "count": 0
           },
           {
            "bin_start": -0.4,
            "bin_end": -0.3,
            "count": 0
           },
           {
            "bin_start": -0.3,
            "bin_end": -0.19999999999999996,
            "count": 0
           },
           {
            "bin_start": -0.19999999999999996,
            "bin_end": -0.09999999999999998,
            "count": 0
           },
           {
            "bin_start": -0.09999999999999998,
            "bin_end": 0,
            "count": 0
           },
           {
            "bin_start": 0,
            "bin_end": 0.10000000000000009,
            "count": 5
           },
           {
            "bin_start": 0.10000000000000009,
            "bin_end": 0.20000000000000007,
            "count": 0
           },
           {
            "bin_start": 0.20000000000000007,
            "bin_end": 0.30000000000000004,
            "count": 0
           },
           {
            "bin_start": 0.30000000000000004,
            "bin_end": 0.4,
            "count": 0
           },
           {
            "bin_start": 0.4,
            "bin_end": 0.5,
            "count": 0
           }
          ]
         }
        },
        {
         "name": "post-issue shares",
         "dtype": "object",
         "stats": {
          "unique_count": 1,
          "nan_count": 0,
          "categories": [
           {
            "name": ".",
            "count": 5
           }
          ]
         }
        },
        {
         "name": "Founding",
         "dtype": "int64",
         "stats": {
          "unique_count": 5,
          "nan_count": 0,
          "min": "1900",
          "max": "2010",
          "histogram": [
           {
            "bin_start": 1900,
            "bin_end": 1911,
            "count": 1
           },
           {
            "bin_start": 1911,
            "bin_end": 1922,
            "count": 0
           },
           {
            "bin_start": 1922,
            "bin_end": 1933,
            "count": 1
           },
           {
            "bin_start": 1933,
            "bin_end": 1944,
            "count": 0
           },
           {
            "bin_start": 1944,
            "bin_end": 1955,
            "count": 0
           },
           {
            "bin_start": 1955,
            "bin_end": 1966,
            "count": 0
           },
           {
            "bin_start": 1966,
            "bin_end": 1977,
            "count": 0
           },
           {
            "bin_start": 1977,
            "bin_end": 1988,
            "count": 0
           },
           {
            "bin_start": 1988,
            "bin_end": 1999,
            "count": 1
           },
           {
            "bin_start": 1999,
            "bin_end": 2010,
            "count": 2
           }
          ]
         }
        },
        {
         "name": "_deepnote_index_column",
         "dtype": "int64"
        }
       ],
       "rows_top": [
        {
         "Company": "AXA Equitable Holdings",
         "URL": "nan",
         "Company Description": "AXA Equitable is the US subsidiary of AXA.",
         "All Investors": "Public",
         "Total Funding": "nan",
         "Sector": "Financial",
         "Industry": "Asset/Financial Management",
         "Sub-Industry": "nan",
         "Country": "United States",
         "State": "New York",
         "City": "New York",
         "VC Backed": "nan",
         "Exit Round": "IPO",
         "Exit Date": "2018-05-10",
         "Last Funding Round": "nan",
         "Last Funding Date": "nan",
         "Last Funding Amount": "nan",
         "Last Funding Simplified Round": "nan",
         "Last Funding Investors": "nan",
         "Min Valuation": "nan",
         "Max Valuation": "nan",
         "Min Price/Sales Ratio": "nan",
         "Max Price/Sales Ratio": "nan",
         "Ticker": "EQH",
         "CUSIP": "054561105",
         "offer date": 20180510,
         "name of IPO": "Axa Equitable Holdings Inc",
         "VC": 0,
         "Rollup": 0,
         "PERM": "17787",
         "Dual": "0",
         "Internet": 0,
         "post-issue shares": ".",
         "Founding": 1900,
         "_deepnote_index_column": 0
        },
        {
         "Company": "Affiliated Managers Group",
         "URL": "http://www.amg.com",
         "Company Description": "Affiliated Managers Group (NYSE: AMG) is a global asset management company with equity investments …",
         "All Investors": "Public",
         "Total Funding": "nan",
         "Sector": "Financial",
         "Industry": "Asset/Financial Management",
         "Sub-Industry": "nan",
         "Country": "United States",
         "State": "Massachusetts",
         "City": "Prides Crossing",
         "VC Backed": "nan",
         "Exit Round": "IPO",
         "Exit Date": "1997-11-21",
         "Last Funding Round": "nan",
         "Last Funding Date": "nan",
         "Last Funding Amount": "nan",
         "Last Funding Simplified Round": "nan",
         "Last Funding Investors": "nan",
         "Min Valuation": 389.59,
         "Max Valuation": 389.59,
         "Min Price/Sales Ratio": "nan",
         "Max Price/Sales Ratio": "nan",
         "Ticker": "AMG",
         "CUSIP": "008252108",
         "offer date": 19971121,
         "name of IPO": "Affiliated Managers Group",
         "VC": 2,
         "Rollup": 1,
         "PERM": "85593",
         "Dual": "0",
         "Internet": 0,
         "post-issue shares": ".",
         "Founding": 1988,
         "_deepnote_index_column": 1
        },
        {
         "Company": "Allegiance Bancshares",
         "URL": "http://www.allegiancebank.com",
         "Company Description": "Allegiance Bancshares is a Texas corporation and a registered bank holding company headquartered in…",
         "All Investors": "Public",
         "Total Funding": "nan",
         "Sector": "Financial",
         "Industry": "Retail Banking",
         "Sub-Industry": "nan",
         "Country": "United States",
         "State": "Texas",
         "City": "Houston",
         "VC Backed": "nan",
         "Exit Round": "IPO",
         "Exit Date": "2015-10-08",
         "Last Funding Round": "nan",
         "Last Funding Date": "nan",
         "Last Funding Amount": "nan",
         "Last Funding Simplified Round": "nan",
         "Last Funding Investors": "nan",
         "Min Valuation": 260.88,
         "Max Valuation": 260.88,
         "Min Price/Sales Ratio": 5.8677462887989,
         "Max Price/Sales Ratio": 5.8677462887989,
         "Ticker": "ABTX",
         "CUSIP": "01748H107",
         "offer date": 20151008,
         "name of IPO": "Allegiance Bancshares Inc",
         "VC": 0,
         "Rollup": 0,
         "PERM": "15774",
         "Dual": "0",
         "Internet": 0,
         "post-issue shares": ".",
         "Founding": 2007,
         "_deepnote_index_column": 2
        },
        {
         "Company": "Ally Financial",
         "URL": "http://www.ally.com",
         "Company Description": "Ally Financial (NYSE: ALLY) is a digital financial services and financial holding company offering …",
         "All Investors": "Public",
         "Total Funding": "nan",
         "Sector": "Financial",
         "Industry": "Lending",
         "Sub-Industry": "Consumer",
         "Country": "United States",
         "State": "Michigan",
         "City": "Detroit",
         "VC Backed": "nan",
         "Exit Round": "IPO",
         "Exit Date": "2014-04-10",
         "Last Funding Round": "nan",
         "Last Funding Date": "nan",
         "Last Funding Amount": "nan",
         "Last Funding Simplified Round": "nan",
         "Last Funding Investors": "nan",
         "Min Valuation": 12037.52,
         "Max Valuation": 12037.52,
         "Min Price/Sales Ratio": 1.2222073306935,
         "Max Price/Sales Ratio": 1.2222073306935,
         "Ticker": "ALLY",
         "CUSIP": "02005N100",
         "offer date": 20140410,
         "name of IPO": "Ally Financial Inc",
         "VC": 0,
         "Rollup": 0,
         "PERM": "14558",
         "Dual": "0",
         "Internet": 0,
         "post-issue shares": ".",
         "Founding": 1924,
         "_deepnote_index_column": 3
        },
        {
         "Company": "Alpine Income Property Trust",
         "URL": "http://www.alpinereit.com",
         "Company Description": "Alpine Income Property Trust (NYSE: PINE) is a real estate company that owns and operates a portfol…",
         "All Investors": "Public",
         "Total Funding": "nan",
         "Sector": "Financial",
         "Industry": "Real Estate",
         "Sub-Industry": "REITs",
         "Country": "United States",
         "State": "Florida",
         "City": "Daytona Beach",
         "VC Backed": "nan",
         "Exit Round": "IPO",
         "Exit Date": "2019-11-22",
         "Last Funding Round": "nan",
         "Last Funding Date": "nan",
         "Last Funding Amount": "nan",
         "Last Funding Simplified Round": "nan",
         "Last Funding Investors": "nan",
         "Min Valuation": 173,
         "Max Valuation": 173,
         "Min Price/Sales Ratio": "nan",
         "Max Price/Sales Ratio": "nan",
         "Ticker": "PINE",
         "CUSIP": "02083X103",
         "offer date": 20191122,
         "name of IPO": "Alpine Income Property Trust",
         "VC": 0,
         "Rollup": 0,
         "PERM": "19037",
         "Dual": "0",
         "Internet": 0,
         "post-issue shares": ".",
         "Founding": 2010,
         "_deepnote_index_column": 4
        }
       ],
       "rows_bottom": null
      },
      "text/plain": "                        Company                            URL  \\\n0        AXA Equitable Holdings                            NaN   \n1     Affiliated Managers Group             http://www.amg.com   \n2         Allegiance Bancshares  http://www.allegiancebank.com   \n3                Ally Financial            http://www.ally.com   \n4  Alpine Income Property Trust      http://www.alpinereit.com   \n\n                                 Company Description All Investors  \\\n0         AXA Equitable is the US subsidiary of AXA.        Public   \n1  Affiliated Managers Group (NYSE: AMG) is a glo...        Public   \n2  Allegiance Bancshares is a Texas corporation a...        Public   \n3  Ally Financial (NYSE: ALLY) is a digital finan...        Public   \n4  Alpine Income Property Trust (NYSE: PINE) is a...        Public   \n\n   Total Funding     Sector                    Industry Sub-Industry  \\\n0            NaN  Financial  Asset/Financial Management          NaN   \n1            NaN  Financial  Asset/Financial Management          NaN   \n2            NaN  Financial              Retail Banking          NaN   \n3            NaN  Financial                     Lending     Consumer   \n4            NaN  Financial                 Real Estate        REITs   \n\n         Country          State  ...      CUSIP  offer date  \\\n0  United States       New York  ...  054561105    20180510   \n1  United States  Massachusetts  ...  008252108    19971121   \n2  United States          Texas  ...  01748H107    20151008   \n3  United States       Michigan  ...  02005N100    20140410   \n4  United States        Florida  ...  02083X103    20191122   \n\n                    name of IPO VC  Rollup   PERM  Dual  Internet  \\\n0    Axa Equitable Holdings Inc  0       0  17787     0         0   \n1     Affiliated Managers Group  2       1  85593     0         0   \n2     Allegiance Bancshares Inc  0       0  15774     0         0   \n3            Ally Financial Inc  0       0  14558     0         0   \n4  Alpine Income Property Trust  0       0  19037     0         0   \n\n   post-issue shares  Founding  \n0                  .      1900  \n1                  .      1988  \n2                  .      2007  \n3                  .      1924  \n4                  .      2010  \n\n[5 rows x 34 columns]",
      "text/html": "<div>\n<style scoped>\n    .dataframe tbody tr th:only-of-type {\n        vertical-align: middle;\n    }\n\n    .dataframe tbody tr th {\n        vertical-align: top;\n    }\n\n    .dataframe thead th {\n        text-align: right;\n    }\n</style>\n<table border=\"1\" class=\"dataframe\">\n  <thead>\n    <tr style=\"text-align: right;\">\n      <th></th>\n      <th>Company</th>\n      <th>URL</th>\n      <th>Company Description</th>\n      <th>All Investors</th>\n      <th>Total Funding</th>\n      <th>Sector</th>\n      <th>Industry</th>\n      <th>Sub-Industry</th>\n      <th>Country</th>\n      <th>State</th>\n      <th>...</th>\n      <th>CUSIP</th>\n      <th>offer date</th>\n      <th>name of IPO</th>\n      <th>VC</th>\n      <th>Rollup</th>\n      <th>PERM</th>\n      <th>Dual</th>\n      <th>Internet</th>\n      <th>post-issue shares</th>\n      <th>Founding</th>\n    </tr>\n  </thead>\n  <tbody>\n    <tr>\n      <th>0</th>\n      <td>AXA Equitable Holdings</td>\n      <td>NaN</td>\n      <td>AXA Equitable is the US subsidiary of AXA.</td>\n      <td>Public</td>\n      <td>NaN</td>\n      <td>Financial</td>\n      <td>Asset/Financial Management</td>\n      <td>NaN</td>\n      <td>United States</td>\n      <td>New York</td>\n      <td>...</td>\n      <td>054561105</td>\n      <td>20180510</td>\n      <td>Axa Equitable Holdings Inc</td>\n      <td>0</td>\n      <td>0</td>\n      <td>17787</td>\n      <td>0</td>\n      <td>0</td>\n      <td>.</td>\n      <td>1900</td>\n    </tr>\n    <tr>\n      <th>1</th>\n      <td>Affiliated Managers Group</td>\n      <td>http://www.amg.com</td>\n      <td>Affiliated Managers Group (NYSE: AMG) is a glo...</td>\n      <td>Public</td>\n      <td>NaN</td>\n      <td>Financial</td>\n      <td>Asset/Financial Management</td>\n      <td>NaN</td>\n      <td>United States</td>\n      <td>Massachusetts</td>\n      <td>...</td>\n      <td>008252108</td>\n      <td>19971121</td>\n      <td>Affiliated Managers Group</td>\n      <td>2</td>\n      <td>1</td>\n      <td>85593</td>\n      <td>0</td>\n      <td>0</td>\n      <td>.</td>\n      <td>1988</td>\n    </tr>\n    <tr>\n      <th>2</th>\n      <td>Allegiance Bancshares</td>\n      <td>http://www.allegiancebank.com</td>\n      <td>Allegiance Bancshares is a Texas corporation a...</td>\n      <td>Public</td>\n      <td>NaN</td>\n      <td>Financial</td>\n      <td>Retail Banking</td>\n      <td>NaN</td>\n      <td>United States</td>\n      <td>Texas</td>\n      <td>...</td>\n      <td>01748H107</td>\n      <td>20151008</td>\n      <td>Allegiance Bancshares Inc</td>\n      <td>0</td>\n      <td>0</td>\n      <td>15774</td>\n      <td>0</td>\n      <td>0</td>\n      <td>.</td>\n      <td>2007</td>\n    </tr>\n    <tr>\n      <th>3</th>\n      <td>Ally Financial</td>\n      <td>http://www.ally.com</td>\n      <td>Ally Financial (NYSE: ALLY) is a digital finan...</td>\n      <td>Public</td>\n      <td>NaN</td>\n      <td>Financial</td>\n      <td>Lending</td>\n      <td>Consumer</td>\n      <td>United States</td>\n      <td>Michigan</td>\n      <td>...</td>\n      <td>02005N100</td>\n      <td>20140410</td>\n      <td>Ally Financial Inc</td>\n      <td>0</td>\n      <td>0</td>\n      <td>14558</td>\n      <td>0</td>\n      <td>0</td>\n      <td>.</td>\n      <td>1924</td>\n    </tr>\n    <tr>\n      <th>4</th>\n      <td>Alpine Income Property Trust</td>\n      <td>http://www.alpinereit.com</td>\n      <td>Alpine Income Property Trust (NYSE: PINE) is a...</td>\n      <td>Public</td>\n      <td>NaN</td>\n      <td>Financial</td>\n      <td>Real Estate</td>\n      <td>REITs</td>\n      <td>United States</td>\n      <td>Florida</td>\n      <td>...</td>\n      <td>02083X103</td>\n      <td>20191122</td>\n      <td>Alpine Income Property Trust</td>\n      <td>0</td>\n      <td>0</td>\n      <td>19037</td>\n      <td>0</td>\n      <td>0</td>\n      <td>.</td>\n      <td>2010</td>\n    </tr>\n  </tbody>\n</table>\n<p>5 rows × 34 columns</p>\n</div>"
     },
     "metadata": {}
    }
   ]
  },
  {
   "cell_type": "code",
   "metadata": {
    "tags": [],
    "cell_id": "00013-8977378e-6599-4bc0-911f-570a3dbf66f0",
    "deepnote_to_be_reexecuted": false,
    "source_hash": "4f594dae",
    "execution_start": 1625240801063,
    "execution_millis": 82637952,
    "deepnote_cell_type": "code"
   },
   "source": "public_financial.shape",
   "execution_count": null,
   "outputs": [
    {
     "output_type": "execute_result",
     "execution_count": 14,
     "data": {
      "text/plain": "(137, 34)"
     },
     "metadata": {}
    }
   ]
  },
  {
   "cell_type": "code",
   "metadata": {
    "tags": [],
    "cell_id": "00024-3598c598-ba70-4d90-977f-fafbbfebc8fd",
    "deepnote_to_be_reexecuted": false,
    "source_hash": "b2a5be7d",
    "execution_start": 1625240801118,
    "execution_millis": 2,
    "deepnote_cell_type": "code"
   },
   "source": "public_financial = public_financial.loc[:,public_financial.isna().mean() <= 0.7]\npublic_financial.info()",
   "execution_count": null,
   "outputs": [
    {
     "name": "stdout",
     "text": "<class 'pandas.core.frame.DataFrame'>\nRangeIndex: 137 entries, 0 to 136\nData columns (total 25 columns):\n #   Column               Non-Null Count  Dtype  \n---  ------               --------------  -----  \n 0   Company              137 non-null    object \n 1   URL                  121 non-null    object \n 2   Company Description  137 non-null    object \n 3   All Investors        137 non-null    object \n 4   Sector               137 non-null    object \n 5   Industry             136 non-null    object \n 6   Sub-Industry         63 non-null     object \n 7   Country              137 non-null    object \n 8   State                137 non-null    object \n 9   City                 137 non-null    object \n 10  Exit Round           137 non-null    object \n 11  Exit Date            137 non-null    object \n 12  Min Valuation        94 non-null     float64\n 13  Max Valuation        94 non-null     float64\n 14  Ticker               137 non-null    object \n 15  CUSIP                136 non-null    object \n 16  offer date           137 non-null    int64  \n 17  name of IPO          137 non-null    object \n 18  VC                   137 non-null    int64  \n 19  Rollup               137 non-null    int64  \n 20  PERM                 137 non-null    object \n 21  Dual                 137 non-null    object \n 22  Internet             137 non-null    int64  \n 23  post-issue shares    137 non-null    object \n 24  Founding             137 non-null    int64  \ndtypes: float64(2), int64(5), object(18)\nmemory usage: 26.9+ KB\n",
     "output_type": "stream"
    }
   ]
  },
  {
   "cell_type": "code",
   "metadata": {
    "tags": [],
    "cell_id": "00015-5a59d362-3abe-4bdb-86fd-d1423ca028c3",
    "deepnote_to_be_reexecuted": false,
    "source_hash": "eaff216f",
    "execution_start": 1625240801119,
    "execution_millis": 103,
    "deepnote_cell_type": "code"
   },
   "source": "public_financial[public_financial['Internet'] == 1]",
   "execution_count": null,
   "outputs": [
    {
     "output_type": "execute_result",
     "execution_count": 16,
     "data": {
      "application/vnd.deepnote.dataframe.v2+json": {
       "row_count": 3,
       "column_count": 25,
       "columns": [
        {
         "name": "Company",
         "dtype": "object",
         "stats": {
          "unique_count": 3,
          "nan_count": 0,
          "categories": [
           {
            "name": "BofI Holding",
            "count": 1
           },
           {
            "name": "Owl Rock Capital Corporation",
            "count": 1
           },
           {
            "name": "Store Capital Corp",
            "count": 1
           }
          ]
         }
        },
        {
         "name": "URL",
         "dtype": "object",
         "stats": {
          "unique_count": 2,
          "nan_count": 1,
          "categories": [
           {
            "name": "http://www.bofiholding.com",
            "count": 1
           },
           {
            "name": "http://www.storecapital.com",
            "count": 1
           },
           {
            "name": "Missing",
            "count": 1
           }
          ]
         }
        },
        {
         "name": "Company Description",
         "dtype": "object",
         "stats": {
          "unique_count": 3,
          "nan_count": 0,
          "categories": [
           {
            "name": "BofI Holding is the holding company for BofI Federal Bank, a nationwide bank that, among other financial products and services, provides financing for single and multifamily residential properties, small-to-medium size businesses in target sectors, and selected specialty finance receivables. BofI Federal Bank provides consumer and business banking products directly and through third-party channels. BofI Holding's common stock is listed on the NASDAQ Global Select Market under the symbol \"BOFI\" and is a component of the Russell 2000 Index, the S&P SmallCap 600 Index, and the KBW Nasdaq Financial Technology Index.",
            "count": 1
           },
           {
            "name": "Owl Rock Capital Corporation (NYSE: ORCC) is a specialty finance company focused on lending to U.S. middle-market companies.",
            "count": 1
           },
           {
            "name": "Store Capital Corp is an internally managed net-lease real estate investment trust, or REIT, that is a leader in the acquisition, investment and management of Single Tenant Operational Real Estate, or STORE Properties. S|T|O|R|E is one of the largest and fastest-growing net-lease REITs and own a large, well-diversified portfolio that consists of investments in 850 property locations operated by 201 customers in 46 states as of September 30, 2014.",
            "count": 1
           }
          ]
         }
        },
        {
         "name": "All Investors",
         "dtype": "object",
         "stats": {
          "unique_count": 1,
          "nan_count": 0,
          "categories": [
           {
            "name": "Public",
            "count": 3
           }
          ]
         }
        },
        {
         "name": "Sector",
         "dtype": "object",
         "stats": {
          "unique_count": 1,
          "nan_count": 0,
          "categories": [
           {
            "name": "Financial",
            "count": 3
           }
          ]
         }
        },
        {
         "name": "Industry",
         "dtype": "object",
         "stats": {
          "unique_count": 3,
          "nan_count": 0,
          "categories": [
           {
            "name": "Retail Banking",
            "count": 1
           },
           {
            "name": "Lending",
            "count": 1
           },
           {
            "name": "Real Estate",
            "count": 1
           }
          ]
         }
        },
        {
         "name": "Sub-Industry",
         "dtype": "object",
         "stats": {
          "unique_count": 1,
          "nan_count": 2,
          "categories": [
           {
            "name": "REITs",
            "count": 1
           },
           {
            "name": "Missing",
            "count": 2
           }
          ]
         }
        },
        {
         "name": "Country",
         "dtype": "object",
         "stats": {
          "unique_count": 1,
          "nan_count": 0,
          "categories": [
           {
            "name": "United States",
            "count": 3
           }
          ]
         }
        },
        {
         "name": "State",
         "dtype": "object",
         "stats": {
          "unique_count": 3,
          "nan_count": 0,
          "categories": [
           {
            "name": "California",
            "count": 1
           },
           {
            "name": "New York",
            "count": 1
           },
           {
            "name": "Arizona",
            "count": 1
           }
          ]
         }
        },
        {
         "name": "City",
         "dtype": "object",
         "stats": {
          "unique_count": 3,
          "nan_count": 0,
          "categories": [
           {
            "name": "San Diego",
            "count": 1
           },
           {
            "name": "New York",
            "count": 1
           },
           {
            "name": "Scottsdale",
            "count": 1
           }
          ]
         }
        },
        {
         "name": "Exit Round",
         "dtype": "object",
         "stats": {
          "unique_count": 1,
          "nan_count": 0,
          "categories": [
           {
            "name": "IPO",
            "count": 3
           }
          ]
         }
        },
        {
         "name": "Exit Date",
         "dtype": "object",
         "stats": {
          "unique_count": 3,
          "nan_count": 0,
          "categories": [
           {
            "name": "2005-03-15",
            "count": 1
           },
           {
            "name": "2019-07-18",
            "count": 1
           },
           {
            "name": "2014-11-18",
            "count": 1
           }
          ]
         }
        },
        {
         "name": "Min Valuation",
         "dtype": "float64",
         "stats": {
          "unique_count": 2,
          "nan_count": 1,
          "min": "95.45",
          "max": "1885.59",
          "histogram": [
           {
            "bin_start": 95.45,
            "bin_end": 274.464,
            "count": 1
           },
           {
            "bin_start": 274.464,
            "bin_end": 453.47799999999995,
            "count": 0
           },
           {
            "bin_start": 453.47799999999995,
            "bin_end": 632.492,
            "count": 0
           },
           {
            "bin_start": 632.492,
            "bin_end": 811.506,
            "count": 0
           },
           {
            "bin_start": 811.506,
            "bin_end": 990.52,
            "count": 0
           },
           {
            "bin_start": 990.52,
            "bin_end": 1169.5339999999999,
            "count": 0
           },
           {
            "bin_start": 1169.5339999999999,
            "bin_end": 1348.548,
            "count": 0
           },
           {
            "bin_start": 1348.548,
            "bin_end": 1527.562,
            "count": 0
           },
           {
            "bin_start": 1527.562,
            "bin_end": 1706.5759999999998,
            "count": 0
           },
           {
            "bin_start": 1706.5759999999998,
            "bin_end": 1885.59,
            "count": 1
           }
          ]
         }
        },
        {
         "name": "Max Valuation",
         "dtype": "float64",
         "stats": {
          "unique_count": 2,
          "nan_count": 1,
          "min": "95.45",
          "max": "1885.59",
          "histogram": [
           {
            "bin_start": 95.45,
            "bin_end": 274.464,
            "count": 1
           },
           {
            "bin_start": 274.464,
            "bin_end": 453.47799999999995,
            "count": 0
           },
           {
            "bin_start": 453.47799999999995,
            "bin_end": 632.492,
            "count": 0
           },
           {
            "bin_start": 632.492,
            "bin_end": 811.506,
            "count": 0
           },
           {
            "bin_start": 811.506,
            "bin_end": 990.52,
            "count": 0
           },
           {
            "bin_start": 990.52,
            "bin_end": 1169.5339999999999,
            "count": 0
           },
           {
            "bin_start": 1169.5339999999999,
            "bin_end": 1348.548,
            "count": 0
           },
           {
            "bin_start": 1348.548,
            "bin_end": 1527.562,
            "count": 0
           },
           {
            "bin_start": 1527.562,
            "bin_end": 1706.5759999999998,
            "count": 0
           },
           {
            "bin_start": 1706.5759999999998,
            "bin_end": 1885.59,
            "count": 1
           }
          ]
         }
        },
        {
         "name": "Ticker",
         "dtype": "object",
         "stats": {
          "unique_count": 3,
          "nan_count": 0,
          "categories": [
           {
            "name": "BOFI",
            "count": 1
           },
           {
            "name": "ORCC",
            "count": 1
           },
           {
            "name": "STOR",
            "count": 1
           }
          ]
         }
        },
        {
         "name": "CUSIP",
         "dtype": "object",
         "stats": {
          "unique_count": 3,
          "nan_count": 0,
          "categories": [
           {
            "name": "05566U108",
            "count": 1
           },
           {
            "name": "68273G10",
            "count": 1
           },
           {
            "name": "86211E103",
            "count": 1
           }
          ]
         }
        },
        {
         "name": "offer date",
         "dtype": "int64",
         "stats": {
          "unique_count": 3,
          "nan_count": 0,
          "min": "19990604",
          "max": "20050314",
          "histogram": [
           {
            "bin_start": 19990604,
            "bin_end": 19996575,
            "count": 1
           },
           {
            "bin_start": 19996575,
            "bin_end": 20002546,
            "count": 1
           },
           {
            "bin_start": 20002546,
            "bin_end": 20008517,
            "count": 0
           },
           {
            "bin_start": 20008517,
            "bin_end": 20014488,
            "count": 0
           },
           {
            "bin_start": 20014488,
            "bin_end": 20020459,
            "count": 0
           },
           {
            "bin_start": 20020459,
            "bin_end": 20026430,
            "count": 0
           },
           {
            "bin_start": 20026430,
            "bin_end": 20032401,
            "count": 0
           },
           {
            "bin_start": 20032401,
            "bin_end": 20038372,
            "count": 0
           },
           {
            "bin_start": 20038372,
            "bin_end": 20044343,
            "count": 0
           },
           {
            "bin_start": 20044343,
            "bin_end": 20050314,
            "count": 1
           }
          ]
         }
        },
        {
         "name": "name of IPO",
         "dtype": "object",
         "stats": {
          "unique_count": 3,
          "nan_count": 0,
          "categories": [
           {
            "name": "BofI Holding Inc",
            "count": 1
           },
           {
            "name": "Online Resources & Commun",
            "count": 1
           },
           {
            "name": "Storagenetworks Inc",
            "count": 1
           }
          ]
         }
        },
        {
         "name": "VC",
         "dtype": "int64",
         "stats": {
          "unique_count": 2,
          "nan_count": 0,
          "min": "0",
          "max": "1",
          "histogram": [
           {
            "bin_start": 0,
            "bin_end": 0.1,
            "count": 1
           },
           {
            "bin_start": 0.1,
            "bin_end": 0.2,
            "count": 0
           },
           {
            "bin_start": 0.2,
            "bin_end": 0.30000000000000004,
            "count": 0
           },
           {
            "bin_start": 0.30000000000000004,
            "bin_end": 0.4,
            "count": 0
           },
           {
            "bin_start": 0.4,
            "bin_end": 0.5,
            "count": 0
           },
           {
            "bin_start": 0.5,
            "bin_end": 0.6000000000000001,
            "count": 0
           },
           {
            "bin_start": 0.6000000000000001,
            "bin_end": 0.7000000000000001,
            "count": 0
           },
           {
            "bin_start": 0.7000000000000001,
            "bin_end": 0.8,
            "count": 0
           },
           {
            "bin_start": 0.8,
            "bin_end": 0.9,
            "count": 0
           },
           {
            "bin_start": 0.9,
            "bin_end": 1,
            "count": 2
           }
          ]
         }
        },
        {
         "name": "Rollup",
         "dtype": "int64",
         "stats": {
          "unique_count": 1,
          "nan_count": 0,
          "min": "0",
          "max": "0",
          "histogram": [
           {
            "bin_start": -0.5,
            "bin_end": -0.4,
            "count": 0
           },
           {
            "bin_start": -0.4,
            "bin_end": -0.3,
            "count": 0
           },
           {
            "bin_start": -0.3,
            "bin_end": -0.19999999999999996,
            "count": 0
           },
           {
            "bin_start": -0.19999999999999996,
            "bin_end": -0.09999999999999998,
            "count": 0
           },
           {
            "bin_start": -0.09999999999999998,
            "bin_end": 0,
            "count": 0
           },
           {
            "bin_start": 0,
            "bin_end": 0.10000000000000009,
            "count": 3
           },
           {
            "bin_start": 0.10000000000000009,
            "bin_end": 0.20000000000000007,
            "count": 0
           },
           {
            "bin_start": 0.20000000000000007,
            "bin_end": 0.30000000000000004,
            "count": 0
           },
           {
            "bin_start": 0.30000000000000004,
            "bin_end": 0.4,
            "count": 0
           },
           {
            "bin_start": 0.4,
            "bin_end": 0.5,
            "count": 0
           }
          ]
         }
        },
        {
         "name": "PERM",
         "dtype": "object",
         "stats": {
          "unique_count": 3,
          "nan_count": 0,
          "categories": [
           {
            "name": "90634",
            "count": 1
           },
           {
            "name": "86988",
            "count": 1
           },
           {
            "name": "88378",
            "count": 1
           }
          ]
         }
        },
        {
         "name": "Dual",
         "dtype": "object",
         "stats": {
          "unique_count": 1,
          "nan_count": 0,
          "categories": [
           {
            "name": "0",
            "count": 3
           }
          ]
         }
        },
        {
         "name": "Internet",
         "dtype": "int64",
         "stats": {
          "unique_count": 1,
          "nan_count": 0,
          "min": "1",
          "max": "1",
          "histogram": [
           {
            "bin_start": 0.5,
            "bin_end": 0.6,
            "count": 0
           },
           {
            "bin_start": 0.6,
            "bin_end": 0.7,
            "count": 0
           },
           {
            "bin_start": 0.7,
            "bin_end": 0.8,
            "count": 0
           },
           {
            "bin_start": 0.8,
            "bin_end": 0.9,
            "count": 0
           },
           {
            "bin_start": 0.9,
            "bin_end": 1,
            "count": 0
           },
           {
            "bin_start": 1,
            "bin_end": 1.1,
            "count": 3
           },
           {
            "bin_start": 1.1,
            "bin_end": 1.2000000000000002,
            "count": 0
           },
           {
            "bin_start": 1.2000000000000002,
            "bin_end": 1.3,
            "count": 0
           },
           {
            "bin_start": 1.3,
            "bin_end": 1.4,
            "count": 0
           },
           {
            "bin_start": 1.4,
            "bin_end": 1.5,
            "count": 0
           }
          ]
         }
        },
        {
         "name": "post-issue shares",
         "dtype": "object",
         "stats": {
          "unique_count": 1,
          "nan_count": 0,
          "categories": [
           {
            "name": ".",
            "count": 3
           }
          ]
         }
        },
        {
         "name": "Founding",
         "dtype": "int64",
         "stats": {
          "unique_count": 3,
          "nan_count": 0,
          "min": "1900",
          "max": "1998",
          "histogram": [
           {
            "bin_start": 1900,
            "bin_end": 1909.8,
            "count": 1
           },
           {
            "bin_start": 1909.8,
            "bin_end": 1919.6,
            "count": 0
           },
           {
            "bin_start": 1919.6,
            "bin_end": 1929.4,
            "count": 0
           },
           {
            "bin_start": 1929.4,
            "bin_end": 1939.2,
            "count": 0
           },
           {
            "bin_start": 1939.2,
            "bin_end": 1949,
            "count": 0
           },
           {
            "bin_start": 1949,
            "bin_end": 1958.8,
            "count": 0
           },
           {
            "bin_start": 1958.8,
            "bin_end": 1968.6,
            "count": 0
           },
           {
            "bin_start": 1968.6,
            "bin_end": 1978.4,
            "count": 0
           },
           {
            "bin_start": 1978.4,
            "bin_end": 1988.2,
            "count": 0
           },
           {
            "bin_start": 1988.2,
            "bin_end": 1998,
            "count": 2
           }
          ]
         }
        },
        {
         "name": "_deepnote_index_column",
         "dtype": "int64"
        }
       ],
       "rows_top": [
        {
         "Company": "BofI Holding",
         "URL": "http://www.bofiholding.com",
         "Company Description": "BofI Holding is the holding company for BofI Federal Bank, a nationwide bank that, among other fina…",
         "All Investors": "Public",
         "Sector": "Financial",
         "Industry": "Retail Banking",
         "Sub-Industry": "nan",
         "Country": "United States",
         "State": "California",
         "City": "San Diego",
         "Exit Round": "IPO",
         "Exit Date": "2005-03-15",
         "Min Valuation": 95.45,
         "Max Valuation": 95.45,
         "Ticker": "BOFI",
         "CUSIP": "05566U108",
         "offer date": 20050314,
         "name of IPO": "BofI Holding Inc",
         "VC": 0,
         "Rollup": 0,
         "PERM": "90634",
         "Dual": "0",
         "Internet": 1,
         "post-issue shares": ".",
         "Founding": 1900,
         "_deepnote_index_column": 25
        },
        {
         "Company": "Owl Rock Capital Corporation",
         "URL": "nan",
         "Company Description": "Owl Rock Capital Corporation (NYSE: ORCC) is a specialty finance company focused on lending to U.S.…",
         "All Investors": "Public",
         "Sector": "Financial",
         "Industry": "Lending",
         "Sub-Industry": "nan",
         "Country": "United States",
         "State": "New York",
         "City": "New York",
         "Exit Round": "IPO",
         "Exit Date": "2019-07-18",
         "Min Valuation": "nan",
         "Max Valuation": "nan",
         "Ticker": "ORCC",
         "CUSIP": "68273G10",
         "offer date": 19990604,
         "name of IPO": "Online Resources & Commun",
         "VC": 1,
         "Rollup": 0,
         "PERM": "86988",
         "Dual": "0",
         "Internet": 1,
         "post-issue shares": ".",
         "Founding": 1989,
         "_deepnote_index_column": 106
        },
        {
         "Company": "Store Capital Corp",
         "URL": "http://www.storecapital.com",
         "Company Description": "Store Capital Corp is an internally managed net-lease real estate investment trust, or REIT, that i…",
         "All Investors": "Public",
         "Sector": "Financial",
         "Industry": "Real Estate",
         "Sub-Industry": "REITs",
         "Country": "United States",
         "State": "Arizona",
         "City": "Scottsdale",
         "Exit Round": "IPO",
         "Exit Date": "2014-11-18",
         "Min Valuation": 1885.59,
         "Max Valuation": 1885.59,
         "Ticker": "STOR",
         "CUSIP": "86211E103",
         "offer date": 20000629,
         "name of IPO": "Storagenetworks Inc",
         "VC": 1,
         "Rollup": 0,
         "PERM": "88378",
         "Dual": "0",
         "Internet": 1,
         "post-issue shares": ".",
         "Founding": 1998,
         "_deepnote_index_column": 129
        }
       ],
       "rows_bottom": null
      },
      "text/plain": "                          Company                          URL  \\\n25                   BofI Holding   http://www.bofiholding.com   \n106  Owl Rock Capital Corporation                          NaN   \n129            Store Capital Corp  http://www.storecapital.com   \n\n                                   Company Description All Investors  \\\n25   BofI Holding is the holding company for BofI F...        Public   \n106  Owl Rock Capital Corporation (NYSE: ORCC) is a...        Public   \n129  Store Capital Corp is an internally managed ne...        Public   \n\n        Sector        Industry Sub-Industry        Country       State  \\\n25   Financial  Retail Banking          NaN  United States  California   \n106  Financial         Lending          NaN  United States    New York   \n129  Financial     Real Estate        REITs  United States     Arizona   \n\n           City  ...      CUSIP offer date                name of IPO  VC  \\\n25    San Diego  ...  05566U108   20050314           BofI Holding Inc   0   \n106    New York  ...   68273G10   19990604  Online Resources & Commun   1   \n129  Scottsdale  ...  86211E103   20000629        Storagenetworks Inc   1   \n\n    Rollup   PERM  Dual Internet  post-issue shares  Founding  \n25       0  90634     0        1                  .      1900  \n106      0  86988     0        1                  .      1989  \n129      0  88378     0        1                  .      1998  \n\n[3 rows x 25 columns]",
      "text/html": "<div>\n<style scoped>\n    .dataframe tbody tr th:only-of-type {\n        vertical-align: middle;\n    }\n\n    .dataframe tbody tr th {\n        vertical-align: top;\n    }\n\n    .dataframe thead th {\n        text-align: right;\n    }\n</style>\n<table border=\"1\" class=\"dataframe\">\n  <thead>\n    <tr style=\"text-align: right;\">\n      <th></th>\n      <th>Company</th>\n      <th>URL</th>\n      <th>Company Description</th>\n      <th>All Investors</th>\n      <th>Sector</th>\n      <th>Industry</th>\n      <th>Sub-Industry</th>\n      <th>Country</th>\n      <th>State</th>\n      <th>City</th>\n      <th>...</th>\n      <th>CUSIP</th>\n      <th>offer date</th>\n      <th>name of IPO</th>\n      <th>VC</th>\n      <th>Rollup</th>\n      <th>PERM</th>\n      <th>Dual</th>\n      <th>Internet</th>\n      <th>post-issue shares</th>\n      <th>Founding</th>\n    </tr>\n  </thead>\n  <tbody>\n    <tr>\n      <th>25</th>\n      <td>BofI Holding</td>\n      <td>http://www.bofiholding.com</td>\n      <td>BofI Holding is the holding company for BofI F...</td>\n      <td>Public</td>\n      <td>Financial</td>\n      <td>Retail Banking</td>\n      <td>NaN</td>\n      <td>United States</td>\n      <td>California</td>\n      <td>San Diego</td>\n      <td>...</td>\n      <td>05566U108</td>\n      <td>20050314</td>\n      <td>BofI Holding Inc</td>\n      <td>0</td>\n      <td>0</td>\n      <td>90634</td>\n      <td>0</td>\n      <td>1</td>\n      <td>.</td>\n      <td>1900</td>\n    </tr>\n    <tr>\n      <th>106</th>\n      <td>Owl Rock Capital Corporation</td>\n      <td>NaN</td>\n      <td>Owl Rock Capital Corporation (NYSE: ORCC) is a...</td>\n      <td>Public</td>\n      <td>Financial</td>\n      <td>Lending</td>\n      <td>NaN</td>\n      <td>United States</td>\n      <td>New York</td>\n      <td>New York</td>\n      <td>...</td>\n      <td>68273G10</td>\n      <td>19990604</td>\n      <td>Online Resources &amp; Commun</td>\n      <td>1</td>\n      <td>0</td>\n      <td>86988</td>\n      <td>0</td>\n      <td>1</td>\n      <td>.</td>\n      <td>1989</td>\n    </tr>\n    <tr>\n      <th>129</th>\n      <td>Store Capital Corp</td>\n      <td>http://www.storecapital.com</td>\n      <td>Store Capital Corp is an internally managed ne...</td>\n      <td>Public</td>\n      <td>Financial</td>\n      <td>Real Estate</td>\n      <td>REITs</td>\n      <td>United States</td>\n      <td>Arizona</td>\n      <td>Scottsdale</td>\n      <td>...</td>\n      <td>86211E103</td>\n      <td>20000629</td>\n      <td>Storagenetworks Inc</td>\n      <td>1</td>\n      <td>0</td>\n      <td>88378</td>\n      <td>0</td>\n      <td>1</td>\n      <td>.</td>\n      <td>1998</td>\n    </tr>\n  </tbody>\n</table>\n<p>3 rows × 25 columns</p>\n</div>"
     },
     "metadata": {}
    }
   ]
  },
  {
   "cell_type": "markdown",
   "source": "Check the origin of these public fintech companies",
   "metadata": {
    "tags": [],
    "cell_id": "00025-49a9bbff-782a-41bc-9af1-27c016c6020d",
    "deepnote_cell_type": "markdown"
   }
  },
  {
   "cell_type": "code",
   "metadata": {
    "tags": [],
    "cell_id": "00025-89b19787-2e8d-4ada-92dd-5abec260abb3",
    "deepnote_to_be_reexecuted": false,
    "source_hash": "8853c416",
    "execution_start": 1625240801225,
    "execution_millis": 15,
    "deepnote_cell_type": "code"
   },
   "source": "print(public_financial['Country'].unique())\nprint(public_financial['Sector'].unique())\nprint(public_financial['Exit Round'].unique())\nprint(public_financial['All Investors'].unique())",
   "execution_count": null,
   "outputs": [
    {
     "name": "stdout",
     "text": "['United States']\n['Financial']\n['IPO']\n['Public']\n",
     "output_type": "stream"
    }
   ]
  },
  {
   "cell_type": "code",
   "metadata": {
    "tags": [],
    "cell_id": "00027-7bd92f1c-542c-425e-8585-b6b6daae6c8c",
    "deepnote_to_be_reexecuted": false,
    "source_hash": "341d7a02",
    "execution_start": 1625240801278,
    "execution_millis": 0,
    "deepnote_cell_type": "code"
   },
   "source": "# Drop Country column, since all of these public companies originate from the United States \npublic_financial.drop(columns=['Country', 'Sector', 'Exit Round','All Investors'],inplace=True)",
   "execution_count": null,
   "outputs": []
  },
  {
   "cell_type": "markdown",
   "source": "#### Geographic breakdown ",
   "metadata": {
    "tags": [],
    "cell_id": "00028-aa470b6f-7982-4cb8-95be-a0eccf62cfb4",
    "deepnote_cell_type": "markdown"
   }
  },
  {
   "cell_type": "code",
   "metadata": {
    "tags": [],
    "cell_id": "00029-c22fefc3-a5b8-4830-9f76-9344bbdafcc2",
    "deepnote_to_be_reexecuted": false,
    "source_hash": "598c80da",
    "execution_start": 1625240801279,
    "execution_millis": 108,
    "deepnote_cell_type": "code"
   },
   "source": "freq = public_financial['State'].value_counts(normalize=True).to_frame().reset_index()\nbottom = freq.quantile(q = 0.4)\nless_freq = freq[freq <= bottom]\nfreq.loc[less_freq['State'].notnull(),'index'] = \"Other\"\ntemp = freq.groupby('index')['State'].sum().to_frame()\ntemp.columns = ['Frequency']\ntemp.sort_values(by=['Frequency'], ascending=False, inplace = True)\nfig = px.bar(temp, x=temp.index, y='Frequency')\nfig.update_xaxes(tickangle=45)",
   "execution_count": null,
   "outputs": [
    {
     "name": "stderr",
     "text": "/shared-libs/python3.7/py-core/lib/python3.7/site-packages/ipykernel_launcher.py:3: FutureWarning:\n\nAutomatic reindexing on DataFrame vs Series comparisons is deprecated and will raise ValueError in a future version.  Do `left, right = left.align(right, axis=1, copy=False)` before e.g. `left == right`\n\n",
     "output_type": "stream"
    },
    {
     "data": {
      "text/html": "<html>\n<head><meta charset=\"utf-8\" /></head>\n<body>\n    <div>            <script src=\"https://cdnjs.cloudflare.com/ajax/libs/mathjax/2.7.5/MathJax.js?config=TeX-AMS-MML_SVG\"></script><script type=\"text/javascript\">if (window.MathJax) {MathJax.Hub.Config({SVG: {font: \"STIX-Web\"}});}</script>                <script type=\"text/javascript\">window.PlotlyConfig = {MathJaxConfig: 'local'};</script>\n        <script src=\"https://cdn.plot.ly/plotly-latest.min.js\"></script>                <div id=\"ccf003b3-0e2b-4c83-8437-46ff6a6e83d6\" class=\"plotly-graph-div\" style=\"height:525px; width:100%;\"></div>            <script type=\"text/javascript\">                                    window.PLOTLYENV=window.PLOTLYENV || {};                                    if (document.getElementById(\"ccf003b3-0e2b-4c83-8437-46ff6a6e83d6\")) {                    Plotly.newPlot(                        \"ccf003b3-0e2b-4c83-8437-46ff6a6e83d6\",                        [{\"alignmentgroup\": \"True\", \"hovertemplate\": \"index=%{x}<br>Frequency=%{y}<extra></extra>\", \"legendgroup\": \"\", \"marker\": {\"color\": \"#636efa\"}, \"name\": \"\", \"offsetgroup\": \"\", \"orientation\": \"v\", \"showlegend\": false, \"textposition\": \"auto\", \"type\": \"bar\", \"x\": [\"New York\", \"California\", \"Other\", \"Texas\", \"Virginia\", \"Illinois\", \"Massachusetts\", \"Florida\", \"Arizona\", \"Connecticut\", \"New Jersey\", \"Tennessee\", \"Wisconsin\", \"Georgia\", \"Colorado\", \"Oregon\", \"Kansas\", \"Washington\", \"Michigan\"], \"xaxis\": \"x\", \"y\": [0.2116788321167883, 0.1386861313868613, 0.09489051094890512, 0.0948905109489051, 0.058394160583941604, 0.051094890510948905, 0.051094890510948905, 0.043795620437956206, 0.0364963503649635, 0.0364963503649635, 0.0364963503649635, 0.021897810218978103, 0.021897810218978103, 0.021897810218978103, 0.021897810218978103, 0.014598540145985401, 0.014598540145985401, 0.014598540145985401, 0.014598540145985401], \"yaxis\": \"y\"}],                        {\"barmode\": \"relative\", \"legend\": {\"tracegroupgap\": 0}, \"margin\": {\"t\": 60}, \"template\": {\"data\": {\"bar\": [{\"error_x\": {\"color\": \"#2a3f5f\"}, \"error_y\": {\"color\": \"#2a3f5f\"}, \"marker\": {\"line\": {\"color\": \"#E5ECF6\", \"width\": 0.5}}, \"type\": \"bar\"}], \"barpolar\": [{\"marker\": {\"line\": {\"color\": \"#E5ECF6\", \"width\": 0.5}}, \"type\": \"barpolar\"}], \"carpet\": [{\"aaxis\": {\"endlinecolor\": \"#2a3f5f\", \"gridcolor\": \"white\", \"linecolor\": \"white\", \"minorgridcolor\": \"white\", \"startlinecolor\": \"#2a3f5f\"}, \"baxis\": {\"endlinecolor\": \"#2a3f5f\", \"gridcolor\": \"white\", \"linecolor\": \"white\", \"minorgridcolor\": \"white\", \"startlinecolor\": \"#2a3f5f\"}, \"type\": \"carpet\"}], \"choropleth\": [{\"colorbar\": {\"outlinewidth\": 0, \"ticks\": \"\"}, \"type\": \"choropleth\"}], \"contour\": [{\"colorbar\": {\"outlinewidth\": 0, \"ticks\": \"\"}, \"colorscale\": [[0.0, \"#0d0887\"], [0.1111111111111111, \"#46039f\"], [0.2222222222222222, \"#7201a8\"], [0.3333333333333333, \"#9c179e\"], [0.4444444444444444, \"#bd3786\"], [0.5555555555555556, \"#d8576b\"], [0.6666666666666666, \"#ed7953\"], [0.7777777777777778, \"#fb9f3a\"], [0.8888888888888888, \"#fdca26\"], [1.0, \"#f0f921\"]], \"type\": \"contour\"}], \"contourcarpet\": [{\"colorbar\": {\"outlinewidth\": 0, \"ticks\": \"\"}, \"type\": \"contourcarpet\"}], \"heatmap\": [{\"colorbar\": {\"outlinewidth\": 0, \"ticks\": \"\"}, \"colorscale\": [[0.0, \"#0d0887\"], [0.1111111111111111, \"#46039f\"], [0.2222222222222222, \"#7201a8\"], [0.3333333333333333, \"#9c179e\"], [0.4444444444444444, \"#bd3786\"], [0.5555555555555556, \"#d8576b\"], [0.6666666666666666, \"#ed7953\"], [0.7777777777777778, \"#fb9f3a\"], [0.8888888888888888, \"#fdca26\"], [1.0, \"#f0f921\"]], \"type\": \"heatmap\"}], \"heatmapgl\": [{\"colorbar\": {\"outlinewidth\": 0, \"ticks\": \"\"}, \"colorscale\": [[0.0, \"#0d0887\"], [0.1111111111111111, \"#46039f\"], [0.2222222222222222, \"#7201a8\"], [0.3333333333333333, \"#9c179e\"], [0.4444444444444444, \"#bd3786\"], [0.5555555555555556, \"#d8576b\"], [0.6666666666666666, \"#ed7953\"], [0.7777777777777778, \"#fb9f3a\"], [0.8888888888888888, \"#fdca26\"], [1.0, \"#f0f921\"]], \"type\": \"heatmapgl\"}], \"histogram\": [{\"marker\": {\"colorbar\": {\"outlinewidth\": 0, \"ticks\": \"\"}}, \"type\": \"histogram\"}], \"histogram2d\": [{\"colorbar\": {\"outlinewidth\": 0, \"ticks\": \"\"}, \"colorscale\": [[0.0, \"#0d0887\"], [0.1111111111111111, \"#46039f\"], [0.2222222222222222, \"#7201a8\"], [0.3333333333333333, \"#9c179e\"], [0.4444444444444444, \"#bd3786\"], [0.5555555555555556, \"#d8576b\"], [0.6666666666666666, \"#ed7953\"], [0.7777777777777778, \"#fb9f3a\"], [0.8888888888888888, \"#fdca26\"], [1.0, \"#f0f921\"]], \"type\": \"histogram2d\"}], \"histogram2dcontour\": [{\"colorbar\": {\"outlinewidth\": 0, \"ticks\": \"\"}, \"colorscale\": [[0.0, \"#0d0887\"], [0.1111111111111111, \"#46039f\"], [0.2222222222222222, \"#7201a8\"], [0.3333333333333333, \"#9c179e\"], [0.4444444444444444, \"#bd3786\"], [0.5555555555555556, \"#d8576b\"], [0.6666666666666666, \"#ed7953\"], [0.7777777777777778, \"#fb9f3a\"], [0.8888888888888888, \"#fdca26\"], [1.0, \"#f0f921\"]], \"type\": \"histogram2dcontour\"}], \"mesh3d\": [{\"colorbar\": {\"outlinewidth\": 0, \"ticks\": \"\"}, \"type\": \"mesh3d\"}], \"parcoords\": [{\"line\": {\"colorbar\": {\"outlinewidth\": 0, \"ticks\": \"\"}}, \"type\": \"parcoords\"}], \"pie\": [{\"automargin\": true, \"type\": \"pie\"}], \"scatter\": [{\"marker\": {\"colorbar\": {\"outlinewidth\": 0, \"ticks\": \"\"}}, \"type\": \"scatter\"}], \"scatter3d\": [{\"line\": {\"colorbar\": {\"outlinewidth\": 0, \"ticks\": \"\"}}, \"marker\": {\"colorbar\": {\"outlinewidth\": 0, \"ticks\": \"\"}}, \"type\": \"scatter3d\"}], \"scattercarpet\": [{\"marker\": {\"colorbar\": {\"outlinewidth\": 0, \"ticks\": \"\"}}, \"type\": \"scattercarpet\"}], \"scattergeo\": [{\"marker\": {\"colorbar\": {\"outlinewidth\": 0, \"ticks\": \"\"}}, \"type\": \"scattergeo\"}], \"scattergl\": [{\"marker\": {\"colorbar\": {\"outlinewidth\": 0, \"ticks\": \"\"}}, \"type\": \"scattergl\"}], \"scattermapbox\": [{\"marker\": {\"colorbar\": {\"outlinewidth\": 0, \"ticks\": \"\"}}, \"type\": \"scattermapbox\"}], \"scatterpolar\": [{\"marker\": {\"colorbar\": {\"outlinewidth\": 0, \"ticks\": \"\"}}, \"type\": \"scatterpolar\"}], \"scatterpolargl\": [{\"marker\": {\"colorbar\": {\"outlinewidth\": 0, \"ticks\": \"\"}}, \"type\": \"scatterpolargl\"}], \"scatterternary\": [{\"marker\": {\"colorbar\": {\"outlinewidth\": 0, \"ticks\": \"\"}}, \"type\": \"scatterternary\"}], \"surface\": [{\"colorbar\": {\"outlinewidth\": 0, \"ticks\": \"\"}, \"colorscale\": [[0.0, \"#0d0887\"], [0.1111111111111111, \"#46039f\"], [0.2222222222222222, \"#7201a8\"], [0.3333333333333333, \"#9c179e\"], [0.4444444444444444, \"#bd3786\"], [0.5555555555555556, \"#d8576b\"], [0.6666666666666666, \"#ed7953\"], [0.7777777777777778, \"#fb9f3a\"], [0.8888888888888888, \"#fdca26\"], [1.0, \"#f0f921\"]], \"type\": \"surface\"}], \"table\": [{\"cells\": {\"fill\": {\"color\": \"#EBF0F8\"}, \"line\": {\"color\": \"white\"}}, \"header\": {\"fill\": {\"color\": \"#C8D4E3\"}, \"line\": {\"color\": \"white\"}}, \"type\": \"table\"}]}, \"layout\": {\"annotationdefaults\": {\"arrowcolor\": \"#2a3f5f\", \"arrowhead\": 0, \"arrowwidth\": 1}, \"autotypenumbers\": \"strict\", \"coloraxis\": {\"colorbar\": {\"outlinewidth\": 0, \"ticks\": \"\"}}, \"colorscale\": {\"diverging\": [[0, \"#8e0152\"], [0.1, \"#c51b7d\"], [0.2, \"#de77ae\"], [0.3, \"#f1b6da\"], [0.4, \"#fde0ef\"], [0.5, \"#f7f7f7\"], [0.6, \"#e6f5d0\"], [0.7, \"#b8e186\"], [0.8, \"#7fbc41\"], [0.9, \"#4d9221\"], [1, \"#276419\"]], \"sequential\": [[0.0, \"#0d0887\"], [0.1111111111111111, \"#46039f\"], [0.2222222222222222, \"#7201a8\"], [0.3333333333333333, \"#9c179e\"], [0.4444444444444444, \"#bd3786\"], [0.5555555555555556, \"#d8576b\"], [0.6666666666666666, \"#ed7953\"], [0.7777777777777778, \"#fb9f3a\"], [0.8888888888888888, \"#fdca26\"], [1.0, \"#f0f921\"]], \"sequentialminus\": [[0.0, \"#0d0887\"], [0.1111111111111111, \"#46039f\"], [0.2222222222222222, \"#7201a8\"], [0.3333333333333333, \"#9c179e\"], [0.4444444444444444, \"#bd3786\"], [0.5555555555555556, \"#d8576b\"], [0.6666666666666666, \"#ed7953\"], [0.7777777777777778, \"#fb9f3a\"], [0.8888888888888888, \"#fdca26\"], [1.0, \"#f0f921\"]]}, \"colorway\": [\"#636efa\", \"#EF553B\", \"#00cc96\", \"#ab63fa\", \"#FFA15A\", \"#19d3f3\", \"#FF6692\", \"#B6E880\", \"#FF97FF\", \"#FECB52\"], \"font\": {\"color\": \"#2a3f5f\"}, \"geo\": {\"bgcolor\": \"white\", \"lakecolor\": \"white\", \"landcolor\": \"#E5ECF6\", \"showlakes\": true, \"showland\": true, \"subunitcolor\": \"white\"}, \"hoverlabel\": {\"align\": \"left\"}, \"hovermode\": \"closest\", \"mapbox\": {\"style\": \"light\"}, \"paper_bgcolor\": \"white\", \"plot_bgcolor\": \"#E5ECF6\", \"polar\": {\"angularaxis\": {\"gridcolor\": \"white\", \"linecolor\": \"white\", \"ticks\": \"\"}, \"bgcolor\": \"#E5ECF6\", \"radialaxis\": {\"gridcolor\": \"white\", \"linecolor\": \"white\", \"ticks\": \"\"}}, \"scene\": {\"xaxis\": {\"backgroundcolor\": \"#E5ECF6\", \"gridcolor\": \"white\", \"gridwidth\": 2, \"linecolor\": \"white\", \"showbackground\": true, \"ticks\": \"\", \"zerolinecolor\": \"white\"}, \"yaxis\": {\"backgroundcolor\": \"#E5ECF6\", \"gridcolor\": \"white\", \"gridwidth\": 2, \"linecolor\": \"white\", \"showbackground\": true, \"ticks\": \"\", \"zerolinecolor\": \"white\"}, \"zaxis\": {\"backgroundcolor\": \"#E5ECF6\", \"gridcolor\": \"white\", \"gridwidth\": 2, \"linecolor\": \"white\", \"showbackground\": true, \"ticks\": \"\", \"zerolinecolor\": \"white\"}}, \"shapedefaults\": {\"line\": {\"color\": \"#2a3f5f\"}}, \"ternary\": {\"aaxis\": {\"gridcolor\": \"white\", \"linecolor\": \"white\", \"ticks\": \"\"}, \"baxis\": {\"gridcolor\": \"white\", \"linecolor\": \"white\", \"ticks\": \"\"}, \"bgcolor\": \"#E5ECF6\", \"caxis\": {\"gridcolor\": \"white\", \"linecolor\": \"white\", \"ticks\": \"\"}}, \"title\": {\"x\": 0.05}, \"xaxis\": {\"automargin\": true, \"gridcolor\": \"white\", \"linecolor\": \"white\", \"ticks\": \"\", \"title\": {\"standoff\": 15}, \"zerolinecolor\": \"white\", \"zerolinewidth\": 2}, \"yaxis\": {\"automargin\": true, \"gridcolor\": \"white\", \"linecolor\": \"white\", \"ticks\": \"\", \"title\": {\"standoff\": 15}, \"zerolinecolor\": \"white\", \"zerolinewidth\": 2}}}, \"xaxis\": {\"anchor\": \"y\", \"domain\": [0.0, 1.0], \"tickangle\": 45, \"title\": {\"text\": \"index\"}}, \"yaxis\": {\"anchor\": \"x\", \"domain\": [0.0, 1.0], \"title\": {\"text\": \"Frequency\"}}},                        {\"responsive\": true}                    ).then(function(){\n                            \nvar gd = document.getElementById('ccf003b3-0e2b-4c83-8437-46ff6a6e83d6');\nvar x = new MutationObserver(function (mutations, observer) {{\n        var display = window.getComputedStyle(gd).display;\n        if (!display || display === 'none') {{\n            console.log([gd, 'removed!']);\n            Plotly.purge(gd);\n            observer.disconnect();\n        }}\n}});\n\n// Listen for the removal of the full notebook cells\nvar notebookContainer = gd.closest('#notebook-container');\nif (notebookContainer) {{\n    x.observe(notebookContainer, {childList: true});\n}}\n\n// Listen for the clearing of the current output cell\nvar outputEl = gd.closest('.output');\nif (outputEl) {{\n    x.observe(outputEl, {childList: true});\n}}\n\n                        })                };                            </script>        </div>\n</body>\n</html>"
     },
     "metadata": {},
     "output_type": "display_data"
    }
   ]
  },
  {
   "cell_type": "code",
   "metadata": {
    "tags": [],
    "cell_id": "00029-8cf0bf1b-8cae-47c9-92c0-e761dae354ec",
    "deepnote_to_be_reexecuted": false,
    "source_hash": "e25812c9",
    "execution_start": 1625240801425,
    "execution_millis": 66,
    "deepnote_cell_type": "code"
   },
   "source": "df = public_financial['City'].value_counts().to_frame()\nfig = px.bar(df, x=df.index, y='City')\nfig.update_xaxes(tickangle=45)",
   "execution_count": null,
   "outputs": [
    {
     "data": {
      "text/html": "<html>\n<head><meta charset=\"utf-8\" /></head>\n<body>\n    <div>            <script src=\"https://cdnjs.cloudflare.com/ajax/libs/mathjax/2.7.5/MathJax.js?config=TeX-AMS-MML_SVG\"></script><script type=\"text/javascript\">if (window.MathJax) {MathJax.Hub.Config({SVG: {font: \"STIX-Web\"}});}</script>                <script type=\"text/javascript\">window.PlotlyConfig = {MathJaxConfig: 'local'};</script>\n        <script src=\"https://cdn.plot.ly/plotly-latest.min.js\"></script>                <div id=\"d8d5d814-258d-47d0-af95-26db162c50ae\" class=\"plotly-graph-div\" style=\"height:525px; width:100%;\"></div>            <script type=\"text/javascript\">                                    window.PLOTLYENV=window.PLOTLYENV || {};                                    if (document.getElementById(\"d8d5d814-258d-47d0-af95-26db162c50ae\")) {                    Plotly.newPlot(                        \"d8d5d814-258d-47d0-af95-26db162c50ae\",                        [{\"alignmentgroup\": \"True\", \"hovertemplate\": \"index=%{x}<br>City=%{y}<extra></extra>\", \"legendgroup\": \"\", \"marker\": {\"color\": \"#636efa\"}, \"name\": \"\", \"offsetgroup\": \"\", \"orientation\": \"v\", \"showlegend\": false, \"textposition\": \"auto\", \"type\": \"bar\", \"x\": [\"New York\", \"Chicago\", \"San Diego\", \"Scottsdale\", \"Boston\", \"Dallas\", \"Los Angeles\", \"Atlanta\", \"Houston\", \"McLean\", \"Richmond\", \"Moorpark\", \"Mount Pleasant\", \"Beaverton\", \"Greenwich\", \"Newton\", \"Englewood\", \"Wichita\", \"Milwaukee\", \"Virginia Beach\", \"White Plains\", \"San Francisco\", \"Nashville\", \"Irvine\", \"Brooklyn\", \"Manitowoc\", \"Cedarhurst\", \"Fort Lauderdale\", \"Minneapolis\", \"Franklin\", \"Newark\", \"Mountlake Terrace\", \"Stamford\", \"Princeton\", \"Austin\", \"Detroit\", \"Sioux Falls\", \"Old Greenwich\", \"Raleigh\", \"Tampa\", \"Billings\", \"Foster City\", \"Roseland\", \"Lansing\", \"Moorestown\", \"McKinney\", \"Philadelphia\", \"Washington\", \"Walnut Creek\", \"Greenwood Village\", \"Prides Crossing\", \"Oak Brook\", \"Chesterfield\", \"Vero Beach\", \"West Palm Beach\", \"Annapolis\", \"Roanoke\", \"Emeryville\", \"Pasadena\", \"Providence\", \"Conroe\", \"Englewood Cliffs\", \"Baton Rouge\", \"Honolulu\", \"New Canaan\", \"Oklahoma City\", \"Las Vegas\", \"Clearwater\", \"Gig Harbor\", \"Santa Monica\", \"Daytona Beach\"], \"xaxis\": \"x\", \"y\": [25, 6, 5, 5, 4, 4, 4, 3, 3, 3, 3, 2, 2, 2, 2, 2, 2, 2, 2, 2, 2, 2, 2, 1, 1, 1, 1, 1, 1, 1, 1, 1, 1, 1, 1, 1, 1, 1, 1, 1, 1, 1, 1, 1, 1, 1, 1, 1, 1, 1, 1, 1, 1, 1, 1, 1, 1, 1, 1, 1, 1, 1, 1, 1, 1, 1, 1, 1, 1, 1, 1], \"yaxis\": \"y\"}],                        {\"barmode\": \"relative\", \"legend\": {\"tracegroupgap\": 0}, \"margin\": {\"t\": 60}, \"template\": {\"data\": {\"bar\": [{\"error_x\": {\"color\": \"#2a3f5f\"}, \"error_y\": {\"color\": \"#2a3f5f\"}, \"marker\": {\"line\": {\"color\": \"#E5ECF6\", \"width\": 0.5}}, \"type\": \"bar\"}], \"barpolar\": [{\"marker\": {\"line\": {\"color\": \"#E5ECF6\", \"width\": 0.5}}, \"type\": \"barpolar\"}], \"carpet\": [{\"aaxis\": {\"endlinecolor\": \"#2a3f5f\", \"gridcolor\": \"white\", \"linecolor\": \"white\", \"minorgridcolor\": \"white\", \"startlinecolor\": \"#2a3f5f\"}, \"baxis\": {\"endlinecolor\": \"#2a3f5f\", \"gridcolor\": \"white\", \"linecolor\": \"white\", \"minorgridcolor\": \"white\", \"startlinecolor\": \"#2a3f5f\"}, \"type\": \"carpet\"}], \"choropleth\": [{\"colorbar\": {\"outlinewidth\": 0, \"ticks\": \"\"}, \"type\": \"choropleth\"}], \"contour\": [{\"colorbar\": {\"outlinewidth\": 0, \"ticks\": \"\"}, \"colorscale\": [[0.0, \"#0d0887\"], [0.1111111111111111, \"#46039f\"], [0.2222222222222222, \"#7201a8\"], [0.3333333333333333, \"#9c179e\"], [0.4444444444444444, \"#bd3786\"], [0.5555555555555556, \"#d8576b\"], [0.6666666666666666, \"#ed7953\"], [0.7777777777777778, \"#fb9f3a\"], [0.8888888888888888, \"#fdca26\"], [1.0, \"#f0f921\"]], \"type\": \"contour\"}], \"contourcarpet\": [{\"colorbar\": {\"outlinewidth\": 0, \"ticks\": \"\"}, \"type\": \"contourcarpet\"}], \"heatmap\": [{\"colorbar\": {\"outlinewidth\": 0, \"ticks\": \"\"}, \"colorscale\": [[0.0, \"#0d0887\"], [0.1111111111111111, \"#46039f\"], [0.2222222222222222, \"#7201a8\"], [0.3333333333333333, \"#9c179e\"], [0.4444444444444444, \"#bd3786\"], [0.5555555555555556, \"#d8576b\"], [0.6666666666666666, \"#ed7953\"], [0.7777777777777778, \"#fb9f3a\"], [0.8888888888888888, \"#fdca26\"], [1.0, \"#f0f921\"]], \"type\": \"heatmap\"}], \"heatmapgl\": [{\"colorbar\": {\"outlinewidth\": 0, \"ticks\": \"\"}, \"colorscale\": [[0.0, \"#0d0887\"], [0.1111111111111111, \"#46039f\"], [0.2222222222222222, \"#7201a8\"], [0.3333333333333333, \"#9c179e\"], [0.4444444444444444, \"#bd3786\"], [0.5555555555555556, \"#d8576b\"], [0.6666666666666666, \"#ed7953\"], [0.7777777777777778, \"#fb9f3a\"], [0.8888888888888888, \"#fdca26\"], [1.0, \"#f0f921\"]], \"type\": \"heatmapgl\"}], \"histogram\": [{\"marker\": {\"colorbar\": {\"outlinewidth\": 0, \"ticks\": \"\"}}, \"type\": \"histogram\"}], \"histogram2d\": [{\"colorbar\": {\"outlinewidth\": 0, \"ticks\": \"\"}, \"colorscale\": [[0.0, \"#0d0887\"], [0.1111111111111111, \"#46039f\"], [0.2222222222222222, \"#7201a8\"], [0.3333333333333333, \"#9c179e\"], [0.4444444444444444, \"#bd3786\"], [0.5555555555555556, \"#d8576b\"], [0.6666666666666666, \"#ed7953\"], [0.7777777777777778, \"#fb9f3a\"], [0.8888888888888888, \"#fdca26\"], [1.0, \"#f0f921\"]], \"type\": \"histogram2d\"}], \"histogram2dcontour\": [{\"colorbar\": {\"outlinewidth\": 0, \"ticks\": \"\"}, \"colorscale\": [[0.0, \"#0d0887\"], [0.1111111111111111, \"#46039f\"], [0.2222222222222222, \"#7201a8\"], [0.3333333333333333, \"#9c179e\"], [0.4444444444444444, \"#bd3786\"], [0.5555555555555556, \"#d8576b\"], [0.6666666666666666, \"#ed7953\"], [0.7777777777777778, \"#fb9f3a\"], [0.8888888888888888, \"#fdca26\"], [1.0, \"#f0f921\"]], \"type\": \"histogram2dcontour\"}], \"mesh3d\": [{\"colorbar\": {\"outlinewidth\": 0, \"ticks\": \"\"}, \"type\": \"mesh3d\"}], \"parcoords\": [{\"line\": {\"colorbar\": {\"outlinewidth\": 0, \"ticks\": \"\"}}, \"type\": \"parcoords\"}], \"pie\": [{\"automargin\": true, \"type\": \"pie\"}], \"scatter\": [{\"marker\": {\"colorbar\": {\"outlinewidth\": 0, \"ticks\": \"\"}}, \"type\": \"scatter\"}], \"scatter3d\": [{\"line\": {\"colorbar\": {\"outlinewidth\": 0, \"ticks\": \"\"}}, \"marker\": {\"colorbar\": {\"outlinewidth\": 0, \"ticks\": \"\"}}, \"type\": \"scatter3d\"}], \"scattercarpet\": [{\"marker\": {\"colorbar\": {\"outlinewidth\": 0, \"ticks\": \"\"}}, \"type\": \"scattercarpet\"}], \"scattergeo\": [{\"marker\": {\"colorbar\": {\"outlinewidth\": 0, \"ticks\": \"\"}}, \"type\": \"scattergeo\"}], \"scattergl\": [{\"marker\": {\"colorbar\": {\"outlinewidth\": 0, \"ticks\": \"\"}}, \"type\": \"scattergl\"}], \"scattermapbox\": [{\"marker\": {\"colorbar\": {\"outlinewidth\": 0, \"ticks\": \"\"}}, \"type\": \"scattermapbox\"}], \"scatterpolar\": [{\"marker\": {\"colorbar\": {\"outlinewidth\": 0, \"ticks\": \"\"}}, \"type\": \"scatterpolar\"}], \"scatterpolargl\": [{\"marker\": {\"colorbar\": {\"outlinewidth\": 0, \"ticks\": \"\"}}, \"type\": \"scatterpolargl\"}], \"scatterternary\": [{\"marker\": {\"colorbar\": {\"outlinewidth\": 0, \"ticks\": \"\"}}, \"type\": \"scatterternary\"}], \"surface\": [{\"colorbar\": {\"outlinewidth\": 0, \"ticks\": \"\"}, \"colorscale\": [[0.0, \"#0d0887\"], [0.1111111111111111, \"#46039f\"], [0.2222222222222222, \"#7201a8\"], [0.3333333333333333, \"#9c179e\"], [0.4444444444444444, \"#bd3786\"], [0.5555555555555556, \"#d8576b\"], [0.6666666666666666, \"#ed7953\"], [0.7777777777777778, \"#fb9f3a\"], [0.8888888888888888, \"#fdca26\"], [1.0, \"#f0f921\"]], \"type\": \"surface\"}], \"table\": [{\"cells\": {\"fill\": {\"color\": \"#EBF0F8\"}, \"line\": {\"color\": \"white\"}}, \"header\": {\"fill\": {\"color\": \"#C8D4E3\"}, \"line\": {\"color\": \"white\"}}, \"type\": \"table\"}]}, \"layout\": {\"annotationdefaults\": {\"arrowcolor\": \"#2a3f5f\", \"arrowhead\": 0, \"arrowwidth\": 1}, \"autotypenumbers\": \"strict\", \"coloraxis\": {\"colorbar\": {\"outlinewidth\": 0, \"ticks\": \"\"}}, \"colorscale\": {\"diverging\": [[0, \"#8e0152\"], [0.1, \"#c51b7d\"], [0.2, \"#de77ae\"], [0.3, \"#f1b6da\"], [0.4, \"#fde0ef\"], [0.5, \"#f7f7f7\"], [0.6, \"#e6f5d0\"], [0.7, \"#b8e186\"], [0.8, \"#7fbc41\"], [0.9, \"#4d9221\"], [1, \"#276419\"]], \"sequential\": [[0.0, \"#0d0887\"], [0.1111111111111111, \"#46039f\"], [0.2222222222222222, \"#7201a8\"], [0.3333333333333333, \"#9c179e\"], [0.4444444444444444, \"#bd3786\"], [0.5555555555555556, \"#d8576b\"], [0.6666666666666666, \"#ed7953\"], [0.7777777777777778, \"#fb9f3a\"], [0.8888888888888888, \"#fdca26\"], [1.0, \"#f0f921\"]], \"sequentialminus\": [[0.0, \"#0d0887\"], [0.1111111111111111, \"#46039f\"], [0.2222222222222222, \"#7201a8\"], [0.3333333333333333, \"#9c179e\"], [0.4444444444444444, \"#bd3786\"], [0.5555555555555556, \"#d8576b\"], [0.6666666666666666, \"#ed7953\"], [0.7777777777777778, \"#fb9f3a\"], [0.8888888888888888, \"#fdca26\"], [1.0, \"#f0f921\"]]}, \"colorway\": [\"#636efa\", \"#EF553B\", \"#00cc96\", \"#ab63fa\", \"#FFA15A\", \"#19d3f3\", \"#FF6692\", \"#B6E880\", \"#FF97FF\", \"#FECB52\"], \"font\": {\"color\": \"#2a3f5f\"}, \"geo\": {\"bgcolor\": \"white\", \"lakecolor\": \"white\", \"landcolor\": \"#E5ECF6\", \"showlakes\": true, \"showland\": true, \"subunitcolor\": \"white\"}, \"hoverlabel\": {\"align\": \"left\"}, \"hovermode\": \"closest\", \"mapbox\": {\"style\": \"light\"}, \"paper_bgcolor\": \"white\", \"plot_bgcolor\": \"#E5ECF6\", \"polar\": {\"angularaxis\": {\"gridcolor\": \"white\", \"linecolor\": \"white\", \"ticks\": \"\"}, \"bgcolor\": \"#E5ECF6\", \"radialaxis\": {\"gridcolor\": \"white\", \"linecolor\": \"white\", \"ticks\": \"\"}}, \"scene\": {\"xaxis\": {\"backgroundcolor\": \"#E5ECF6\", \"gridcolor\": \"white\", \"gridwidth\": 2, \"linecolor\": \"white\", \"showbackground\": true, \"ticks\": \"\", \"zerolinecolor\": \"white\"}, \"yaxis\": {\"backgroundcolor\": \"#E5ECF6\", \"gridcolor\": \"white\", \"gridwidth\": 2, \"linecolor\": \"white\", \"showbackground\": true, \"ticks\": \"\", \"zerolinecolor\": \"white\"}, \"zaxis\": {\"backgroundcolor\": \"#E5ECF6\", \"gridcolor\": \"white\", \"gridwidth\": 2, \"linecolor\": \"white\", \"showbackground\": true, \"ticks\": \"\", \"zerolinecolor\": \"white\"}}, \"shapedefaults\": {\"line\": {\"color\": \"#2a3f5f\"}}, \"ternary\": {\"aaxis\": {\"gridcolor\": \"white\", \"linecolor\": \"white\", \"ticks\": \"\"}, \"baxis\": {\"gridcolor\": \"white\", \"linecolor\": \"white\", \"ticks\": \"\"}, \"bgcolor\": \"#E5ECF6\", \"caxis\": {\"gridcolor\": \"white\", \"linecolor\": \"white\", \"ticks\": \"\"}}, \"title\": {\"x\": 0.05}, \"xaxis\": {\"automargin\": true, \"gridcolor\": \"white\", \"linecolor\": \"white\", \"ticks\": \"\", \"title\": {\"standoff\": 15}, \"zerolinecolor\": \"white\", \"zerolinewidth\": 2}, \"yaxis\": {\"automargin\": true, \"gridcolor\": \"white\", \"linecolor\": \"white\", \"ticks\": \"\", \"title\": {\"standoff\": 15}, \"zerolinecolor\": \"white\", \"zerolinewidth\": 2}}}, \"xaxis\": {\"anchor\": \"y\", \"domain\": [0.0, 1.0], \"tickangle\": 45, \"title\": {\"text\": \"index\"}}, \"yaxis\": {\"anchor\": \"x\", \"domain\": [0.0, 1.0], \"title\": {\"text\": \"City\"}}},                        {\"responsive\": true}                    ).then(function(){\n                            \nvar gd = document.getElementById('d8d5d814-258d-47d0-af95-26db162c50ae');\nvar x = new MutationObserver(function (mutations, observer) {{\n        var display = window.getComputedStyle(gd).display;\n        if (!display || display === 'none') {{\n            console.log([gd, 'removed!']);\n            Plotly.purge(gd);\n            observer.disconnect();\n        }}\n}});\n\n// Listen for the removal of the full notebook cells\nvar notebookContainer = gd.closest('#notebook-container');\nif (notebookContainer) {{\n    x.observe(notebookContainer, {childList: true});\n}}\n\n// Listen for the clearing of the current output cell\nvar outputEl = gd.closest('.output');\nif (outputEl) {{\n    x.observe(outputEl, {childList: true});\n}}\n\n                        })                };                            </script>        </div>\n</body>\n</html>"
     },
     "metadata": {},
     "output_type": "display_data"
    }
   ]
  },
  {
   "cell_type": "code",
   "metadata": {
    "tags": [],
    "cell_id": "00030-61501076-685d-4443-8d4d-5cdab46f725c",
    "deepnote_to_be_reexecuted": false,
    "source_hash": "e86e69ee",
    "execution_start": 1625240801538,
    "execution_millis": 101,
    "deepnote_cell_type": "code"
   },
   "source": "freq = public_financial['City'].value_counts().to_frame().reset_index()\nbottom = freq.quantile(q = 0.4)\nless_freq = freq[freq <= bottom]\nfreq.loc[less_freq['City'].notnull(),'index'] = \"Other\"\ntemp = freq.groupby('index')['City'].sum().to_frame()\ntemp.columns = ['Count']\ntemp.sort_values(by=['Count'], ascending=False, inplace = True)\nfig = px.bar(temp, x=temp.index, y='Count')\nfig.update_xaxes(tickangle=45)",
   "execution_count": null,
   "outputs": [
    {
     "name": "stderr",
     "text": "/shared-libs/python3.7/py-core/lib/python3.7/site-packages/ipykernel_launcher.py:3: FutureWarning:\n\nAutomatic reindexing on DataFrame vs Series comparisons is deprecated and will raise ValueError in a future version.  Do `left, right = left.align(right, axis=1, copy=False)` before e.g. `left == right`\n\n",
     "output_type": "stream"
    },
    {
     "data": {
      "text/html": "<html>\n<head><meta charset=\"utf-8\" /></head>\n<body>\n    <div>            <script src=\"https://cdnjs.cloudflare.com/ajax/libs/mathjax/2.7.5/MathJax.js?config=TeX-AMS-MML_SVG\"></script><script type=\"text/javascript\">if (window.MathJax) {MathJax.Hub.Config({SVG: {font: \"STIX-Web\"}});}</script>                <script type=\"text/javascript\">window.PlotlyConfig = {MathJaxConfig: 'local'};</script>\n        <script src=\"https://cdn.plot.ly/plotly-latest.min.js\"></script>                <div id=\"8c2641dd-f917-4d60-bc16-3b8bc3c5f979\" class=\"plotly-graph-div\" style=\"height:525px; width:100%;\"></div>            <script type=\"text/javascript\">                                    window.PLOTLYENV=window.PLOTLYENV || {};                                    if (document.getElementById(\"8c2641dd-f917-4d60-bc16-3b8bc3c5f979\")) {                    Plotly.newPlot(                        \"8c2641dd-f917-4d60-bc16-3b8bc3c5f979\",                        [{\"alignmentgroup\": \"True\", \"hovertemplate\": \"index=%{x}<br>Count=%{y}<extra></extra>\", \"legendgroup\": \"\", \"marker\": {\"color\": \"#636efa\"}, \"name\": \"\", \"offsetgroup\": \"\", \"orientation\": \"v\", \"showlegend\": false, \"textposition\": \"auto\", \"type\": \"bar\", \"x\": [\"Other\", \"New York\", \"Chicago\", \"Scottsdale\", \"San Diego\", \"Boston\", \"Dallas\", \"Los Angeles\", \"Atlanta\", \"Houston\", \"McLean\", \"Richmond\", \"White Plains\", \"Virginia Beach\", \"San Francisco\", \"Mount Pleasant\", \"Newton\", \"Nashville\", \"Beaverton\", \"Moorpark\", \"Milwaukee\", \"Greenwich\", \"Englewood\", \"Wichita\"], \"xaxis\": \"x\", \"y\": [48, 25, 6, 5, 5, 4, 4, 4, 3, 3, 3, 3, 2, 2, 2, 2, 2, 2, 2, 2, 2, 2, 2, 2], \"yaxis\": \"y\"}],                        {\"barmode\": \"relative\", \"legend\": {\"tracegroupgap\": 0}, \"margin\": {\"t\": 60}, \"template\": {\"data\": {\"bar\": [{\"error_x\": {\"color\": \"#2a3f5f\"}, \"error_y\": {\"color\": \"#2a3f5f\"}, \"marker\": {\"line\": {\"color\": \"#E5ECF6\", \"width\": 0.5}}, \"type\": \"bar\"}], \"barpolar\": [{\"marker\": {\"line\": {\"color\": \"#E5ECF6\", \"width\": 0.5}}, \"type\": \"barpolar\"}], \"carpet\": [{\"aaxis\": {\"endlinecolor\": \"#2a3f5f\", \"gridcolor\": \"white\", \"linecolor\": \"white\", \"minorgridcolor\": \"white\", \"startlinecolor\": \"#2a3f5f\"}, \"baxis\": {\"endlinecolor\": \"#2a3f5f\", \"gridcolor\": \"white\", \"linecolor\": \"white\", \"minorgridcolor\": \"white\", \"startlinecolor\": \"#2a3f5f\"}, \"type\": \"carpet\"}], \"choropleth\": [{\"colorbar\": {\"outlinewidth\": 0, \"ticks\": \"\"}, \"type\": \"choropleth\"}], \"contour\": [{\"colorbar\": {\"outlinewidth\": 0, \"ticks\": \"\"}, \"colorscale\": [[0.0, \"#0d0887\"], [0.1111111111111111, \"#46039f\"], [0.2222222222222222, \"#7201a8\"], [0.3333333333333333, \"#9c179e\"], [0.4444444444444444, \"#bd3786\"], [0.5555555555555556, \"#d8576b\"], [0.6666666666666666, \"#ed7953\"], [0.7777777777777778, \"#fb9f3a\"], [0.8888888888888888, \"#fdca26\"], [1.0, \"#f0f921\"]], \"type\": \"contour\"}], \"contourcarpet\": [{\"colorbar\": {\"outlinewidth\": 0, \"ticks\": \"\"}, \"type\": \"contourcarpet\"}], \"heatmap\": [{\"colorbar\": {\"outlinewidth\": 0, \"ticks\": \"\"}, \"colorscale\": [[0.0, \"#0d0887\"], [0.1111111111111111, \"#46039f\"], [0.2222222222222222, \"#7201a8\"], [0.3333333333333333, \"#9c179e\"], [0.4444444444444444, \"#bd3786\"], [0.5555555555555556, \"#d8576b\"], [0.6666666666666666, \"#ed7953\"], [0.7777777777777778, \"#fb9f3a\"], [0.8888888888888888, \"#fdca26\"], [1.0, \"#f0f921\"]], \"type\": \"heatmap\"}], \"heatmapgl\": [{\"colorbar\": {\"outlinewidth\": 0, \"ticks\": \"\"}, \"colorscale\": [[0.0, \"#0d0887\"], [0.1111111111111111, \"#46039f\"], [0.2222222222222222, \"#7201a8\"], [0.3333333333333333, \"#9c179e\"], [0.4444444444444444, \"#bd3786\"], [0.5555555555555556, \"#d8576b\"], [0.6666666666666666, \"#ed7953\"], [0.7777777777777778, \"#fb9f3a\"], [0.8888888888888888, \"#fdca26\"], [1.0, \"#f0f921\"]], \"type\": \"heatmapgl\"}], \"histogram\": [{\"marker\": {\"colorbar\": {\"outlinewidth\": 0, \"ticks\": \"\"}}, \"type\": \"histogram\"}], \"histogram2d\": [{\"colorbar\": {\"outlinewidth\": 0, \"ticks\": \"\"}, \"colorscale\": [[0.0, \"#0d0887\"], [0.1111111111111111, \"#46039f\"], [0.2222222222222222, \"#7201a8\"], [0.3333333333333333, \"#9c179e\"], [0.4444444444444444, \"#bd3786\"], [0.5555555555555556, \"#d8576b\"], [0.6666666666666666, \"#ed7953\"], [0.7777777777777778, \"#fb9f3a\"], [0.8888888888888888, \"#fdca26\"], [1.0, \"#f0f921\"]], \"type\": \"histogram2d\"}], \"histogram2dcontour\": [{\"colorbar\": {\"outlinewidth\": 0, \"ticks\": \"\"}, \"colorscale\": [[0.0, \"#0d0887\"], [0.1111111111111111, \"#46039f\"], [0.2222222222222222, \"#7201a8\"], [0.3333333333333333, \"#9c179e\"], [0.4444444444444444, \"#bd3786\"], [0.5555555555555556, \"#d8576b\"], [0.6666666666666666, \"#ed7953\"], [0.7777777777777778, \"#fb9f3a\"], [0.8888888888888888, \"#fdca26\"], [1.0, \"#f0f921\"]], \"type\": \"histogram2dcontour\"}], \"mesh3d\": [{\"colorbar\": {\"outlinewidth\": 0, \"ticks\": \"\"}, \"type\": \"mesh3d\"}], \"parcoords\": [{\"line\": {\"colorbar\": {\"outlinewidth\": 0, \"ticks\": \"\"}}, \"type\": \"parcoords\"}], \"pie\": [{\"automargin\": true, \"type\": \"pie\"}], \"scatter\": [{\"marker\": {\"colorbar\": {\"outlinewidth\": 0, \"ticks\": \"\"}}, \"type\": \"scatter\"}], \"scatter3d\": [{\"line\": {\"colorbar\": {\"outlinewidth\": 0, \"ticks\": \"\"}}, \"marker\": {\"colorbar\": {\"outlinewidth\": 0, \"ticks\": \"\"}}, \"type\": \"scatter3d\"}], \"scattercarpet\": [{\"marker\": {\"colorbar\": {\"outlinewidth\": 0, \"ticks\": \"\"}}, \"type\": \"scattercarpet\"}], \"scattergeo\": [{\"marker\": {\"colorbar\": {\"outlinewidth\": 0, \"ticks\": \"\"}}, \"type\": \"scattergeo\"}], \"scattergl\": [{\"marker\": {\"colorbar\": {\"outlinewidth\": 0, \"ticks\": \"\"}}, \"type\": \"scattergl\"}], \"scattermapbox\": [{\"marker\": {\"colorbar\": {\"outlinewidth\": 0, \"ticks\": \"\"}}, \"type\": \"scattermapbox\"}], \"scatterpolar\": [{\"marker\": {\"colorbar\": {\"outlinewidth\": 0, \"ticks\": \"\"}}, \"type\": \"scatterpolar\"}], \"scatterpolargl\": [{\"marker\": {\"colorbar\": {\"outlinewidth\": 0, \"ticks\": \"\"}}, \"type\": \"scatterpolargl\"}], \"scatterternary\": [{\"marker\": {\"colorbar\": {\"outlinewidth\": 0, \"ticks\": \"\"}}, \"type\": \"scatterternary\"}], \"surface\": [{\"colorbar\": {\"outlinewidth\": 0, \"ticks\": \"\"}, \"colorscale\": [[0.0, \"#0d0887\"], [0.1111111111111111, \"#46039f\"], [0.2222222222222222, \"#7201a8\"], [0.3333333333333333, \"#9c179e\"], [0.4444444444444444, \"#bd3786\"], [0.5555555555555556, \"#d8576b\"], [0.6666666666666666, \"#ed7953\"], [0.7777777777777778, \"#fb9f3a\"], [0.8888888888888888, \"#fdca26\"], [1.0, \"#f0f921\"]], \"type\": \"surface\"}], \"table\": [{\"cells\": {\"fill\": {\"color\": \"#EBF0F8\"}, \"line\": {\"color\": \"white\"}}, \"header\": {\"fill\": {\"color\": \"#C8D4E3\"}, \"line\": {\"color\": \"white\"}}, \"type\": \"table\"}]}, \"layout\": {\"annotationdefaults\": {\"arrowcolor\": \"#2a3f5f\", \"arrowhead\": 0, \"arrowwidth\": 1}, \"autotypenumbers\": \"strict\", \"coloraxis\": {\"colorbar\": {\"outlinewidth\": 0, \"ticks\": \"\"}}, \"colorscale\": {\"diverging\": [[0, \"#8e0152\"], [0.1, \"#c51b7d\"], [0.2, \"#de77ae\"], [0.3, \"#f1b6da\"], [0.4, \"#fde0ef\"], [0.5, \"#f7f7f7\"], [0.6, \"#e6f5d0\"], [0.7, \"#b8e186\"], [0.8, \"#7fbc41\"], [0.9, \"#4d9221\"], [1, \"#276419\"]], \"sequential\": [[0.0, \"#0d0887\"], [0.1111111111111111, \"#46039f\"], [0.2222222222222222, \"#7201a8\"], [0.3333333333333333, \"#9c179e\"], [0.4444444444444444, \"#bd3786\"], [0.5555555555555556, \"#d8576b\"], [0.6666666666666666, \"#ed7953\"], [0.7777777777777778, \"#fb9f3a\"], [0.8888888888888888, \"#fdca26\"], [1.0, \"#f0f921\"]], \"sequentialminus\": [[0.0, \"#0d0887\"], [0.1111111111111111, \"#46039f\"], [0.2222222222222222, \"#7201a8\"], [0.3333333333333333, \"#9c179e\"], [0.4444444444444444, \"#bd3786\"], [0.5555555555555556, \"#d8576b\"], [0.6666666666666666, \"#ed7953\"], [0.7777777777777778, \"#fb9f3a\"], [0.8888888888888888, \"#fdca26\"], [1.0, \"#f0f921\"]]}, \"colorway\": [\"#636efa\", \"#EF553B\", \"#00cc96\", \"#ab63fa\", \"#FFA15A\", \"#19d3f3\", \"#FF6692\", \"#B6E880\", \"#FF97FF\", \"#FECB52\"], \"font\": {\"color\": \"#2a3f5f\"}, \"geo\": {\"bgcolor\": \"white\", \"lakecolor\": \"white\", \"landcolor\": \"#E5ECF6\", \"showlakes\": true, \"showland\": true, \"subunitcolor\": \"white\"}, \"hoverlabel\": {\"align\": \"left\"}, \"hovermode\": \"closest\", \"mapbox\": {\"style\": \"light\"}, \"paper_bgcolor\": \"white\", \"plot_bgcolor\": \"#E5ECF6\", \"polar\": {\"angularaxis\": {\"gridcolor\": \"white\", \"linecolor\": \"white\", \"ticks\": \"\"}, \"bgcolor\": \"#E5ECF6\", \"radialaxis\": {\"gridcolor\": \"white\", \"linecolor\": \"white\", \"ticks\": \"\"}}, \"scene\": {\"xaxis\": {\"backgroundcolor\": \"#E5ECF6\", \"gridcolor\": \"white\", \"gridwidth\": 2, \"linecolor\": \"white\", \"showbackground\": true, \"ticks\": \"\", \"zerolinecolor\": \"white\"}, \"yaxis\": {\"backgroundcolor\": \"#E5ECF6\", \"gridcolor\": \"white\", \"gridwidth\": 2, \"linecolor\": \"white\", \"showbackground\": true, \"ticks\": \"\", \"zerolinecolor\": \"white\"}, \"zaxis\": {\"backgroundcolor\": \"#E5ECF6\", \"gridcolor\": \"white\", \"gridwidth\": 2, \"linecolor\": \"white\", \"showbackground\": true, \"ticks\": \"\", \"zerolinecolor\": \"white\"}}, \"shapedefaults\": {\"line\": {\"color\": \"#2a3f5f\"}}, \"ternary\": {\"aaxis\": {\"gridcolor\": \"white\", \"linecolor\": \"white\", \"ticks\": \"\"}, \"baxis\": {\"gridcolor\": \"white\", \"linecolor\": \"white\", \"ticks\": \"\"}, \"bgcolor\": \"#E5ECF6\", \"caxis\": {\"gridcolor\": \"white\", \"linecolor\": \"white\", \"ticks\": \"\"}}, \"title\": {\"x\": 0.05}, \"xaxis\": {\"automargin\": true, \"gridcolor\": \"white\", \"linecolor\": \"white\", \"ticks\": \"\", \"title\": {\"standoff\": 15}, \"zerolinecolor\": \"white\", \"zerolinewidth\": 2}, \"yaxis\": {\"automargin\": true, \"gridcolor\": \"white\", \"linecolor\": \"white\", \"ticks\": \"\", \"title\": {\"standoff\": 15}, \"zerolinecolor\": \"white\", \"zerolinewidth\": 2}}}, \"xaxis\": {\"anchor\": \"y\", \"domain\": [0.0, 1.0], \"tickangle\": 45, \"title\": {\"text\": \"index\"}}, \"yaxis\": {\"anchor\": \"x\", \"domain\": [0.0, 1.0], \"title\": {\"text\": \"Count\"}}},                        {\"responsive\": true}                    ).then(function(){\n                            \nvar gd = document.getElementById('8c2641dd-f917-4d60-bc16-3b8bc3c5f979');\nvar x = new MutationObserver(function (mutations, observer) {{\n        var display = window.getComputedStyle(gd).display;\n        if (!display || display === 'none') {{\n            console.log([gd, 'removed!']);\n            Plotly.purge(gd);\n            observer.disconnect();\n        }}\n}});\n\n// Listen for the removal of the full notebook cells\nvar notebookContainer = gd.closest('#notebook-container');\nif (notebookContainer) {{\n    x.observe(notebookContainer, {childList: true});\n}}\n\n// Listen for the clearing of the current output cell\nvar outputEl = gd.closest('.output');\nif (outputEl) {{\n    x.observe(outputEl, {childList: true});\n}}\n\n                        })                };                            </script>        </div>\n</body>\n</html>"
     },
     "metadata": {},
     "output_type": "display_data"
    }
   ]
  },
  {
   "cell_type": "code",
   "metadata": {
    "tags": [],
    "cell_id": "00028-cdef8911-1747-4a4a-a520-a0833fbd7545",
    "deepnote_to_be_reexecuted": false,
    "source_hash": "3e3741ff",
    "execution_start": 1625240801629,
    "execution_millis": 118,
    "deepnote_cell_type": "code"
   },
   "source": "df = public_financial['Industry'].value_counts().to_frame()\npx.bar(df, x=df.index, y='Industry')",
   "execution_count": null,
   "outputs": [
    {
     "data": {
      "text/html": "<html>\n<head><meta charset=\"utf-8\" /></head>\n<body>\n    <div>            <script src=\"https://cdnjs.cloudflare.com/ajax/libs/mathjax/2.7.5/MathJax.js?config=TeX-AMS-MML_SVG\"></script><script type=\"text/javascript\">if (window.MathJax) {MathJax.Hub.Config({SVG: {font: \"STIX-Web\"}});}</script>                <script type=\"text/javascript\">window.PlotlyConfig = {MathJaxConfig: 'local'};</script>\n        <script src=\"https://cdn.plot.ly/plotly-latest.min.js\"></script>                <div id=\"fe3c161f-6f4c-434e-a8e7-ab4c1edc9e6c\" class=\"plotly-graph-div\" style=\"height:525px; width:100%;\"></div>            <script type=\"text/javascript\">                                    window.PLOTLYENV=window.PLOTLYENV || {};                                    if (document.getElementById(\"fe3c161f-6f4c-434e-a8e7-ab4c1edc9e6c\")) {                    Plotly.newPlot(                        \"fe3c161f-6f4c-434e-a8e7-ab4c1edc9e6c\",                        [{\"alignmentgroup\": \"True\", \"hovertemplate\": \"index=%{x}<br>Industry=%{y}<extra></extra>\", \"legendgroup\": \"\", \"marker\": {\"color\": \"#636efa\"}, \"name\": \"\", \"offsetgroup\": \"\", \"orientation\": \"v\", \"showlegend\": false, \"textposition\": \"auto\", \"type\": \"bar\", \"x\": [\"Real Estate\", \"Retail Banking\", \"Investment Firms & Funds\", \"Asset/Financial Management\", \"Insurance\", \"Lending\", \"Investment Banking\", \"Payments (non-internet/mobile)\", \"Stock Exchanges\"], \"xaxis\": \"x\", \"y\": [55, 22, 16, 12, 11, 9, 6, 3, 2], \"yaxis\": \"y\"}],                        {\"barmode\": \"relative\", \"legend\": {\"tracegroupgap\": 0}, \"margin\": {\"t\": 60}, \"template\": {\"data\": {\"bar\": [{\"error_x\": {\"color\": \"#2a3f5f\"}, \"error_y\": {\"color\": \"#2a3f5f\"}, \"marker\": {\"line\": {\"color\": \"#E5ECF6\", \"width\": 0.5}}, \"type\": \"bar\"}], \"barpolar\": [{\"marker\": {\"line\": {\"color\": \"#E5ECF6\", \"width\": 0.5}}, \"type\": \"barpolar\"}], \"carpet\": [{\"aaxis\": {\"endlinecolor\": \"#2a3f5f\", \"gridcolor\": \"white\", \"linecolor\": \"white\", \"minorgridcolor\": \"white\", \"startlinecolor\": \"#2a3f5f\"}, \"baxis\": {\"endlinecolor\": \"#2a3f5f\", \"gridcolor\": \"white\", \"linecolor\": \"white\", \"minorgridcolor\": \"white\", \"startlinecolor\": \"#2a3f5f\"}, \"type\": \"carpet\"}], \"choropleth\": [{\"colorbar\": {\"outlinewidth\": 0, \"ticks\": \"\"}, \"type\": \"choropleth\"}], \"contour\": [{\"colorbar\": {\"outlinewidth\": 0, \"ticks\": \"\"}, \"colorscale\": [[0.0, \"#0d0887\"], [0.1111111111111111, \"#46039f\"], [0.2222222222222222, \"#7201a8\"], [0.3333333333333333, \"#9c179e\"], [0.4444444444444444, \"#bd3786\"], [0.5555555555555556, \"#d8576b\"], [0.6666666666666666, \"#ed7953\"], [0.7777777777777778, \"#fb9f3a\"], [0.8888888888888888, \"#fdca26\"], [1.0, \"#f0f921\"]], \"type\": \"contour\"}], \"contourcarpet\": [{\"colorbar\": {\"outlinewidth\": 0, \"ticks\": \"\"}, \"type\": \"contourcarpet\"}], \"heatmap\": [{\"colorbar\": {\"outlinewidth\": 0, \"ticks\": \"\"}, \"colorscale\": [[0.0, \"#0d0887\"], [0.1111111111111111, \"#46039f\"], [0.2222222222222222, \"#7201a8\"], [0.3333333333333333, \"#9c179e\"], [0.4444444444444444, \"#bd3786\"], [0.5555555555555556, \"#d8576b\"], [0.6666666666666666, \"#ed7953\"], [0.7777777777777778, \"#fb9f3a\"], [0.8888888888888888, \"#fdca26\"], [1.0, \"#f0f921\"]], \"type\": \"heatmap\"}], \"heatmapgl\": [{\"colorbar\": {\"outlinewidth\": 0, \"ticks\": \"\"}, \"colorscale\": [[0.0, \"#0d0887\"], [0.1111111111111111, \"#46039f\"], [0.2222222222222222, \"#7201a8\"], [0.3333333333333333, \"#9c179e\"], [0.4444444444444444, \"#bd3786\"], [0.5555555555555556, \"#d8576b\"], [0.6666666666666666, \"#ed7953\"], [0.7777777777777778, \"#fb9f3a\"], [0.8888888888888888, \"#fdca26\"], [1.0, \"#f0f921\"]], \"type\": \"heatmapgl\"}], \"histogram\": [{\"marker\": {\"colorbar\": {\"outlinewidth\": 0, \"ticks\": \"\"}}, \"type\": \"histogram\"}], \"histogram2d\": [{\"colorbar\": {\"outlinewidth\": 0, \"ticks\": \"\"}, \"colorscale\": [[0.0, \"#0d0887\"], [0.1111111111111111, \"#46039f\"], [0.2222222222222222, \"#7201a8\"], [0.3333333333333333, \"#9c179e\"], [0.4444444444444444, \"#bd3786\"], [0.5555555555555556, \"#d8576b\"], [0.6666666666666666, \"#ed7953\"], [0.7777777777777778, \"#fb9f3a\"], [0.8888888888888888, \"#fdca26\"], [1.0, \"#f0f921\"]], \"type\": \"histogram2d\"}], \"histogram2dcontour\": [{\"colorbar\": {\"outlinewidth\": 0, \"ticks\": \"\"}, \"colorscale\": [[0.0, \"#0d0887\"], [0.1111111111111111, \"#46039f\"], [0.2222222222222222, \"#7201a8\"], [0.3333333333333333, \"#9c179e\"], [0.4444444444444444, \"#bd3786\"], [0.5555555555555556, \"#d8576b\"], [0.6666666666666666, \"#ed7953\"], [0.7777777777777778, \"#fb9f3a\"], [0.8888888888888888, \"#fdca26\"], [1.0, \"#f0f921\"]], \"type\": \"histogram2dcontour\"}], \"mesh3d\": [{\"colorbar\": {\"outlinewidth\": 0, \"ticks\": \"\"}, \"type\": \"mesh3d\"}], \"parcoords\": [{\"line\": {\"colorbar\": {\"outlinewidth\": 0, \"ticks\": \"\"}}, \"type\": \"parcoords\"}], \"pie\": [{\"automargin\": true, \"type\": \"pie\"}], \"scatter\": [{\"marker\": {\"colorbar\": {\"outlinewidth\": 0, \"ticks\": \"\"}}, \"type\": \"scatter\"}], \"scatter3d\": [{\"line\": {\"colorbar\": {\"outlinewidth\": 0, \"ticks\": \"\"}}, \"marker\": {\"colorbar\": {\"outlinewidth\": 0, \"ticks\": \"\"}}, \"type\": \"scatter3d\"}], \"scattercarpet\": [{\"marker\": {\"colorbar\": {\"outlinewidth\": 0, \"ticks\": \"\"}}, \"type\": \"scattercarpet\"}], \"scattergeo\": [{\"marker\": {\"colorbar\": {\"outlinewidth\": 0, \"ticks\": \"\"}}, \"type\": \"scattergeo\"}], \"scattergl\": [{\"marker\": {\"colorbar\": {\"outlinewidth\": 0, \"ticks\": \"\"}}, \"type\": \"scattergl\"}], \"scattermapbox\": [{\"marker\": {\"colorbar\": {\"outlinewidth\": 0, \"ticks\": \"\"}}, \"type\": \"scattermapbox\"}], \"scatterpolar\": [{\"marker\": {\"colorbar\": {\"outlinewidth\": 0, \"ticks\": \"\"}}, \"type\": \"scatterpolar\"}], \"scatterpolargl\": [{\"marker\": {\"colorbar\": {\"outlinewidth\": 0, \"ticks\": \"\"}}, \"type\": \"scatterpolargl\"}], \"scatterternary\": [{\"marker\": {\"colorbar\": {\"outlinewidth\": 0, \"ticks\": \"\"}}, \"type\": \"scatterternary\"}], \"surface\": [{\"colorbar\": {\"outlinewidth\": 0, \"ticks\": \"\"}, \"colorscale\": [[0.0, \"#0d0887\"], [0.1111111111111111, \"#46039f\"], [0.2222222222222222, \"#7201a8\"], [0.3333333333333333, \"#9c179e\"], [0.4444444444444444, \"#bd3786\"], [0.5555555555555556, \"#d8576b\"], [0.6666666666666666, \"#ed7953\"], [0.7777777777777778, \"#fb9f3a\"], [0.8888888888888888, \"#fdca26\"], [1.0, \"#f0f921\"]], \"type\": \"surface\"}], \"table\": [{\"cells\": {\"fill\": {\"color\": \"#EBF0F8\"}, \"line\": {\"color\": \"white\"}}, \"header\": {\"fill\": {\"color\": \"#C8D4E3\"}, \"line\": {\"color\": \"white\"}}, \"type\": \"table\"}]}, \"layout\": {\"annotationdefaults\": {\"arrowcolor\": \"#2a3f5f\", \"arrowhead\": 0, \"arrowwidth\": 1}, \"autotypenumbers\": \"strict\", \"coloraxis\": {\"colorbar\": {\"outlinewidth\": 0, \"ticks\": \"\"}}, \"colorscale\": {\"diverging\": [[0, \"#8e0152\"], [0.1, \"#c51b7d\"], [0.2, \"#de77ae\"], [0.3, \"#f1b6da\"], [0.4, \"#fde0ef\"], [0.5, \"#f7f7f7\"], [0.6, \"#e6f5d0\"], [0.7, \"#b8e186\"], [0.8, \"#7fbc41\"], [0.9, \"#4d9221\"], [1, \"#276419\"]], \"sequential\": [[0.0, \"#0d0887\"], [0.1111111111111111, \"#46039f\"], [0.2222222222222222, \"#7201a8\"], [0.3333333333333333, \"#9c179e\"], [0.4444444444444444, \"#bd3786\"], [0.5555555555555556, \"#d8576b\"], [0.6666666666666666, \"#ed7953\"], [0.7777777777777778, \"#fb9f3a\"], [0.8888888888888888, \"#fdca26\"], [1.0, \"#f0f921\"]], \"sequentialminus\": [[0.0, \"#0d0887\"], [0.1111111111111111, \"#46039f\"], [0.2222222222222222, \"#7201a8\"], [0.3333333333333333, \"#9c179e\"], [0.4444444444444444, \"#bd3786\"], [0.5555555555555556, \"#d8576b\"], [0.6666666666666666, \"#ed7953\"], [0.7777777777777778, \"#fb9f3a\"], [0.8888888888888888, \"#fdca26\"], [1.0, \"#f0f921\"]]}, \"colorway\": [\"#636efa\", \"#EF553B\", \"#00cc96\", \"#ab63fa\", \"#FFA15A\", \"#19d3f3\", \"#FF6692\", \"#B6E880\", \"#FF97FF\", \"#FECB52\"], \"font\": {\"color\": \"#2a3f5f\"}, \"geo\": {\"bgcolor\": \"white\", \"lakecolor\": \"white\", \"landcolor\": \"#E5ECF6\", \"showlakes\": true, \"showland\": true, \"subunitcolor\": \"white\"}, \"hoverlabel\": {\"align\": \"left\"}, \"hovermode\": \"closest\", \"mapbox\": {\"style\": \"light\"}, \"paper_bgcolor\": \"white\", \"plot_bgcolor\": \"#E5ECF6\", \"polar\": {\"angularaxis\": {\"gridcolor\": \"white\", \"linecolor\": \"white\", \"ticks\": \"\"}, \"bgcolor\": \"#E5ECF6\", \"radialaxis\": {\"gridcolor\": \"white\", \"linecolor\": \"white\", \"ticks\": \"\"}}, \"scene\": {\"xaxis\": {\"backgroundcolor\": \"#E5ECF6\", \"gridcolor\": \"white\", \"gridwidth\": 2, \"linecolor\": \"white\", \"showbackground\": true, \"ticks\": \"\", \"zerolinecolor\": \"white\"}, \"yaxis\": {\"backgroundcolor\": \"#E5ECF6\", \"gridcolor\": \"white\", \"gridwidth\": 2, \"linecolor\": \"white\", \"showbackground\": true, \"ticks\": \"\", \"zerolinecolor\": \"white\"}, \"zaxis\": {\"backgroundcolor\": \"#E5ECF6\", \"gridcolor\": \"white\", \"gridwidth\": 2, \"linecolor\": \"white\", \"showbackground\": true, \"ticks\": \"\", \"zerolinecolor\": \"white\"}}, \"shapedefaults\": {\"line\": {\"color\": \"#2a3f5f\"}}, \"ternary\": {\"aaxis\": {\"gridcolor\": \"white\", \"linecolor\": \"white\", \"ticks\": \"\"}, \"baxis\": {\"gridcolor\": \"white\", \"linecolor\": \"white\", \"ticks\": \"\"}, \"bgcolor\": \"#E5ECF6\", \"caxis\": {\"gridcolor\": \"white\", \"linecolor\": \"white\", \"ticks\": \"\"}}, \"title\": {\"x\": 0.05}, \"xaxis\": {\"automargin\": true, \"gridcolor\": \"white\", \"linecolor\": \"white\", \"ticks\": \"\", \"title\": {\"standoff\": 15}, \"zerolinecolor\": \"white\", \"zerolinewidth\": 2}, \"yaxis\": {\"automargin\": true, \"gridcolor\": \"white\", \"linecolor\": \"white\", \"ticks\": \"\", \"title\": {\"standoff\": 15}, \"zerolinecolor\": \"white\", \"zerolinewidth\": 2}}}, \"xaxis\": {\"anchor\": \"y\", \"domain\": [0.0, 1.0], \"title\": {\"text\": \"index\"}}, \"yaxis\": {\"anchor\": \"x\", \"domain\": [0.0, 1.0], \"title\": {\"text\": \"Industry\"}}},                        {\"responsive\": true}                    ).then(function(){\n                            \nvar gd = document.getElementById('fe3c161f-6f4c-434e-a8e7-ab4c1edc9e6c');\nvar x = new MutationObserver(function (mutations, observer) {{\n        var display = window.getComputedStyle(gd).display;\n        if (!display || display === 'none') {{\n            console.log([gd, 'removed!']);\n            Plotly.purge(gd);\n            observer.disconnect();\n        }}\n}});\n\n// Listen for the removal of the full notebook cells\nvar notebookContainer = gd.closest('#notebook-container');\nif (notebookContainer) {{\n    x.observe(notebookContainer, {childList: true});\n}}\n\n// Listen for the clearing of the current output cell\nvar outputEl = gd.closest('.output');\nif (outputEl) {{\n    x.observe(outputEl, {childList: true});\n}}\n\n                        })                };                            </script>        </div>\n</body>\n</html>"
     },
     "metadata": {},
     "output_type": "display_data"
    }
   ]
  },
  {
   "cell_type": "code",
   "metadata": {
    "tags": [],
    "cell_id": "00033-f235b08d-a836-441f-991b-991f79f203d3",
    "deepnote_to_be_reexecuted": false,
    "source_hash": "2b157c4f",
    "execution_start": 1625240801749,
    "execution_millis": 105,
    "deepnote_cell_type": "code"
   },
   "source": "df = public_financial['Sub-Industry'].value_counts().to_frame()\npx.bar(df, x=df.index, y='Sub-Industry')",
   "execution_count": null,
   "outputs": [
    {
     "data": {
      "text/html": "<html>\n<head><meta charset=\"utf-8\" /></head>\n<body>\n    <div>            <script src=\"https://cdnjs.cloudflare.com/ajax/libs/mathjax/2.7.5/MathJax.js?config=TeX-AMS-MML_SVG\"></script><script type=\"text/javascript\">if (window.MathJax) {MathJax.Hub.Config({SVG: {font: \"STIX-Web\"}});}</script>                <script type=\"text/javascript\">window.PlotlyConfig = {MathJaxConfig: 'local'};</script>\n        <script src=\"https://cdn.plot.ly/plotly-latest.min.js\"></script>                <div id=\"1a38ec99-e9ce-45c2-9f33-cac44728548b\" class=\"plotly-graph-div\" style=\"height:525px; width:100%;\"></div>            <script type=\"text/javascript\">                                    window.PLOTLYENV=window.PLOTLYENV || {};                                    if (document.getElementById(\"1a38ec99-e9ce-45c2-9f33-cac44728548b\")) {                    Plotly.newPlot(                        \"1a38ec99-e9ce-45c2-9f33-cac44728548b\",                        [{\"alignmentgroup\": \"True\", \"hovertemplate\": \"index=%{x}<br>Sub-Industry=%{y}<extra></extra>\", \"legendgroup\": \"\", \"marker\": {\"color\": \"#636efa\"}, \"name\": \"\", \"offsetgroup\": \"\", \"orientation\": \"v\", \"showlegend\": false, \"textposition\": \"auto\", \"type\": \"bar\", \"x\": [\"REITs\", \"Consumer\", \"Commercial Real Estate Development\", \"Commercial Real Estate Investment\", \"Commercial Property Management\", \"Life Insurance\", \"Commercial\", \"Property & Casualty\", \"Risk Management\", \"Residential Real Estate Investment\", \"Residential Real Estate Development\", \"Reinsurance\", \"Commercial Real Estate Brokerage\"], \"xaxis\": \"x\", \"y\": [40, 5, 3, 3, 3, 2, 1, 1, 1, 1, 1, 1, 1], \"yaxis\": \"y\"}],                        {\"barmode\": \"relative\", \"legend\": {\"tracegroupgap\": 0}, \"margin\": {\"t\": 60}, \"template\": {\"data\": {\"bar\": [{\"error_x\": {\"color\": \"#2a3f5f\"}, \"error_y\": {\"color\": \"#2a3f5f\"}, \"marker\": {\"line\": {\"color\": \"#E5ECF6\", \"width\": 0.5}}, \"type\": \"bar\"}], \"barpolar\": [{\"marker\": {\"line\": {\"color\": \"#E5ECF6\", \"width\": 0.5}}, \"type\": \"barpolar\"}], \"carpet\": [{\"aaxis\": {\"endlinecolor\": \"#2a3f5f\", \"gridcolor\": \"white\", \"linecolor\": \"white\", \"minorgridcolor\": \"white\", \"startlinecolor\": \"#2a3f5f\"}, \"baxis\": {\"endlinecolor\": \"#2a3f5f\", \"gridcolor\": \"white\", \"linecolor\": \"white\", \"minorgridcolor\": \"white\", \"startlinecolor\": \"#2a3f5f\"}, \"type\": \"carpet\"}], \"choropleth\": [{\"colorbar\": {\"outlinewidth\": 0, \"ticks\": \"\"}, \"type\": \"choropleth\"}], \"contour\": [{\"colorbar\": {\"outlinewidth\": 0, \"ticks\": \"\"}, \"colorscale\": [[0.0, \"#0d0887\"], [0.1111111111111111, \"#46039f\"], [0.2222222222222222, \"#7201a8\"], [0.3333333333333333, \"#9c179e\"], [0.4444444444444444, \"#bd3786\"], [0.5555555555555556, \"#d8576b\"], [0.6666666666666666, \"#ed7953\"], [0.7777777777777778, \"#fb9f3a\"], [0.8888888888888888, \"#fdca26\"], [1.0, \"#f0f921\"]], \"type\": \"contour\"}], \"contourcarpet\": [{\"colorbar\": {\"outlinewidth\": 0, \"ticks\": \"\"}, \"type\": \"contourcarpet\"}], \"heatmap\": [{\"colorbar\": {\"outlinewidth\": 0, \"ticks\": \"\"}, \"colorscale\": [[0.0, \"#0d0887\"], [0.1111111111111111, \"#46039f\"], [0.2222222222222222, \"#7201a8\"], [0.3333333333333333, \"#9c179e\"], [0.4444444444444444, \"#bd3786\"], [0.5555555555555556, \"#d8576b\"], [0.6666666666666666, \"#ed7953\"], [0.7777777777777778, \"#fb9f3a\"], [0.8888888888888888, \"#fdca26\"], [1.0, \"#f0f921\"]], \"type\": \"heatmap\"}], \"heatmapgl\": [{\"colorbar\": {\"outlinewidth\": 0, \"ticks\": \"\"}, \"colorscale\": [[0.0, \"#0d0887\"], [0.1111111111111111, \"#46039f\"], [0.2222222222222222, \"#7201a8\"], [0.3333333333333333, \"#9c179e\"], [0.4444444444444444, \"#bd3786\"], [0.5555555555555556, \"#d8576b\"], [0.6666666666666666, \"#ed7953\"], [0.7777777777777778, \"#fb9f3a\"], [0.8888888888888888, \"#fdca26\"], [1.0, \"#f0f921\"]], \"type\": \"heatmapgl\"}], \"histogram\": [{\"marker\": {\"colorbar\": {\"outlinewidth\": 0, \"ticks\": \"\"}}, \"type\": \"histogram\"}], \"histogram2d\": [{\"colorbar\": {\"outlinewidth\": 0, \"ticks\": \"\"}, \"colorscale\": [[0.0, \"#0d0887\"], [0.1111111111111111, \"#46039f\"], [0.2222222222222222, \"#7201a8\"], [0.3333333333333333, \"#9c179e\"], [0.4444444444444444, \"#bd3786\"], [0.5555555555555556, \"#d8576b\"], [0.6666666666666666, \"#ed7953\"], [0.7777777777777778, \"#fb9f3a\"], [0.8888888888888888, \"#fdca26\"], [1.0, \"#f0f921\"]], \"type\": \"histogram2d\"}], \"histogram2dcontour\": [{\"colorbar\": {\"outlinewidth\": 0, \"ticks\": \"\"}, \"colorscale\": [[0.0, \"#0d0887\"], [0.1111111111111111, \"#46039f\"], [0.2222222222222222, \"#7201a8\"], [0.3333333333333333, \"#9c179e\"], [0.4444444444444444, \"#bd3786\"], [0.5555555555555556, \"#d8576b\"], [0.6666666666666666, \"#ed7953\"], [0.7777777777777778, \"#fb9f3a\"], [0.8888888888888888, \"#fdca26\"], [1.0, \"#f0f921\"]], \"type\": \"histogram2dcontour\"}], \"mesh3d\": [{\"colorbar\": {\"outlinewidth\": 0, \"ticks\": \"\"}, \"type\": \"mesh3d\"}], \"parcoords\": [{\"line\": {\"colorbar\": {\"outlinewidth\": 0, \"ticks\": \"\"}}, \"type\": \"parcoords\"}], \"pie\": [{\"automargin\": true, \"type\": \"pie\"}], \"scatter\": [{\"marker\": {\"colorbar\": {\"outlinewidth\": 0, \"ticks\": \"\"}}, \"type\": \"scatter\"}], \"scatter3d\": [{\"line\": {\"colorbar\": {\"outlinewidth\": 0, \"ticks\": \"\"}}, \"marker\": {\"colorbar\": {\"outlinewidth\": 0, \"ticks\": \"\"}}, \"type\": \"scatter3d\"}], \"scattercarpet\": [{\"marker\": {\"colorbar\": {\"outlinewidth\": 0, \"ticks\": \"\"}}, \"type\": \"scattercarpet\"}], \"scattergeo\": [{\"marker\": {\"colorbar\": {\"outlinewidth\": 0, \"ticks\": \"\"}}, \"type\": \"scattergeo\"}], \"scattergl\": [{\"marker\": {\"colorbar\": {\"outlinewidth\": 0, \"ticks\": \"\"}}, \"type\": \"scattergl\"}], \"scattermapbox\": [{\"marker\": {\"colorbar\": {\"outlinewidth\": 0, \"ticks\": \"\"}}, \"type\": \"scattermapbox\"}], \"scatterpolar\": [{\"marker\": {\"colorbar\": {\"outlinewidth\": 0, \"ticks\": \"\"}}, \"type\": \"scatterpolar\"}], \"scatterpolargl\": [{\"marker\": {\"colorbar\": {\"outlinewidth\": 0, \"ticks\": \"\"}}, \"type\": \"scatterpolargl\"}], \"scatterternary\": [{\"marker\": {\"colorbar\": {\"outlinewidth\": 0, \"ticks\": \"\"}}, \"type\": \"scatterternary\"}], \"surface\": [{\"colorbar\": {\"outlinewidth\": 0, \"ticks\": \"\"}, \"colorscale\": [[0.0, \"#0d0887\"], [0.1111111111111111, \"#46039f\"], [0.2222222222222222, \"#7201a8\"], [0.3333333333333333, \"#9c179e\"], [0.4444444444444444, \"#bd3786\"], [0.5555555555555556, \"#d8576b\"], [0.6666666666666666, \"#ed7953\"], [0.7777777777777778, \"#fb9f3a\"], [0.8888888888888888, \"#fdca26\"], [1.0, \"#f0f921\"]], \"type\": \"surface\"}], \"table\": [{\"cells\": {\"fill\": {\"color\": \"#EBF0F8\"}, \"line\": {\"color\": \"white\"}}, \"header\": {\"fill\": {\"color\": \"#C8D4E3\"}, \"line\": {\"color\": \"white\"}}, \"type\": \"table\"}]}, \"layout\": {\"annotationdefaults\": {\"arrowcolor\": \"#2a3f5f\", \"arrowhead\": 0, \"arrowwidth\": 1}, \"autotypenumbers\": \"strict\", \"coloraxis\": {\"colorbar\": {\"outlinewidth\": 0, \"ticks\": \"\"}}, \"colorscale\": {\"diverging\": [[0, \"#8e0152\"], [0.1, \"#c51b7d\"], [0.2, \"#de77ae\"], [0.3, \"#f1b6da\"], [0.4, \"#fde0ef\"], [0.5, \"#f7f7f7\"], [0.6, \"#e6f5d0\"], [0.7, \"#b8e186\"], [0.8, \"#7fbc41\"], [0.9, \"#4d9221\"], [1, \"#276419\"]], \"sequential\": [[0.0, \"#0d0887\"], [0.1111111111111111, \"#46039f\"], [0.2222222222222222, \"#7201a8\"], [0.3333333333333333, \"#9c179e\"], [0.4444444444444444, \"#bd3786\"], [0.5555555555555556, \"#d8576b\"], [0.6666666666666666, \"#ed7953\"], [0.7777777777777778, \"#fb9f3a\"], [0.8888888888888888, \"#fdca26\"], [1.0, \"#f0f921\"]], \"sequentialminus\": [[0.0, \"#0d0887\"], [0.1111111111111111, \"#46039f\"], [0.2222222222222222, \"#7201a8\"], [0.3333333333333333, \"#9c179e\"], [0.4444444444444444, \"#bd3786\"], [0.5555555555555556, \"#d8576b\"], [0.6666666666666666, \"#ed7953\"], [0.7777777777777778, \"#fb9f3a\"], [0.8888888888888888, \"#fdca26\"], [1.0, \"#f0f921\"]]}, \"colorway\": [\"#636efa\", \"#EF553B\", \"#00cc96\", \"#ab63fa\", \"#FFA15A\", \"#19d3f3\", \"#FF6692\", \"#B6E880\", \"#FF97FF\", \"#FECB52\"], \"font\": {\"color\": \"#2a3f5f\"}, \"geo\": {\"bgcolor\": \"white\", \"lakecolor\": \"white\", \"landcolor\": \"#E5ECF6\", \"showlakes\": true, \"showland\": true, \"subunitcolor\": \"white\"}, \"hoverlabel\": {\"align\": \"left\"}, \"hovermode\": \"closest\", \"mapbox\": {\"style\": \"light\"}, \"paper_bgcolor\": \"white\", \"plot_bgcolor\": \"#E5ECF6\", \"polar\": {\"angularaxis\": {\"gridcolor\": \"white\", \"linecolor\": \"white\", \"ticks\": \"\"}, \"bgcolor\": \"#E5ECF6\", \"radialaxis\": {\"gridcolor\": \"white\", \"linecolor\": \"white\", \"ticks\": \"\"}}, \"scene\": {\"xaxis\": {\"backgroundcolor\": \"#E5ECF6\", \"gridcolor\": \"white\", \"gridwidth\": 2, \"linecolor\": \"white\", \"showbackground\": true, \"ticks\": \"\", \"zerolinecolor\": \"white\"}, \"yaxis\": {\"backgroundcolor\": \"#E5ECF6\", \"gridcolor\": \"white\", \"gridwidth\": 2, \"linecolor\": \"white\", \"showbackground\": true, \"ticks\": \"\", \"zerolinecolor\": \"white\"}, \"zaxis\": {\"backgroundcolor\": \"#E5ECF6\", \"gridcolor\": \"white\", \"gridwidth\": 2, \"linecolor\": \"white\", \"showbackground\": true, \"ticks\": \"\", \"zerolinecolor\": \"white\"}}, \"shapedefaults\": {\"line\": {\"color\": \"#2a3f5f\"}}, \"ternary\": {\"aaxis\": {\"gridcolor\": \"white\", \"linecolor\": \"white\", \"ticks\": \"\"}, \"baxis\": {\"gridcolor\": \"white\", \"linecolor\": \"white\", \"ticks\": \"\"}, \"bgcolor\": \"#E5ECF6\", \"caxis\": {\"gridcolor\": \"white\", \"linecolor\": \"white\", \"ticks\": \"\"}}, \"title\": {\"x\": 0.05}, \"xaxis\": {\"automargin\": true, \"gridcolor\": \"white\", \"linecolor\": \"white\", \"ticks\": \"\", \"title\": {\"standoff\": 15}, \"zerolinecolor\": \"white\", \"zerolinewidth\": 2}, \"yaxis\": {\"automargin\": true, \"gridcolor\": \"white\", \"linecolor\": \"white\", \"ticks\": \"\", \"title\": {\"standoff\": 15}, \"zerolinecolor\": \"white\", \"zerolinewidth\": 2}}}, \"xaxis\": {\"anchor\": \"y\", \"domain\": [0.0, 1.0], \"title\": {\"text\": \"index\"}}, \"yaxis\": {\"anchor\": \"x\", \"domain\": [0.0, 1.0], \"title\": {\"text\": \"Sub-Industry\"}}},                        {\"responsive\": true}                    ).then(function(){\n                            \nvar gd = document.getElementById('1a38ec99-e9ce-45c2-9f33-cac44728548b');\nvar x = new MutationObserver(function (mutations, observer) {{\n        var display = window.getComputedStyle(gd).display;\n        if (!display || display === 'none') {{\n            console.log([gd, 'removed!']);\n            Plotly.purge(gd);\n            observer.disconnect();\n        }}\n}});\n\n// Listen for the removal of the full notebook cells\nvar notebookContainer = gd.closest('#notebook-container');\nif (notebookContainer) {{\n    x.observe(notebookContainer, {childList: true});\n}}\n\n// Listen for the clearing of the current output cell\nvar outputEl = gd.closest('.output');\nif (outputEl) {{\n    x.observe(outputEl, {childList: true});\n}}\n\n                        })                };                            </script>        </div>\n</body>\n</html>"
     },
     "metadata": {},
     "output_type": "display_data"
    }
   ]
  },
  {
   "cell_type": "code",
   "metadata": {
    "tags": [],
    "cell_id": "00036-5f0bb60f-035c-4c24-86ec-37bbc86f47f2",
    "deepnote_to_be_reexecuted": false,
    "source_hash": "1d5ee4f3",
    "execution_start": 1625240801855,
    "execution_millis": 367,
    "deepnote_cell_type": "code"
   },
   "source": "# min max provide the same information\nsns.kdeplot(public_financial['Min Valuation'])\nsns.kdeplot(public_financial['Max Valuation'])",
   "execution_count": null,
   "outputs": [
    {
     "output_type": "execute_result",
     "execution_count": 24,
     "data": {
      "text/plain": "<AxesSubplot:xlabel='Min Valuation', ylabel='Density'>"
     },
     "metadata": {}
    },
    {
     "data": {
      "text/plain": "<Figure size 432x288 with 1 Axes>",
      "image/png": "[encoded data removed]"
     },
     "metadata": {
      "needs_background": "light",
      "image/png": {
       "width": 411,
       "height": 264
      }
     },
     "output_type": "display_data"
    }
   ]
  },
  {
   "cell_type": "code",
   "metadata": {
    "tags": [],
    "cell_id": "00038-f0a31ea7-c4b9-4843-b51c-59e9c74e4f77",
    "deepnote_to_be_reexecuted": false,
    "source_hash": "f56b07d3",
    "execution_start": 1625240802230,
    "execution_millis": 13,
    "deepnote_cell_type": "code"
   },
   "source": "public_financial['offer date'] = public_financial['offer date'].astype('str')\npublic_financial['offer date'] = pd.to_datetime(public_financial['offer date'])\npublic_financial['offer date'] = public_financial['offer date'].apply(lambda x: x.strftime('%Y-%m-%d'))",
   "execution_count": null,
   "outputs": []
  },
  {
   "cell_type": "code",
   "metadata": {
    "tags": [],
    "cell_id": "00036-9a51935d-09f5-43b4-9e51-7ceb731429c8",
    "deepnote_to_be_reexecuted": false,
    "source_hash": "71413758",
    "execution_start": 1625240802245,
    "execution_millis": 156,
    "deepnote_cell_type": "code"
   },
   "source": "public_financial['offer date'] = pd.to_datetime(public_financial['offer date'])\npublic_financial['offer year'] = public_financial['offer date'].dt.year\nfig = px.box(public_financial, x=\"offer year\", points=\"all\")\nfig.show()",
   "execution_count": null,
   "outputs": [
    {
     "data": {
      "text/html": "<html>\n<head><meta charset=\"utf-8\" /></head>\n<body>\n    <div>            <script src=\"https://cdnjs.cloudflare.com/ajax/libs/mathjax/2.7.5/MathJax.js?config=TeX-AMS-MML_SVG\"></script><script type=\"text/javascript\">if (window.MathJax) {MathJax.Hub.Config({SVG: {font: \"STIX-Web\"}});}</script>                <script type=\"text/javascript\">window.PlotlyConfig = {MathJaxConfig: 'local'};</script>\n        <script src=\"https://cdn.plot.ly/plotly-latest.min.js\"></script>                <div id=\"1eef711f-3a83-4988-a7be-431d17bb97c9\" class=\"plotly-graph-div\" style=\"height:525px; width:100%;\"></div>            <script type=\"text/javascript\">                                    window.PLOTLYENV=window.PLOTLYENV || {};                                    if (document.getElementById(\"1eef711f-3a83-4988-a7be-431d17bb97c9\")) {                    Plotly.newPlot(                        \"1eef711f-3a83-4988-a7be-431d17bb97c9\",                        [{\"alignmentgroup\": \"True\", \"boxpoints\": \"all\", \"hovertemplate\": \"offer year=%{x}<extra></extra>\", \"legendgroup\": \"\", \"marker\": {\"color\": \"#636efa\"}, \"name\": \"\", \"notched\": false, \"offsetgroup\": \"\", \"orientation\": \"h\", \"showlegend\": false, \"type\": \"box\", \"x\": [2018, 1997, 2015, 2014, 2019, 1993, 2011, 2004, 2018, 2012, 2012, 2013, 2013, 1987, 2003, 2004, 1992, 2018, 2019, 2018, 2014, 1996, 2018, 2007, 2014, 2005, 2017, 2017, 2002, 2017, 1994, 2018, 2013, 2010, 2010, 2004, 2013, 1987, 2007, 2014, 2017, 1985, 2004, 2015, 2013, 2015, 2004, 2020, 2006, 1993, 2015, 1994, 2009, 2013, 2013, 2015, 2018, 1996, 2006, 2012, 1986, 2014, 1986, 2014, 2016, 2010, 2014, 2004, 1993, 2013, 2018, 2017, 1998, 2015, 2014, 1998, 2017, 2013, 2020, 2014, 1997, 2015, 2013, 2013, 2018, 2016, 2014, 2007, 2017, 2016, 2014, 2016, 2007, 2018, 2014, 2000, 2014, 1986, 2013, 2012, 1994, 2015, 2020, 2020, 1989, 2013, 1999, 2019, 1987, 2009, 2014, 1986, 2013, 2013, 2017, 2019, 2011, 2020, 2004, 2001, 1993, 2012, 2013, 1994, 1994, 1994, 2012, 2018, 1990, 2000, 2014, 2014, 2013, 2008, 2013, 2012, 2012], \"x0\": \" \", \"xaxis\": \"x\", \"y0\": \" \", \"yaxis\": \"y\"}],                        {\"boxmode\": \"group\", \"legend\": {\"tracegroupgap\": 0}, \"margin\": {\"t\": 60}, \"template\": {\"data\": {\"bar\": [{\"error_x\": {\"color\": \"#2a3f5f\"}, \"error_y\": {\"color\": \"#2a3f5f\"}, \"marker\": {\"line\": {\"color\": \"#E5ECF6\", \"width\": 0.5}}, \"type\": \"bar\"}], \"barpolar\": [{\"marker\": {\"line\": {\"color\": \"#E5ECF6\", \"width\": 0.5}}, \"type\": \"barpolar\"}], \"carpet\": [{\"aaxis\": {\"endlinecolor\": \"#2a3f5f\", \"gridcolor\": \"white\", \"linecolor\": \"white\", \"minorgridcolor\": \"white\", \"startlinecolor\": \"#2a3f5f\"}, \"baxis\": {\"endlinecolor\": \"#2a3f5f\", \"gridcolor\": \"white\", \"linecolor\": \"white\", \"minorgridcolor\": \"white\", \"startlinecolor\": \"#2a3f5f\"}, \"type\": \"carpet\"}], \"choropleth\": [{\"colorbar\": {\"outlinewidth\": 0, \"ticks\": \"\"}, \"type\": \"choropleth\"}], \"contour\": [{\"colorbar\": {\"outlinewidth\": 0, \"ticks\": \"\"}, \"colorscale\": [[0.0, \"#0d0887\"], [0.1111111111111111, \"#46039f\"], [0.2222222222222222, \"#7201a8\"], [0.3333333333333333, \"#9c179e\"], [0.4444444444444444, \"#bd3786\"], [0.5555555555555556, \"#d8576b\"], [0.6666666666666666, \"#ed7953\"], [0.7777777777777778, \"#fb9f3a\"], [0.8888888888888888, \"#fdca26\"], [1.0, \"#f0f921\"]], \"type\": \"contour\"}], \"contourcarpet\": [{\"colorbar\": {\"outlinewidth\": 0, \"ticks\": \"\"}, \"type\": \"contourcarpet\"}], \"heatmap\": [{\"colorbar\": {\"outlinewidth\": 0, \"ticks\": \"\"}, \"colorscale\": [[0.0, \"#0d0887\"], [0.1111111111111111, \"#46039f\"], [0.2222222222222222, \"#7201a8\"], [0.3333333333333333, \"#9c179e\"], [0.4444444444444444, \"#bd3786\"], [0.5555555555555556, \"#d8576b\"], [0.6666666666666666, \"#ed7953\"], [0.7777777777777778, \"#fb9f3a\"], [0.8888888888888888, \"#fdca26\"], [1.0, \"#f0f921\"]], \"type\": \"heatmap\"}], \"heatmapgl\": [{\"colorbar\": {\"outlinewidth\": 0, \"ticks\": \"\"}, \"colorscale\": [[0.0, \"#0d0887\"], [0.1111111111111111, \"#46039f\"], [0.2222222222222222, \"#7201a8\"], [0.3333333333333333, \"#9c179e\"], [0.4444444444444444, \"#bd3786\"], [0.5555555555555556, \"#d8576b\"], [0.6666666666666666, \"#ed7953\"], [0.7777777777777778, \"#fb9f3a\"], [0.8888888888888888, \"#fdca26\"], [1.0, \"#f0f921\"]], \"type\": \"heatmapgl\"}], \"histogram\": [{\"marker\": {\"colorbar\": {\"outlinewidth\": 0, \"ticks\": \"\"}}, \"type\": \"histogram\"}], \"histogram2d\": [{\"colorbar\": {\"outlinewidth\": 0, \"ticks\": \"\"}, \"colorscale\": [[0.0, \"#0d0887\"], [0.1111111111111111, \"#46039f\"], [0.2222222222222222, \"#7201a8\"], [0.3333333333333333, \"#9c179e\"], [0.4444444444444444, \"#bd3786\"], [0.5555555555555556, \"#d8576b\"], [0.6666666666666666, \"#ed7953\"], [0.7777777777777778, \"#fb9f3a\"], [0.8888888888888888, \"#fdca26\"], [1.0, \"#f0f921\"]], \"type\": \"histogram2d\"}], \"histogram2dcontour\": [{\"colorbar\": {\"outlinewidth\": 0, \"ticks\": \"\"}, \"colorscale\": [[0.0, \"#0d0887\"], [0.1111111111111111, \"#46039f\"], [0.2222222222222222, \"#7201a8\"], [0.3333333333333333, \"#9c179e\"], [0.4444444444444444, \"#bd3786\"], [0.5555555555555556, \"#d8576b\"], [0.6666666666666666, \"#ed7953\"], [0.7777777777777778, \"#fb9f3a\"], [0.8888888888888888, \"#fdca26\"], [1.0, \"#f0f921\"]], \"type\": \"histogram2dcontour\"}], \"mesh3d\": [{\"colorbar\": {\"outlinewidth\": 0, \"ticks\": \"\"}, \"type\": \"mesh3d\"}], \"parcoords\": [{\"line\": {\"colorbar\": {\"outlinewidth\": 0, \"ticks\": \"\"}}, \"type\": \"parcoords\"}], \"pie\": [{\"automargin\": true, \"type\": \"pie\"}], \"scatter\": [{\"marker\": {\"colorbar\": {\"outlinewidth\": 0, \"ticks\": \"\"}}, \"type\": \"scatter\"}], \"scatter3d\": [{\"line\": {\"colorbar\": {\"outlinewidth\": 0, \"ticks\": \"\"}}, \"marker\": {\"colorbar\": {\"outlinewidth\": 0, \"ticks\": \"\"}}, \"type\": \"scatter3d\"}], \"scattercarpet\": [{\"marker\": {\"colorbar\": {\"outlinewidth\": 0, \"ticks\": \"\"}}, \"type\": \"scattercarpet\"}], \"scattergeo\": [{\"marker\": {\"colorbar\": {\"outlinewidth\": 0, \"ticks\": \"\"}}, \"type\": \"scattergeo\"}], \"scattergl\": [{\"marker\": {\"colorbar\": {\"outlinewidth\": 0, \"ticks\": \"\"}}, \"type\": \"scattergl\"}], \"scattermapbox\": [{\"marker\": {\"colorbar\": {\"outlinewidth\": 0, \"ticks\": \"\"}}, \"type\": \"scattermapbox\"}], \"scatterpolar\": [{\"marker\": {\"colorbar\": {\"outlinewidth\": 0, \"ticks\": \"\"}}, \"type\": \"scatterpolar\"}], \"scatterpolargl\": [{\"marker\": {\"colorbar\": {\"outlinewidth\": 0, \"ticks\": \"\"}}, \"type\": \"scatterpolargl\"}], \"scatterternary\": [{\"marker\": {\"colorbar\": {\"outlinewidth\": 0, \"ticks\": \"\"}}, \"type\": \"scatterternary\"}], \"surface\": [{\"colorbar\": {\"outlinewidth\": 0, \"ticks\": \"\"}, \"colorscale\": [[0.0, \"#0d0887\"], [0.1111111111111111, \"#46039f\"], [0.2222222222222222, \"#7201a8\"], [0.3333333333333333, \"#9c179e\"], [0.4444444444444444, \"#bd3786\"], [0.5555555555555556, \"#d8576b\"], [0.6666666666666666, \"#ed7953\"], [0.7777777777777778, \"#fb9f3a\"], [0.8888888888888888, \"#fdca26\"], [1.0, \"#f0f921\"]], \"type\": \"surface\"}], \"table\": [{\"cells\": {\"fill\": {\"color\": \"#EBF0F8\"}, \"line\": {\"color\": \"white\"}}, \"header\": {\"fill\": {\"color\": \"#C8D4E3\"}, \"line\": {\"color\": \"white\"}}, \"type\": \"table\"}]}, \"layout\": {\"annotationdefaults\": {\"arrowcolor\": \"#2a3f5f\", \"arrowhead\": 0, \"arrowwidth\": 1}, \"autotypenumbers\": \"strict\", \"coloraxis\": {\"colorbar\": {\"outlinewidth\": 0, \"ticks\": \"\"}}, \"colorscale\": {\"diverging\": [[0, \"#8e0152\"], [0.1, \"#c51b7d\"], [0.2, \"#de77ae\"], [0.3, \"#f1b6da\"], [0.4, \"#fde0ef\"], [0.5, \"#f7f7f7\"], [0.6, \"#e6f5d0\"], [0.7, \"#b8e186\"], [0.8, \"#7fbc41\"], [0.9, \"#4d9221\"], [1, \"#276419\"]], \"sequential\": [[0.0, \"#0d0887\"], [0.1111111111111111, \"#46039f\"], [0.2222222222222222, \"#7201a8\"], [0.3333333333333333, \"#9c179e\"], [0.4444444444444444, \"#bd3786\"], [0.5555555555555556, \"#d8576b\"], [0.6666666666666666, \"#ed7953\"], [0.7777777777777778, \"#fb9f3a\"], [0.8888888888888888, \"#fdca26\"], [1.0, \"#f0f921\"]], \"sequentialminus\": [[0.0, \"#0d0887\"], [0.1111111111111111, \"#46039f\"], [0.2222222222222222, \"#7201a8\"], [0.3333333333333333, \"#9c179e\"], [0.4444444444444444, \"#bd3786\"], [0.5555555555555556, \"#d8576b\"], [0.6666666666666666, \"#ed7953\"], [0.7777777777777778, \"#fb9f3a\"], [0.8888888888888888, \"#fdca26\"], [1.0, \"#f0f921\"]]}, \"colorway\": [\"#636efa\", \"#EF553B\", \"#00cc96\", \"#ab63fa\", \"#FFA15A\", \"#19d3f3\", \"#FF6692\", \"#B6E880\", \"#FF97FF\", \"#FECB52\"], \"font\": {\"color\": \"#2a3f5f\"}, \"geo\": {\"bgcolor\": \"white\", \"lakecolor\": \"white\", \"landcolor\": \"#E5ECF6\", \"showlakes\": true, \"showland\": true, \"subunitcolor\": \"white\"}, \"hoverlabel\": {\"align\": \"left\"}, \"hovermode\": \"closest\", \"mapbox\": {\"style\": \"light\"}, \"paper_bgcolor\": \"white\", \"plot_bgcolor\": \"#E5ECF6\", \"polar\": {\"angularaxis\": {\"gridcolor\": \"white\", \"linecolor\": \"white\", \"ticks\": \"\"}, \"bgcolor\": \"#E5ECF6\", \"radialaxis\": {\"gridcolor\": \"white\", \"linecolor\": \"white\", \"ticks\": \"\"}}, \"scene\": {\"xaxis\": {\"backgroundcolor\": \"#E5ECF6\", \"gridcolor\": \"white\", \"gridwidth\": 2, \"linecolor\": \"white\", \"showbackground\": true, \"ticks\": \"\", \"zerolinecolor\": \"white\"}, \"yaxis\": {\"backgroundcolor\": \"#E5ECF6\", \"gridcolor\": \"white\", \"gridwidth\": 2, \"linecolor\": \"white\", \"showbackground\": true, \"ticks\": \"\", \"zerolinecolor\": \"white\"}, \"zaxis\": {\"backgroundcolor\": \"#E5ECF6\", \"gridcolor\": \"white\", \"gridwidth\": 2, \"linecolor\": \"white\", \"showbackground\": true, \"ticks\": \"\", \"zerolinecolor\": \"white\"}}, \"shapedefaults\": {\"line\": {\"color\": \"#2a3f5f\"}}, \"ternary\": {\"aaxis\": {\"gridcolor\": \"white\", \"linecolor\": \"white\", \"ticks\": \"\"}, \"baxis\": {\"gridcolor\": \"white\", \"linecolor\": \"white\", \"ticks\": \"\"}, \"bgcolor\": \"#E5ECF6\", \"caxis\": {\"gridcolor\": \"white\", \"linecolor\": \"white\", \"ticks\": \"\"}}, \"title\": {\"x\": 0.05}, \"xaxis\": {\"automargin\": true, \"gridcolor\": \"white\", \"linecolor\": \"white\", \"ticks\": \"\", \"title\": {\"standoff\": 15}, \"zerolinecolor\": \"white\", \"zerolinewidth\": 2}, \"yaxis\": {\"automargin\": true, \"gridcolor\": \"white\", \"linecolor\": \"white\", \"ticks\": \"\", \"title\": {\"standoff\": 15}, \"zerolinecolor\": \"white\", \"zerolinewidth\": 2}}}, \"xaxis\": {\"anchor\": \"y\", \"domain\": [0.0, 1.0], \"title\": {\"text\": \"offer year\"}}, \"yaxis\": {\"anchor\": \"x\", \"domain\": [0.0, 1.0]}},                        {\"responsive\": true}                    ).then(function(){\n                            \nvar gd = document.getElementById('1eef711f-3a83-4988-a7be-431d17bb97c9');\nvar x = new MutationObserver(function (mutations, observer) {{\n        var display = window.getComputedStyle(gd).display;\n        if (!display || display === 'none') {{\n            console.log([gd, 'removed!']);\n            Plotly.purge(gd);\n            observer.disconnect();\n        }}\n}});\n\n// Listen for the removal of the full notebook cells\nvar notebookContainer = gd.closest('#notebook-container');\nif (notebookContainer) {{\n    x.observe(notebookContainer, {childList: true});\n}}\n\n// Listen for the clearing of the current output cell\nvar outputEl = gd.closest('.output');\nif (outputEl) {{\n    x.observe(outputEl, {childList: true});\n}}\n\n                        })                };                            </script>        </div>\n</body>\n</html>"
     },
     "metadata": {},
     "output_type": "display_data"
    }
   ]
  },
  {
   "cell_type": "code",
   "metadata": {
    "tags": [],
    "cell_id": "00039-bb90bb84-926b-4a20-8b84-20fa75f4da9e",
    "deepnote_to_be_reexecuted": false,
    "source_hash": "ea1ee5d9",
    "execution_start": 1625240802379,
    "execution_millis": 90,
    "deepnote_cell_type": "code"
   },
   "source": "public_financial[public_financial['Founding'] == -99] = np.nan\nfig = px.box(public_financial, x=\"Founding\", points=\"all\")\nfig.show()",
   "execution_count": null,
   "outputs": [
    {
     "data": {
      "text/html": "<html>\n<head><meta charset=\"utf-8\" /></head>\n<body>\n    <div>            <script src=\"https://cdnjs.cloudflare.com/ajax/libs/mathjax/2.7.5/MathJax.js?config=TeX-AMS-MML_SVG\"></script><script type=\"text/javascript\">if (window.MathJax) {MathJax.Hub.Config({SVG: {font: \"STIX-Web\"}});}</script>                <script type=\"text/javascript\">window.PlotlyConfig = {MathJaxConfig: 'local'};</script>\n        <script src=\"https://cdn.plot.ly/plotly-latest.min.js\"></script>                <div id=\"8e6d1576-28b6-4014-bd8e-7a5aeb5674b6\" class=\"plotly-graph-div\" style=\"height:525px; width:100%;\"></div>            <script type=\"text/javascript\">                                    window.PLOTLYENV=window.PLOTLYENV || {};                                    if (document.getElementById(\"8e6d1576-28b6-4014-bd8e-7a5aeb5674b6\")) {                    Plotly.newPlot(                        \"8e6d1576-28b6-4014-bd8e-7a5aeb5674b6\",                        [{\"alignmentgroup\": \"True\", \"boxpoints\": \"all\", \"hovertemplate\": \"Founding=%{x}<extra></extra>\", \"legendgroup\": \"\", \"marker\": {\"color\": \"#636efa\"}, \"name\": \"\", \"notched\": false, \"offsetgroup\": \"\", \"orientation\": \"h\", \"showlegend\": false, \"type\": \"box\", \"x\": [1900.0, 1988.0, 2007.0, 1924.0, 2010.0, null, 2010.0, null, 2006.0, null, 2011.0, 1979.0, 1994.0, null, null, 1978.0, null, 1984.0, 2011.0, 2001.0, 2002.0, null, 2004.0, 1985.0, 2008.0, 1900.0, 1978.0, 2007.0, 1898.0, 1997.0, 1953.0, 1998.0, 2005.0, 1973.0, 2009.0, null, 2012.0, null, 2007.0, 1900.0, 2015.0, 1983.0, 1986.0, 2014.0, 2005.0, 1996.0, null, 2019.0, 1973.0, null, 2014.0, 1984.0, 2009.0, 2012.0, 1934.0, 2003.0, 2016.0, 1990.0, 1996.0, null, 1984.0, 1998.0, 1984.0, 1998.0, 1900.0, 1968.0, 2008.0, 1900.0, 1981.0, 1997.0, 2017.0, null, 1997.0, 2014.0, 1944.0, 1913.0, 1913.0, 2012.0, 2014.0, 2012.0, 1968.0, 1972.0, 2012.0, 2013.0, 2015.0, 2016.0, 2006.0, 1999.0, 2014.0, 2009.0, 2008.0, null, 2002.0, 2015.0, 2006.0, 1900.0, 2007.0, 1935.0, 2011.0, 2009.0, null, 2013.0, 2019.0, 2019.0, 1984.0, null, 1989.0, 2015.0, null, null, 1978.0, 1957.0, 2008.0, 2013.0, 2011.0, 2018.0, 2009.0, 1999.0, null, 1901.0, 1973.0, 2003.0, null, 1983.0, 1983.0, 1979.0, 2003.0, 2008.0, 1986.0, 1998.0, 2011.0, 2003.0, 2009.0, 1970.0, 1999.0, null, 2011.0], \"x0\": \" \", \"xaxis\": \"x\", \"y0\": \" \", \"yaxis\": \"y\"}],                        {\"boxmode\": \"group\", \"legend\": {\"tracegroupgap\": 0}, \"margin\": {\"t\": 60}, \"template\": {\"data\": {\"bar\": [{\"error_x\": {\"color\": \"#2a3f5f\"}, \"error_y\": {\"color\": \"#2a3f5f\"}, \"marker\": {\"line\": {\"color\": \"#E5ECF6\", \"width\": 0.5}}, \"type\": \"bar\"}], \"barpolar\": [{\"marker\": {\"line\": {\"color\": \"#E5ECF6\", \"width\": 0.5}}, \"type\": \"barpolar\"}], \"carpet\": [{\"aaxis\": {\"endlinecolor\": \"#2a3f5f\", \"gridcolor\": \"white\", \"linecolor\": \"white\", \"minorgridcolor\": \"white\", \"startlinecolor\": \"#2a3f5f\"}, \"baxis\": {\"endlinecolor\": \"#2a3f5f\", \"gridcolor\": \"white\", \"linecolor\": \"white\", \"minorgridcolor\": \"white\", \"startlinecolor\": \"#2a3f5f\"}, \"type\": \"carpet\"}], \"choropleth\": [{\"colorbar\": {\"outlinewidth\": 0, \"ticks\": \"\"}, \"type\": \"choropleth\"}], \"contour\": [{\"colorbar\": {\"outlinewidth\": 0, \"ticks\": \"\"}, \"colorscale\": [[0.0, \"#0d0887\"], [0.1111111111111111, \"#46039f\"], [0.2222222222222222, \"#7201a8\"], [0.3333333333333333, \"#9c179e\"], [0.4444444444444444, \"#bd3786\"], [0.5555555555555556, \"#d8576b\"], [0.6666666666666666, \"#ed7953\"], [0.7777777777777778, \"#fb9f3a\"], [0.8888888888888888, \"#fdca26\"], [1.0, \"#f0f921\"]], \"type\": \"contour\"}], \"contourcarpet\": [{\"colorbar\": {\"outlinewidth\": 0, \"ticks\": \"\"}, \"type\": \"contourcarpet\"}], \"heatmap\": [{\"colorbar\": {\"outlinewidth\": 0, \"ticks\": \"\"}, \"colorscale\": [[0.0, \"#0d0887\"], [0.1111111111111111, \"#46039f\"], [0.2222222222222222, \"#7201a8\"], [0.3333333333333333, \"#9c179e\"], [0.4444444444444444, \"#bd3786\"], [0.5555555555555556, \"#d8576b\"], [0.6666666666666666, \"#ed7953\"], [0.7777777777777778, \"#fb9f3a\"], [0.8888888888888888, \"#fdca26\"], [1.0, \"#f0f921\"]], \"type\": \"heatmap\"}], \"heatmapgl\": [{\"colorbar\": {\"outlinewidth\": 0, \"ticks\": \"\"}, \"colorscale\": [[0.0, \"#0d0887\"], [0.1111111111111111, \"#46039f\"], [0.2222222222222222, \"#7201a8\"], [0.3333333333333333, \"#9c179e\"], [0.4444444444444444, \"#bd3786\"], [0.5555555555555556, \"#d8576b\"], [0.6666666666666666, \"#ed7953\"], [0.7777777777777778, \"#fb9f3a\"], [0.8888888888888888, \"#fdca26\"], [1.0, \"#f0f921\"]], \"type\": \"heatmapgl\"}], \"histogram\": [{\"marker\": {\"colorbar\": {\"outlinewidth\": 0, \"ticks\": \"\"}}, \"type\": \"histogram\"}], \"histogram2d\": [{\"colorbar\": {\"outlinewidth\": 0, \"ticks\": \"\"}, \"colorscale\": [[0.0, \"#0d0887\"], [0.1111111111111111, \"#46039f\"], [0.2222222222222222, \"#7201a8\"], [0.3333333333333333, \"#9c179e\"], [0.4444444444444444, \"#bd3786\"], [0.5555555555555556, \"#d8576b\"], [0.6666666666666666, \"#ed7953\"], [0.7777777777777778, \"#fb9f3a\"], [0.8888888888888888, \"#fdca26\"], [1.0, \"#f0f921\"]], \"type\": \"histogram2d\"}], \"histogram2dcontour\": [{\"colorbar\": {\"outlinewidth\": 0, \"ticks\": \"\"}, \"colorscale\": [[0.0, \"#0d0887\"], [0.1111111111111111, \"#46039f\"], [0.2222222222222222, \"#7201a8\"], [0.3333333333333333, \"#9c179e\"], [0.4444444444444444, \"#bd3786\"], [0.5555555555555556, \"#d8576b\"], [0.6666666666666666, \"#ed7953\"], [0.7777777777777778, \"#fb9f3a\"], [0.8888888888888888, \"#fdca26\"], [1.0, \"#f0f921\"]], \"type\": \"histogram2dcontour\"}], \"mesh3d\": [{\"colorbar\": {\"outlinewidth\": 0, \"ticks\": \"\"}, \"type\": \"mesh3d\"}], \"parcoords\": [{\"line\": {\"colorbar\": {\"outlinewidth\": 0, \"ticks\": \"\"}}, \"type\": \"parcoords\"}], \"pie\": [{\"automargin\": true, \"type\": \"pie\"}], \"scatter\": [{\"marker\": {\"colorbar\": {\"outlinewidth\": 0, \"ticks\": \"\"}}, \"type\": \"scatter\"}], \"scatter3d\": [{\"line\": {\"colorbar\": {\"outlinewidth\": 0, \"ticks\": \"\"}}, \"marker\": {\"colorbar\": {\"outlinewidth\": 0, \"ticks\": \"\"}}, \"type\": \"scatter3d\"}], \"scattercarpet\": [{\"marker\": {\"colorbar\": {\"outlinewidth\": 0, \"ticks\": \"\"}}, \"type\": \"scattercarpet\"}], \"scattergeo\": [{\"marker\": {\"colorbar\": {\"outlinewidth\": 0, \"ticks\": \"\"}}, \"type\": \"scattergeo\"}], \"scattergl\": [{\"marker\": {\"colorbar\": {\"outlinewidth\": 0, \"ticks\": \"\"}}, \"type\": \"scattergl\"}], \"scattermapbox\": [{\"marker\": {\"colorbar\": {\"outlinewidth\": 0, \"ticks\": \"\"}}, \"type\": \"scattermapbox\"}], \"scatterpolar\": [{\"marker\": {\"colorbar\": {\"outlinewidth\": 0, \"ticks\": \"\"}}, \"type\": \"scatterpolar\"}], \"scatterpolargl\": [{\"marker\": {\"colorbar\": {\"outlinewidth\": 0, \"ticks\": \"\"}}, \"type\": \"scatterpolargl\"}], \"scatterternary\": [{\"marker\": {\"colorbar\": {\"outlinewidth\": 0, \"ticks\": \"\"}}, \"type\": \"scatterternary\"}], \"surface\": [{\"colorbar\": {\"outlinewidth\": 0, \"ticks\": \"\"}, \"colorscale\": [[0.0, \"#0d0887\"], [0.1111111111111111, \"#46039f\"], [0.2222222222222222, \"#7201a8\"], [0.3333333333333333, \"#9c179e\"], [0.4444444444444444, \"#bd3786\"], [0.5555555555555556, \"#d8576b\"], [0.6666666666666666, \"#ed7953\"], [0.7777777777777778, \"#fb9f3a\"], [0.8888888888888888, \"#fdca26\"], [1.0, \"#f0f921\"]], \"type\": \"surface\"}], \"table\": [{\"cells\": {\"fill\": {\"color\": \"#EBF0F8\"}, \"line\": {\"color\": \"white\"}}, \"header\": {\"fill\": {\"color\": \"#C8D4E3\"}, \"line\": {\"color\": \"white\"}}, \"type\": \"table\"}]}, \"layout\": {\"annotationdefaults\": {\"arrowcolor\": \"#2a3f5f\", \"arrowhead\": 0, \"arrowwidth\": 1}, \"autotypenumbers\": \"strict\", \"coloraxis\": {\"colorbar\": {\"outlinewidth\": 0, \"ticks\": \"\"}}, \"colorscale\": {\"diverging\": [[0, \"#8e0152\"], [0.1, \"#c51b7d\"], [0.2, \"#de77ae\"], [0.3, \"#f1b6da\"], [0.4, \"#fde0ef\"], [0.5, \"#f7f7f7\"], [0.6, \"#e6f5d0\"], [0.7, \"#b8e186\"], [0.8, \"#7fbc41\"], [0.9, \"#4d9221\"], [1, \"#276419\"]], \"sequential\": [[0.0, \"#0d0887\"], [0.1111111111111111, \"#46039f\"], [0.2222222222222222, \"#7201a8\"], [0.3333333333333333, \"#9c179e\"], [0.4444444444444444, \"#bd3786\"], [0.5555555555555556, \"#d8576b\"], [0.6666666666666666, \"#ed7953\"], [0.7777777777777778, \"#fb9f3a\"], [0.8888888888888888, \"#fdca26\"], [1.0, \"#f0f921\"]], \"sequentialminus\": [[0.0, \"#0d0887\"], [0.1111111111111111, \"#46039f\"], [0.2222222222222222, \"#7201a8\"], [0.3333333333333333, \"#9c179e\"], [0.4444444444444444, \"#bd3786\"], [0.5555555555555556, \"#d8576b\"], [0.6666666666666666, \"#ed7953\"], [0.7777777777777778, \"#fb9f3a\"], [0.8888888888888888, \"#fdca26\"], [1.0, \"#f0f921\"]]}, \"colorway\": [\"#636efa\", \"#EF553B\", \"#00cc96\", \"#ab63fa\", \"#FFA15A\", \"#19d3f3\", \"#FF6692\", \"#B6E880\", \"#FF97FF\", \"#FECB52\"], \"font\": {\"color\": \"#2a3f5f\"}, \"geo\": {\"bgcolor\": \"white\", \"lakecolor\": \"white\", \"landcolor\": \"#E5ECF6\", \"showlakes\": true, \"showland\": true, \"subunitcolor\": \"white\"}, \"hoverlabel\": {\"align\": \"left\"}, \"hovermode\": \"closest\", \"mapbox\": {\"style\": \"light\"}, \"paper_bgcolor\": \"white\", \"plot_bgcolor\": \"#E5ECF6\", \"polar\": {\"angularaxis\": {\"gridcolor\": \"white\", \"linecolor\": \"white\", \"ticks\": \"\"}, \"bgcolor\": \"#E5ECF6\", \"radialaxis\": {\"gridcolor\": \"white\", \"linecolor\": \"white\", \"ticks\": \"\"}}, \"scene\": {\"xaxis\": {\"backgroundcolor\": \"#E5ECF6\", \"gridcolor\": \"white\", \"gridwidth\": 2, \"linecolor\": \"white\", \"showbackground\": true, \"ticks\": \"\", \"zerolinecolor\": \"white\"}, \"yaxis\": {\"backgroundcolor\": \"#E5ECF6\", \"gridcolor\": \"white\", \"gridwidth\": 2, \"linecolor\": \"white\", \"showbackground\": true, \"ticks\": \"\", \"zerolinecolor\": \"white\"}, \"zaxis\": {\"backgroundcolor\": \"#E5ECF6\", \"gridcolor\": \"white\", \"gridwidth\": 2, \"linecolor\": \"white\", \"showbackground\": true, \"ticks\": \"\", \"zerolinecolor\": \"white\"}}, \"shapedefaults\": {\"line\": {\"color\": \"#2a3f5f\"}}, \"ternary\": {\"aaxis\": {\"gridcolor\": \"white\", \"linecolor\": \"white\", \"ticks\": \"\"}, \"baxis\": {\"gridcolor\": \"white\", \"linecolor\": \"white\", \"ticks\": \"\"}, \"bgcolor\": \"#E5ECF6\", \"caxis\": {\"gridcolor\": \"white\", \"linecolor\": \"white\", \"ticks\": \"\"}}, \"title\": {\"x\": 0.05}, \"xaxis\": {\"automargin\": true, \"gridcolor\": \"white\", \"linecolor\": \"white\", \"ticks\": \"\", \"title\": {\"standoff\": 15}, \"zerolinecolor\": \"white\", \"zerolinewidth\": 2}, \"yaxis\": {\"automargin\": true, \"gridcolor\": \"white\", \"linecolor\": \"white\", \"ticks\": \"\", \"title\": {\"standoff\": 15}, \"zerolinecolor\": \"white\", \"zerolinewidth\": 2}}}, \"xaxis\": {\"anchor\": \"y\", \"domain\": [0.0, 1.0], \"title\": {\"text\": \"Founding\"}}, \"yaxis\": {\"anchor\": \"x\", \"domain\": [0.0, 1.0]}},                        {\"responsive\": true}                    ).then(function(){\n                            \nvar gd = document.getElementById('8e6d1576-28b6-4014-bd8e-7a5aeb5674b6');\nvar x = new MutationObserver(function (mutations, observer) {{\n        var display = window.getComputedStyle(gd).display;\n        if (!display || display === 'none') {{\n            console.log([gd, 'removed!']);\n            Plotly.purge(gd);\n            observer.disconnect();\n        }}\n}});\n\n// Listen for the removal of the full notebook cells\nvar notebookContainer = gd.closest('#notebook-container');\nif (notebookContainer) {{\n    x.observe(notebookContainer, {childList: true});\n}}\n\n// Listen for the clearing of the current output cell\nvar outputEl = gd.closest('.output');\nif (outputEl) {{\n    x.observe(outputEl, {childList: true});\n}}\n\n                        })                };                            </script>        </div>\n</body>\n</html>"
     },
     "metadata": {},
     "output_type": "display_data"
    }
   ]
  },
  {
   "cell_type": "markdown",
   "source": "`founded_to_IPO` time between founded and IPO",
   "metadata": {
    "tags": [],
    "cell_id": "00041-c625dfce-c954-4eb4-aceb-e387f75ff5ff",
    "deepnote_cell_type": "markdown"
   }
  },
  {
   "cell_type": "code",
   "metadata": {
    "tags": [],
    "cell_id": "00043-37ed0b8c-9265-45dc-b82b-f562f588f9b0",
    "deepnote_to_be_reexecuted": false,
    "source_hash": "dc69f298",
    "execution_start": 1625240802477,
    "execution_millis": 122,
    "deepnote_cell_type": "code"
   },
   "source": "public_financial['founded_to_IPO'] = public_financial['offer year'] - public_financial['Founding']\nfig = px.histogram(public_financial, x=\"founded_to_IPO\")\nfig.show()",
   "execution_count": null,
   "outputs": [
    {
     "data": {
      "text/html": "<html>\n<head><meta charset=\"utf-8\" /></head>\n<body>\n    <div>            <script src=\"https://cdnjs.cloudflare.com/ajax/libs/mathjax/2.7.5/MathJax.js?config=TeX-AMS-MML_SVG\"></script><script type=\"text/javascript\">if (window.MathJax) {MathJax.Hub.Config({SVG: {font: \"STIX-Web\"}});}</script>                <script type=\"text/javascript\">window.PlotlyConfig = {MathJaxConfig: 'local'};</script>\n        <script src=\"https://cdn.plot.ly/plotly-latest.min.js\"></script>                <div id=\"6505ed9d-8b5f-4408-82e0-be90d42a8f9d\" class=\"plotly-graph-div\" style=\"height:525px; width:100%;\"></div>            <script type=\"text/javascript\">                                    window.PLOTLYENV=window.PLOTLYENV || {};                                    if (document.getElementById(\"6505ed9d-8b5f-4408-82e0-be90d42a8f9d\")) {                    Plotly.newPlot(                        \"6505ed9d-8b5f-4408-82e0-be90d42a8f9d\",                        [{\"alignmentgroup\": \"True\", \"bingroup\": \"x\", \"hovertemplate\": \"founded_to_IPO=%{x}<br>count=%{y}<extra></extra>\", \"legendgroup\": \"\", \"marker\": {\"color\": \"#636efa\"}, \"name\": \"\", \"offsetgroup\": \"\", \"orientation\": \"v\", \"showlegend\": false, \"type\": \"histogram\", \"x\": [118.0, 9.0, 8.0, 90.0, 9.0, null, 1.0, null, 12.0, null, 1.0, 34.0, 19.0, null, null, 26.0, null, 34.0, 8.0, 17.0, 12.0, null, 14.0, 22.0, 6.0, 105.0, 39.0, 10.0, 104.0, 20.0, 41.0, 20.0, 8.0, 37.0, 1.0, null, 1.0, null, 0.0, 114.0, 2.0, 2.0, 18.0, 1.0, 8.0, 19.0, null, 1.0, 33.0, null, 1.0, 10.0, 0.0, 1.0, 79.0, 12.0, 2.0, 6.0, 10.0, null, 2.0, 16.0, 2.0, 16.0, 116.0, 42.0, 6.0, 104.0, 12.0, 16.0, 1.0, null, 1.0, 1.0, 70.0, 85.0, 104.0, 1.0, 6.0, 2.0, 29.0, 43.0, 1.0, 0.0, 3.0, 0.0, 8.0, 8.0, 3.0, 7.0, 6.0, null, 5.0, 3.0, 8.0, 100.0, 7.0, 51.0, 2.0, 3.0, null, 2.0, 1.0, 1.0, 5.0, null, 10.0, 4.0, null, null, 36.0, 29.0, 5.0, 0.0, 6.0, 1.0, 2.0, 21.0, null, 100.0, 20.0, 9.0, null, 11.0, 11.0, 15.0, 9.0, 10.0, 4.0, 2.0, 3.0, 11.0, 4.0, 38.0, 14.0, null, 1.0], \"xaxis\": \"x\", \"yaxis\": \"y\"}],                        {\"barmode\": \"relative\", \"legend\": {\"tracegroupgap\": 0}, \"margin\": {\"t\": 60}, \"template\": {\"data\": {\"bar\": [{\"error_x\": {\"color\": \"#2a3f5f\"}, \"error_y\": {\"color\": \"#2a3f5f\"}, \"marker\": {\"line\": {\"color\": \"#E5ECF6\", \"width\": 0.5}}, \"type\": \"bar\"}], \"barpolar\": [{\"marker\": {\"line\": {\"color\": \"#E5ECF6\", \"width\": 0.5}}, \"type\": \"barpolar\"}], \"carpet\": [{\"aaxis\": {\"endlinecolor\": \"#2a3f5f\", \"gridcolor\": \"white\", \"linecolor\": \"white\", \"minorgridcolor\": \"white\", \"startlinecolor\": \"#2a3f5f\"}, \"baxis\": {\"endlinecolor\": \"#2a3f5f\", \"gridcolor\": \"white\", \"linecolor\": \"white\", \"minorgridcolor\": \"white\", \"startlinecolor\": \"#2a3f5f\"}, \"type\": \"carpet\"}], \"choropleth\": [{\"colorbar\": {\"outlinewidth\": 0, \"ticks\": \"\"}, \"type\": \"choropleth\"}], \"contour\": [{\"colorbar\": {\"outlinewidth\": 0, \"ticks\": \"\"}, \"colorscale\": [[0.0, \"#0d0887\"], [0.1111111111111111, \"#46039f\"], [0.2222222222222222, \"#7201a8\"], [0.3333333333333333, \"#9c179e\"], [0.4444444444444444, \"#bd3786\"], [0.5555555555555556, \"#d8576b\"], [0.6666666666666666, \"#ed7953\"], [0.7777777777777778, \"#fb9f3a\"], [0.8888888888888888, \"#fdca26\"], [1.0, \"#f0f921\"]], \"type\": \"contour\"}], \"contourcarpet\": [{\"colorbar\": {\"outlinewidth\": 0, \"ticks\": \"\"}, \"type\": \"contourcarpet\"}], \"heatmap\": [{\"colorbar\": {\"outlinewidth\": 0, \"ticks\": \"\"}, \"colorscale\": [[0.0, \"#0d0887\"], [0.1111111111111111, \"#46039f\"], [0.2222222222222222, \"#7201a8\"], [0.3333333333333333, \"#9c179e\"], [0.4444444444444444, \"#bd3786\"], [0.5555555555555556, \"#d8576b\"], [0.6666666666666666, \"#ed7953\"], [0.7777777777777778, \"#fb9f3a\"], [0.8888888888888888, \"#fdca26\"], [1.0, \"#f0f921\"]], \"type\": \"heatmap\"}], \"heatmapgl\": [{\"colorbar\": {\"outlinewidth\": 0, \"ticks\": \"\"}, \"colorscale\": [[0.0, \"#0d0887\"], [0.1111111111111111, \"#46039f\"], [0.2222222222222222, \"#7201a8\"], [0.3333333333333333, \"#9c179e\"], [0.4444444444444444, \"#bd3786\"], [0.5555555555555556, \"#d8576b\"], [0.6666666666666666, \"#ed7953\"], [0.7777777777777778, \"#fb9f3a\"], [0.8888888888888888, \"#fdca26\"], [1.0, \"#f0f921\"]], \"type\": \"heatmapgl\"}], \"histogram\": [{\"marker\": {\"colorbar\": {\"outlinewidth\": 0, \"ticks\": \"\"}}, \"type\": \"histogram\"}], \"histogram2d\": [{\"colorbar\": {\"outlinewidth\": 0, \"ticks\": \"\"}, \"colorscale\": [[0.0, \"#0d0887\"], [0.1111111111111111, \"#46039f\"], [0.2222222222222222, \"#7201a8\"], [0.3333333333333333, \"#9c179e\"], [0.4444444444444444, \"#bd3786\"], [0.5555555555555556, \"#d8576b\"], [0.6666666666666666, \"#ed7953\"], [0.7777777777777778, \"#fb9f3a\"], [0.8888888888888888, \"#fdca26\"], [1.0, \"#f0f921\"]], \"type\": \"histogram2d\"}], \"histogram2dcontour\": [{\"colorbar\": {\"outlinewidth\": 0, \"ticks\": \"\"}, \"colorscale\": [[0.0, \"#0d0887\"], [0.1111111111111111, \"#46039f\"], [0.2222222222222222, \"#7201a8\"], [0.3333333333333333, \"#9c179e\"], [0.4444444444444444, \"#bd3786\"], [0.5555555555555556, \"#d8576b\"], [0.6666666666666666, \"#ed7953\"], [0.7777777777777778, \"#fb9f3a\"], [0.8888888888888888, \"#fdca26\"], [1.0, \"#f0f921\"]], \"type\": \"histogram2dcontour\"}], \"mesh3d\": [{\"colorbar\": {\"outlinewidth\": 0, \"ticks\": \"\"}, \"type\": \"mesh3d\"}], \"parcoords\": [{\"line\": {\"colorbar\": {\"outlinewidth\": 0, \"ticks\": \"\"}}, \"type\": \"parcoords\"}], \"pie\": [{\"automargin\": true, \"type\": \"pie\"}], \"scatter\": [{\"marker\": {\"colorbar\": {\"outlinewidth\": 0, \"ticks\": \"\"}}, \"type\": \"scatter\"}], \"scatter3d\": [{\"line\": {\"colorbar\": {\"outlinewidth\": 0, \"ticks\": \"\"}}, \"marker\": {\"colorbar\": {\"outlinewidth\": 0, \"ticks\": \"\"}}, \"type\": \"scatter3d\"}], \"scattercarpet\": [{\"marker\": {\"colorbar\": {\"outlinewidth\": 0, \"ticks\": \"\"}}, \"type\": \"scattercarpet\"}], \"scattergeo\": [{\"marker\": {\"colorbar\": {\"outlinewidth\": 0, \"ticks\": \"\"}}, \"type\": \"scattergeo\"}], \"scattergl\": [{\"marker\": {\"colorbar\": {\"outlinewidth\": 0, \"ticks\": \"\"}}, \"type\": \"scattergl\"}], \"scattermapbox\": [{\"marker\": {\"colorbar\": {\"outlinewidth\": 0, \"ticks\": \"\"}}, \"type\": \"scattermapbox\"}], \"scatterpolar\": [{\"marker\": {\"colorbar\": {\"outlinewidth\": 0, \"ticks\": \"\"}}, \"type\": \"scatterpolar\"}], \"scatterpolargl\": [{\"marker\": {\"colorbar\": {\"outlinewidth\": 0, \"ticks\": \"\"}}, \"type\": \"scatterpolargl\"}], \"scatterternary\": [{\"marker\": {\"colorbar\": {\"outlinewidth\": 0, \"ticks\": \"\"}}, \"type\": \"scatterternary\"}], \"surface\": [{\"colorbar\": {\"outlinewidth\": 0, \"ticks\": \"\"}, \"colorscale\": [[0.0, \"#0d0887\"], [0.1111111111111111, \"#46039f\"], [0.2222222222222222, \"#7201a8\"], [0.3333333333333333, \"#9c179e\"], [0.4444444444444444, \"#bd3786\"], [0.5555555555555556, \"#d8576b\"], [0.6666666666666666, \"#ed7953\"], [0.7777777777777778, \"#fb9f3a\"], [0.8888888888888888, \"#fdca26\"], [1.0, \"#f0f921\"]], \"type\": \"surface\"}], \"table\": [{\"cells\": {\"fill\": {\"color\": \"#EBF0F8\"}, \"line\": {\"color\": \"white\"}}, \"header\": {\"fill\": {\"color\": \"#C8D4E3\"}, \"line\": {\"color\": \"white\"}}, \"type\": \"table\"}]}, \"layout\": {\"annotationdefaults\": {\"arrowcolor\": \"#2a3f5f\", \"arrowhead\": 0, \"arrowwidth\": 1}, \"autotypenumbers\": \"strict\", \"coloraxis\": {\"colorbar\": {\"outlinewidth\": 0, \"ticks\": \"\"}}, \"colorscale\": {\"diverging\": [[0, \"#8e0152\"], [0.1, \"#c51b7d\"], [0.2, \"#de77ae\"], [0.3, \"#f1b6da\"], [0.4, \"#fde0ef\"], [0.5, \"#f7f7f7\"], [0.6, \"#e6f5d0\"], [0.7, \"#b8e186\"], [0.8, \"#7fbc41\"], [0.9, \"#4d9221\"], [1, \"#276419\"]], \"sequential\": [[0.0, \"#0d0887\"], [0.1111111111111111, \"#46039f\"], [0.2222222222222222, \"#7201a8\"], [0.3333333333333333, \"#9c179e\"], [0.4444444444444444, \"#bd3786\"], [0.5555555555555556, \"#d8576b\"], [0.6666666666666666, \"#ed7953\"], [0.7777777777777778, \"#fb9f3a\"], [0.8888888888888888, \"#fdca26\"], [1.0, \"#f0f921\"]], \"sequentialminus\": [[0.0, \"#0d0887\"], [0.1111111111111111, \"#46039f\"], [0.2222222222222222, \"#7201a8\"], [0.3333333333333333, \"#9c179e\"], [0.4444444444444444, \"#bd3786\"], [0.5555555555555556, \"#d8576b\"], [0.6666666666666666, \"#ed7953\"], [0.7777777777777778, \"#fb9f3a\"], [0.8888888888888888, \"#fdca26\"], [1.0, \"#f0f921\"]]}, \"colorway\": [\"#636efa\", \"#EF553B\", \"#00cc96\", \"#ab63fa\", \"#FFA15A\", \"#19d3f3\", \"#FF6692\", \"#B6E880\", \"#FF97FF\", \"#FECB52\"], \"font\": {\"color\": \"#2a3f5f\"}, \"geo\": {\"bgcolor\": \"white\", \"lakecolor\": \"white\", \"landcolor\": \"#E5ECF6\", \"showlakes\": true, \"showland\": true, \"subunitcolor\": \"white\"}, \"hoverlabel\": {\"align\": \"left\"}, \"hovermode\": \"closest\", \"mapbox\": {\"style\": \"light\"}, \"paper_bgcolor\": \"white\", \"plot_bgcolor\": \"#E5ECF6\", \"polar\": {\"angularaxis\": {\"gridcolor\": \"white\", \"linecolor\": \"white\", \"ticks\": \"\"}, \"bgcolor\": \"#E5ECF6\", \"radialaxis\": {\"gridcolor\": \"white\", \"linecolor\": \"white\", \"ticks\": \"\"}}, \"scene\": {\"xaxis\": {\"backgroundcolor\": \"#E5ECF6\", \"gridcolor\": \"white\", \"gridwidth\": 2, \"linecolor\": \"white\", \"showbackground\": true, \"ticks\": \"\", \"zerolinecolor\": \"white\"}, \"yaxis\": {\"backgroundcolor\": \"#E5ECF6\", \"gridcolor\": \"white\", \"gridwidth\": 2, \"linecolor\": \"white\", \"showbackground\": true, \"ticks\": \"\", \"zerolinecolor\": \"white\"}, \"zaxis\": {\"backgroundcolor\": \"#E5ECF6\", \"gridcolor\": \"white\", \"gridwidth\": 2, \"linecolor\": \"white\", \"showbackground\": true, \"ticks\": \"\", \"zerolinecolor\": \"white\"}}, \"shapedefaults\": {\"line\": {\"color\": \"#2a3f5f\"}}, \"ternary\": {\"aaxis\": {\"gridcolor\": \"white\", \"linecolor\": \"white\", \"ticks\": \"\"}, \"baxis\": {\"gridcolor\": \"white\", \"linecolor\": \"white\", \"ticks\": \"\"}, \"bgcolor\": \"#E5ECF6\", \"caxis\": {\"gridcolor\": \"white\", \"linecolor\": \"white\", \"ticks\": \"\"}}, \"title\": {\"x\": 0.05}, \"xaxis\": {\"automargin\": true, \"gridcolor\": \"white\", \"linecolor\": \"white\", \"ticks\": \"\", \"title\": {\"standoff\": 15}, \"zerolinecolor\": \"white\", \"zerolinewidth\": 2}, \"yaxis\": {\"automargin\": true, \"gridcolor\": \"white\", \"linecolor\": \"white\", \"ticks\": \"\", \"title\": {\"standoff\": 15}, \"zerolinecolor\": \"white\", \"zerolinewidth\": 2}}}, \"xaxis\": {\"anchor\": \"y\", \"domain\": [0.0, 1.0], \"title\": {\"text\": \"founded_to_IPO\"}}, \"yaxis\": {\"anchor\": \"x\", \"domain\": [0.0, 1.0], \"title\": {\"text\": \"count\"}}},                        {\"responsive\": true}                    ).then(function(){\n                            \nvar gd = document.getElementById('6505ed9d-8b5f-4408-82e0-be90d42a8f9d');\nvar x = new MutationObserver(function (mutations, observer) {{\n        var display = window.getComputedStyle(gd).display;\n        if (!display || display === 'none') {{\n            console.log([gd, 'removed!']);\n            Plotly.purge(gd);\n            observer.disconnect();\n        }}\n}});\n\n// Listen for the removal of the full notebook cells\nvar notebookContainer = gd.closest('#notebook-container');\nif (notebookContainer) {{\n    x.observe(notebookContainer, {childList: true});\n}}\n\n// Listen for the clearing of the current output cell\nvar outputEl = gd.closest('.output');\nif (outputEl) {{\n    x.observe(outputEl, {childList: true});\n}}\n\n                        })                };                            </script>        </div>\n</body>\n</html>"
     },
     "metadata": {},
     "output_type": "display_data"
    }
   ]
  },
  {
   "cell_type": "code",
   "metadata": {
    "tags": [],
    "cell_id": "00041-4dd9cecf-e18e-4e9d-a933-016bba398e50",
    "deepnote_to_be_reexecuted": false,
    "source_hash": "24273e68",
    "execution_start": 1625240802588,
    "execution_millis": 74,
    "deepnote_cell_type": "code"
   },
   "source": "temp = public_financial[public_financial['founded_to_IPO'] <= 20]\nfig = px.histogram(temp, x=\"founded_to_IPO\")\nfig.show()",
   "execution_count": null,
   "outputs": [
    {
     "data": {
      "text/html": "<html>\n<head><meta charset=\"utf-8\" /></head>\n<body>\n    <div>            <script src=\"https://cdnjs.cloudflare.com/ajax/libs/mathjax/2.7.5/MathJax.js?config=TeX-AMS-MML_SVG\"></script><script type=\"text/javascript\">if (window.MathJax) {MathJax.Hub.Config({SVG: {font: \"STIX-Web\"}});}</script>                <script type=\"text/javascript\">window.PlotlyConfig = {MathJaxConfig: 'local'};</script>\n        <script src=\"https://cdn.plot.ly/plotly-latest.min.js\"></script>                <div id=\"eebaf884-1330-49a4-b770-80784ef9b1e9\" class=\"plotly-graph-div\" style=\"height:525px; width:100%;\"></div>            <script type=\"text/javascript\">                                    window.PLOTLYENV=window.PLOTLYENV || {};                                    if (document.getElementById(\"eebaf884-1330-49a4-b770-80784ef9b1e9\")) {                    Plotly.newPlot(                        \"eebaf884-1330-49a4-b770-80784ef9b1e9\",                        [{\"alignmentgroup\": \"True\", \"bingroup\": \"x\", \"hovertemplate\": \"founded_to_IPO=%{x}<br>count=%{y}<extra></extra>\", \"legendgroup\": \"\", \"marker\": {\"color\": \"#636efa\"}, \"name\": \"\", \"offsetgroup\": \"\", \"orientation\": \"v\", \"showlegend\": false, \"type\": \"histogram\", \"x\": [9.0, 8.0, 9.0, 1.0, 12.0, 1.0, 19.0, 8.0, 17.0, 12.0, 14.0, 6.0, 10.0, 20.0, 20.0, 8.0, 1.0, 1.0, 0.0, 2.0, 2.0, 18.0, 1.0, 8.0, 19.0, 1.0, 1.0, 10.0, 0.0, 1.0, 12.0, 2.0, 6.0, 10.0, 2.0, 16.0, 2.0, 16.0, 6.0, 12.0, 16.0, 1.0, 1.0, 1.0, 1.0, 6.0, 2.0, 1.0, 0.0, 3.0, 0.0, 8.0, 8.0, 3.0, 7.0, 6.0, 5.0, 3.0, 8.0, 7.0, 2.0, 3.0, 2.0, 1.0, 1.0, 5.0, 10.0, 4.0, 5.0, 0.0, 6.0, 1.0, 2.0, 20.0, 9.0, 11.0, 11.0, 15.0, 9.0, 10.0, 4.0, 2.0, 3.0, 11.0, 4.0, 14.0, 1.0], \"xaxis\": \"x\", \"yaxis\": \"y\"}],                        {\"barmode\": \"relative\", \"legend\": {\"tracegroupgap\": 0}, \"margin\": {\"t\": 60}, \"template\": {\"data\": {\"bar\": [{\"error_x\": {\"color\": \"#2a3f5f\"}, \"error_y\": {\"color\": \"#2a3f5f\"}, \"marker\": {\"line\": {\"color\": \"#E5ECF6\", \"width\": 0.5}}, \"type\": \"bar\"}], \"barpolar\": [{\"marker\": {\"line\": {\"color\": \"#E5ECF6\", \"width\": 0.5}}, \"type\": \"barpolar\"}], \"carpet\": [{\"aaxis\": {\"endlinecolor\": \"#2a3f5f\", \"gridcolor\": \"white\", \"linecolor\": \"white\", \"minorgridcolor\": \"white\", \"startlinecolor\": \"#2a3f5f\"}, \"baxis\": {\"endlinecolor\": \"#2a3f5f\", \"gridcolor\": \"white\", \"linecolor\": \"white\", \"minorgridcolor\": \"white\", \"startlinecolor\": \"#2a3f5f\"}, \"type\": \"carpet\"}], \"choropleth\": [{\"colorbar\": {\"outlinewidth\": 0, \"ticks\": \"\"}, \"type\": \"choropleth\"}], \"contour\": [{\"colorbar\": {\"outlinewidth\": 0, \"ticks\": \"\"}, \"colorscale\": [[0.0, \"#0d0887\"], [0.1111111111111111, \"#46039f\"], [0.2222222222222222, \"#7201a8\"], [0.3333333333333333, \"#9c179e\"], [0.4444444444444444, \"#bd3786\"], [0.5555555555555556, \"#d8576b\"], [0.6666666666666666, \"#ed7953\"], [0.7777777777777778, \"#fb9f3a\"], [0.8888888888888888, \"#fdca26\"], [1.0, \"#f0f921\"]], \"type\": \"contour\"}], \"contourcarpet\": [{\"colorbar\": {\"outlinewidth\": 0, \"ticks\": \"\"}, \"type\": \"contourcarpet\"}], \"heatmap\": [{\"colorbar\": {\"outlinewidth\": 0, \"ticks\": \"\"}, \"colorscale\": [[0.0, \"#0d0887\"], [0.1111111111111111, \"#46039f\"], [0.2222222222222222, \"#7201a8\"], [0.3333333333333333, \"#9c179e\"], [0.4444444444444444, \"#bd3786\"], [0.5555555555555556, \"#d8576b\"], [0.6666666666666666, \"#ed7953\"], [0.7777777777777778, \"#fb9f3a\"], [0.8888888888888888, \"#fdca26\"], [1.0, \"#f0f921\"]], \"type\": \"heatmap\"}], \"heatmapgl\": [{\"colorbar\": {\"outlinewidth\": 0, \"ticks\": \"\"}, \"colorscale\": [[0.0, \"#0d0887\"], [0.1111111111111111, \"#46039f\"], [0.2222222222222222, \"#7201a8\"], [0.3333333333333333, \"#9c179e\"], [0.4444444444444444, \"#bd3786\"], [0.5555555555555556, \"#d8576b\"], [0.6666666666666666, \"#ed7953\"], [0.7777777777777778, \"#fb9f3a\"], [0.8888888888888888, \"#fdca26\"], [1.0, \"#f0f921\"]], \"type\": \"heatmapgl\"}], \"histogram\": [{\"marker\": {\"colorbar\": {\"outlinewidth\": 0, \"ticks\": \"\"}}, \"type\": \"histogram\"}], \"histogram2d\": [{\"colorbar\": {\"outlinewidth\": 0, \"ticks\": \"\"}, \"colorscale\": [[0.0, \"#0d0887\"], [0.1111111111111111, \"#46039f\"], [0.2222222222222222, \"#7201a8\"], [0.3333333333333333, \"#9c179e\"], [0.4444444444444444, \"#bd3786\"], [0.5555555555555556, \"#d8576b\"], [0.6666666666666666, \"#ed7953\"], [0.7777777777777778, \"#fb9f3a\"], [0.8888888888888888, \"#fdca26\"], [1.0, \"#f0f921\"]], \"type\": \"histogram2d\"}], \"histogram2dcontour\": [{\"colorbar\": {\"outlinewidth\": 0, \"ticks\": \"\"}, \"colorscale\": [[0.0, \"#0d0887\"], [0.1111111111111111, \"#46039f\"], [0.2222222222222222, \"#7201a8\"], [0.3333333333333333, \"#9c179e\"], [0.4444444444444444, \"#bd3786\"], [0.5555555555555556, \"#d8576b\"], [0.6666666666666666, \"#ed7953\"], [0.7777777777777778, \"#fb9f3a\"], [0.8888888888888888, \"#fdca26\"], [1.0, \"#f0f921\"]], \"type\": \"histogram2dcontour\"}], \"mesh3d\": [{\"colorbar\": {\"outlinewidth\": 0, \"ticks\": \"\"}, \"type\": \"mesh3d\"}], \"parcoords\": [{\"line\": {\"colorbar\": {\"outlinewidth\": 0, \"ticks\": \"\"}}, \"type\": \"parcoords\"}], \"pie\": [{\"automargin\": true, \"type\": \"pie\"}], \"scatter\": [{\"marker\": {\"colorbar\": {\"outlinewidth\": 0, \"ticks\": \"\"}}, \"type\": \"scatter\"}], \"scatter3d\": [{\"line\": {\"colorbar\": {\"outlinewidth\": 0, \"ticks\": \"\"}}, \"marker\": {\"colorbar\": {\"outlinewidth\": 0, \"ticks\": \"\"}}, \"type\": \"scatter3d\"}], \"scattercarpet\": [{\"marker\": {\"colorbar\": {\"outlinewidth\": 0, \"ticks\": \"\"}}, \"type\": \"scattercarpet\"}], \"scattergeo\": [{\"marker\": {\"colorbar\": {\"outlinewidth\": 0, \"ticks\": \"\"}}, \"type\": \"scattergeo\"}], \"scattergl\": [{\"marker\": {\"colorbar\": {\"outlinewidth\": 0, \"ticks\": \"\"}}, \"type\": \"scattergl\"}], \"scattermapbox\": [{\"marker\": {\"colorbar\": {\"outlinewidth\": 0, \"ticks\": \"\"}}, \"type\": \"scattermapbox\"}], \"scatterpolar\": [{\"marker\": {\"colorbar\": {\"outlinewidth\": 0, \"ticks\": \"\"}}, \"type\": \"scatterpolar\"}], \"scatterpolargl\": [{\"marker\": {\"colorbar\": {\"outlinewidth\": 0, \"ticks\": \"\"}}, \"type\": \"scatterpolargl\"}], \"scatterternary\": [{\"marker\": {\"colorbar\": {\"outlinewidth\": 0, \"ticks\": \"\"}}, \"type\": \"scatterternary\"}], \"surface\": [{\"colorbar\": {\"outlinewidth\": 0, \"ticks\": \"\"}, \"colorscale\": [[0.0, \"#0d0887\"], [0.1111111111111111, \"#46039f\"], [0.2222222222222222, \"#7201a8\"], [0.3333333333333333, \"#9c179e\"], [0.4444444444444444, \"#bd3786\"], [0.5555555555555556, \"#d8576b\"], [0.6666666666666666, \"#ed7953\"], [0.7777777777777778, \"#fb9f3a\"], [0.8888888888888888, \"#fdca26\"], [1.0, \"#f0f921\"]], \"type\": \"surface\"}], \"table\": [{\"cells\": {\"fill\": {\"color\": \"#EBF0F8\"}, \"line\": {\"color\": \"white\"}}, \"header\": {\"fill\": {\"color\": \"#C8D4E3\"}, \"line\": {\"color\": \"white\"}}, \"type\": \"table\"}]}, \"layout\": {\"annotationdefaults\": {\"arrowcolor\": \"#2a3f5f\", \"arrowhead\": 0, \"arrowwidth\": 1}, \"autotypenumbers\": \"strict\", \"coloraxis\": {\"colorbar\": {\"outlinewidth\": 0, \"ticks\": \"\"}}, \"colorscale\": {\"diverging\": [[0, \"#8e0152\"], [0.1, \"#c51b7d\"], [0.2, \"#de77ae\"], [0.3, \"#f1b6da\"], [0.4, \"#fde0ef\"], [0.5, \"#f7f7f7\"], [0.6, \"#e6f5d0\"], [0.7, \"#b8e186\"], [0.8, \"#7fbc41\"], [0.9, \"#4d9221\"], [1, \"#276419\"]], \"sequential\": [[0.0, \"#0d0887\"], [0.1111111111111111, \"#46039f\"], [0.2222222222222222, \"#7201a8\"], [0.3333333333333333, \"#9c179e\"], [0.4444444444444444, \"#bd3786\"], [0.5555555555555556, \"#d8576b\"], [0.6666666666666666, \"#ed7953\"], [0.7777777777777778, \"#fb9f3a\"], [0.8888888888888888, \"#fdca26\"], [1.0, \"#f0f921\"]], \"sequentialminus\": [[0.0, \"#0d0887\"], [0.1111111111111111, \"#46039f\"], [0.2222222222222222, \"#7201a8\"], [0.3333333333333333, \"#9c179e\"], [0.4444444444444444, \"#bd3786\"], [0.5555555555555556, \"#d8576b\"], [0.6666666666666666, \"#ed7953\"], [0.7777777777777778, \"#fb9f3a\"], [0.8888888888888888, \"#fdca26\"], [1.0, \"#f0f921\"]]}, \"colorway\": [\"#636efa\", \"#EF553B\", \"#00cc96\", \"#ab63fa\", \"#FFA15A\", \"#19d3f3\", \"#FF6692\", \"#B6E880\", \"#FF97FF\", \"#FECB52\"], \"font\": {\"color\": \"#2a3f5f\"}, \"geo\": {\"bgcolor\": \"white\", \"lakecolor\": \"white\", \"landcolor\": \"#E5ECF6\", \"showlakes\": true, \"showland\": true, \"subunitcolor\": \"white\"}, \"hoverlabel\": {\"align\": \"left\"}, \"hovermode\": \"closest\", \"mapbox\": {\"style\": \"light\"}, \"paper_bgcolor\": \"white\", \"plot_bgcolor\": \"#E5ECF6\", \"polar\": {\"angularaxis\": {\"gridcolor\": \"white\", \"linecolor\": \"white\", \"ticks\": \"\"}, \"bgcolor\": \"#E5ECF6\", \"radialaxis\": {\"gridcolor\": \"white\", \"linecolor\": \"white\", \"ticks\": \"\"}}, \"scene\": {\"xaxis\": {\"backgroundcolor\": \"#E5ECF6\", \"gridcolor\": \"white\", \"gridwidth\": 2, \"linecolor\": \"white\", \"showbackground\": true, \"ticks\": \"\", \"zerolinecolor\": \"white\"}, \"yaxis\": {\"backgroundcolor\": \"#E5ECF6\", \"gridcolor\": \"white\", \"gridwidth\": 2, \"linecolor\": \"white\", \"showbackground\": true, \"ticks\": \"\", \"zerolinecolor\": \"white\"}, \"zaxis\": {\"backgroundcolor\": \"#E5ECF6\", \"gridcolor\": \"white\", \"gridwidth\": 2, \"linecolor\": \"white\", \"showbackground\": true, \"ticks\": \"\", \"zerolinecolor\": \"white\"}}, \"shapedefaults\": {\"line\": {\"color\": \"#2a3f5f\"}}, \"ternary\": {\"aaxis\": {\"gridcolor\": \"white\", \"linecolor\": \"white\", \"ticks\": \"\"}, \"baxis\": {\"gridcolor\": \"white\", \"linecolor\": \"white\", \"ticks\": \"\"}, \"bgcolor\": \"#E5ECF6\", \"caxis\": {\"gridcolor\": \"white\", \"linecolor\": \"white\", \"ticks\": \"\"}}, \"title\": {\"x\": 0.05}, \"xaxis\": {\"automargin\": true, \"gridcolor\": \"white\", \"linecolor\": \"white\", \"ticks\": \"\", \"title\": {\"standoff\": 15}, \"zerolinecolor\": \"white\", \"zerolinewidth\": 2}, \"yaxis\": {\"automargin\": true, \"gridcolor\": \"white\", \"linecolor\": \"white\", \"ticks\": \"\", \"title\": {\"standoff\": 15}, \"zerolinecolor\": \"white\", \"zerolinewidth\": 2}}}, \"xaxis\": {\"anchor\": \"y\", \"domain\": [0.0, 1.0], \"title\": {\"text\": \"founded_to_IPO\"}}, \"yaxis\": {\"anchor\": \"x\", \"domain\": [0.0, 1.0], \"title\": {\"text\": \"count\"}}},                        {\"responsive\": true}                    ).then(function(){\n                            \nvar gd = document.getElementById('eebaf884-1330-49a4-b770-80784ef9b1e9');\nvar x = new MutationObserver(function (mutations, observer) {{\n        var display = window.getComputedStyle(gd).display;\n        if (!display || display === 'none') {{\n            console.log([gd, 'removed!']);\n            Plotly.purge(gd);\n            observer.disconnect();\n        }}\n}});\n\n// Listen for the removal of the full notebook cells\nvar notebookContainer = gd.closest('#notebook-container');\nif (notebookContainer) {{\n    x.observe(notebookContainer, {childList: true});\n}}\n\n// Listen for the clearing of the current output cell\nvar outputEl = gd.closest('.output');\nif (outputEl) {{\n    x.observe(outputEl, {childList: true});\n}}\n\n                        })                };                            </script>        </div>\n</body>\n</html>"
     },
     "metadata": {},
     "output_type": "display_data"
    }
   ]
  },
  {
   "cell_type": "markdown",
   "source": "`VC` column (VC is a dummy with 1 for VC and 2 for a subset of VC that I call growth capital)",
   "metadata": {
    "tags": [],
    "cell_id": "00043-d027feb5-125c-4f08-b3ab-0a47fb36cb59",
    "deepnote_cell_type": "markdown"
   }
  },
  {
   "cell_type": "code",
   "metadata": {
    "tags": [],
    "cell_id": "00043-9b940d43-a2f7-4e4c-8dd8-9c4f6aa147d8",
    "deepnote_to_be_reexecuted": false,
    "source_hash": "e7aed396",
    "execution_start": 1625240802685,
    "execution_millis": 90,
    "deepnote_cell_type": "code"
   },
   "source": "temp = public_financial['VC'].value_counts().to_frame()\nfig = px.bar(temp, x=temp.index, y='VC')\nfig.update_xaxes(tickangle=45)",
   "execution_count": null,
   "outputs": [
    {
     "data": {
      "text/html": "<html>\n<head><meta charset=\"utf-8\" /></head>\n<body>\n    <div>            <script src=\"https://cdnjs.cloudflare.com/ajax/libs/mathjax/2.7.5/MathJax.js?config=TeX-AMS-MML_SVG\"></script><script type=\"text/javascript\">if (window.MathJax) {MathJax.Hub.Config({SVG: {font: \"STIX-Web\"}});}</script>                <script type=\"text/javascript\">window.PlotlyConfig = {MathJaxConfig: 'local'};</script>\n        <script src=\"https://cdn.plot.ly/plotly-latest.min.js\"></script>                <div id=\"6e43871b-ad31-4a15-8084-56fb838bd30d\" class=\"plotly-graph-div\" style=\"height:525px; width:100%;\"></div>            <script type=\"text/javascript\">                                    window.PLOTLYENV=window.PLOTLYENV || {};                                    if (document.getElementById(\"6e43871b-ad31-4a15-8084-56fb838bd30d\")) {                    Plotly.newPlot(                        \"6e43871b-ad31-4a15-8084-56fb838bd30d\",                        [{\"alignmentgroup\": \"True\", \"hovertemplate\": \"index=%{x}<br>VC=%{y}<extra></extra>\", \"legendgroup\": \"\", \"marker\": {\"color\": \"#636efa\"}, \"name\": \"\", \"offsetgroup\": \"\", \"orientation\": \"v\", \"showlegend\": false, \"textposition\": \"auto\", \"type\": \"bar\", \"x\": [0.0, 2.0, 1.0], \"xaxis\": \"x\", \"y\": [106, 7, 3], \"yaxis\": \"y\"}],                        {\"barmode\": \"relative\", \"legend\": {\"tracegroupgap\": 0}, \"margin\": {\"t\": 60}, \"template\": {\"data\": {\"bar\": [{\"error_x\": {\"color\": \"#2a3f5f\"}, \"error_y\": {\"color\": \"#2a3f5f\"}, \"marker\": {\"line\": {\"color\": \"#E5ECF6\", \"width\": 0.5}}, \"type\": \"bar\"}], \"barpolar\": [{\"marker\": {\"line\": {\"color\": \"#E5ECF6\", \"width\": 0.5}}, \"type\": \"barpolar\"}], \"carpet\": [{\"aaxis\": {\"endlinecolor\": \"#2a3f5f\", \"gridcolor\": \"white\", \"linecolor\": \"white\", \"minorgridcolor\": \"white\", \"startlinecolor\": \"#2a3f5f\"}, \"baxis\": {\"endlinecolor\": \"#2a3f5f\", \"gridcolor\": \"white\", \"linecolor\": \"white\", \"minorgridcolor\": \"white\", \"startlinecolor\": \"#2a3f5f\"}, \"type\": \"carpet\"}], \"choropleth\": [{\"colorbar\": {\"outlinewidth\": 0, \"ticks\": \"\"}, \"type\": \"choropleth\"}], \"contour\": [{\"colorbar\": {\"outlinewidth\": 0, \"ticks\": \"\"}, \"colorscale\": [[0.0, \"#0d0887\"], [0.1111111111111111, \"#46039f\"], [0.2222222222222222, \"#7201a8\"], [0.3333333333333333, \"#9c179e\"], [0.4444444444444444, \"#bd3786\"], [0.5555555555555556, \"#d8576b\"], [0.6666666666666666, \"#ed7953\"], [0.7777777777777778, \"#fb9f3a\"], [0.8888888888888888, \"#fdca26\"], [1.0, \"#f0f921\"]], \"type\": \"contour\"}], \"contourcarpet\": [{\"colorbar\": {\"outlinewidth\": 0, \"ticks\": \"\"}, \"type\": \"contourcarpet\"}], \"heatmap\": [{\"colorbar\": {\"outlinewidth\": 0, \"ticks\": \"\"}, \"colorscale\": [[0.0, \"#0d0887\"], [0.1111111111111111, \"#46039f\"], [0.2222222222222222, \"#7201a8\"], [0.3333333333333333, \"#9c179e\"], [0.4444444444444444, \"#bd3786\"], [0.5555555555555556, \"#d8576b\"], [0.6666666666666666, \"#ed7953\"], [0.7777777777777778, \"#fb9f3a\"], [0.8888888888888888, \"#fdca26\"], [1.0, \"#f0f921\"]], \"type\": \"heatmap\"}], \"heatmapgl\": [{\"colorbar\": {\"outlinewidth\": 0, \"ticks\": \"\"}, \"colorscale\": [[0.0, \"#0d0887\"], [0.1111111111111111, \"#46039f\"], [0.2222222222222222, \"#7201a8\"], [0.3333333333333333, \"#9c179e\"], [0.4444444444444444, \"#bd3786\"], [0.5555555555555556, \"#d8576b\"], [0.6666666666666666, \"#ed7953\"], [0.7777777777777778, \"#fb9f3a\"], [0.8888888888888888, \"#fdca26\"], [1.0, \"#f0f921\"]], \"type\": \"heatmapgl\"}], \"histogram\": [{\"marker\": {\"colorbar\": {\"outlinewidth\": 0, \"ticks\": \"\"}}, \"type\": \"histogram\"}], \"histogram2d\": [{\"colorbar\": {\"outlinewidth\": 0, \"ticks\": \"\"}, \"colorscale\": [[0.0, \"#0d0887\"], [0.1111111111111111, \"#46039f\"], [0.2222222222222222, \"#7201a8\"], [0.3333333333333333, \"#9c179e\"], [0.4444444444444444, \"#bd3786\"], [0.5555555555555556, \"#d8576b\"], [0.6666666666666666, \"#ed7953\"], [0.7777777777777778, \"#fb9f3a\"], [0.8888888888888888, \"#fdca26\"], [1.0, \"#f0f921\"]], \"type\": \"histogram2d\"}], \"histogram2dcontour\": [{\"colorbar\": {\"outlinewidth\": 0, \"ticks\": \"\"}, \"colorscale\": [[0.0, \"#0d0887\"], [0.1111111111111111, \"#46039f\"], [0.2222222222222222, \"#7201a8\"], [0.3333333333333333, \"#9c179e\"], [0.4444444444444444, \"#bd3786\"], [0.5555555555555556, \"#d8576b\"], [0.6666666666666666, \"#ed7953\"], [0.7777777777777778, \"#fb9f3a\"], [0.8888888888888888, \"#fdca26\"], [1.0, \"#f0f921\"]], \"type\": \"histogram2dcontour\"}], \"mesh3d\": [{\"colorbar\": {\"outlinewidth\": 0, \"ticks\": \"\"}, \"type\": \"mesh3d\"}], \"parcoords\": [{\"line\": {\"colorbar\": {\"outlinewidth\": 0, \"ticks\": \"\"}}, \"type\": \"parcoords\"}], \"pie\": [{\"automargin\": true, \"type\": \"pie\"}], \"scatter\": [{\"marker\": {\"colorbar\": {\"outlinewidth\": 0, \"ticks\": \"\"}}, \"type\": \"scatter\"}], \"scatter3d\": [{\"line\": {\"colorbar\": {\"outlinewidth\": 0, \"ticks\": \"\"}}, \"marker\": {\"colorbar\": {\"outlinewidth\": 0, \"ticks\": \"\"}}, \"type\": \"scatter3d\"}], \"scattercarpet\": [{\"marker\": {\"colorbar\": {\"outlinewidth\": 0, \"ticks\": \"\"}}, \"type\": \"scattercarpet\"}], \"scattergeo\": [{\"marker\": {\"colorbar\": {\"outlinewidth\": 0, \"ticks\": \"\"}}, \"type\": \"scattergeo\"}], \"scattergl\": [{\"marker\": {\"colorbar\": {\"outlinewidth\": 0, \"ticks\": \"\"}}, \"type\": \"scattergl\"}], \"scattermapbox\": [{\"marker\": {\"colorbar\": {\"outlinewidth\": 0, \"ticks\": \"\"}}, \"type\": \"scattermapbox\"}], \"scatterpolar\": [{\"marker\": {\"colorbar\": {\"outlinewidth\": 0, \"ticks\": \"\"}}, \"type\": \"scatterpolar\"}], \"scatterpolargl\": [{\"marker\": {\"colorbar\": {\"outlinewidth\": 0, \"ticks\": \"\"}}, \"type\": \"scatterpolargl\"}], \"scatterternary\": [{\"marker\": {\"colorbar\": {\"outlinewidth\": 0, \"ticks\": \"\"}}, \"type\": \"scatterternary\"}], \"surface\": [{\"colorbar\": {\"outlinewidth\": 0, \"ticks\": \"\"}, \"colorscale\": [[0.0, \"#0d0887\"], [0.1111111111111111, \"#46039f\"], [0.2222222222222222, \"#7201a8\"], [0.3333333333333333, \"#9c179e\"], [0.4444444444444444, \"#bd3786\"], [0.5555555555555556, \"#d8576b\"], [0.6666666666666666, \"#ed7953\"], [0.7777777777777778, \"#fb9f3a\"], [0.8888888888888888, \"#fdca26\"], [1.0, \"#f0f921\"]], \"type\": \"surface\"}], \"table\": [{\"cells\": {\"fill\": {\"color\": \"#EBF0F8\"}, \"line\": {\"color\": \"white\"}}, \"header\": {\"fill\": {\"color\": \"#C8D4E3\"}, \"line\": {\"color\": \"white\"}}, \"type\": \"table\"}]}, \"layout\": {\"annotationdefaults\": {\"arrowcolor\": \"#2a3f5f\", \"arrowhead\": 0, \"arrowwidth\": 1}, \"autotypenumbers\": \"strict\", \"coloraxis\": {\"colorbar\": {\"outlinewidth\": 0, \"ticks\": \"\"}}, \"colorscale\": {\"diverging\": [[0, \"#8e0152\"], [0.1, \"#c51b7d\"], [0.2, \"#de77ae\"], [0.3, \"#f1b6da\"], [0.4, \"#fde0ef\"], [0.5, \"#f7f7f7\"], [0.6, \"#e6f5d0\"], [0.7, \"#b8e186\"], [0.8, \"#7fbc41\"], [0.9, \"#4d9221\"], [1, \"#276419\"]], \"sequential\": [[0.0, \"#0d0887\"], [0.1111111111111111, \"#46039f\"], [0.2222222222222222, \"#7201a8\"], [0.3333333333333333, \"#9c179e\"], [0.4444444444444444, \"#bd3786\"], [0.5555555555555556, \"#d8576b\"], [0.6666666666666666, \"#ed7953\"], [0.7777777777777778, \"#fb9f3a\"], [0.8888888888888888, \"#fdca26\"], [1.0, \"#f0f921\"]], \"sequentialminus\": [[0.0, \"#0d0887\"], [0.1111111111111111, \"#46039f\"], [0.2222222222222222, \"#7201a8\"], [0.3333333333333333, \"#9c179e\"], [0.4444444444444444, \"#bd3786\"], [0.5555555555555556, \"#d8576b\"], [0.6666666666666666, \"#ed7953\"], [0.7777777777777778, \"#fb9f3a\"], [0.8888888888888888, \"#fdca26\"], [1.0, \"#f0f921\"]]}, \"colorway\": [\"#636efa\", \"#EF553B\", \"#00cc96\", \"#ab63fa\", \"#FFA15A\", \"#19d3f3\", \"#FF6692\", \"#B6E880\", \"#FF97FF\", \"#FECB52\"], \"font\": {\"color\": \"#2a3f5f\"}, \"geo\": {\"bgcolor\": \"white\", \"lakecolor\": \"white\", \"landcolor\": \"#E5ECF6\", \"showlakes\": true, \"showland\": true, \"subunitcolor\": \"white\"}, \"hoverlabel\": {\"align\": \"left\"}, \"hovermode\": \"closest\", \"mapbox\": {\"style\": \"light\"}, \"paper_bgcolor\": \"white\", \"plot_bgcolor\": \"#E5ECF6\", \"polar\": {\"angularaxis\": {\"gridcolor\": \"white\", \"linecolor\": \"white\", \"ticks\": \"\"}, \"bgcolor\": \"#E5ECF6\", \"radialaxis\": {\"gridcolor\": \"white\", \"linecolor\": \"white\", \"ticks\": \"\"}}, \"scene\": {\"xaxis\": {\"backgroundcolor\": \"#E5ECF6\", \"gridcolor\": \"white\", \"gridwidth\": 2, \"linecolor\": \"white\", \"showbackground\": true, \"ticks\": \"\", \"zerolinecolor\": \"white\"}, \"yaxis\": {\"backgroundcolor\": \"#E5ECF6\", \"gridcolor\": \"white\", \"gridwidth\": 2, \"linecolor\": \"white\", \"showbackground\": true, \"ticks\": \"\", \"zerolinecolor\": \"white\"}, \"zaxis\": {\"backgroundcolor\": \"#E5ECF6\", \"gridcolor\": \"white\", \"gridwidth\": 2, \"linecolor\": \"white\", \"showbackground\": true, \"ticks\": \"\", \"zerolinecolor\": \"white\"}}, \"shapedefaults\": {\"line\": {\"color\": \"#2a3f5f\"}}, \"ternary\": {\"aaxis\": {\"gridcolor\": \"white\", \"linecolor\": \"white\", \"ticks\": \"\"}, \"baxis\": {\"gridcolor\": \"white\", \"linecolor\": \"white\", \"ticks\": \"\"}, \"bgcolor\": \"#E5ECF6\", \"caxis\": {\"gridcolor\": \"white\", \"linecolor\": \"white\", \"ticks\": \"\"}}, \"title\": {\"x\": 0.05}, \"xaxis\": {\"automargin\": true, \"gridcolor\": \"white\", \"linecolor\": \"white\", \"ticks\": \"\", \"title\": {\"standoff\": 15}, \"zerolinecolor\": \"white\", \"zerolinewidth\": 2}, \"yaxis\": {\"automargin\": true, \"gridcolor\": \"white\", \"linecolor\": \"white\", \"ticks\": \"\", \"title\": {\"standoff\": 15}, \"zerolinecolor\": \"white\", \"zerolinewidth\": 2}}}, \"xaxis\": {\"anchor\": \"y\", \"domain\": [0.0, 1.0], \"tickangle\": 45, \"title\": {\"text\": \"index\"}}, \"yaxis\": {\"anchor\": \"x\", \"domain\": [0.0, 1.0], \"title\": {\"text\": \"VC\"}}},                        {\"responsive\": true}                    ).then(function(){\n                            \nvar gd = document.getElementById('6e43871b-ad31-4a15-8084-56fb838bd30d');\nvar x = new MutationObserver(function (mutations, observer) {{\n        var display = window.getComputedStyle(gd).display;\n        if (!display || display === 'none') {{\n            console.log([gd, 'removed!']);\n            Plotly.purge(gd);\n            observer.disconnect();\n        }}\n}});\n\n// Listen for the removal of the full notebook cells\nvar notebookContainer = gd.closest('#notebook-container');\nif (notebookContainer) {{\n    x.observe(notebookContainer, {childList: true});\n}}\n\n// Listen for the clearing of the current output cell\nvar outputEl = gd.closest('.output');\nif (outputEl) {{\n    x.observe(outputEl, {childList: true});\n}}\n\n                        })                };                            </script>        </div>\n</body>\n</html>"
     },
     "metadata": {},
     "output_type": "display_data"
    }
   ]
  },
  {
   "cell_type": "markdown",
   "source": "`Dual` column (multiple share class IPOs)",
   "metadata": {
    "tags": [],
    "cell_id": "00045-b31129fe-a10a-4d12-b548-92dcd1998bc2",
    "deepnote_cell_type": "markdown"
   }
  },
  {
   "cell_type": "code",
   "metadata": {
    "tags": [],
    "cell_id": "00044-edf8befe-1a47-481f-af2e-03edd30c60fb",
    "deepnote_to_be_reexecuted": false,
    "source_hash": "db17453d",
    "execution_start": 1625240802779,
    "execution_millis": 131,
    "deepnote_cell_type": "code"
   },
   "source": "temp = public_financial['Dual'].value_counts().to_frame()\nfig = px.bar(temp, x=temp.index, y='Dual')\nfig.update_xaxes(tickangle=45)",
   "execution_count": null,
   "outputs": [
    {
     "data": {
      "text/html": "<html>\n<head><meta charset=\"utf-8\" /></head>\n<body>\n    <div>            <script src=\"https://cdnjs.cloudflare.com/ajax/libs/mathjax/2.7.5/MathJax.js?config=TeX-AMS-MML_SVG\"></script><script type=\"text/javascript\">if (window.MathJax) {MathJax.Hub.Config({SVG: {font: \"STIX-Web\"}});}</script>                <script type=\"text/javascript\">window.PlotlyConfig = {MathJaxConfig: 'local'};</script>\n        <script src=\"https://cdn.plot.ly/plotly-latest.min.js\"></script>                <div id=\"8324547b-505b-4eb3-9a23-6ddc5142f4a0\" class=\"plotly-graph-div\" style=\"height:525px; width:100%;\"></div>            <script type=\"text/javascript\">                                    window.PLOTLYENV=window.PLOTLYENV || {};                                    if (document.getElementById(\"8324547b-505b-4eb3-9a23-6ddc5142f4a0\")) {                    Plotly.newPlot(                        \"8324547b-505b-4eb3-9a23-6ddc5142f4a0\",                        [{\"alignmentgroup\": \"True\", \"hovertemplate\": \"index=%{x}<br>Dual=%{y}<extra></extra>\", \"legendgroup\": \"\", \"marker\": {\"color\": \"#636efa\"}, \"name\": \"\", \"offsetgroup\": \"\", \"orientation\": \"v\", \"showlegend\": false, \"textposition\": \"auto\", \"type\": \"bar\", \"x\": [\"0\", \"1\"], \"xaxis\": \"x\", \"y\": [92, 24], \"yaxis\": \"y\"}],                        {\"barmode\": \"relative\", \"legend\": {\"tracegroupgap\": 0}, \"margin\": {\"t\": 60}, \"template\": {\"data\": {\"bar\": [{\"error_x\": {\"color\": \"#2a3f5f\"}, \"error_y\": {\"color\": \"#2a3f5f\"}, \"marker\": {\"line\": {\"color\": \"#E5ECF6\", \"width\": 0.5}}, \"type\": \"bar\"}], \"barpolar\": [{\"marker\": {\"line\": {\"color\": \"#E5ECF6\", \"width\": 0.5}}, \"type\": \"barpolar\"}], \"carpet\": [{\"aaxis\": {\"endlinecolor\": \"#2a3f5f\", \"gridcolor\": \"white\", \"linecolor\": \"white\", \"minorgridcolor\": \"white\", \"startlinecolor\": \"#2a3f5f\"}, \"baxis\": {\"endlinecolor\": \"#2a3f5f\", \"gridcolor\": \"white\", \"linecolor\": \"white\", \"minorgridcolor\": \"white\", \"startlinecolor\": \"#2a3f5f\"}, \"type\": \"carpet\"}], \"choropleth\": [{\"colorbar\": {\"outlinewidth\": 0, \"ticks\": \"\"}, \"type\": \"choropleth\"}], \"contour\": [{\"colorbar\": {\"outlinewidth\": 0, \"ticks\": \"\"}, \"colorscale\": [[0.0, \"#0d0887\"], [0.1111111111111111, \"#46039f\"], [0.2222222222222222, \"#7201a8\"], [0.3333333333333333, \"#9c179e\"], [0.4444444444444444, \"#bd3786\"], [0.5555555555555556, \"#d8576b\"], [0.6666666666666666, \"#ed7953\"], [0.7777777777777778, \"#fb9f3a\"], [0.8888888888888888, \"#fdca26\"], [1.0, \"#f0f921\"]], \"type\": \"contour\"}], \"contourcarpet\": [{\"colorbar\": {\"outlinewidth\": 0, \"ticks\": \"\"}, \"type\": \"contourcarpet\"}], \"heatmap\": [{\"colorbar\": {\"outlinewidth\": 0, \"ticks\": \"\"}, \"colorscale\": [[0.0, \"#0d0887\"], [0.1111111111111111, \"#46039f\"], [0.2222222222222222, \"#7201a8\"], [0.3333333333333333, \"#9c179e\"], [0.4444444444444444, \"#bd3786\"], [0.5555555555555556, \"#d8576b\"], [0.6666666666666666, \"#ed7953\"], [0.7777777777777778, \"#fb9f3a\"], [0.8888888888888888, \"#fdca26\"], [1.0, \"#f0f921\"]], \"type\": \"heatmap\"}], \"heatmapgl\": [{\"colorbar\": {\"outlinewidth\": 0, \"ticks\": \"\"}, \"colorscale\": [[0.0, \"#0d0887\"], [0.1111111111111111, \"#46039f\"], [0.2222222222222222, \"#7201a8\"], [0.3333333333333333, \"#9c179e\"], [0.4444444444444444, \"#bd3786\"], [0.5555555555555556, \"#d8576b\"], [0.6666666666666666, \"#ed7953\"], [0.7777777777777778, \"#fb9f3a\"], [0.8888888888888888, \"#fdca26\"], [1.0, \"#f0f921\"]], \"type\": \"heatmapgl\"}], \"histogram\": [{\"marker\": {\"colorbar\": {\"outlinewidth\": 0, \"ticks\": \"\"}}, \"type\": \"histogram\"}], \"histogram2d\": [{\"colorbar\": {\"outlinewidth\": 0, \"ticks\": \"\"}, \"colorscale\": [[0.0, \"#0d0887\"], [0.1111111111111111, \"#46039f\"], [0.2222222222222222, \"#7201a8\"], [0.3333333333333333, \"#9c179e\"], [0.4444444444444444, \"#bd3786\"], [0.5555555555555556, \"#d8576b\"], [0.6666666666666666, \"#ed7953\"], [0.7777777777777778, \"#fb9f3a\"], [0.8888888888888888, \"#fdca26\"], [1.0, \"#f0f921\"]], \"type\": \"histogram2d\"}], \"histogram2dcontour\": [{\"colorbar\": {\"outlinewidth\": 0, \"ticks\": \"\"}, \"colorscale\": [[0.0, \"#0d0887\"], [0.1111111111111111, \"#46039f\"], [0.2222222222222222, \"#7201a8\"], [0.3333333333333333, \"#9c179e\"], [0.4444444444444444, \"#bd3786\"], [0.5555555555555556, \"#d8576b\"], [0.6666666666666666, \"#ed7953\"], [0.7777777777777778, \"#fb9f3a\"], [0.8888888888888888, \"#fdca26\"], [1.0, \"#f0f921\"]], \"type\": \"histogram2dcontour\"}], \"mesh3d\": [{\"colorbar\": {\"outlinewidth\": 0, \"ticks\": \"\"}, \"type\": \"mesh3d\"}], \"parcoords\": [{\"line\": {\"colorbar\": {\"outlinewidth\": 0, \"ticks\": \"\"}}, \"type\": \"parcoords\"}], \"pie\": [{\"automargin\": true, \"type\": \"pie\"}], \"scatter\": [{\"marker\": {\"colorbar\": {\"outlinewidth\": 0, \"ticks\": \"\"}}, \"type\": \"scatter\"}], \"scatter3d\": [{\"line\": {\"colorbar\": {\"outlinewidth\": 0, \"ticks\": \"\"}}, \"marker\": {\"colorbar\": {\"outlinewidth\": 0, \"ticks\": \"\"}}, \"type\": \"scatter3d\"}], \"scattercarpet\": [{\"marker\": {\"colorbar\": {\"outlinewidth\": 0, \"ticks\": \"\"}}, \"type\": \"scattercarpet\"}], \"scattergeo\": [{\"marker\": {\"colorbar\": {\"outlinewidth\": 0, \"ticks\": \"\"}}, \"type\": \"scattergeo\"}], \"scattergl\": [{\"marker\": {\"colorbar\": {\"outlinewidth\": 0, \"ticks\": \"\"}}, \"type\": \"scattergl\"}], \"scattermapbox\": [{\"marker\": {\"colorbar\": {\"outlinewidth\": 0, \"ticks\": \"\"}}, \"type\": \"scattermapbox\"}], \"scatterpolar\": [{\"marker\": {\"colorbar\": {\"outlinewidth\": 0, \"ticks\": \"\"}}, \"type\": \"scatterpolar\"}], \"scatterpolargl\": [{\"marker\": {\"colorbar\": {\"outlinewidth\": 0, \"ticks\": \"\"}}, \"type\": \"scatterpolargl\"}], \"scatterternary\": [{\"marker\": {\"colorbar\": {\"outlinewidth\": 0, \"ticks\": \"\"}}, \"type\": \"scatterternary\"}], \"surface\": [{\"colorbar\": {\"outlinewidth\": 0, \"ticks\": \"\"}, \"colorscale\": [[0.0, \"#0d0887\"], [0.1111111111111111, \"#46039f\"], [0.2222222222222222, \"#7201a8\"], [0.3333333333333333, \"#9c179e\"], [0.4444444444444444, \"#bd3786\"], [0.5555555555555556, \"#d8576b\"], [0.6666666666666666, \"#ed7953\"], [0.7777777777777778, \"#fb9f3a\"], [0.8888888888888888, \"#fdca26\"], [1.0, \"#f0f921\"]], \"type\": \"surface\"}], \"table\": [{\"cells\": {\"fill\": {\"color\": \"#EBF0F8\"}, \"line\": {\"color\": \"white\"}}, \"header\": {\"fill\": {\"color\": \"#C8D4E3\"}, \"line\": {\"color\": \"white\"}}, \"type\": \"table\"}]}, \"layout\": {\"annotationdefaults\": {\"arrowcolor\": \"#2a3f5f\", \"arrowhead\": 0, \"arrowwidth\": 1}, \"autotypenumbers\": \"strict\", \"coloraxis\": {\"colorbar\": {\"outlinewidth\": 0, \"ticks\": \"\"}}, \"colorscale\": {\"diverging\": [[0, \"#8e0152\"], [0.1, \"#c51b7d\"], [0.2, \"#de77ae\"], [0.3, \"#f1b6da\"], [0.4, \"#fde0ef\"], [0.5, \"#f7f7f7\"], [0.6, \"#e6f5d0\"], [0.7, \"#b8e186\"], [0.8, \"#7fbc41\"], [0.9, \"#4d9221\"], [1, \"#276419\"]], \"sequential\": [[0.0, \"#0d0887\"], [0.1111111111111111, \"#46039f\"], [0.2222222222222222, \"#7201a8\"], [0.3333333333333333, \"#9c179e\"], [0.4444444444444444, \"#bd3786\"], [0.5555555555555556, \"#d8576b\"], [0.6666666666666666, \"#ed7953\"], [0.7777777777777778, \"#fb9f3a\"], [0.8888888888888888, \"#fdca26\"], [1.0, \"#f0f921\"]], \"sequentialminus\": [[0.0, \"#0d0887\"], [0.1111111111111111, \"#46039f\"], [0.2222222222222222, \"#7201a8\"], [0.3333333333333333, \"#9c179e\"], [0.4444444444444444, \"#bd3786\"], [0.5555555555555556, \"#d8576b\"], [0.6666666666666666, \"#ed7953\"], [0.7777777777777778, \"#fb9f3a\"], [0.8888888888888888, \"#fdca26\"], [1.0, \"#f0f921\"]]}, \"colorway\": [\"#636efa\", \"#EF553B\", \"#00cc96\", \"#ab63fa\", \"#FFA15A\", \"#19d3f3\", \"#FF6692\", \"#B6E880\", \"#FF97FF\", \"#FECB52\"], \"font\": {\"color\": \"#2a3f5f\"}, \"geo\": {\"bgcolor\": \"white\", \"lakecolor\": \"white\", \"landcolor\": \"#E5ECF6\", \"showlakes\": true, \"showland\": true, \"subunitcolor\": \"white\"}, \"hoverlabel\": {\"align\": \"left\"}, \"hovermode\": \"closest\", \"mapbox\": {\"style\": \"light\"}, \"paper_bgcolor\": \"white\", \"plot_bgcolor\": \"#E5ECF6\", \"polar\": {\"angularaxis\": {\"gridcolor\": \"white\", \"linecolor\": \"white\", \"ticks\": \"\"}, \"bgcolor\": \"#E5ECF6\", \"radialaxis\": {\"gridcolor\": \"white\", \"linecolor\": \"white\", \"ticks\": \"\"}}, \"scene\": {\"xaxis\": {\"backgroundcolor\": \"#E5ECF6\", \"gridcolor\": \"white\", \"gridwidth\": 2, \"linecolor\": \"white\", \"showbackground\": true, \"ticks\": \"\", \"zerolinecolor\": \"white\"}, \"yaxis\": {\"backgroundcolor\": \"#E5ECF6\", \"gridcolor\": \"white\", \"gridwidth\": 2, \"linecolor\": \"white\", \"showbackground\": true, \"ticks\": \"\", \"zerolinecolor\": \"white\"}, \"zaxis\": {\"backgroundcolor\": \"#E5ECF6\", \"gridcolor\": \"white\", \"gridwidth\": 2, \"linecolor\": \"white\", \"showbackground\": true, \"ticks\": \"\", \"zerolinecolor\": \"white\"}}, \"shapedefaults\": {\"line\": {\"color\": \"#2a3f5f\"}}, \"ternary\": {\"aaxis\": {\"gridcolor\": \"white\", \"linecolor\": \"white\", \"ticks\": \"\"}, \"baxis\": {\"gridcolor\": \"white\", \"linecolor\": \"white\", \"ticks\": \"\"}, \"bgcolor\": \"#E5ECF6\", \"caxis\": {\"gridcolor\": \"white\", \"linecolor\": \"white\", \"ticks\": \"\"}}, \"title\": {\"x\": 0.05}, \"xaxis\": {\"automargin\": true, \"gridcolor\": \"white\", \"linecolor\": \"white\", \"ticks\": \"\", \"title\": {\"standoff\": 15}, \"zerolinecolor\": \"white\", \"zerolinewidth\": 2}, \"yaxis\": {\"automargin\": true, \"gridcolor\": \"white\", \"linecolor\": \"white\", \"ticks\": \"\", \"title\": {\"standoff\": 15}, \"zerolinecolor\": \"white\", \"zerolinewidth\": 2}}}, \"xaxis\": {\"anchor\": \"y\", \"domain\": [0.0, 1.0], \"tickangle\": 45, \"title\": {\"text\": \"index\"}}, \"yaxis\": {\"anchor\": \"x\", \"domain\": [0.0, 1.0], \"title\": {\"text\": \"Dual\"}}},                        {\"responsive\": true}                    ).then(function(){\n                            \nvar gd = document.getElementById('8324547b-505b-4eb3-9a23-6ddc5142f4a0');\nvar x = new MutationObserver(function (mutations, observer) {{\n        var display = window.getComputedStyle(gd).display;\n        if (!display || display === 'none') {{\n            console.log([gd, 'removed!']);\n            Plotly.purge(gd);\n            observer.disconnect();\n        }}\n}});\n\n// Listen for the removal of the full notebook cells\nvar notebookContainer = gd.closest('#notebook-container');\nif (notebookContainer) {{\n    x.observe(notebookContainer, {childList: true});\n}}\n\n// Listen for the clearing of the current output cell\nvar outputEl = gd.closest('.output');\nif (outputEl) {{\n    x.observe(outputEl, {childList: true});\n}}\n\n                        })                };                            </script>        </div>\n</body>\n</html>"
     },
     "metadata": {},
     "output_type": "display_data"
    }
   ]
  },
  {
   "cell_type": "markdown",
   "source": "`Internet` column (Internet is a dummy with 1 if it is an internet-based  company)",
   "metadata": {
    "tags": [],
    "cell_id": "00047-e5d1f1fe-890a-47a3-8ee3-7dd0930970e4",
    "deepnote_cell_type": "markdown"
   }
  },
  {
   "cell_type": "code",
   "metadata": {
    "tags": [],
    "cell_id": "00047-28e00236-aa01-4b53-bfae-417ea82353d4",
    "deepnote_to_be_reexecuted": false,
    "source_hash": "fa50b3a",
    "execution_start": 1625240802911,
    "execution_millis": 52,
    "deepnote_cell_type": "code"
   },
   "source": "temp = public_financial['Internet'].value_counts().to_frame()\nfig = px.bar(temp, x=temp.index, y='Internet')\nfig.update_xaxes(tickangle=45)",
   "execution_count": null,
   "outputs": [
    {
     "data": {
      "text/html": "<html>\n<head><meta charset=\"utf-8\" /></head>\n<body>\n    <div>            <script src=\"https://cdnjs.cloudflare.com/ajax/libs/mathjax/2.7.5/MathJax.js?config=TeX-AMS-MML_SVG\"></script><script type=\"text/javascript\">if (window.MathJax) {MathJax.Hub.Config({SVG: {font: \"STIX-Web\"}});}</script>                <script type=\"text/javascript\">window.PlotlyConfig = {MathJaxConfig: 'local'};</script>\n        <script src=\"https://cdn.plot.ly/plotly-latest.min.js\"></script>                <div id=\"18880f0a-483f-4a67-a2c6-2c2814634f63\" class=\"plotly-graph-div\" style=\"height:525px; width:100%;\"></div>            <script type=\"text/javascript\">                                    window.PLOTLYENV=window.PLOTLYENV || {};                                    if (document.getElementById(\"18880f0a-483f-4a67-a2c6-2c2814634f63\")) {                    Plotly.newPlot(                        \"18880f0a-483f-4a67-a2c6-2c2814634f63\",                        [{\"alignmentgroup\": \"True\", \"hovertemplate\": \"index=%{x}<br>Internet=%{y}<extra></extra>\", \"legendgroup\": \"\", \"marker\": {\"color\": \"#636efa\"}, \"name\": \"\", \"offsetgroup\": \"\", \"orientation\": \"v\", \"showlegend\": false, \"textposition\": \"auto\", \"type\": \"bar\", \"x\": [0.0, 1.0, 9.0], \"xaxis\": \"x\", \"y\": [112, 3, 1], \"yaxis\": \"y\"}],                        {\"barmode\": \"relative\", \"legend\": {\"tracegroupgap\": 0}, \"margin\": {\"t\": 60}, \"template\": {\"data\": {\"bar\": [{\"error_x\": {\"color\": \"#2a3f5f\"}, \"error_y\": {\"color\": \"#2a3f5f\"}, \"marker\": {\"line\": {\"color\": \"#E5ECF6\", \"width\": 0.5}}, \"type\": \"bar\"}], \"barpolar\": [{\"marker\": {\"line\": {\"color\": \"#E5ECF6\", \"width\": 0.5}}, \"type\": \"barpolar\"}], \"carpet\": [{\"aaxis\": {\"endlinecolor\": \"#2a3f5f\", \"gridcolor\": \"white\", \"linecolor\": \"white\", \"minorgridcolor\": \"white\", \"startlinecolor\": \"#2a3f5f\"}, \"baxis\": {\"endlinecolor\": \"#2a3f5f\", \"gridcolor\": \"white\", \"linecolor\": \"white\", \"minorgridcolor\": \"white\", \"startlinecolor\": \"#2a3f5f\"}, \"type\": \"carpet\"}], \"choropleth\": [{\"colorbar\": {\"outlinewidth\": 0, \"ticks\": \"\"}, \"type\": \"choropleth\"}], \"contour\": [{\"colorbar\": {\"outlinewidth\": 0, \"ticks\": \"\"}, \"colorscale\": [[0.0, \"#0d0887\"], [0.1111111111111111, \"#46039f\"], [0.2222222222222222, \"#7201a8\"], [0.3333333333333333, \"#9c179e\"], [0.4444444444444444, \"#bd3786\"], [0.5555555555555556, \"#d8576b\"], [0.6666666666666666, \"#ed7953\"], [0.7777777777777778, \"#fb9f3a\"], [0.8888888888888888, \"#fdca26\"], [1.0, \"#f0f921\"]], \"type\": \"contour\"}], \"contourcarpet\": [{\"colorbar\": {\"outlinewidth\": 0, \"ticks\": \"\"}, \"type\": \"contourcarpet\"}], \"heatmap\": [{\"colorbar\": {\"outlinewidth\": 0, \"ticks\": \"\"}, \"colorscale\": [[0.0, \"#0d0887\"], [0.1111111111111111, \"#46039f\"], [0.2222222222222222, \"#7201a8\"], [0.3333333333333333, \"#9c179e\"], [0.4444444444444444, \"#bd3786\"], [0.5555555555555556, \"#d8576b\"], [0.6666666666666666, \"#ed7953\"], [0.7777777777777778, \"#fb9f3a\"], [0.8888888888888888, \"#fdca26\"], [1.0, \"#f0f921\"]], \"type\": \"heatmap\"}], \"heatmapgl\": [{\"colorbar\": {\"outlinewidth\": 0, \"ticks\": \"\"}, \"colorscale\": [[0.0, \"#0d0887\"], [0.1111111111111111, \"#46039f\"], [0.2222222222222222, \"#7201a8\"], [0.3333333333333333, \"#9c179e\"], [0.4444444444444444, \"#bd3786\"], [0.5555555555555556, \"#d8576b\"], [0.6666666666666666, \"#ed7953\"], [0.7777777777777778, \"#fb9f3a\"], [0.8888888888888888, \"#fdca26\"], [1.0, \"#f0f921\"]], \"type\": \"heatmapgl\"}], \"histogram\": [{\"marker\": {\"colorbar\": {\"outlinewidth\": 0, \"ticks\": \"\"}}, \"type\": \"histogram\"}], \"histogram2d\": [{\"colorbar\": {\"outlinewidth\": 0, \"ticks\": \"\"}, \"colorscale\": [[0.0, \"#0d0887\"], [0.1111111111111111, \"#46039f\"], [0.2222222222222222, \"#7201a8\"], [0.3333333333333333, \"#9c179e\"], [0.4444444444444444, \"#bd3786\"], [0.5555555555555556, \"#d8576b\"], [0.6666666666666666, \"#ed7953\"], [0.7777777777777778, \"#fb9f3a\"], [0.8888888888888888, \"#fdca26\"], [1.0, \"#f0f921\"]], \"type\": \"histogram2d\"}], \"histogram2dcontour\": [{\"colorbar\": {\"outlinewidth\": 0, \"ticks\": \"\"}, \"colorscale\": [[0.0, \"#0d0887\"], [0.1111111111111111, \"#46039f\"], [0.2222222222222222, \"#7201a8\"], [0.3333333333333333, \"#9c179e\"], [0.4444444444444444, \"#bd3786\"], [0.5555555555555556, \"#d8576b\"], [0.6666666666666666, \"#ed7953\"], [0.7777777777777778, \"#fb9f3a\"], [0.8888888888888888, \"#fdca26\"], [1.0, \"#f0f921\"]], \"type\": \"histogram2dcontour\"}], \"mesh3d\": [{\"colorbar\": {\"outlinewidth\": 0, \"ticks\": \"\"}, \"type\": \"mesh3d\"}], \"parcoords\": [{\"line\": {\"colorbar\": {\"outlinewidth\": 0, \"ticks\": \"\"}}, \"type\": \"parcoords\"}], \"pie\": [{\"automargin\": true, \"type\": \"pie\"}], \"scatter\": [{\"marker\": {\"colorbar\": {\"outlinewidth\": 0, \"ticks\": \"\"}}, \"type\": \"scatter\"}], \"scatter3d\": [{\"line\": {\"colorbar\": {\"outlinewidth\": 0, \"ticks\": \"\"}}, \"marker\": {\"colorbar\": {\"outlinewidth\": 0, \"ticks\": \"\"}}, \"type\": \"scatter3d\"}], \"scattercarpet\": [{\"marker\": {\"colorbar\": {\"outlinewidth\": 0, \"ticks\": \"\"}}, \"type\": \"scattercarpet\"}], \"scattergeo\": [{\"marker\": {\"colorbar\": {\"outlinewidth\": 0, \"ticks\": \"\"}}, \"type\": \"scattergeo\"}], \"scattergl\": [{\"marker\": {\"colorbar\": {\"outlinewidth\": 0, \"ticks\": \"\"}}, \"type\": \"scattergl\"}], \"scattermapbox\": [{\"marker\": {\"colorbar\": {\"outlinewidth\": 0, \"ticks\": \"\"}}, \"type\": \"scattermapbox\"}], \"scatterpolar\": [{\"marker\": {\"colorbar\": {\"outlinewidth\": 0, \"ticks\": \"\"}}, \"type\": \"scatterpolar\"}], \"scatterpolargl\": [{\"marker\": {\"colorbar\": {\"outlinewidth\": 0, \"ticks\": \"\"}}, \"type\": \"scatterpolargl\"}], \"scatterternary\": [{\"marker\": {\"colorbar\": {\"outlinewidth\": 0, \"ticks\": \"\"}}, \"type\": \"scatterternary\"}], \"surface\": [{\"colorbar\": {\"outlinewidth\": 0, \"ticks\": \"\"}, \"colorscale\": [[0.0, \"#0d0887\"], [0.1111111111111111, \"#46039f\"], [0.2222222222222222, \"#7201a8\"], [0.3333333333333333, \"#9c179e\"], [0.4444444444444444, \"#bd3786\"], [0.5555555555555556, \"#d8576b\"], [0.6666666666666666, \"#ed7953\"], [0.7777777777777778, \"#fb9f3a\"], [0.8888888888888888, \"#fdca26\"], [1.0, \"#f0f921\"]], \"type\": \"surface\"}], \"table\": [{\"cells\": {\"fill\": {\"color\": \"#EBF0F8\"}, \"line\": {\"color\": \"white\"}}, \"header\": {\"fill\": {\"color\": \"#C8D4E3\"}, \"line\": {\"color\": \"white\"}}, \"type\": \"table\"}]}, \"layout\": {\"annotationdefaults\": {\"arrowcolor\": \"#2a3f5f\", \"arrowhead\": 0, \"arrowwidth\": 1}, \"autotypenumbers\": \"strict\", \"coloraxis\": {\"colorbar\": {\"outlinewidth\": 0, \"ticks\": \"\"}}, \"colorscale\": {\"diverging\": [[0, \"#8e0152\"], [0.1, \"#c51b7d\"], [0.2, \"#de77ae\"], [0.3, \"#f1b6da\"], [0.4, \"#fde0ef\"], [0.5, \"#f7f7f7\"], [0.6, \"#e6f5d0\"], [0.7, \"#b8e186\"], [0.8, \"#7fbc41\"], [0.9, \"#4d9221\"], [1, \"#276419\"]], \"sequential\": [[0.0, \"#0d0887\"], [0.1111111111111111, \"#46039f\"], [0.2222222222222222, \"#7201a8\"], [0.3333333333333333, \"#9c179e\"], [0.4444444444444444, \"#bd3786\"], [0.5555555555555556, \"#d8576b\"], [0.6666666666666666, \"#ed7953\"], [0.7777777777777778, \"#fb9f3a\"], [0.8888888888888888, \"#fdca26\"], [1.0, \"#f0f921\"]], \"sequentialminus\": [[0.0, \"#0d0887\"], [0.1111111111111111, \"#46039f\"], [0.2222222222222222, \"#7201a8\"], [0.3333333333333333, \"#9c179e\"], [0.4444444444444444, \"#bd3786\"], [0.5555555555555556, \"#d8576b\"], [0.6666666666666666, \"#ed7953\"], [0.7777777777777778, \"#fb9f3a\"], [0.8888888888888888, \"#fdca26\"], [1.0, \"#f0f921\"]]}, \"colorway\": [\"#636efa\", \"#EF553B\", \"#00cc96\", \"#ab63fa\", \"#FFA15A\", \"#19d3f3\", \"#FF6692\", \"#B6E880\", \"#FF97FF\", \"#FECB52\"], \"font\": {\"color\": \"#2a3f5f\"}, \"geo\": {\"bgcolor\": \"white\", \"lakecolor\": \"white\", \"landcolor\": \"#E5ECF6\", \"showlakes\": true, \"showland\": true, \"subunitcolor\": \"white\"}, \"hoverlabel\": {\"align\": \"left\"}, \"hovermode\": \"closest\", \"mapbox\": {\"style\": \"light\"}, \"paper_bgcolor\": \"white\", \"plot_bgcolor\": \"#E5ECF6\", \"polar\": {\"angularaxis\": {\"gridcolor\": \"white\", \"linecolor\": \"white\", \"ticks\": \"\"}, \"bgcolor\": \"#E5ECF6\", \"radialaxis\": {\"gridcolor\": \"white\", \"linecolor\": \"white\", \"ticks\": \"\"}}, \"scene\": {\"xaxis\": {\"backgroundcolor\": \"#E5ECF6\", \"gridcolor\": \"white\", \"gridwidth\": 2, \"linecolor\": \"white\", \"showbackground\": true, \"ticks\": \"\", \"zerolinecolor\": \"white\"}, \"yaxis\": {\"backgroundcolor\": \"#E5ECF6\", \"gridcolor\": \"white\", \"gridwidth\": 2, \"linecolor\": \"white\", \"showbackground\": true, \"ticks\": \"\", \"zerolinecolor\": \"white\"}, \"zaxis\": {\"backgroundcolor\": \"#E5ECF6\", \"gridcolor\": \"white\", \"gridwidth\": 2, \"linecolor\": \"white\", \"showbackground\": true, \"ticks\": \"\", \"zerolinecolor\": \"white\"}}, \"shapedefaults\": {\"line\": {\"color\": \"#2a3f5f\"}}, \"ternary\": {\"aaxis\": {\"gridcolor\": \"white\", \"linecolor\": \"white\", \"ticks\": \"\"}, \"baxis\": {\"gridcolor\": \"white\", \"linecolor\": \"white\", \"ticks\": \"\"}, \"bgcolor\": \"#E5ECF6\", \"caxis\": {\"gridcolor\": \"white\", \"linecolor\": \"white\", \"ticks\": \"\"}}, \"title\": {\"x\": 0.05}, \"xaxis\": {\"automargin\": true, \"gridcolor\": \"white\", \"linecolor\": \"white\", \"ticks\": \"\", \"title\": {\"standoff\": 15}, \"zerolinecolor\": \"white\", \"zerolinewidth\": 2}, \"yaxis\": {\"automargin\": true, \"gridcolor\": \"white\", \"linecolor\": \"white\", \"ticks\": \"\", \"title\": {\"standoff\": 15}, \"zerolinecolor\": \"white\", \"zerolinewidth\": 2}}}, \"xaxis\": {\"anchor\": \"y\", \"domain\": [0.0, 1.0], \"tickangle\": 45, \"title\": {\"text\": \"index\"}}, \"yaxis\": {\"anchor\": \"x\", \"domain\": [0.0, 1.0], \"title\": {\"text\": \"Internet\"}}},                        {\"responsive\": true}                    ).then(function(){\n                            \nvar gd = document.getElementById('18880f0a-483f-4a67-a2c6-2c2814634f63');\nvar x = new MutationObserver(function (mutations, observer) {{\n        var display = window.getComputedStyle(gd).display;\n        if (!display || display === 'none') {{\n            console.log([gd, 'removed!']);\n            Plotly.purge(gd);\n            observer.disconnect();\n        }}\n}});\n\n// Listen for the removal of the full notebook cells\nvar notebookContainer = gd.closest('#notebook-container');\nif (notebookContainer) {{\n    x.observe(notebookContainer, {childList: true});\n}}\n\n// Listen for the clearing of the current output cell\nvar outputEl = gd.closest('.output');\nif (outputEl) {{\n    x.observe(outputEl, {childList: true});\n}}\n\n                        })                };                            </script>        </div>\n</body>\n</html>"
     },
     "metadata": {},
     "output_type": "display_data"
    }
   ]
  },
  {
   "cell_type": "code",
   "metadata": {
    "tags": [],
    "cell_id": "00049-be3086ec-925c-4133-8285-b414dbc2652b",
    "deepnote_to_be_reexecuted": false,
    "source_hash": "55da94cc",
    "execution_start": 1625240803025,
    "execution_millis": 70,
    "deepnote_cell_type": "code"
   },
   "source": "public_financial[public_financial['Internet'] == 9]",
   "execution_count": null,
   "outputs": [
    {
     "output_type": "execute_result",
     "execution_count": 33,
     "data": {
      "application/vnd.deepnote.dataframe.v2+json": {
       "row_count": 1,
       "column_count": 23,
       "columns": [
        {
         "name": "Company",
         "dtype": "object",
         "stats": {
          "unique_count": 1,
          "nan_count": 0,
          "categories": [
           {
            "name": "Chimera Investment Corporation",
            "count": 1
           }
          ]
         }
        },
        {
         "name": "URL",
         "dtype": "object",
         "stats": {
          "unique_count": 1,
          "nan_count": 0,
          "categories": [
           {
            "name": "http://www.chimerareit.com",
            "count": 1
           }
          ]
         }
        },
        {
         "name": "Company Description",
         "dtype": "object",
         "stats": {
          "unique_count": 1,
          "nan_count": 0,
          "categories": [
           {
            "name": "Chimera Investment Corporation invests in residential mortgage loans, residential mortgage-backed securities, real estate-related securities and various other asset classes. The Company's principal business objective is to generate income from the spread between yields on its investments and its cost of borrowing and hedging activities. The Company is a Maryland corporation that has elected to be taxed as a real estate investment trust (\"REIT\").",
            "count": 1
           }
          ]
         }
        },
        {
         "name": "Industry",
         "dtype": "object",
         "stats": {
          "unique_count": 1,
          "nan_count": 0,
          "categories": [
           {
            "name": "Real Estate",
            "count": 1
           }
          ]
         }
        },
        {
         "name": "Sub-Industry",
         "dtype": "object",
         "stats": {
          "unique_count": 1,
          "nan_count": 0,
          "categories": [
           {
            "name": "REITs",
            "count": 1
           }
          ]
         }
        },
        {
         "name": "State",
         "dtype": "object",
         "stats": {
          "unique_count": 1,
          "nan_count": 0,
          "categories": [
           {
            "name": "New York",
            "count": 1
           }
          ]
         }
        },
        {
         "name": "City",
         "dtype": "object",
         "stats": {
          "unique_count": 1,
          "nan_count": 0,
          "categories": [
           {
            "name": "New York",
            "count": 1
           }
          ]
         }
        },
        {
         "name": "Exit Date",
         "dtype": "object",
         "stats": {
          "unique_count": 1,
          "nan_count": 0,
          "categories": [
           {
            "name": "2007-11-16",
            "count": 1
           }
          ]
         }
        },
        {
         "name": "Min Valuation",
         "dtype": "float64",
         "stats": {
          "unique_count": 1,
          "nan_count": 0,
          "min": "554.32",
          "max": "554.32",
          "histogram": [
           {
            "bin_start": 553.82,
            "bin_end": 553.9200000000001,
            "count": 0
           },
           {
            "bin_start": 553.9200000000001,
            "bin_end": 554.0200000000001,
            "count": 0
           },
           {
            "bin_start": 554.0200000000001,
            "bin_end": 554.12,
            "count": 0
           },
           {
            "bin_start": 554.12,
            "bin_end": 554.22,
            "count": 0
           },
           {
            "bin_start": 554.22,
            "bin_end": 554.32,
            "count": 0
           },
           {
            "bin_start": 554.32,
            "bin_end": 554.4200000000001,
            "count": 1
           },
           {
            "bin_start": 554.4200000000001,
            "bin_end": 554.5200000000001,
            "count": 0
           },
           {
            "bin_start": 554.5200000000001,
            "bin_end": 554.62,
            "count": 0
           },
           {
            "bin_start": 554.62,
            "bin_end": 554.72,
            "count": 0
           },
           {
            "bin_start": 554.72,
            "bin_end": 554.82,
            "count": 0
           }
          ]
         }
        },
        {
         "name": "Max Valuation",
         "dtype": "float64",
         "stats": {
          "unique_count": 1,
          "nan_count": 0,
          "min": "554.32",
          "max": "554.32",
          "histogram": [
           {
            "bin_start": 553.82,
            "bin_end": 553.9200000000001,
            "count": 0
           },
           {
            "bin_start": 553.9200000000001,
            "bin_end": 554.0200000000001,
            "count": 0
           },
           {
            "bin_start": 554.0200000000001,
            "bin_end": 554.12,
            "count": 0
           },
           {
            "bin_start": 554.12,
            "bin_end": 554.22,
            "count": 0
           },
           {
            "bin_start": 554.22,
            "bin_end": 554.32,
            "count": 0
           },
           {
            "bin_start": 554.32,
            "bin_end": 554.4200000000001,
            "count": 1
           },
           {
            "bin_start": 554.4200000000001,
            "bin_end": 554.5200000000001,
            "count": 0
           },
           {
            "bin_start": 554.5200000000001,
            "bin_end": 554.62,
            "count": 0
           },
           {
            "bin_start": 554.62,
            "bin_end": 554.72,
            "count": 0
           },
           {
            "bin_start": 554.72,
            "bin_end": 554.82,
            "count": 0
           }
          ]
         }
        },
        {
         "name": "Ticker",
         "dtype": "object",
         "stats": {
          "unique_count": 1,
          "nan_count": 0,
          "categories": [
           {
            "name": "CIM",
            "count": 1
           }
          ]
         }
        },
        {
         "name": "CUSIP",
         "dtype": "object",
         "stats": {
          "unique_count": 1,
          "nan_count": 0,
          "categories": [
           {
            "name": "16934Q109",
            "count": 1
           }
          ]
         }
        },
        {
         "name": "offer date",
         "dtype": "datetime64[ns]",
         "stats": {
          "unique_count": 1,
          "nan_count": 0,
          "min": "2007-11-15 00:00:00",
          "max": "2007-11-15 00:00:00",
          "histogram": null
         }
        },
        {
         "name": "name of IPO",
         "dtype": "object",
         "stats": {
          "unique_count": 1,
          "nan_count": 0,
          "categories": [
           {
            "name": "Chimera Inv Corp",
            "count": 1
           }
          ]
         }
        },
        {
         "name": "VC",
         "dtype": "float64",
         "stats": {
          "unique_count": 1,
          "nan_count": 0,
          "min": "0.0",
          "max": "0.0",
          "histogram": [
           {
            "bin_start": -0.5,
            "bin_end": -0.4,
            "count": 0
           },
           {
            "bin_start": -0.4,
            "bin_end": -0.3,
            "count": 0
           },
           {
            "bin_start": -0.3,
            "bin_end": -0.19999999999999996,
            "count": 0
           },
           {
            "bin_start": -0.19999999999999996,
            "bin_end": -0.09999999999999998,
            "count": 0
           },
           {
            "bin_start": -0.09999999999999998,
            "bin_end": 0,
            "count": 0
           },
           {
            "bin_start": 0,
            "bin_end": 0.10000000000000009,
            "count": 1
           },
           {
            "bin_start": 0.10000000000000009,
            "bin_end": 0.20000000000000007,
            "count": 0
           },
           {
            "bin_start": 0.20000000000000007,
            "bin_end": 0.30000000000000004,
            "count": 0
           },
           {
            "bin_start": 0.30000000000000004,
            "bin_end": 0.4,
            "count": 0
           },
           {
            "bin_start": 0.4,
            "bin_end": 0.5,
            "count": 0
           }
          ]
         }
        },
        {
         "name": "Rollup",
         "dtype": "float64",
         "stats": {
          "unique_count": 1,
          "nan_count": 0,
          "min": "0.0",
          "max": "0.0",
          "histogram": [
           {
            "bin_start": -0.5,
            "bin_end": -0.4,
            "count": 0
           },
           {
            "bin_start": -0.4,
            "bin_end": -0.3,
            "count": 0
           },
           {
            "bin_start": -0.3,
            "bin_end": -0.19999999999999996,
            "count": 0
           },
           {
            "bin_start": -0.19999999999999996,
            "bin_end": -0.09999999999999998,
            "count": 0
           },
           {
            "bin_start": -0.09999999999999998,
            "bin_end": 0,
            "count": 0
           },
           {
            "bin_start": 0,
            "bin_end": 0.10000000000000009,
            "count": 1
           },
           {
            "bin_start": 0.10000000000000009,
            "bin_end": 0.20000000000000007,
            "count": 0
           },
           {
            "bin_start": 0.20000000000000007,
            "bin_end": 0.30000000000000004,
            "count": 0
           },
           {
            "bin_start": 0.30000000000000004,
            "bin_end": 0.4,
            "count": 0
           },
           {
            "bin_start": 0.4,
            "bin_end": 0.5,
            "count": 0
           }
          ]
         }
        },
        {
         "name": "PERM",
         "dtype": "object",
         "stats": {
          "unique_count": 1,
          "nan_count": 0,
          "categories": [
           {
            "name": "92385",
            "count": 1
           }
          ]
         }
        },
        {
         "name": "Dual",
         "dtype": "object",
         "stats": {
          "unique_count": 1,
          "nan_count": 0,
          "categories": [
           {
            "name": "0",
            "count": 1
           }
          ]
         }
        },
        {
         "name": "Internet",
         "dtype": "float64",
         "stats": {
          "unique_count": 1,
          "nan_count": 0,
          "min": "9.0",
          "max": "9.0",
          "histogram": [
           {
            "bin_start": 8.5,
            "bin_end": 8.6,
            "count": 0
           },
           {
            "bin_start": 8.6,
            "bin_end": 8.7,
            "count": 0
           },
           {
            "bin_start": 8.7,
            "bin_end": 8.8,
            "count": 0
           },
           {
            "bin_start": 8.8,
            "bin_end": 8.9,
            "count": 0
           },
           {
            "bin_start": 8.9,
            "bin_end": 9,
            "count": 0
           },
           {
            "bin_start": 9,
            "bin_end": 9.1,
            "count": 1
           },
           {
            "bin_start": 9.1,
            "bin_end": 9.2,
            "count": 0
           },
           {
            "bin_start": 9.2,
            "bin_end": 9.3,
            "count": 0
           },
           {
            "bin_start": 9.3,
            "bin_end": 9.4,
            "count": 0
           },
           {
            "bin_start": 9.4,
            "bin_end": 9.5,
            "count": 0
           }
          ]
         }
        },
        {
         "name": "post-issue shares",
         "dtype": "object",
         "stats": {
          "unique_count": 1,
          "nan_count": 0,
          "categories": [
           {
            "name": ".",
            "count": 1
           }
          ]
         }
        },
        {
         "name": "Founding",
         "dtype": "float64",
         "stats": {
          "unique_count": 1,
          "nan_count": 0,
          "min": "2007.0",
          "max": "2007.0",
          "histogram": [
           {
            "bin_start": 2006.5,
            "bin_end": 2006.6,
            "count": 0
           },
           {
            "bin_start": 2006.6,
            "bin_end": 2006.7,
            "count": 0
           },
           {
            "bin_start": 2006.7,
            "bin_end": 2006.8,
            "count": 0
           },
           {
            "bin_start": 2006.8,
            "bin_end": 2006.9,
            "count": 0
           },
           {
            "bin_start": 2006.9,
            "bin_end": 2007,
            "count": 0
           },
           {
            "bin_start": 2007,
            "bin_end": 2007.1,
            "count": 1
           },
           {
            "bin_start": 2007.1,
            "bin_end": 2007.2,
            "count": 0
           },
           {
            "bin_start": 2007.2,
            "bin_end": 2007.3,
            "count": 0
           },
           {
            "bin_start": 2007.3,
            "bin_end": 2007.4,
            "count": 0
           },
           {
            "bin_start": 2007.4,
            "bin_end": 2007.5,
            "count": 0
           }
          ]
         }
        },
        {
         "name": "offer year",
         "dtype": "float64",
         "stats": {
          "unique_count": 1,
          "nan_count": 0,
          "min": "2007.0",
          "max": "2007.0",
          "histogram": [
           {
            "bin_start": 2006.5,
            "bin_end": 2006.6,
            "count": 0
           },
           {
            "bin_start": 2006.6,
            "bin_end": 2006.7,
            "count": 0
           },
           {
            "bin_start": 2006.7,
            "bin_end": 2006.8,
            "count": 0
           },
           {
            "bin_start": 2006.8,
            "bin_end": 2006.9,
            "count": 0
           },
           {
            "bin_start": 2006.9,
            "bin_end": 2007,
            "count": 0
           },
           {
            "bin_start": 2007,
            "bin_end": 2007.1,
            "count": 1
           },
           {
            "bin_start": 2007.1,
            "bin_end": 2007.2,
            "count": 0
           },
           {
            "bin_start": 2007.2,
            "bin_end": 2007.3,
            "count": 0
           },
           {
            "bin_start": 2007.3,
            "bin_end": 2007.4,
            "count": 0
           },
           {
            "bin_start": 2007.4,
            "bin_end": 2007.5,
            "count": 0
           }
          ]
         }
        },
        {
         "name": "founded_to_IPO",
         "dtype": "float64",
         "stats": {
          "unique_count": 1,
          "nan_count": 0,
          "min": "0.0",
          "max": "0.0",
          "histogram": [
           {
            "bin_start": -0.5,
            "bin_end": -0.4,
            "count": 0
           },
           {
            "bin_start": -0.4,
            "bin_end": -0.3,
            "count": 0
           },
           {
            "bin_start": -0.3,
            "bin_end": -0.19999999999999996,
            "count": 0
           },
           {
            "bin_start": -0.19999999999999996,
            "bin_end": -0.09999999999999998,
            "count": 0
           },
           {
            "bin_start": -0.09999999999999998,
            "bin_end": 0,
            "count": 0
           },
           {
            "bin_start": 0,
            "bin_end": 0.10000000000000009,
            "count": 1
           },
           {
            "bin_start": 0.10000000000000009,
            "bin_end": 0.20000000000000007,
            "count": 0
           },
           {
            "bin_start": 0.20000000000000007,
            "bin_end": 0.30000000000000004,
            "count": 0
           },
           {
            "bin_start": 0.30000000000000004,
            "bin_end": 0.4,
            "count": 0
           },
           {
            "bin_start": 0.4,
            "bin_end": 0.5,
            "count": 0
           }
          ]
         }
        },
        {
         "name": "_deepnote_index_column",
         "dtype": "int64"
        }
       ],
       "rows_top": [
        {
         "Company": "Chimera Investment Corporation",
         "URL": "http://www.chimerareit.com",
         "Company Description": "Chimera Investment Corporation invests in residential mortgage loans, residential mortgage-backed s…",
         "Industry": "Real Estate",
         "Sub-Industry": "REITs",
         "State": "New York",
         "City": "New York",
         "Exit Date": "2007-11-16",
         "Min Valuation": 554.32,
         "Max Valuation": 554.32,
         "Ticker": "CIM",
         "CUSIP": "16934Q109",
         "offer date": "2007-11-15T00:00:00.000000",
         "name of IPO": "Chimera Inv Corp",
         "VC": 0,
         "Rollup": 0,
         "PERM": "92385",
         "Dual": "0",
         "Internet": 9,
         "post-issue shares": ".",
         "Founding": 2007,
         "offer year": 2007,
         "founded_to_IPO": 0,
         "_deepnote_index_column": 38
        }
       ],
       "rows_bottom": null
      },
      "text/plain": "                           Company                         URL  \\\n38  Chimera Investment Corporation  http://www.chimerareit.com   \n\n                                  Company Description     Industry  \\\n38  Chimera Investment Corporation invests in resi...  Real Estate   \n\n   Sub-Industry     State      City   Exit Date  Min Valuation  Max Valuation  \\\n38        REITs  New York  New York  2007-11-16         554.32         554.32   \n\n    ...       name of IPO   VC Rollup   PERM  Dual  Internet  \\\n38  ...  Chimera Inv Corp  0.0    0.0  92385     0       9.0   \n\n   post-issue shares Founding  offer year founded_to_IPO  \n38                 .   2007.0      2007.0            0.0  \n\n[1 rows x 23 columns]",
      "text/html": "<div>\n<style scoped>\n    .dataframe tbody tr th:only-of-type {\n        vertical-align: middle;\n    }\n\n    .dataframe tbody tr th {\n        vertical-align: top;\n    }\n\n    .dataframe thead th {\n        text-align: right;\n    }\n</style>\n<table border=\"1\" class=\"dataframe\">\n  <thead>\n    <tr style=\"text-align: right;\">\n      <th></th>\n      <th>Company</th>\n      <th>URL</th>\n      <th>Company Description</th>\n      <th>Industry</th>\n      <th>Sub-Industry</th>\n      <th>State</th>\n      <th>City</th>\n      <th>Exit Date</th>\n      <th>Min Valuation</th>\n      <th>Max Valuation</th>\n      <th>...</th>\n      <th>name of IPO</th>\n      <th>VC</th>\n      <th>Rollup</th>\n      <th>PERM</th>\n      <th>Dual</th>\n      <th>Internet</th>\n      <th>post-issue shares</th>\n      <th>Founding</th>\n      <th>offer year</th>\n      <th>founded_to_IPO</th>\n    </tr>\n  </thead>\n  <tbody>\n    <tr>\n      <th>38</th>\n      <td>Chimera Investment Corporation</td>\n      <td>http://www.chimerareit.com</td>\n      <td>Chimera Investment Corporation invests in resi...</td>\n      <td>Real Estate</td>\n      <td>REITs</td>\n      <td>New York</td>\n      <td>New York</td>\n      <td>2007-11-16</td>\n      <td>554.32</td>\n      <td>554.32</td>\n      <td>...</td>\n      <td>Chimera Inv Corp</td>\n      <td>0.0</td>\n      <td>0.0</td>\n      <td>92385</td>\n      <td>0</td>\n      <td>9.0</td>\n      <td>.</td>\n      <td>2007.0</td>\n      <td>2007.0</td>\n      <td>0.0</td>\n    </tr>\n  </tbody>\n</table>\n<p>1 rows × 23 columns</p>\n</div>"
     },
     "metadata": {}
    }
   ]
  },
  {
   "cell_type": "markdown",
   "source": "<a style='text-decoration:none;line-height:16px;display:flex;color:#5B5B62;padding:10px;justify-content:end;' href='https://deepnote.com?utm_source=created-in-deepnote-cell&projectId=aaf19c1d-a3b1-4f9b-b674-e32609e59fe1' target=\"_blank\">\n<img alt='Created in deepnote.com' style='display:inline;max-height:16px;margin:0px;margin-right:7.5px;' src='data:image/svg+xml;base64,PD94bWwgdmVyc2lvbj0iMS4wIiBlbmNvZGluZz0iVVRGLTgiPz4KPHN2ZyB3aWR0aD0iODBweCIgaGVpZ2h0PSI4MHB4IiB2aWV3Qm94PSIwIDAgODAgODAiIHZlcnNpb249IjEuMSIgeG1sbnM9Imh0dHA6Ly93d3cudzMub3JnLzIwMDAvc3ZnIiB4bWxuczp4bGluaz0iaHR0cDovL3d3dy53My5vcmcvMTk5OS94bGluayI+CiAgICA8IS0tIEdlbmVyYXRvcjogU2tldGNoIDU0LjEgKDc2NDkwKSAtIGh0dHBzOi8vc2tldGNoYXBwLmNvbSAtLT4KICAgIDx0aXRsZT5Hcm91cCAzPC90aXRsZT4KICAgIDxkZXNjPkNyZWF0ZWQgd2l0aCBTa2V0Y2guPC9kZXNjPgogICAgPGcgaWQ9IkxhbmRpbmciIHN0cm9rZT0ibm9uZSIgc3Ryb2tlLXdpZHRoPSIxIiBmaWxsPSJub25lIiBmaWxsLXJ1bGU9ImV2ZW5vZGQiPgogICAgICAgIDxnIGlkPSJBcnRib2FyZCIgdHJhbnNmb3JtPSJ0cmFuc2xhdGUoLTEyMzUuMDAwMDAwLCAtNzkuMDAwMDAwKSI+CiAgICAgICAgICAgIDxnIGlkPSJHcm91cC0zIiB0cmFuc2Zvcm09InRyYW5zbGF0ZSgxMjM1LjAwMDAwMCwgNzkuMDAwMDAwKSI+CiAgICAgICAgICAgICAgICA8cG9seWdvbiBpZD0iUGF0aC0yMCIgZmlsbD0iIzAyNjVCNCIgcG9pbnRzPSIyLjM3NjIzNzYyIDgwIDM4LjA0NzY2NjcgODAgNTcuODIxNzgyMiA3My44MDU3NTkyIDU3LjgyMTc4MjIgMzIuNzU5MjczOSAzOS4xNDAyMjc4IDMxLjY4MzE2ODMiPjwvcG9seWdvbj4KICAgICAgICAgICAgICAgIDxwYXRoIGQ9Ik0zNS4wMDc3MTgsODAgQzQyLjkwNjIwMDcsNzYuNDU0OTM1OCA0Ny41NjQ5MTY3LDcxLjU0MjI2NzEgNDguOTgzODY2LDY1LjI2MTk5MzkgQzUxLjExMjI4OTksNTUuODQxNTg0MiA0MS42NzcxNzk1LDQ5LjIxMjIyODQgMjUuNjIzOTg0Niw0OS4yMTIyMjg0IEMyNS40ODQ5Mjg5LDQ5LjEyNjg0NDggMjkuODI2MTI5Niw0My4yODM4MjQ4IDM4LjY0NzU4NjksMzEuNjgzMTY4MyBMNzIuODcxMjg3MSwzMi41NTQ0MjUgTDY1LjI4MDk3Myw2Ny42NzYzNDIxIEw1MS4xMTIyODk5LDc3LjM3NjE0NCBMMzUuMDA3NzE4LDgwIFoiIGlkPSJQYXRoLTIyIiBmaWxsPSIjMDAyODY4Ij48L3BhdGg+CiAgICAgICAgICAgICAgICA8cGF0aCBkPSJNMCwzNy43MzA0NDA1IEwyNy4xMTQ1MzcsMC4yNTcxMTE0MzYgQzYyLjM3MTUxMjMsLTEuOTkwNzE3MDEgODAsMTAuNTAwMzkyNyA4MCwzNy43MzA0NDA1IEM4MCw2NC45NjA0ODgyIDY0Ljc3NjUwMzgsNzkuMDUwMzQxNCAzNC4zMjk1MTEzLDgwIEM0Ny4wNTUzNDg5LDc3LjU2NzA4MDggNTMuNDE4MjY3Nyw3MC4zMTM2MTAzIDUzLjQxODI2NzcsNTguMjM5NTg4NSBDNTMuNDE4MjY3Nyw0MC4xMjg1NTU3IDM2LjMwMzk1NDQsMzcuNzMwNDQwNSAyNS4yMjc0MTcsMzcuNzMwNDQwNSBDMTcuODQzMDU4NiwzNy43MzA0NDA1IDkuNDMzOTE5NjYsMzcuNzMwNDQwNSAwLDM3LjczMDQ0MDUgWiIgaWQ9IlBhdGgtMTkiIGZpbGw9IiMzNzkzRUYiPjwvcGF0aD4KICAgICAgICAgICAgPC9nPgogICAgICAgIDwvZz4KICAgIDwvZz4KPC9zdmc+' > </img>\nCreated in <span style='font-weight:600;margin-left:4px;'>Deepnote</span></a>",
   "metadata": {
    "tags": [],
    "created_in_deepnote_cell": true,
    "deepnote_cell_type": "markdown"
   }
  }
 ],
 "nbformat": 4,
 "nbformat_minor": 2,
 "metadata": {
  "orig_nbformat": 2,
  "deepnote": {
   "is_reactive": false
  },
  "deepnote_notebook_id": "d5ff4aa7-239c-493a-bb8e-54d9f431ef63",
  "deepnote_execution_queue": []
 }
}