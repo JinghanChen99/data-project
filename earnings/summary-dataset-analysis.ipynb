{
 "cells": [
  {
   "cell_type": "markdown",
   "metadata": {
    "cell_id": "00000-f33d4ed9-b447-41e3-a361-d8737070852a",
    "deepnote_cell_type": "markdown",
    "papermill": {
     "duration": 0.02681,
     "end_time": "2021-01-21T02:32:17.322852",
     "exception": false,
     "start_time": "2021-01-21T02:32:17.296042",
     "status": "completed"
    },
    "tags": []
   },
   "source": [
    "# Summary dataset analysis\n",
    "The goal of this analysis is to explore the summary dataset, detect abnormalities within this dataset, and filter for relevant data for the later analysis. \n",
    "\n",
    "The `summary` dataframe is one of several in the Kaggle Stock Earnings dataset. It contains aggregate data based on the contents of the `earnings` and `prices` files.\n",
    "* `earnings` table provides ticker symbol along with the `date` and `release_time` \n",
    "when `eps_est` (earnings per share estimate) and `eps` (actual earnings per share) being released\n",
    "* `prices` table provides information about the stock prices, including columns such as \n",
    "`date` , `open`, `high`, `low`, `close`, `close_adjusted`, `volume`, and `split_coefficient`.\n",
    "\n",
    "A better understanding of this table will facilitate the process of combining those datasets for analysis and modeling.\n",
    "\n",
    "This notebook presents the process of exploring the summary dataset and key insights discovered along the way."
   ]
  },
  {
   "cell_type": "code",
   "execution_count": 1,
   "metadata": {
    "_cell_guid": "b1076dfc-b9ad-4769-8c92-a6c4dae69d19",
    "_kg_hide-input": true,
    "_kg_hide-output": true,
    "_uuid": "8f2839f25d086af736a60e9eeb907d3b93b6e0e5",
    "cell_id": "00001-e5f864d0-3c85-4596-bb99-073d074d54c6",
    "deepnote_cell_type": "code",
    "deepnote_to_be_reexecuted": false,
    "execution": {
     "iopub.execute_input": "2021-01-21T02:32:17.381186Z",
     "iopub.status.busy": "2021-01-21T02:32:17.380449Z",
     "iopub.status.idle": "2021-01-21T02:32:18.414319Z",
     "shell.execute_reply": "2021-01-21T02:32:18.413662Z"
    },
    "execution_millis": 792,
    "execution_start": 1611116782086,
    "papermill": {
     "duration": 1.066017,
     "end_time": "2021-01-21T02:32:18.414439",
     "exception": false,
     "start_time": "2021-01-21T02:32:17.348422",
     "status": "completed"
    },
    "source_hash": "3e13241c",
    "tags": []
   },
   "outputs": [],
   "source": [
    "# data analysis, wrangling and preprocessing\n",
    "import numpy as np \n",
    "import pandas as pd\n",
    "\n",
    "# deal with datetime object\n",
    "import datetime\n",
    "\n",
    "# data visualization\n",
    "import matplotlib.pyplot as plt\n",
    "from matplotlib.patches import Rectangle\n",
    "import seaborn as sns"
   ]
  },
  {
   "cell_type": "markdown",
   "metadata": {
    "cell_id": "00002-1a70c558-54b2-4d12-bab7-dc19857d0a0f",
    "deepnote_cell_type": "markdown",
    "papermill": {
     "duration": 0.0251,
     "end_time": "2021-01-21T02:32:18.465526",
     "exception": false,
     "start_time": "2021-01-21T02:32:18.440426",
     "status": "completed"
    },
    "tags": []
   },
   "source": [
    "## Loading Data\n",
    "We start by loading the datasets into Pandas DataFrames."
   ]
  },
  {
   "cell_type": "code",
   "execution_count": 2,
   "metadata": {
    "cell_id": "00003-cf794b64-accd-4c48-8ace-1818feebcc97",
    "deepnote_cell_type": "code",
    "deepnote_to_be_reexecuted": false,
    "execution": {
     "iopub.execute_input": "2021-01-21T02:32:18.527436Z",
     "iopub.status.busy": "2021-01-21T02:32:18.526718Z",
     "iopub.status.idle": "2021-01-21T02:32:18.581364Z",
     "shell.execute_reply": "2021-01-21T02:32:18.580644Z"
    },
    "execution_millis": 21,
    "execution_start": 1611116782885,
    "papermill": {
     "duration": 0.090717,
     "end_time": "2021-01-21T02:32:18.581476",
     "exception": false,
     "start_time": "2021-01-21T02:32:18.490759",
     "status": "completed"
    },
    "source_hash": "e62f056b",
    "tags": []
   },
   "outputs": [],
   "source": [
    "summary = pd.read_csv('/kaggle/input/us-historical-stock-prices-with-earnings-data/dataset_summary.csv', parse_dates=['stock_from_date','stock_to_date','earnings_from_date','earnings_to_date'])"
   ]
  },
  {
   "cell_type": "markdown",
   "metadata": {
    "cell_id": "00004-bfb0a994-19cf-472c-abc7-570f1e127d2d",
    "deepnote_cell_type": "markdown",
    "papermill": {
     "duration": 0.024724,
     "end_time": "2021-01-21T02:32:18.631257",
     "exception": false,
     "start_time": "2021-01-21T02:32:18.606533",
     "status": "completed"
    },
    "tags": []
   },
   "source": [
    "## Exploratory Data Analysis\n",
    "We use exploratory data analysis (EDA) to identify trends, anomalies, patterns, and possible relationships within the given data, using plots. It will help us determine if there are columns that don't have enough records and identify possible features we could put into our models or use as keys when we try to combine datasets later on. \n",
    "\n",
    "* We start off with **univariate analysis**, aiming to understand the distribution of underlying variable. \n",
    "Through this process, we can identify which one of the distributions the variable most closely represents, \n",
    "which helps with the model selection process later on. \n",
    "* Univariate analysis also helps us discover possible outliers that could have a large impact on the \n",
    "overall distribution. \n",
    "* Since we have multiple datetime obejects, we also have to consider **univariate time series analysis**. \n",
    "In this analysis, we will look at the change of a variable across a time period and their volitility \n",
    "and underlying distribution across different granularity of time. \n",
    "\n",
    "* Then, we can proceed to **bivariate analysis**, where we plan to explore the potentail relationship between two variables. Similiarly, we will look at bivariate analysis across a time period. "
   ]
  },
  {
   "cell_type": "markdown",
   "metadata": {
    "cell_id": "00005-774ad75b-643f-44a1-b7bd-f32968186c07",
    "deepnote_cell_type": "markdown",
    "papermill": {
     "duration": 0.024712,
     "end_time": "2021-01-21T02:32:18.680869",
     "exception": false,
     "start_time": "2021-01-21T02:32:18.656157",
     "status": "completed"
    },
    "tags": []
   },
   "source": [
    "## Summary table\n",
    "\n",
    "These are the following fields in the `summary` dataset.\n",
    "\n",
    "* `symbol`: This is the ticker of the stock.\n",
    "\n",
    "* `total_prices`: This is the number of records this particular ticker has in the stock prices dataset. \n",
    "\n",
    "* `stock_from_date`: The earliest date a price is available for this ticker in the price dataset. \n",
    "\n",
    "* `stock_to_date`: The latest date a price is available for this ticker in the price dataset.\n",
    "\n",
    "* `total_earnings`: The number of records corresponding to this particular ticker in the earnings dataset.\n",
    "\n",
    "* `earnings_from_date`: The earliest date earnings are available for this ticker in the earnings data.\n",
    "\n",
    "* `earnings_from_date`: The latest date earnings are available for this ticker in the earnings data."
   ]
  },
  {
   "cell_type": "markdown",
   "metadata": {
    "cell_id": "00006-8c893dd7-6919-4470-90ba-e35684d5de97",
    "deepnote_cell_type": "markdown",
    "papermill": {
     "duration": 0.025392,
     "end_time": "2021-01-21T02:32:18.731531",
     "exception": false,
     "start_time": "2021-01-21T02:32:18.706139",
     "status": "completed"
    },
    "tags": []
   },
   "source": [
    "### Examine the number of stocks in this dataset with unique `symbol`\n",
    "\n",
    "Let's first examine how many unique stocks are in this dataset."
   ]
  },
  {
   "cell_type": "code",
   "execution_count": 3,
   "metadata": {
    "cell_id": "00007-ac00b6f7-969c-4b28-821e-65263791948b",
    "deepnote_cell_type": "code",
    "deepnote_to_be_reexecuted": false,
    "execution": {
     "iopub.execute_input": "2021-01-21T02:32:18.790365Z",
     "iopub.status.busy": "2021-01-21T02:32:18.789585Z",
     "iopub.status.idle": "2021-01-21T02:32:18.794821Z",
     "shell.execute_reply": "2021-01-21T02:32:18.795493Z"
    },
    "execution_millis": 2,
    "execution_start": 1611116782912,
    "papermill": {
     "duration": 0.039159,
     "end_time": "2021-01-21T02:32:18.795688",
     "exception": false,
     "start_time": "2021-01-21T02:32:18.756529",
     "status": "completed"
    },
    "source_hash": "dcea28c1",
    "tags": []
   },
   "outputs": [
    {
     "name": "stdout",
     "output_type": "stream",
     "text": [
      "The unique number of stocks in the summary dataset is 7786\n"
     ]
    }
   ],
   "source": [
    "unique_symbol = len(summary['symbol'].unique())\n",
    "print(f'The unique number of stocks in the summary dataset is {unique_symbol}')"
   ]
  },
  {
   "cell_type": "code",
   "execution_count": 4,
   "metadata": {
    "cell_id": "00008-28bbef04-3d6f-41cc-9fa5-7e06813e23c5",
    "deepnote_cell_type": "code",
    "deepnote_to_be_reexecuted": false,
    "execution": {
     "iopub.execute_input": "2021-01-21T02:32:18.860607Z",
     "iopub.status.busy": "2021-01-21T02:32:18.854959Z",
     "iopub.status.idle": "2021-01-21T02:32:18.871586Z",
     "shell.execute_reply": "2021-01-21T02:32:18.872130Z"
    },
    "execution_millis": 7,
    "execution_start": 1611116782918,
    "papermill": {
     "duration": 0.050078,
     "end_time": "2021-01-21T02:32:18.872299",
     "exception": false,
     "start_time": "2021-01-21T02:32:18.822221",
     "status": "completed"
    },
    "source_hash": "970e4860",
    "tags": []
   },
   "outputs": [
    {
     "name": "stdout",
     "output_type": "stream",
     "text": [
      "<class 'pandas.core.frame.DataFrame'>\n",
      "RangeIndex: 7786 entries, 0 to 7785\n",
      "Data columns (total 7 columns):\n",
      " #   Column              Non-Null Count  Dtype         \n",
      "---  ------              --------------  -----         \n",
      " 0   symbol              7786 non-null   object        \n",
      " 1   total_prices        7786 non-null   int64         \n",
      " 2   stock_from_date     7786 non-null   datetime64[ns]\n",
      " 3   stock_to_date       7786 non-null   datetime64[ns]\n",
      " 4   total_earnings      7786 non-null   int64         \n",
      " 5   earnings_from_date  5150 non-null   datetime64[ns]\n",
      " 6   earnings_to_date    5150 non-null   datetime64[ns]\n",
      "dtypes: datetime64[ns](4), int64(2), object(1)\n",
      "memory usage: 425.9+ KB\n"
     ]
    }
   ],
   "source": [
    "summary.info()"
   ]
  },
  {
   "cell_type": "markdown",
   "metadata": {
    "cell_id": "00009-ce60701e-d7b7-4120-b086-e9d3abd823a4",
    "deepnote_cell_type": "markdown",
    "papermill": {
     "duration": 0.028155,
     "end_time": "2021-01-21T02:32:18.930020",
     "exception": false,
     "start_time": "2021-01-21T02:32:18.901865",
     "status": "completed"
    },
    "tags": []
   },
   "source": [
    "We have the correct data type for each column. \n",
    "\n",
    "Since we have 7786 entries and there are only 5150 non-null entries in the `earnings_from_date`\n",
    "and `earnings_to_date`, these two columns have missing data. \n",
    "It's important to deal with them before our analysis because they will raise errors \n",
    "during the process of combining `summary` dataset with `earnings` dataset later on.\n",
    "\n",
    "Since `total_prices` and `total_earnings` from the summary table don't have any missing values. \n",
    "We can start our analysis. "
   ]
  },
  {
   "cell_type": "markdown",
   "metadata": {
    "cell_id": "00016-c146c7ee-e5fa-43fd-a13f-ae099f126221",
    "deepnote_cell_type": "markdown",
    "papermill": {
     "duration": 0.025699,
     "end_time": "2021-01-21T02:32:18.981463",
     "exception": false,
     "start_time": "2021-01-21T02:32:18.955764",
     "status": "completed"
    },
    "tags": []
   },
   "source": [
    "### Examine the distribution of `stock_from_date` across different years:\n",
    "\n",
    "We want to find if there is a pattern in the distribution of `stock_from_date` across different years \n",
    "and check if there is some abnomalities for this distribution. "
   ]
  },
  {
   "cell_type": "code",
   "execution_count": 5,
   "metadata": {
    "_kg_hide-input": true,
    "cell_id": "00017-39d9cad8-ad43-4294-9b09-ce46db15c158",
    "deepnote_cell_type": "code",
    "deepnote_to_be_reexecuted": false,
    "execution": {
     "iopub.execute_input": "2021-01-21T02:32:19.043050Z",
     "iopub.status.busy": "2021-01-21T02:32:19.041207Z",
     "iopub.status.idle": "2021-01-21T02:32:19.704946Z",
     "shell.execute_reply": "2021-01-21T02:32:19.704342Z"
    },
    "execution_millis": 581,
    "execution_start": 1611116810394,
    "papermill": {
     "duration": 0.697191,
     "end_time": "2021-01-21T02:32:19.705072",
     "exception": false,
     "start_time": "2021-01-21T02:32:19.007881",
     "status": "completed"
    },
    "source_hash": "fbc52ae3",
    "tags": []
   },
   "outputs": [
    {
     "data": {
      "text/plain": [
       "(array([ 0,  1,  2,  3,  4,  5,  6,  7,  8,  9, 10, 11, 12, 13, 14, 15, 16,\n",
       "        17, 18, 19, 20, 21, 22]),\n",
       " <a list of 23 Text major ticklabel objects>)"
      ]
     },
     "execution_count": 5,
     "metadata": {},
     "output_type": "execute_result"
    },
    {
     "data": {
      "image/png": "[encoded data removed]",
      "text/plain": [
       "<Figure size 432x288 with 1 Axes>"
      ]
     },
     "metadata": {
      "needs_background": "light"
     },
     "output_type": "display_data"
    }
   ],
   "source": [
    "summary['stock_from_year'] = summary.apply(lambda row: row['stock_from_date'].year, axis=1)\n",
    "df = summary['stock_from_year'].value_counts().rename_axis('year').reset_index(name='counts')\n",
    "df.set_index('year').sort_values(by=['year']).plot(kind='bar', legend=None)\n",
    "plt.xlabel('Year')\n",
    "plt.ylabel('frequency')\n",
    "plt.title('Histogram of stock_from_date column')\n",
    "plt.xticks(rotation=45)"
   ]
  },
  {
   "cell_type": "markdown",
   "metadata": {
    "cell_id": "00018-c47769c9-0193-4d83-ab8f-1c2f330aecf7",
    "deepnote_cell_type": "markdown",
    "papermill": {
     "duration": 0.029776,
     "end_time": "2021-01-21T02:32:19.765301",
     "exception": false,
     "start_time": "2021-01-21T02:32:19.735525",
     "status": "completed"
    },
    "tags": []
   },
   "source": [
    "Based on the plot: \n",
    "* A major outlier occurs in 1998. \n",
    "This could be explained by the limitation of the dataset in which it contains stocks around \n",
    "the 20-year period. \n",
    "`stock_from_date` column of stocks that were listed before 1998 is censored. \n",
    "* The trend of the number of companies being listed on the market across different years. \n",
    "It has a general upward trend until declining in 2019 and 2020. \n",
    "* The global financial crisis was the major factor that contribute to the drop-off in the number of IPOs \n",
    "in 2008 and 2009. \n",
    "* The global pandanmic was the major reason to the drop-off in the number of IPOs in 2019 and 2020.\n"
   ]
  },
  {
   "cell_type": "markdown",
   "metadata": {
    "cell_id": "00019-4479d8a3-197b-4b79-92f9-09a9288319c6",
    "deepnote_cell_type": "markdown",
    "papermill": {
     "duration": 0.026732,
     "end_time": "2021-01-21T02:32:19.819025",
     "exception": false,
     "start_time": "2021-01-21T02:32:19.792293",
     "status": "completed"
    },
    "tags": []
   },
   "source": [
    "#### Investigate further into the distribution of `stock_from_date` across different quarter:\n",
    "We want to see if seasonality plays a part in the number of IPOs across time. We selected 'quarter' \n",
    "as the granularity of time. "
   ]
  },
  {
   "cell_type": "code",
   "execution_count": 6,
   "metadata": {
    "_kg_hide-input": true,
    "cell_id": "00020-eb23993a-d0cc-44db-b205-ac609f7babd9",
    "deepnote_cell_type": "code",
    "deepnote_to_be_reexecuted": false,
    "execution": {
     "iopub.execute_input": "2021-01-21T02:32:19.882505Z",
     "iopub.status.busy": "2021-01-21T02:32:19.881431Z",
     "iopub.status.idle": "2021-01-21T02:32:20.286076Z",
     "shell.execute_reply": "2021-01-21T02:32:20.285118Z"
    },
    "execution_millis": 387,
    "execution_start": 1611116783677,
    "papermill": {
     "duration": 0.440105,
     "end_time": "2021-01-21T02:32:20.286236",
     "exception": false,
     "start_time": "2021-01-21T02:32:19.846131",
     "status": "completed"
    },
    "source_hash": "e5ab6005",
    "tags": []
   },
   "outputs": [
    {
     "data": {
      "text/plain": [
       "(array([0, 1, 2, 3]), <a list of 4 Text major ticklabel objects>)"
      ]
     },
     "execution_count": 6,
     "metadata": {},
     "output_type": "execute_result"
    },
    {
     "data": {
      "image/png": "[encoded data removed]",
      "text/plain": [
       "<Figure size 432x288 with 1 Axes>"
      ]
     },
     "metadata": {
      "needs_background": "light"
     },
     "output_type": "display_data"
    }
   ],
   "source": [
    "summary['stock_from_quarter'] = summary.apply(lambda row: row['stock_from_date'].quarter, axis=1)\n",
    "df = summary['stock_from_quarter'].value_counts().rename_axis('quarter').reset_index(name='counts')\n",
    "df.set_index('quarter').sort_values(by=['quarter']).plot(kind='bar', legend=None)\n",
    "plt.xlabel('quarter')\n",
    "plt.ylabel('frequency')\n",
    "plt.title('Histogram of stock_from_date column group by quarter')\n",
    "plt.xticks(rotation=45)"
   ]
  },
  {
   "cell_type": "markdown",
   "metadata": {
    "cell_id": "00021-4badcd46-5bec-4dcb-a76a-a860597f5fc2",
    "deepnote_cell_type": "markdown",
    "papermill": {
     "duration": 0.031731,
     "end_time": "2021-01-21T02:32:20.351632",
     "exception": false,
     "start_time": "2021-01-21T02:32:20.319901",
     "status": "completed"
    },
    "tags": []
   },
   "source": [
    "According to the bar chart above, the first quarter seems to have twice as many total_prices as other quarters, which is irregular in the datasets. Our explanation for this to happen is that `stock_from_year` equals to 1998 has a major impact on the distribution of `total_prices` across different quarters.\n",
    "\n",
    "We will try to validate this by filtering out the `total_prices` that are in 1998 and see how the bar chart looks without them:"
   ]
  },
  {
   "cell_type": "code",
   "execution_count": 7,
   "metadata": {
    "_kg_hide-input": true,
    "cell_id": "00022-bb012265-60e1-4d21-a1f9-5c7ed1774a6b",
    "deepnote_cell_type": "code",
    "deepnote_to_be_reexecuted": false,
    "execution": {
     "iopub.execute_input": "2021-01-21T02:32:20.423257Z",
     "iopub.status.busy": "2021-01-21T02:32:20.422446Z",
     "iopub.status.idle": "2021-01-21T02:32:20.596412Z",
     "shell.execute_reply": "2021-01-21T02:32:20.596982Z"
    },
    "execution_millis": 139,
    "execution_start": 1611116784084,
    "papermill": {
     "duration": 0.21425,
     "end_time": "2021-01-21T02:32:20.597182",
     "exception": false,
     "start_time": "2021-01-21T02:32:20.382932",
     "status": "completed"
    },
    "source_hash": "c5cf37ca",
    "tags": []
   },
   "outputs": [
    {
     "data": {
      "text/plain": [
       "(array([0, 1, 2, 3]), <a list of 4 Text major ticklabel objects>)"
      ]
     },
     "execution_count": 7,
     "metadata": {},
     "output_type": "execute_result"
    },
    {
     "data": {
      "image/png": "[encoded data removed]",
      "text/plain": [
       "<Figure size 432x288 with 1 Axes>"
      ]
     },
     "metadata": {
      "needs_background": "light"
     },
     "output_type": "display_data"
    }
   ],
   "source": [
    "summary_ = summary[summary['stock_from_year'] != 1998]\n",
    "df = summary_['stock_from_quarter'].value_counts().rename_axis('quarter').reset_index(name='counts')\n",
    "df.set_index('quarter').sort_values(by=['quarter']).plot(kind='bar', legend=None)\n",
    "plt.xlabel('quarter')\n",
    "plt.ylabel('frequency')\n",
    "plt.title('Histogram of stock_from_date column group by quarter')\n",
    "plt.xticks(rotation=45)"
   ]
  },
  {
   "cell_type": "markdown",
   "metadata": {
    "cell_id": "00023-86c6e91b-142c-4fab-9b1c-a992cc40e6e6",
    "deepnote_cell_type": "markdown",
    "papermill": {
     "duration": 0.028856,
     "end_time": "2021-01-21T02:32:20.655400",
     "exception": false,
     "start_time": "2021-01-21T02:32:20.626544",
     "status": "completed"
    },
    "tags": []
   },
   "source": [
    "Without the interferencing from `total_prices` in 1998, we can see `total_prices` are evenly distributed in different quarters. If we want to use `total_prices` from 1998, we might have to sample some of them to make sure that `total_prices` from 1998 don't weight too much in our analysis."
   ]
  },
  {
   "cell_type": "markdown",
   "metadata": {
    "cell_id": "00024-515685bb-0d33-45ed-ad55-afc1813fddeb",
    "deepnote_cell_type": "markdown",
    "papermill": {
     "duration": 0.029446,
     "end_time": "2021-01-21T02:32:20.714386",
     "exception": false,
     "start_time": "2021-01-21T02:32:20.684940",
     "status": "completed"
    },
    "tags": []
   },
   "source": [
    "### Examine the distribution of `earnings_from_date` across year:\n",
    "We want to see if there is any irregularities in the distribution of `earnings_from_date` across\n",
    "different years."
   ]
  },
  {
   "cell_type": "code",
   "execution_count": 8,
   "metadata": {
    "cell_id": "00025-d98781e3-605f-491b-9d85-c32a08937d13",
    "deepnote_cell_type": "code",
    "deepnote_to_be_reexecuted": false,
    "execution": {
     "iopub.execute_input": "2021-01-21T02:32:20.777816Z",
     "iopub.status.busy": "2021-01-21T02:32:20.777139Z",
     "iopub.status.idle": "2021-01-21T02:32:20.783966Z",
     "shell.execute_reply": "2021-01-21T02:32:20.783451Z"
    },
    "execution_millis": 6,
    "execution_start": 1611116784227,
    "papermill": {
     "duration": 0.040017,
     "end_time": "2021-01-21T02:32:20.784092",
     "exception": false,
     "start_time": "2021-01-21T02:32:20.744075",
     "status": "completed"
    },
    "source_hash": "35428c4",
    "tags": []
   },
   "outputs": [
    {
     "data": {
      "text/plain": [
       "Timestamp('2009-04-16 00:00:00')"
      ]
     },
     "execution_count": 8,
     "metadata": {},
     "output_type": "execute_result"
    }
   ],
   "source": [
    "summary['earnings_from_date'].min()"
   ]
  },
  {
   "cell_type": "markdown",
   "metadata": {
    "cell_id": "00026-99b5f299-c736-407b-ad42-63946b9015ae",
    "deepnote_cell_type": "markdown",
    "papermill": {
     "duration": 0.029102,
     "end_time": "2021-01-21T02:32:20.843048",
     "exception": false,
     "start_time": "2021-01-21T02:32:20.813946",
     "status": "completed"
    },
    "tags": []
   },
   "source": [
    "The limitation of the dataset from the `summary` dataset is that it only contains earnings \n",
    "for stocks since 2009. That is the earliest time available for analysis was in 2009 compared \n",
    "to 1998 (the earliest time for `stock_from_year` in the previous analysis)."
   ]
  },
  {
   "cell_type": "code",
   "execution_count": 9,
   "metadata": {
    "cell_id": "00025-6ff9c779-65ec-49b4-af1a-8b983841dd21",
    "deepnote_cell_type": "code",
    "deepnote_to_be_reexecuted": false,
    "execution": {
     "iopub.execute_input": "2021-01-21T02:32:20.910545Z",
     "iopub.status.busy": "2021-01-21T02:32:20.909556Z",
     "iopub.status.idle": "2021-01-21T02:32:20.912824Z",
     "shell.execute_reply": "2021-01-21T02:32:20.912307Z"
    },
    "execution_millis": 6,
    "execution_start": 1611116784235,
    "papermill": {
     "duration": 0.040303,
     "end_time": "2021-01-21T02:32:20.912939",
     "exception": false,
     "start_time": "2021-01-21T02:32:20.872636",
     "status": "completed"
    },
    "source_hash": "46792cd2",
    "tags": []
   },
   "outputs": [],
   "source": [
    "# Create a new dataframe, containing the actual IPOs in a year since 2009\n",
    "# Sources: https://stockanalysis.com/ipos/statistics/\n",
    "year_range = np.arange(2009,2021,1)\n",
    "ipos = [79,190,171,157,251,304,206,133,217,255,233,480]\n",
    "ipo = pd.DataFrame({'year' : year_range, 'ipos':ipos})"
   ]
  },
  {
   "cell_type": "code",
   "execution_count": 10,
   "metadata": {
    "cell_id": "00025-122364ad-8c6e-473b-bae0-8d3874b2a9e3",
    "deepnote_cell_type": "code",
    "deepnote_to_be_reexecuted": false,
    "execution": {
     "iopub.execute_input": "2021-01-21T02:32:21.001111Z",
     "iopub.status.busy": "2021-01-21T02:32:20.985511Z",
     "iopub.status.idle": "2021-01-21T02:32:21.315249Z",
     "shell.execute_reply": "2021-01-21T02:32:21.314533Z"
    },
    "execution_millis": 194,
    "execution_start": 1611116784245,
    "papermill": {
     "duration": 0.372732,
     "end_time": "2021-01-21T02:32:21.315367",
     "exception": false,
     "start_time": "2021-01-21T02:32:20.942635",
     "status": "completed"
    },
    "source_hash": "87ac5b24",
    "tags": []
   },
   "outputs": [],
   "source": [
    "summary['earnings_from_year'] = summary.apply(lambda row: row['earnings_from_date'].year, axis=1)\n",
    "df = summary['earnings_from_year'].value_counts().rename_axis('year').reset_index(name='counts')\n",
    "df['year'] = df['year'].astype(int)\n",
    "df = df.set_index('year').sort_values(by=['year'])"
   ]
  },
  {
   "cell_type": "code",
   "execution_count": 11,
   "metadata": {
    "_kg_hide-input": true,
    "cell_id": "00027-4946cffb-bc41-4e7a-837c-4a23cb5e3332",
    "deepnote_cell_type": "code",
    "deepnote_to_be_reexecuted": false,
    "execution": {
     "iopub.execute_input": "2021-01-21T02:32:21.401261Z",
     "iopub.status.busy": "2021-01-21T02:32:21.395706Z",
     "iopub.status.idle": "2021-01-21T02:32:21.607047Z",
     "shell.execute_reply": "2021-01-21T02:32:21.606284Z"
    },
    "execution_millis": 316,
    "execution_start": 1611116784447,
    "papermill": {
     "duration": 0.26172,
     "end_time": "2021-01-21T02:32:21.607233",
     "exception": false,
     "start_time": "2021-01-21T02:32:21.345513",
     "status": "completed"
    },
    "source_hash": "954e913",
    "tags": []
   },
   "outputs": [
    {
     "data": {
      "text/plain": [
       "<matplotlib.lines.Line2D at 0x7fe5b8adb8d0>"
      ]
     },
     "execution_count": 11,
     "metadata": {},
     "output_type": "execute_result"
    },
    {
     "data": {
      "image/png": "[encoded data removed]",
      "text/plain": [
       "<Figure size 432x288 with 1 Axes>"
      ]
     },
     "metadata": {
      "needs_background": "light"
     },
     "output_type": "display_data"
    }
   ],
   "source": [
    "comp = pd.merge(ipo, df, on=\"year\")\n",
    "comp['diff'] = comp['ipos'] - comp['counts']\n",
    "comp = comp[['year','diff']]\n",
    "comp = comp.set_index('year')\n",
    "comp = comp.iloc[1:,:]\n",
    "comp.plot(kind='bar', legend=None)\n",
    "plt.xticks(rotation=45)\n",
    "plt.ylabel('number of IPOs reported')\n",
    "plt.title('Difference in Number of IPOs')\n",
    "plt.axhline(y=0, linewidth=0.5, color='black')"
   ]
  },
  {
   "cell_type": "markdown",
   "metadata": {
    "cell_id": "00026-3f2a355d-c081-4ae9-9726-fc75001645a4",
    "deepnote_cell_type": "markdown",
    "papermill": {
     "duration": 0.034547,
     "end_time": "2021-01-21T02:32:21.676620",
     "exception": false,
     "start_time": "2021-01-21T02:32:21.642073",
     "status": "completed"
    },
    "tags": []
   },
   "source": [
    "In order to check the completeness of the summary dataset, we crossed check the\n",
    "data provided with another online source: https://stockanalysis.com/ipos/statistics/.\n",
    "\n",
    "The bar chart above shows the different in the number of IPOs the summary data provides and \n",
    "the number of actual IPOs the alternative source provides.\n",
    "\n",
    "We filtered out data from 2009 because the data before 2009 is censored. \n",
    "We notice that the data from the `summary` dataset has some inconsistencies with the actual number\n",
    "of IPOs throughout the years. \n",
    "\n",
    "We have to note that the `summary` dataset is not the complete representation of stocks throughout\n",
    "the years. It's an open question to anyone who are interested in this dataset to investigate this further."
   ]
  },
  {
   "cell_type": "markdown",
   "metadata": {
    "cell_id": "00027-5a1c156c-3983-4521-8902-11c176c301df",
    "deepnote_cell_type": "markdown",
    "papermill": {
     "duration": 0.031833,
     "end_time": "2021-01-21T02:32:21.743234",
     "exception": false,
     "start_time": "2021-01-21T02:32:21.711401",
     "status": "completed"
    },
    "tags": []
   },
   "source": [
    "#### Investigate further into the distribution of `earnings_from_date` across weekdays:\n",
    "We want to see if there is a general trend of `earnings_from_date` across different time granularity, such as \n",
    "weekdays. It's more likely for companies to continue announcing their earnings on a specific \n",
    "weekday after making the first announcement on that weekday."
   ]
  },
  {
   "cell_type": "code",
   "execution_count": 12,
   "metadata": {
    "_kg_hide-input": true,
    "cell_id": "00028-11a95987-bff3-4efd-b6a3-e8ebd392244c",
    "deepnote_cell_type": "code",
    "deepnote_to_be_reexecuted": false,
    "execution": {
     "iopub.execute_input": "2021-01-21T02:32:21.816322Z",
     "iopub.status.busy": "2021-01-21T02:32:21.815313Z",
     "iopub.status.idle": "2021-01-21T02:32:22.229287Z",
     "shell.execute_reply": "2021-01-21T02:32:22.228242Z"
    },
    "execution_millis": 543,
    "execution_start": 1611116784766,
    "papermill": {
     "duration": 0.453812,
     "end_time": "2021-01-21T02:32:22.229415",
     "exception": false,
     "start_time": "2021-01-21T02:32:21.775603",
     "status": "completed"
    },
    "source_hash": "d1c1136b",
    "tags": []
   },
   "outputs": [
    {
     "data": {
      "text/plain": [
       "(array([0, 1, 2, 3, 4, 5, 6]), <a list of 7 Text major ticklabel objects>)"
      ]
     },
     "execution_count": 12,
     "metadata": {},
     "output_type": "execute_result"
    },
    {
     "data": {
      "image/png": "[encoded data removed]",
      "text/plain": [
       "<Figure size 432x288 with 1 Axes>"
      ]
     },
     "metadata": {
      "needs_background": "light"
     },
     "output_type": "display_data"
    }
   ],
   "source": [
    "summary['earnings_from_weekday'] = summary.apply(lambda row: row['earnings_from_date'].weekday(), axis=1)\n",
    "df = summary['earnings_from_weekday'].value_counts().rename_axis('weekday').reset_index(name='counts')\n",
    "df = df.set_index('weekday').sort_values(by=['weekday'])\n",
    "df.rename(index={0.0:'Monday',1.0:'Tuesday',2.0:'Wednesday',3.0:'Thursday',4.0:'Friday',5.0:'Saturday',6.0:'Sunday'},inplace=True)\n",
    "df.plot(kind='bar', legend=None)\n",
    "plt.xticks(rotation=45)"
   ]
  },
  {
   "cell_type": "markdown",
   "metadata": {
    "cell_id": "00029-6f99ec2e-7a9f-408c-b47f-bfde9b7f295b",
    "deepnote_cell_type": "markdown",
    "papermill": {
     "duration": 0.032415,
     "end_time": "2021-01-21T02:32:22.294503",
     "exception": false,
     "start_time": "2021-01-21T02:32:22.262088",
     "status": "completed"
    },
    "tags": []
   },
   "source": [
    "Based on the distribution of `earnings_from_date` across weekdays, \n",
    "we can see that most of the companies in our datasets report their **first** earnings on a Thursday.\n",
    "Starting with Monday, more and more companies report their earnings throughout the week. \n",
    "We have also notice that fewer companies reported their earnings on a Friday in the time \n",
    "frame of this dataset. \n",
    "And almost no companies reported their earnings on weekends except few companies on Saturday, \n",
    "which we may have to look into why they reported their earnings on a Saturday.\n",
    "\n",
    "Since companies from 2009 may have a huge weight in this plot, \n",
    "we are going to eliminate those companies and see how the distribution look like:"
   ]
  },
  {
   "cell_type": "code",
   "execution_count": 13,
   "metadata": {
    "_kg_hide-input": true,
    "cell_id": "00030-46a120bc-eb5b-47ad-85e5-3aa7a73b37a6",
    "deepnote_cell_type": "code",
    "deepnote_to_be_reexecuted": false,
    "execution": {
     "iopub.execute_input": "2021-01-21T02:32:22.388401Z",
     "iopub.status.busy": "2021-01-21T02:32:22.387363Z",
     "iopub.status.idle": "2021-01-21T02:32:22.915573Z",
     "shell.execute_reply": "2021-01-21T02:32:22.914973Z"
    },
    "execution_millis": 483,
    "execution_start": 1611116785316,
    "papermill": {
     "duration": 0.580301,
     "end_time": "2021-01-21T02:32:22.915684",
     "exception": false,
     "start_time": "2021-01-21T02:32:22.335383",
     "status": "completed"
    },
    "source_hash": "1cc360d7",
    "tags": []
   },
   "outputs": [
    {
     "data": {
      "text/plain": [
       "(array([0, 1, 2, 3, 4, 5, 6]), <a list of 7 Text major ticklabel objects>)"
      ]
     },
     "execution_count": 13,
     "metadata": {},
     "output_type": "execute_result"
    },
    {
     "data": {
      "image/png": "[encoded data removed]",
      "text/plain": [
       "<Figure size 432x288 with 1 Axes>"
      ]
     },
     "metadata": {
      "needs_background": "light"
     },
     "output_type": "display_data"
    }
   ],
   "source": [
    "summary['earnings_from_year'] = summary.apply(lambda row: row['earnings_from_date'].year, axis=1)\n",
    "summary_ = summary[summary['earnings_from_year'] != 2009]\n",
    "df = summary_['earnings_from_weekday'].value_counts().rename_axis('weekday').reset_index(name='counts')\n",
    "df = df.set_index('weekday').sort_values(by=['weekday'])\n",
    "df.rename(index={0.0:'Monday',1.0:'Tuesday',2.0:'Wednesday',3.0:'Thursday',4.0:'Friday',5.0:'Saturday',6.0:'Sunday'},inplace=True)\n",
    "df.plot(kind='bar', legend=None)\n",
    "plt.xticks(rotation=45)"
   ]
  },
  {
   "cell_type": "markdown",
   "metadata": {
    "cell_id": "00031-a1979848-bb89-440b-a369-ac6d078d2f3c",
    "deepnote_cell_type": "markdown",
    "papermill": {
     "duration": 0.03308,
     "end_time": "2021-01-21T02:32:22.983060",
     "exception": false,
     "start_time": "2021-01-21T02:32:22.949980",
     "status": "completed"
    },
    "tags": []
   },
   "source": [
    "We don't see much change in the distribution of `total_earnings` across weekdays change\n",
    "much after we filter out companies with `total_earnings` from 2009.\n",
    "\n",
    "Since `earnings_from_date` column only provides the first earnings release date for\n",
    "a specific company, we have to use `earnings` dataset to see if there is a pattern in the \n",
    "weekday when companies release their earnings."
   ]
  },
  {
   "cell_type": "markdown",
   "metadata": {
    "cell_id": "00037-b29c1319-77ae-4f5b-b0b6-47b0777bdd81",
    "deepnote_cell_type": "markdown",
    "papermill": {
     "duration": 0.032934,
     "end_time": "2021-01-21T02:32:23.049477",
     "exception": false,
     "start_time": "2021-01-21T02:32:23.016543",
     "status": "completed"
    },
    "tags": []
   },
   "source": [
    "### Examine the distribution of `total_prices` column\n",
    "We want to understand the distribution of `total_prices` to see if there are any irregularities\n",
    "we have to address."
   ]
  },
  {
   "cell_type": "code",
   "execution_count": 14,
   "metadata": {
    "_kg_hide-input": true,
    "cell_id": "00037-afb2a565-ad3c-423b-8e01-b39adb123d6d",
    "deepnote_cell_type": "code",
    "deepnote_to_be_reexecuted": false,
    "execution": {
     "iopub.execute_input": "2021-01-21T02:32:23.127572Z",
     "iopub.status.busy": "2021-01-21T02:32:23.126850Z",
     "iopub.status.idle": "2021-01-21T02:32:23.309094Z",
     "shell.execute_reply": "2021-01-21T02:32:23.309596Z"
    },
    "execution_millis": 187,
    "execution_start": 1611116785804,
    "papermill": {
     "duration": 0.226692,
     "end_time": "2021-01-21T02:32:23.309767",
     "exception": false,
     "start_time": "2021-01-21T02:32:23.083075",
     "status": "completed"
    },
    "source_hash": "67a06919",
    "tags": []
   },
   "outputs": [
    {
     "data": {
      "text/plain": [
       "Text(0.5, 1.0, 'Histogram of total_prices column')"
      ]
     },
     "execution_count": 14,
     "metadata": {},
     "output_type": "execute_result"
    },
    {
     "data": {
      "image/png": "[encoded data removed]",
      "text/plain": [
       "<Figure size 432x288 with 1 Axes>"
      ]
     },
     "metadata": {
      "needs_background": "light"
     },
     "output_type": "display_data"
    }
   ],
   "source": [
    "summary['total_prices'].hist()\n",
    "plt.xlabel('total_prices')\n",
    "plt.ylabel('frequency')\n",
    "plt.title('Histogram of total_prices column')"
   ]
  },
  {
   "cell_type": "markdown",
   "metadata": {
    "cell_id": "00039-84be4b83-d2a2-49eb-abce-41f93fb74656",
    "deepnote_cell_type": "markdown",
    "papermill": {
     "duration": 0.034534,
     "end_time": "2021-01-21T02:32:23.379493",
     "exception": false,
     "start_time": "2021-01-21T02:32:23.344959",
     "status": "completed"
    },
    "tags": []
   },
   "source": [
    "There are a number of takeaways from this chart:\n",
    "\n",
    "* `total_prices` is bimodal, with concentrations at 0 and 5500.\n",
    "* The mode at 0 is due to the fact these stocks do not have price data.\n",
    "* The mode at 5500 is due to the fact that our dataset begins in 1998, \n",
    "so securities that have price data before that are censored.\n",
    "\n",
    "We identified the `total_price` column to be right-censored.\n",
    "The censoring of the data is a potential issue because the observed value of the \n",
    "`total_prices` is partially known. In this case, we don't know the price of stocks before 1998. "
   ]
  },
  {
   "cell_type": "markdown",
   "metadata": {
    "cell_id": "00040-3f4f8d46-2f08-400e-8846-8905dc7fe1fc",
    "deepnote_cell_type": "markdown",
    "papermill": {
     "duration": 0.035281,
     "end_time": "2021-01-21T02:32:23.449502",
     "exception": false,
     "start_time": "2021-01-21T02:32:23.414221",
     "status": "completed"
    },
    "tags": []
   },
   "source": [
    "### Examine the distribution of `total_earnings` column\n",
    "We want to understand the distribution of `total_earnings` to see if there are any irregularities\n",
    "we have to address."
   ]
  },
  {
   "cell_type": "code",
   "execution_count": 15,
   "metadata": {
    "_kg_hide-input": true,
    "cell_id": "00041-b1fb37d7-0b10-4a5a-88ff-da68519b0a10",
    "deepnote_cell_type": "code",
    "deepnote_to_be_reexecuted": false,
    "execution": {
     "iopub.execute_input": "2021-01-21T02:32:23.522792Z",
     "iopub.status.busy": "2021-01-21T02:32:23.522095Z",
     "iopub.status.idle": "2021-01-21T02:32:23.717017Z",
     "shell.execute_reply": "2021-01-21T02:32:23.716344Z"
    },
    "execution_millis": 186,
    "execution_start": 1611116786007,
    "papermill": {
     "duration": 0.232681,
     "end_time": "2021-01-21T02:32:23.717124",
     "exception": false,
     "start_time": "2021-01-21T02:32:23.484443",
     "status": "completed"
    },
    "source_hash": "a9f91a3c",
    "tags": []
   },
   "outputs": [
    {
     "data": {
      "text/plain": [
       "Text(0.5, 1.0, 'Histogram of total_earnings column')"
      ]
     },
     "execution_count": 15,
     "metadata": {},
     "output_type": "execute_result"
    },
    {
     "data": {
      "image/png": "[encoded data removed]",
      "text/plain": [
       "<Figure size 432x288 with 1 Axes>"
      ]
     },
     "metadata": {
      "needs_background": "light"
     },
     "output_type": "display_data"
    }
   ],
   "source": [
    "summary['total_earnings'].hist()\n",
    "plt.xlabel('total_earnings')\n",
    "plt.ylabel('frequency')\n",
    "plt.title('Histogram of total_earnings column')"
   ]
  },
  {
   "cell_type": "markdown",
   "metadata": {
    "cell_id": "00042-986f0e67-0ea2-4d42-a732-751a512385a2",
    "deepnote_cell_type": "markdown",
    "papermill": {
     "duration": 0.036073,
     "end_time": "2021-01-21T02:32:23.789446",
     "exception": false,
     "start_time": "2021-01-21T02:32:23.753373",
     "status": "completed"
    },
    "tags": []
   },
   "source": [
    "There are a number of takeaways from this chart:\n",
    "* `total_earnings` is bimodal with two concentrations at 0 and 45. \n",
    "* The peak at 45 represents the number of companies that we have all of their earnings data\n",
    "in the time slot of the dataset\n",
    "* The peak at 0 says that there are a lot of companies that have very limited number of\n",
    "earnings available for our analysis. \n",
    "\n",
    "We consider a cut-off point where we can obtain companies with enough earnings for analysis. "
   ]
  },
  {
   "cell_type": "markdown",
   "metadata": {
    "cell_id": "00032-86634f74-a5fd-4838-92db-dc12a1e4d681",
    "deepnote_cell_type": "markdown",
    "papermill": {
     "duration": 0.035767,
     "end_time": "2021-01-21T02:32:23.861057",
     "exception": false,
     "start_time": "2021-01-21T02:32:23.825290",
     "status": "completed"
    },
    "tags": []
   },
   "source": [
    "### Examine the joint distribution of `earnings_from_date` and `stock_from_date`\n",
    "Since we can't make joint distribution from datetime objects, we will transform these two columns into `earnings_years` and `stock_years`, which corresponding to the number of days since."
   ]
  },
  {
   "cell_type": "code",
   "execution_count": 16,
   "metadata": {
    "_kg_hide-input": true,
    "cell_id": "00033-3e7fac7c-9306-4ac1-9c9d-4ef45106c3f9",
    "deepnote_cell_type": "code",
    "deepnote_to_be_reexecuted": false,
    "execution": {
     "iopub.execute_input": "2021-01-21T02:32:23.943261Z",
     "iopub.status.busy": "2021-01-21T02:32:23.941827Z",
     "iopub.status.idle": "2021-01-21T02:32:29.715063Z",
     "shell.execute_reply": "2021-01-21T02:32:29.715592Z"
    },
    "execution_millis": 6611,
    "execution_start": 1611116915894,
    "papermill": {
     "duration": 5.818726,
     "end_time": "2021-01-21T02:32:29.715761",
     "exception": false,
     "start_time": "2021-01-21T02:32:23.897035",
     "status": "completed"
    },
    "source_hash": "e9bc6cca",
    "tags": []
   },
   "outputs": [
    {
     "data": {
      "text/plain": [
       "<seaborn.axisgrid.JointGrid at 0x7fe5b8adb810>"
      ]
     },
     "execution_count": 16,
     "metadata": {},
     "output_type": "execute_result"
    },
    {
     "data": {
      "image/png": "[encoded data removed]",
      "text/plain": [
       "<Figure size 432x432 with 3 Axes>"
      ]
     },
     "metadata": {
      "needs_background": "light"
     },
     "output_type": "display_data"
    }
   ],
   "source": [
    "summary['earnings_years'] = datetime.datetime.now() - summary['earnings_from_date']\n",
    "summary['earnings_years'] = summary.apply(lambda row: row['earnings_years'].days / 365, axis=1)\n",
    "summary['stock_years'] = datetime.datetime.now() - summary['stock_from_date']\n",
    "summary['stock_years'] = summary.apply(lambda row: row['stock_years'].days / 365, axis=1)\n",
    "sns.jointplot(data=summary,x='stock_years',y='earnings_years', kind='kde')"
   ]
  },
  {
   "cell_type": "markdown",
   "metadata": {
    "cell_id": "00034-a1308f54-2111-48bf-8986-f6769b92c43e",
    "deepnote_cell_type": "markdown",
    "papermill": {
     "duration": 0.038006,
     "end_time": "2021-01-21T02:32:29.791101",
     "exception": false,
     "start_time": "2021-01-21T02:32:29.753095",
     "status": "completed"
    },
    "tags": []
   },
   "source": [
    "One thing to note before going into the takeaways from this plot is that the contour plot goes\n",
    "into the negative territory for a specific region. This is one of the limitations of the kde plot\n",
    "because of the concentration of data points in that region. \n",
    "\n",
    "There are several takeaways from this joint plot:\n",
    "* It's been around 12 years since most of the earnings are started to be reported \n",
    "* It's been around 25 years since most of the prices are started to be reported in these datasets. \n",
    "* The discrepancy in the two bullet points above means that we don't necessarily have \n",
    "earnings and price data for a period of time. \n",
    "* For our analysis, we need both earnings and price data of a particular stock to measure the \n",
    "price leading up to the earnings announcement and the reaction of the stock prices after the \n",
    "earnings announcement. "
   ]
  },
  {
   "cell_type": "markdown",
   "metadata": {
    "cell_id": "00035-b109c1cd-83fd-400e-bbf7-9cebd427dbbc",
    "deepnote_cell_type": "markdown",
    "papermill": {
     "duration": 0.037494,
     "end_time": "2021-01-21T02:32:29.865840",
     "exception": false,
     "start_time": "2021-01-21T02:32:29.828346",
     "status": "completed"
    },
    "tags": []
   },
   "source": [
    "### Examine joint distribution of `total_prices` and `total_earnings`\n",
    "To find out the distribution for earnings and prices at the same time, \n",
    "we decided to use the joint distribution to plot earnings and prices on the same plot. \n",
    "We decided to use hex plot just because there might be some misunderstanding for negative \n",
    "values in the previous contour plot.\n",
    "\n",
    "We expect a positive relationship between `total_prices` and `total_earnings` for this 20-year period. \n",
    "That is, a company with more `total_earnings` will have more `total_prices`. "
   ]
  },
  {
   "cell_type": "code",
   "execution_count": 17,
   "metadata": {
    "_kg_hide-input": true,
    "cell_id": "00036-800ba2a0-1d30-4d15-bdd9-29eda600d8e1",
    "deepnote_cell_type": "code",
    "deepnote_to_be_reexecuted": false,
    "execution": {
     "iopub.execute_input": "2021-01-21T02:32:29.944598Z",
     "iopub.status.busy": "2021-01-21T02:32:29.943970Z",
     "iopub.status.idle": "2021-01-21T02:32:30.749070Z",
     "shell.execute_reply": "2021-01-21T02:32:30.748536Z"
    },
    "execution_millis": 539,
    "execution_start": 1611116792583,
    "papermill": {
     "duration": 0.84573,
     "end_time": "2021-01-21T02:32:30.749183",
     "exception": false,
     "start_time": "2021-01-21T02:32:29.903453",
     "status": "completed"
    },
    "source_hash": "fcf42876",
    "tags": []
   },
   "outputs": [
    {
     "data": {
      "text/plain": [
       "Text(4300, 38, 'Group 3')"
      ]
     },
     "execution_count": 17,
     "metadata": {},
     "output_type": "execute_result"
    },
    {
     "data": {
      "image/png": "[encoded data removed]",
      "text/plain": [
       "<Figure size 432x432 with 3 Axes>"
      ]
     },
     "metadata": {
      "needs_background": "light"
     },
     "output_type": "display_data"
    }
   ],
   "source": [
    "g = sns.jointplot(data=summary,x='total_prices',y='total_earnings',kind='hex')\n",
    "ax = g.ax_joint\n",
    "ax.add_patch(Rectangle((4500, 35), 1500, 15, fill=False, edgecolor='red', lw=1))\n",
    "ax.add_patch(Rectangle((0, 0), 1500, 8, fill=False, edgecolor='red', lw=1))\n",
    "ax.add_patch(Rectangle((200, 10), 1800, 25, fill=False, edgecolor='red', lw=1))\n",
    "ax.text(1700, 2, \"Group 1\", horizontalalignment='left', size='medium', color='black', weight='semibold')\n",
    "ax.text(2300, 13, \"Group 2\", horizontalalignment='left', size='medium', color='black', weight='semibold')\n",
    "ax.text(4300, 38, \"Group 3\", horizontalalignment='right', size='medium', color='black', weight='semibold')"
   ]
  },
  {
   "cell_type": "markdown",
   "metadata": {
    "cell_id": "00037-396eec77-9772-43c8-b466-d229bb4a6bbd",
    "deepnote_cell_type": "markdown",
    "papermill": {
     "duration": 0.038387,
     "end_time": "2021-01-21T02:32:30.828878",
     "exception": false,
     "start_time": "2021-01-21T02:32:30.790491",
     "status": "completed"
    },
    "tags": []
   },
   "source": [
    "As you can see in the histograms on the top and on the side of the joint distribution, \n",
    "there are a large number of companies that have zero `total_prices` when the `total_earnings` \n",
    "is zero (Group 1). These records won't be helpful for our model.\n",
    "\n",
    "While we exclude the records where the `total_earnings` is not zero, `total_prices` caps at \n",
    "around 5500. This will useful because we can set a range where we only investigate stocks with \n",
    "more than a certain threshold of `total_prices`. We can filter out record below that threshold \n",
    "because they lack necessary information.\n",
    "\n",
    "According to the joint distribution, `total_prices` and `total_earnings` are not normally \n",
    "distributed, we can see distinct clusters at the bottom left (Group 1) and top right corners \n",
    "(Group 3). \n",
    "`total_earnings` has a bimodal distribution with two peaks at 0 and 45. \n",
    "`total_prices` has a bimodal distribution with two peaks at 0 and 5500. \n",
    "\n",
    "Most of the data fill into the Group 3 as we annotated on the plot, which we expect. \n",
    "This is because most of the companies have reported their earnings consistently. \n",
    "However, the cluster in the left corner is the abnormality we discovered from this plot. \n",
    "Those hex boxes don't have enough earnings nor prices available for analysis. \n",
    "\n",
    "An interesting trend can be seen from the plot where the `total_earnings` increase as \n",
    "the `total_earnings` increase (Group 2). \n",
    "A plausible explanation for this is that those companies went public later than 1998 and \n",
    "are on their way to join the majority of companies that have sound records. \n",
    "As time goes on, we expect the cluster at the right upper corner to move further and \n",
    "further away diagonally.\n",
    "\n",
    "In order to get the necessary data with enough records for analysis, \n",
    "we need to filter our data based on total_prices and total_earnings to get the companies that \n",
    "locate at the right upper corner of our joint distribution because they have enough \n",
    "`total_earnings` and `total_prices` for further analysis.\n"
   ]
  }
 ],
 "metadata": {
  "kernelspec": {
   "display_name": "Python 3",
   "language": "python",
   "name": "python3"
  },
  "language_info": {
   "codemirror_mode": {
    "name": "ipython",
    "version": 3
   },
   "file_extension": ".py",
   "mimetype": "text/x-python",
   "name": "python",
   "nbconvert_exporter": "python",
   "pygments_lexer": "ipython3",
   "version": "3.7.6"
  },
  "papermill": {
   "duration": 18.500788,
   "end_time": "2021-01-21T02:32:30.975082",
   "environment_variables": {},
   "exception": null,
   "input_path": "__notebook__.ipynb",
   "output_path": "__notebook__.ipynb",
   "parameters": {},
   "start_time": "2021-01-21T02:32:12.474294",
   "version": "2.1.0"
  }
 },
 "nbformat": 4,
 "nbformat_minor": 4
}
